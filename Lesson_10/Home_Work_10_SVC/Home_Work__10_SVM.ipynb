{
  "nbformat": 4,
  "nbformat_minor": 0,
  "metadata": {
    "colab": {
      "provenance": []
    },
    "kernelspec": {
      "name": "python3",
      "display_name": "Python 3"
    },
    "language_info": {
      "name": "python"
    }
  },
  "cells": [
    {
      "cell_type": "markdown",
      "source": [
        "Для стандартного датасету\n",
        "\n",
        "https://scikit-learn.org/stable/modules/generated/sklearn.datasets.load_digits.html#sklearn.datasets.load_digits\n",
        "\n",
        "використати різні гіперпараметри алгоритму SVC і порівняти результати\n",
        "\n",
        "*   первинний аналіз даних (відстуність пропусків, наявність категоріальних фіч, duplicated, Nan) (+)\n",
        "*   фича інжиніринг (побудувати 1-2 нові фічі) (+)\n",
        "*   Убрать кореляцію в фічах (+)\n",
        "*   поділ датасету на train, validate, test (+ random_state) (+)\n",
        "*   GridSearchCV (+)\n",
        "*   Scaling (+)\n",
        "*   тренування базової моделі із дефолтними гіперпараметрами (кожну модель) (+)\n",
        "*   підбір гіперпараметрів (кожну модель) (+)\n",
        "*   побудувати модель різними способами (+)\n",
        "*   Metrics (+)\n",
        "*   оцінка результатів (порівняння всіх на тестовій частині, описати яка краще) (+)\n",
        "*  Графічний аналіз, (якщо встигну)"
      ],
      "metadata": {
        "id": "nskRZCwldXIo"
      }
    },
    {
      "cell_type": "markdown",
      "source": [
        "## INIT BLOCK"
      ],
      "metadata": {
        "id": "FF_YuxTIdLZZ"
      }
    },
    {
      "cell_type": "markdown",
      "source": [
        "### Import Requirements"
      ],
      "metadata": {
        "id": "CE3NH-enOzwx"
      }
    },
    {
      "cell_type": "code",
      "source": [
        "import numpy as np\n",
        "import pandas as pd\n",
        "from sklearn.datasets import load_digits\n",
        "from sklearn.metrics import (r2_score, mean_squared_error, mean_absolute_error, accuracy_score, classification_report,\n",
        "                             precision_score, recall_score, f1_score, )\n",
        "from sklearn.model_selection import (train_test_split, GridSearchCV)\n",
        "from sklearn.preprocessing import (StandardScaler, RobustScaler, PowerTransformer)\n",
        "from sklearn.svm import (SVC, NuSVC, LinearSVC)\n",
        "from sklearn.utils import Bunch\n"
      ],
      "metadata": {
        "id": "q_DtSfAf71NW"
      },
      "execution_count": null,
      "outputs": []
    },
    {
      "cell_type": "markdown",
      "source": [
        "### Init"
      ],
      "metadata": {
        "id": "-nEn7Kpi3Tta"
      }
    },
    {
      "cell_type": "code",
      "execution_count": null,
      "metadata": {
        "id": "6Bwem-C8CxBF"
      },
      "outputs": [],
      "source": [
        "RANDOM_STATE: int = 1729\n",
        "\n",
        "if __name__ == \"__main__\":\n",
        "    digits_bunch: Bunch = load_digits(as_frame=True)\n",
        "    digits_dataframe: pd.DataFrame = digits_bunch.frame\n",
        "\n",
        "    working_dataframe: pd.DataFrame = digits_dataframe.copy()\n",
        "\n",
        "    target: str = \"target\"\n"
      ]
    },
    {
      "cell_type": "markdown",
      "source": [
        "# Data analysis, clining and optomization"
      ],
      "metadata": {
        "id": "UCU6z3sW3gPo"
      }
    },
    {
      "cell_type": "markdown",
      "source": [
        "### DataSet Description"
      ],
      "metadata": {
        "id": "EYwACNtcdEb_"
      }
    },
    {
      "cell_type": "code",
      "source": [
        "print(digits_bunch.DESCR)"
      ],
      "metadata": {
        "colab": {
          "base_uri": "https://localhost:8080/"
        },
        "id": "nLzK63zXdC28",
        "outputId": "00dbde92-77f0-42ae-b5ca-ff9095a54740"
      },
      "execution_count": null,
      "outputs": [
        {
          "output_type": "stream",
          "name": "stdout",
          "text": [
            ".. _digits_dataset:\n",
            "\n",
            "Optical recognition of handwritten digits dataset\n",
            "--------------------------------------------------\n",
            "\n",
            "**Data Set Characteristics:**\n",
            "\n",
            "    :Number of Instances: 1797\n",
            "    :Number of Attributes: 64\n",
            "    :Attribute Information: 8x8 image of integer pixels in the range 0..16.\n",
            "    :Missing Attribute Values: None\n",
            "    :Creator: E. Alpaydin (alpaydin '@' boun.edu.tr)\n",
            "    :Date: July; 1998\n",
            "\n",
            "This is a copy of the test set of the UCI ML hand-written digits datasets\n",
            "https://archive.ics.uci.edu/ml/datasets/Optical+Recognition+of+Handwritten+Digits\n",
            "\n",
            "The data set contains images of hand-written digits: 10 classes where\n",
            "each class refers to a digit.\n",
            "\n",
            "Preprocessing programs made available by NIST were used to extract\n",
            "normalized bitmaps of handwritten digits from a preprinted form. From a\n",
            "total of 43 people, 30 contributed to the training set and different 13\n",
            "to the test set. 32x32 bitmaps are divided into nonoverlapping blocks of\n",
            "4x4 and the number of on pixels are counted in each block. This generates\n",
            "an input matrix of 8x8 where each element is an integer in the range\n",
            "0..16. This reduces dimensionality and gives invariance to small\n",
            "distortions.\n",
            "\n",
            "For info on NIST preprocessing routines, see M. D. Garris, J. L. Blue, G.\n",
            "T. Candela, D. L. Dimmick, J. Geist, P. J. Grother, S. A. Janet, and C.\n",
            "L. Wilson, NIST Form-Based Handprint Recognition System, NISTIR 5469,\n",
            "1994.\n",
            "\n",
            ".. topic:: References\n",
            "\n",
            "  - C. Kaynak (1995) Methods of Combining Multiple Classifiers and Their\n",
            "    Applications to Handwritten Digit Recognition, MSc Thesis, Institute of\n",
            "    Graduate Studies in Science and Engineering, Bogazici University.\n",
            "  - E. Alpaydin, C. Kaynak (1998) Cascading Classifiers, Kybernetika.\n",
            "  - Ken Tang and Ponnuthurai N. Suganthan and Xi Yao and A. Kai Qin.\n",
            "    Linear dimensionalityreduction using relevance weighted LDA. School of\n",
            "    Electrical and Electronic Engineering Nanyang Technological University.\n",
            "    2005.\n",
            "  - Claudio Gentile. A New Approximate Maximal Margin Classification\n",
            "    Algorithm. NIPS. 2000.\n",
            "\n"
          ]
        }
      ]
    },
    {
      "cell_type": "markdown",
      "source": [
        "### DataFrame info"
      ],
      "metadata": {
        "id": "hD8sFQQgUgeV"
      }
    },
    {
      "cell_type": "code",
      "source": [
        "working_dataframe.info()"
      ],
      "metadata": {
        "colab": {
          "base_uri": "https://localhost:8080/"
        },
        "id": "OtG8qPUjUfnp",
        "outputId": "f222a098-d92e-428d-ac8a-6def228ad5db"
      },
      "execution_count": null,
      "outputs": [
        {
          "output_type": "stream",
          "name": "stdout",
          "text": [
            "<class 'pandas.core.frame.DataFrame'>\n",
            "RangeIndex: 1797 entries, 0 to 1796\n",
            "Data columns (total 65 columns):\n",
            " #   Column     Non-Null Count  Dtype  \n",
            "---  ------     --------------  -----  \n",
            " 0   pixel_0_0  1797 non-null   float64\n",
            " 1   pixel_0_1  1797 non-null   float64\n",
            " 2   pixel_0_2  1797 non-null   float64\n",
            " 3   pixel_0_3  1797 non-null   float64\n",
            " 4   pixel_0_4  1797 non-null   float64\n",
            " 5   pixel_0_5  1797 non-null   float64\n",
            " 6   pixel_0_6  1797 non-null   float64\n",
            " 7   pixel_0_7  1797 non-null   float64\n",
            " 8   pixel_1_0  1797 non-null   float64\n",
            " 9   pixel_1_1  1797 non-null   float64\n",
            " 10  pixel_1_2  1797 non-null   float64\n",
            " 11  pixel_1_3  1797 non-null   float64\n",
            " 12  pixel_1_4  1797 non-null   float64\n",
            " 13  pixel_1_5  1797 non-null   float64\n",
            " 14  pixel_1_6  1797 non-null   float64\n",
            " 15  pixel_1_7  1797 non-null   float64\n",
            " 16  pixel_2_0  1797 non-null   float64\n",
            " 17  pixel_2_1  1797 non-null   float64\n",
            " 18  pixel_2_2  1797 non-null   float64\n",
            " 19  pixel_2_3  1797 non-null   float64\n",
            " 20  pixel_2_4  1797 non-null   float64\n",
            " 21  pixel_2_5  1797 non-null   float64\n",
            " 22  pixel_2_6  1797 non-null   float64\n",
            " 23  pixel_2_7  1797 non-null   float64\n",
            " 24  pixel_3_0  1797 non-null   float64\n",
            " 25  pixel_3_1  1797 non-null   float64\n",
            " 26  pixel_3_2  1797 non-null   float64\n",
            " 27  pixel_3_3  1797 non-null   float64\n",
            " 28  pixel_3_4  1797 non-null   float64\n",
            " 29  pixel_3_5  1797 non-null   float64\n",
            " 30  pixel_3_6  1797 non-null   float64\n",
            " 31  pixel_3_7  1797 non-null   float64\n",
            " 32  pixel_4_0  1797 non-null   float64\n",
            " 33  pixel_4_1  1797 non-null   float64\n",
            " 34  pixel_4_2  1797 non-null   float64\n",
            " 35  pixel_4_3  1797 non-null   float64\n",
            " 36  pixel_4_4  1797 non-null   float64\n",
            " 37  pixel_4_5  1797 non-null   float64\n",
            " 38  pixel_4_6  1797 non-null   float64\n",
            " 39  pixel_4_7  1797 non-null   float64\n",
            " 40  pixel_5_0  1797 non-null   float64\n",
            " 41  pixel_5_1  1797 non-null   float64\n",
            " 42  pixel_5_2  1797 non-null   float64\n",
            " 43  pixel_5_3  1797 non-null   float64\n",
            " 44  pixel_5_4  1797 non-null   float64\n",
            " 45  pixel_5_5  1797 non-null   float64\n",
            " 46  pixel_5_6  1797 non-null   float64\n",
            " 47  pixel_5_7  1797 non-null   float64\n",
            " 48  pixel_6_0  1797 non-null   float64\n",
            " 49  pixel_6_1  1797 non-null   float64\n",
            " 50  pixel_6_2  1797 non-null   float64\n",
            " 51  pixel_6_3  1797 non-null   float64\n",
            " 52  pixel_6_4  1797 non-null   float64\n",
            " 53  pixel_6_5  1797 non-null   float64\n",
            " 54  pixel_6_6  1797 non-null   float64\n",
            " 55  pixel_6_7  1797 non-null   float64\n",
            " 56  pixel_7_0  1797 non-null   float64\n",
            " 57  pixel_7_1  1797 non-null   float64\n",
            " 58  pixel_7_2  1797 non-null   float64\n",
            " 59  pixel_7_3  1797 non-null   float64\n",
            " 60  pixel_7_4  1797 non-null   float64\n",
            " 61  pixel_7_5  1797 non-null   float64\n",
            " 62  pixel_7_6  1797 non-null   float64\n",
            " 63  pixel_7_7  1797 non-null   float64\n",
            " 64  target     1797 non-null   int64  \n",
            "dtypes: float64(64), int64(1)\n",
            "memory usage: 912.7 KB\n"
          ]
        }
      ]
    },
    {
      "cell_type": "markdown",
      "source": [
        "### DataFrame head"
      ],
      "metadata": {
        "id": "pi-oJkqRUybB"
      }
    },
    {
      "cell_type": "code",
      "source": [
        "working_dataframe.head()"
      ],
      "metadata": {
        "colab": {
          "base_uri": "https://localhost:8080/",
          "height": 299
        },
        "id": "-4p-LQKqU1ys",
        "outputId": "7f7a43bd-d5e1-4ac7-d989-8223349f61ab"
      },
      "execution_count": null,
      "outputs": [
        {
          "output_type": "execute_result",
          "data": {
            "text/plain": [
              "   pixel_0_0  pixel_0_1  pixel_0_2  pixel_0_3  pixel_0_4  pixel_0_5  \\\n",
              "0        0.0        0.0        5.0       13.0        9.0        1.0   \n",
              "1        0.0        0.0        0.0       12.0       13.0        5.0   \n",
              "2        0.0        0.0        0.0        4.0       15.0       12.0   \n",
              "3        0.0        0.0        7.0       15.0       13.0        1.0   \n",
              "4        0.0        0.0        0.0        1.0       11.0        0.0   \n",
              "\n",
              "   pixel_0_6  pixel_0_7  pixel_1_0  pixel_1_1  ...  pixel_6_7  pixel_7_0  \\\n",
              "0        0.0        0.0        0.0        0.0  ...        0.0        0.0   \n",
              "1        0.0        0.0        0.0        0.0  ...        0.0        0.0   \n",
              "2        0.0        0.0        0.0        0.0  ...        0.0        0.0   \n",
              "3        0.0        0.0        0.0        8.0  ...        0.0        0.0   \n",
              "4        0.0        0.0        0.0        0.0  ...        0.0        0.0   \n",
              "\n",
              "   pixel_7_1  pixel_7_2  pixel_7_3  pixel_7_4  pixel_7_5  pixel_7_6  \\\n",
              "0        0.0        6.0       13.0       10.0        0.0        0.0   \n",
              "1        0.0        0.0       11.0       16.0       10.0        0.0   \n",
              "2        0.0        0.0        3.0       11.0       16.0        9.0   \n",
              "3        0.0        7.0       13.0       13.0        9.0        0.0   \n",
              "4        0.0        0.0        2.0       16.0        4.0        0.0   \n",
              "\n",
              "   pixel_7_7  target  \n",
              "0        0.0       0  \n",
              "1        0.0       1  \n",
              "2        0.0       2  \n",
              "3        0.0       3  \n",
              "4        0.0       4  \n",
              "\n",
              "[5 rows x 65 columns]"
            ],
            "text/html": [
              "\n",
              "\n",
              "  <div id=\"df-88579c26-8a21-4fd1-bd8c-f3f19117df63\">\n",
              "    <div class=\"colab-df-container\">\n",
              "      <div>\n",
              "<style scoped>\n",
              "    .dataframe tbody tr th:only-of-type {\n",
              "        vertical-align: middle;\n",
              "    }\n",
              "\n",
              "    .dataframe tbody tr th {\n",
              "        vertical-align: top;\n",
              "    }\n",
              "\n",
              "    .dataframe thead th {\n",
              "        text-align: right;\n",
              "    }\n",
              "</style>\n",
              "<table border=\"1\" class=\"dataframe\">\n",
              "  <thead>\n",
              "    <tr style=\"text-align: right;\">\n",
              "      <th></th>\n",
              "      <th>pixel_0_0</th>\n",
              "      <th>pixel_0_1</th>\n",
              "      <th>pixel_0_2</th>\n",
              "      <th>pixel_0_3</th>\n",
              "      <th>pixel_0_4</th>\n",
              "      <th>pixel_0_5</th>\n",
              "      <th>pixel_0_6</th>\n",
              "      <th>pixel_0_7</th>\n",
              "      <th>pixel_1_0</th>\n",
              "      <th>pixel_1_1</th>\n",
              "      <th>...</th>\n",
              "      <th>pixel_6_7</th>\n",
              "      <th>pixel_7_0</th>\n",
              "      <th>pixel_7_1</th>\n",
              "      <th>pixel_7_2</th>\n",
              "      <th>pixel_7_3</th>\n",
              "      <th>pixel_7_4</th>\n",
              "      <th>pixel_7_5</th>\n",
              "      <th>pixel_7_6</th>\n",
              "      <th>pixel_7_7</th>\n",
              "      <th>target</th>\n",
              "    </tr>\n",
              "  </thead>\n",
              "  <tbody>\n",
              "    <tr>\n",
              "      <th>0</th>\n",
              "      <td>0.0</td>\n",
              "      <td>0.0</td>\n",
              "      <td>5.0</td>\n",
              "      <td>13.0</td>\n",
              "      <td>9.0</td>\n",
              "      <td>1.0</td>\n",
              "      <td>0.0</td>\n",
              "      <td>0.0</td>\n",
              "      <td>0.0</td>\n",
              "      <td>0.0</td>\n",
              "      <td>...</td>\n",
              "      <td>0.0</td>\n",
              "      <td>0.0</td>\n",
              "      <td>0.0</td>\n",
              "      <td>6.0</td>\n",
              "      <td>13.0</td>\n",
              "      <td>10.0</td>\n",
              "      <td>0.0</td>\n",
              "      <td>0.0</td>\n",
              "      <td>0.0</td>\n",
              "      <td>0</td>\n",
              "    </tr>\n",
              "    <tr>\n",
              "      <th>1</th>\n",
              "      <td>0.0</td>\n",
              "      <td>0.0</td>\n",
              "      <td>0.0</td>\n",
              "      <td>12.0</td>\n",
              "      <td>13.0</td>\n",
              "      <td>5.0</td>\n",
              "      <td>0.0</td>\n",
              "      <td>0.0</td>\n",
              "      <td>0.0</td>\n",
              "      <td>0.0</td>\n",
              "      <td>...</td>\n",
              "      <td>0.0</td>\n",
              "      <td>0.0</td>\n",
              "      <td>0.0</td>\n",
              "      <td>0.0</td>\n",
              "      <td>11.0</td>\n",
              "      <td>16.0</td>\n",
              "      <td>10.0</td>\n",
              "      <td>0.0</td>\n",
              "      <td>0.0</td>\n",
              "      <td>1</td>\n",
              "    </tr>\n",
              "    <tr>\n",
              "      <th>2</th>\n",
              "      <td>0.0</td>\n",
              "      <td>0.0</td>\n",
              "      <td>0.0</td>\n",
              "      <td>4.0</td>\n",
              "      <td>15.0</td>\n",
              "      <td>12.0</td>\n",
              "      <td>0.0</td>\n",
              "      <td>0.0</td>\n",
              "      <td>0.0</td>\n",
              "      <td>0.0</td>\n",
              "      <td>...</td>\n",
              "      <td>0.0</td>\n",
              "      <td>0.0</td>\n",
              "      <td>0.0</td>\n",
              "      <td>0.0</td>\n",
              "      <td>3.0</td>\n",
              "      <td>11.0</td>\n",
              "      <td>16.0</td>\n",
              "      <td>9.0</td>\n",
              "      <td>0.0</td>\n",
              "      <td>2</td>\n",
              "    </tr>\n",
              "    <tr>\n",
              "      <th>3</th>\n",
              "      <td>0.0</td>\n",
              "      <td>0.0</td>\n",
              "      <td>7.0</td>\n",
              "      <td>15.0</td>\n",
              "      <td>13.0</td>\n",
              "      <td>1.0</td>\n",
              "      <td>0.0</td>\n",
              "      <td>0.0</td>\n",
              "      <td>0.0</td>\n",
              "      <td>8.0</td>\n",
              "      <td>...</td>\n",
              "      <td>0.0</td>\n",
              "      <td>0.0</td>\n",
              "      <td>0.0</td>\n",
              "      <td>7.0</td>\n",
              "      <td>13.0</td>\n",
              "      <td>13.0</td>\n",
              "      <td>9.0</td>\n",
              "      <td>0.0</td>\n",
              "      <td>0.0</td>\n",
              "      <td>3</td>\n",
              "    </tr>\n",
              "    <tr>\n",
              "      <th>4</th>\n",
              "      <td>0.0</td>\n",
              "      <td>0.0</td>\n",
              "      <td>0.0</td>\n",
              "      <td>1.0</td>\n",
              "      <td>11.0</td>\n",
              "      <td>0.0</td>\n",
              "      <td>0.0</td>\n",
              "      <td>0.0</td>\n",
              "      <td>0.0</td>\n",
              "      <td>0.0</td>\n",
              "      <td>...</td>\n",
              "      <td>0.0</td>\n",
              "      <td>0.0</td>\n",
              "      <td>0.0</td>\n",
              "      <td>0.0</td>\n",
              "      <td>2.0</td>\n",
              "      <td>16.0</td>\n",
              "      <td>4.0</td>\n",
              "      <td>0.0</td>\n",
              "      <td>0.0</td>\n",
              "      <td>4</td>\n",
              "    </tr>\n",
              "  </tbody>\n",
              "</table>\n",
              "<p>5 rows × 65 columns</p>\n",
              "</div>\n",
              "      <button class=\"colab-df-convert\" onclick=\"convertToInteractive('df-88579c26-8a21-4fd1-bd8c-f3f19117df63')\"\n",
              "              title=\"Convert this dataframe to an interactive table.\"\n",
              "              style=\"display:none;\">\n",
              "\n",
              "  <svg xmlns=\"http://www.w3.org/2000/svg\" height=\"24px\"viewBox=\"0 0 24 24\"\n",
              "       width=\"24px\">\n",
              "    <path d=\"M0 0h24v24H0V0z\" fill=\"none\"/>\n",
              "    <path d=\"M18.56 5.44l.94 2.06.94-2.06 2.06-.94-2.06-.94-.94-2.06-.94 2.06-2.06.94zm-11 1L8.5 8.5l.94-2.06 2.06-.94-2.06-.94L8.5 2.5l-.94 2.06-2.06.94zm10 10l.94 2.06.94-2.06 2.06-.94-2.06-.94-.94-2.06-.94 2.06-2.06.94z\"/><path d=\"M17.41 7.96l-1.37-1.37c-.4-.4-.92-.59-1.43-.59-.52 0-1.04.2-1.43.59L10.3 9.45l-7.72 7.72c-.78.78-.78 2.05 0 2.83L4 21.41c.39.39.9.59 1.41.59.51 0 1.02-.2 1.41-.59l7.78-7.78 2.81-2.81c.8-.78.8-2.07 0-2.86zM5.41 20L4 18.59l7.72-7.72 1.47 1.35L5.41 20z\"/>\n",
              "  </svg>\n",
              "      </button>\n",
              "\n",
              "\n",
              "\n",
              "    <div id=\"df-b0da3a4d-86e0-43a5-bcf1-e4433113f921\">\n",
              "      <button class=\"colab-df-quickchart\" onclick=\"quickchart('df-b0da3a4d-86e0-43a5-bcf1-e4433113f921')\"\n",
              "              title=\"Suggest charts.\"\n",
              "              style=\"display:none;\">\n",
              "\n",
              "<svg xmlns=\"http://www.w3.org/2000/svg\" height=\"24px\"viewBox=\"0 0 24 24\"\n",
              "     width=\"24px\">\n",
              "    <g>\n",
              "        <path d=\"M19 3H5c-1.1 0-2 .9-2 2v14c0 1.1.9 2 2 2h14c1.1 0 2-.9 2-2V5c0-1.1-.9-2-2-2zM9 17H7v-7h2v7zm4 0h-2V7h2v10zm4 0h-2v-4h2v4z\"/>\n",
              "    </g>\n",
              "</svg>\n",
              "      </button>\n",
              "    </div>\n",
              "\n",
              "<style>\n",
              "  .colab-df-quickchart {\n",
              "    background-color: #E8F0FE;\n",
              "    border: none;\n",
              "    border-radius: 50%;\n",
              "    cursor: pointer;\n",
              "    display: none;\n",
              "    fill: #1967D2;\n",
              "    height: 32px;\n",
              "    padding: 0 0 0 0;\n",
              "    width: 32px;\n",
              "  }\n",
              "\n",
              "  .colab-df-quickchart:hover {\n",
              "    background-color: #E2EBFA;\n",
              "    box-shadow: 0px 1px 2px rgba(60, 64, 67, 0.3), 0px 1px 3px 1px rgba(60, 64, 67, 0.15);\n",
              "    fill: #174EA6;\n",
              "  }\n",
              "\n",
              "  [theme=dark] .colab-df-quickchart {\n",
              "    background-color: #3B4455;\n",
              "    fill: #D2E3FC;\n",
              "  }\n",
              "\n",
              "  [theme=dark] .colab-df-quickchart:hover {\n",
              "    background-color: #434B5C;\n",
              "    box-shadow: 0px 1px 3px 1px rgba(0, 0, 0, 0.15);\n",
              "    filter: drop-shadow(0px 1px 2px rgba(0, 0, 0, 0.3));\n",
              "    fill: #FFFFFF;\n",
              "  }\n",
              "</style>\n",
              "\n",
              "    <script>\n",
              "      async function quickchart(key) {\n",
              "        const containerElement = document.querySelector('#' + key);\n",
              "        const charts = await google.colab.kernel.invokeFunction(\n",
              "            'suggestCharts', [key], {});\n",
              "      }\n",
              "    </script>\n",
              "\n",
              "      <script>\n",
              "\n",
              "function displayQuickchartButton(domScope) {\n",
              "  let quickchartButtonEl =\n",
              "    domScope.querySelector('#df-b0da3a4d-86e0-43a5-bcf1-e4433113f921 button.colab-df-quickchart');\n",
              "  quickchartButtonEl.style.display =\n",
              "    google.colab.kernel.accessAllowed ? 'block' : 'none';\n",
              "}\n",
              "\n",
              "        displayQuickchartButton(document);\n",
              "      </script>\n",
              "      <style>\n",
              "    .colab-df-container {\n",
              "      display:flex;\n",
              "      flex-wrap:wrap;\n",
              "      gap: 12px;\n",
              "    }\n",
              "\n",
              "    .colab-df-convert {\n",
              "      background-color: #E8F0FE;\n",
              "      border: none;\n",
              "      border-radius: 50%;\n",
              "      cursor: pointer;\n",
              "      display: none;\n",
              "      fill: #1967D2;\n",
              "      height: 32px;\n",
              "      padding: 0 0 0 0;\n",
              "      width: 32px;\n",
              "    }\n",
              "\n",
              "    .colab-df-convert:hover {\n",
              "      background-color: #E2EBFA;\n",
              "      box-shadow: 0px 1px 2px rgba(60, 64, 67, 0.3), 0px 1px 3px 1px rgba(60, 64, 67, 0.15);\n",
              "      fill: #174EA6;\n",
              "    }\n",
              "\n",
              "    [theme=dark] .colab-df-convert {\n",
              "      background-color: #3B4455;\n",
              "      fill: #D2E3FC;\n",
              "    }\n",
              "\n",
              "    [theme=dark] .colab-df-convert:hover {\n",
              "      background-color: #434B5C;\n",
              "      box-shadow: 0px 1px 3px 1px rgba(0, 0, 0, 0.15);\n",
              "      filter: drop-shadow(0px 1px 2px rgba(0, 0, 0, 0.3));\n",
              "      fill: #FFFFFF;\n",
              "    }\n",
              "  </style>\n",
              "\n",
              "      <script>\n",
              "        const buttonEl =\n",
              "          document.querySelector('#df-88579c26-8a21-4fd1-bd8c-f3f19117df63 button.colab-df-convert');\n",
              "        buttonEl.style.display =\n",
              "          google.colab.kernel.accessAllowed ? 'block' : 'none';\n",
              "\n",
              "        async function convertToInteractive(key) {\n",
              "          const element = document.querySelector('#df-88579c26-8a21-4fd1-bd8c-f3f19117df63');\n",
              "          const dataTable =\n",
              "            await google.colab.kernel.invokeFunction('convertToInteractive',\n",
              "                                                     [key], {});\n",
              "          if (!dataTable) return;\n",
              "\n",
              "          const docLinkHtml = 'Like what you see? Visit the ' +\n",
              "            '<a target=\"_blank\" href=https://colab.research.google.com/notebooks/data_table.ipynb>data table notebook</a>'\n",
              "            + ' to learn more about interactive tables.';\n",
              "          element.innerHTML = '';\n",
              "          dataTable['output_type'] = 'display_data';\n",
              "          await google.colab.output.renderOutput(dataTable, element);\n",
              "          const docLink = document.createElement('div');\n",
              "          docLink.innerHTML = docLinkHtml;\n",
              "          element.appendChild(docLink);\n",
              "        }\n",
              "      </script>\n",
              "    </div>\n",
              "  </div>\n"
            ]
          },
          "metadata": {},
          "execution_count": 5
        }
      ]
    },
    {
      "cell_type": "markdown",
      "source": [
        "### Перевіряємо на дублікати"
      ],
      "metadata": {
        "id": "w1LP7DghAxIX"
      }
    },
    {
      "cell_type": "code",
      "source": [
        "print(f\"{'Є дублікати, потрібна обробка датасету.' if working_dataframe.duplicated().sum() else 'Дублікатів немає.'}\", end=\"\\n\\n\")"
      ],
      "metadata": {
        "id": "P3q0-dcq2xtW",
        "colab": {
          "base_uri": "https://localhost:8080/"
        },
        "outputId": "aa8ec0e7-963b-4832-b243-00fa6c7149dc"
      },
      "execution_count": null,
      "outputs": [
        {
          "output_type": "stream",
          "name": "stdout",
          "text": [
            "Дублікатів немає.\n",
            "\n"
          ]
        }
      ]
    },
    {
      "cell_type": "markdown",
      "source": [
        "### Обробка відсутніх значеннь"
      ],
      "metadata": {
        "id": "CYZNcxKyrH_F"
      }
    },
    {
      "cell_type": "code",
      "source": [
        "print(f\"{'Є пропущені значення, потрібна обробка датасету.' if working_dataframe.isna().any().any() else 'Пропущених значень немає.'}\", end=\"\\n\\n\")"
      ],
      "metadata": {
        "id": "3xNCaAntrY-x",
        "colab": {
          "base_uri": "https://localhost:8080/"
        },
        "outputId": "3fc34160-dbd8-4ff2-dccb-9c05a300157c"
      },
      "execution_count": null,
      "outputs": [
        {
          "output_type": "stream",
          "name": "stdout",
          "text": [
            "Пропущених значень немає.\n",
            "\n"
          ]
        }
      ]
    },
    {
      "cell_type": "markdown",
      "source": [
        "### Генеруємо статистику"
      ],
      "metadata": {
        "id": "dASGudXuw-iM"
      }
    },
    {
      "cell_type": "code",
      "source": [
        "working_dataframe.describe(include=\"all\", percentiles=[.25, .5, .75])"
      ],
      "metadata": {
        "id": "c5QfB9d54Ag_",
        "colab": {
          "base_uri": "https://localhost:8080/",
          "height": 393
        },
        "outputId": "548efceb-890a-4306-cc61-4f5abafb5039"
      },
      "execution_count": null,
      "outputs": [
        {
          "output_type": "execute_result",
          "data": {
            "text/plain": [
              "       pixel_0_0    pixel_0_1    pixel_0_2    pixel_0_3    pixel_0_4  \\\n",
              "count     1797.0  1797.000000  1797.000000  1797.000000  1797.000000   \n",
              "mean         0.0     0.303840     5.204786    11.835838    11.848080   \n",
              "std          0.0     0.907192     4.754826     4.248842     4.287388   \n",
              "min          0.0     0.000000     0.000000     0.000000     0.000000   \n",
              "25%          0.0     0.000000     1.000000    10.000000    10.000000   \n",
              "50%          0.0     0.000000     4.000000    13.000000    13.000000   \n",
              "75%          0.0     0.000000     9.000000    15.000000    15.000000   \n",
              "max          0.0     8.000000    16.000000    16.000000    16.000000   \n",
              "\n",
              "         pixel_0_5    pixel_0_6    pixel_0_7    pixel_1_0    pixel_1_1  ...  \\\n",
              "count  1797.000000  1797.000000  1797.000000  1797.000000  1797.000000  ...   \n",
              "mean      5.781859     1.362270     0.129661     0.005565     1.993879  ...   \n",
              "std       5.666418     3.325775     1.037383     0.094222     3.196160  ...   \n",
              "min       0.000000     0.000000     0.000000     0.000000     0.000000  ...   \n",
              "25%       0.000000     0.000000     0.000000     0.000000     0.000000  ...   \n",
              "50%       4.000000     0.000000     0.000000     0.000000     0.000000  ...   \n",
              "75%      11.000000     0.000000     0.000000     0.000000     3.000000  ...   \n",
              "max      16.000000    16.000000    15.000000     2.000000    16.000000  ...   \n",
              "\n",
              "         pixel_6_7    pixel_7_0    pixel_7_1    pixel_7_2    pixel_7_3  \\\n",
              "count  1797.000000  1797.000000  1797.000000  1797.000000  1797.000000   \n",
              "mean      0.206455     0.000556     0.279354     5.557596    12.089037   \n",
              "std       0.984401     0.023590     0.934302     5.103019     4.374694   \n",
              "min       0.000000     0.000000     0.000000     0.000000     0.000000   \n",
              "25%       0.000000     0.000000     0.000000     1.000000    11.000000   \n",
              "50%       0.000000     0.000000     0.000000     4.000000    13.000000   \n",
              "75%       0.000000     0.000000     0.000000    10.000000    16.000000   \n",
              "max      13.000000     1.000000     9.000000    16.000000    16.000000   \n",
              "\n",
              "         pixel_7_4    pixel_7_5    pixel_7_6    pixel_7_7       target  \n",
              "count  1797.000000  1797.000000  1797.000000  1797.000000  1797.000000  \n",
              "mean     11.809126     6.764051     2.067891     0.364496     4.490818  \n",
              "std       4.933947     5.900623     4.090548     1.860122     2.865304  \n",
              "min       0.000000     0.000000     0.000000     0.000000     0.000000  \n",
              "25%      10.000000     0.000000     0.000000     0.000000     2.000000  \n",
              "50%      14.000000     6.000000     0.000000     0.000000     4.000000  \n",
              "75%      16.000000    12.000000     2.000000     0.000000     7.000000  \n",
              "max      16.000000    16.000000    16.000000    16.000000     9.000000  \n",
              "\n",
              "[8 rows x 65 columns]"
            ],
            "text/html": [
              "\n",
              "\n",
              "  <div id=\"df-f1dfe010-4b02-4c80-bd07-434c1406b5f6\">\n",
              "    <div class=\"colab-df-container\">\n",
              "      <div>\n",
              "<style scoped>\n",
              "    .dataframe tbody tr th:only-of-type {\n",
              "        vertical-align: middle;\n",
              "    }\n",
              "\n",
              "    .dataframe tbody tr th {\n",
              "        vertical-align: top;\n",
              "    }\n",
              "\n",
              "    .dataframe thead th {\n",
              "        text-align: right;\n",
              "    }\n",
              "</style>\n",
              "<table border=\"1\" class=\"dataframe\">\n",
              "  <thead>\n",
              "    <tr style=\"text-align: right;\">\n",
              "      <th></th>\n",
              "      <th>pixel_0_0</th>\n",
              "      <th>pixel_0_1</th>\n",
              "      <th>pixel_0_2</th>\n",
              "      <th>pixel_0_3</th>\n",
              "      <th>pixel_0_4</th>\n",
              "      <th>pixel_0_5</th>\n",
              "      <th>pixel_0_6</th>\n",
              "      <th>pixel_0_7</th>\n",
              "      <th>pixel_1_0</th>\n",
              "      <th>pixel_1_1</th>\n",
              "      <th>...</th>\n",
              "      <th>pixel_6_7</th>\n",
              "      <th>pixel_7_0</th>\n",
              "      <th>pixel_7_1</th>\n",
              "      <th>pixel_7_2</th>\n",
              "      <th>pixel_7_3</th>\n",
              "      <th>pixel_7_4</th>\n",
              "      <th>pixel_7_5</th>\n",
              "      <th>pixel_7_6</th>\n",
              "      <th>pixel_7_7</th>\n",
              "      <th>target</th>\n",
              "    </tr>\n",
              "  </thead>\n",
              "  <tbody>\n",
              "    <tr>\n",
              "      <th>count</th>\n",
              "      <td>1797.0</td>\n",
              "      <td>1797.000000</td>\n",
              "      <td>1797.000000</td>\n",
              "      <td>1797.000000</td>\n",
              "      <td>1797.000000</td>\n",
              "      <td>1797.000000</td>\n",
              "      <td>1797.000000</td>\n",
              "      <td>1797.000000</td>\n",
              "      <td>1797.000000</td>\n",
              "      <td>1797.000000</td>\n",
              "      <td>...</td>\n",
              "      <td>1797.000000</td>\n",
              "      <td>1797.000000</td>\n",
              "      <td>1797.000000</td>\n",
              "      <td>1797.000000</td>\n",
              "      <td>1797.000000</td>\n",
              "      <td>1797.000000</td>\n",
              "      <td>1797.000000</td>\n",
              "      <td>1797.000000</td>\n",
              "      <td>1797.000000</td>\n",
              "      <td>1797.000000</td>\n",
              "    </tr>\n",
              "    <tr>\n",
              "      <th>mean</th>\n",
              "      <td>0.0</td>\n",
              "      <td>0.303840</td>\n",
              "      <td>5.204786</td>\n",
              "      <td>11.835838</td>\n",
              "      <td>11.848080</td>\n",
              "      <td>5.781859</td>\n",
              "      <td>1.362270</td>\n",
              "      <td>0.129661</td>\n",
              "      <td>0.005565</td>\n",
              "      <td>1.993879</td>\n",
              "      <td>...</td>\n",
              "      <td>0.206455</td>\n",
              "      <td>0.000556</td>\n",
              "      <td>0.279354</td>\n",
              "      <td>5.557596</td>\n",
              "      <td>12.089037</td>\n",
              "      <td>11.809126</td>\n",
              "      <td>6.764051</td>\n",
              "      <td>2.067891</td>\n",
              "      <td>0.364496</td>\n",
              "      <td>4.490818</td>\n",
              "    </tr>\n",
              "    <tr>\n",
              "      <th>std</th>\n",
              "      <td>0.0</td>\n",
              "      <td>0.907192</td>\n",
              "      <td>4.754826</td>\n",
              "      <td>4.248842</td>\n",
              "      <td>4.287388</td>\n",
              "      <td>5.666418</td>\n",
              "      <td>3.325775</td>\n",
              "      <td>1.037383</td>\n",
              "      <td>0.094222</td>\n",
              "      <td>3.196160</td>\n",
              "      <td>...</td>\n",
              "      <td>0.984401</td>\n",
              "      <td>0.023590</td>\n",
              "      <td>0.934302</td>\n",
              "      <td>5.103019</td>\n",
              "      <td>4.374694</td>\n",
              "      <td>4.933947</td>\n",
              "      <td>5.900623</td>\n",
              "      <td>4.090548</td>\n",
              "      <td>1.860122</td>\n",
              "      <td>2.865304</td>\n",
              "    </tr>\n",
              "    <tr>\n",
              "      <th>min</th>\n",
              "      <td>0.0</td>\n",
              "      <td>0.000000</td>\n",
              "      <td>0.000000</td>\n",
              "      <td>0.000000</td>\n",
              "      <td>0.000000</td>\n",
              "      <td>0.000000</td>\n",
              "      <td>0.000000</td>\n",
              "      <td>0.000000</td>\n",
              "      <td>0.000000</td>\n",
              "      <td>0.000000</td>\n",
              "      <td>...</td>\n",
              "      <td>0.000000</td>\n",
              "      <td>0.000000</td>\n",
              "      <td>0.000000</td>\n",
              "      <td>0.000000</td>\n",
              "      <td>0.000000</td>\n",
              "      <td>0.000000</td>\n",
              "      <td>0.000000</td>\n",
              "      <td>0.000000</td>\n",
              "      <td>0.000000</td>\n",
              "      <td>0.000000</td>\n",
              "    </tr>\n",
              "    <tr>\n",
              "      <th>25%</th>\n",
              "      <td>0.0</td>\n",
              "      <td>0.000000</td>\n",
              "      <td>1.000000</td>\n",
              "      <td>10.000000</td>\n",
              "      <td>10.000000</td>\n",
              "      <td>0.000000</td>\n",
              "      <td>0.000000</td>\n",
              "      <td>0.000000</td>\n",
              "      <td>0.000000</td>\n",
              "      <td>0.000000</td>\n",
              "      <td>...</td>\n",
              "      <td>0.000000</td>\n",
              "      <td>0.000000</td>\n",
              "      <td>0.000000</td>\n",
              "      <td>1.000000</td>\n",
              "      <td>11.000000</td>\n",
              "      <td>10.000000</td>\n",
              "      <td>0.000000</td>\n",
              "      <td>0.000000</td>\n",
              "      <td>0.000000</td>\n",
              "      <td>2.000000</td>\n",
              "    </tr>\n",
              "    <tr>\n",
              "      <th>50%</th>\n",
              "      <td>0.0</td>\n",
              "      <td>0.000000</td>\n",
              "      <td>4.000000</td>\n",
              "      <td>13.000000</td>\n",
              "      <td>13.000000</td>\n",
              "      <td>4.000000</td>\n",
              "      <td>0.000000</td>\n",
              "      <td>0.000000</td>\n",
              "      <td>0.000000</td>\n",
              "      <td>0.000000</td>\n",
              "      <td>...</td>\n",
              "      <td>0.000000</td>\n",
              "      <td>0.000000</td>\n",
              "      <td>0.000000</td>\n",
              "      <td>4.000000</td>\n",
              "      <td>13.000000</td>\n",
              "      <td>14.000000</td>\n",
              "      <td>6.000000</td>\n",
              "      <td>0.000000</td>\n",
              "      <td>0.000000</td>\n",
              "      <td>4.000000</td>\n",
              "    </tr>\n",
              "    <tr>\n",
              "      <th>75%</th>\n",
              "      <td>0.0</td>\n",
              "      <td>0.000000</td>\n",
              "      <td>9.000000</td>\n",
              "      <td>15.000000</td>\n",
              "      <td>15.000000</td>\n",
              "      <td>11.000000</td>\n",
              "      <td>0.000000</td>\n",
              "      <td>0.000000</td>\n",
              "      <td>0.000000</td>\n",
              "      <td>3.000000</td>\n",
              "      <td>...</td>\n",
              "      <td>0.000000</td>\n",
              "      <td>0.000000</td>\n",
              "      <td>0.000000</td>\n",
              "      <td>10.000000</td>\n",
              "      <td>16.000000</td>\n",
              "      <td>16.000000</td>\n",
              "      <td>12.000000</td>\n",
              "      <td>2.000000</td>\n",
              "      <td>0.000000</td>\n",
              "      <td>7.000000</td>\n",
              "    </tr>\n",
              "    <tr>\n",
              "      <th>max</th>\n",
              "      <td>0.0</td>\n",
              "      <td>8.000000</td>\n",
              "      <td>16.000000</td>\n",
              "      <td>16.000000</td>\n",
              "      <td>16.000000</td>\n",
              "      <td>16.000000</td>\n",
              "      <td>16.000000</td>\n",
              "      <td>15.000000</td>\n",
              "      <td>2.000000</td>\n",
              "      <td>16.000000</td>\n",
              "      <td>...</td>\n",
              "      <td>13.000000</td>\n",
              "      <td>1.000000</td>\n",
              "      <td>9.000000</td>\n",
              "      <td>16.000000</td>\n",
              "      <td>16.000000</td>\n",
              "      <td>16.000000</td>\n",
              "      <td>16.000000</td>\n",
              "      <td>16.000000</td>\n",
              "      <td>16.000000</td>\n",
              "      <td>9.000000</td>\n",
              "    </tr>\n",
              "  </tbody>\n",
              "</table>\n",
              "<p>8 rows × 65 columns</p>\n",
              "</div>\n",
              "      <button class=\"colab-df-convert\" onclick=\"convertToInteractive('df-f1dfe010-4b02-4c80-bd07-434c1406b5f6')\"\n",
              "              title=\"Convert this dataframe to an interactive table.\"\n",
              "              style=\"display:none;\">\n",
              "\n",
              "  <svg xmlns=\"http://www.w3.org/2000/svg\" height=\"24px\"viewBox=\"0 0 24 24\"\n",
              "       width=\"24px\">\n",
              "    <path d=\"M0 0h24v24H0V0z\" fill=\"none\"/>\n",
              "    <path d=\"M18.56 5.44l.94 2.06.94-2.06 2.06-.94-2.06-.94-.94-2.06-.94 2.06-2.06.94zm-11 1L8.5 8.5l.94-2.06 2.06-.94-2.06-.94L8.5 2.5l-.94 2.06-2.06.94zm10 10l.94 2.06.94-2.06 2.06-.94-2.06-.94-.94-2.06-.94 2.06-2.06.94z\"/><path d=\"M17.41 7.96l-1.37-1.37c-.4-.4-.92-.59-1.43-.59-.52 0-1.04.2-1.43.59L10.3 9.45l-7.72 7.72c-.78.78-.78 2.05 0 2.83L4 21.41c.39.39.9.59 1.41.59.51 0 1.02-.2 1.41-.59l7.78-7.78 2.81-2.81c.8-.78.8-2.07 0-2.86zM5.41 20L4 18.59l7.72-7.72 1.47 1.35L5.41 20z\"/>\n",
              "  </svg>\n",
              "      </button>\n",
              "\n",
              "\n",
              "\n",
              "    <div id=\"df-f354a8f3-fdac-4b75-b5b5-c63ebde35397\">\n",
              "      <button class=\"colab-df-quickchart\" onclick=\"quickchart('df-f354a8f3-fdac-4b75-b5b5-c63ebde35397')\"\n",
              "              title=\"Suggest charts.\"\n",
              "              style=\"display:none;\">\n",
              "\n",
              "<svg xmlns=\"http://www.w3.org/2000/svg\" height=\"24px\"viewBox=\"0 0 24 24\"\n",
              "     width=\"24px\">\n",
              "    <g>\n",
              "        <path d=\"M19 3H5c-1.1 0-2 .9-2 2v14c0 1.1.9 2 2 2h14c1.1 0 2-.9 2-2V5c0-1.1-.9-2-2-2zM9 17H7v-7h2v7zm4 0h-2V7h2v10zm4 0h-2v-4h2v4z\"/>\n",
              "    </g>\n",
              "</svg>\n",
              "      </button>\n",
              "    </div>\n",
              "\n",
              "<style>\n",
              "  .colab-df-quickchart {\n",
              "    background-color: #E8F0FE;\n",
              "    border: none;\n",
              "    border-radius: 50%;\n",
              "    cursor: pointer;\n",
              "    display: none;\n",
              "    fill: #1967D2;\n",
              "    height: 32px;\n",
              "    padding: 0 0 0 0;\n",
              "    width: 32px;\n",
              "  }\n",
              "\n",
              "  .colab-df-quickchart:hover {\n",
              "    background-color: #E2EBFA;\n",
              "    box-shadow: 0px 1px 2px rgba(60, 64, 67, 0.3), 0px 1px 3px 1px rgba(60, 64, 67, 0.15);\n",
              "    fill: #174EA6;\n",
              "  }\n",
              "\n",
              "  [theme=dark] .colab-df-quickchart {\n",
              "    background-color: #3B4455;\n",
              "    fill: #D2E3FC;\n",
              "  }\n",
              "\n",
              "  [theme=dark] .colab-df-quickchart:hover {\n",
              "    background-color: #434B5C;\n",
              "    box-shadow: 0px 1px 3px 1px rgba(0, 0, 0, 0.15);\n",
              "    filter: drop-shadow(0px 1px 2px rgba(0, 0, 0, 0.3));\n",
              "    fill: #FFFFFF;\n",
              "  }\n",
              "</style>\n",
              "\n",
              "    <script>\n",
              "      async function quickchart(key) {\n",
              "        const containerElement = document.querySelector('#' + key);\n",
              "        const charts = await google.colab.kernel.invokeFunction(\n",
              "            'suggestCharts', [key], {});\n",
              "      }\n",
              "    </script>\n",
              "\n",
              "      <script>\n",
              "\n",
              "function displayQuickchartButton(domScope) {\n",
              "  let quickchartButtonEl =\n",
              "    domScope.querySelector('#df-f354a8f3-fdac-4b75-b5b5-c63ebde35397 button.colab-df-quickchart');\n",
              "  quickchartButtonEl.style.display =\n",
              "    google.colab.kernel.accessAllowed ? 'block' : 'none';\n",
              "}\n",
              "\n",
              "        displayQuickchartButton(document);\n",
              "      </script>\n",
              "      <style>\n",
              "    .colab-df-container {\n",
              "      display:flex;\n",
              "      flex-wrap:wrap;\n",
              "      gap: 12px;\n",
              "    }\n",
              "\n",
              "    .colab-df-convert {\n",
              "      background-color: #E8F0FE;\n",
              "      border: none;\n",
              "      border-radius: 50%;\n",
              "      cursor: pointer;\n",
              "      display: none;\n",
              "      fill: #1967D2;\n",
              "      height: 32px;\n",
              "      padding: 0 0 0 0;\n",
              "      width: 32px;\n",
              "    }\n",
              "\n",
              "    .colab-df-convert:hover {\n",
              "      background-color: #E2EBFA;\n",
              "      box-shadow: 0px 1px 2px rgba(60, 64, 67, 0.3), 0px 1px 3px 1px rgba(60, 64, 67, 0.15);\n",
              "      fill: #174EA6;\n",
              "    }\n",
              "\n",
              "    [theme=dark] .colab-df-convert {\n",
              "      background-color: #3B4455;\n",
              "      fill: #D2E3FC;\n",
              "    }\n",
              "\n",
              "    [theme=dark] .colab-df-convert:hover {\n",
              "      background-color: #434B5C;\n",
              "      box-shadow: 0px 1px 3px 1px rgba(0, 0, 0, 0.15);\n",
              "      filter: drop-shadow(0px 1px 2px rgba(0, 0, 0, 0.3));\n",
              "      fill: #FFFFFF;\n",
              "    }\n",
              "  </style>\n",
              "\n",
              "      <script>\n",
              "        const buttonEl =\n",
              "          document.querySelector('#df-f1dfe010-4b02-4c80-bd07-434c1406b5f6 button.colab-df-convert');\n",
              "        buttonEl.style.display =\n",
              "          google.colab.kernel.accessAllowed ? 'block' : 'none';\n",
              "\n",
              "        async function convertToInteractive(key) {\n",
              "          const element = document.querySelector('#df-f1dfe010-4b02-4c80-bd07-434c1406b5f6');\n",
              "          const dataTable =\n",
              "            await google.colab.kernel.invokeFunction('convertToInteractive',\n",
              "                                                     [key], {});\n",
              "          if (!dataTable) return;\n",
              "\n",
              "          const docLinkHtml = 'Like what you see? Visit the ' +\n",
              "            '<a target=\"_blank\" href=https://colab.research.google.com/notebooks/data_table.ipynb>data table notebook</a>'\n",
              "            + ' to learn more about interactive tables.';\n",
              "          element.innerHTML = '';\n",
              "          dataTable['output_type'] = 'display_data';\n",
              "          await google.colab.output.renderOutput(dataTable, element);\n",
              "          const docLink = document.createElement('div');\n",
              "          docLink.innerHTML = docLinkHtml;\n",
              "          element.appendChild(docLink);\n",
              "        }\n",
              "      </script>\n",
              "    </div>\n",
              "  </div>\n"
            ]
          },
          "metadata": {},
          "execution_count": 8
        }
      ]
    },
    {
      "cell_type": "markdown",
      "source": [
        "# Feature Engineering"
      ],
      "metadata": {
        "id": "XX8jEqNtmbp8"
      }
    },
    {
      "cell_type": "markdown",
      "source": [
        "feature engineering по тз пропускаємо."
      ],
      "metadata": {
        "id": "_ZmnSzpNaSRG"
      }
    },
    {
      "cell_type": "markdown",
      "source": [
        "# Preparing data for training"
      ],
      "metadata": {
        "id": "KkFMC172FSnf"
      }
    },
    {
      "cell_type": "markdown",
      "source": [
        "### Розбиваємо датасет на фічі та таргет"
      ],
      "metadata": {
        "id": "o7E3wDQnE8zi"
      }
    },
    {
      "cell_type": "code",
      "source": [
        "x_features: pd.DataFrame = working_dataframe.copy().drop(target, axis=1)\n",
        "y_target: pd.DataFrame = working_dataframe[target]"
      ],
      "metadata": {
        "id": "Yu8zcQwnFGd6"
      },
      "execution_count": null,
      "outputs": []
    },
    {
      "cell_type": "markdown",
      "source": [
        "### Масштабування фічів"
      ],
      "metadata": {
        "id": "poi2GV5buRtZ"
      }
    },
    {
      "cell_type": "code",
      "source": [
        "scaler: StandardScaler = StandardScaler().fit(X=x_features)  # 0.9898\n",
        "# scaler: PowerTransformer = PowerTransformer().fit(X=x_features)  # 0.9847\n",
        "# scaler: RobustScaler = RobustScaler().fit(X=x_features)  # 0.9847\n",
        "\n",
        "x_scaled: np.ndarray = scaler.transform(X=x_features)"
      ],
      "metadata": {
        "id": "d-VzEUEWuUQ3"
      },
      "execution_count": null,
      "outputs": []
    },
    {
      "cell_type": "markdown",
      "source": [
        "### Розбиваємо дані на тренувальну, валідаційну та тестову частину"
      ],
      "metadata": {
        "id": "NTKL2pZxrMMC"
      }
    },
    {
      "cell_type": "code",
      "source": [
        "x_train, x_test, y_train, y_test = train_test_split(x_scaled, y_target, test_size=0.33, random_state=RANDOM_STATE, stratify=y_target)\n",
        "x_validate, x_test, y_validate, y_test = train_test_split(x_test, y_test, test_size=0.33, random_state=RANDOM_STATE, stratify=y_test)\n",
        "\n",
        "print(x_train.shape)\n",
        "print(x_validate.shape)\n",
        "print(x_test.shape)"
      ],
      "metadata": {
        "id": "mmZlxOPajaCS",
        "colab": {
          "base_uri": "https://localhost:8080/"
        },
        "outputId": "f87cde90-8848-47c8-bf97-4ade1577e9e4"
      },
      "execution_count": null,
      "outputs": [
        {
          "output_type": "stream",
          "name": "stdout",
          "text": [
            "(1203, 64)\n",
            "(397, 64)\n",
            "(197, 64)\n"
          ]
        }
      ]
    },
    {
      "cell_type": "markdown",
      "source": [
        "### Перевіряємо розподіл классів"
      ],
      "metadata": {
        "id": "4dNOxfy6kXYh"
      }
    },
    {
      "cell_type": "code",
      "source": [
        "print(f\"Загальний таргет:\\n{working_dataframe[target].value_counts()}\", end=\"\\n\\n\")\n",
        "print(f\"Тренувальний таргет:\\n{y_train.value_counts()}\")"
      ],
      "metadata": {
        "id": "8y_eIENgkagF",
        "colab": {
          "base_uri": "https://localhost:8080/"
        },
        "outputId": "91e14746-f834-46d3-f0f4-d36c1f298129"
      },
      "execution_count": null,
      "outputs": [
        {
          "output_type": "stream",
          "name": "stdout",
          "text": [
            "Загальний таргет:\n",
            "3    183\n",
            "1    182\n",
            "5    182\n",
            "4    181\n",
            "6    181\n",
            "9    180\n",
            "7    179\n",
            "0    178\n",
            "2    177\n",
            "8    174\n",
            "Name: target, dtype: int64\n",
            "\n",
            "Тренувальний таргет:\n",
            "3    123\n",
            "1    122\n",
            "5    122\n",
            "4    121\n",
            "6    121\n",
            "9    121\n",
            "7    120\n",
            "0    119\n",
            "2    118\n",
            "8    116\n",
            "Name: target, dtype: int64\n"
          ]
        }
      ]
    },
    {
      "cell_type": "markdown",
      "source": [
        "Класи майже збалансовані. Найбільша разниця становить ~ 6%. Вважаю, що балансування класів не потрібно."
      ],
      "metadata": {
        "id": "52E98W7IlMQy"
      }
    },
    {
      "cell_type": "markdown",
      "source": [
        "### Балансування классів"
      ],
      "metadata": {
        "id": "JJtiOuZsZHE3"
      }
    },
    {
      "cell_type": "code",
      "source": [
        "x_resampled, y_resampled = x_train, y_train"
      ],
      "metadata": {
        "id": "AptPu12QYxL4"
      },
      "execution_count": null,
      "outputs": []
    },
    {
      "cell_type": "markdown",
      "source": [
        "# FIT PREDICT"
      ],
      "metadata": {
        "id": "Y44tC1kdOjsg"
      }
    },
    {
      "cell_type": "markdown",
      "source": [
        "## Functions for fit models, make predict and generate metrics"
      ],
      "metadata": {
        "id": "JyVluZzE2tfC"
      }
    },
    {
      "cell_type": "code",
      "source": [
        "def print_model_name(name: str) -> None:\n",
        "    print(\"'\" * 60)\n",
        "    print(f\"MODEL: {name}\")"
      ],
      "metadata": {
        "id": "31Nfoa2T4YAy"
      },
      "execution_count": null,
      "outputs": []
    },
    {
      "cell_type": "code",
      "source": [
        "def value_results_main(predict, y_test):\n",
        "    accuracy = accuracy_score(y_true=y_test, y_pred=predict)\n",
        "    precision = precision_score(y_true=y_test, y_pred=predict, average=\"micro\")\n",
        "    recall = recall_score(y_true=y_test, y_pred=predict, average=\"micro\")\n",
        "    f1 = f1_score(y_true=y_test, y_pred=predict, average=\"micro\")\n",
        "\n",
        "    print(\"Accuracy:\", accuracy)\n",
        "    print(\"Precision:\", precision)\n",
        "    print(\"Recall:\", recall)\n",
        "    print(\"F1 Score:\", f1)"
      ],
      "metadata": {
        "id": "dpg5pE_a-p-S"
      },
      "execution_count": null,
      "outputs": []
    },
    {
      "cell_type": "code",
      "source": [
        "def value_regression(predict, y_test):\n",
        "    model_r2: np.float64 = r2_score(y_true=y_test, y_pred=predict)\n",
        "    model_mean_squared_error: np.float64 = mean_squared_error(y_true=y_test, y_pred=predict)\n",
        "    model_mean_absolute_error: np.float64 = mean_absolute_error(y_true=y_test, y_pred=predict)\n",
        "\n",
        "    print(f\"R2:                         {model_r2}\")\n",
        "    print(f\"Mean_squared_error (MSE):   {model_mean_squared_error}\")\n",
        "    print(f\"Mean_absolute_error (MAE):  {model_mean_absolute_error}\")"
      ],
      "metadata": {
        "id": "ndnpWxC9NYhC"
      },
      "execution_count": null,
      "outputs": []
    },
    {
      "cell_type": "code",
      "source": [
        "def value_results(name:str, predict, y_test=y_test):\n",
        "    print_model_name(name=name)\n",
        "    try:\n",
        "      value_results_main(predict=predict, y_test=y_test)\n",
        "    except ValueError:\n",
        "      value_regression(predict=predict, y_test=y_test)\n",
        "\n",
        "    print(\"'\" * 60)"
      ],
      "metadata": {
        "id": "E-XbZhr26e_n"
      },
      "execution_count": null,
      "outputs": []
    },
    {
      "cell_type": "code",
      "source": [
        "def train_model(model_class, name: str, y_train=y_resampled, y_validate=y_validate, grid_params=None):\n",
        "    print_model_name(name=name)\n",
        "\n",
        "    if grid_params:\n",
        "        model: GridSearchCV = GridSearchCV(estimator=model_class, param_grid=grid_params).fit(X=x_resampled, y=y_train)\n",
        "\n",
        "        print(\"Best params: \", model.best_params_)\n",
        "        print(\"Best score: \", model.best_score_)\n",
        "\n",
        "    else:\n",
        "        model = model_class.fit(X=x_resampled, y=y_train)\n",
        "\n",
        "    y_pred = model.predict(X=x_validate)\n",
        "\n",
        "    try:\n",
        "        print(f\"Classification report:\\n{classification_report(y_true=y_validate, y_pred=y_pred)}\")\n",
        "        value_results_main(predict=y_pred, y_test=y_validate)\n",
        "\n",
        "    except ValueError:\n",
        "        value_regression(predict=y_pred, y_test=y_validate)\n",
        "\n",
        "    return model\n"
      ],
      "metadata": {
        "id": "tirIJ_hojHc4"
      },
      "execution_count": null,
      "outputs": []
    },
    {
      "cell_type": "markdown",
      "source": [
        "## Тренуємо моделі"
      ],
      "metadata": {
        "id": "QxDl8_MG3IG9"
      }
    },
    {
      "cell_type": "markdown",
      "source": [
        "### SVC()"
      ],
      "metadata": {
        "id": "wkauUbi-rdwS"
      }
    },
    {
      "cell_type": "code",
      "source": [
        "## SVC() with default hyperparams\n",
        "model_svc_default: SVC = train_model(model_class=SVC(), name=\"RandomForestClassifier with default hyperparameters\")"
      ],
      "metadata": {
        "id": "0ysKOvyBANIb",
        "colab": {
          "base_uri": "https://localhost:8080/"
        },
        "outputId": "008913ac-9f67-4645-c500-b33e2fbcffc4"
      },
      "execution_count": null,
      "outputs": [
        {
          "output_type": "stream",
          "name": "stdout",
          "text": [
            "''''''''''''''''''''''''''''''''''''''''''''''''''''''''''''\n",
            "MODEL: RandomForestClassifier with default hyperparameters\n",
            "Classification report:\n",
            "              precision    recall  f1-score   support\n",
            "\n",
            "           0       1.00      1.00      1.00        40\n",
            "           1       1.00      1.00      1.00        40\n",
            "           2       1.00      1.00      1.00        39\n",
            "           3       0.97      0.95      0.96        40\n",
            "           4       1.00      0.97      0.99        40\n",
            "           5       0.98      1.00      0.99        40\n",
            "           6       1.00      1.00      1.00        40\n",
            "           7       0.97      1.00      0.99        39\n",
            "           8       0.97      1.00      0.99        39\n",
            "           9       1.00      0.97      0.99        40\n",
            "\n",
            "    accuracy                           0.99       397\n",
            "   macro avg       0.99      0.99      0.99       397\n",
            "weighted avg       0.99      0.99      0.99       397\n",
            "\n",
            "Accuracy: 0.9899244332493703\n",
            "Precision: 0.9899244332493703\n",
            "Recall: 0.9899244332493703\n",
            "F1 Score: 0.9899244332493703\n"
          ]
        }
      ]
    },
    {
      "cell_type": "code",
      "source": [
        "## SVC() з підбіром параметрів через GridSearchCV linear kernel\n",
        "grid_params_svc_linear_kernel: dict = {\n",
        "    \"C\": [1.5],  # float, default=1.0\n",
        "    \"kernel\": [\"linear\"],  # [\"linear\", \"poly\", \"rbf\", \"sigmoid\", \"precomputed\"] or callable, default=\"rbf\"\n",
        "    \"shrinking\": [True],  # bool, default=True\n",
        "    \"probability\": [True],  # bool, default=False\n",
        "    \"tol\": [1e-3],  # float, default=1e-3\n",
        "    \"cache_size\": [200],  # float, default=200\n",
        "    \"class_weight\": [None],  # dict or ‘balanced’, default=None\n",
        "    \"verbose\": [True],  # bool, default=False\n",
        "    \"max_iter\": [-1],  # int, default=-1\n",
        "    \"decision_function_shape\": [\"ovr\"],  # [\"ovo\", \"ovr\"], default=\"ovr\"\n",
        "    \"break_ties\": [True],  # bool, default=False\n",
        "    \"random_state\": [RANDOM_STATE],  # int, RandomState instance or None, default=None\n",
        "}\n",
        "grid_model_svc_linear_kernel = train_model(model_class=SVC(), name=\"SVC with Grid hyperparameters\", grid_params=grid_params_svc_linear_kernel)"
      ],
      "metadata": {
        "id": "1WellVdaAWZb",
        "colab": {
          "base_uri": "https://localhost:8080/"
        },
        "outputId": "d1cc5e13-27f3-4e9c-ae2d-f0b741dce333"
      },
      "execution_count": null,
      "outputs": [
        {
          "output_type": "stream",
          "name": "stdout",
          "text": [
            "''''''''''''''''''''''''''''''''''''''''''''''''''''''''''''\n",
            "MODEL: SVC with Grid hyperparameters\n",
            "[LibSVM][LibSVM][LibSVM][LibSVM][LibSVM][LibSVM]Best params:  {'C': 1.5, 'break_ties': True, 'cache_size': 200, 'class_weight': None, 'decision_function_shape': 'ovr', 'kernel': 'linear', 'max_iter': -1, 'probability': True, 'random_state': 1729, 'shrinking': True, 'tol': 0.001, 'verbose': True}\n",
            "Best score:  0.9742392807745505\n",
            "Classification report:\n",
            "              precision    recall  f1-score   support\n",
            "\n",
            "           0       1.00      1.00      1.00        40\n",
            "           1       1.00      0.97      0.99        40\n",
            "           2       1.00      1.00      1.00        39\n",
            "           3       1.00      0.95      0.97        40\n",
            "           4       1.00      1.00      1.00        40\n",
            "           5       0.98      1.00      0.99        40\n",
            "           6       1.00      1.00      1.00        40\n",
            "           7       1.00      0.97      0.99        39\n",
            "           8       0.89      1.00      0.94        39\n",
            "           9       0.97      0.93      0.95        40\n",
            "\n",
            "    accuracy                           0.98       397\n",
            "   macro avg       0.98      0.98      0.98       397\n",
            "weighted avg       0.98      0.98      0.98       397\n",
            "\n",
            "Accuracy: 0.982367758186398\n",
            "Precision: 0.982367758186398\n",
            "Recall: 0.982367758186398\n",
            "F1 Score: 0.982367758186398\n"
          ]
        }
      ]
    },
    {
      "cell_type": "code",
      "source": [
        "# SVC() з підбіром параметрів через GridSearchCV poly kernel\n",
        "grid_params_svc_poly_kernel: dict = {\n",
        "    \"C\": [2],  # float, default=1.0\n",
        "    \"break_ties\": [False],  # bool, default=False\n",
        "    \"cache_size\": [200],  # float, default=200\n",
        "    \"class_weight\": [None],  # dict or \"balanced\", default=None\n",
        "    \"coef0\": [1],  # float, default=0.0   ‘poly’ and ‘sigmoid’\n",
        "    \"decision_function_shape\": [\"ovr\"],  # [\"ovo\", \"ovr\"], default=\"ovr\"\n",
        "    \"degree\": [2],  # int, default=3 only for \"poly\" kernel\n",
        "    \"gamma\": [\"scale\"],  # [\"scale\", \"auto\"] or float, default=\"scale\"\n",
        "    \"kernel\": [\"poly\"],  # [\"linear\", \"poly\", \"rbf\", \"sigmoid\", \"precomputed\"] or callable, default=\"rbf\"\n",
        "    \"max_iter\": [-1],  # int, default=-1\n",
        "    \"probability\": [True],  # bool, default=False\n",
        "    \"random_state\": [RANDOM_STATE],  # int, RandomState instance or None, default=None\n",
        "    \"shrinking\": [True],  # bool, default=True\n",
        "    \"tol\": [1e-3],  # float, default=1e-3\n",
        "    \"verbose\": [True],  # bool, default=False\n",
        "}\n",
        "grid_model_svc_poly_kernel = train_model(model_class=SVC(), name=\"SVC with Grid hyperparameters\", grid_params=grid_params_svc_poly_kernel)"
      ],
      "metadata": {
        "id": "HKLKuWo3fLSy",
        "colab": {
          "base_uri": "https://localhost:8080/"
        },
        "outputId": "1c7a09db-271f-457b-ed10-49b4adeca27e"
      },
      "execution_count": null,
      "outputs": [
        {
          "output_type": "stream",
          "name": "stdout",
          "text": [
            "''''''''''''''''''''''''''''''''''''''''''''''''''''''''''''\n",
            "MODEL: SVC with Grid hyperparameters\n",
            "[LibSVM][LibSVM][LibSVM][LibSVM][LibSVM][LibSVM]Best params:  {'C': 2, 'break_ties': False, 'cache_size': 200, 'class_weight': None, 'coef0': 1, 'decision_function_shape': 'ovr', 'degree': 2, 'gamma': 'scale', 'kernel': 'poly', 'max_iter': -1, 'probability': True, 'random_state': 1729, 'shrinking': True, 'tol': 0.001, 'verbose': True}\n",
            "Best score:  0.9858782849239281\n",
            "Classification report:\n",
            "              precision    recall  f1-score   support\n",
            "\n",
            "           0       1.00      1.00      1.00        40\n",
            "           1       1.00      1.00      1.00        40\n",
            "           2       1.00      1.00      1.00        39\n",
            "           3       1.00      1.00      1.00        40\n",
            "           4       1.00      0.97      0.99        40\n",
            "           5       0.98      1.00      0.99        40\n",
            "           6       1.00      1.00      1.00        40\n",
            "           7       0.97      0.97      0.97        39\n",
            "           8       0.97      1.00      0.99        39\n",
            "           9       0.97      0.95      0.96        40\n",
            "\n",
            "    accuracy                           0.99       397\n",
            "   macro avg       0.99      0.99      0.99       397\n",
            "weighted avg       0.99      0.99      0.99       397\n",
            "\n",
            "Accuracy: 0.9899244332493703\n",
            "Precision: 0.9899244332493703\n",
            "Recall: 0.9899244332493703\n",
            "F1 Score: 0.9899244332493703\n"
          ]
        }
      ]
    },
    {
      "cell_type": "code",
      "source": [
        "# SVC() з підбіром параметрів через GridSearchCV rbf kernel\n",
        "grid_params_svc_rbf_kernel: dict = {\n",
        "    \"C\": [3],  # float, default=1.0\n",
        "    \"break_ties\": [True],  # bool, default=False\n",
        "    \"cache_size\": [200],  # float, default=200\n",
        "    \"class_weight\": [None],  # dict or \"balanced\", default=None\n",
        "    \"decision_function_shape\": [\"ovr\"],  # [\"ovo\", \"ovr\"], default=\"ovr\"\n",
        "    \"gamma\": [\"auto\"],  # [\"scale\", \"auto\"] or float, default=\"scale\"\n",
        "    \"kernel\": [\"rbf\"],  # [\"linear\", \"poly\", \"rbf\", \"sigmoid\", \"precomputed\"] or callable, default=\"rbf\"\n",
        "    \"max_iter\": [-1],  # int, default=-1\n",
        "    \"probability\": [True],  # bool, default=False\n",
        "    \"random_state\": [RANDOM_STATE],  # int, RandomState instance or None, default=None\n",
        "    \"shrinking\": [True],  # bool, default=True\n",
        "    \"tol\": [0.15],  # float, default=1e-3\n",
        "    \"verbose\": [True],  # bool, default=False\n",
        "}\n",
        "grid_model_svc_rbf_kernel = train_model(model_class=SVC(), name=\"SVC with Grid hyperparameters\", grid_params=grid_params_svc_rbf_kernel)"
      ],
      "metadata": {
        "id": "OPqR0KKPj1IW",
        "colab": {
          "base_uri": "https://localhost:8080/"
        },
        "outputId": "703f04c7-5f23-4123-cc00-78d3ef5bbc0c"
      },
      "execution_count": null,
      "outputs": [
        {
          "output_type": "stream",
          "name": "stdout",
          "text": [
            "''''''''''''''''''''''''''''''''''''''''''''''''''''''''''''\n",
            "MODEL: SVC with Grid hyperparameters\n",
            "[LibSVM][LibSVM][LibSVM][LibSVM][LibSVM][LibSVM]Best params:  {'C': 3, 'break_ties': True, 'cache_size': 200, 'class_weight': None, 'decision_function_shape': 'ovr', 'gamma': 'auto', 'kernel': 'rbf', 'max_iter': -1, 'probability': True, 'random_state': 1729, 'shrinking': True, 'tol': 0.15, 'verbose': True}\n",
            "Best score:  0.9758990318118949\n",
            "Classification report:\n",
            "              precision    recall  f1-score   support\n",
            "\n",
            "           0       1.00      1.00      1.00        40\n",
            "           1       1.00      1.00      1.00        40\n",
            "           2       1.00      1.00      1.00        39\n",
            "           3       1.00      0.97      0.99        40\n",
            "           4       1.00      0.97      0.99        40\n",
            "           5       1.00      1.00      1.00        40\n",
            "           6       1.00      1.00      1.00        40\n",
            "           7       0.97      1.00      0.99        39\n",
            "           8       0.95      1.00      0.97        39\n",
            "           9       1.00      0.97      0.99        40\n",
            "\n",
            "    accuracy                           0.99       397\n",
            "   macro avg       0.99      0.99      0.99       397\n",
            "weighted avg       0.99      0.99      0.99       397\n",
            "\n",
            "Accuracy: 0.9924433249370277\n",
            "Precision: 0.9924433249370277\n",
            "Recall: 0.9924433249370277\n",
            "F1 Score: 0.9924433249370277\n"
          ]
        }
      ]
    },
    {
      "cell_type": "code",
      "source": [
        "# SVC() з підбіром параметрів через GridSearchCV sigmoid kernel\n",
        "grid_params_svc_sigmoid_kernel: dict = {\n",
        "    \"C\": [0.5],  # float, default=1.0\n",
        "    \"break_ties\": [False],  # [True, False], default=False\n",
        "    \"cache_size\": [200],  # float, default=200\n",
        "    \"class_weight\": [\"balanced\"],  # dict or \"balanced\", default=None\n",
        "    \"coef0\": [0.0],  # float, default=0.0    ‘poly’ and ‘sigmoid’\n",
        "    \"decision_function_shape\": [\"ovo\"],  # [\"ovo\", \"ovr\"], default=\"ovr\"\n",
        "    \"gamma\": [\"auto\"],  # [\"scale\", \"auto\"] or float, default=\"scale\"\n",
        "    \"kernel\": [\"sigmoid\"],  # [\"linear\", \"poly\", \"rbf\", \"sigmoid\", \"precomputed\"] or callable, default=\"rbf\"\n",
        "    \"max_iter\": [-1],  # int, default=-1\n",
        "    \"probability\": [True],  # [True, False], default=False\n",
        "    \"random_state\": [RANDOM_STATE],  # int, RandomState instance or None, default=None\n",
        "    \"shrinking\": [True],  # [True, False], default=True\n",
        "    \"tol\": [1e-3],  # float, default=1e-3\n",
        "    \"verbose\": [True],  # [True, False], default=False\n",
        "}\n",
        "grid_model_svc_sigmoid_kernel = train_model(model_class=SVC(), name=\"SVC with Grid hyperparameters\", grid_params=grid_params_svc_sigmoid_kernel)"
      ],
      "metadata": {
        "id": "-qcS3Ru_nLh9",
        "colab": {
          "base_uri": "https://localhost:8080/"
        },
        "outputId": "f52bc58f-5652-418a-d0c9-4283563e7a2d"
      },
      "execution_count": null,
      "outputs": [
        {
          "output_type": "stream",
          "name": "stdout",
          "text": [
            "''''''''''''''''''''''''''''''''''''''''''''''''''''''''''''\n",
            "MODEL: SVC with Grid hyperparameters\n",
            "[LibSVM][LibSVM][LibSVM][LibSVM][LibSVM][LibSVM]Best params:  {'C': 0.5, 'break_ties': False, 'cache_size': 200, 'class_weight': 'balanced', 'coef0': 0.0, 'decision_function_shape': 'ovo', 'gamma': 'auto', 'kernel': 'sigmoid', 'max_iter': -1, 'probability': True, 'random_state': 1729, 'shrinking': True, 'tol': 0.001, 'verbose': True}\n",
            "Best score:  0.9434958506224067\n",
            "Classification report:\n",
            "              precision    recall  f1-score   support\n",
            "\n",
            "           0       1.00      1.00      1.00        40\n",
            "           1       0.89      0.85      0.87        40\n",
            "           2       0.88      0.92      0.90        39\n",
            "           3       0.97      0.88      0.92        40\n",
            "           4       1.00      0.93      0.96        40\n",
            "           5       0.98      1.00      0.99        40\n",
            "           6       0.98      1.00      0.99        40\n",
            "           7       0.91      1.00      0.95        39\n",
            "           8       0.97      0.90      0.93        39\n",
            "           9       0.89      0.97      0.93        40\n",
            "\n",
            "    accuracy                           0.94       397\n",
            "   macro avg       0.95      0.94      0.94       397\n",
            "weighted avg       0.95      0.94      0.94       397\n",
            "\n",
            "Accuracy: 0.9445843828715366\n",
            "Precision: 0.9445843828715366\n",
            "Recall: 0.9445843828715366\n",
            "F1 Score: 0.9445843828715366\n"
          ]
        }
      ]
    },
    {
      "cell_type": "markdown",
      "source": [
        "### LinearSVC()"
      ],
      "metadata": {
        "id": "jYCboIKcr1KS"
      }
    },
    {
      "cell_type": "code",
      "source": [
        "# LinearSVC() with default hyperparams\n",
        "model_linear_svc_default: LinearSVC = train_model(model_class=LinearSVC(), name=\"LinearSVC with default hyperparameters\")"
      ],
      "metadata": {
        "id": "Pxb6yH4mr5rQ",
        "colab": {
          "base_uri": "https://localhost:8080/"
        },
        "outputId": "cc145fb3-36ab-4440-e88c-0356ee9bb310"
      },
      "execution_count": null,
      "outputs": [
        {
          "output_type": "stream",
          "name": "stdout",
          "text": [
            "''''''''''''''''''''''''''''''''''''''''''''''''''''''''''''\n",
            "MODEL: LinearSVC with default hyperparameters\n",
            "Classification report:\n",
            "              precision    recall  f1-score   support\n",
            "\n",
            "           0       1.00      1.00      1.00        40\n",
            "           1       0.95      0.90      0.92        40\n",
            "           2       0.97      0.97      0.97        39\n",
            "           3       0.92      0.90      0.91        40\n",
            "           4       1.00      0.95      0.97        40\n",
            "           5       0.95      0.95      0.95        40\n",
            "           6       0.93      1.00      0.96        40\n",
            "           7       0.93      0.97      0.95        39\n",
            "           8       0.90      0.92      0.91        39\n",
            "           9       0.95      0.93      0.94        40\n",
            "\n",
            "    accuracy                           0.95       397\n",
            "   macro avg       0.95      0.95      0.95       397\n",
            "weighted avg       0.95      0.95      0.95       397\n",
            "\n",
            "Accuracy: 0.9496221662468514\n",
            "Precision: 0.9496221662468514\n",
            "Recall: 0.9496221662468514\n",
            "F1 Score: 0.9496221662468514\n"
          ]
        },
        {
          "output_type": "stream",
          "name": "stderr",
          "text": [
            "/usr/local/lib/python3.10/dist-packages/sklearn/svm/_base.py:1244: ConvergenceWarning: Liblinear failed to converge, increase the number of iterations.\n",
            "  warnings.warn(\n"
          ]
        }
      ]
    },
    {
      "cell_type": "code",
      "source": [
        "# LinearSVC() з підбіром параметрів через GridSearchCV\n",
        "grid_params_model_linear_svc: dict = {\n",
        "    \"C\": [1],  # float, default=1.0\n",
        "    \"intercept_scaling\": [1.0],  # float, default=1.0\n",
        "    \"max_iter\": [1000],  # int, default=1000\n",
        "    \"verbose\": [0],  # int, default=0\n",
        "    \"tol\": [1e-4],  # float, default=1e-4\n",
        "    \"dual\": [False],  # “auto” or bool, default=True\n",
        "    \"class_weight\": [\"balanced\"],  # dict or [None, \"balanced\"], default=None\n",
        "    \"fit_intercept\": [True],  # bool, default=True\n",
        "    \"loss\": [\"squared_hinge\"],  # [\"hinge\", \"squared_hinge\"], default=\"squared_hinge\"\n",
        "    \"multi_class\": [\"crammer_singer\"],  # {\"ovr\", \"crammer_singer\"}, default=\"ovr\"\n",
        "    \"penalty\": [\"l1\"],  # [\"l1\", \"l2\"], default=\"l2\"\n",
        "    \"random_state\": [RANDOM_STATE],  # int, RandomState instance or None, default=None\n",
        "}\n",
        "grid_model_linear_svc = train_model(model_class=LinearSVC(), name=\"LinearSVC with Grid hyperparameters\", grid_params=grid_params_model_linear_svc)"
      ],
      "metadata": {
        "id": "40BDiYPG1f6g",
        "colab": {
          "base_uri": "https://localhost:8080/"
        },
        "outputId": "8f8837ce-c2d7-4a87-ccba-040255564ef0"
      },
      "execution_count": null,
      "outputs": [
        {
          "output_type": "stream",
          "name": "stdout",
          "text": [
            "''''''''''''''''''''''''''''''''''''''''''''''''''''''''''''\n",
            "MODEL: LinearSVC with Grid hyperparameters\n"
          ]
        },
        {
          "output_type": "stream",
          "name": "stderr",
          "text": [
            "/usr/local/lib/python3.10/dist-packages/sklearn/svm/_base.py:1244: ConvergenceWarning: Liblinear failed to converge, increase the number of iterations.\n",
            "  warnings.warn(\n",
            "/usr/local/lib/python3.10/dist-packages/sklearn/svm/_base.py:1244: ConvergenceWarning: Liblinear failed to converge, increase the number of iterations.\n",
            "  warnings.warn(\n",
            "/usr/local/lib/python3.10/dist-packages/sklearn/svm/_base.py:1244: ConvergenceWarning: Liblinear failed to converge, increase the number of iterations.\n",
            "  warnings.warn(\n",
            "/usr/local/lib/python3.10/dist-packages/sklearn/svm/_base.py:1244: ConvergenceWarning: Liblinear failed to converge, increase the number of iterations.\n",
            "  warnings.warn(\n"
          ]
        },
        {
          "output_type": "stream",
          "name": "stdout",
          "text": [
            "Best params:  {'C': 1, 'class_weight': 'balanced', 'dual': False, 'fit_intercept': True, 'intercept_scaling': 1.0, 'loss': 'squared_hinge', 'max_iter': 1000, 'multi_class': 'crammer_singer', 'penalty': 'l1', 'random_state': 1729, 'tol': 0.0001, 'verbose': 0}\n",
            "Best score:  0.9451417704011066\n",
            "Classification report:\n",
            "              precision    recall  f1-score   support\n",
            "\n",
            "           0       1.00      1.00      1.00        40\n",
            "           1       0.93      0.95      0.94        40\n",
            "           2       0.93      0.97      0.95        39\n",
            "           3       1.00      0.85      0.92        40\n",
            "           4       1.00      0.97      0.99        40\n",
            "           5       0.97      0.95      0.96        40\n",
            "           6       0.97      0.97      0.97        40\n",
            "           7       0.93      1.00      0.96        39\n",
            "           8       0.86      0.95      0.90        39\n",
            "           9       0.92      0.88      0.90        40\n",
            "\n",
            "    accuracy                           0.95       397\n",
            "   macro avg       0.95      0.95      0.95       397\n",
            "weighted avg       0.95      0.95      0.95       397\n",
            "\n",
            "Accuracy: 0.9496221662468514\n",
            "Precision: 0.9496221662468514\n",
            "Recall: 0.9496221662468514\n",
            "F1 Score: 0.9496221662468514\n"
          ]
        },
        {
          "output_type": "stream",
          "name": "stderr",
          "text": [
            "/usr/local/lib/python3.10/dist-packages/sklearn/svm/_base.py:1244: ConvergenceWarning: Liblinear failed to converge, increase the number of iterations.\n",
            "  warnings.warn(\n"
          ]
        }
      ]
    },
    {
      "cell_type": "markdown",
      "source": [
        "### NuSVC()"
      ],
      "metadata": {
        "id": "fvMjbBPg15zj"
      }
    },
    {
      "cell_type": "code",
      "source": [
        "# NuSVC() with default hyperparams\n",
        "model_nu_svc_default: NuSVC = train_model(model_class=NuSVC(), name=\"NuSVC with default hyperparameters\")"
      ],
      "metadata": {
        "id": "-d0pE5VP19Cr",
        "colab": {
          "base_uri": "https://localhost:8080/"
        },
        "outputId": "7f627566-206b-47eb-d3d8-90c1900daa51"
      },
      "execution_count": null,
      "outputs": [
        {
          "output_type": "stream",
          "name": "stdout",
          "text": [
            "''''''''''''''''''''''''''''''''''''''''''''''''''''''''''''\n",
            "MODEL: NuSVC with default hyperparameters\n",
            "Classification report:\n",
            "              precision    recall  f1-score   support\n",
            "\n",
            "           0       1.00      1.00      1.00        40\n",
            "           1       0.98      1.00      0.99        40\n",
            "           2       0.97      1.00      0.99        39\n",
            "           3       0.97      0.90      0.94        40\n",
            "           4       0.97      0.95      0.96        40\n",
            "           5       0.98      1.00      0.99        40\n",
            "           6       0.97      0.97      0.97        40\n",
            "           7       0.91      1.00      0.95        39\n",
            "           8       1.00      0.92      0.96        39\n",
            "           9       0.95      0.95      0.95        40\n",
            "\n",
            "    accuracy                           0.97       397\n",
            "   macro avg       0.97      0.97      0.97       397\n",
            "weighted avg       0.97      0.97      0.97       397\n",
            "\n",
            "Accuracy: 0.9697732997481109\n",
            "Precision: 0.9697732997481109\n",
            "Recall: 0.9697732997481109\n",
            "F1 Score: 0.9697732997481109\n"
          ]
        }
      ]
    },
    {
      "cell_type": "code",
      "source": [
        "# NuSVC() з підбіром параметрів через GridSearchCV linear kernel\n",
        "grid_params_nu_svc_linear_kernel: dict = {\n",
        "    \"nu\": [0.2],  # default=0.5\n",
        "    \"kernel\": [\"linear\"],  # [\"linear\", \"poly\", \"rbf\", \"sigmoid\", \"precomputed\"] or callable, default=\"rbf\"\n",
        "    \"shrinking\": [True],  # bool, default=True\n",
        "    \"probability\": [True],  # bool, default=False\n",
        "    \"tol\": [1e-3],  # float, default=1e-3\n",
        "    \"cache_size\": [200],  # float, default=200\n",
        "    \"class_weight\": [None],  # dict or ‘balanced’, default=None\n",
        "    \"verbose\": [True],  # bool, default=False\n",
        "    \"max_iter\": [-1],  # int, default=-1\n",
        "    \"decision_function_shape\": [\"ovr\"],  # [\"ovo\", \"ovr\"], default=\"ovr\"\n",
        "    \"break_ties\": [True],  # bool, default=False\n",
        "    \"random_state\": [RANDOM_STATE],  # int, RandomState instance or None, default=None\n",
        "}\n",
        "grid_model_nu_svc_linear_kernel = train_model(model_class=NuSVC(), name=\"NuSVC with Grid hyperparameters\", grid_params=grid_params_nu_svc_linear_kernel)"
      ],
      "metadata": {
        "id": "0btSHtL-2Q6l",
        "colab": {
          "base_uri": "https://localhost:8080/"
        },
        "outputId": "bb6006e6-6f86-4a46-c07c-74d4f16acc67"
      },
      "execution_count": null,
      "outputs": [
        {
          "output_type": "stream",
          "name": "stdout",
          "text": [
            "''''''''''''''''''''''''''''''''''''''''''''''''''''''''''''\n",
            "MODEL: NuSVC with Grid hyperparameters\n",
            "[LibSVM][LibSVM][LibSVM][LibSVM][LibSVM][LibSVM]Best params:  {'break_ties': True, 'cache_size': 200, 'class_weight': None, 'decision_function_shape': 'ovr', 'kernel': 'linear', 'max_iter': -1, 'nu': 0.2, 'probability': True, 'random_state': 1729, 'shrinking': True, 'tol': 0.001, 'verbose': True}\n",
            "Best score:  0.9684232365145228\n",
            "Classification report:\n",
            "              precision    recall  f1-score   support\n",
            "\n",
            "           0       1.00      1.00      1.00        40\n",
            "           1       1.00      1.00      1.00        40\n",
            "           2       1.00      1.00      1.00        39\n",
            "           3       1.00      0.90      0.95        40\n",
            "           4       1.00      0.95      0.97        40\n",
            "           5       0.98      1.00      0.99        40\n",
            "           6       0.98      1.00      0.99        40\n",
            "           7       0.93      1.00      0.96        39\n",
            "           8       0.95      0.95      0.95        39\n",
            "           9       0.95      0.97      0.96        40\n",
            "\n",
            "    accuracy                           0.98       397\n",
            "   macro avg       0.98      0.98      0.98       397\n",
            "weighted avg       0.98      0.98      0.98       397\n",
            "\n",
            "Accuracy: 0.9773299748110831\n",
            "Precision: 0.9773299748110831\n",
            "Recall: 0.9773299748110831\n",
            "F1 Score: 0.9773299748110831\n"
          ]
        }
      ]
    },
    {
      "cell_type": "code",
      "source": [
        "# NuSVC() з підбіром параметрів через GridSearchCV poly kernel\n",
        "grid_params_nu_svc_poly_kernel: dict = {\n",
        "    \"nu\": [0.001],  # default=0.5\n",
        "    \"break_ties\": [False],  # bool, default=False\n",
        "    \"cache_size\": [200],  # float, default=200\n",
        "    \"class_weight\": [None],  # dict or \"balanced\", default=None\n",
        "    \"coef0\": [1],  # float, default=0.0   ‘poly’ and ‘sigmoid’\n",
        "    \"decision_function_shape\": [\"ovr\"],  # [\"ovo\", \"ovr\"], default=\"ovr\"\n",
        "    \"degree\": [2],  # int, default=3 only for \"poly\" kernel\n",
        "    \"gamma\": [\"scale\"],  # [\"scale\", \"auto\"] or float, default=\"scale\"\n",
        "    \"kernel\": [\"poly\"],  # [\"linear\", \"poly\", \"rbf\", \"sigmoid\", \"precomputed\"] or callable, default=\"rbf\"\n",
        "    \"max_iter\": [-1],  # int, default=-1\n",
        "    \"probability\": [True],  # bool, default=False\n",
        "    \"random_state\": [RANDOM_STATE],  # int, RandomState instance or None, default=None\n",
        "    \"shrinking\": [True],  # bool, default=True\n",
        "    \"tol\": [1e-3],  # float, default=1e-3\n",
        "    \"verbose\": [True],  # bool, default=False\n",
        "}\n",
        "grid_model_nu_svc_poly_kernel = train_model(model_class=NuSVC(), name=\"NuSVC with Grid hyperparameters\", grid_params=grid_params_nu_svc_poly_kernel)"
      ],
      "metadata": {
        "id": "y9GdgcRy7HMD",
        "colab": {
          "base_uri": "https://localhost:8080/"
        },
        "outputId": "f6d74d11-202a-4cbf-f67a-b3c932110175"
      },
      "execution_count": null,
      "outputs": [
        {
          "output_type": "stream",
          "name": "stdout",
          "text": [
            "''''''''''''''''''''''''''''''''''''''''''''''''''''''''''''\n",
            "MODEL: NuSVC with Grid hyperparameters\n",
            "[LibSVM][LibSVM][LibSVM][LibSVM][LibSVM][LibSVM]Best params:  {'break_ties': False, 'cache_size': 200, 'class_weight': None, 'coef0': 1, 'decision_function_shape': 'ovr', 'degree': 2, 'gamma': 'scale', 'kernel': 'poly', 'max_iter': -1, 'nu': 0.001, 'probability': True, 'random_state': 1729, 'shrinking': True, 'tol': 0.001, 'verbose': True}\n",
            "Best score:  0.9867081604426003\n",
            "Classification report:\n",
            "              precision    recall  f1-score   support\n",
            "\n",
            "           0       1.00      1.00      1.00        40\n",
            "           1       1.00      0.97      0.99        40\n",
            "           2       1.00      1.00      1.00        39\n",
            "           3       1.00      1.00      1.00        40\n",
            "           4       1.00      0.97      0.99        40\n",
            "           5       0.98      1.00      0.99        40\n",
            "           6       1.00      1.00      1.00        40\n",
            "           7       0.97      0.97      0.97        39\n",
            "           8       0.95      1.00      0.97        39\n",
            "           9       0.97      0.95      0.96        40\n",
            "\n",
            "    accuracy                           0.99       397\n",
            "   macro avg       0.99      0.99      0.99       397\n",
            "weighted avg       0.99      0.99      0.99       397\n",
            "\n",
            "Accuracy: 0.9874055415617129\n",
            "Precision: 0.9874055415617129\n",
            "Recall: 0.9874055415617129\n",
            "F1 Score: 0.9874055415617129\n"
          ]
        }
      ]
    },
    {
      "cell_type": "code",
      "source": [
        "# NuSVC() з підбіром параметрів через GridSearchCV rbf kernel\n",
        "grid_params_nu_svc_rbf_kernel: dict = {\n",
        "    \"nu\": [0.001],  # default=0.5\n",
        "    \"break_ties\": [True],  # bool, default=False\n",
        "    \"cache_size\": [200],  # float, default=200\n",
        "    \"class_weight\": [None],  # dict or \"balanced\", default=None\n",
        "    \"decision_function_shape\": [\"ovr\"],  # [\"ovo\", \"ovr\"], default=\"ovr\"\n",
        "    \"gamma\": [\"auto\"],  # [\"scale\", \"auto\"] or float, default=\"scale\"\n",
        "    \"kernel\": [\"rbf\"],  # [\"linear\", \"poly\", \"rbf\", \"sigmoid\", \"precomputed\"] or callable, default=\"rbf\"\n",
        "    \"max_iter\": [-1],  # int, default=-1\n",
        "    \"probability\": [True],  # bool, default=False\n",
        "    \"random_state\": [RANDOM_STATE],  # int, RandomState instance or None, default=None\n",
        "    \"shrinking\": [True],  # bool, default=True\n",
        "    \"tol\": [0.0015],  # float, default=1e-3\n",
        "    \"verbose\": [True],  # bool, default=False\n",
        "}\n",
        "grid_model_nu_svc_rbf_kernel = train_model(model_class=NuSVC(), name=\"NuSVC with Grid hyperparameters\", grid_params=grid_params_nu_svc_rbf_kernel)"
      ],
      "metadata": {
        "id": "sspXIAN58pUS",
        "colab": {
          "base_uri": "https://localhost:8080/"
        },
        "outputId": "cb08d535-4b6a-4c74-bf1c-ac8bd67d2079"
      },
      "execution_count": null,
      "outputs": [
        {
          "output_type": "stream",
          "name": "stdout",
          "text": [
            "''''''''''''''''''''''''''''''''''''''''''''''''''''''''''''\n",
            "MODEL: NuSVC with Grid hyperparameters\n",
            "[LibSVM][LibSVM][LibSVM][LibSVM][LibSVM][LibSVM]Best params:  {'break_ties': True, 'cache_size': 200, 'class_weight': None, 'decision_function_shape': 'ovr', 'gamma': 'auto', 'kernel': 'rbf', 'max_iter': -1, 'nu': 0.001, 'probability': True, 'random_state': 1729, 'shrinking': True, 'tol': 0.0015, 'verbose': True}\n",
            "Best score:  0.9734059474412172\n",
            "Classification report:\n",
            "              precision    recall  f1-score   support\n",
            "\n",
            "           0       1.00      1.00      1.00        40\n",
            "           1       1.00      1.00      1.00        40\n",
            "           2       1.00      1.00      1.00        39\n",
            "           3       1.00      0.97      0.99        40\n",
            "           4       1.00      0.97      0.99        40\n",
            "           5       1.00      1.00      1.00        40\n",
            "           6       1.00      1.00      1.00        40\n",
            "           7       0.97      1.00      0.99        39\n",
            "           8       0.95      1.00      0.97        39\n",
            "           9       1.00      0.97      0.99        40\n",
            "\n",
            "    accuracy                           0.99       397\n",
            "   macro avg       0.99      0.99      0.99       397\n",
            "weighted avg       0.99      0.99      0.99       397\n",
            "\n",
            "Accuracy: 0.9924433249370277\n",
            "Precision: 0.9924433249370277\n",
            "Recall: 0.9924433249370277\n",
            "F1 Score: 0.9924433249370277\n"
          ]
        }
      ]
    },
    {
      "cell_type": "code",
      "source": [
        "# NuSVC() з підбіром параметрів через GridSearchCV sigmoid kernel\n",
        "grid_params_nu_svc_sigmoid_kernel: dict = {\n",
        "    \"nu\": [0.6],  # default=0.5\n",
        "    \"break_ties\": [False],  # [True, False], default=False\n",
        "    \"cache_size\": [200],  # float, default=200\n",
        "    \"class_weight\": [\"balanced\"],  # dict or \"balanced\", default=None\n",
        "    \"coef0\": [0.0],  # float, default=0.0    ‘poly’ and ‘sigmoid’\n",
        "    \"decision_function_shape\": [\"ovo\"],  # [\"ovo\", \"ovr\"], default=\"ovr\"\n",
        "    \"gamma\": [\"auto\"],  # [\"scale\", \"auto\"] or float, default=\"scale\"\n",
        "    \"kernel\": [\"sigmoid\"],  # [\"linear\", \"poly\", \"rbf\", \"sigmoid\", \"precomputed\"] or callable, default=\"rbf\"\n",
        "    \"max_iter\": [-1],  # int, default=-1\n",
        "    \"probability\": [True],  # [True, False], default=False\n",
        "    \"random_state\": [RANDOM_STATE],  # int, RandomState instance or None, default=None\n",
        "    \"shrinking\": [True],  # [True, False], default=True\n",
        "    \"tol\": [0.1],  # float, default=1e-3\n",
        "    \"verbose\": [True],  # [True, False], default=False\n",
        "}\n",
        "grid_model_nu_svc_sigmoid_kernel = train_model(model_class=NuSVC(), name=\"NuSVC with Grid hyperparameters\", grid_params=grid_params_nu_svc_sigmoid_kernel)"
      ],
      "metadata": {
        "id": "kd3f6tin-CSL",
        "colab": {
          "base_uri": "https://localhost:8080/"
        },
        "outputId": "7c79ef0c-8022-4d55-e090-ba6014a381cf"
      },
      "execution_count": null,
      "outputs": [
        {
          "output_type": "stream",
          "name": "stdout",
          "text": [
            "''''''''''''''''''''''''''''''''''''''''''''''''''''''''''''\n",
            "MODEL: NuSVC with Grid hyperparameters\n",
            "[LibSVM][LibSVM][LibSVM][LibSVM][LibSVM][LibSVM]Best params:  {'break_ties': False, 'cache_size': 200, 'class_weight': 'balanced', 'coef0': 0.0, 'decision_function_shape': 'ovo', 'gamma': 'auto', 'kernel': 'sigmoid', 'max_iter': -1, 'nu': 0.6, 'probability': True, 'random_state': 1729, 'shrinking': True, 'tol': 0.1, 'verbose': True}\n",
            "Best score:  0.9185546334716459\n",
            "Classification report:\n",
            "              precision    recall  f1-score   support\n",
            "\n",
            "           0       1.00      1.00      1.00        40\n",
            "           1       0.87      0.82      0.85        40\n",
            "           2       0.86      0.95      0.90        39\n",
            "           3       0.97      0.80      0.88        40\n",
            "           4       1.00      0.93      0.96        40\n",
            "           5       0.95      0.97      0.96        40\n",
            "           6       0.98      1.00      0.99        40\n",
            "           7       0.85      1.00      0.92        39\n",
            "           8       0.97      0.82      0.89        39\n",
            "           9       0.84      0.95      0.89        40\n",
            "\n",
            "    accuracy                           0.92       397\n",
            "   macro avg       0.93      0.92      0.92       397\n",
            "weighted avg       0.93      0.92      0.92       397\n",
            "\n",
            "Accuracy: 0.924433249370277\n",
            "Precision: 0.924433249370277\n",
            "Recall: 0.924433249370277\n",
            "F1 Score: 0.924433249370277\n"
          ]
        }
      ]
    },
    {
      "cell_type": "markdown",
      "source": [
        "## Порівняння результатів"
      ],
      "metadata": {
        "id": "1y7hwESz_KnA"
      }
    },
    {
      "cell_type": "code",
      "source": [
        "value_results(name=\"SVC with default hyperparameters\", predict=model_svc_default.predict(X=x_test))\n",
        "value_results(name=\"SVC with linear kernel\", predict=grid_model_svc_linear_kernel.predict(X=x_test))\n",
        "value_results(name=\"SVC with poly kernel\", predict=grid_model_svc_poly_kernel.predict(X=x_test))\n",
        "value_results(name=\"SVC with rbf kernel\", predict=grid_model_svc_rbf_kernel.predict(X=x_test))\n",
        "value_results(name=\"SVC with sigmoid kernel\", predict=grid_model_svc_sigmoid_kernel.predict(X=x_test))\n",
        "\n",
        "value_results(name=\"LinearSVC default \", predict=model_linear_svc_default.predict(X=x_test))\n",
        "value_results(name=\"LinearSVC with Grid hyperparameters \", predict=grid_model_linear_svc.predict(X=x_test))\n",
        "\n",
        "value_results(name=\"NuSVC default \", predict=model_nu_svc_default.predict(X=x_test))\n",
        "value_results(name=\"NuSVC with linear kernel\", predict=grid_model_nu_svc_linear_kernel.predict(X=x_test))\n",
        "value_results(name=\"NuSVC with poly kernel\", predict=grid_model_nu_svc_poly_kernel.predict(X=x_test))\n",
        "value_results(name=\"NuSVC with rbf kernel\", predict=grid_model_nu_svc_rbf_kernel.predict(X=x_test))\n",
        "value_results(name=\"NuSVC with sigmoid kernel\", predict=grid_model_nu_svc_sigmoid_kernel.predict(X=x_test))"
      ],
      "metadata": {
        "id": "KFhiZLT0_Oyt",
        "colab": {
          "base_uri": "https://localhost:8080/"
        },
        "outputId": "067b6749-1e8e-4da2-94e7-0683bb240276"
      },
      "execution_count": null,
      "outputs": [
        {
          "output_type": "stream",
          "name": "stdout",
          "text": [
            "''''''''''''''''''''''''''''''''''''''''''''''''''''''''''''\n",
            "MODEL: SVC with default hyperparameters\n",
            "Accuracy: 0.9644670050761421\n",
            "Precision: 0.9644670050761421\n",
            "Recall: 0.9644670050761421\n",
            "F1 Score: 0.9644670050761421\n",
            "''''''''''''''''''''''''''''''''''''''''''''''''''''''''''''\n",
            "''''''''''''''''''''''''''''''''''''''''''''''''''''''''''''\n",
            "MODEL: SVC with linear kernel\n",
            "Accuracy: 0.9746192893401016\n",
            "Precision: 0.9746192893401016\n",
            "Recall: 0.9746192893401016\n",
            "F1 Score: 0.9746192893401016\n",
            "''''''''''''''''''''''''''''''''''''''''''''''''''''''''''''\n",
            "''''''''''''''''''''''''''''''''''''''''''''''''''''''''''''\n",
            "MODEL: SVC with poly kernel\n",
            "Accuracy: 0.9898477157360406\n",
            "Precision: 0.9898477157360406\n",
            "Recall: 0.9898477157360406\n",
            "F1 Score: 0.9898477157360406\n",
            "''''''''''''''''''''''''''''''''''''''''''''''''''''''''''''\n",
            "''''''''''''''''''''''''''''''''''''''''''''''''''''''''''''\n",
            "MODEL: SVC with rbf kernel\n",
            "Accuracy: 0.9746192893401016\n",
            "Precision: 0.9746192893401016\n",
            "Recall: 0.9746192893401016\n",
            "F1 Score: 0.9746192893401016\n",
            "''''''''''''''''''''''''''''''''''''''''''''''''''''''''''''\n",
            "''''''''''''''''''''''''''''''''''''''''''''''''''''''''''''\n",
            "MODEL: SVC with sigmoid kernel\n",
            "Accuracy: 0.9543147208121827\n",
            "Precision: 0.9543147208121827\n",
            "Recall: 0.9543147208121827\n",
            "F1 Score: 0.9543147208121827\n",
            "''''''''''''''''''''''''''''''''''''''''''''''''''''''''''''\n",
            "''''''''''''''''''''''''''''''''''''''''''''''''''''''''''''\n",
            "MODEL: LinearSVC default \n",
            "Accuracy: 0.9441624365482234\n",
            "Precision: 0.9441624365482234\n",
            "Recall: 0.9441624365482234\n",
            "F1 Score: 0.9441624365482234\n",
            "''''''''''''''''''''''''''''''''''''''''''''''''''''''''''''\n",
            "''''''''''''''''''''''''''''''''''''''''''''''''''''''''''''\n",
            "MODEL: LinearSVC with Grid hyperparameters \n",
            "Accuracy: 0.9593908629441624\n",
            "Precision: 0.9593908629441624\n",
            "Recall: 0.9593908629441624\n",
            "F1 Score: 0.9593908629441623\n",
            "''''''''''''''''''''''''''''''''''''''''''''''''''''''''''''\n",
            "''''''''''''''''''''''''''''''''''''''''''''''''''''''''''''\n",
            "MODEL: NuSVC default \n",
            "Accuracy: 0.9441624365482234\n",
            "Precision: 0.9441624365482234\n",
            "Recall: 0.9441624365482234\n",
            "F1 Score: 0.9441624365482234\n",
            "''''''''''''''''''''''''''''''''''''''''''''''''''''''''''''\n",
            "''''''''''''''''''''''''''''''''''''''''''''''''''''''''''''\n",
            "MODEL: NuSVC with linear kernel\n",
            "Accuracy: 0.9746192893401016\n",
            "Precision: 0.9746192893401016\n",
            "Recall: 0.9746192893401016\n",
            "F1 Score: 0.9746192893401016\n",
            "''''''''''''''''''''''''''''''''''''''''''''''''''''''''''''\n",
            "''''''''''''''''''''''''''''''''''''''''''''''''''''''''''''\n",
            "MODEL: NuSVC with poly kernel\n",
            "Accuracy: 0.9898477157360406\n",
            "Precision: 0.9898477157360406\n",
            "Recall: 0.9898477157360406\n",
            "F1 Score: 0.9898477157360406\n",
            "''''''''''''''''''''''''''''''''''''''''''''''''''''''''''''\n",
            "''''''''''''''''''''''''''''''''''''''''''''''''''''''''''''\n",
            "MODEL: NuSVC with rbf kernel\n",
            "Accuracy: 0.9746192893401016\n",
            "Precision: 0.9746192893401016\n",
            "Recall: 0.9746192893401016\n",
            "F1 Score: 0.9746192893401016\n",
            "''''''''''''''''''''''''''''''''''''''''''''''''''''''''''''\n",
            "''''''''''''''''''''''''''''''''''''''''''''''''''''''''''''\n",
            "MODEL: NuSVC with sigmoid kernel\n",
            "Accuracy: 0.9289340101522843\n",
            "Precision: 0.9289340101522843\n",
            "Recall: 0.9289340101522843\n",
            "F1 Score: 0.9289340101522843\n",
            "''''''''''''''''''''''''''''''''''''''''''''''''''''''''''''\n"
          ]
        }
      ]
    },
    {
      "cell_type": "markdown",
      "source": [
        "# Висновок"
      ],
      "metadata": {
        "id": "MogzR3xSeC69"
      }
    },
    {
      "cell_type": "markdown",
      "source": [
        "Провів тести на 3 різних моделях (SVC, NuSVC, LinearSVC) з дефолтними, та підібраними гіперпараметрами для досягнення найкращого предикту.\n",
        "\n",
        "**Балансування** класів не робив, тому що класи майже сбалансовані, максимальна різниця становить ~6% від кількості екземплярів.\n",
        "\n",
        "**Масштабування** проводив на трьох скалєрах: StandardScaler, RobustScaler, PowerTransformer. Найкращий рещультат показав StandardScaler.\n",
        "\n",
        "**Feature Engineering** по тз пропускаємо.\n",
        "\n",
        "Найкращі та стабільні результати показали 2 моделі:\n",
        "1. SVC() модель з мануально підібраними гіперпараметрами, та ядром \"poly\"\n",
        "2. NuSVC() модель з мануально підібраними гіперпараметрами, та ядром \"poly\"\n",
        "\n",
        "Обидві моделі видають F1 Score ~ 0.9898, якщо округлити: 0.99\n",
        "\n",
        "Варто відмітити, що моделі \"SVC\" та \"NuSVC\" - це майже одна й та сама модель, за вийнятком двох гіперпараметрів: \"nu\" у \"NuSVC\", та \"C\" у \"SVC\". Тому логічно, що у них однаковий предикт.\n",
        "\n",
        "Також, як можна побачити по метриках, майже завжди кращий результат показують моделі з \"підігнаними\" гіперпараметрами (за вийнятком ядра \"sigmoid\", з ним предикт вище ніж ніж з дефолтними гіперпараметрами не вдалося розігнати), так як дефолтні не можуть завжди підходити до будь-якого датасету.\n",
        "\n",
        "Варто завжди приділяти цьому увагу."
      ],
      "metadata": {
        "id": "PsCHS9u7eINn"
      }
    }
  ]
}
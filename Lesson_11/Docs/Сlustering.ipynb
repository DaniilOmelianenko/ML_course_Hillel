{
  "cells": [
    {
      "cell_type": "code",
      "execution_count": null,
      "metadata": {
        "id": "dDZJZjUcmj-P"
      },
      "outputs": [],
      "source": [
        "import numpy as np\n",
        "from sklearn.cluster import AgglomerativeClustering, DBSCAN, KMeans, Birch\n",
        "from sklearn.metrics import silhouette_score\n",
        "import matplotlib.pyplot as plt"
      ]
    },
    {
      "cell_type": "code",
      "execution_count": null,
      "metadata": {
        "id": "a6C8YfVtmj-U"
      },
      "outputs": [],
      "source": [
        "# https://scikit-learn.org/stable/modules/clustering.html#overview-of-clustering-methods\n",
        "# http://shabal.in/visuals/kmeans/1.html\n",
        "# https://www.naftaliharris.com/blog/visualizing-k-means-clustering/\n",
        "# https://towardsdatascience.com/visual-introduction-to-clustering-with-kmeans-89e71e97c60f\n",
        "# https://stackabuse.com/hierarchical-clustering-with-python-and-scikit-learn/\n",
        "# https://medium.com/@agarwalvibhor84/lets-cluster-data-points-using-dbscan-278c5459bee5\n",
        "# http://datamining.rutgers.edu/publication/internalmeasures.pdf"
      ]
    },
    {
      "cell_type": "code",
      "execution_count": null,
      "metadata": {
        "id": "3YndcguLmj-U"
      },
      "outputs": [],
      "source": [
        "X = np.array([[1, 2], [1, 4], [1, 0],[10, 2], [10, 4], [10, 0]])"
      ]
    },
    {
      "cell_type": "code",
      "execution_count": null,
      "metadata": {
        "id": "gOG9D7t2mj-V",
        "outputId": "1cea92f0-153b-487f-8796-c1c2e64d715d"
      },
      "outputs": [
        {
          "data": {
            "image/png": "[encoded data removed]",
            "text/plain": [
              "<Figure size 432x288 with 1 Axes>"
            ]
          },
          "metadata": {
            "needs_background": "light"
          },
          "output_type": "display_data"
        }
      ],
      "source": [
        "plt.plot([x[0] for x in X], [y[1] for y in X], 'ro')\n",
        "plt.axis([-1, 11, -1, 11])\n",
        "plt.show()"
      ]
    },
    {
      "cell_type": "code",
      "execution_count": null,
      "metadata": {
        "id": "pGQRqGi_mj-W"
      },
      "outputs": [],
      "source": [
        "kmeans = KMeans(n_clusters=2, random_state=0).fit(X)"
      ]
    },
    {
      "cell_type": "code",
      "execution_count": null,
      "metadata": {
        "id": "hJv7aqxNmj-W",
        "outputId": "c0c9e9de-2eba-43cc-ab92-0bddd4f1eb2d"
      },
      "outputs": [
        {
          "data": {
            "text/plain": [
              "KMeans(algorithm='auto', copy_x=True, init='k-means++', max_iter=300,\n",
              "       n_clusters=2, n_init=10, n_jobs=None, precompute_distances='auto',\n",
              "       random_state=0, tol=0.0001, verbose=0)"
            ]
          },
          "execution_count": 45,
          "metadata": {},
          "output_type": "execute_result"
        }
      ],
      "source": [
        "kmeans"
      ]
    },
    {
      "cell_type": "code",
      "execution_count": null,
      "metadata": {
        "id": "8g1GkQUxmj-X",
        "outputId": "624c7512-1d1f-4149-dcb6-4b497e38a143"
      },
      "outputs": [
        {
          "data": {
            "text/plain": [
              "array([1, 1, 1, 0, 0, 0], dtype=int32)"
            ]
          },
          "execution_count": 46,
          "metadata": {},
          "output_type": "execute_result"
        }
      ],
      "source": [
        "kmeans.labels_"
      ]
    },
    {
      "cell_type": "code",
      "execution_count": null,
      "metadata": {
        "id": "9i_54uhpmj-Y",
        "outputId": "d60377f9-ee3a-4d50-99f7-a6f4273adb2f"
      },
      "outputs": [
        {
          "data": {
            "text/plain": [
              "array([1, 0], dtype=int32)"
            ]
          },
          "execution_count": 47,
          "metadata": {},
          "output_type": "execute_result"
        }
      ],
      "source": [
        "kmeans.predict([[0, 0], [12, 3]])"
      ]
    },
    {
      "cell_type": "code",
      "execution_count": null,
      "metadata": {
        "id": "tIMX56C4mj-Y",
        "outputId": "cc93ab38-3c57-4476-9797-e9b4512fb9c9"
      },
      "outputs": [
        {
          "data": {
            "text/plain": [
              "array([[10.,  2.],\n",
              "       [ 1.,  2.]])"
            ]
          },
          "execution_count": 48,
          "metadata": {},
          "output_type": "execute_result"
        }
      ],
      "source": [
        "kmeans.cluster_centers_"
      ]
    },
    {
      "cell_type": "code",
      "execution_count": null,
      "metadata": {
        "id": "6JWPu6jmmj-Z",
        "outputId": "cc4a5e40-7bd5-4401-ecf9-907a86eca645"
      },
      "outputs": [
        {
          "data": {
            "text/plain": [
              "0.7133477791749615"
            ]
          },
          "execution_count": 49,
          "metadata": {},
          "output_type": "execute_result"
        }
      ],
      "source": [
        "silhouette_score(X, kmeans.labels_)"
      ]
    },
    {
      "cell_type": "code",
      "execution_count": null,
      "metadata": {
        "id": "lGYN3242mj-Z",
        "outputId": "21596e01-6670-4109-e796-f78a87cdb7a3"
      },
      "outputs": [
        {
          "data": {
            "text/plain": [
              "0.43630092057240805"
            ]
          },
          "execution_count": 50,
          "metadata": {},
          "output_type": "execute_result"
        }
      ],
      "source": [
        "kmeans = KMeans(n_clusters=3, random_state=0).fit(X)\n",
        "silhouette_score(X, kmeans.labels_)"
      ]
    },
    {
      "cell_type": "code",
      "execution_count": null,
      "metadata": {
        "id": "Mhyjp2nRmj-a",
        "outputId": "0bcc9de3-8133-4dbe-cd2d-6e6966c534dd"
      },
      "outputs": [
        {
          "data": {
            "text/plain": [
              "0.16666666666666666"
            ]
          },
          "execution_count": 51,
          "metadata": {},
          "output_type": "execute_result"
        }
      ],
      "source": [
        "kmeans = KMeans(n_clusters=4, random_state=0).fit(X)\n",
        "silhouette_score(X, kmeans.labels_)"
      ]
    },
    {
      "cell_type": "code",
      "execution_count": null,
      "metadata": {
        "id": "tVCbkOFxmj-a"
      },
      "outputs": [],
      "source": [
        "X = np.array([[1, 2], [2, 2], [2, 3], [8, 7], [8, 8], [25, 80]])"
      ]
    },
    {
      "cell_type": "code",
      "execution_count": null,
      "metadata": {
        "id": "WqAk5Jismj-b",
        "outputId": "8021f261-0976-4a3d-ddab-791b4e7361f7"
      },
      "outputs": [
        {
          "data": {
            "image/png": "[encoded data removed]",
            "text/plain": [
              "<Figure size 432x288 with 1 Axes>"
            ]
          },
          "metadata": {
            "needs_background": "light"
          },
          "output_type": "display_data"
        }
      ],
      "source": [
        "plt.plot([x[0] for x in X], [y[1] for y in X], 'ro')\n",
        "plt.axis([-1, 30, -1, 100])\n",
        "plt.show()"
      ]
    },
    {
      "cell_type": "code",
      "execution_count": null,
      "metadata": {
        "id": "J3IQO3Iamj-b"
      },
      "outputs": [],
      "source": [
        "clustering = DBSCAN(eps=3, min_samples=2).fit(X)"
      ]
    },
    {
      "cell_type": "code",
      "execution_count": null,
      "metadata": {
        "id": "qdJZUZWimj-b",
        "outputId": "849aa119-9906-4d01-fa78-0ed8cc337d83"
      },
      "outputs": [
        {
          "data": {
            "text/plain": [
              "array([ 0,  0,  0,  1,  1, -1])"
            ]
          },
          "execution_count": 55,
          "metadata": {},
          "output_type": "execute_result"
        }
      ],
      "source": [
        "clustering.labels_"
      ]
    },
    {
      "cell_type": "code",
      "execution_count": null,
      "metadata": {
        "id": "ptmXatqVmj-c",
        "outputId": "ad225d42-46cc-4877-f28f-61d85aec3aa1"
      },
      "outputs": [
        {
          "data": {
            "text/plain": [
              "DBSCAN(algorithm='auto', eps=3, leaf_size=30, metric='euclidean',\n",
              "       metric_params=None, min_samples=2, n_jobs=None, p=None)"
            ]
          },
          "execution_count": 56,
          "metadata": {},
          "output_type": "execute_result"
        }
      ],
      "source": [
        "clustering"
      ]
    },
    {
      "cell_type": "code",
      "execution_count": null,
      "metadata": {
        "id": "nsXadE-8mj-c",
        "outputId": "ca7b7560-73c8-4d27-c8ff-cc0330b88cef"
      },
      "outputs": [
        {
          "name": "stderr",
          "output_type": "stream",
          "text": [
            "/usr/lib/python3.6/importlib/_bootstrap.py:219: RuntimeWarning: numpy.ufunc size changed, may indicate binary incompatibility. Expected 192 from C header, got 216 from PyObject\n",
            "  return f(*args, **kwds)\n"
          ]
        }
      ],
      "source": [
        "clustering = AgglomerativeClustering().fit(X)"
      ]
    },
    {
      "cell_type": "code",
      "execution_count": null,
      "metadata": {
        "id": "JG33Mt1mmj-c",
        "outputId": "8b8093a8-2880-487e-d085-ec646db3ceb6"
      },
      "outputs": [
        {
          "data": {
            "text/plain": [
              "AgglomerativeClustering(affinity='euclidean', compute_full_tree='auto',\n",
              "                        connectivity=None, distance_threshold=None,\n",
              "                        linkage='ward', memory=None, n_clusters=2,\n",
              "                        pooling_func='deprecated')"
            ]
          },
          "execution_count": 58,
          "metadata": {},
          "output_type": "execute_result"
        }
      ],
      "source": [
        "clustering"
      ]
    },
    {
      "cell_type": "code",
      "execution_count": null,
      "metadata": {
        "id": "BRKsHaLSmj-c",
        "outputId": "2a80e6f4-5ab7-4fed-fb61-e144a33e57a3"
      },
      "outputs": [
        {
          "data": {
            "text/plain": [
              "array([0, 0, 0, 0, 0, 1])"
            ]
          },
          "execution_count": 59,
          "metadata": {},
          "output_type": "execute_result"
        }
      ],
      "source": [
        "clustering.labels_"
      ]
    },
    {
      "cell_type": "code",
      "execution_count": null,
      "metadata": {
        "id": "XBLytq2jmj-d"
      },
      "outputs": [],
      "source": [
        "X = [[0, 1], [0.3, 1], [-0.3, 1], [0, -1], [0.3, -1], [-0.3, -1]]"
      ]
    },
    {
      "cell_type": "code",
      "execution_count": null,
      "metadata": {
        "id": "PP6uHhSpmj-d",
        "outputId": "ba29c2c7-1d70-46ab-d269-b4d7d8a1f66a"
      },
      "outputs": [
        {
          "data": {
            "image/png": "[encoded data removed]",
            "text/plain": [
              "<Figure size 432x288 with 1 Axes>"
            ]
          },
          "metadata": {
            "needs_background": "light"
          },
          "output_type": "display_data"
        }
      ],
      "source": [
        "plt.plot([x[0] for x in X], [y[1] for y in X], 'ro')\n",
        "plt.axis([-1, 1, -2, 2])\n",
        "plt.show()"
      ]
    },
    {
      "cell_type": "code",
      "execution_count": null,
      "metadata": {
        "id": "_i6a7Wuvmj-d"
      },
      "outputs": [],
      "source": [
        "brc = Birch(n_clusters=None)"
      ]
    },
    {
      "cell_type": "code",
      "execution_count": null,
      "metadata": {
        "id": "33VWmuOJmj-e",
        "outputId": "f98e35a9-9226-4fb7-b7ef-2265abb9ac80"
      },
      "outputs": [
        {
          "data": {
            "text/plain": [
              "Birch(branching_factor=50, compute_labels=True, copy=True, n_clusters=None,\n",
              "      threshold=0.5)"
            ]
          },
          "execution_count": 63,
          "metadata": {},
          "output_type": "execute_result"
        }
      ],
      "source": [
        "brc.fit(X)"
      ]
    },
    {
      "cell_type": "code",
      "execution_count": null,
      "metadata": {
        "id": "e2DXQj4Pmj-e",
        "outputId": "180a0244-b084-40a1-fbee-88b0756ca3c2"
      },
      "outputs": [
        {
          "data": {
            "text/plain": [
              "array([0, 0, 0, 1, 1, 1])"
            ]
          },
          "execution_count": 64,
          "metadata": {},
          "output_type": "execute_result"
        }
      ],
      "source": [
        "brc.predict(X)"
      ]
    },
    {
      "cell_type": "code",
      "execution_count": null,
      "metadata": {
        "id": "uoYxpVJ4mj-e"
      },
      "outputs": [],
      "source": [
        "# https://habrastorage.org/files/e03/cad/705/e03cad70566941a2984f485dd6b069e2.png"
      ]
    },
    {
      "cell_type": "code",
      "execution_count": null,
      "metadata": {
        "id": "nUtvyeIMmj-e"
      },
      "outputs": [],
      "source": []
    }
  ],
  "metadata": {
    "kernelspec": {
      "display_name": "Python 3",
      "language": "python",
      "name": "python3"
    },
    "language_info": {
      "codemirror_mode": {
        "name": "ipython",
        "version": 3
      },
      "file_extension": ".py",
      "mimetype": "text/x-python",
      "name": "python",
      "nbconvert_exporter": "python",
      "pygments_lexer": "ipython3",
      "version": "3.6.9"
    },
    "colab": {
      "provenance": []
    }
  },
  "nbformat": 4,
  "nbformat_minor": 0
}
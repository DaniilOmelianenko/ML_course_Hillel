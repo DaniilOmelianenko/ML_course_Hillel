{
  "cells": [
    {
      "cell_type": "markdown",
      "metadata": {
        "id": "nskRZCwldXIo"
      },
      "source": [
        "https://www.kaggle.com/lakshmi25npathi/imdb-dataset-of-50k-movie-reviews\n",
        "\n",
        "Класифікація на позитивні та негативні відгуки\n",
        "Зробити сентімент аналіз"
      ]
    },
    {
      "cell_type": "markdown",
      "metadata": {
        "id": "FF_YuxTIdLZZ"
      },
      "source": [
        "## INIT BLOCK"
      ]
    },
    {
      "cell_type": "markdown",
      "metadata": {
        "id": "CE3NH-enOzwx"
      },
      "source": [
        "### Import and install Requirements"
      ]
    },
    {
      "cell_type": "markdown",
      "source": [
        "### install"
      ],
      "metadata": {
        "id": "oyN46O3xAj1r"
      }
    },
    {
      "cell_type": "code",
      "source": [
        "!pip install eng_spacysentiment"
      ],
      "metadata": {
        "id": "Jo02u45iVvdR"
      },
      "execution_count": null,
      "outputs": []
    },
    {
      "cell_type": "code",
      "source": [
        "!python -m spacy download en_core_web_lg"
      ],
      "metadata": {
        "id": "BNz5W7fpHwi0"
      },
      "execution_count": null,
      "outputs": []
    },
    {
      "cell_type": "code",
      "source": [
        "!python -m spacy download en_core_web_md"
      ],
      "metadata": {
        "id": "ZiijM3wvYk43"
      },
      "execution_count": null,
      "outputs": []
    },
    {
      "cell_type": "code",
      "source": [
        "!pip install asent"
      ],
      "metadata": {
        "id": "dluLxl0hr2XV"
      },
      "execution_count": null,
      "outputs": []
    },
    {
      "cell_type": "code",
      "source": [
        "!pip install spacytextblob"
      ],
      "metadata": {
        "id": "Il7NKps_Fvgs"
      },
      "execution_count": null,
      "outputs": []
    },
    {
      "cell_type": "markdown",
      "source": [
        "### import"
      ],
      "metadata": {
        "id": "IwGTTNM0As3V"
      }
    },
    {
      "cell_type": "code",
      "execution_count": null,
      "metadata": {
        "id": "q_DtSfAf71NW"
      },
      "outputs": [],
      "source": [
        "import numpy as np\n",
        "import pandas as pd\n",
        "from sklearn.feature_extraction.text import CountVectorizer\n",
        "from sklearn.feature_extraction.text import (TfidfTransformer, TfidfVectorizer, HashingVectorizer)\n",
        "from sklearn.pipeline import Pipeline\n",
        "from scipy.sparse import csr_matrix\n",
        "from sklearn.metrics import (r2_score, mean_squared_error, mean_absolute_error, accuracy_score, classification_report,\n",
        "                             precision_score, recall_score, f1_score)\n",
        "from sklearn.model_selection import (train_test_split, GridSearchCV)\n",
        "from sklearn.ensemble import RandomForestClassifier\n",
        "from sklearn.neighbors import KNeighborsClassifier\n",
        "from sklearn.linear_model import (SGDClassifier, LogisticRegression)\n",
        "import spacy\n",
        "import asent\n",
        "import concurrent.futures\n",
        "from spacytextblob.spacytextblob import SpacyTextBlob\n",
        "import eng_spacysentiment\n",
        "\n",
        "import nltk\n",
        "from nltk.sentiment.vader import SentimentIntensityAnalyzer\n",
        "from nltk.corpus import stopwords\n",
        "from nltk import tokenize, WordNetLemmatizer, word_tokenize"
      ]
    },
    {
      "cell_type": "markdown",
      "metadata": {
        "id": "-nEn7Kpi3Tta"
      },
      "source": [
        "### Init"
      ]
    },
    {
      "cell_type": "code",
      "execution_count": null,
      "metadata": {
        "colab": {
          "base_uri": "https://localhost:8080/"
        },
        "id": "6Bwem-C8CxBF",
        "outputId": "5bca9d25-70f5-4989-ae15-b20b7b8f5088"
      },
      "outputs": [
        {
          "output_type": "stream",
          "name": "stdout",
          "text": [
            "Drive already mounted at /content/drive; to attempt to forcibly remount, call drive.mount(\"/content/drive\", force_remount=True).\n"
          ]
        }
      ],
      "source": [
        "RANDOM_STATE: int = 1729\n",
        "\n",
        "\n",
        "def mount_google_drive() -> bool | None:\n",
        "    \"\"\"\n",
        "    Function to mount Google Drive.\n",
        "    :return: True if mounting is successful, None otherwise.\n",
        "    \"\"\"\n",
        "    try:\n",
        "        from google.colab.drive import mount\n",
        "\n",
        "        mount(mountpoint=\"/content/drive\")\n",
        "        return True\n",
        "\n",
        "    except Exception as error:\n",
        "        print(f\"Error while mounting Google Drive: {error}\")\n",
        "        raise\n",
        "\n",
        "\n",
        "def get_data_frame(dataset_path: str, *args, sep: str = \",\", **kwargs) -> pd.DataFrame | None:\n",
        "    \"\"\"\n",
        "    Function to convert the dataset into a pd.DataFrame.\n",
        "    :param sep: Separator for csv data, default - \",\".\n",
        "    :param dataset_path: Path or URL of the dataset.\n",
        "    :return: pd.DataFrame containing the dataset, or None if errors occur.\n",
        "    \"\"\"\n",
        "    try:\n",
        "        return pd.read_csv(filepath_or_buffer=dataset_path, sep=sep, **kwargs)\n",
        "\n",
        "    except Exception as error:\n",
        "        print(f\"Error while converting dataset to NumPy array: {error}\")\n",
        "        raise\n",
        "\n",
        "\n",
        "def get_dataset_url():\n",
        "    return \"/content/drive/MyDrive/Hillel/Machine_Learning_Course/HW13/IMDB Dataset.csv\"\n",
        "\n",
        "\n",
        "def main(dataset_path: str, *args, **kwargs) -> pd.DataFrame | None:\n",
        "    \"\"\"\n",
        "    Main function to start the app.\n",
        "    :return: pd.DataFrame containing the dataset, or None if errors occur.\n",
        "    \"\"\"\n",
        "    if mount_google_drive():\n",
        "        import os\n",
        "\n",
        "        if os.path.exists(path=dataset_path):\n",
        "            return get_data_frame(dataset_path=dataset_path, *args, **kwargs)\n",
        "\n",
        "        else:\n",
        "            print(\"Dataset path doesn't exists.\")\n",
        "            raise FileNotFoundError\n",
        "\n",
        "\n",
        "if __name__ == \"__main__\":\n",
        "    source_dataframe: pd.DataFrame | None = main(dataset_path=get_dataset_url(), sep=\",\")\n",
        "\n",
        "    if isinstance(source_dataframe, pd.DataFrame):\n",
        "        working_dataframe: pd.DataFrame = source_dataframe.copy()\n",
        "\n",
        "        feature: str = \"review\"\n",
        "        target: str = \"sentiment\""
      ]
    },
    {
      "cell_type": "markdown",
      "metadata": {
        "id": "UCU6z3sW3gPo"
      },
      "source": [
        "# DATA ANALYSIS, CLINING AND OPTOMIZATION"
      ]
    },
    {
      "cell_type": "markdown",
      "metadata": {
        "id": "hD8sFQQgUgeV"
      },
      "source": [
        "### DataFrame info"
      ]
    },
    {
      "cell_type": "code",
      "execution_count": null,
      "metadata": {
        "colab": {
          "base_uri": "https://localhost:8080/"
        },
        "id": "OtG8qPUjUfnp",
        "outputId": "a5c90ef2-719c-4693-e86e-0de4603ea3ec"
      },
      "outputs": [
        {
          "output_type": "stream",
          "name": "stdout",
          "text": [
            "<class 'pandas.core.frame.DataFrame'>\n",
            "RangeIndex: 50000 entries, 0 to 49999\n",
            "Data columns (total 2 columns):\n",
            " #   Column     Non-Null Count  Dtype \n",
            "---  ------     --------------  ----- \n",
            " 0   review     50000 non-null  object\n",
            " 1   sentiment  50000 non-null  object\n",
            "dtypes: object(2)\n",
            "memory usage: 781.4+ KB\n"
          ]
        }
      ],
      "source": [
        "working_dataframe.info()"
      ]
    },
    {
      "cell_type": "markdown",
      "metadata": {
        "id": "pi-oJkqRUybB"
      },
      "source": [
        "### DataFrame head"
      ]
    },
    {
      "cell_type": "code",
      "execution_count": null,
      "metadata": {
        "colab": {
          "base_uri": "https://localhost:8080/",
          "height": 363
        },
        "id": "-4p-LQKqU1ys",
        "outputId": "da6ed696-a12a-4742-98c8-0ec134c1a483"
      },
      "outputs": [
        {
          "output_type": "execute_result",
          "data": {
            "text/plain": [
              "                                              review sentiment\n",
              "0  One of the other reviewers has mentioned that ...  positive\n",
              "1  A wonderful little production. <br /><br />The...  positive\n",
              "2  I thought this was a wonderful way to spend ti...  positive\n",
              "3  Basically there's a family where a little boy ...  negative\n",
              "4  Petter Mattei's \"Love in the Time of Money\" is...  positive\n",
              "5  Probably my all-time favorite movie, a story o...  positive\n",
              "6  I sure would like to see a resurrection of a u...  positive\n",
              "7  This show was an amazing, fresh & innovative i...  negative\n",
              "8  Encouraged by the positive comments about this...  negative\n",
              "9  If you like original gut wrenching laughter yo...  positive"
            ],
            "text/html": [
              "\n",
              "\n",
              "  <div id=\"df-579194de-6a44-44c3-b2d2-2296a2152a8d\">\n",
              "    <div class=\"colab-df-container\">\n",
              "      <div>\n",
              "<style scoped>\n",
              "    .dataframe tbody tr th:only-of-type {\n",
              "        vertical-align: middle;\n",
              "    }\n",
              "\n",
              "    .dataframe tbody tr th {\n",
              "        vertical-align: top;\n",
              "    }\n",
              "\n",
              "    .dataframe thead th {\n",
              "        text-align: right;\n",
              "    }\n",
              "</style>\n",
              "<table border=\"1\" class=\"dataframe\">\n",
              "  <thead>\n",
              "    <tr style=\"text-align: right;\">\n",
              "      <th></th>\n",
              "      <th>review</th>\n",
              "      <th>sentiment</th>\n",
              "    </tr>\n",
              "  </thead>\n",
              "  <tbody>\n",
              "    <tr>\n",
              "      <th>0</th>\n",
              "      <td>One of the other reviewers has mentioned that ...</td>\n",
              "      <td>positive</td>\n",
              "    </tr>\n",
              "    <tr>\n",
              "      <th>1</th>\n",
              "      <td>A wonderful little production. &lt;br /&gt;&lt;br /&gt;The...</td>\n",
              "      <td>positive</td>\n",
              "    </tr>\n",
              "    <tr>\n",
              "      <th>2</th>\n",
              "      <td>I thought this was a wonderful way to spend ti...</td>\n",
              "      <td>positive</td>\n",
              "    </tr>\n",
              "    <tr>\n",
              "      <th>3</th>\n",
              "      <td>Basically there's a family where a little boy ...</td>\n",
              "      <td>negative</td>\n",
              "    </tr>\n",
              "    <tr>\n",
              "      <th>4</th>\n",
              "      <td>Petter Mattei's \"Love in the Time of Money\" is...</td>\n",
              "      <td>positive</td>\n",
              "    </tr>\n",
              "    <tr>\n",
              "      <th>5</th>\n",
              "      <td>Probably my all-time favorite movie, a story o...</td>\n",
              "      <td>positive</td>\n",
              "    </tr>\n",
              "    <tr>\n",
              "      <th>6</th>\n",
              "      <td>I sure would like to see a resurrection of a u...</td>\n",
              "      <td>positive</td>\n",
              "    </tr>\n",
              "    <tr>\n",
              "      <th>7</th>\n",
              "      <td>This show was an amazing, fresh &amp; innovative i...</td>\n",
              "      <td>negative</td>\n",
              "    </tr>\n",
              "    <tr>\n",
              "      <th>8</th>\n",
              "      <td>Encouraged by the positive comments about this...</td>\n",
              "      <td>negative</td>\n",
              "    </tr>\n",
              "    <tr>\n",
              "      <th>9</th>\n",
              "      <td>If you like original gut wrenching laughter yo...</td>\n",
              "      <td>positive</td>\n",
              "    </tr>\n",
              "  </tbody>\n",
              "</table>\n",
              "</div>\n",
              "      <button class=\"colab-df-convert\" onclick=\"convertToInteractive('df-579194de-6a44-44c3-b2d2-2296a2152a8d')\"\n",
              "              title=\"Convert this dataframe to an interactive table.\"\n",
              "              style=\"display:none;\">\n",
              "\n",
              "  <svg xmlns=\"http://www.w3.org/2000/svg\" height=\"24px\"viewBox=\"0 0 24 24\"\n",
              "       width=\"24px\">\n",
              "    <path d=\"M0 0h24v24H0V0z\" fill=\"none\"/>\n",
              "    <path d=\"M18.56 5.44l.94 2.06.94-2.06 2.06-.94-2.06-.94-.94-2.06-.94 2.06-2.06.94zm-11 1L8.5 8.5l.94-2.06 2.06-.94-2.06-.94L8.5 2.5l-.94 2.06-2.06.94zm10 10l.94 2.06.94-2.06 2.06-.94-2.06-.94-.94-2.06-.94 2.06-2.06.94z\"/><path d=\"M17.41 7.96l-1.37-1.37c-.4-.4-.92-.59-1.43-.59-.52 0-1.04.2-1.43.59L10.3 9.45l-7.72 7.72c-.78.78-.78 2.05 0 2.83L4 21.41c.39.39.9.59 1.41.59.51 0 1.02-.2 1.41-.59l7.78-7.78 2.81-2.81c.8-.78.8-2.07 0-2.86zM5.41 20L4 18.59l7.72-7.72 1.47 1.35L5.41 20z\"/>\n",
              "  </svg>\n",
              "      </button>\n",
              "\n",
              "\n",
              "\n",
              "    <div id=\"df-fe24b050-d470-4b31-b96b-01a9ed693367\">\n",
              "      <button class=\"colab-df-quickchart\" onclick=\"quickchart('df-fe24b050-d470-4b31-b96b-01a9ed693367')\"\n",
              "              title=\"Suggest charts.\"\n",
              "              style=\"display:none;\">\n",
              "\n",
              "<svg xmlns=\"http://www.w3.org/2000/svg\" height=\"24px\"viewBox=\"0 0 24 24\"\n",
              "     width=\"24px\">\n",
              "    <g>\n",
              "        <path d=\"M19 3H5c-1.1 0-2 .9-2 2v14c0 1.1.9 2 2 2h14c1.1 0 2-.9 2-2V5c0-1.1-.9-2-2-2zM9 17H7v-7h2v7zm4 0h-2V7h2v10zm4 0h-2v-4h2v4z\"/>\n",
              "    </g>\n",
              "</svg>\n",
              "      </button>\n",
              "    </div>\n",
              "\n",
              "<style>\n",
              "  .colab-df-quickchart {\n",
              "    background-color: #E8F0FE;\n",
              "    border: none;\n",
              "    border-radius: 50%;\n",
              "    cursor: pointer;\n",
              "    display: none;\n",
              "    fill: #1967D2;\n",
              "    height: 32px;\n",
              "    padding: 0 0 0 0;\n",
              "    width: 32px;\n",
              "  }\n",
              "\n",
              "  .colab-df-quickchart:hover {\n",
              "    background-color: #E2EBFA;\n",
              "    box-shadow: 0px 1px 2px rgba(60, 64, 67, 0.3), 0px 1px 3px 1px rgba(60, 64, 67, 0.15);\n",
              "    fill: #174EA6;\n",
              "  }\n",
              "\n",
              "  [theme=dark] .colab-df-quickchart {\n",
              "    background-color: #3B4455;\n",
              "    fill: #D2E3FC;\n",
              "  }\n",
              "\n",
              "  [theme=dark] .colab-df-quickchart:hover {\n",
              "    background-color: #434B5C;\n",
              "    box-shadow: 0px 1px 3px 1px rgba(0, 0, 0, 0.15);\n",
              "    filter: drop-shadow(0px 1px 2px rgba(0, 0, 0, 0.3));\n",
              "    fill: #FFFFFF;\n",
              "  }\n",
              "</style>\n",
              "\n",
              "    <script>\n",
              "      async function quickchart(key) {\n",
              "        const containerElement = document.querySelector('#' + key);\n",
              "        const charts = await google.colab.kernel.invokeFunction(\n",
              "            'suggestCharts', [key], {});\n",
              "      }\n",
              "    </script>\n",
              "\n",
              "      <script>\n",
              "\n",
              "function displayQuickchartButton(domScope) {\n",
              "  let quickchartButtonEl =\n",
              "    domScope.querySelector('#df-fe24b050-d470-4b31-b96b-01a9ed693367 button.colab-df-quickchart');\n",
              "  quickchartButtonEl.style.display =\n",
              "    google.colab.kernel.accessAllowed ? 'block' : 'none';\n",
              "}\n",
              "\n",
              "        displayQuickchartButton(document);\n",
              "      </script>\n",
              "      <style>\n",
              "    .colab-df-container {\n",
              "      display:flex;\n",
              "      flex-wrap:wrap;\n",
              "      gap: 12px;\n",
              "    }\n",
              "\n",
              "    .colab-df-convert {\n",
              "      background-color: #E8F0FE;\n",
              "      border: none;\n",
              "      border-radius: 50%;\n",
              "      cursor: pointer;\n",
              "      display: none;\n",
              "      fill: #1967D2;\n",
              "      height: 32px;\n",
              "      padding: 0 0 0 0;\n",
              "      width: 32px;\n",
              "    }\n",
              "\n",
              "    .colab-df-convert:hover {\n",
              "      background-color: #E2EBFA;\n",
              "      box-shadow: 0px 1px 2px rgba(60, 64, 67, 0.3), 0px 1px 3px 1px rgba(60, 64, 67, 0.15);\n",
              "      fill: #174EA6;\n",
              "    }\n",
              "\n",
              "    [theme=dark] .colab-df-convert {\n",
              "      background-color: #3B4455;\n",
              "      fill: #D2E3FC;\n",
              "    }\n",
              "\n",
              "    [theme=dark] .colab-df-convert:hover {\n",
              "      background-color: #434B5C;\n",
              "      box-shadow: 0px 1px 3px 1px rgba(0, 0, 0, 0.15);\n",
              "      filter: drop-shadow(0px 1px 2px rgba(0, 0, 0, 0.3));\n",
              "      fill: #FFFFFF;\n",
              "    }\n",
              "  </style>\n",
              "\n",
              "      <script>\n",
              "        const buttonEl =\n",
              "          document.querySelector('#df-579194de-6a44-44c3-b2d2-2296a2152a8d button.colab-df-convert');\n",
              "        buttonEl.style.display =\n",
              "          google.colab.kernel.accessAllowed ? 'block' : 'none';\n",
              "\n",
              "        async function convertToInteractive(key) {\n",
              "          const element = document.querySelector('#df-579194de-6a44-44c3-b2d2-2296a2152a8d');\n",
              "          const dataTable =\n",
              "            await google.colab.kernel.invokeFunction('convertToInteractive',\n",
              "                                                     [key], {});\n",
              "          if (!dataTable) return;\n",
              "\n",
              "          const docLinkHtml = 'Like what you see? Visit the ' +\n",
              "            '<a target=\"_blank\" href=https://colab.research.google.com/notebooks/data_table.ipynb>data table notebook</a>'\n",
              "            + ' to learn more about interactive tables.';\n",
              "          element.innerHTML = '';\n",
              "          dataTable['output_type'] = 'display_data';\n",
              "          await google.colab.output.renderOutput(dataTable, element);\n",
              "          const docLink = document.createElement('div');\n",
              "          docLink.innerHTML = docLinkHtml;\n",
              "          element.appendChild(docLink);\n",
              "        }\n",
              "      </script>\n",
              "    </div>\n",
              "  </div>\n"
            ]
          },
          "metadata": {},
          "execution_count": 11
        }
      ],
      "source": [
        "working_dataframe.head(10)"
      ]
    },
    {
      "cell_type": "markdown",
      "metadata": {
        "id": "CYZNcxKyrH_F"
      },
      "source": [
        "### Обробка відсутніх значеннь"
      ]
    },
    {
      "cell_type": "code",
      "execution_count": null,
      "metadata": {
        "colab": {
          "base_uri": "https://localhost:8080/"
        },
        "id": "3xNCaAntrY-x",
        "outputId": "690c18f1-cae8-4ae2-c6e6-a29b5ea0a3e5"
      },
      "outputs": [
        {
          "output_type": "stream",
          "name": "stdout",
          "text": [
            "Пропущених значень немає.\n",
            "\n"
          ]
        }
      ],
      "source": [
        "print(f\"{'Є пропущені значення, потрібна обробка датасету.' if working_dataframe.isna().any().any() else 'Пропущених значень немає.'}\", end=\"\\n\\n\")"
      ]
    },
    {
      "cell_type": "markdown",
      "source": [
        "### Видаляємо зайвий текст"
      ],
      "metadata": {
        "id": "2kgivKUjT71Q"
      }
    },
    {
      "cell_type": "code",
      "source": [
        "working_dataframe[feature]: pd.Series = working_dataframe[feature].str.replace(\"<br />\", \"\")"
      ],
      "metadata": {
        "id": "YUe2P7asUBEv"
      },
      "execution_count": null,
      "outputs": []
    },
    {
      "cell_type": "markdown",
      "source": [
        "### Замінюємо значення таргету на: negative -> 0, та positive -> 1"
      ],
      "metadata": {
        "id": "p5o43lEoZFUI"
      }
    },
    {
      "cell_type": "code",
      "source": [
        "working_dataframe[target] = working_dataframe[target].replace({\"negative\": 0, \"positive\": 1})"
      ],
      "metadata": {
        "id": "qLwRttS1ZNpt"
      },
      "execution_count": null,
      "outputs": []
    },
    {
      "cell_type": "markdown",
      "source": [
        "### Перевіряємо баланс класів"
      ],
      "metadata": {
        "id": "WJE21xkVedI_"
      }
    },
    {
      "cell_type": "code",
      "source": [
        "print(f\"{working_dataframe[target].value_counts()}\")"
      ],
      "metadata": {
        "colab": {
          "base_uri": "https://localhost:8080/"
        },
        "id": "uO1q6_YpeRoD",
        "outputId": "693823b2-4692-463e-efbd-f1d2c3ac1316"
      },
      "execution_count": null,
      "outputs": [
        {
          "output_type": "stream",
          "name": "stdout",
          "text": [
            "1    25000\n",
            "0    25000\n",
            "Name: sentiment, dtype: int64\n"
          ]
        }
      ]
    },
    {
      "cell_type": "markdown",
      "source": [
        "Балансування не потрібно, баланс ідеальний: 50/50."
      ],
      "metadata": {
        "id": "oq0kb2UBenKd"
      }
    },
    {
      "cell_type": "markdown",
      "metadata": {
        "id": "dASGudXuw-iM"
      },
      "source": [
        "### Генеруємо статистику"
      ]
    },
    {
      "cell_type": "code",
      "execution_count": null,
      "metadata": {
        "colab": {
          "base_uri": "https://localhost:8080/",
          "height": 394
        },
        "id": "c5QfB9d54Ag_",
        "outputId": "0e63f795-c317-4303-9157-3980c768aaaa"
      },
      "outputs": [
        {
          "output_type": "execute_result",
          "data": {
            "text/plain": [
              "                                                   review     sentiment\n",
              "count                                               50000  50000.000000\n",
              "unique                                              49581           NaN\n",
              "top     Loved today's show!!! It was a variety and not...           NaN\n",
              "freq                                                    5           NaN\n",
              "mean                                                  NaN      0.500000\n",
              "std                                                   NaN      0.500005\n",
              "min                                                   NaN      0.000000\n",
              "25%                                                   NaN      0.000000\n",
              "50%                                                   NaN      0.500000\n",
              "75%                                                   NaN      1.000000\n",
              "max                                                   NaN      1.000000"
            ],
            "text/html": [
              "\n",
              "\n",
              "  <div id=\"df-e349e4eb-a51e-4dcc-a6c8-b0ea20ae0129\">\n",
              "    <div class=\"colab-df-container\">\n",
              "      <div>\n",
              "<style scoped>\n",
              "    .dataframe tbody tr th:only-of-type {\n",
              "        vertical-align: middle;\n",
              "    }\n",
              "\n",
              "    .dataframe tbody tr th {\n",
              "        vertical-align: top;\n",
              "    }\n",
              "\n",
              "    .dataframe thead th {\n",
              "        text-align: right;\n",
              "    }\n",
              "</style>\n",
              "<table border=\"1\" class=\"dataframe\">\n",
              "  <thead>\n",
              "    <tr style=\"text-align: right;\">\n",
              "      <th></th>\n",
              "      <th>review</th>\n",
              "      <th>sentiment</th>\n",
              "    </tr>\n",
              "  </thead>\n",
              "  <tbody>\n",
              "    <tr>\n",
              "      <th>count</th>\n",
              "      <td>50000</td>\n",
              "      <td>50000.000000</td>\n",
              "    </tr>\n",
              "    <tr>\n",
              "      <th>unique</th>\n",
              "      <td>49581</td>\n",
              "      <td>NaN</td>\n",
              "    </tr>\n",
              "    <tr>\n",
              "      <th>top</th>\n",
              "      <td>Loved today's show!!! It was a variety and not...</td>\n",
              "      <td>NaN</td>\n",
              "    </tr>\n",
              "    <tr>\n",
              "      <th>freq</th>\n",
              "      <td>5</td>\n",
              "      <td>NaN</td>\n",
              "    </tr>\n",
              "    <tr>\n",
              "      <th>mean</th>\n",
              "      <td>NaN</td>\n",
              "      <td>0.500000</td>\n",
              "    </tr>\n",
              "    <tr>\n",
              "      <th>std</th>\n",
              "      <td>NaN</td>\n",
              "      <td>0.500005</td>\n",
              "    </tr>\n",
              "    <tr>\n",
              "      <th>min</th>\n",
              "      <td>NaN</td>\n",
              "      <td>0.000000</td>\n",
              "    </tr>\n",
              "    <tr>\n",
              "      <th>25%</th>\n",
              "      <td>NaN</td>\n",
              "      <td>0.000000</td>\n",
              "    </tr>\n",
              "    <tr>\n",
              "      <th>50%</th>\n",
              "      <td>NaN</td>\n",
              "      <td>0.500000</td>\n",
              "    </tr>\n",
              "    <tr>\n",
              "      <th>75%</th>\n",
              "      <td>NaN</td>\n",
              "      <td>1.000000</td>\n",
              "    </tr>\n",
              "    <tr>\n",
              "      <th>max</th>\n",
              "      <td>NaN</td>\n",
              "      <td>1.000000</td>\n",
              "    </tr>\n",
              "  </tbody>\n",
              "</table>\n",
              "</div>\n",
              "      <button class=\"colab-df-convert\" onclick=\"convertToInteractive('df-e349e4eb-a51e-4dcc-a6c8-b0ea20ae0129')\"\n",
              "              title=\"Convert this dataframe to an interactive table.\"\n",
              "              style=\"display:none;\">\n",
              "\n",
              "  <svg xmlns=\"http://www.w3.org/2000/svg\" height=\"24px\"viewBox=\"0 0 24 24\"\n",
              "       width=\"24px\">\n",
              "    <path d=\"M0 0h24v24H0V0z\" fill=\"none\"/>\n",
              "    <path d=\"M18.56 5.44l.94 2.06.94-2.06 2.06-.94-2.06-.94-.94-2.06-.94 2.06-2.06.94zm-11 1L8.5 8.5l.94-2.06 2.06-.94-2.06-.94L8.5 2.5l-.94 2.06-2.06.94zm10 10l.94 2.06.94-2.06 2.06-.94-2.06-.94-.94-2.06-.94 2.06-2.06.94z\"/><path d=\"M17.41 7.96l-1.37-1.37c-.4-.4-.92-.59-1.43-.59-.52 0-1.04.2-1.43.59L10.3 9.45l-7.72 7.72c-.78.78-.78 2.05 0 2.83L4 21.41c.39.39.9.59 1.41.59.51 0 1.02-.2 1.41-.59l7.78-7.78 2.81-2.81c.8-.78.8-2.07 0-2.86zM5.41 20L4 18.59l7.72-7.72 1.47 1.35L5.41 20z\"/>\n",
              "  </svg>\n",
              "      </button>\n",
              "\n",
              "\n",
              "\n",
              "    <div id=\"df-7c80af35-f424-419b-a436-7316957cc2b9\">\n",
              "      <button class=\"colab-df-quickchart\" onclick=\"quickchart('df-7c80af35-f424-419b-a436-7316957cc2b9')\"\n",
              "              title=\"Suggest charts.\"\n",
              "              style=\"display:none;\">\n",
              "\n",
              "<svg xmlns=\"http://www.w3.org/2000/svg\" height=\"24px\"viewBox=\"0 0 24 24\"\n",
              "     width=\"24px\">\n",
              "    <g>\n",
              "        <path d=\"M19 3H5c-1.1 0-2 .9-2 2v14c0 1.1.9 2 2 2h14c1.1 0 2-.9 2-2V5c0-1.1-.9-2-2-2zM9 17H7v-7h2v7zm4 0h-2V7h2v10zm4 0h-2v-4h2v4z\"/>\n",
              "    </g>\n",
              "</svg>\n",
              "      </button>\n",
              "    </div>\n",
              "\n",
              "<style>\n",
              "  .colab-df-quickchart {\n",
              "    background-color: #E8F0FE;\n",
              "    border: none;\n",
              "    border-radius: 50%;\n",
              "    cursor: pointer;\n",
              "    display: none;\n",
              "    fill: #1967D2;\n",
              "    height: 32px;\n",
              "    padding: 0 0 0 0;\n",
              "    width: 32px;\n",
              "  }\n",
              "\n",
              "  .colab-df-quickchart:hover {\n",
              "    background-color: #E2EBFA;\n",
              "    box-shadow: 0px 1px 2px rgba(60, 64, 67, 0.3), 0px 1px 3px 1px rgba(60, 64, 67, 0.15);\n",
              "    fill: #174EA6;\n",
              "  }\n",
              "\n",
              "  [theme=dark] .colab-df-quickchart {\n",
              "    background-color: #3B4455;\n",
              "    fill: #D2E3FC;\n",
              "  }\n",
              "\n",
              "  [theme=dark] .colab-df-quickchart:hover {\n",
              "    background-color: #434B5C;\n",
              "    box-shadow: 0px 1px 3px 1px rgba(0, 0, 0, 0.15);\n",
              "    filter: drop-shadow(0px 1px 2px rgba(0, 0, 0, 0.3));\n",
              "    fill: #FFFFFF;\n",
              "  }\n",
              "</style>\n",
              "\n",
              "    <script>\n",
              "      async function quickchart(key) {\n",
              "        const containerElement = document.querySelector('#' + key);\n",
              "        const charts = await google.colab.kernel.invokeFunction(\n",
              "            'suggestCharts', [key], {});\n",
              "      }\n",
              "    </script>\n",
              "\n",
              "      <script>\n",
              "\n",
              "function displayQuickchartButton(domScope) {\n",
              "  let quickchartButtonEl =\n",
              "    domScope.querySelector('#df-7c80af35-f424-419b-a436-7316957cc2b9 button.colab-df-quickchart');\n",
              "  quickchartButtonEl.style.display =\n",
              "    google.colab.kernel.accessAllowed ? 'block' : 'none';\n",
              "}\n",
              "\n",
              "        displayQuickchartButton(document);\n",
              "      </script>\n",
              "      <style>\n",
              "    .colab-df-container {\n",
              "      display:flex;\n",
              "      flex-wrap:wrap;\n",
              "      gap: 12px;\n",
              "    }\n",
              "\n",
              "    .colab-df-convert {\n",
              "      background-color: #E8F0FE;\n",
              "      border: none;\n",
              "      border-radius: 50%;\n",
              "      cursor: pointer;\n",
              "      display: none;\n",
              "      fill: #1967D2;\n",
              "      height: 32px;\n",
              "      padding: 0 0 0 0;\n",
              "      width: 32px;\n",
              "    }\n",
              "\n",
              "    .colab-df-convert:hover {\n",
              "      background-color: #E2EBFA;\n",
              "      box-shadow: 0px 1px 2px rgba(60, 64, 67, 0.3), 0px 1px 3px 1px rgba(60, 64, 67, 0.15);\n",
              "      fill: #174EA6;\n",
              "    }\n",
              "\n",
              "    [theme=dark] .colab-df-convert {\n",
              "      background-color: #3B4455;\n",
              "      fill: #D2E3FC;\n",
              "    }\n",
              "\n",
              "    [theme=dark] .colab-df-convert:hover {\n",
              "      background-color: #434B5C;\n",
              "      box-shadow: 0px 1px 3px 1px rgba(0, 0, 0, 0.15);\n",
              "      filter: drop-shadow(0px 1px 2px rgba(0, 0, 0, 0.3));\n",
              "      fill: #FFFFFF;\n",
              "    }\n",
              "  </style>\n",
              "\n",
              "      <script>\n",
              "        const buttonEl =\n",
              "          document.querySelector('#df-e349e4eb-a51e-4dcc-a6c8-b0ea20ae0129 button.colab-df-convert');\n",
              "        buttonEl.style.display =\n",
              "          google.colab.kernel.accessAllowed ? 'block' : 'none';\n",
              "\n",
              "        async function convertToInteractive(key) {\n",
              "          const element = document.querySelector('#df-e349e4eb-a51e-4dcc-a6c8-b0ea20ae0129');\n",
              "          const dataTable =\n",
              "            await google.colab.kernel.invokeFunction('convertToInteractive',\n",
              "                                                     [key], {});\n",
              "          if (!dataTable) return;\n",
              "\n",
              "          const docLinkHtml = 'Like what you see? Visit the ' +\n",
              "            '<a target=\"_blank\" href=https://colab.research.google.com/notebooks/data_table.ipynb>data table notebook</a>'\n",
              "            + ' to learn more about interactive tables.';\n",
              "          element.innerHTML = '';\n",
              "          dataTable['output_type'] = 'display_data';\n",
              "          await google.colab.output.renderOutput(dataTable, element);\n",
              "          const docLink = document.createElement('div');\n",
              "          docLink.innerHTML = docLinkHtml;\n",
              "          element.appendChild(docLink);\n",
              "        }\n",
              "      </script>\n",
              "    </div>\n",
              "  </div>\n"
            ]
          },
          "metadata": {},
          "execution_count": 16
        }
      ],
      "source": [
        "working_dataframe.describe(include=\"all\", percentiles=[.25, .5, .75])"
      ]
    },
    {
      "cell_type": "markdown",
      "source": [
        "# FEATURE ENGINEERING"
      ],
      "metadata": {
        "id": "bmi8pH7JTG-F"
      }
    },
    {
      "cell_type": "code",
      "source": [
        "vectorizer_params: dict = {\n",
        "    \"input\": \"content\",\n",
        "    \"encoding\": \"utf-8\",\n",
        "    \"decode_error\": \"strict\",\n",
        "    \"strip_accents\": None,\n",
        "    \"lowercase\": True,\n",
        "    \"preprocessor\": None,\n",
        "    \"tokenizer\": None,\n",
        "    \"stop_words\": \"english\",\n",
        "    \"token_pattern\": r\"(?u)\\b\\w\\w+\\b\",\n",
        "    \"ngram_range\": (1, 1),\n",
        "    \"analyzer\": \"word\",\n",
        "    \"max_df\": 1.0,\n",
        "    \"min_df\": 1,\n",
        "    \"max_features\": None,\n",
        "    \"vocabulary\": None,\n",
        "    \"binary\": False,\n",
        "    \"dtype\": np.int64\n",
        "}\n",
        "vectorizer: CountVectorizer = CountVectorizer(**vectorizer_params)\n",
        "word_matrix: csr_matrix = vectorizer.fit_transform(working_dataframe.copy()[feature])"
      ],
      "metadata": {
        "id": "3xYbrw4KTYuz"
      },
      "execution_count": null,
      "outputs": []
    },
    {
      "cell_type": "markdown",
      "source": [
        "# PREPARING DATA FOR TRAINING"
      ],
      "metadata": {
        "id": "KkFMC172FSnf"
      }
    },
    {
      "cell_type": "markdown",
      "source": [
        "### Розбиваємо дані на тренувальну, валідаційну та тестову частину"
      ],
      "metadata": {
        "id": "NTKL2pZxrMMC"
      }
    },
    {
      "cell_type": "code",
      "source": [
        "x_train, x_test, y_train, y_test = train_test_split(word_matrix, working_dataframe[target], test_size=0.2, random_state=RANDOM_STATE, stratify=working_dataframe[target])\n",
        "x_validate, x_test, y_validate, y_test = train_test_split(x_test, y_test, test_size=0.2, random_state=RANDOM_STATE, stratify=y_test)\n",
        "\n",
        "print(x_train.shape)\n",
        "print(x_validate.shape)\n",
        "print(x_test.shape)\n",
        "print(y_train.shape)\n",
        "print(y_validate.shape)\n",
        "print(y_test.shape)"
      ],
      "metadata": {
        "id": "mmZlxOPajaCS",
        "colab": {
          "base_uri": "https://localhost:8080/"
        },
        "outputId": "5f0ee8dc-8dc6-44d2-d0fb-914b11b942d1"
      },
      "execution_count": null,
      "outputs": [
        {
          "output_type": "stream",
          "name": "stdout",
          "text": [
            "(40000, 103777)\n",
            "(8000, 103777)\n",
            "(2000, 103777)\n",
            "(40000,)\n",
            "(8000,)\n",
            "(2000,)\n"
          ]
        }
      ]
    },
    {
      "cell_type": "markdown",
      "source": [
        "# FIT PREDICT BAG OF WORDS (SKLEARN)"
      ],
      "metadata": {
        "id": "iB8le15QG7d9"
      }
    },
    {
      "cell_type": "markdown",
      "source": [
        "### Functions for fit models, make predict and generate metrics"
      ],
      "metadata": {
        "id": "JyVluZzE2tfC"
      }
    },
    {
      "cell_type": "code",
      "source": [
        "def print_model_name(name: str) -> None:\n",
        "    print(\"'\" * 60)\n",
        "    print(f\"MODEL: {name}\")"
      ],
      "metadata": {
        "id": "31Nfoa2T4YAy"
      },
      "execution_count": null,
      "outputs": []
    },
    {
      "cell_type": "code",
      "source": [
        "def value_results_main(predict, y_test):\n",
        "    accuracy = accuracy_score(y_true=y_test, y_pred=predict)\n",
        "    precision = precision_score(y_true=y_test, y_pred=predict, average=\"micro\")\n",
        "    recall = recall_score(y_true=y_test, y_pred=predict, average=\"micro\")\n",
        "    f1 = f1_score(y_true=y_test, y_pred=predict, average=\"micro\")\n",
        "\n",
        "    print(\"Accuracy:\", accuracy)\n",
        "    print(\"Precision:\", precision)\n",
        "    print(\"Recall:\", recall)\n",
        "    print(\"F1 Score:\", f1)"
      ],
      "metadata": {
        "id": "dpg5pE_a-p-S"
      },
      "execution_count": null,
      "outputs": []
    },
    {
      "cell_type": "code",
      "source": [
        "def value_regression(predict, y_test):\n",
        "    model_r2: np.float64 = r2_score(y_true=y_test, y_pred=predict)\n",
        "    model_mean_squared_error: np.float64 = mean_squared_error(y_true=y_test, y_pred=predict)\n",
        "    model_mean_absolute_error: np.float64 = mean_absolute_error(y_true=y_test, y_pred=predict)\n",
        "\n",
        "    print(f\"R2:                         {model_r2}\")\n",
        "    print(f\"Mean_squared_error (MSE):   {model_mean_squared_error}\")\n",
        "    print(f\"Mean_absolute_error (MAE):  {model_mean_absolute_error}\")"
      ],
      "metadata": {
        "id": "ndnpWxC9NYhC"
      },
      "execution_count": null,
      "outputs": []
    },
    {
      "cell_type": "code",
      "source": [
        "def value_results(name:str, predict, y_test=y_test):\n",
        "    print_model_name(name=name)\n",
        "    try:\n",
        "      value_results_main(predict=predict, y_test=y_test)\n",
        "    except ValueError:\n",
        "      value_regression(predict=predict, y_test=y_test)\n",
        "\n",
        "    print(\"'\" * 60)"
      ],
      "metadata": {
        "id": "E-XbZhr26e_n"
      },
      "execution_count": null,
      "outputs": []
    },
    {
      "cell_type": "code",
      "source": [
        "def train_model(model_class, name: str, y_train=y_train, y_validate=y_validate, grid_params=None):\n",
        "    print_model_name(name=name)\n",
        "\n",
        "    if grid_params:\n",
        "        model: GridSearchCV = GridSearchCV(estimator=model_class, param_grid=grid_params).fit(X=x_train, y=y_train)\n",
        "\n",
        "        print(\"Best params: \", model.best_params_)\n",
        "        print(\"Best score: \", model.best_score_)\n",
        "\n",
        "    else:\n",
        "        model = model_class.fit(X=x_train, y=y_train)\n",
        "\n",
        "    y_pred = model.predict(X=x_validate)\n",
        "\n",
        "    try:\n",
        "        print(f\"Classification report:\\n{classification_report(y_true=y_validate, y_pred=y_pred)}\")\n",
        "        value_results_main(predict=y_pred, y_test=y_validate)\n",
        "\n",
        "    except ValueError:\n",
        "        value_regression(predict=y_pred, y_test=y_validate)\n",
        "\n",
        "    return model\n"
      ],
      "metadata": {
        "id": "tirIJ_hojHc4"
      },
      "execution_count": null,
      "outputs": []
    },
    {
      "cell_type": "markdown",
      "source": [
        "## Train"
      ],
      "metadata": {
        "id": "gT8TAHJJ-Fpd"
      }
    },
    {
      "cell_type": "code",
      "source": [
        "knn_classifier: KNeighborsClassifier = train_model(model_class=KNeighborsClassifier(), name=\"KNeighborsClassifier with default hyperparameters\")"
      ],
      "metadata": {
        "id": "_MYAfjwYFEfL",
        "colab": {
          "base_uri": "https://localhost:8080/"
        },
        "outputId": "b6fd7640-1ba5-4b0a-a5b3-9d864c1cfc7d"
      },
      "execution_count": null,
      "outputs": [
        {
          "output_type": "stream",
          "name": "stdout",
          "text": [
            "''''''''''''''''''''''''''''''''''''''''''''''''''''''''''''\n",
            "MODEL: KNeighborsClassifier with default hyperparameters\n",
            "Classification report:\n",
            "              precision    recall  f1-score   support\n",
            "\n",
            "           0       0.60      0.66      0.63      4000\n",
            "           1       0.62      0.56      0.59      4000\n",
            "\n",
            "    accuracy                           0.61      8000\n",
            "   macro avg       0.61      0.61      0.61      8000\n",
            "weighted avg       0.61      0.61      0.61      8000\n",
            "\n",
            "Accuracy: 0.60975\n",
            "Precision: 0.60975\n",
            "Recall: 0.60975\n",
            "F1 Score: 0.60975\n"
          ]
        }
      ]
    },
    {
      "cell_type": "code",
      "source": [
        "random_forest_classifier: RandomForestClassifier = train_model(model_class=RandomForestClassifier(), name=\"RandomForestClassifier with default hyperparameters\")"
      ],
      "metadata": {
        "id": "sMngY_97Fx7w",
        "colab": {
          "base_uri": "https://localhost:8080/"
        },
        "outputId": "1caa56f2-1953-4f9f-b8c2-595f864f4775"
      },
      "execution_count": null,
      "outputs": [
        {
          "output_type": "stream",
          "name": "stdout",
          "text": [
            "''''''''''''''''''''''''''''''''''''''''''''''''''''''''''''\n",
            "MODEL: RandomForestClassifier with default hyperparameters\n",
            "Classification report:\n",
            "              precision    recall  f1-score   support\n",
            "\n",
            "           0       0.86      0.86      0.86      4000\n",
            "           1       0.86      0.86      0.86      4000\n",
            "\n",
            "    accuracy                           0.86      8000\n",
            "   macro avg       0.86      0.86      0.86      8000\n",
            "weighted avg       0.86      0.86      0.86      8000\n",
            "\n",
            "Accuracy: 0.861125\n",
            "Precision: 0.861125\n",
            "Recall: 0.861125\n",
            "F1 Score: 0.861125\n"
          ]
        }
      ]
    },
    {
      "cell_type": "code",
      "source": [
        "sgd_classifier: SGDClassifier = train_model(model_class=SGDClassifier(), name=\"SGDClassifier with default hyperparameters\")"
      ],
      "metadata": {
        "id": "52WLxQzRIOIl",
        "colab": {
          "base_uri": "https://localhost:8080/"
        },
        "outputId": "ab3d4e68-82f7-4b4d-d764-117c1ab09547"
      },
      "execution_count": null,
      "outputs": [
        {
          "output_type": "stream",
          "name": "stdout",
          "text": [
            "''''''''''''''''''''''''''''''''''''''''''''''''''''''''''''\n",
            "MODEL: SGDClassifier with default hyperparameters\n",
            "Classification report:\n",
            "              precision    recall  f1-score   support\n",
            "\n",
            "           0       0.88      0.88      0.88      4000\n",
            "           1       0.88      0.88      0.88      4000\n",
            "\n",
            "    accuracy                           0.88      8000\n",
            "   macro avg       0.88      0.88      0.88      8000\n",
            "weighted avg       0.88      0.88      0.88      8000\n",
            "\n",
            "Accuracy: 0.881125\n",
            "Precision: 0.881125\n",
            "Recall: 0.881125\n",
            "F1 Score: 0.881125\n"
          ]
        }
      ]
    },
    {
      "cell_type": "code",
      "source": [
        "logistic_classifier: LogisticRegression = train_model(model_class=LogisticRegression(), name=\"LogisticRegression with default hyperparameters\")"
      ],
      "metadata": {
        "id": "O1cV5us8JAae",
        "colab": {
          "base_uri": "https://localhost:8080/"
        },
        "outputId": "9d6ed396-3029-43f0-b696-10bd58ca9478"
      },
      "execution_count": null,
      "outputs": [
        {
          "output_type": "stream",
          "name": "stdout",
          "text": [
            "''''''''''''''''''''''''''''''''''''''''''''''''''''''''''''\n",
            "MODEL: LogisticRegression with default hyperparameters\n",
            "Classification report:\n",
            "              precision    recall  f1-score   support\n",
            "\n",
            "           0       0.90      0.88      0.89      4000\n",
            "           1       0.88      0.90      0.89      4000\n",
            "\n",
            "    accuracy                           0.89      8000\n",
            "   macro avg       0.89      0.89      0.89      8000\n",
            "weighted avg       0.89      0.89      0.89      8000\n",
            "\n",
            "Accuracy: 0.889375\n",
            "Precision: 0.889375\n",
            "Recall: 0.889375\n",
            "F1 Score: 0.889375\n"
          ]
        },
        {
          "output_type": "stream",
          "name": "stderr",
          "text": [
            "/usr/local/lib/python3.10/dist-packages/sklearn/linear_model/_logistic.py:458: ConvergenceWarning: lbfgs failed to converge (status=1):\n",
            "STOP: TOTAL NO. of ITERATIONS REACHED LIMIT.\n",
            "\n",
            "Increase the number of iterations (max_iter) or scale the data as shown in:\n",
            "    https://scikit-learn.org/stable/modules/preprocessing.html\n",
            "Please also refer to the documentation for alternative solver options:\n",
            "    https://scikit-learn.org/stable/modules/linear_model.html#logistic-regression\n",
            "  n_iter_i = _check_optimize_result(\n"
          ]
        }
      ]
    },
    {
      "cell_type": "markdown",
      "source": [
        "## Порівняння результатів"
      ],
      "metadata": {
        "id": "1y7hwESz_KnA"
      }
    },
    {
      "cell_type": "code",
      "source": [
        "value_results(name=\"KNeighborsClassifier with default hyperparameters\", predict=knn_classifier.predict(X=x_test))\n",
        "value_results(name=\"RandomForestClassifier with default hyperparameters\", predict=random_forest_classifier.predict(X=x_test))\n",
        "value_results(name=\"SGDClassifier with default hyperparameters\", predict=sgd_classifier.predict(X=x_test))\n",
        "value_results(name=\"LogisticRegression with default hyperparameters\", predict=logistic_classifier.predict(X=x_test))"
      ],
      "metadata": {
        "id": "KFhiZLT0_Oyt",
        "colab": {
          "base_uri": "https://localhost:8080/"
        },
        "outputId": "3f69560b-61eb-4624-e320-80c731ee5762"
      },
      "execution_count": null,
      "outputs": [
        {
          "output_type": "stream",
          "name": "stdout",
          "text": [
            "''''''''''''''''''''''''''''''''''''''''''''''''''''''''''''\n",
            "MODEL: KNeighborsClassifier with default hyperparameters\n",
            "Accuracy: 0.6245\n",
            "Precision: 0.6245\n",
            "Recall: 0.6245\n",
            "F1 Score: 0.6245\n",
            "''''''''''''''''''''''''''''''''''''''''''''''''''''''''''''\n",
            "''''''''''''''''''''''''''''''''''''''''''''''''''''''''''''\n",
            "MODEL: RandomForestClassifier with default hyperparameters\n",
            "Accuracy: 0.86\n",
            "Precision: 0.86\n",
            "Recall: 0.86\n",
            "F1 Score: 0.8599999999999999\n",
            "''''''''''''''''''''''''''''''''''''''''''''''''''''''''''''\n",
            "''''''''''''''''''''''''''''''''''''''''''''''''''''''''''''\n",
            "MODEL: SGDClassifier with default hyperparameters\n",
            "Accuracy: 0.8765\n",
            "Precision: 0.8765\n",
            "Recall: 0.8765\n",
            "F1 Score: 0.8765\n",
            "''''''''''''''''''''''''''''''''''''''''''''''''''''''''''''\n",
            "''''''''''''''''''''''''''''''''''''''''''''''''''''''''''''\n",
            "MODEL: LogisticRegression with default hyperparameters\n",
            "Accuracy: 0.8855\n",
            "Precision: 0.8855\n",
            "Recall: 0.8855\n",
            "F1 Score: 0.8855\n",
            "''''''''''''''''''''''''''''''''''''''''''''''''''''''''''''\n"
          ]
        }
      ]
    },
    {
      "cell_type": "markdown",
      "source": [],
      "metadata": {
        "id": "4yFvxLt9dXAO"
      }
    },
    {
      "cell_type": "markdown",
      "source": [
        "# Helpers"
      ],
      "metadata": {
        "id": "L0ITctvfdhhy"
      }
    },
    {
      "cell_type": "code",
      "source": [
        "nltk.download(\"stopwords\")\n",
        "stop_words = set(stopwords.words(\"english\"))\n",
        "\n",
        "nltk.download(\"wordnet\")\n",
        "lemmatizer = WordNetLemmatizer()\n",
        "\n",
        "def preprocess_text(text):\n",
        "    words = word_tokenize(text.lower())\n",
        "    words = [lemmatizer.lemmatize(word) for word in words if word.isalpha()]\n",
        "    words = [word for word in words if word not in stop_words]\n",
        "    return \" \".join(words)"
      ],
      "metadata": {
        "colab": {
          "base_uri": "https://localhost:8080/"
        },
        "id": "VT86ZDj0SQ1N",
        "outputId": "77fec8e3-eb10-4677-8fcc-65c90623f5c4"
      },
      "execution_count": null,
      "outputs": [
        {
          "output_type": "stream",
          "name": "stderr",
          "text": [
            "[nltk_data] Downloading package stopwords to /root/nltk_data...\n",
            "[nltk_data]   Package stopwords is already up-to-date!\n",
            "[nltk_data] Downloading package wordnet to /root/nltk_data...\n",
            "[nltk_data]   Package wordnet is already up-to-date!\n"
          ]
        }
      ]
    },
    {
      "cell_type": "code",
      "source": [
        "def compare_sentimets(dataframe, new_column):\n",
        "    matching_count = (dataframe[\"sentiment\"] == new_column).sum()\n",
        "    total_count = len(dataframe)\n",
        "    percent_matching = (matching_count / total_count) * 100\n",
        "\n",
        "    print(f\"Процент співпадіння: {percent_matching:.2f}%\")"
      ],
      "metadata": {
        "id": "LE6MsuD272VD"
      },
      "execution_count": null,
      "outputs": []
    },
    {
      "cell_type": "markdown",
      "source": [
        "# SpaCy"
      ],
      "metadata": {
        "id": "ChPN917bTWiN"
      }
    },
    {
      "cell_type": "markdown",
      "source": [
        "### ASENT"
      ],
      "metadata": {
        "id": "CCmG4aEk4qWd"
      }
    },
    {
      "cell_type": "code",
      "source": [
        "asent_dataframe: pd.DataFrame = working_dataframe.copy()\n",
        "\n",
        "def analyze_sentiment(text):\n",
        "    doc = nlp(text)\n",
        "\n",
        "    if doc._.polarity.compound > 0:\n",
        "        return 1\n",
        "    elif doc._.polarity.compound < 0:\n",
        "        return 0\n",
        "    else:\n",
        "        return \"neutral\"\n",
        "\n",
        "\n",
        "nlp = spacy.blank(\"en\")\n",
        "nlp.add_pipe(\"sentencizer\")\n",
        "nlp.add_pipe(\"asent_en_v1\")\n",
        "\n",
        "\n",
        "with concurrent.futures.ThreadPoolExecutor() as executor:\n",
        "    asent_result = list(executor.map(analyze_sentiment, asent_dataframe[\"review\"]))\n",
        "\n",
        "\n",
        "asent_dataframe[\"ASENT\"] = asent_result"
      ],
      "metadata": {
        "id": "fXpRuGxGdmck"
      },
      "execution_count": null,
      "outputs": []
    },
    {
      "cell_type": "code",
      "source": [
        "compare_sentimets(dataframe=asent_dataframe, new_column=asent_dataframe[\"ASENT\"])"
      ],
      "metadata": {
        "colab": {
          "base_uri": "https://localhost:8080/"
        },
        "id": "xfCYGwjU-QqK",
        "outputId": "24eadc07-881c-4d27-fe20-38ac31b56de2"
      },
      "execution_count": null,
      "outputs": [
        {
          "output_type": "stream",
          "name": "stdout",
          "text": [
            "Процент співпадіння: 69.46%\n"
          ]
        }
      ]
    },
    {
      "cell_type": "markdown",
      "source": [
        "### SpacyTextBlob\n"
      ],
      "metadata": {
        "id": "NwknmGIcHFWD"
      }
    },
    {
      "cell_type": "code",
      "source": [
        "spacytextblob_dataframe: pd.DataFrame = working_dataframe.copy()\n",
        "\n",
        "nlp = spacy.load(\"en_core_web_md\")\n",
        "nlp.add_pipe(\"spacytextblob\")\n",
        "\n",
        "\n",
        "def analyze_sentiment(text):\n",
        "    doc = nlp(text)\n",
        "\n",
        "    if doc._.blob.polarity > 0:\n",
        "        return 1\n",
        "    elif doc._.blob.polarity < 0:\n",
        "        return 0\n",
        "    else:\n",
        "        return \"neutral\"\n",
        "\n",
        "\n",
        "with concurrent.futures.ThreadPoolExecutor() as executor:\n",
        "    spacy_text_blob_result = list(executor.map(analyze_sentiment, spacytextblob_dataframe[\"review\"]))\n",
        "\n",
        "\n",
        "spacytextblob_dataframe[\"SPACY_TEXT_BLOB\"] = spacy_text_blob_result"
      ],
      "metadata": {
        "id": "_Xv5jqPTHIK5"
      },
      "execution_count": null,
      "outputs": []
    },
    {
      "cell_type": "code",
      "source": [
        "compare_sentimets(dataframe=spacytextblob_dataframe, new_column=spacytextblob_dataframe[\"SPACY_TEXT_BLOB\"])"
      ],
      "metadata": {
        "colab": {
          "base_uri": "https://localhost:8080/"
        },
        "id": "i85TcyK3IJSj",
        "outputId": "be11d11f-83e3-43de-a4a0-f4ae22151732"
      },
      "execution_count": null,
      "outputs": [
        {
          "output_type": "stream",
          "name": "stdout",
          "text": [
            "Процент співпадіння: 68.83%\n"
          ]
        }
      ]
    },
    {
      "cell_type": "markdown",
      "source": [
        "### eng spacysentiment"
      ],
      "metadata": {
        "id": "BqdZYQNeTI1r"
      }
    },
    {
      "cell_type": "code",
      "source": [
        "eng_spacysentiment_dataframe: pd.DataFrame = working_dataframe.copy()\n",
        "\n",
        "nlp = eng_spacysentiment.load()\n",
        "\n",
        "def get_max_sentiment(text):\n",
        "    doc = nlp(text)\n",
        "\n",
        "    max_sentiment = max(doc.cats, key=doc.cats.get)\n",
        "    if max_sentiment == \"positive\":\n",
        "        return 1\n",
        "    elif max_sentiment == \"negative\":\n",
        "        return 0\n",
        "    return max_sentiment\n",
        "\n",
        "\n",
        "with concurrent.futures.ThreadPoolExecutor() as executor:\n",
        "    eng_spacysentiment_result = list(executor.map(get_max_sentiment, eng_spacysentiment_dataframe[\"review\"]))\n",
        "\n",
        "\n",
        "eng_spacysentiment_dataframe[\"ENG_SPACY_SENTIMENT\"] = eng_spacysentiment_result"
      ],
      "metadata": {
        "id": "v8A4sMvxTQC1"
      },
      "execution_count": null,
      "outputs": []
    },
    {
      "cell_type": "code",
      "source": [
        "compare_sentimets(dataframe=eng_spacysentiment_dataframe, new_column=eng_spacysentiment_dataframe[\"ENG_SPACY_SENTIMENT\"])"
      ],
      "metadata": {
        "colab": {
          "base_uri": "https://localhost:8080/"
        },
        "id": "GWQJENwpUfAk",
        "outputId": "7fa7751a-2654-477b-df37-a8351a478ba5"
      },
      "execution_count": null,
      "outputs": [
        {
          "output_type": "stream",
          "name": "stdout",
          "text": [
            "Процент співпадіння: 58.45%\n"
          ]
        }
      ]
    },
    {
      "cell_type": "markdown",
      "source": [
        "# NLTK"
      ],
      "metadata": {
        "id": "h5NxNTBsbDyr"
      }
    },
    {
      "cell_type": "code",
      "source": [
        "nltk.download('vader_lexicon')\n",
        "nltk.download('punkt')\n",
        "\n",
        "nltk_df: pd.DataFrame = working_dataframe.copy()\n",
        "\n",
        "sid = SentimentIntensityAnalyzer()\n",
        "\n",
        "def make_sentiment(text):\n",
        "    text = preprocess_text(text)\n",
        "    sum_sentiment = 0\n",
        "    for sentence in tokenize.sent_tokenize(text):\n",
        "        sum_sentiment += sid.polarity_scores(sentence)[\"compound\"]\n",
        "\n",
        "    if sum_sentiment > 0:\n",
        "        return 1\n",
        "    elif sum_sentiment < 0:\n",
        "        return 0\n",
        "\n",
        "    return \"neutral\"\n",
        "\n",
        "\n",
        "with concurrent.futures.ThreadPoolExecutor() as executor:\n",
        "    nltk_sentiment_result = list(executor.map(make_sentiment, nltk_df[\"review\"]))\n",
        "\n",
        "nltk_df[\"NLTK_SENTIMENT\"] = nltk_sentiment_result"
      ],
      "metadata": {
        "id": "90fp1PFWJ6dR"
      },
      "execution_count": null,
      "outputs": []
    },
    {
      "cell_type": "code",
      "source": [
        "compare_sentimets(dataframe=nltk_df, new_column=nltk_df[\"NLTK_SENTIMENT\"])"
      ],
      "metadata": {
        "colab": {
          "base_uri": "https://localhost:8080/"
        },
        "id": "c1uDk8WzKHdR",
        "outputId": "c3704817-9ff5-473b-bce5-dfe63702b3b1"
      },
      "execution_count": null,
      "outputs": [
        {
          "output_type": "stream",
          "name": "stdout",
          "text": [
            "Процент співпадіння: 70.36%\n"
          ]
        }
      ]
    },
    {
      "cell_type": "markdown",
      "metadata": {
        "id": "MogzR3xSeC69"
      },
      "source": [
        "# Висновок"
      ]
    },
    {
      "cell_type": "markdown",
      "metadata": {
        "id": "PsCHS9u7eINn"
      },
      "source": [
        "1. Побудував 4 моделі-класифікатора\n",
        "(KNeighborsClassifier, RandomForestClassifier, SGDClassifier, LogisticRegression) в звʼязку з CountVectorizer. Найкращій скор дає модель LogisticRegression: 0.88\n",
        "\n",
        "2. Зробив сентімент аналіз за допомогою бібліотеки SpaCy та додатковик розширень:\n",
        "* spacy + asent. Процент співпадіння з таргетом: 69.46%\n",
        "* spacy + SpacyTextBlob. Процент співпадіння з таргетом: 68.83%\n",
        "* spacy + eng_spacysentiment. Процент співпадіння з таргетом: 58.45%\n",
        "\n",
        "3. Зробив сентімент аналіз за допомогою бібліотеки NLTK. Процент співпадіння з таргетом: 70.36%"
      ]
    }
  ],
  "metadata": {
    "colab": {
      "provenance": []
    },
    "kernelspec": {
      "display_name": "Python 3",
      "name": "python3"
    },
    "language_info": {
      "name": "python"
    }
  },
  "nbformat": 4,
  "nbformat_minor": 0
}
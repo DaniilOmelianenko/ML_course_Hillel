{
  "cells": [
    {
      "cell_type": "markdown",
      "metadata": {
        "id": "nskRZCwldXIo"
      },
      "source": [
        "1. Розібратись із прикладами нейромереж для класифікації датасету FashionMNIST (Dense слої)\n",
        "2. Розібратись із прикладами нейромереж для класифікації датасету FashionMNIST (Convolutions слої)"
      ]
    },
    {
      "cell_type": "markdown",
      "metadata": {
        "id": "FF_YuxTIdLZZ"
      },
      "source": [
        "## INIT BLOCK"
      ]
    },
    {
      "cell_type": "markdown",
      "source": [
        "### import requirements"
      ],
      "metadata": {
        "id": "IwGTTNM0As3V"
      }
    },
    {
      "cell_type": "code",
      "source": [
        "import numpy as np\n",
        "import tensorflow as tf\n",
        "from tensorflow.keras.datasets import fashion_mnist\n",
        "from tensorflow.keras.models import Sequential\n",
        "from tensorflow.keras.layers import Dense, Input, Conv2D, MaxPooling2D, Flatten\n",
        "from tensorflow.python.keras.utils.np_utils import to_categorical\n",
        "from tensorflow.python.keras.metrics import Precision, Recall, AUC\n",
        "from tensorflow.python.keras.models import Model"
      ],
      "metadata": {
        "id": "NCS3AC_2E708"
      },
      "execution_count": null,
      "outputs": []
    },
    {
      "cell_type": "markdown",
      "source": [
        "### CONSTANTS"
      ],
      "metadata": {
        "id": "grW8qEuKQzhe"
      }
    },
    {
      "cell_type": "code",
      "source": [
        "NUMBER_OF_TRAIN_DATA: int = 60000\n",
        "NUMBER_OF_TEST_DATA: int = 10000\n",
        "\n",
        "IMG_ROWS: int = 28\n",
        "IMG_COLS: int = 28\n",
        "\n",
        "NUMBER_OF_CLASSES: int = 10\n",
        "COLOR_DIVIDER: int = 255"
      ],
      "metadata": {
        "id": "nmat10ZWQyz-"
      },
      "execution_count": null,
      "outputs": []
    },
    {
      "cell_type": "markdown",
      "source": [
        "### DATA COLLECTION"
      ],
      "metadata": {
        "id": "4mdOktqlLCct"
      }
    },
    {
      "cell_type": "code",
      "source": [
        "x_train: np.ndarray\n",
        "y_train: np.ndarray\n",
        "x_test: np.ndarray\n",
        "y_test: np.ndarray\n",
        "\n",
        "(x_train, y_train), (x_test, y_test) = fashion_mnist.load_data()\n",
        "\n",
        "assert x_train.shape == (NUMBER_OF_TRAIN_DATA, IMG_ROWS, IMG_COLS)\n",
        "assert x_test.shape == (NUMBER_OF_TEST_DATA, IMG_ROWS, IMG_COLS)\n",
        "assert y_train.shape == (NUMBER_OF_TRAIN_DATA,)\n",
        "assert y_test.shape == (NUMBER_OF_TEST_DATA,)"
      ],
      "metadata": {
        "id": "T36T6iX-KtPF"
      },
      "execution_count": null,
      "outputs": []
    },
    {
      "cell_type": "markdown",
      "source": [
        "## DATA PREPARING"
      ],
      "metadata": {
        "id": "U2KZJ9iYKu4C"
      }
    },
    {
      "cell_type": "code",
      "source": [
        "x_train: np.ndarray = x_train.reshape(-1, IMG_ROWS * IMG_COLS) / COLOR_DIVIDER\n",
        "x_test: np.ndarray = x_test.reshape(-1, IMG_ROWS * IMG_COLS) / COLOR_DIVIDER"
      ],
      "metadata": {
        "id": "ywiszld7GO6d"
      },
      "execution_count": null,
      "outputs": []
    },
    {
      "cell_type": "code",
      "source": [
        "y_train: np.ndarray = to_categorical(y=y_train, num_classes=NUMBER_OF_CLASSES, dtype=int)\n",
        "y_test: np.ndarray = to_categorical(y=y_test, num_classes=NUMBER_OF_CLASSES, dtype=int)"
      ],
      "metadata": {
        "id": "ePpPHNLFZHG6"
      },
      "execution_count": null,
      "outputs": []
    },
    {
      "cell_type": "code",
      "source": [
        "def train_model(model, x_train=x_train, x_test=x_test):\n",
        "    model.compile(\n",
        "        optimizer=\"nadam\",\n",
        "        loss=\"categorical_crossentropy\",\n",
        "        metrics=['accuracy', Precision(), Recall(), AUC()]\n",
        "    )\n",
        "\n",
        "    print(model.summary(), end=\"\\n\\n\")\n",
        "\n",
        "    model.fit(\n",
        "        y=y_train,\n",
        "        x=x_train,\n",
        "        epochs=10,\n",
        "        batch_size=128,\n",
        "        validation_split=0.2,\n",
        "        verbose=False\n",
        "    )\n",
        "\n",
        "    loss, accuracy, precision, recall, auc = model.evaluate(x=x_test, y=y_test)\n",
        "\n",
        "    print(f\"Loss: {loss:.3f}\")\n",
        "    print(f\"Accuracy: {accuracy:.3f}\")\n",
        "    print(f\"Precision: {precision:.3f}\")\n",
        "    print(f\"Recall: {recall:.3f}\")\n",
        "    print(f\"AUC: {auc:.3f}\")"
      ],
      "metadata": {
        "id": "dqrpE0SKQYVN"
      },
      "execution_count": null,
      "outputs": []
    },
    {
      "cell_type": "markdown",
      "source": [
        "# DENSE LAYERS"
      ],
      "metadata": {
        "id": "GCNZhLMBo4h5"
      }
    },
    {
      "cell_type": "markdown",
      "source": [
        "## Sequential model"
      ],
      "metadata": {
        "id": "aaKdCTkcXnmo"
      }
    },
    {
      "cell_type": "markdown",
      "source": [
        "Model Init"
      ],
      "metadata": {
        "id": "kA9AF3jTxH1W"
      }
    },
    {
      "cell_type": "code",
      "source": [
        "seq_model: Sequential = Sequential(\n",
        "    layers=[\n",
        "        Dense(units=128, activation=\"relu\", input_shape=(IMG_ROWS * IMG_COLS,)),\n",
        "        Dense(units=64, activation=\"relu\"),\n",
        "        Dense(units=NUMBER_OF_CLASSES, activation=\"softmax\")\n",
        "    ]\n",
        ")"
      ],
      "metadata": {
        "id": "AkhESaALLs7r"
      },
      "execution_count": null,
      "outputs": []
    },
    {
      "cell_type": "markdown",
      "source": [
        "Model Fit/Model metrics"
      ],
      "metadata": {
        "id": "os8SUdSXxLWY"
      }
    },
    {
      "cell_type": "code",
      "source": [
        "train_model(model=seq_model)"
      ],
      "metadata": {
        "colab": {
          "base_uri": "https://localhost:8080/"
        },
        "id": "euHC2vcPxBNE",
        "outputId": "356a988c-80ec-459d-cdbd-edab5b78339a"
      },
      "execution_count": null,
      "outputs": [
        {
          "output_type": "stream",
          "name": "stdout",
          "text": [
            "Model: \"sequential\"\n",
            "_________________________________________________________________\n",
            " Layer (type)                Output Shape              Param #   \n",
            "=================================================================\n",
            " dense (Dense)               (None, 128)               100480    \n",
            "                                                                 \n",
            " dense_1 (Dense)             (None, 64)                8256      \n",
            "                                                                 \n",
            " dense_2 (Dense)             (None, 10)                650       \n",
            "                                                                 \n",
            "=================================================================\n",
            "Total params: 109,386\n",
            "Trainable params: 109,386\n",
            "Non-trainable params: 0\n",
            "_________________________________________________________________\n",
            "None\n",
            "\n",
            "313/313 [==============================] - 1s 4ms/step - loss: 0.3416 - accuracy: 0.8801 - precision: 0.9077 - recall: 0.8587 - auc: 0.9927\n",
            "Loss: 0.342\n",
            "Accuracy: 0.880\n",
            "Precision: 0.908\n",
            "Recall: 0.859\n",
            "AUC: 0.993\n"
          ]
        }
      ]
    },
    {
      "cell_type": "markdown",
      "source": [
        "## Functional API style"
      ],
      "metadata": {
        "id": "6gbezsVp3JQF"
      }
    },
    {
      "cell_type": "markdown",
      "source": [
        "Model init"
      ],
      "metadata": {
        "id": "I-BSO-RFRaQK"
      }
    },
    {
      "cell_type": "code",
      "source": [
        "inputs: Input = Input(shape=(IMG_ROWS * IMG_COLS,))\n",
        "\n",
        "hidden_layer_1: Dense = Dense(units=128, activation=\"relu\")(inputs)\n",
        "hidden_layer_2: Dense = Dense(units=64, activation=\"relu\")(hidden_layer_1)\n",
        "output_layer: Dense = Dense(units=NUMBER_OF_CLASSES, activation=\"softmax\")(hidden_layer_2)\n",
        "\n",
        "api_style_model = Model(inputs=inputs, outputs=output_layer)"
      ],
      "metadata": {
        "id": "zcWnIvis6E2E"
      },
      "execution_count": null,
      "outputs": []
    },
    {
      "cell_type": "markdown",
      "source": [
        "Model Fit/Model metrics"
      ],
      "metadata": {
        "id": "qEaQovO4RcXC"
      }
    },
    {
      "cell_type": "code",
      "source": [
        "train_model(model=api_style_model)"
      ],
      "metadata": {
        "colab": {
          "base_uri": "https://localhost:8080/"
        },
        "id": "ZXhL4TiFRc5f",
        "outputId": "1aa45587-5391-42f1-a879-bd03c0cd886f"
      },
      "execution_count": null,
      "outputs": [
        {
          "output_type": "stream",
          "name": "stdout",
          "text": [
            "Model: \"model\"\n",
            "_________________________________________________________________\n",
            "Layer (type)                 Output Shape              Param #   \n",
            "=================================================================\n",
            "Total params: 109,386\n",
            "Trainable params: 109,386\n",
            "Non-trainable params: 0\n",
            "_________________________________________________________________\n",
            "None\n",
            "\n",
            "313/313 [==============================] - 1s 3ms/step - loss: 0.3416 - accuracy: 0.8800 - precision_1: 0.8973 - recall_1: 0.8670 - auc_1: 0.9911\n",
            "Loss: 0.342\n",
            "Accuracy: 0.880\n",
            "Precision: 0.897\n",
            "Recall: 0.867\n",
            "AUC: 0.991\n"
          ]
        }
      ]
    },
    {
      "cell_type": "markdown",
      "source": [
        "# Convolutions Layers"
      ],
      "metadata": {
        "id": "miUFwwBOrEUm"
      }
    },
    {
      "cell_type": "markdown",
      "source": [
        "Data preparing"
      ],
      "metadata": {
        "id": "fkmV0lkG3ycb"
      }
    },
    {
      "cell_type": "code",
      "source": [
        "x_train: np.ndarray\n",
        "y_train: np.ndarray\n",
        "x_test: np.ndarray\n",
        "y_test: np.ndarray\n",
        "\n",
        "(x_train, y_train), (x_test, y_test) = fashion_mnist.load_data()\n",
        "\n",
        "assert x_train.shape == (NUMBER_OF_TRAIN_DATA, IMG_ROWS, IMG_COLS)\n",
        "assert x_test.shape == (NUMBER_OF_TEST_DATA, IMG_ROWS, IMG_COLS)\n",
        "assert y_train.shape == (NUMBER_OF_TRAIN_DATA,)\n",
        "assert y_test.shape == (NUMBER_OF_TEST_DATA,)\n",
        "\n",
        "x_train: np.ndarray = x_train.reshape(-1, IMG_ROWS, IMG_COLS, 1) / COLOR_DIVIDER\n",
        "x_test: np.ndarray = x_test.reshape(-1, IMG_ROWS, IMG_COLS, 1) / COLOR_DIVIDER\n",
        "\n",
        "y_train: np.ndarray = to_categorical(y=y_train, num_classes=NUMBER_OF_CLASSES, dtype=int)\n",
        "y_test: np.ndarray = to_categorical(y=y_test, num_classes=NUMBER_OF_CLASSES, dtype=int)"
      ],
      "metadata": {
        "id": "D8Y6wRsy5YIW"
      },
      "execution_count": null,
      "outputs": []
    },
    {
      "cell_type": "markdown",
      "source": [
        "## Functional API style"
      ],
      "metadata": {
        "id": "UFLldfAl5bMV"
      }
    },
    {
      "cell_type": "markdown",
      "source": [
        "Model init"
      ],
      "metadata": {
        "id": "YO556yz95lO1"
      }
    },
    {
      "cell_type": "code",
      "source": [
        "inputs: Input = Input(shape=(IMG_ROWS, IMG_COLS, 1))\n",
        "\n",
        "conv_layer_1: Conv2D = Conv2D(32, (3, 3), activation=\"relu\")(inputs)\n",
        "maxpool_layer_1: MaxPooling2D = MaxPooling2D((2, 2))(conv_layer_1)\n",
        "\n",
        "conv_layer_2: Conv2D = Conv2D(64, (3, 3), activation=\"relu\")(maxpool_layer_1)\n",
        "maxpool_layer_2: MaxPooling2D = MaxPooling2D((2, 2))(conv_layer_2)\n",
        "\n",
        "conv_layer_3: Conv2D = Conv2D(128, (3, 3), activation=\"relu\")(maxpool_layer_2)\n",
        "flatten_layer: Flatten = Flatten()(conv_layer_3)\n",
        "\n",
        "output_layer: Dense = Dense(units=10, activation=\"softmax\")(flatten_layer)\n",
        "\n",
        "convolution_model: Model = Model(inputs=inputs, outputs=output_layer)"
      ],
      "metadata": {
        "id": "9TYbckUy5nSo"
      },
      "execution_count": null,
      "outputs": []
    },
    {
      "cell_type": "markdown",
      "source": [
        "Model Fit/Model metrics"
      ],
      "metadata": {
        "id": "6kTfL74s5guY"
      }
    },
    {
      "cell_type": "code",
      "source": [
        "train_model(model=convolution_model, x_test=x_test, x_train=x_train)"
      ],
      "metadata": {
        "colab": {
          "base_uri": "https://localhost:8080/"
        },
        "id": "kqIjHV-ywUi2",
        "outputId": "f9deb616-98fd-44a1-d76e-e7bb45454b6d"
      },
      "execution_count": null,
      "outputs": [
        {
          "output_type": "stream",
          "name": "stdout",
          "text": [
            "Model: \"model_3\"\n",
            "_________________________________________________________________\n",
            "Layer (type)                 Output Shape              Param #   \n",
            "=================================================================\n",
            "Total params: 104,202\n",
            "Trainable params: 104,202\n",
            "Non-trainable params: 0\n",
            "_________________________________________________________________\n",
            "None\n",
            "\n",
            "313/313 [==============================] - 7s 21ms/step - loss: 0.2647 - accuracy: 0.9048 - precision_4: 0.9189 - recall_4: 0.8962 - auc_4: 0.9945\n",
            "Loss: 0.265\n",
            "Accuracy: 0.905\n",
            "Precision: 0.919\n",
            "Recall: 0.896\n",
            "AUC: 0.995\n"
          ]
        }
      ]
    },
    {
      "cell_type": "markdown",
      "source": [
        "## Sequential model"
      ],
      "metadata": {
        "id": "2_5la0uD6EBN"
      }
    },
    {
      "cell_type": "markdown",
      "source": [
        "Model init"
      ],
      "metadata": {
        "id": "Dpau8py16LlY"
      }
    },
    {
      "cell_type": "code",
      "source": [
        "seq_convolution_model: Sequential = Sequential(\n",
        "    layers=[\n",
        "        Conv2D(32, (3, 3), activation=\"relu\", input_shape=(IMG_ROWS, IMG_COLS, 1)),\n",
        "        MaxPooling2D((2, 2)),\n",
        "        Conv2D(64, (3, 3), activation=\"relu\"),\n",
        "        MaxPooling2D((2, 2)),\n",
        "        Conv2D(64, (3, 3), activation=\"relu\"),\n",
        "        Flatten(),\n",
        "        Dense(units=64, activation=\"relu\"),\n",
        "        Dense(units=10, activation=\"softmax\")\n",
        "    ]\n",
        ")"
      ],
      "metadata": {
        "id": "A7UoZ6Qa6Egr"
      },
      "execution_count": null,
      "outputs": []
    },
    {
      "cell_type": "markdown",
      "source": [
        "Model Fit/Model metrics"
      ],
      "metadata": {
        "id": "jX4MS-a57GdD"
      }
    },
    {
      "cell_type": "code",
      "source": [
        "train_model(model=seq_convolution_model, x_test=x_test, x_train=x_train)"
      ],
      "metadata": {
        "colab": {
          "base_uri": "https://localhost:8080/"
        },
        "id": "PPikfvSe7IiH",
        "outputId": "9c8312dc-f135-46e9-ca7e-556bae665a77"
      },
      "execution_count": null,
      "outputs": [
        {
          "output_type": "stream",
          "name": "stdout",
          "text": [
            "Model: \"sequential_2\"\n",
            "_________________________________________________________________\n",
            " Layer (type)                Output Shape              Param #   \n",
            "=================================================================\n",
            " conv2d_12 (Conv2D)          (None, 26, 26, 32)        320       \n",
            "                                                                 \n",
            " max_pooling2d_8 (MaxPooling  (None, 13, 13, 32)       0         \n",
            " 2D)                                                             \n",
            "                                                                 \n",
            " conv2d_13 (Conv2D)          (None, 11, 11, 64)        18496     \n",
            "                                                                 \n",
            " max_pooling2d_9 (MaxPooling  (None, 5, 5, 64)         0         \n",
            " 2D)                                                             \n",
            "                                                                 \n",
            " conv2d_14 (Conv2D)          (None, 3, 3, 64)          36928     \n",
            "                                                                 \n",
            " flatten_4 (Flatten)         (None, 576)               0         \n",
            "                                                                 \n",
            " dense_11 (Dense)            (None, 64)                36928     \n",
            "                                                                 \n",
            " dense_12 (Dense)            (None, 10)                650       \n",
            "                                                                 \n",
            "=================================================================\n",
            "Total params: 93,322\n",
            "Trainable params: 93,322\n",
            "Non-trainable params: 0\n",
            "_________________________________________________________________\n",
            "None\n",
            "\n",
            "313/313 [==============================] - 4s 12ms/step - loss: 0.2721 - accuracy: 0.9046 - precision_5: 0.9134 - recall_5: 0.8668 - auc_5: 0.9936\n",
            "Loss: 0.272\n",
            "Accuracy: 0.905\n",
            "Precision: 0.913\n",
            "Recall: 0.867\n",
            "AUC: 0.994\n"
          ]
        }
      ]
    },
    {
      "cell_type": "markdown",
      "metadata": {
        "id": "MogzR3xSeC69"
      },
      "source": [
        "# Висновок"
      ]
    },
    {
      "cell_type": "markdown",
      "metadata": {
        "id": "PsCHS9u7eINn"
      },
      "source": [
        "Зробив класифікацію датасету Fashion MNIST\n",
        "\n",
        "1.   Із слоями Dense, у вигляді функціонального та послідовного стилів. Точність цих моделей становить приблизно 88%.\n",
        "\n",
        "\n",
        "2.   Із слоями Convolution, у вигляді функціонального та послідовного стилів. Точність цих моделей становить приблизно 90%, що на 2% більше за попередні.\n"
      ]
    }
  ],
  "metadata": {
    "colab": {
      "provenance": []
    },
    "kernelspec": {
      "display_name": "Python 3",
      "name": "python3"
    },
    "language_info": {
      "name": "python"
    }
  },
  "nbformat": 4,
  "nbformat_minor": 0
}
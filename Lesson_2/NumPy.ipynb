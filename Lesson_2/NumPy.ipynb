{
  "cells": [
    {
      "cell_type": "code",
      "execution_count": null,
      "metadata": {
        "id": "8N4pruBWx4oo"
      },
      "outputs": [],
      "source": [
        "# Import library\n",
        "import numpy as np\n",
        "\n",
        "from numpy import pi"
      ]
    },
    {
      "cell_type": "code",
      "source": [
        "a =np.genfromtxt('https://archive.ics.uci.edu/ml/machine-learning-databases/iris/iris.data', dtype=float, delimiter=',', usecols=(0,1,2,3))"
      ],
      "metadata": {
        "id": "Q4CBXlQWJ6tk"
      },
      "execution_count": null,
      "outputs": []
    },
    {
      "cell_type": "code",
      "source": [
        "a.shape"
      ],
      "metadata": {
        "colab": {
          "base_uri": "https://localhost:8080/"
        },
        "id": "XKMQNuqqK38M",
        "outputId": "690e09cf-cf1e-47a9-9d32-be476023c491"
      },
      "execution_count": null,
      "outputs": [
        {
          "output_type": "execute_result",
          "data": {
            "text/plain": [
              "(150, 4)"
            ]
          },
          "metadata": {},
          "execution_count": 18
        }
      ]
    },
    {
      "cell_type": "code",
      "source": [
        "#!pip install numpy==1.24"
      ],
      "metadata": {
        "id": "8IxM3C8gyQT-"
      },
      "execution_count": null,
      "outputs": []
    },
    {
      "cell_type": "code",
      "execution_count": null,
      "metadata": {
        "colab": {
          "base_uri": "https://localhost:8080/",
          "height": 36
        },
        "id": "vAbUWVvmx4ou",
        "outputId": "da0b38e6-c4f3-4711-cd07-0c531c8b7b01"
      },
      "outputs": [
        {
          "output_type": "execute_result",
          "data": {
            "text/plain": [
              "'1.21.6'"
            ],
            "application/vnd.google.colaboratory.intrinsic+json": {
              "type": "string"
            }
          },
          "metadata": {},
          "execution_count": 3
        }
      ],
      "source": [
        "np.__version__"
      ]
    },
    {
      "cell_type": "markdown",
      "metadata": {
        "id": "s8QCVzT4x4ow"
      },
      "source": [
        "### Creating"
      ]
    },
    {
      "cell_type": "code",
      "execution_count": null,
      "metadata": {
        "colab": {
          "base_uri": "https://localhost:8080/"
        },
        "id": "N1e6VORVx4oy",
        "outputId": "a9923c50-323f-4af5-bbbd-6c7b9b235d98"
      },
      "outputs": [
        {
          "output_type": "stream",
          "name": "stdout",
          "text": [
            "<class 'numpy.ndarray'>\n",
            "(5,)\n"
          ]
        },
        {
          "output_type": "execute_result",
          "data": {
            "text/plain": [
              "array([0, 1, 2, 3, 4])"
            ]
          },
          "metadata": {},
          "execution_count": 4
        }
      ],
      "source": [
        "# Create a 1d array from a list\n",
        "list1 = [0, 1, 2, 3, 4]\n",
        "arr1d = np.array(list1)\n",
        "# arr1d = np.array([0, 1, 2, 3, 4])\n",
        "print(type(arr1d))\n",
        "print(arr1d.shape)\n",
        "arr1d"
      ]
    },
    {
      "cell_type": "code",
      "execution_count": null,
      "metadata": {
        "colab": {
          "base_uri": "https://localhost:8080/"
        },
        "id": "kGZqwCMNx4oz",
        "outputId": "9b4a4715-2857-44b4-eca3-15c75f7a0e4d"
      },
      "outputs": [
        {
          "output_type": "execute_result",
          "data": {
            "text/plain": [
              "array([2, 3, 4, 5, 6])"
            ]
          },
          "metadata": {},
          "execution_count": 5
        }
      ],
      "source": [
        "arr1d + 2"
      ]
    },
    {
      "cell_type": "code",
      "execution_count": null,
      "metadata": {
        "colab": {
          "base_uri": "https://localhost:8080/"
        },
        "id": "pd2m25Iax4oz",
        "outputId": "4b75b53c-3274-40b1-ec35-5faf2134f38b"
      },
      "outputs": [
        {
          "output_type": "execute_result",
          "data": {
            "text/plain": [
              "array([1, 2, 3, 4, 5])"
            ]
          },
          "metadata": {},
          "execution_count": 8
        }
      ],
      "source": [
        "np.array([1, 2, 3, 4, 5], ndmin = 1)"
      ]
    },
    {
      "cell_type": "code",
      "execution_count": null,
      "metadata": {
        "colab": {
          "base_uri": "https://localhost:8080/"
        },
        "id": "fdIFLwvGx4o0",
        "outputId": "2e80e5c0-7646-43cf-f78b-875e3057b1a3"
      },
      "outputs": [
        {
          "output_type": "stream",
          "name": "stdout",
          "text": [
            "Shape:  (3, 3)\n",
            "Datatype:  float64\n",
            "Size:  9\n",
            "Num Dimensions:  2\n"
          ]
        },
        {
          "output_type": "execute_result",
          "data": {
            "text/plain": [
              "array([[0., 1., 2.],\n",
              "       [3., 4., 5.],\n",
              "       [6., 7., 8.]])"
            ]
          },
          "metadata": {},
          "execution_count": 11
        }
      ],
      "source": [
        "# Create a 2d array from a list of lists\n",
        "list2 = [[0, 1., 2], [3, 4, 5], [6, 7, 8]]\n",
        "arr2d = np.array(list2)\n",
        "\n",
        "# shape\n",
        "print('Shape: ', arr2d.shape)\n",
        "# dtype\n",
        "print('Datatype: ', arr2d.dtype)\n",
        "# size\n",
        "print('Size: ', arr2d.size)\n",
        "# ndim\n",
        "print('Num Dimensions: ', arr2d.ndim)\n",
        "\n",
        "arr2d"
      ]
    },
    {
      "cell_type": "code",
      "execution_count": null,
      "metadata": {
        "colab": {
          "base_uri": "https://localhost:8080/"
        },
        "id": "Z6_sIpmxx4o2",
        "outputId": "b5540ee7-2edd-44b5-99c1-fe4a5c31356a"
      },
      "outputs": [
        {
          "output_type": "execute_result",
          "data": {
            "text/plain": [
              "array([[0., 0., 0., 0.],\n",
              "       [0., 0., 0., 0.],\n",
              "       [0., 0., 0., 0.]])"
            ]
          },
          "metadata": {},
          "execution_count": 10
        }
      ],
      "source": [
        "np.zeros((3, 4))"
      ]
    },
    {
      "cell_type": "code",
      "execution_count": null,
      "metadata": {
        "colab": {
          "base_uri": "https://localhost:8080/"
        },
        "id": "FtmV65oMx4o3",
        "outputId": "3a93c20e-f868-4466-df82-5adfe1f5a204"
      },
      "outputs": [
        {
          "output_type": "execute_result",
          "data": {
            "text/plain": [
              "array([[1., 1., 1., 1.],\n",
              "       [1., 1., 1., 1.],\n",
              "       [1., 1., 1., 1.]], dtype=float16)"
            ]
          },
          "metadata": {},
          "execution_count": 14
        }
      ],
      "source": [
        "np.ones((3, 4), dtype=np.float16)"
      ]
    },
    {
      "cell_type": "code",
      "execution_count": null,
      "metadata": {
        "colab": {
          "base_uri": "https://localhost:8080/"
        },
        "id": "c6O84GG3x4o4",
        "outputId": "e25e0fe2-6840-408f-f2a3-49877df928aa"
      },
      "outputs": [
        {
          "output_type": "execute_result",
          "data": {
            "text/plain": [
              "array([[0., 0., 0., 0.],\n",
              "       [0., 0., 0., 0.],\n",
              "       [0., 0., 0., 0.]])"
            ]
          },
          "metadata": {},
          "execution_count": 15
        }
      ],
      "source": [
        "np.empty((3, 4))"
      ]
    },
    {
      "cell_type": "code",
      "execution_count": null,
      "metadata": {
        "colab": {
          "base_uri": "https://localhost:8080/"
        },
        "id": "R-wRRy_ox4o4",
        "outputId": "dcfb649d-d4b3-4cf2-81d5-0d1a2bfa3f79"
      },
      "outputs": [
        {
          "output_type": "execute_result",
          "data": {
            "text/plain": [
              "array([10, 12, 14, 16, 18, 20, 22, 24, 26, 28])"
            ]
          },
          "metadata": {},
          "execution_count": 16
        }
      ],
      "source": [
        "np.arange(10, 30, 2)"
      ]
    },
    {
      "cell_type": "code",
      "execution_count": null,
      "metadata": {
        "colab": {
          "base_uri": "https://localhost:8080/"
        },
        "id": "4H0wE3Kvx4o5",
        "outputId": "701a1609-906b-4c91-e0ff-d1563a218522"
      },
      "outputs": [
        {
          "output_type": "execute_result",
          "data": {
            "text/plain": [
              "array([0. , 0.3, 0.6, 0.9, 1.2, 1.5, 1.8])"
            ]
          },
          "metadata": {},
          "execution_count": 13
        }
      ],
      "source": [
        "np.arange(0, 2, 0.3)"
      ]
    },
    {
      "cell_type": "code",
      "execution_count": null,
      "metadata": {
        "colab": {
          "base_uri": "https://localhost:8080/"
        },
        "id": "V5k4fYUIx4o6",
        "outputId": "63b13a44-ee78-48b2-d606-ce83e6b7b698"
      },
      "outputs": [
        {
          "output_type": "execute_result",
          "data": {
            "text/plain": [
              "array([0. , 0.5, 1. , 1.5, 2. ])"
            ]
          },
          "metadata": {},
          "execution_count": 18
        }
      ],
      "source": [
        "np.linspace(0, 2, 5)"
      ]
    },
    {
      "cell_type": "code",
      "execution_count": null,
      "metadata": {
        "id": "Dcv6Xp6Qx4o6"
      },
      "outputs": [],
      "source": [
        "x = np.linspace(0, 2*pi, 8)\n",
        "f = np.sin(x)"
      ]
    },
    {
      "cell_type": "code",
      "execution_count": null,
      "outputs": [
        {
          "output_type": "execute_result",
          "data": {
            "text/plain": [
              "array([ 0.00000000e+00,  7.81831482e-01,  9.74927912e-01,  4.33883739e-01,\n",
              "       -4.33883739e-01, -9.74927912e-01, -7.81831482e-01, -2.44929360e-16])"
            ]
          },
          "metadata": {},
          "execution_count": 24
        }
      ],
      "source": [
        "f"
      ],
      "metadata": {
        "colab": {
          "base_uri": "https://localhost:8080/"
        },
        "id": "YzbPBLcdx4o7",
        "outputId": "9e51fbc8-8dc5-4c22-b1a8-aedf7e6a4673"
      }
    },
    {
      "cell_type": "code",
      "execution_count": null,
      "metadata": {
        "colab": {
          "base_uri": "https://localhost:8080/"
        },
        "id": "jr77JcrYx4o7",
        "outputId": "d247fa96-f63b-4914-b5d2-c3a605b71d92"
      },
      "outputs": [
        {
          "output_type": "execute_result",
          "data": {
            "text/plain": [
              "array([2.71e+00, 6.17e+02, 1.40e+05, 3.20e+07, 7.28e+09, 1.66e+12,\n",
              "       3.77e+14, 8.59e+16, 1.96e+19, 4.45e+21])"
            ]
          },
          "metadata": {},
          "execution_count": 25
        }
      ],
      "source": [
        "np.set_printoptions(precision=2)\n",
        "np.logspace(start=1, stop=50, num=10, base=2.71)"
      ]
    },
    {
      "cell_type": "code",
      "execution_count": null,
      "metadata": {
        "colab": {
          "base_uri": "https://localhost:8080/"
        },
        "id": "bS1zVUchx4o8",
        "outputId": "36425e71-71f4-4434-e950-ffa2d00b6ac7"
      },
      "outputs": [
        {
          "output_type": "stream",
          "name": "stdout",
          "text": [
            "Tile:    [[1 2 3 1 2 3]\n",
            " [4 5 6 4 5 6]]\n",
            "Repeat:  [1 1 2 2 3 3 4 4 5 5 6 6]\n"
          ]
        }
      ],
      "source": [
        "a = [[1,2,3],[4,5,6]]\n",
        "\n",
        "# Repeat whole of 'a' two times\n",
        "print('Tile:   ', np.tile(a, 2))\n",
        "\n",
        "# Repeat each element of 'a' two times\n",
        "print('Repeat: ', np.repeat(a, 2))"
      ]
    },
    {
      "cell_type": "markdown",
      "metadata": {
        "id": "ycSeH6tQx4o9"
      },
      "source": [
        "### Set types"
      ]
    },
    {
      "cell_type": "code",
      "execution_count": null,
      "metadata": {
        "colab": {
          "base_uri": "https://localhost:8080/"
        },
        "id": "VHkh3glZx4o-",
        "outputId": "b50934b4-b741-4cae-8faf-3a0c3d73dd6c"
      },
      "outputs": [
        {
          "output_type": "execute_result",
          "data": {
            "text/plain": [
              "array([[0., 1., 2.],\n",
              "       [3., 4., 5.],\n",
              "       [6., 7., 8.]])"
            ]
          },
          "metadata": {},
          "execution_count": 28
        }
      ],
      "source": [
        "# Create a float 2d array\n",
        "arr2d_f = np.array(list2, dtype='float') # 'float', 'int', 'bool', 'str', 'object', 'complex'\n",
        "                                         # 'float32', 'float64', 'int8', 'int16', 'int32', 'int64'\n",
        "arr2d_f"
      ]
    },
    {
      "cell_type": "code",
      "execution_count": null,
      "metadata": {
        "colab": {
          "base_uri": "https://localhost:8080/"
        },
        "id": "Sm96fbNSx4o_",
        "outputId": "9f5ea8e8-1136-4454-8829-e277ff69f7bc"
      },
      "outputs": [
        {
          "output_type": "execute_result",
          "data": {
            "text/plain": [
              "array([['0.0', '1.0', '2.0'],\n",
              "       ['3.0', '4.0', '5.0'],\n",
              "       ['6.0', '7.0', '8.0']], dtype='<U32')"
            ]
          },
          "metadata": {},
          "execution_count": 31
        }
      ],
      "source": [
        "# Convert to 'int' datatype\n",
        "arr2d_i = arr2d_f.astype('str')\n",
        "arr2d_i"
      ]
    },
    {
      "cell_type": "code",
      "execution_count": null,
      "metadata": {
        "colab": {
          "base_uri": "https://localhost:8080/"
        },
        "id": "YqmseSO7x4pA",
        "outputId": "d3249ec0-6b09-47e8-9d5d-6c22553b847d"
      },
      "outputs": [
        {
          "output_type": "execute_result",
          "data": {
            "text/plain": [
              "array([['0', '1', '2'],\n",
              "       ['3', '4', '5'],\n",
              "       ['6', '7', '8']], dtype='<U21')"
            ]
          },
          "metadata": {},
          "execution_count": 32
        }
      ],
      "source": [
        "# Convert to int then to str datatype\n",
        "arr2d_s = arr2d_f.astype('int').astype('str')\n",
        "arr2d_s"
      ]
    },
    {
      "cell_type": "code",
      "execution_count": null,
      "metadata": {
        "colab": {
          "base_uri": "https://localhost:8080/"
        },
        "id": "pjkB-h_Hx4pC",
        "outputId": "8c8050cd-25ba-4898-ad6f-245428f04690"
      },
      "outputs": [
        {
          "output_type": "execute_result",
          "data": {
            "text/plain": [
              "array([ True, False,  True])"
            ]
          },
          "metadata": {},
          "execution_count": 33
        }
      ],
      "source": [
        "# Create a boolean array\n",
        "arr2d_b = np.array([-1, 0, 10], dtype='bool')\n",
        "arr2d_b"
      ]
    },
    {
      "cell_type": "code",
      "execution_count": null,
      "metadata": {
        "colab": {
          "base_uri": "https://localhost:8080/"
        },
        "id": "Dw6qA0CZx4pD",
        "outputId": "d38fe28a-21f6-418f-d1b6-60a850d1ea13"
      },
      "outputs": [
        {
          "output_type": "execute_result",
          "data": {
            "text/plain": [
              "array([1, 'a'], dtype=object)"
            ]
          },
          "metadata": {},
          "execution_count": 34
        }
      ],
      "source": [
        "# Create an object array to hold numbers as well as strings\n",
        "arr1d_obj = np.array([1, 'a'], dtype='object')\n",
        "arr1d_obj"
      ]
    },
    {
      "cell_type": "code",
      "execution_count": null,
      "metadata": {
        "colab": {
          "base_uri": "https://localhost:8080/"
        },
        "id": "I3Cy9Ujhx4pE",
        "outputId": "f4db9683-f93b-4a06-d9f3-0d45193f962c"
      },
      "outputs": [
        {
          "output_type": "execute_result",
          "data": {
            "text/plain": [
              "[1, 'a']"
            ]
          },
          "metadata": {},
          "execution_count": 35
        }
      ],
      "source": [
        "# Convert an array back to a list\n",
        "arr1d_obj.tolist()"
      ]
    },
    {
      "cell_type": "code",
      "execution_count": null,
      "outputs": [
        {
          "output_type": "execute_result",
          "data": {
            "text/plain": [
              "True"
            ]
          },
          "metadata": {},
          "execution_count": 36
        }
      ],
      "source": [
        "bool(np.nan)"
      ],
      "metadata": {
        "colab": {
          "base_uri": "https://localhost:8080/"
        },
        "id": "p2dxPR9vx4pH",
        "outputId": "80deda3b-c09f-4a42-88e7-1e48cb389cc9"
      }
    },
    {
      "cell_type": "markdown",
      "metadata": {
        "id": "hIrpDlvTx4pI"
      },
      "source": [
        "### Random numbers"
      ]
    },
    {
      "cell_type": "code",
      "execution_count": null,
      "metadata": {
        "colab": {
          "base_uri": "https://localhost:8080/"
        },
        "id": "0pr4Yk1sx4pI",
        "outputId": "0b9b4d62-02ac-43c4-9232-65811efb0d92"
      },
      "outputs": [
        {
          "output_type": "stream",
          "name": "stdout",
          "text": [
            "[[0.54 0.28]\n",
            " [0.42 0.84]]\n",
            "[[ 0.98  0.51]\n",
            " [ 0.22 -1.07]]\n",
            "[[4 0]\n",
            " [9 6]]\n",
            "0.3074232114748938\n",
            "[[0.95 0.13]\n",
            " [0.08 0.31]]\n",
            "['u' 'o' 'o' 'o' 'e' 'e' 'o' 'a' 'i' 'e']\n",
            "['o' 'e' 'o' 'i' 'e' 'i' 'i' 'i' 'a' 'o']\n"
          ]
        }
      ],
      "source": [
        "np.random.seed(100)\n",
        "\n",
        "# Random numbers between [0,1) of shape 2,2\n",
        "print(np.random.rand(2,2))\n",
        "\n",
        "# Normal distribution with mean=0 and variance=1 of shape 2,2\n",
        "print(np.random.randn(2,2))\n",
        "\n",
        "# Random integers between [0, 10) of shape 2,2\n",
        "print(np.random.randint(0, 10, size=[2,2]))\n",
        "\n",
        "# One random number between [0,1)\n",
        "print(np.random.random())\n",
        "\n",
        "# Random numbers between [0,1) of shape 2,2\n",
        "print(np.random.random(size=[2,2]))\n",
        "\n",
        "# Pick 10 items from a given list, with equal probability\n",
        "print(np.random.choice(['a', 'e', 'i', 'o', 'u'], size=10))\n",
        "\n",
        "# Pick 10 items from a given list with a predefined probability 'p'\n",
        "print(np.random.choice(['a', 'e', 'i', 'o', 'u'], size=10, p=[0.1, .3, 0.1, 0.4, 0.1]))"
      ]
    },
    {
      "cell_type": "markdown",
      "metadata": {
        "id": "ptTqtsAWx4pK"
      },
      "source": [
        "### Concatenate"
      ]
    },
    {
      "cell_type": "code",
      "execution_count": null,
      "metadata": {
        "colab": {
          "base_uri": "https://localhost:8080/"
        },
        "id": "RyYOOeMjx4pL",
        "outputId": "4617b4ec-821b-432d-9e66-e1515b71e98d"
      },
      "outputs": [
        {
          "output_type": "stream",
          "name": "stdout",
          "text": [
            "[[0. 0. 0. 0.]\n",
            " [0. 0. 0. 0.]\n",
            " [0. 0. 0. 0.]\n",
            " [0. 0. 0. 0.]]\n",
            "[[1. 1. 1. 1.]\n",
            " [1. 1. 1. 1.]\n",
            " [1. 1. 1. 1.]\n",
            " [1. 1. 1. 1.]]\n"
          ]
        }
      ],
      "source": [
        "a = np.zeros([4, 4])\n",
        "b = np.ones([4, 4])\n",
        "print(a)\n",
        "print(b)"
      ]
    },
    {
      "cell_type": "code",
      "source": [],
      "metadata": {
        "colab": {
          "base_uri": "https://localhost:8080/"
        },
        "id": "N79_WE7zzrA2",
        "outputId": "b5ee1b52-687b-4c97-cbe1-27680e40b295"
      },
      "execution_count": null,
      "outputs": [
        {
          "output_type": "execute_result",
          "data": {
            "text/plain": [
              "array([[1., 1., 1., 1.],\n",
              "       [1., 1., 1., 1.],\n",
              "       [1., 1., 1., 1.],\n",
              "       [1., 1., 1., 1.]])"
            ]
          },
          "metadata": {},
          "execution_count": 39
        }
      ]
    },
    {
      "cell_type": "code",
      "execution_count": null,
      "metadata": {
        "colab": {
          "base_uri": "https://localhost:8080/"
        },
        "id": "FAzJCtDTx4pL",
        "outputId": "c68d7a4d-99ca-4e85-dea4-2e63ebde62bf"
      },
      "outputs": [
        {
          "output_type": "execute_result",
          "data": {
            "text/plain": [
              "array([[0., 0., 0., 0.],\n",
              "       [0., 0., 0., 0.],\n",
              "       [0., 0., 0., 0.],\n",
              "       [0., 0., 0., 0.],\n",
              "       [1., 1., 1., 1.],\n",
              "       [1., 1., 1., 1.],\n",
              "       [1., 1., 1., 1.],\n",
              "       [1., 1., 1., 1.]])"
            ]
          },
          "metadata": {},
          "execution_count": 46
        }
      ],
      "source": [
        "# Vertical Stack Equivalents (Row wise)\n",
        "np.concatenate([a, b], axis=0)\n",
        "np.vstack([a,b])\n",
        "np.r_[a,b]"
      ]
    },
    {
      "cell_type": "code",
      "execution_count": null,
      "metadata": {
        "colab": {
          "base_uri": "https://localhost:8080/"
        },
        "id": "oq0R2wnzx4pN",
        "outputId": "d3b95bbd-c59c-455a-d2d3-b42bdb358a74"
      },
      "outputs": [
        {
          "output_type": "execute_result",
          "data": {
            "text/plain": [
              "array([[0., 0., 0., 0., 1., 1., 1., 1.],\n",
              "       [0., 0., 0., 0., 1., 1., 1., 1.],\n",
              "       [0., 0., 0., 0., 1., 1., 1., 1.],\n",
              "       [0., 0., 0., 0., 1., 1., 1., 1.]])"
            ]
          },
          "metadata": {},
          "execution_count": 47
        }
      ],
      "source": [
        "# Horizontal Stack Equivalents (Coliumn wise)\n",
        "np.concatenate([a, b], axis=1)\n",
        "np.hstack([a,b])\n",
        "np.c_[a,b]"
      ]
    },
    {
      "cell_type": "code",
      "execution_count": null,
      "metadata": {
        "colab": {
          "base_uri": "https://localhost:8080/"
        },
        "id": "BLQJkIFPx4pO",
        "outputId": "453018eb-fe15-48df-b1a4-f499ba554791"
      },
      "outputs": [
        {
          "output_type": "execute_result",
          "data": {
            "text/plain": [
              "array([1, 2, 3, 0, 0, 4, 5, 6])"
            ]
          },
          "metadata": {},
          "execution_count": 40
        }
      ],
      "source": [
        "np.r_[[1, 2, 3], 0, 0, [4, 5, 6]]"
      ]
    },
    {
      "cell_type": "markdown",
      "metadata": {
        "id": "uf5yzjDjx4pO"
      },
      "source": [
        "### Flatten"
      ]
    },
    {
      "cell_type": "code",
      "execution_count": null,
      "metadata": {
        "colab": {
          "base_uri": "https://localhost:8080/"
        },
        "id": "vyD-g1ZUx4pP",
        "outputId": "851bde99-0f5c-4f50-af1b-0efa9a2298ee"
      },
      "outputs": [
        {
          "output_type": "execute_result",
          "data": {
            "text/plain": [
              "array([[1., 2., 3., 4.],\n",
              "       [3., 4., 5., 6.],\n",
              "       [5., 6., 7., 8.]])"
            ]
          },
          "metadata": {},
          "execution_count": 41
        }
      ],
      "source": [
        "list2 = [[1, 2, 3, 4],[3, 4, 5, 6], [5, 6, 7, 8]]\n",
        "arr2 = np.array(list2, dtype='float')\n",
        "arr2"
      ]
    },
    {
      "cell_type": "code",
      "execution_count": null,
      "metadata": {
        "colab": {
          "base_uri": "https://localhost:8080/"
        },
        "id": "MJVFD6k3x4pQ",
        "outputId": "6e5e68c9-65d0-4e5d-e408-a4341c1bea9b"
      },
      "outputs": [
        {
          "output_type": "execute_result",
          "data": {
            "text/plain": [
              "array([1., 2., 3., 4., 3., 4., 5., 6., 5., 6., 7., 8.])"
            ]
          },
          "metadata": {},
          "execution_count": 42
        }
      ],
      "source": [
        "arr2.flatten()"
      ]
    },
    {
      "cell_type": "code",
      "source": [
        "arr2"
      ],
      "metadata": {
        "colab": {
          "base_uri": "https://localhost:8080/"
        },
        "id": "2HA4Mr--z8oL",
        "outputId": "29ee838d-213b-424a-a5ba-2cf974e11c27"
      },
      "execution_count": null,
      "outputs": [
        {
          "output_type": "execute_result",
          "data": {
            "text/plain": [
              "array([[1., 2., 3., 4.],\n",
              "       [3., 4., 5., 6.],\n",
              "       [5., 6., 7., 8.]])"
            ]
          },
          "metadata": {},
          "execution_count": 43
        }
      ]
    },
    {
      "cell_type": "code",
      "execution_count": null,
      "metadata": {
        "colab": {
          "base_uri": "https://localhost:8080/"
        },
        "id": "ayBqeJKFx4pR",
        "outputId": "37dbd41e-2e76-4b8e-fa09-d7ae6a3ee92d"
      },
      "outputs": [
        {
          "output_type": "execute_result",
          "data": {
            "text/plain": [
              "array([[1., 2., 3., 4.],\n",
              "       [3., 4., 5., 6.],\n",
              "       [5., 6., 7., 8.]])"
            ]
          },
          "metadata": {},
          "execution_count": 46
        }
      ],
      "source": [
        "b1 = arr2.flatten()\n",
        "b1[0] = 100  # changing b1 does not affect arr2\n",
        "arr2\n",
        "#b1"
      ]
    },
    {
      "cell_type": "code",
      "execution_count": null,
      "metadata": {
        "colab": {
          "base_uri": "https://localhost:8080/"
        },
        "id": "z_mMR735x4pS",
        "outputId": "f8b0a876-08b5-4fd5-c6b9-3b6616df68b1"
      },
      "outputs": [
        {
          "output_type": "execute_result",
          "data": {
            "text/plain": [
              "array([[101.,   2.,   3.,   4.],\n",
              "       [  3.,   4.,   5.,   6.],\n",
              "       [  5.,   6.,   7.,   8.]])"
            ]
          },
          "metadata": {},
          "execution_count": 47
        }
      ],
      "source": [
        "# Changing the raveled array changes the parent also.\n",
        "b2 = arr2.ravel()\n",
        "b2[0] = 101  # changing b2 changes arr2 also\n",
        "arr2"
      ]
    },
    {
      "cell_type": "markdown",
      "metadata": {
        "id": "P6Cs_Hu9x4pT"
      },
      "source": [
        "### Reshape"
      ]
    },
    {
      "cell_type": "code",
      "execution_count": null,
      "metadata": {
        "colab": {
          "base_uri": "https://localhost:8080/"
        },
        "id": "NuNml3Uox4pU",
        "outputId": "b69c60ca-099b-4b77-eca3-cd33cfd296f1"
      },
      "outputs": [
        {
          "output_type": "execute_result",
          "data": {
            "text/plain": [
              "array([[101.,   2.,   3.,   4.,   3.,   4.],\n",
              "       [  5.,   6.,   5.,   6.,   7.,   8.]])"
            ]
          },
          "metadata": {},
          "execution_count": 50
        }
      ],
      "source": [
        "# Reshape a 3x4 array to 4x3 array\n",
        "arr2.reshape(2, 6)"
      ]
    },
    {
      "cell_type": "markdown",
      "metadata": {
        "id": "8_Okw6Rpx4pV"
      },
      "source": [
        "### Missing values"
      ]
    },
    {
      "cell_type": "code",
      "execution_count": null,
      "metadata": {
        "colab": {
          "base_uri": "https://localhost:8080/"
        },
        "id": "tmxzRA5Fx4pV",
        "outputId": "6cbfd21b-6406-4105-bb02-6fae1e1232ca"
      },
      "outputs": [
        {
          "output_type": "execute_result",
          "data": {
            "text/plain": [
              "array([[101.,   2.,   3.,   4.],\n",
              "       [  3.,  nan,  inf,   6.],\n",
              "       [  5.,   6.,   7.,   8.]])"
            ]
          },
          "metadata": {},
          "execution_count": 52
        }
      ],
      "source": [
        "# Insert a nan and an inf\n",
        "arr2[1,1] = np.nan  # not a number\n",
        "arr2[1,2] = np.inf  # infinite\n",
        "arr2"
      ]
    },
    {
      "cell_type": "code",
      "source": [
        "np.isnan(arr2) | np.isinf(arr2)"
      ],
      "metadata": {
        "colab": {
          "base_uri": "https://localhost:8080/"
        },
        "id": "zSovUYKJwBEK",
        "outputId": "8ac0464c-9fa0-4ce2-f4f6-20273951b9ba"
      },
      "execution_count": null,
      "outputs": [
        {
          "output_type": "execute_result",
          "data": {
            "text/plain": [
              "array([[False, False, False, False],\n",
              "       [False,  True,  True, False],\n",
              "       [False, False, False, False]])"
            ]
          },
          "metadata": {},
          "execution_count": 55
        }
      ]
    },
    {
      "cell_type": "code",
      "execution_count": null,
      "metadata": {
        "colab": {
          "base_uri": "https://localhost:8080/"
        },
        "id": "89SeQDRnx4pX",
        "outputId": "e76eac49-0ac5-40d7-c9ac-fb82122569ae"
      },
      "outputs": [
        {
          "output_type": "execute_result",
          "data": {
            "text/plain": [
              "array([[101.,   2.,   3.,   4.],\n",
              "       [  3.,  -1.,  -1.,   6.],\n",
              "       [  5.,   6.,   7.,   8.]])"
            ]
          },
          "metadata": {},
          "execution_count": 57
        }
      ],
      "source": [
        "# Replace nan and inf with -1. Don't use arr2 == np.nan\n",
        "missing_bool = np.isnan(arr2) | np.isinf(arr2)\n",
        "missing_bool\n",
        "arr2[missing_bool] = -1\n",
        "arr2"
      ]
    },
    {
      "cell_type": "code",
      "source": [
        "missing_bool"
      ],
      "metadata": {
        "colab": {
          "base_uri": "https://localhost:8080/"
        },
        "id": "gXMKkt9S2MrA",
        "outputId": "ad196fde-e014-4e19-9eeb-0213cc49a2c5"
      },
      "execution_count": null,
      "outputs": [
        {
          "output_type": "execute_result",
          "data": {
            "text/plain": [
              "array([[False, False, False, False],\n",
              "       [False,  True,  True, False],\n",
              "       [False, False, False, False]])"
            ]
          },
          "metadata": {},
          "execution_count": 53
        }
      ]
    },
    {
      "cell_type": "markdown",
      "metadata": {
        "id": "dsyArnK4x4pY"
      },
      "source": [
        "### Unique"
      ]
    },
    {
      "cell_type": "code",
      "execution_count": null,
      "metadata": {
        "colab": {
          "base_uri": "https://localhost:8080/"
        },
        "id": "BkLdvtOkx4pY",
        "outputId": "bdfd4871-74f0-466e-8354-595630742aac"
      },
      "outputs": [
        {
          "output_type": "stream",
          "name": "stdout",
          "text": [
            "[8 8 3 7 7 0 4 2 5 2]\n"
          ]
        }
      ],
      "source": [
        "# Create random integers of size 10 between [0,10)\n",
        "np.random.seed(100)\n",
        "arr_rand = np.random.randint(0, 10, size=10)\n",
        "print(arr_rand)"
      ]
    },
    {
      "cell_type": "code",
      "execution_count": null,
      "metadata": {
        "colab": {
          "base_uri": "https://localhost:8080/"
        },
        "id": "_mjRF2wxx4pa",
        "outputId": "a3181621-ceb7-4be4-a692-d6fcf4f8d6f3"
      },
      "outputs": [
        {
          "output_type": "stream",
          "name": "stdout",
          "text": [
            "Unique items :  [0 2 3 4 5 7 8]\n",
            "Counts       :  [1 2 1 1 1 2 2]\n"
          ]
        }
      ],
      "source": [
        "# Get the unique items and their counts\n",
        "uniqs, counts = np.unique(arr_rand, return_counts=True)\n",
        "print(\"Unique items : \", uniqs)\n",
        "print(\"Counts       : \", counts)"
      ]
    },
    {
      "cell_type": "markdown",
      "metadata": {
        "id": "b5RAvDCKx4pa"
      },
      "source": [
        "### Indexing"
      ]
    },
    {
      "cell_type": "code",
      "execution_count": null,
      "metadata": {
        "colab": {
          "base_uri": "https://localhost:8080/"
        },
        "id": "hVlR3GH1x4pa",
        "outputId": "21960d4f-750d-4d80-82d8-72d16604f711"
      },
      "outputs": [
        {
          "output_type": "execute_result",
          "data": {
            "text/plain": [
              "array([[101.,   2.,   3.,   4.],\n",
              "       [  3.,  -1.,  -1.,   6.],\n",
              "       [  5.,   6.,   7.,   8.]])"
            ]
          },
          "metadata": {},
          "execution_count": 60
        }
      ],
      "source": [
        "arr2"
      ]
    },
    {
      "cell_type": "code",
      "execution_count": null,
      "metadata": {
        "colab": {
          "base_uri": "https://localhost:8080/"
        },
        "id": "ZAZmXT3Nx4pb",
        "outputId": "343fb25f-8866-41f2-de9c-5555013a3978"
      },
      "outputs": [
        {
          "output_type": "execute_result",
          "data": {
            "text/plain": [
              "array([[101.,   2.],\n",
              "       [  3.,  -1.]])"
            ]
          },
          "metadata": {},
          "execution_count": 61
        }
      ],
      "source": [
        "arr2[:2, :2]"
      ]
    },
    {
      "cell_type": "code",
      "execution_count": null,
      "metadata": {
        "colab": {
          "base_uri": "https://localhost:8080/"
        },
        "id": "BswpJ_zCx4pb",
        "outputId": "7d09b1a2-601b-41c9-e6de-97002134c062"
      },
      "outputs": [
        {
          "output_type": "execute_result",
          "data": {
            "text/plain": [
              "array([[ 3., -1., -1.],\n",
              "       [ 5.,  6.,  7.]])"
            ]
          },
          "metadata": {},
          "execution_count": 62
        }
      ],
      "source": [
        "arr2[1:3, 0:3]"
      ]
    },
    {
      "cell_type": "code",
      "execution_count": null,
      "metadata": {
        "colab": {
          "base_uri": "https://localhost:8080/"
        },
        "id": "rep9hI25x4pc",
        "outputId": "9b8c5e55-1755-423f-9393-c596496328c4"
      },
      "outputs": [
        {
          "output_type": "execute_result",
          "data": {
            "text/plain": [
              "array([[100., 100.,   3.,   4.],\n",
              "       [100., 100.,  -1.,   6.],\n",
              "       [  5.,   6.,   7.,   8.]])"
            ]
          },
          "metadata": {},
          "execution_count": 63
        }
      ],
      "source": [
        "# Assign portion of arr2 to arr2a. Doesn't really create a new array.\n",
        "arr2a = arr2[:2,:2]\n",
        "arr2a[:2, :2] = 100  # 100 will reflect in arr2\n",
        "arr2"
      ]
    },
    {
      "cell_type": "code",
      "execution_count": null,
      "metadata": {
        "colab": {
          "base_uri": "https://localhost:8080/"
        },
        "id": "5Ak_bP3dx4pc",
        "outputId": "8121ffe8-730f-460b-a48f-21b81391370f"
      },
      "outputs": [
        {
          "output_type": "execute_result",
          "data": {
            "text/plain": [
              "array([[100., 100.,   3.,   4.],\n",
              "       [100., 100.,  -1.,   6.],\n",
              "       [  5.,   6.,   7.,   8.]])"
            ]
          },
          "metadata": {},
          "execution_count": 64
        }
      ],
      "source": [
        "# Copy portion of arr2 to arr2b\n",
        "arr2b = arr2[:2, :2].copy()\n",
        "arr2b[:1, :1] = 101  # 101 will not reflect in arr2\n",
        "arr2"
      ]
    },
    {
      "cell_type": "code",
      "execution_count": null,
      "outputs": [
        {
          "output_type": "execute_result",
          "data": {
            "text/plain": [
              "array([[[100., 100.,   3.,   4.]],\n",
              "\n",
              "       [[100., 100.,  -1.,   6.]],\n",
              "\n",
              "       [[  5.,   6.,   7.,   8.]]])"
            ]
          },
          "metadata": {},
          "execution_count": 67
        }
      ],
      "source": [
        "# add new dimension\n",
        "arr3d = arr2[:, np.newaxis , : ]\n",
        "arr3d"
      ],
      "metadata": {
        "colab": {
          "base_uri": "https://localhost:8080/"
        },
        "id": "i5CjwZS9x4pd",
        "outputId": "60216736-23a7-403d-9587-950960a4fe9a"
      }
    },
    {
      "cell_type": "code",
      "source": [
        "arr2"
      ],
      "metadata": {
        "colab": {
          "base_uri": "https://localhost:8080/"
        },
        "id": "98e4KHv32_ei",
        "outputId": "c9267d7a-5cd1-4d77-a496-d08c8b3d3b72"
      },
      "execution_count": null,
      "outputs": [
        {
          "output_type": "execute_result",
          "data": {
            "text/plain": [
              "array([[100., 100.,   3.,   4.],\n",
              "       [100., 100.,  -1.,   6.],\n",
              "       [  5.,   6.,   7.,   8.]])"
            ]
          },
          "metadata": {},
          "execution_count": 70
        }
      ]
    },
    {
      "cell_type": "code",
      "execution_count": null,
      "metadata": {
        "colab": {
          "base_uri": "https://localhost:8080/"
        },
        "id": "zBEfu5QWx4pd",
        "outputId": "389a6559-8503-4613-f118-2dfecf51c57d"
      },
      "outputs": [
        {
          "output_type": "execute_result",
          "data": {
            "text/plain": [
              "array([[ True,  True, False, False],\n",
              "       [ True,  True, False,  True],\n",
              "       [ True,  True,  True,  True]])"
            ]
          },
          "metadata": {},
          "execution_count": 68
        }
      ],
      "source": [
        "b = arr2 > 4\n",
        "b"
      ]
    },
    {
      "cell_type": "code",
      "execution_count": null,
      "metadata": {
        "colab": {
          "base_uri": "https://localhost:8080/"
        },
        "id": "Oilbcmbex4pe",
        "outputId": "30771872-7b02-4a86-e0e5-7b8ba3ad76a2"
      },
      "outputs": [
        {
          "output_type": "execute_result",
          "data": {
            "text/plain": [
              "array([100., 100., 100., 100.,   6.,   5.,   6.,   7.,   8.])"
            ]
          },
          "metadata": {},
          "execution_count": 71
        }
      ],
      "source": [
        "arr2[b]"
      ]
    },
    {
      "cell_type": "code",
      "execution_count": null,
      "metadata": {
        "colab": {
          "base_uri": "https://localhost:8080/"
        },
        "id": "f6GxPMyFx4pe",
        "outputId": "4906e43c-08ca-4c0b-9f6a-7341e9cecdf3"
      },
      "outputs": [
        {
          "output_type": "stream",
          "name": "stdout",
          "text": [
            "Array:  [8 8 3 7 7 0 4 2 5 2]\n",
            "Positions where value > 5:  (array([0, 1, 3, 4]),)\n"
          ]
        }
      ],
      "source": [
        "arr_rand = np.array([8, 8, 3, 7, 7, 0, 4, 2, 5, 2])\n",
        "print(\"Array: \", arr_rand)\n",
        "\n",
        "# Positions where value > 5\n",
        "index_gt5 = np.where(arr_rand > 5)\n",
        "print(\"Positions where value > 5: \", index_gt5)"
      ]
    },
    {
      "cell_type": "code",
      "execution_count": null,
      "metadata": {
        "colab": {
          "base_uri": "https://localhost:8080/"
        },
        "id": "DhkK7Wscx4pe",
        "outputId": "369a9d23-7aa8-4ca6-bf7c-a5acb872ab4b"
      },
      "outputs": [
        {
          "output_type": "execute_result",
          "data": {
            "text/plain": [
              "array([[8, 8, 7, 7]])"
            ]
          },
          "metadata": {},
          "execution_count": 80
        }
      ],
      "source": [
        "# Take items at given index\n",
        "arr_rand.take(index_gt5)"
      ]
    },
    {
      "cell_type": "code",
      "execution_count": null,
      "metadata": {
        "colab": {
          "base_uri": "https://localhost:8080/"
        },
        "id": "hwGX1ts9x4pf",
        "outputId": "6509872a-d740-4805-cae5-1d2676be063a"
      },
      "outputs": [
        {
          "output_type": "execute_result",
          "data": {
            "text/plain": [
              "array(['gt5', 'gt5', 'le5', 'gt5', 'gt5', 'le5', 'le5', 'le5', 'le5',\n",
              "       'le5'], dtype='<U3')"
            ]
          },
          "metadata": {},
          "execution_count": 69
        }
      ],
      "source": [
        "# If value > 5, then yield 'gt5' else 'le5'\n",
        "np.where(arr_rand > 5, 'gt5', 'le5')"
      ]
    },
    {
      "cell_type": "code",
      "execution_count": null,
      "metadata": {
        "colab": {
          "base_uri": "https://localhost:8080/"
        },
        "id": "kt6z_nSJx4pg",
        "outputId": "fb853f4e-9ffa-4a6a-a6ad-aed0c99d5773"
      },
      "outputs": [
        {
          "output_type": "stream",
          "name": "stdout",
          "text": [
            "Position of max value:  0\n",
            "Position of min value:  5\n"
          ]
        }
      ],
      "source": [
        "# Location of the max\n",
        "print('Position of max value: ', np.argmax(arr_rand))\n",
        "\n",
        "# Location of the min\n",
        "print('Position of min value: ', np.argmin(arr_rand))"
      ]
    },
    {
      "cell_type": "markdown",
      "metadata": {
        "id": "UsBzxezFx4pg"
      },
      "source": [
        "### Reversing"
      ]
    },
    {
      "cell_type": "code",
      "execution_count": null,
      "metadata": {
        "colab": {
          "base_uri": "https://localhost:8080/"
        },
        "id": "c_jqX6WNx4pg",
        "outputId": "f9212dd0-8e15-4f52-e6c4-aaf557977ecf"
      },
      "outputs": [
        {
          "output_type": "execute_result",
          "data": {
            "text/plain": [
              "array([[100., 100.,   3.,   4.],\n",
              "       [100., 100.,  -1.,   6.],\n",
              "       [  5.,   6.,   7.,   8.]])"
            ]
          },
          "metadata": {},
          "execution_count": 73
        }
      ],
      "source": [
        "arr2"
      ]
    },
    {
      "cell_type": "code",
      "execution_count": null,
      "metadata": {
        "colab": {
          "base_uri": "https://localhost:8080/"
        },
        "id": "ljSZhlGax4ph",
        "outputId": "79403646-64d5-418a-f9b7-1c242cdd5899"
      },
      "outputs": [
        {
          "output_type": "execute_result",
          "data": {
            "text/plain": [
              "array([[  5.,   6.,   7.,   8.],\n",
              "       [100., 100.,  -1.,   6.],\n",
              "       [100., 100.,   3.,   4.]])"
            ]
          },
          "metadata": {},
          "execution_count": 74
        }
      ],
      "source": [
        "# Reverse only the row positions\n",
        "arr2[::-1, ]"
      ]
    },
    {
      "cell_type": "code",
      "execution_count": null,
      "metadata": {
        "colab": {
          "base_uri": "https://localhost:8080/"
        },
        "id": "HeHGwKWIx4ph",
        "outputId": "4a40de77-ce90-41ec-cd80-3617e129fc0a"
      },
      "outputs": [
        {
          "output_type": "execute_result",
          "data": {
            "text/plain": [
              "array([[  8.,   7.,   6.,   5.],\n",
              "       [  6.,  -1., 100., 100.],\n",
              "       [  4.,   3., 100., 100.]])"
            ]
          },
          "metadata": {},
          "execution_count": 75
        }
      ],
      "source": [
        "# Reverse the row and column positions\n",
        "arr2[::-1, ::-1]"
      ]
    },
    {
      "cell_type": "markdown",
      "metadata": {
        "id": "dahpUNH1x4pi"
      },
      "source": [
        "### Iteration"
      ]
    },
    {
      "cell_type": "code",
      "execution_count": null,
      "metadata": {
        "colab": {
          "base_uri": "https://localhost:8080/"
        },
        "id": "HVEjezMzx4pi",
        "outputId": "215ff9af-dac8-42f6-b562-d45d309223e6"
      },
      "outputs": [
        {
          "output_type": "stream",
          "name": "stdout",
          "text": [
            "[[ 0  5 10 15]\n",
            " [20 25 30 35]\n",
            " [40 45 50 55]]\n",
            "\n",
            "\n",
            "0\n",
            "5\n",
            "10\n",
            "15\n",
            "20\n",
            "25\n",
            "30\n",
            "35\n",
            "40\n",
            "45\n",
            "50\n",
            "55\n"
          ]
        }
      ],
      "source": [
        "a = np.arange(0, 60, 5)\n",
        "a = a.reshape(3, 4)\n",
        "\n",
        "print(a)\n",
        "print('\\n')\n",
        "\n",
        "for x in np.nditer(a):\n",
        "    print(x)"
      ]
    },
    {
      "cell_type": "markdown",
      "metadata": {
        "id": "mB7uY3Uqx4pj"
      },
      "source": [
        "### Sorting"
      ]
    },
    {
      "cell_type": "code",
      "execution_count": null,
      "metadata": {
        "colab": {
          "base_uri": "https://localhost:8080/"
        },
        "id": "Fa7sahI_x4pj",
        "outputId": "239516b6-6477-4864-8033-1dcc0ccb59bd"
      },
      "outputs": [
        {
          "output_type": "execute_result",
          "data": {
            "text/plain": [
              "array([[1, 1, 4, 1],\n",
              "       [3, 5, 3, 3],\n",
              "       [3, 3, 2, 1],\n",
              "       [1, 5, 4, 5],\n",
              "       [3, 1, 4, 2],\n",
              "       [3, 4, 5, 5],\n",
              "       [2, 4, 5, 5],\n",
              "       [4, 4, 4, 2]])"
            ]
          },
          "metadata": {},
          "execution_count": 76
        }
      ],
      "source": [
        "np.random.seed(100)\n",
        "arr = np.random.randint(1,6, size=[8, 4])\n",
        "arr"
      ]
    },
    {
      "cell_type": "code",
      "execution_count": null,
      "metadata": {
        "colab": {
          "base_uri": "https://localhost:8080/"
        },
        "id": "qJGBhRa7x4pj",
        "outputId": "7df3797b-f178-462c-d563-8e9bdae9c89c"
      },
      "outputs": [
        {
          "output_type": "execute_result",
          "data": {
            "text/plain": [
              "array([[1, 1, 1, 4],\n",
              "       [3, 3, 3, 5],\n",
              "       [1, 2, 3, 3],\n",
              "       [1, 4, 5, 5],\n",
              "       [1, 2, 3, 4],\n",
              "       [3, 4, 5, 5],\n",
              "       [2, 4, 5, 5],\n",
              "       [2, 4, 4, 4]])"
            ]
          },
          "metadata": {},
          "execution_count": 88
        }
      ],
      "source": [
        "# Sort each columns of arr\n",
        "np.sort(arr, axis=1)"
      ]
    },
    {
      "cell_type": "code",
      "execution_count": null,
      "metadata": {
        "colab": {
          "base_uri": "https://localhost:8080/"
        },
        "id": "01SObppOx4pk",
        "outputId": "b1ed6456-1fe6-432b-aa91-de37be0dc7a4"
      },
      "outputs": [
        {
          "output_type": "stream",
          "name": "stdout",
          "text": [
            "[0 3 2 4 5 1]\n"
          ]
        }
      ],
      "source": [
        "# Get the index positions that would sort the array\n",
        "x = np.array([1, 10, 5, 2, 8, 9])\n",
        "sort_index = np.argsort(x)\n",
        "print(sort_index)"
      ]
    },
    {
      "cell_type": "code",
      "execution_count": null,
      "metadata": {
        "colab": {
          "base_uri": "https://localhost:8080/"
        },
        "id": "jbZ3HZA7x4pl",
        "outputId": "4f3ded65-168e-445b-92ec-9bddf736ef58"
      },
      "outputs": [
        {
          "output_type": "execute_result",
          "data": {
            "text/plain": [
              "array([ 1,  2,  5,  8,  9, 10])"
            ]
          },
          "metadata": {},
          "execution_count": 90
        }
      ],
      "source": [
        "x[sort_index]"
      ]
    },
    {
      "cell_type": "code",
      "execution_count": null,
      "metadata": {
        "colab": {
          "base_uri": "https://localhost:8080/"
        },
        "id": "kKO75A43x4pl",
        "outputId": "618a8244-4863-44ff-950c-ee00b5ec4a80"
      },
      "outputs": [
        {
          "output_type": "execute_result",
          "data": {
            "text/plain": [
              "array([[1, 1, 4, 1],\n",
              "       [1, 5, 4, 5],\n",
              "       [2, 4, 5, 5],\n",
              "       [3, 5, 3, 3],\n",
              "       [3, 3, 2, 1],\n",
              "       [3, 1, 4, 2],\n",
              "       [3, 4, 5, 5],\n",
              "       [4, 4, 4, 2]])"
            ]
          },
          "metadata": {},
          "execution_count": 79
        }
      ],
      "source": [
        "# Argsort the first column\n",
        "sorted_index_1stcol = arr[:, 0].argsort()\n",
        "\n",
        "# Sort 'arr' by first column without disturbing the integrity of rows\n",
        "arr[sorted_index_1stcol]"
      ]
    },
    {
      "cell_type": "code",
      "execution_count": null,
      "metadata": {
        "colab": {
          "base_uri": "https://localhost:8080/"
        },
        "id": "jXafCVpvx4pl",
        "outputId": "789703f8-6fed-4cb4-d579-5a4c9638eae0"
      },
      "outputs": [
        {
          "output_type": "execute_result",
          "data": {
            "text/plain": [
              "array([[4, 4, 4, 2],\n",
              "       [3, 4, 5, 5],\n",
              "       [3, 1, 4, 2],\n",
              "       [3, 3, 2, 1],\n",
              "       [3, 5, 3, 3],\n",
              "       [2, 4, 5, 5],\n",
              "       [1, 5, 4, 5],\n",
              "       [1, 1, 4, 1]])"
            ]
          },
          "metadata": {},
          "execution_count": 80
        }
      ],
      "source": [
        "# Descending sort\n",
        "arr[sorted_index_1stcol[::-1]]"
      ]
    },
    {
      "cell_type": "code",
      "execution_count": null,
      "metadata": {
        "colab": {
          "base_uri": "https://localhost:8080/"
        },
        "id": "X1ZKrvf-x4pm",
        "outputId": "75fa9064-a69c-4a2b-903b-f16c1d3c0159"
      },
      "outputs": [
        {
          "output_type": "execute_result",
          "data": {
            "text/plain": [
              "array([[1, 1, 4, 1],\n",
              "       [1, 5, 4, 5],\n",
              "       [2, 4, 5, 5],\n",
              "       [3, 1, 4, 2],\n",
              "       [3, 3, 2, 1],\n",
              "       [3, 4, 5, 5],\n",
              "       [3, 5, 3, 3],\n",
              "       [4, 4, 4, 2]])"
            ]
          },
          "metadata": {},
          "execution_count": 81
        }
      ],
      "source": [
        "# Sort by column 0, then by column 1\n",
        "lexsorted_index = np.lexsort((arr[:, 1], arr[:, 0]))\n",
        "arr[lexsorted_index]"
      ]
    },
    {
      "cell_type": "markdown",
      "metadata": {
        "id": "VFLfubO8x4pm"
      },
      "source": [
        "### mean, min, max"
      ]
    },
    {
      "cell_type": "code",
      "execution_count": null,
      "metadata": {
        "colab": {
          "base_uri": "https://localhost:8080/"
        },
        "id": "6OxA2gx1x4pn",
        "outputId": "a8a9bc85-d3ba-44d3-909e-2d5978df2a6f"
      },
      "outputs": [
        {
          "output_type": "execute_result",
          "data": {
            "text/plain": [
              "array([[100., 100.,   3.,   4.],\n",
              "       [100., 100.,  -1.,   6.],\n",
              "       [  5.,   6.,   7.,   8.]])"
            ]
          },
          "metadata": {},
          "execution_count": 77
        }
      ],
      "source": [
        "arr2"
      ]
    },
    {
      "cell_type": "code",
      "execution_count": null,
      "metadata": {
        "colab": {
          "base_uri": "https://localhost:8080/"
        },
        "id": "OaePYMSmx4pn",
        "outputId": "51f9d33a-9e78-493a-8b03-ede064ee77dc"
      },
      "outputs": [
        {
          "output_type": "stream",
          "name": "stdout",
          "text": [
            "Mean value is:  36.5\n",
            "Max value is:  100.0\n",
            "Min value is:  -1.0\n"
          ]
        }
      ],
      "source": [
        "# mean, max and min\n",
        "print(\"Mean value is: \", arr2.mean())\n",
        "print(\"Max value is: \", arr2.max())\n",
        "print(\"Min value is: \", arr2.min())"
      ]
    },
    {
      "cell_type": "code",
      "execution_count": null,
      "metadata": {
        "colab": {
          "base_uri": "https://localhost:8080/"
        },
        "id": "KE8AqdnBx4po",
        "outputId": "348eada1-1071-42af-81da-96d5e042b943"
      },
      "outputs": [
        {
          "output_type": "stream",
          "name": "stdout",
          "text": [
            "Column wise minimum:  [ 5.  6. -1.  4.]\n",
            "Row wise minimum:  [ 3. -1.  5.]\n"
          ]
        }
      ],
      "source": [
        "# Row wise and column wise min\n",
        "print(\"Column wise minimum: \", np.amin(arr2, axis=0))\n",
        "print(\"Row wise minimum: \", np.amin(arr2, axis=1))"
      ]
    },
    {
      "cell_type": "markdown",
      "source": [],
      "metadata": {
        "id": "dH1eVXKR5D3Y"
      }
    },
    {
      "cell_type": "code",
      "source": [
        "arr2"
      ],
      "metadata": {
        "colab": {
          "base_uri": "https://localhost:8080/"
        },
        "id": "3lSEZfYX5OXp",
        "outputId": "c85ecb38-6453-4793-bbb4-0944f006f75f"
      },
      "execution_count": null,
      "outputs": [
        {
          "output_type": "execute_result",
          "data": {
            "text/plain": [
              "array([[100., 100.,   3.,   4.],\n",
              "       [100., 100.,  -1.,   6.],\n",
              "       [  5.,   6.,   7.,   8.]])"
            ]
          },
          "metadata": {},
          "execution_count": 79
        }
      ]
    },
    {
      "cell_type": "code",
      "execution_count": null,
      "metadata": {
        "colab": {
          "base_uri": "https://localhost:8080/"
        },
        "id": "j5POtueSx4po",
        "outputId": "4082e714-48d1-4540-948e-338c083ec567"
      },
      "outputs": [
        {
          "output_type": "execute_result",
          "data": {
            "text/plain": [
              "array([100., 200., 203., 207., 307., 407., 406., 412., 417., 423., 430.,\n",
              "       438.])"
            ]
          },
          "metadata": {},
          "execution_count": 96
        }
      ],
      "source": [
        "# Cumulative Sum\n",
        "np.cumsum(arr2)"
      ]
    },
    {
      "cell_type": "markdown",
      "metadata": {
        "id": "TOvgt_Myx4pp"
      },
      "source": [
        "### Applying functions"
      ]
    },
    {
      "cell_type": "code",
      "execution_count": null,
      "metadata": {
        "colab": {
          "base_uri": "https://localhost:8080/"
        },
        "id": "qrwRgyYBx4pp",
        "outputId": "dd0f83a6-268d-4281-a495-4cee7f5fbb44"
      },
      "outputs": [
        {
          "output_type": "stream",
          "name": "stdout",
          "text": [
            "x = 10 returns  5.0\n",
            "x = 11 returns  121\n"
          ]
        }
      ],
      "source": [
        "# Define a scalar function\n",
        "def foo(x):\n",
        "    if x % 2 == 1:\n",
        "        return x**2\n",
        "    else:\n",
        "        return x/2\n",
        "\n",
        "# On a scalar\n",
        "print('x = 10 returns ', foo(10))\n",
        "print('x = 11 returns ', foo(11))\n",
        "\n",
        "# On a vector, doesn't work\n",
        "#print('x = [10, 11, 12] returns ', foo([10, 11, 12]))  # Error"
      ]
    },
    {
      "cell_type": "code",
      "execution_count": null,
      "metadata": {
        "colab": {
          "base_uri": "https://localhost:8080/"
        },
        "id": "JaJu9YK7x4pq",
        "outputId": "f449e1fd-ba1b-453d-b6ec-44f7bf506179"
      },
      "outputs": [
        {
          "output_type": "stream",
          "name": "stdout",
          "text": [
            "x = [10, 11, 12] returns  [  5. 121.   6.]\n",
            "x = [[10, 11, 12], [1, 2, 3]] returns  [[  5. 121.   6.]\n",
            " [  1.   1.   9.]]\n"
          ]
        }
      ],
      "source": [
        "# Vectorize foo(). Make it work on vectors.\n",
        "foo_v = np.vectorize(foo, otypes=[float])\n",
        "\n",
        "print('x = [10, 11, 12] returns ', foo_v([10, 11, 12]))\n",
        "print('x = [[10, 11, 12], [1, 2, 3]] returns ', foo_v([[10, 11, 12], [1, 2, 3]]))"
      ]
    },
    {
      "cell_type": "code",
      "execution_count": null,
      "metadata": {
        "colab": {
          "base_uri": "https://localhost:8080/"
        },
        "id": "UCN5XpFnx4pr",
        "outputId": "0132acfe-7042-4c6c-fde5-4bc6eb2d9c82"
      },
      "outputs": [
        {
          "output_type": "execute_result",
          "data": {
            "text/plain": [
              "array([[9, 9, 4, 8, 8, 1, 5, 3, 6, 3],\n",
              "       [3, 3, 2, 1, 9, 5, 1, 7, 3, 5],\n",
              "       [2, 6, 4, 5, 5, 4, 8, 2, 2, 8],\n",
              "       [8, 1, 3, 4, 3, 6, 9, 2, 1, 8]])"
            ]
          },
          "metadata": {},
          "execution_count": 84
        }
      ],
      "source": [
        "# Create a 4x10 random array\n",
        "np.random.seed(100)\n",
        "arr_x = np.random.randint(1,10,size=[4,10])\n",
        "arr_x"
      ]
    },
    {
      "cell_type": "code",
      "execution_count": null,
      "outputs": [
        {
          "output_type": "stream",
          "name": "stdout",
          "text": [
            "Row wise:  [8 8 6 8]\n",
            "Column wise:  [7 8 2 7 6 5 8 5 5 5]\n"
          ]
        }
      ],
      "source": [
        "# Define func1d\n",
        "def max_minus_min(x):\n",
        "    return np.max(x) - np.min(x)\n",
        "\n",
        "# Apply along the rows\n",
        "print('Row wise: ', np.apply_along_axis(max_minus_min, 1, arr=arr_x))\n",
        "\n",
        "# Apply along the columns\n",
        "print('Column wise: ', np.apply_along_axis(max_minus_min, 0, arr=arr_x))"
      ],
      "metadata": {
        "colab": {
          "base_uri": "https://localhost:8080/"
        },
        "id": "xv6XxZYsx4pr",
        "outputId": "15f97dc8-07eb-4533-eccf-81415972d987"
      }
    },
    {
      "cell_type": "code",
      "execution_count": null,
      "outputs": [],
      "source": [
        "def max_minus_min_fast(x, axis):\n",
        "    return x.max(axis=axis) - x.min(axis=axis)"
      ],
      "metadata": {
        "id": "jlbRqC3vx4pr"
      }
    },
    {
      "cell_type": "code",
      "execution_count": null,
      "outputs": [
        {
          "output_type": "stream",
          "name": "stdout",
          "text": [
            "Row wise:  [8 8 6 8]\n",
            "Column wise:  [7 8 2 7 6 5 8 5 5 5]\n"
          ]
        }
      ],
      "source": [
        "# Apply along the rows\n",
        "print('Row wise: ', max_minus_min_fast(arr_x, 1))\n",
        "\n",
        "# Apply along the columns\n",
        "print('Column wise: ', max_minus_min_fast(arr_x, 0))"
      ],
      "metadata": {
        "colab": {
          "base_uri": "https://localhost:8080/"
        },
        "id": "uC0TnwJxx4ps",
        "outputId": "1523ca0a-cd4f-4839-d663-de59e41212d0"
      }
    },
    {
      "cell_type": "code",
      "execution_count": null,
      "outputs": [
        {
          "output_type": "stream",
          "name": "stdout",
          "text": [
            "116 µs ± 10.6 µs per loop (mean ± std. dev. of 7 runs, 10000 loops each)\n"
          ]
        }
      ],
      "source": [
        "%timeit np.apply_along_axis(max_minus_min, 1, arr=arr_x)"
      ],
      "metadata": {
        "colab": {
          "base_uri": "https://localhost:8080/"
        },
        "id": "58lEGM6rx4ps",
        "outputId": "8e1d271c-15ea-4d31-92d0-80a3eb610577"
      }
    },
    {
      "cell_type": "code",
      "execution_count": null,
      "outputs": [
        {
          "output_type": "stream",
          "name": "stdout",
          "text": [
            "5.49 µs ± 141 ns per loop (mean ± std. dev. of 7 runs, 100000 loops each)\n"
          ]
        }
      ],
      "source": [
        "%timeit max_minus_min_fast(arr_x, 1)"
      ],
      "metadata": {
        "colab": {
          "base_uri": "https://localhost:8080/"
        },
        "id": "11g_J2iCx4pt",
        "outputId": "d9992a70-e0f7-4b2a-d64f-6b269de586eb"
      }
    },
    {
      "cell_type": "markdown",
      "source": [
        "# Linear algebra"
      ],
      "metadata": {
        "collapsed": false,
        "id": "KHkaeslwx4pt"
      }
    },
    {
      "cell_type": "code",
      "execution_count": null,
      "outputs": [
        {
          "output_type": "execute_result",
          "data": {
            "text/plain": [
              "array([[100., 100.,   3.,   4.],\n",
              "       [100., 100.,  -1.,   6.],\n",
              "       [  5.,   6.,   7.,   8.]])"
            ]
          },
          "metadata": {},
          "execution_count": 108
        }
      ],
      "source": [
        "arr2"
      ],
      "metadata": {
        "colab": {
          "base_uri": "https://localhost:8080/"
        },
        "id": "ZVnwQPd7x4pt",
        "outputId": "6e972ea7-d253-4c39-d626-c0b207ebf8cf"
      }
    },
    {
      "cell_type": "code",
      "execution_count": null,
      "outputs": [
        {
          "output_type": "execute_result",
          "data": {
            "text/plain": [
              "array([[100., 100.,   5.],\n",
              "       [100., 100.,   6.],\n",
              "       [  3.,  -1.,   7.],\n",
              "       [  4.,   6.,   8.]])"
            ]
          },
          "metadata": {},
          "execution_count": 109
        }
      ],
      "source": [
        "arr2.transpose()"
      ],
      "metadata": {
        "colab": {
          "base_uri": "https://localhost:8080/"
        },
        "id": "Vcr3XX2ex4pt",
        "outputId": "45016526-5436-4070-b652-7fe1c285807c"
      }
    },
    {
      "cell_type": "code",
      "execution_count": null,
      "outputs": [
        {
          "output_type": "execute_result",
          "data": {
            "text/plain": [
              "array([[ -4,   0,   2],\n",
              "       [ 14,   5, -23],\n",
              "       [ 13, -11,   0],\n",
              "       [  1,   5,  11]])"
            ]
          },
          "metadata": {},
          "execution_count": 110
        }
      ],
      "source": [
        "arr_tmp = np.array(np.random.randn(4, 3)*10, dtype=np.int64)\n",
        "arr_tmp"
      ],
      "metadata": {
        "colab": {
          "base_uri": "https://localhost:8080/"
        },
        "id": "47U4KZ9px4pu",
        "outputId": "3650cd01-3bf3-426f-c351-ca8aab3cb07d"
      }
    },
    {
      "cell_type": "code",
      "execution_count": null,
      "outputs": [
        {
          "output_type": "execute_result",
          "data": {
            "text/plain": [
              "array([[ 1043.,   487., -2056.],\n",
              "       [  993.,   541., -2034.],\n",
              "       [  163.,    -7.,   -40.]])"
            ]
          },
          "metadata": {},
          "execution_count": 111
        }
      ],
      "source": [
        "np.dot(arr2, arr_tmp)"
      ],
      "metadata": {
        "colab": {
          "base_uri": "https://localhost:8080/"
        },
        "id": "J6Sijq0Tx4pu",
        "outputId": "d207dff7-6b94-410f-838f-c60bd627ade5"
      }
    },
    {
      "cell_type": "code",
      "execution_count": null,
      "outputs": [
        {
          "output_type": "execute_result",
          "data": {
            "text/plain": [
              "array([[20015., 20018.,   221.],\n",
              "       [19995., 19994.,   193.],\n",
              "       [ 1135.,  1142.,    58.]])"
            ]
          },
          "metadata": {},
          "execution_count": 112
        }
      ],
      "source": [
        "np.linalg.matrix_power(arr2[:, :3], 2)"
      ],
      "metadata": {
        "colab": {
          "base_uri": "https://localhost:8080/"
        },
        "id": "47agC18Jx4pu",
        "outputId": "28faf78f-8295-4487-fee2-8e1fd32a689a"
      }
    },
    {
      "cell_type": "code",
      "execution_count": null,
      "outputs": [
        {
          "output_type": "execute_result",
          "data": {
            "text/plain": [
              "400.0000000000002"
            ]
          },
          "metadata": {},
          "execution_count": 113
        }
      ],
      "source": [
        "np.linalg.det(arr2[:, :3])"
      ],
      "metadata": {
        "colab": {
          "base_uri": "https://localhost:8080/"
        },
        "id": "5CmM2dBRx4pv",
        "outputId": "772681bb-a7bd-4058-a0e3-2bdec337cfbf"
      }
    },
    {
      "cell_type": "code",
      "execution_count": null,
      "outputs": [
        {
          "output_type": "execute_result",
          "data": {
            "text/plain": [
              "(array([200.06,   0.3 ,   6.64]),\n",
              " array([[-0.71, -0.7 ,  0.27],\n",
              "        [-0.71,  0.7 , -0.28],\n",
              "        [-0.04, -0.11,  0.92]]))"
            ]
          },
          "metadata": {},
          "execution_count": 114
        }
      ],
      "source": [
        "np.linalg.eig(arr2[:, :3])"
      ],
      "metadata": {
        "colab": {
          "base_uri": "https://localhost:8080/"
        },
        "id": "e30lUIZUx4pv",
        "outputId": "475c964e-fb7e-44bf-fcce-b7871786f2b8"
      }
    },
    {
      "cell_type": "code",
      "execution_count": null,
      "outputs": [],
      "source": [],
      "metadata": {
        "id": "FYvYGt2lx4pv"
      }
    }
  ],
  "metadata": {
    "kernelspec": {
      "display_name": "Python 3",
      "language": "python",
      "name": "python3"
    },
    "language_info": {
      "codemirror_mode": {
        "name": "ipython",
        "version": 3
      },
      "file_extension": ".py",
      "mimetype": "text/x-python",
      "name": "python",
      "nbconvert_exporter": "python",
      "pygments_lexer": "ipython3",
      "version": "3.7.1"
    },
    "colab": {
      "provenance": []
    }
  },
  "nbformat": 4,
  "nbformat_minor": 0
}
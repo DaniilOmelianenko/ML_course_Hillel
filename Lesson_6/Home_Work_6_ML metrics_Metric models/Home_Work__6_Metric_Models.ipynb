{
  "nbformat": 4,
  "nbformat_minor": 0,
  "metadata": {
    "colab": {
      "provenance": []
    },
    "kernelspec": {
      "name": "python3",
      "display_name": "Python 3"
    },
    "language_info": {
      "name": "python"
    }
  },
  "cells": [
    {
      "cell_type": "markdown",
      "source": [
        "Для датасету https://archive.ics.uci.edu/ml/datasets/Abalone побудувати модель класифікації\n",
        "\n",
        "*   первинний аналіз даних (відстуність пропусків, наявність категоріальних фіч, duplicated, Nan) (+)\n",
        "*   фича інжиніринг (побудувати 1-2 нові фічі) (+)\n",
        "*   Убрать кореляцію в фічах (+)\n",
        "*   поділ датасету на train, validate, test (+ random_state) (+)\n",
        "*   GridSearchCV (+)\n",
        "*   Scaling (+)\n",
        "*   NearestCentroid() (+)\n",
        "*   тренування базової моделі із дефолтними гіперпараметрами (кожну модель) (+)\n",
        "*   підбір гіперпараметрів (кожну модель) (+)\n",
        "*   Таргет - вік Rings (кількість кілець) (+)\n",
        "*   Додатково: таргет - стать Sex (infant, male, female)\n",
        "*   побудувати модель різними способами ( ...) (+)\n",
        "*   Metrics: classification_report, ROC-AUC, precision_recall_curve ...\n",
        "*   оцінка результатів (порівняння всіх на тестовій частині, описати яка краще) (+)\n"
      ],
      "metadata": {
        "id": "nskRZCwldXIo"
      }
    },
    {
      "cell_type": "markdown",
      "source": [
        "### Import Requirements"
      ],
      "metadata": {
        "id": "CE3NH-enOzwx"
      }
    },
    {
      "cell_type": "code",
      "source": [
        "import matplotlib.pyplot as plt\n",
        "import numpy as np\n",
        "import pandas as pd\n",
        "import plotly.express as px\n",
        "import seaborn as sns\n",
        "from matplotlib.axes import Axes\n",
        "from matplotlib.container import BarContainer\n",
        "from pandas.core.arrays.sparse.array import NaT\n",
        "from pandas.core.groupby import DataFrameGroupBy\n",
        "from sklearn.linear_model import LinearRegression, SGDRegressor, ElasticNet, Lasso, LogisticRegression\n",
        "from sklearn.metrics import (r2_score, mean_squared_error, mean_absolute_error, accuracy_score, classification_report, precision_recall_curve,\n",
        "                             precision_score, recall_score, f1_score, roc_auc_score)\n",
        "from sklearn.model_selection import train_test_split, GridSearchCV\n",
        "from sklearn.pipeline import make_pipeline, Pipeline\n",
        "from sklearn.decomposition import PCA\n",
        "from sklearn.preprocessing import StandardScaler\n",
        "from sklearn.manifold import TSNE\n",
        "from sklearn.feature_selection import SelectKBest, chi2, VarianceThreshold, SelectFromModel\n",
        "from sklearn.ensemble import RandomForestClassifier\n",
        "from sklearn.neighbors import KNeighborsClassifier, NearestCentroid\n",
        "from imblearn.over_sampling import ADASYN, BorderlineSMOTE\n"
      ],
      "metadata": {
        "id": "q_DtSfAf71NW"
      },
      "execution_count": 1,
      "outputs": []
    },
    {
      "cell_type": "markdown",
      "source": [
        "### Main Init"
      ],
      "metadata": {
        "id": "-nEn7Kpi3Tta"
      }
    },
    {
      "cell_type": "code",
      "execution_count": 2,
      "metadata": {
        "colab": {
          "base_uri": "https://localhost:8080/"
        },
        "id": "6Bwem-C8CxBF",
        "outputId": "472c0f4b-6dcd-4999-aac3-94bd601e4cad"
      },
      "outputs": [
        {
          "output_type": "stream",
          "name": "stdout",
          "text": [
            "Mounted at /content/drive\n"
          ]
        }
      ],
      "source": [
        "RANDOM_STATE: int = 1729\n",
        "\n",
        "\n",
        "def load_model(model_name):\n",
        "    with open(model_name, \"rb\") as file:\n",
        "      return pickle.load(file)\n",
        "\n",
        "\n",
        "def mount_google_drive() -> bool | None:\n",
        "    \"\"\"\n",
        "    Function to mount Google Drive.\n",
        "    :return: True if mounting is successful, None otherwise.\n",
        "    \"\"\"\n",
        "    try:\n",
        "        from google.colab.drive import mount\n",
        "\n",
        "        mount(mountpoint=\"/content/drive\")\n",
        "        return True\n",
        "\n",
        "    except Exception as error:\n",
        "        print(f\"Error while mounting Google Drive: {error}\")\n",
        "        raise\n",
        "\n",
        "\n",
        "def get_google_drive_dataset_path() -> tuple:\n",
        "    \"\"\"\n",
        "    Function to retrieve the path of the raw dataset from Google Drive.\n",
        "    :return: Path of raw dataset as a string.\n",
        "    \"\"\"\n",
        "    return (\"/content/drive/MyDrive/Hillel/Machine_Learning_Course/HW6/abalone/abalone.data\",)\n",
        "\n",
        "\n",
        "def get_data_frame(dataset_path: str) -> tuple[pd.DataFrame] | None:\n",
        "    \"\"\"\n",
        "    Function to convert the dataset into a pd.DataFrame.\n",
        "    :param dataset_path: Path or URL of the dataset.\n",
        "    :return: pd.DataFrame containing the dataset, or None if errors occur.\n",
        "    \"\"\"\n",
        "    try:\n",
        "        return pd.read_csv(filepath_or_buffer=dataset_path, sep=\",\", header=None)\n",
        "\n",
        "    except Exception as error:\n",
        "        print(f\"Error while converting dataset to NumPy array: {error}\")\n",
        "        raise\n",
        "\n",
        "\n",
        "def main() -> tuple[pd.DataFrame] | None:\n",
        "    \"\"\"\n",
        "    Main function to start the app.\n",
        "    :return: pd.DataFrame containing the dataset, or None if errors occur.\n",
        "    \"\"\"\n",
        "    if mount_google_drive():\n",
        "        import os\n",
        "\n",
        "        datasets_paths: tuple = get_google_drive_dataset_path()\n",
        "        if all(map(os.path.exists, datasets_paths)):\n",
        "            data_frames: tuple = tuple(get_data_frame(dataset_path=path) for path in datasets_paths)\n",
        "\n",
        "            return data_frames\n",
        "\n",
        "        else:\n",
        "            print(\"Dataset path doesn't exists.\")\n",
        "            raise FileNotFoundError\n",
        "\n",
        "\n",
        "if __name__ == \"__main__\":\n",
        "    raw_data_frames: tuple | None = main()\n",
        "    if raw_data_frames:\n",
        "      abalone_dataframe: pd.DataFrame = raw_data_frames[0]\n"
      ]
    },
    {
      "cell_type": "markdown",
      "source": [
        "### Data preparing"
      ],
      "metadata": {
        "id": "UCU6z3sW3gPo"
      }
    },
    {
      "cell_type": "code",
      "source": [
        "## Додаємо хедери\n",
        "headers: tuple = (\"Sex\", \"Length\", \"Diameter\", \"Height\", \"Whole weight\", \"Shucked weight\", \"Viscera weight\", \"Shell weight\", \"Rings\")\n",
        "abalone_dataframe.columns = headers"
      ],
      "metadata": {
        "id": "mkAOFdv8-I9k"
      },
      "execution_count": 3,
      "outputs": []
    },
    {
      "cell_type": "code",
      "source": [
        "## Замінюємо значення в колонці \"Sex\": \"M\"=0, \"F\"=1, \"I\"=2\n",
        "abalone_dataframe[\"Sex\"] = abalone_dataframe[\"Sex\"].replace({\"M\": 0, \"F\": 1, \"I\": 2})"
      ],
      "metadata": {
        "id": "qe-ZmxSGSirr"
      },
      "execution_count": 4,
      "outputs": []
    },
    {
      "cell_type": "code",
      "source": [
        "## Перевіряємо на дублікати\n",
        "abalone_dataframe.duplicated().sum()"
      ],
      "metadata": {
        "colab": {
          "base_uri": "https://localhost:8080/"
        },
        "id": "P3q0-dcq2xtW",
        "outputId": "c716f06d-b103-46c5-f1fa-53b2aca4ab39"
      },
      "execution_count": 5,
      "outputs": [
        {
          "output_type": "execute_result",
          "data": {
            "text/plain": [
              "0"
            ]
          },
          "metadata": {},
          "execution_count": 5
        }
      ]
    },
    {
      "cell_type": "code",
      "source": [
        "## Перевіряємо розподіл классів\n",
        "abalone_dataframe[\"Sex\"].value_counts()"
      ],
      "metadata": {
        "colab": {
          "base_uri": "https://localhost:8080/"
        },
        "id": "EZzmgKaVyZOo",
        "outputId": "df83cf43-9a69-4784-b789-de88b8108880"
      },
      "execution_count": 6,
      "outputs": [
        {
          "output_type": "execute_result",
          "data": {
            "text/plain": [
              "0    1528\n",
              "2    1342\n",
              "1    1307\n",
              "Name: Sex, dtype: int64"
            ]
          },
          "metadata": {},
          "execution_count": 6
        }
      ]
    },
    {
      "cell_type": "code",
      "source": [
        "## Міняємо типи даних для пришвидшення та економії памʼяті\n",
        "abalone_dataframe[[\"Sex\", \"Rings\"]]: pd.DataFrame = abalone_dataframe[[\"Sex\", \"Rings\"]].astype(np.byte)"
      ],
      "metadata": {
        "id": "ux6kfExNWuFT"
      },
      "execution_count": 7,
      "outputs": []
    },
    {
      "cell_type": "code",
      "source": [
        "## Генеруємо статистику\n",
        "abalone_dataframe.describe(include=\"all\", percentiles=[.25, .5, .75])"
      ],
      "metadata": {
        "colab": {
          "base_uri": "https://localhost:8080/",
          "height": 300
        },
        "id": "c5QfB9d54Ag_",
        "outputId": "68cff1f8-12cc-4844-81da-f4eef1186b8b"
      },
      "execution_count": 8,
      "outputs": [
        {
          "output_type": "execute_result",
          "data": {
            "text/plain": [
              "               Sex       Length     Diameter       Height  Whole weight  \\\n",
              "count  4177.000000  4177.000000  4177.000000  4177.000000   4177.000000   \n",
              "mean      0.955470     0.523992     0.407881     0.139516      0.828742   \n",
              "std       0.827815     0.120093     0.099240     0.041827      0.490389   \n",
              "min       0.000000     0.075000     0.055000     0.000000      0.002000   \n",
              "25%       0.000000     0.450000     0.350000     0.115000      0.441500   \n",
              "50%       1.000000     0.545000     0.425000     0.140000      0.799500   \n",
              "75%       2.000000     0.615000     0.480000     0.165000      1.153000   \n",
              "max       2.000000     0.815000     0.650000     1.130000      2.825500   \n",
              "\n",
              "       Shucked weight  Viscera weight  Shell weight        Rings  \n",
              "count     4177.000000     4177.000000   4177.000000  4177.000000  \n",
              "mean         0.359367        0.180594      0.238831     9.933684  \n",
              "std          0.221963        0.109614      0.139203     3.224169  \n",
              "min          0.001000        0.000500      0.001500     1.000000  \n",
              "25%          0.186000        0.093500      0.130000     8.000000  \n",
              "50%          0.336000        0.171000      0.234000     9.000000  \n",
              "75%          0.502000        0.253000      0.329000    11.000000  \n",
              "max          1.488000        0.760000      1.005000    29.000000  "
            ],
            "text/html": [
              "\n",
              "  <div id=\"df-2b39d0a8-791f-486c-8406-24d47641f2ce\">\n",
              "    <div class=\"colab-df-container\">\n",
              "      <div>\n",
              "<style scoped>\n",
              "    .dataframe tbody tr th:only-of-type {\n",
              "        vertical-align: middle;\n",
              "    }\n",
              "\n",
              "    .dataframe tbody tr th {\n",
              "        vertical-align: top;\n",
              "    }\n",
              "\n",
              "    .dataframe thead th {\n",
              "        text-align: right;\n",
              "    }\n",
              "</style>\n",
              "<table border=\"1\" class=\"dataframe\">\n",
              "  <thead>\n",
              "    <tr style=\"text-align: right;\">\n",
              "      <th></th>\n",
              "      <th>Sex</th>\n",
              "      <th>Length</th>\n",
              "      <th>Diameter</th>\n",
              "      <th>Height</th>\n",
              "      <th>Whole weight</th>\n",
              "      <th>Shucked weight</th>\n",
              "      <th>Viscera weight</th>\n",
              "      <th>Shell weight</th>\n",
              "      <th>Rings</th>\n",
              "    </tr>\n",
              "  </thead>\n",
              "  <tbody>\n",
              "    <tr>\n",
              "      <th>count</th>\n",
              "      <td>4177.000000</td>\n",
              "      <td>4177.000000</td>\n",
              "      <td>4177.000000</td>\n",
              "      <td>4177.000000</td>\n",
              "      <td>4177.000000</td>\n",
              "      <td>4177.000000</td>\n",
              "      <td>4177.000000</td>\n",
              "      <td>4177.000000</td>\n",
              "      <td>4177.000000</td>\n",
              "    </tr>\n",
              "    <tr>\n",
              "      <th>mean</th>\n",
              "      <td>0.955470</td>\n",
              "      <td>0.523992</td>\n",
              "      <td>0.407881</td>\n",
              "      <td>0.139516</td>\n",
              "      <td>0.828742</td>\n",
              "      <td>0.359367</td>\n",
              "      <td>0.180594</td>\n",
              "      <td>0.238831</td>\n",
              "      <td>9.933684</td>\n",
              "    </tr>\n",
              "    <tr>\n",
              "      <th>std</th>\n",
              "      <td>0.827815</td>\n",
              "      <td>0.120093</td>\n",
              "      <td>0.099240</td>\n",
              "      <td>0.041827</td>\n",
              "      <td>0.490389</td>\n",
              "      <td>0.221963</td>\n",
              "      <td>0.109614</td>\n",
              "      <td>0.139203</td>\n",
              "      <td>3.224169</td>\n",
              "    </tr>\n",
              "    <tr>\n",
              "      <th>min</th>\n",
              "      <td>0.000000</td>\n",
              "      <td>0.075000</td>\n",
              "      <td>0.055000</td>\n",
              "      <td>0.000000</td>\n",
              "      <td>0.002000</td>\n",
              "      <td>0.001000</td>\n",
              "      <td>0.000500</td>\n",
              "      <td>0.001500</td>\n",
              "      <td>1.000000</td>\n",
              "    </tr>\n",
              "    <tr>\n",
              "      <th>25%</th>\n",
              "      <td>0.000000</td>\n",
              "      <td>0.450000</td>\n",
              "      <td>0.350000</td>\n",
              "      <td>0.115000</td>\n",
              "      <td>0.441500</td>\n",
              "      <td>0.186000</td>\n",
              "      <td>0.093500</td>\n",
              "      <td>0.130000</td>\n",
              "      <td>8.000000</td>\n",
              "    </tr>\n",
              "    <tr>\n",
              "      <th>50%</th>\n",
              "      <td>1.000000</td>\n",
              "      <td>0.545000</td>\n",
              "      <td>0.425000</td>\n",
              "      <td>0.140000</td>\n",
              "      <td>0.799500</td>\n",
              "      <td>0.336000</td>\n",
              "      <td>0.171000</td>\n",
              "      <td>0.234000</td>\n",
              "      <td>9.000000</td>\n",
              "    </tr>\n",
              "    <tr>\n",
              "      <th>75%</th>\n",
              "      <td>2.000000</td>\n",
              "      <td>0.615000</td>\n",
              "      <td>0.480000</td>\n",
              "      <td>0.165000</td>\n",
              "      <td>1.153000</td>\n",
              "      <td>0.502000</td>\n",
              "      <td>0.253000</td>\n",
              "      <td>0.329000</td>\n",
              "      <td>11.000000</td>\n",
              "    </tr>\n",
              "    <tr>\n",
              "      <th>max</th>\n",
              "      <td>2.000000</td>\n",
              "      <td>0.815000</td>\n",
              "      <td>0.650000</td>\n",
              "      <td>1.130000</td>\n",
              "      <td>2.825500</td>\n",
              "      <td>1.488000</td>\n",
              "      <td>0.760000</td>\n",
              "      <td>1.005000</td>\n",
              "      <td>29.000000</td>\n",
              "    </tr>\n",
              "  </tbody>\n",
              "</table>\n",
              "</div>\n",
              "      <button class=\"colab-df-convert\" onclick=\"convertToInteractive('df-2b39d0a8-791f-486c-8406-24d47641f2ce')\"\n",
              "              title=\"Convert this dataframe to an interactive table.\"\n",
              "              style=\"display:none;\">\n",
              "        \n",
              "  <svg xmlns=\"http://www.w3.org/2000/svg\" height=\"24px\"viewBox=\"0 0 24 24\"\n",
              "       width=\"24px\">\n",
              "    <path d=\"M0 0h24v24H0V0z\" fill=\"none\"/>\n",
              "    <path d=\"M18.56 5.44l.94 2.06.94-2.06 2.06-.94-2.06-.94-.94-2.06-.94 2.06-2.06.94zm-11 1L8.5 8.5l.94-2.06 2.06-.94-2.06-.94L8.5 2.5l-.94 2.06-2.06.94zm10 10l.94 2.06.94-2.06 2.06-.94-2.06-.94-.94-2.06-.94 2.06-2.06.94z\"/><path d=\"M17.41 7.96l-1.37-1.37c-.4-.4-.92-.59-1.43-.59-.52 0-1.04.2-1.43.59L10.3 9.45l-7.72 7.72c-.78.78-.78 2.05 0 2.83L4 21.41c.39.39.9.59 1.41.59.51 0 1.02-.2 1.41-.59l7.78-7.78 2.81-2.81c.8-.78.8-2.07 0-2.86zM5.41 20L4 18.59l7.72-7.72 1.47 1.35L5.41 20z\"/>\n",
              "  </svg>\n",
              "      </button>\n",
              "      \n",
              "  <style>\n",
              "    .colab-df-container {\n",
              "      display:flex;\n",
              "      flex-wrap:wrap;\n",
              "      gap: 12px;\n",
              "    }\n",
              "\n",
              "    .colab-df-convert {\n",
              "      background-color: #E8F0FE;\n",
              "      border: none;\n",
              "      border-radius: 50%;\n",
              "      cursor: pointer;\n",
              "      display: none;\n",
              "      fill: #1967D2;\n",
              "      height: 32px;\n",
              "      padding: 0 0 0 0;\n",
              "      width: 32px;\n",
              "    }\n",
              "\n",
              "    .colab-df-convert:hover {\n",
              "      background-color: #E2EBFA;\n",
              "      box-shadow: 0px 1px 2px rgba(60, 64, 67, 0.3), 0px 1px 3px 1px rgba(60, 64, 67, 0.15);\n",
              "      fill: #174EA6;\n",
              "    }\n",
              "\n",
              "    [theme=dark] .colab-df-convert {\n",
              "      background-color: #3B4455;\n",
              "      fill: #D2E3FC;\n",
              "    }\n",
              "\n",
              "    [theme=dark] .colab-df-convert:hover {\n",
              "      background-color: #434B5C;\n",
              "      box-shadow: 0px 1px 3px 1px rgba(0, 0, 0, 0.15);\n",
              "      filter: drop-shadow(0px 1px 2px rgba(0, 0, 0, 0.3));\n",
              "      fill: #FFFFFF;\n",
              "    }\n",
              "  </style>\n",
              "\n",
              "      <script>\n",
              "        const buttonEl =\n",
              "          document.querySelector('#df-2b39d0a8-791f-486c-8406-24d47641f2ce button.colab-df-convert');\n",
              "        buttonEl.style.display =\n",
              "          google.colab.kernel.accessAllowed ? 'block' : 'none';\n",
              "\n",
              "        async function convertToInteractive(key) {\n",
              "          const element = document.querySelector('#df-2b39d0a8-791f-486c-8406-24d47641f2ce');\n",
              "          const dataTable =\n",
              "            await google.colab.kernel.invokeFunction('convertToInteractive',\n",
              "                                                     [key], {});\n",
              "          if (!dataTable) return;\n",
              "\n",
              "          const docLinkHtml = 'Like what you see? Visit the ' +\n",
              "            '<a target=\"_blank\" href=https://colab.research.google.com/notebooks/data_table.ipynb>data table notebook</a>'\n",
              "            + ' to learn more about interactive tables.';\n",
              "          element.innerHTML = '';\n",
              "          dataTable['output_type'] = 'display_data';\n",
              "          await google.colab.output.renderOutput(dataTable, element);\n",
              "          const docLink = document.createElement('div');\n",
              "          docLink.innerHTML = docLinkHtml;\n",
              "          element.appendChild(docLink);\n",
              "        }\n",
              "      </script>\n",
              "    </div>\n",
              "  </div>\n",
              "  "
            ]
          },
          "metadata": {},
          "execution_count": 8
        }
      ]
    },
    {
      "cell_type": "code",
      "source": [
        "## NAN відсутні\n",
        "abalone_dataframe.info()"
      ],
      "metadata": {
        "colab": {
          "base_uri": "https://localhost:8080/"
        },
        "id": "ueTO1eOO7Uym",
        "outputId": "0c25ec23-61d3-4eeb-9b3e-61367f9e088c"
      },
      "execution_count": 9,
      "outputs": [
        {
          "output_type": "stream",
          "name": "stdout",
          "text": [
            "<class 'pandas.core.frame.DataFrame'>\n",
            "RangeIndex: 4177 entries, 0 to 4176\n",
            "Data columns (total 9 columns):\n",
            " #   Column          Non-Null Count  Dtype  \n",
            "---  ------          --------------  -----  \n",
            " 0   Sex             4177 non-null   int8   \n",
            " 1   Length          4177 non-null   float64\n",
            " 2   Diameter        4177 non-null   float64\n",
            " 3   Height          4177 non-null   float64\n",
            " 4   Whole weight    4177 non-null   float64\n",
            " 5   Shucked weight  4177 non-null   float64\n",
            " 6   Viscera weight  4177 non-null   float64\n",
            " 7   Shell weight    4177 non-null   float64\n",
            " 8   Rings           4177 non-null   int8   \n",
            "dtypes: float64(7), int8(2)\n",
            "memory usage: 236.7 KB\n"
          ]
        }
      ]
    },
    {
      "cell_type": "code",
      "source": [
        "sex_abalone_dataframe: pd.DataFrame = abalone_dataframe.copy()"
      ],
      "metadata": {
        "id": "CNkO4daHNohX"
      },
      "execution_count": 10,
      "outputs": []
    },
    {
      "cell_type": "markdown",
      "source": [
        "### Feature Engineering"
      ],
      "metadata": {
        "id": "XX8jEqNtmbp8"
      }
    },
    {
      "cell_type": "code",
      "source": [
        "main_features: tuple = (\"Sex\", \"Length\", \"Diameter\", \"Height\", \"Whole weight\", \"Shucked weight\", \"Viscera weight\", \"Shell weight\", \"Rings\")\n",
        "\n",
        "abalone_dataframe[\"Total Size\"] = abalone_dataframe[\"Length\"] + abalone_dataframe[\"Diameter\"] + abalone_dataframe[\"Height\"]\n",
        "abalone_dataframe[\"Shell/Total Siz\"] = abalone_dataframe[\"Shell weight\"] / abalone_dataframe[\"Total Size\"]\n",
        "abalone_dataframe = abalone_dataframe.drop([\"Sex\", \"Length\", \"Diameter\", \"Height\", \"Whole weight\", \"Shell weight\", \"Shucked weight\", \"Viscera weight\", \"Total Size\"], axis=1)\n",
        "## Heatmap\n",
        "abalone_corr_matrix = abalone_dataframe.corr()\n",
        "sns.heatmap(data=abalone_corr_matrix, annot=True)\n",
        "## зробили одну фічу з всіх, яка найбільше корелює до таргету"
      ],
      "metadata": {
        "colab": {
          "base_uri": "https://localhost:8080/",
          "height": 453
        },
        "id": "6Z1MuRRL3FSM",
        "outputId": "dda016cd-a2f6-48d1-e929-2598678e74dd"
      },
      "execution_count": 11,
      "outputs": [
        {
          "output_type": "execute_result",
          "data": {
            "text/plain": [
              "<Axes: >"
            ]
          },
          "metadata": {},
          "execution_count": 11
        },
        {
          "output_type": "display_data",
          "data": {
            "text/plain": [
              "<Figure size 640x480 with 2 Axes>"
            ],
            "image/png": "[encoded data removed]"
          },
          "metadata": {}
        }
      ]
    },
    {
      "cell_type": "markdown",
      "source": [
        "### Балансування классів"
      ],
      "metadata": {
        "id": "JJtiOuZsZHE3"
      }
    },
    {
      "cell_type": "code",
      "source": [
        "# Дублюємо ті строки, де недостатньо записів \"Rings\" кожного віку\n",
        "counts = abalone_dataframe[\"Rings\"].value_counts()\n",
        "single_counts = counts[counts < 7].index\n",
        "\n",
        "df_duplicate: pd.DataFrame = abalone_dataframe[abalone_dataframe[\"Rings\"].isin(single_counts)].copy()\n",
        "df_duplicate: pd.DataFrame = pd.concat([df_duplicate] * 4, axis=0, ignore_index=True)\n",
        "abalone_dataframe: pd.DataFrame = pd.concat([abalone_dataframe, df_duplicate], ignore_index=True)\n",
        "# abalone_dataframe[\"Rings\"].value_counts()"
      ],
      "metadata": {
        "id": "1pXNsZMKjG_F"
      },
      "execution_count": 12,
      "outputs": []
    },
    {
      "cell_type": "code",
      "source": [
        "## балансуємо класи через Oversampling\n",
        "balancer = BorderlineSMOTE(random_state=123, k_neighbors=1)\n",
        "X_resampled, y_resampled = balancer.fit_resample(X=abalone_dataframe.drop(\"Rings\", axis=1), y=abalone_dataframe[\"Rings\"])\n",
        "\n",
        "# y_resampled.value_counts()"
      ],
      "metadata": {
        "id": "AptPu12QYxL4"
      },
      "execution_count": 13,
      "outputs": []
    },
    {
      "cell_type": "markdown",
      "source": [
        "### Splitting Data"
      ],
      "metadata": {
        "id": "NTKL2pZxrMMC"
      }
    },
    {
      "cell_type": "code",
      "source": [
        "X_train, X_test, y_train, y_test = train_test_split(X_resampled, y_resampled, test_size=0.2, random_state=334)\n",
        "X_validate, X_test, y_validate, y_test = train_test_split(X_test, y_test, test_size=0.33, random_state=334)\n",
        "\n",
        "# X_train.info()\n",
        "# X_validate.info()\n",
        "# X_test.info()"
      ],
      "metadata": {
        "id": "mmZlxOPajaCS"
      },
      "execution_count": 14,
      "outputs": []
    },
    {
      "cell_type": "markdown",
      "source": [
        "### Scaling"
      ],
      "metadata": {
        "id": "poi2GV5buRtZ"
      }
    },
    {
      "cell_type": "code",
      "source": [
        "scaler: StandardScaler = StandardScaler().fit(X=X_train)\n",
        "\n",
        "X_train_scaled: np.ndarray = scaler.transform(X=X_train)\n",
        "X_validate_scaled: np.ndarray = scaler.transform(X=X_validate)\n",
        "X_test_scaled: np.ndarray = scaler.transform(X=X_test)"
      ],
      "metadata": {
        "id": "d-VzEUEWuUQ3"
      },
      "execution_count": 15,
      "outputs": []
    },
    {
      "cell_type": "markdown",
      "source": [
        "### GridSearch"
      ],
      "metadata": {
        "id": "6ZjAW3zJ39yA"
      }
    },
    {
      "cell_type": "code",
      "source": [
        "def value_results(model, name: str, model_predict, y_test):\n",
        "    print(\"'\" * 50)\n",
        "\n",
        "    print(name)\n",
        "\n",
        "    ## Metrics\n",
        "    accuracy = accuracy_score(y_true=y_test, y_pred=model_predict)\n",
        "    precision = precision_score(y_true=y_test, y_pred=model_predict, average=\"micro\")\n",
        "    recall = recall_score(y_true=y_test, y_pred=model_predict, average=\"micro\")\n",
        "    f1 = f1_score(y_true=y_test, y_pred=model_predict, average=\"micro\")\n",
        "    print(\"Accuracy:\", accuracy)\n",
        "    print(\"Precision:\", precision)\n",
        "    print(\"Recall:\", recall)\n",
        "    print(\"F1 Score:\", f1)\n",
        "\n",
        "    print(\"'\" * 50)"
      ],
      "metadata": {
        "id": "dpg5pE_a-p-S"
      },
      "execution_count": 16,
      "outputs": []
    },
    {
      "cell_type": "code",
      "source": [
        "## KNeighborsClassifier() з підбіром параметрів через GridSearchCV\n",
        "model_kn_grid = KNeighborsClassifier()\n",
        "\n",
        "param_grid_kn = {\n",
        "    \"n_neighbors\": list(range(1,31)),\n",
        "\n",
        "    # \"weights\": [\"uniform\", \"distance\"], # best - uniform\n",
        "    \"weights\": [\"uniform\",],\n",
        "\n",
        "    # \"metric\": [\"euclidean\", \"manhattan\", \"cityblock\", \"l1\", \"l2\", \"cosine\", \"haversine\", \"nan_euclidean\"], # best - euclidean\n",
        "    \"metric\": [\"euclidean\",],\n",
        "\n",
        "    # \"algorithm\": [\"auto\", \"ball_tree\", \"kd_tree\", \"brute\"], # best - ball_tree\n",
        "    \"algorithm\": [\"ball_tree\",],\n",
        "\n",
        "    # \"leaf_size\": list(range(20,41)), # best 25\n",
        "    \"leaf_size\": [25,],\n",
        "}\n",
        "\n",
        "grid_search_kn = GridSearchCV(model_kn_grid, param_grid_kn)\n",
        "grid_search_kn.fit(X_train_scaled, y_train)\n",
        "\n",
        "print(\"best_params: \", grid_search_kn.best_params_)\n",
        "print(\"best_score: \", grid_search_kn.best_score_)\n",
        "\n",
        "y_pred_kn_grid = grid_search_kn.predict(X_validate_scaled)\n",
        "\n",
        "print(classification_report(y_validate, y_pred_kn_grid))\n",
        "\n",
        "value_results(model=grid_search_kn, name=\"KNeighborsClassifier+GridSearch\", model_predict=y_pred_kn_grid, y_test=y_validate)"
      ],
      "metadata": {
        "colab": {
          "base_uri": "https://localhost:8080/"
        },
        "id": "tE61Vx3byX5b",
        "outputId": "7d16cee0-d6cc-4f03-e6a4-47f773be84da"
      },
      "execution_count": 35,
      "outputs": [
        {
          "output_type": "stream",
          "name": "stdout",
          "text": [
            "best_params:  {'algorithm': 'ball_tree', 'leaf_size': 25, 'metric': 'euclidean', 'n_neighbors': 5, 'weights': 'uniform'}\n",
            "best_score:  0.7229311512896366\n",
            "              precision    recall  f1-score   support\n",
            "\n",
            "           1       1.00      1.00      1.00        95\n",
            "           2       1.00      1.00      1.00        97\n",
            "           3       0.80      0.93      0.86        98\n",
            "           4       0.88      0.85      0.87        95\n",
            "           5       0.79      0.77      0.78        92\n",
            "           6       0.58      0.67      0.62        84\n",
            "           7       0.53      0.56      0.55        98\n",
            "           8       0.24      0.29      0.26        98\n",
            "           9       0.15      0.15      0.15        81\n",
            "          10       0.15      0.11      0.13        80\n",
            "          11       0.41      0.25      0.31       104\n",
            "          12       0.54      0.48      0.51        90\n",
            "          13       0.52      0.58      0.55        95\n",
            "          14       0.76      0.74      0.75       106\n",
            "          15       0.62      0.62      0.62        93\n",
            "          16       0.77      0.89      0.82        84\n",
            "          17       0.66      0.68      0.67        95\n",
            "          18       0.77      0.74      0.75       107\n",
            "          19       0.84      0.83      0.84        83\n",
            "          20       0.97      0.94      0.95       108\n",
            "          21       0.44      0.44      0.44       103\n",
            "          22       0.98      1.00      0.99       101\n",
            "          23       0.78      0.81      0.79        93\n",
            "          24       0.99      1.00      0.99        71\n",
            "          25       1.00      1.00      1.00        80\n",
            "          26       1.00      1.00      1.00        76\n",
            "          27       0.98      1.00      0.99        93\n",
            "          29       1.00      1.00      1.00        85\n",
            "\n",
            "    accuracy                           0.72      2585\n",
            "   macro avg       0.72      0.73      0.72      2585\n",
            "weighted avg       0.72      0.72      0.72      2585\n",
            "\n",
            "''''''''''''''''''''''''''''''''''''''''''''''''''\n",
            "KNeighborsClassifier+GridSearch\n",
            "Accuracy: 0.723404255319149\n",
            "Precision: 0.723404255319149\n",
            "Recall: 0.723404255319149\n",
            "F1 Score: 0.723404255319149\n",
            "''''''''''''''''''''''''''''''''''''''''''''''''''\n"
          ]
        }
      ]
    },
    {
      "cell_type": "code",
      "source": [
        "## KNeighborsClassifier() with defaults\n",
        "kn_model = KNeighborsClassifier()\n",
        "kn_model.fit(X_train_scaled, y_train)\n",
        "\n",
        "y_pred_kn = kn_model.predict(X_validate_scaled)\n",
        "\n",
        "print(classification_report(y_validate, y_pred_kn))\n",
        "\n",
        "value_results(model=kn_model, name=\"KNeighborsClassifier+Clean\", model_predict=y_pred_kn, y_test=y_validate)"
      ],
      "metadata": {
        "colab": {
          "base_uri": "https://localhost:8080/"
        },
        "id": "0mgV1OCsB7lv",
        "outputId": "02dd56a2-ea45-44be-cda3-d40be511229c"
      },
      "execution_count": 18,
      "outputs": [
        {
          "output_type": "stream",
          "name": "stdout",
          "text": [
            "              precision    recall  f1-score   support\n",
            "\n",
            "           1       1.00      1.00      1.00        95\n",
            "           2       1.00      1.00      1.00        97\n",
            "           3       0.80      0.93      0.86        98\n",
            "           4       0.88      0.85      0.87        95\n",
            "           5       0.79      0.77      0.78        92\n",
            "           6       0.58      0.67      0.62        84\n",
            "           7       0.53      0.56      0.55        98\n",
            "           8       0.25      0.29      0.26        98\n",
            "           9       0.15      0.15      0.15        81\n",
            "          10       0.15      0.11      0.13        80\n",
            "          11       0.43      0.26      0.32       104\n",
            "          12       0.54      0.48      0.51        90\n",
            "          13       0.52      0.58      0.55        95\n",
            "          14       0.76      0.74      0.75       106\n",
            "          15       0.62      0.62      0.62        93\n",
            "          16       0.77      0.89      0.82        84\n",
            "          17       0.66      0.68      0.67        95\n",
            "          18       0.77      0.74      0.75       107\n",
            "          19       0.84      0.83      0.84        83\n",
            "          20       0.97      0.94      0.95       108\n",
            "          21       0.44      0.44      0.44       103\n",
            "          22       0.98      1.00      0.99       101\n",
            "          23       0.78      0.81      0.79        93\n",
            "          24       0.99      1.00      0.99        71\n",
            "          25       1.00      1.00      1.00        80\n",
            "          26       1.00      1.00      1.00        76\n",
            "          27       0.98      1.00      0.99        93\n",
            "          29       1.00      1.00      1.00        85\n",
            "\n",
            "    accuracy                           0.72      2585\n",
            "   macro avg       0.72      0.73      0.72      2585\n",
            "weighted avg       0.72      0.72      0.72      2585\n",
            "\n",
            "''''''''''''''''''''''''''''''''''''''''''''''''''\n",
            "KNeighborsClassifier+Clean\n",
            "Accuracy: 0.7237911025145067\n",
            "Precision: 0.7237911025145067\n",
            "Recall: 0.7237911025145067\n",
            "F1 Score: 0.7237911025145067\n",
            "''''''''''''''''''''''''''''''''''''''''''''''''''\n"
          ]
        }
      ]
    },
    {
      "cell_type": "code",
      "source": [
        "## NearestCentroid() з підбіром параметрів через GridSearchCV\n",
        "model_centr_grid = NearestCentroid()\n",
        "\n",
        "param_grid_centr = {\n",
        "    # \"metric\": [\"euclidean\", \"manhattan\", \"cityblock\", \"l1\", \"l2\", \"cosine\", \"haversine\", \"nan_euclidean\", \"precomputed\"], # best - manhattan\n",
        "    \"metric\": [\"manhattan\",],\n",
        "    # \"shrink_threshold\": []\n",
        "}\n",
        "\n",
        "grid_search_centr = GridSearchCV(model_centr_grid, param_grid_centr)\n",
        "grid_search_centr.fit(X_train_scaled, y_train)\n",
        "\n",
        "print(\"best_params: \", grid_search_centr.best_params_)\n",
        "print(\"best_score: \", grid_search_centr.best_score_)\n",
        "\n",
        "y_pred_grid_centr = grid_search_centr.predict(X_validate_scaled)\n",
        "\n",
        "print(classification_report(y_validate, y_pred_grid_centr))\n",
        "\n",
        "value_results(model=grid_search_centr, name=\"NearestCentroid+GridSearch\", model_predict=y_pred_grid_centr, y_test=y_validate)"
      ],
      "metadata": {
        "colab": {
          "base_uri": "https://localhost:8080/"
        },
        "id": "_AK7JhoDE6qs",
        "outputId": "237d1e03-3919-449e-fada-d896463c8f00"
      },
      "execution_count": 19,
      "outputs": [
        {
          "output_type": "stream",
          "name": "stdout",
          "text": [
            "best_params:  {'metric': 'manhattan'}\n",
            "best_score:  0.4040698549580002\n",
            "              precision    recall  f1-score   support\n",
            "\n",
            "           1       0.84      1.00      0.91        95\n",
            "           2       0.66      1.00      0.79        97\n",
            "           3       0.32      0.10      0.16        98\n",
            "           4       0.40      0.46      0.43        95\n",
            "           5       0.57      0.52      0.55        92\n",
            "           6       0.40      0.44      0.42        84\n",
            "           7       0.44      0.44      0.44        98\n",
            "           8       0.22      0.33      0.26        98\n",
            "           9       0.09      0.12      0.10        81\n",
            "          10       0.06      0.14      0.08        80\n",
            "          11       0.13      0.09      0.10       104\n",
            "          12       0.02      0.01      0.01        90\n",
            "          13       0.04      0.02      0.03        95\n",
            "          14       0.15      0.04      0.06       106\n",
            "          15       0.18      0.11      0.13        93\n",
            "          16       0.08      0.07      0.08        84\n",
            "          17       0.05      0.04      0.05        95\n",
            "          18       0.33      0.10      0.16       107\n",
            "          19       0.10      0.07      0.08        83\n",
            "          20       0.40      0.32      0.36       108\n",
            "          21       0.39      0.50      0.44       103\n",
            "          22       0.59      0.16      0.25       101\n",
            "          23       0.81      0.68      0.74        93\n",
            "          24       0.30      0.51      0.37        71\n",
            "          25       0.74      1.00      0.85        80\n",
            "          26       0.77      1.00      0.87        76\n",
            "          27       0.49      1.00      0.66        93\n",
            "          29       0.65      1.00      0.79        85\n",
            "\n",
            "    accuracy                           0.39      2585\n",
            "   macro avg       0.37      0.40      0.36      2585\n",
            "weighted avg       0.36      0.39      0.36      2585\n",
            "\n",
            "''''''''''''''''''''''''''''''''''''''''''''''''''\n",
            "NearestCentroid+GridSearch\n",
            "Accuracy: 0.393036750483559\n",
            "Precision: 0.393036750483559\n",
            "Recall: 0.393036750483559\n",
            "F1 Score: 0.393036750483559\n",
            "''''''''''''''''''''''''''''''''''''''''''''''''''\n"
          ]
        }
      ]
    },
    {
      "cell_type": "code",
      "source": [
        "## NearestCentroid() with defaults\n",
        "centr_model = NearestCentroid()\n",
        "centr_model.fit(X_train_scaled, y_train)\n",
        "\n",
        "y_pred_centr = centr_model.predict(X_validate_scaled)\n",
        "\n",
        "print(classification_report(y_validate, y_pred_centr))\n",
        "\n",
        "value_results(model=centr_model, name=\"NearestCentroid+Clean\", model_predict=y_pred_centr, y_test=y_validate)"
      ],
      "metadata": {
        "colab": {
          "base_uri": "https://localhost:8080/"
        },
        "id": "1QUIBP8UIaSD",
        "outputId": "219808a1-cd61-4622-aa14-96928eb517d6"
      },
      "execution_count": 20,
      "outputs": [
        {
          "output_type": "stream",
          "name": "stdout",
          "text": [
            "              precision    recall  f1-score   support\n",
            "\n",
            "           1       0.84      1.00      0.91        95\n",
            "           2       0.66      1.00      0.79        97\n",
            "           3       0.57      0.29      0.38        98\n",
            "           4       0.48      0.46      0.47        95\n",
            "           5       0.58      0.58      0.58        92\n",
            "           6       0.43      0.45      0.44        84\n",
            "           7       0.42      0.44      0.43        98\n",
            "           8       0.17      0.29      0.21        98\n",
            "           9       0.07      0.07      0.07        81\n",
            "          10       0.06      0.14      0.08        80\n",
            "          11       0.10      0.12      0.11       104\n",
            "          12       0.03      0.02      0.03        90\n",
            "          13       0.09      0.03      0.05        95\n",
            "          14       0.00      0.00      0.00       106\n",
            "          15       0.25      0.04      0.07        93\n",
            "          16       0.14      0.07      0.09        84\n",
            "          17       0.22      0.08      0.12        95\n",
            "          18       0.63      0.18      0.28       107\n",
            "          19       0.00      0.00      0.00        83\n",
            "          20       0.42      0.32      0.37       108\n",
            "          21       0.37      0.42      0.39       103\n",
            "          22       0.00      0.00      0.00       101\n",
            "          23       0.65      0.32      0.43        93\n",
            "          24       0.00      0.00      0.00        71\n",
            "          25       0.41      1.00      0.58        80\n",
            "          26       0.67      1.00      0.80        76\n",
            "          27       0.47      0.48      0.48        93\n",
            "          29       0.57      1.00      0.73        85\n",
            "\n",
            "    accuracy                           0.35      2585\n",
            "   macro avg       0.33      0.35      0.32      2585\n",
            "weighted avg       0.34      0.35      0.32      2585\n",
            "\n",
            "''''''''''''''''''''''''''''''''''''''''''''''''''\n",
            "NearestCentroid+Clean\n",
            "Accuracy: 0.3450676982591876\n",
            "Precision: 0.3450676982591876\n",
            "Recall: 0.3450676982591876\n",
            "F1 Score: 0.3450676982591876\n",
            "''''''''''''''''''''''''''''''''''''''''''''''''''\n"
          ]
        }
      ]
    },
    {
      "cell_type": "markdown",
      "source": [
        "### Value result"
      ],
      "metadata": {
        "id": "4t3Xnuwe7IJd"
      }
    },
    {
      "cell_type": "code",
      "source": [
        "value_results(model=grid_search_kn, name=\"KNeighborsClassifier+GridSearch\", model_predict=grid_search_kn.predict(X_test_scaled), y_test=y_test)\n",
        "\n",
        "value_results(model=kn_model, name=\"KNeighborsClassifier+Clean\", model_predict=kn_model.predict(X_test_scaled), y_test=y_test)\n",
        "\n",
        "value_results(model=grid_search_centr, name=\"NearestCentroid+GridSearch\", model_predict=grid_search_centr.predict(X_test_scaled), y_test=y_test)\n",
        "\n",
        "value_results(model=centr_model, name=\"NearestCentroid+Clean\", model_predict=centr_model.predict(X_test_scaled), y_test=y_test)\n",
        "\n",
        "## Тут бачимо, що KNeighborsClassifier з автоматично підібраними GridSearchCV гіперпараметрами віддає найкращий предікт, з дуже маленьким відривом\n",
        "## від чистої KNeighborsClassifier з дефолтними параметрами.\n",
        "## Модель з точністю приблизно 73 відсотки правильно класифікує вік."
      ],
      "metadata": {
        "colab": {
          "base_uri": "https://localhost:8080/"
        },
        "id": "IM10uEpeyywt",
        "outputId": "7cc75023-c4b3-46dd-c103-25a666551f30"
      },
      "execution_count": 36,
      "outputs": [
        {
          "output_type": "stream",
          "name": "stdout",
          "text": [
            "''''''''''''''''''''''''''''''''''''''''''''''''''\n",
            "KNeighborsClassifier+GridSearch\n",
            "Accuracy: 0.7378335949764521\n",
            "Precision: 0.7378335949764521\n",
            "Recall: 0.7378335949764521\n",
            "F1 Score: 0.737833594976452\n",
            "''''''''''''''''''''''''''''''''''''''''''''''''''\n",
            "''''''''''''''''''''''''''''''''''''''''''''''''''\n",
            "KNeighborsClassifier+Clean\n",
            "Accuracy: 0.7370486656200942\n",
            "Precision: 0.7370486656200942\n",
            "Recall: 0.7370486656200942\n",
            "F1 Score: 0.7370486656200942\n",
            "''''''''''''''''''''''''''''''''''''''''''''''''''\n",
            "''''''''''''''''''''''''''''''''''''''''''''''''''\n",
            "NearestCentroid+GridSearch\n",
            "Accuracy: 0.40345368916797486\n",
            "Precision: 0.40345368916797486\n",
            "Recall: 0.40345368916797486\n",
            "F1 Score: 0.40345368916797486\n",
            "''''''''''''''''''''''''''''''''''''''''''''''''''\n",
            "''''''''''''''''''''''''''''''''''''''''''''''''''\n",
            "NearestCentroid+Clean\n",
            "Accuracy: 0.33516483516483514\n",
            "Precision: 0.33516483516483514\n",
            "Recall: 0.33516483516483514\n",
            "F1 Score: 0.33516483516483514\n",
            "''''''''''''''''''''''''''''''''''''''''''''''''''\n"
          ]
        }
      ]
    },
    {
      "cell_type": "markdown",
      "source": [
        "### Abalone Sex"
      ],
      "metadata": {
        "id": "BGfcaJ0NPY0K"
      }
    },
    {
      "cell_type": "code",
      "source": [
        "main_features: tuple = (\"Sex\", \"Length\", \"Diameter\", \"Height\", \"Whole weight\", \"Shucked weight\", \"Viscera weight\", \"Shell weight\", \"Rings\")\n",
        "\n",
        "sex_abalone_dataframe[\"Total Size\"] = sex_abalone_dataframe[\"Length\"] + sex_abalone_dataframe[\"Diameter\"] + sex_abalone_dataframe[\"Height\"]\n",
        "sex_abalone_dataframe[\"Shell/Total Siz\"] = sex_abalone_dataframe[\"Shell weight\"] / sex_abalone_dataframe[\"Total Size\"]\n",
        "\n",
        "sex_abalone_dataframe = sex_abalone_dataframe.drop([\"Length\", \"Diameter\", \"Height\", \"Shell weight\", \"Shucked weight\", \"Viscera weight\", \"Whole weight\", \"Shell/Total Siz\"], axis=1)\n",
        "## Heatmap\n",
        "abalone_sex_corr_matrix = sex_abalone_dataframe.corr()\n",
        "sns.heatmap(data=abalone_sex_corr_matrix, annot=True)\n",
        "## зробили одну фічу з всіх, яка найбільше корелює до таргету"
      ],
      "metadata": {
        "colab": {
          "base_uri": "https://localhost:8080/",
          "height": 453
        },
        "id": "LwpIxl81LCwR",
        "outputId": "32755bb3-e34c-4565-ed16-62ed02773859"
      },
      "execution_count": 22,
      "outputs": [
        {
          "output_type": "execute_result",
          "data": {
            "text/plain": [
              "<Axes: >"
            ]
          },
          "metadata": {},
          "execution_count": 22
        },
        {
          "output_type": "display_data",
          "data": {
            "text/plain": [
              "<Figure size 640x480 with 2 Axes>"
            ],
            "image/png": "[encoded data removed]"
          },
          "metadata": {}
        }
      ]
    },
    {
      "cell_type": "code",
      "source": [
        "X_sex = sex_abalone_dataframe.drop(\"Sex\", axis=1)\n",
        "y_sex = sex_abalone_dataframe[\"Sex\"]\n",
        "\n",
        "X_sex_train, X_sex_test, y_sex_train, y_sex_test = train_test_split(X_sex, y_sex, test_size=0.2, random_state=334)\n",
        "X_sex_validate, X_sex_test, y_sex_validate, y_sex_test = train_test_split(X_sex_test, y_sex_test, test_size=0.33, random_state=334)\n",
        "\n",
        "# X_sex_train.info()\n",
        "# X_sex_validate.info()\n",
        "# X_sex_test.info()"
      ],
      "metadata": {
        "id": "SFoeZrc9SNR3"
      },
      "execution_count": 23,
      "outputs": []
    },
    {
      "cell_type": "code",
      "source": [
        "scaler_sex: StandardScaler = StandardScaler().fit(X=X_sex_train)\n",
        "\n",
        "X_sex_train_scaled: np.ndarray = scaler_sex.transform(X=X_sex_train)\n",
        "X_sex_validate_scaled: np.ndarray = scaler_sex.transform(X=X_sex_validate)\n",
        "X_sex_test_scaled: np.ndarray = scaler_sex.transform(X=X_sex_test)"
      ],
      "metadata": {
        "id": "9LurCwE_TRnB"
      },
      "execution_count": 24,
      "outputs": []
    },
    {
      "cell_type": "code",
      "source": [
        "## KNeighborsClassifier() з підбіром параметрів через GridSearchCV\n",
        "model_kn_grid_sex = KNeighborsClassifier()\n",
        "\n",
        "param_grid_kn_sex = {\n",
        "    \"n_neighbors\": list(range(1,30)),\n",
        "\n",
        "    # \"weights\": [\"uniform\", \"distance\"], # best - uniform\n",
        "    \"weights\": [\"uniform\",],\n",
        "\n",
        "    # \"metric\": [\"euclidean\", \"manhattan\", \"cityblock\", \"l1\", \"l2\", \"cosine\", \"haversine\", \"nan_euclidean\"], # best - manhattan\n",
        "    \"metric\": [\"manhattan\"],\n",
        "\n",
        "    # \"algorithm\": [\"auto\", \"ball_tree\", \"kd_tree\", \"brute\"], # best - brute\n",
        "    \"algorithm\": [\"brute\",],\n",
        "}\n",
        "\n",
        "grid_search_kn_sex = GridSearchCV(model_kn_grid_sex, param_grid_kn_sex)\n",
        "grid_search_kn_sex.fit(X_sex_train_scaled, y_sex_train)\n",
        "\n",
        "print(\"best_params: \", grid_search_kn_sex.best_params_)\n",
        "print(\"best_score: \", grid_search_kn_sex.best_score_)\n",
        "\n",
        "y_pred_kn_grid_sex = grid_search_kn_sex.predict(X_sex_validate_scaled)\n",
        "\n",
        "print(classification_report(y_sex_validate, y_pred_kn_grid_sex))\n",
        "\n",
        "value_results(model=grid_search_kn_sex, name=\"KNeighborsClassifier+GridSearch_SEX\", model_predict=y_pred_kn_grid_sex, y_test=y_sex_validate)"
      ],
      "metadata": {
        "colab": {
          "base_uri": "https://localhost:8080/"
        },
        "id": "uYv9G97yT_r2",
        "outputId": "9e129800-787e-4f6f-84bb-a3d6af053419"
      },
      "execution_count": 25,
      "outputs": [
        {
          "output_type": "stream",
          "name": "stdout",
          "text": [
            "best_params:  {'algorithm': 'brute', 'metric': 'manhattan', 'n_neighbors': 23, 'weights': 'uniform'}\n",
            "best_score:  0.5297816922209393\n",
            "              precision    recall  f1-score   support\n",
            "\n",
            "           0       0.42      0.47      0.45       196\n",
            "           1       0.45      0.38      0.41       170\n",
            "           2       0.74      0.75      0.75       194\n",
            "\n",
            "    accuracy                           0.54       560\n",
            "   macro avg       0.54      0.54      0.54       560\n",
            "weighted avg       0.54      0.54      0.54       560\n",
            "\n",
            "''''''''''''''''''''''''''''''''''''''''''''''''''\n",
            "KNeighborsClassifier+GridSearch_SEX\n",
            "Accuracy: 0.5428571428571428\n",
            "Precision: 0.5428571428571428\n",
            "Recall: 0.5428571428571428\n",
            "F1 Score: 0.5428571428571428\n",
            "''''''''''''''''''''''''''''''''''''''''''''''''''\n"
          ]
        }
      ]
    },
    {
      "cell_type": "code",
      "source": [
        "## KNeighborsClassifier() with defaults\n",
        "kn_sex_model = KNeighborsClassifier()\n",
        "kn_sex_model.fit(X_sex_train_scaled, y_sex_train)\n",
        "\n",
        "y_sex_pred_kn = kn_sex_model.predict(X_sex_validate_scaled)\n",
        "\n",
        "print(classification_report(y_sex_validate, y_sex_pred_kn))\n",
        "\n",
        "value_results(model=kn_sex_model, name=\"KNeighborsClassifier+Clean_SEX\", model_predict=y_sex_pred_kn, y_test=y_sex_validate)"
      ],
      "metadata": {
        "colab": {
          "base_uri": "https://localhost:8080/"
        },
        "id": "J9nwQ4vBX7QY",
        "outputId": "75a0d4b3-c5dd-47a2-adcc-c792dd0ef727"
      },
      "execution_count": 26,
      "outputs": [
        {
          "output_type": "stream",
          "name": "stdout",
          "text": [
            "              precision    recall  f1-score   support\n",
            "\n",
            "           0       0.40      0.47      0.43       196\n",
            "           1       0.41      0.37      0.39       170\n",
            "           2       0.74      0.66      0.70       194\n",
            "\n",
            "    accuracy                           0.51       560\n",
            "   macro avg       0.51      0.50      0.50       560\n",
            "weighted avg       0.52      0.51      0.51       560\n",
            "\n",
            "''''''''''''''''''''''''''''''''''''''''''''''''''\n",
            "KNeighborsClassifier+Clean_SEX\n",
            "Accuracy: 0.5053571428571428\n",
            "Precision: 0.5053571428571428\n",
            "Recall: 0.5053571428571428\n",
            "F1 Score: 0.5053571428571428\n",
            "''''''''''''''''''''''''''''''''''''''''''''''''''\n"
          ]
        }
      ]
    },
    {
      "cell_type": "code",
      "source": [
        "value_results(model=grid_search_kn_sex, name=\"KNeighborsClassifier+GridSearch_SEX\", model_predict=grid_search_kn_sex.predict(X_sex_test_scaled), y_test=y_sex_test)\n",
        "value_results(model=kn_sex_model, name=\"KNeighborsClassifier+Clean_SEX\", model_predict=kn_sex_model.predict(X_sex_test_scaled), y_test=y_sex_test)\n",
        "\n",
        "## Тут бачимо, що KNeighborsClassifier з автоматично підібраними GridSearchCV гіперпараметрами віддає найкращий предікт, ніж\n",
        "## чиста KNeighborsClassifier з дефолтними параметрами.\n",
        "## Модель з точністю приблизно 51% правильно класифікує стать (Чоловіча, Жіноча, дитина)."
      ],
      "metadata": {
        "colab": {
          "base_uri": "https://localhost:8080/"
        },
        "id": "SHBsU7UNYUbM",
        "outputId": "2eed2971-1dc7-4beb-da70-759b12662765"
      },
      "execution_count": 27,
      "outputs": [
        {
          "output_type": "stream",
          "name": "stdout",
          "text": [
            "''''''''''''''''''''''''''''''''''''''''''''''''''\n",
            "KNeighborsClassifier+GridSearch_SEX\n",
            "Accuracy: 0.5108695652173914\n",
            "Precision: 0.5108695652173914\n",
            "Recall: 0.5108695652173914\n",
            "F1 Score: 0.5108695652173914\n",
            "''''''''''''''''''''''''''''''''''''''''''''''''''\n",
            "''''''''''''''''''''''''''''''''''''''''''''''''''\n",
            "KNeighborsClassifier+Clean_SEX\n",
            "Accuracy: 0.4855072463768116\n",
            "Precision: 0.4855072463768116\n",
            "Recall: 0.4855072463768116\n",
            "F1 Score: 0.4855072463768116\n",
            "''''''''''''''''''''''''''''''''''''''''''''''''''\n"
          ]
        }
      ]
    }
  ]
}
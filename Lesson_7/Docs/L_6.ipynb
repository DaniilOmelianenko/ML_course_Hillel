{
  "nbformat": 4,
  "nbformat_minor": 0,
  "metadata": {
    "colab": {
      "provenance": []
    },
    "kernelspec": {
      "name": "python3",
      "display_name": "Python 3"
    },
    "language_info": {
      "name": "python"
    }
  },
  "cells": [
    {
      "cell_type": "code",
      "execution_count": null,
      "metadata": {
        "id": "qBAJSmLi6pLz"
      },
      "outputs": [],
      "source": [
        "from sklearn.preprocessing import LabelEncoder, OneHotEncoder\n",
        "import pandas as pd\n",
        "\n",
        "from category_encoders.ordinal import OrdinalEncoder\n",
        "from category_encoders.woe import WOEEncoder\n",
        "from category_encoders.target_encoder import TargetEncoder\n",
        "from category_encoders.sum_coding import SumEncoder\n",
        "from category_encoders.m_estimate import MEstimateEncoder\n",
        "from category_encoders.leave_one_out import LeaveOneOutEncoder\n",
        "from category_encoders.helmert import HelmertEncoder\n",
        "from category_encoders.cat_boost import CatBoostEncoder\n",
        "from category_encoders.james_stein import JamesSteinEncoder\n",
        "from category_encoders.one_hot import OneHotEncoder"
      ]
    },
    {
      "cell_type": "code",
      "source": [
        "#!pip install category_encoders"
      ],
      "metadata": {
        "colab": {
          "base_uri": "https://localhost:8080/"
        },
        "id": "kWKcNSn4AvKn",
        "outputId": "aeab9157-c54f-4a41-d8db-5a81c4dfc3e0"
      },
      "execution_count": null,
      "outputs": [
        {
          "output_type": "stream",
          "name": "stdout",
          "text": [
            "Looking in indexes: https://pypi.org/simple, https://us-python.pkg.dev/colab-wheels/public/simple/\n",
            "Collecting category_encoders\n",
            "  Downloading category_encoders-2.5.1.post0-py2.py3-none-any.whl (72 kB)\n",
            "\u001b[K     |████████████████████████████████| 72 kB 776 kB/s \n",
            "\u001b[?25hRequirement already satisfied: patsy>=0.5.1 in /usr/local/lib/python3.7/dist-packages (from category_encoders) (0.5.3)\n",
            "Requirement already satisfied: scikit-learn>=0.20.0 in /usr/local/lib/python3.7/dist-packages (from category_encoders) (1.0.2)\n",
            "Requirement already satisfied: pandas>=1.0.5 in /usr/local/lib/python3.7/dist-packages (from category_encoders) (1.3.5)\n",
            "Requirement already satisfied: scipy>=1.0.0 in /usr/local/lib/python3.7/dist-packages (from category_encoders) (1.7.3)\n",
            "Requirement already satisfied: numpy>=1.14.0 in /usr/local/lib/python3.7/dist-packages (from category_encoders) (1.21.6)\n",
            "Requirement already satisfied: statsmodels>=0.9.0 in /usr/local/lib/python3.7/dist-packages (from category_encoders) (0.12.2)\n",
            "Requirement already satisfied: python-dateutil>=2.7.3 in /usr/local/lib/python3.7/dist-packages (from pandas>=1.0.5->category_encoders) (2.8.2)\n",
            "Requirement already satisfied: pytz>=2017.3 in /usr/local/lib/python3.7/dist-packages (from pandas>=1.0.5->category_encoders) (2022.5)\n",
            "Requirement already satisfied: six in /usr/local/lib/python3.7/dist-packages (from patsy>=0.5.1->category_encoders) (1.15.0)\n",
            "Requirement already satisfied: joblib>=0.11 in /usr/local/lib/python3.7/dist-packages (from scikit-learn>=0.20.0->category_encoders) (1.2.0)\n",
            "Requirement already satisfied: threadpoolctl>=2.0.0 in /usr/local/lib/python3.7/dist-packages (from scikit-learn>=0.20.0->category_encoders) (3.1.0)\n",
            "Installing collected packages: category-encoders\n",
            "Successfully installed category-encoders-2.5.1.post0\n"
          ]
        }
      ]
    },
    {
      "cell_type": "code",
      "source": [
        "enc = OneHotEncoder(handle_unknown='ignore')\n",
        "X = [['Male', 1], ['Female', 3], ['Female', 2]]"
      ],
      "metadata": {
        "id": "lZD8OFYo7YFU"
      },
      "execution_count": null,
      "outputs": []
    },
    {
      "cell_type": "code",
      "source": [
        "enc.fit(X)"
      ],
      "metadata": {
        "colab": {
          "base_uri": "https://localhost:8080/"
        },
        "id": "4RRpCkno72_r",
        "outputId": "0ae2c5a8-9128-4169-bfd9-af6b15598366"
      },
      "execution_count": null,
      "outputs": [
        {
          "output_type": "execute_result",
          "data": {
            "text/plain": [
              "OneHotEncoder(handle_unknown='ignore')"
            ]
          },
          "metadata": {},
          "execution_count": 3
        }
      ]
    },
    {
      "cell_type": "code",
      "source": [
        "enc.categories_"
      ],
      "metadata": {
        "colab": {
          "base_uri": "https://localhost:8080/"
        },
        "id": "Kw5nnKgl7-lL",
        "outputId": "56c903e6-f03e-4c37-e6b3-739323944420"
      },
      "execution_count": null,
      "outputs": [
        {
          "output_type": "execute_result",
          "data": {
            "text/plain": [
              "[array(['Female', 'Male'], dtype=object), array([1, 2, 3], dtype=object)]"
            ]
          },
          "metadata": {},
          "execution_count": 4
        }
      ]
    },
    {
      "cell_type": "code",
      "source": [
        "enc.transform([['Female', 1], ['Male', 4], ['Male', 3], ['Male', 2]]).toarray()"
      ],
      "metadata": {
        "colab": {
          "base_uri": "https://localhost:8080/"
        },
        "id": "DcAHjY_07_oY",
        "outputId": "3178db85-8222-4e87-96ec-ff56c4dd27e0"
      },
      "execution_count": null,
      "outputs": [
        {
          "output_type": "execute_result",
          "data": {
            "text/plain": [
              "array([[1., 0., 1., 0., 0.],\n",
              "       [0., 1., 0., 0., 0.],\n",
              "       [0., 1., 0., 0., 1.],\n",
              "       [0., 1., 0., 1., 0.]])"
            ]
          },
          "metadata": {},
          "execution_count": 18
        }
      ]
    },
    {
      "cell_type": "code",
      "source": [],
      "metadata": {
        "colab": {
          "base_uri": "https://localhost:8080/"
        },
        "id": "1zH1IYiN8R5J",
        "outputId": "6ae2e5ce-50c9-44b9-8448-d9d8d1e2f995"
      },
      "execution_count": null,
      "outputs": [
        {
          "output_type": "execute_result",
          "data": {
            "text/plain": [
              "array([['Male', 1],\n",
              "       [None, 2]], dtype=object)"
            ]
          },
          "metadata": {},
          "execution_count": 7
        }
      ]
    },
    {
      "cell_type": "code",
      "source": [
        "enc.get_feature_names_out(['gender', 'group'])"
      ],
      "metadata": {
        "colab": {
          "base_uri": "https://localhost:8080/"
        },
        "id": "-O0j1SX18izz",
        "outputId": "cafa3a6c-4c44-4a08-b36d-19e53d87ef1d"
      },
      "execution_count": null,
      "outputs": [
        {
          "output_type": "execute_result",
          "data": {
            "text/plain": [
              "array(['gender_Female', 'gender_Male', 'group_1', 'group_2', 'group_3'],\n",
              "      dtype=object)"
            ]
          },
          "metadata": {},
          "execution_count": 8
        }
      ]
    },
    {
      "cell_type": "code",
      "source": [
        "le = LabelEncoder()"
      ],
      "metadata": {
        "id": "OAUpaRtW8zxz"
      },
      "execution_count": null,
      "outputs": []
    },
    {
      "cell_type": "code",
      "source": [
        "le.fit([1, 2, 2, 6])"
      ],
      "metadata": {
        "colab": {
          "base_uri": "https://localhost:8080/"
        },
        "id": "c3Yp2g939Z4Z",
        "outputId": "c279992a-a1a4-4270-87a5-a664e08b0853"
      },
      "execution_count": null,
      "outputs": [
        {
          "output_type": "execute_result",
          "data": {
            "text/plain": [
              "LabelEncoder()"
            ]
          },
          "metadata": {},
          "execution_count": 11
        }
      ]
    },
    {
      "cell_type": "code",
      "source": [
        "le.classes_"
      ],
      "metadata": {
        "colab": {
          "base_uri": "https://localhost:8080/"
        },
        "id": "YNSLBUlb9dFG",
        "outputId": "a4d328b6-ca9d-47f6-8ab2-79f2080ce1aa"
      },
      "execution_count": null,
      "outputs": [
        {
          "output_type": "execute_result",
          "data": {
            "text/plain": [
              "array([1, 2, 6])"
            ]
          },
          "metadata": {},
          "execution_count": 12
        }
      ]
    },
    {
      "cell_type": "code",
      "source": [
        "le.transform([1, 1, 2, 6])"
      ],
      "metadata": {
        "colab": {
          "base_uri": "https://localhost:8080/"
        },
        "id": "rNkpGfuF9gkc",
        "outputId": "0299b379-59d2-4215-e799-73295627e0d4"
      },
      "execution_count": null,
      "outputs": [
        {
          "output_type": "execute_result",
          "data": {
            "text/plain": [
              "array([0, 0, 1, 2])"
            ]
          },
          "metadata": {},
          "execution_count": 13
        }
      ]
    },
    {
      "cell_type": "code",
      "source": [
        "df = pd.read_csv('abalone/abalone.data.csv', names=['sex', 'length', 'diameter', 'height', 'wh_weight', 'shuck_weight', 'visc_weight', 'shell_veight', 'rings'])"
      ],
      "metadata": {
        "colab": {
          "base_uri": "https://localhost:8080/",
          "height": 311
        },
        "id": "80CywpnP9l7F",
        "outputId": "911f4772-4e3f-4851-c72b-b196c86f4062"
      },
      "execution_count": null,
      "outputs": [
        {
          "output_type": "error",
          "ename": "FileNotFoundError",
          "evalue": "ignored",
          "traceback": [
            "\u001b[0;31m---------------------------------------------------------------------------\u001b[0m",
            "\u001b[0;31mFileNotFoundError\u001b[0m                         Traceback (most recent call last)",
            "\u001b[0;32m<ipython-input-8-9c84824c6105>\u001b[0m in \u001b[0;36m<module>\u001b[0;34m\u001b[0m\n\u001b[0;32m----> 1\u001b[0;31m \u001b[0mdf\u001b[0m \u001b[0;34m=\u001b[0m \u001b[0mpd\u001b[0m\u001b[0;34m.\u001b[0m\u001b[0mread_csv\u001b[0m\u001b[0;34m(\u001b[0m\u001b[0;34m'abalone/abalone.data.csv'\u001b[0m\u001b[0;34m,\u001b[0m \u001b[0mnames\u001b[0m\u001b[0;34m=\u001b[0m\u001b[0;34m[\u001b[0m\u001b[0;34m'sex'\u001b[0m\u001b[0;34m,\u001b[0m \u001b[0;34m'length'\u001b[0m\u001b[0;34m,\u001b[0m \u001b[0;34m'diameter'\u001b[0m\u001b[0;34m,\u001b[0m \u001b[0;34m'height'\u001b[0m\u001b[0;34m,\u001b[0m \u001b[0;34m'wh_weight'\u001b[0m\u001b[0;34m,\u001b[0m \u001b[0;34m'shuck_weight'\u001b[0m\u001b[0;34m,\u001b[0m \u001b[0;34m'visc_weight'\u001b[0m\u001b[0;34m,\u001b[0m \u001b[0;34m'shell_veight'\u001b[0m\u001b[0;34m,\u001b[0m \u001b[0;34m'rings'\u001b[0m\u001b[0;34m]\u001b[0m\u001b[0;34m)\u001b[0m\u001b[0;34m\u001b[0m\u001b[0;34m\u001b[0m\u001b[0m\n\u001b[0m",
            "\u001b[0;32m/usr/local/lib/python3.7/dist-packages/pandas/util/_decorators.py\u001b[0m in \u001b[0;36mwrapper\u001b[0;34m(*args, **kwargs)\u001b[0m\n\u001b[1;32m    309\u001b[0m                     \u001b[0mstacklevel\u001b[0m\u001b[0;34m=\u001b[0m\u001b[0mstacklevel\u001b[0m\u001b[0;34m,\u001b[0m\u001b[0;34m\u001b[0m\u001b[0;34m\u001b[0m\u001b[0m\n\u001b[1;32m    310\u001b[0m                 )\n\u001b[0;32m--> 311\u001b[0;31m             \u001b[0;32mreturn\u001b[0m \u001b[0mfunc\u001b[0m\u001b[0;34m(\u001b[0m\u001b[0;34m*\u001b[0m\u001b[0margs\u001b[0m\u001b[0;34m,\u001b[0m \u001b[0;34m**\u001b[0m\u001b[0mkwargs\u001b[0m\u001b[0;34m)\u001b[0m\u001b[0;34m\u001b[0m\u001b[0;34m\u001b[0m\u001b[0m\n\u001b[0m\u001b[1;32m    312\u001b[0m \u001b[0;34m\u001b[0m\u001b[0m\n\u001b[1;32m    313\u001b[0m         \u001b[0;32mreturn\u001b[0m \u001b[0mwrapper\u001b[0m\u001b[0;34m\u001b[0m\u001b[0;34m\u001b[0m\u001b[0m\n",
            "\u001b[0;32m/usr/local/lib/python3.7/dist-packages/pandas/io/parsers/readers.py\u001b[0m in \u001b[0;36mread_csv\u001b[0;34m(filepath_or_buffer, sep, delimiter, header, names, index_col, usecols, squeeze, prefix, mangle_dupe_cols, dtype, engine, converters, true_values, false_values, skipinitialspace, skiprows, skipfooter, nrows, na_values, keep_default_na, na_filter, verbose, skip_blank_lines, parse_dates, infer_datetime_format, keep_date_col, date_parser, dayfirst, cache_dates, iterator, chunksize, compression, thousands, decimal, lineterminator, quotechar, quoting, doublequote, escapechar, comment, encoding, encoding_errors, dialect, error_bad_lines, warn_bad_lines, on_bad_lines, delim_whitespace, low_memory, memory_map, float_precision, storage_options)\u001b[0m\n\u001b[1;32m    584\u001b[0m     \u001b[0mkwds\u001b[0m\u001b[0;34m.\u001b[0m\u001b[0mupdate\u001b[0m\u001b[0;34m(\u001b[0m\u001b[0mkwds_defaults\u001b[0m\u001b[0;34m)\u001b[0m\u001b[0;34m\u001b[0m\u001b[0;34m\u001b[0m\u001b[0m\n\u001b[1;32m    585\u001b[0m \u001b[0;34m\u001b[0m\u001b[0m\n\u001b[0;32m--> 586\u001b[0;31m     \u001b[0;32mreturn\u001b[0m \u001b[0m_read\u001b[0m\u001b[0;34m(\u001b[0m\u001b[0mfilepath_or_buffer\u001b[0m\u001b[0;34m,\u001b[0m \u001b[0mkwds\u001b[0m\u001b[0;34m)\u001b[0m\u001b[0;34m\u001b[0m\u001b[0;34m\u001b[0m\u001b[0m\n\u001b[0m\u001b[1;32m    587\u001b[0m \u001b[0;34m\u001b[0m\u001b[0m\n\u001b[1;32m    588\u001b[0m \u001b[0;34m\u001b[0m\u001b[0m\n",
            "\u001b[0;32m/usr/local/lib/python3.7/dist-packages/pandas/io/parsers/readers.py\u001b[0m in \u001b[0;36m_read\u001b[0;34m(filepath_or_buffer, kwds)\u001b[0m\n\u001b[1;32m    480\u001b[0m \u001b[0;34m\u001b[0m\u001b[0m\n\u001b[1;32m    481\u001b[0m     \u001b[0;31m# Create the parser.\u001b[0m\u001b[0;34m\u001b[0m\u001b[0;34m\u001b[0m\u001b[0;34m\u001b[0m\u001b[0m\n\u001b[0;32m--> 482\u001b[0;31m     \u001b[0mparser\u001b[0m \u001b[0;34m=\u001b[0m \u001b[0mTextFileReader\u001b[0m\u001b[0;34m(\u001b[0m\u001b[0mfilepath_or_buffer\u001b[0m\u001b[0;34m,\u001b[0m \u001b[0;34m**\u001b[0m\u001b[0mkwds\u001b[0m\u001b[0;34m)\u001b[0m\u001b[0;34m\u001b[0m\u001b[0;34m\u001b[0m\u001b[0m\n\u001b[0m\u001b[1;32m    483\u001b[0m \u001b[0;34m\u001b[0m\u001b[0m\n\u001b[1;32m    484\u001b[0m     \u001b[0;32mif\u001b[0m \u001b[0mchunksize\u001b[0m \u001b[0;32mor\u001b[0m \u001b[0miterator\u001b[0m\u001b[0;34m:\u001b[0m\u001b[0;34m\u001b[0m\u001b[0;34m\u001b[0m\u001b[0m\n",
            "\u001b[0;32m/usr/local/lib/python3.7/dist-packages/pandas/io/parsers/readers.py\u001b[0m in \u001b[0;36m__init__\u001b[0;34m(self, f, engine, **kwds)\u001b[0m\n\u001b[1;32m    809\u001b[0m             \u001b[0mself\u001b[0m\u001b[0;34m.\u001b[0m\u001b[0moptions\u001b[0m\u001b[0;34m[\u001b[0m\u001b[0;34m\"has_index_names\"\u001b[0m\u001b[0;34m]\u001b[0m \u001b[0;34m=\u001b[0m \u001b[0mkwds\u001b[0m\u001b[0;34m[\u001b[0m\u001b[0;34m\"has_index_names\"\u001b[0m\u001b[0;34m]\u001b[0m\u001b[0;34m\u001b[0m\u001b[0;34m\u001b[0m\u001b[0m\n\u001b[1;32m    810\u001b[0m \u001b[0;34m\u001b[0m\u001b[0m\n\u001b[0;32m--> 811\u001b[0;31m         \u001b[0mself\u001b[0m\u001b[0;34m.\u001b[0m\u001b[0m_engine\u001b[0m \u001b[0;34m=\u001b[0m \u001b[0mself\u001b[0m\u001b[0;34m.\u001b[0m\u001b[0m_make_engine\u001b[0m\u001b[0;34m(\u001b[0m\u001b[0mself\u001b[0m\u001b[0;34m.\u001b[0m\u001b[0mengine\u001b[0m\u001b[0;34m)\u001b[0m\u001b[0;34m\u001b[0m\u001b[0;34m\u001b[0m\u001b[0m\n\u001b[0m\u001b[1;32m    812\u001b[0m \u001b[0;34m\u001b[0m\u001b[0m\n\u001b[1;32m    813\u001b[0m     \u001b[0;32mdef\u001b[0m \u001b[0mclose\u001b[0m\u001b[0;34m(\u001b[0m\u001b[0mself\u001b[0m\u001b[0;34m)\u001b[0m\u001b[0;34m:\u001b[0m\u001b[0;34m\u001b[0m\u001b[0;34m\u001b[0m\u001b[0m\n",
            "\u001b[0;32m/usr/local/lib/python3.7/dist-packages/pandas/io/parsers/readers.py\u001b[0m in \u001b[0;36m_make_engine\u001b[0;34m(self, engine)\u001b[0m\n\u001b[1;32m   1038\u001b[0m             )\n\u001b[1;32m   1039\u001b[0m         \u001b[0;31m# error: Too many arguments for \"ParserBase\"\u001b[0m\u001b[0;34m\u001b[0m\u001b[0;34m\u001b[0m\u001b[0;34m\u001b[0m\u001b[0m\n\u001b[0;32m-> 1040\u001b[0;31m         \u001b[0;32mreturn\u001b[0m \u001b[0mmapping\u001b[0m\u001b[0;34m[\u001b[0m\u001b[0mengine\u001b[0m\u001b[0;34m]\u001b[0m\u001b[0;34m(\u001b[0m\u001b[0mself\u001b[0m\u001b[0;34m.\u001b[0m\u001b[0mf\u001b[0m\u001b[0;34m,\u001b[0m \u001b[0;34m**\u001b[0m\u001b[0mself\u001b[0m\u001b[0;34m.\u001b[0m\u001b[0moptions\u001b[0m\u001b[0;34m)\u001b[0m  \u001b[0;31m# type: ignore[call-arg]\u001b[0m\u001b[0;34m\u001b[0m\u001b[0;34m\u001b[0m\u001b[0m\n\u001b[0m\u001b[1;32m   1041\u001b[0m \u001b[0;34m\u001b[0m\u001b[0m\n\u001b[1;32m   1042\u001b[0m     \u001b[0;32mdef\u001b[0m \u001b[0m_failover_to_python\u001b[0m\u001b[0;34m(\u001b[0m\u001b[0mself\u001b[0m\u001b[0;34m)\u001b[0m\u001b[0;34m:\u001b[0m\u001b[0;34m\u001b[0m\u001b[0;34m\u001b[0m\u001b[0m\n",
            "\u001b[0;32m/usr/local/lib/python3.7/dist-packages/pandas/io/parsers/c_parser_wrapper.py\u001b[0m in \u001b[0;36m__init__\u001b[0;34m(self, src, **kwds)\u001b[0m\n\u001b[1;32m     49\u001b[0m \u001b[0;34m\u001b[0m\u001b[0m\n\u001b[1;32m     50\u001b[0m         \u001b[0;31m# open handles\u001b[0m\u001b[0;34m\u001b[0m\u001b[0;34m\u001b[0m\u001b[0;34m\u001b[0m\u001b[0m\n\u001b[0;32m---> 51\u001b[0;31m         \u001b[0mself\u001b[0m\u001b[0;34m.\u001b[0m\u001b[0m_open_handles\u001b[0m\u001b[0;34m(\u001b[0m\u001b[0msrc\u001b[0m\u001b[0;34m,\u001b[0m \u001b[0mkwds\u001b[0m\u001b[0;34m)\u001b[0m\u001b[0;34m\u001b[0m\u001b[0;34m\u001b[0m\u001b[0m\n\u001b[0m\u001b[1;32m     52\u001b[0m         \u001b[0;32massert\u001b[0m \u001b[0mself\u001b[0m\u001b[0;34m.\u001b[0m\u001b[0mhandles\u001b[0m \u001b[0;32mis\u001b[0m \u001b[0;32mnot\u001b[0m \u001b[0;32mNone\u001b[0m\u001b[0;34m\u001b[0m\u001b[0;34m\u001b[0m\u001b[0m\n\u001b[1;32m     53\u001b[0m \u001b[0;34m\u001b[0m\u001b[0m\n",
            "\u001b[0;32m/usr/local/lib/python3.7/dist-packages/pandas/io/parsers/base_parser.py\u001b[0m in \u001b[0;36m_open_handles\u001b[0;34m(self, src, kwds)\u001b[0m\n\u001b[1;32m    227\u001b[0m             \u001b[0mmemory_map\u001b[0m\u001b[0;34m=\u001b[0m\u001b[0mkwds\u001b[0m\u001b[0;34m.\u001b[0m\u001b[0mget\u001b[0m\u001b[0;34m(\u001b[0m\u001b[0;34m\"memory_map\"\u001b[0m\u001b[0;34m,\u001b[0m \u001b[0;32mFalse\u001b[0m\u001b[0;34m)\u001b[0m\u001b[0;34m,\u001b[0m\u001b[0;34m\u001b[0m\u001b[0;34m\u001b[0m\u001b[0m\n\u001b[1;32m    228\u001b[0m             \u001b[0mstorage_options\u001b[0m\u001b[0;34m=\u001b[0m\u001b[0mkwds\u001b[0m\u001b[0;34m.\u001b[0m\u001b[0mget\u001b[0m\u001b[0;34m(\u001b[0m\u001b[0;34m\"storage_options\"\u001b[0m\u001b[0;34m,\u001b[0m \u001b[0;32mNone\u001b[0m\u001b[0;34m)\u001b[0m\u001b[0;34m,\u001b[0m\u001b[0;34m\u001b[0m\u001b[0;34m\u001b[0m\u001b[0m\n\u001b[0;32m--> 229\u001b[0;31m             \u001b[0merrors\u001b[0m\u001b[0;34m=\u001b[0m\u001b[0mkwds\u001b[0m\u001b[0;34m.\u001b[0m\u001b[0mget\u001b[0m\u001b[0;34m(\u001b[0m\u001b[0;34m\"encoding_errors\"\u001b[0m\u001b[0;34m,\u001b[0m \u001b[0;34m\"strict\"\u001b[0m\u001b[0;34m)\u001b[0m\u001b[0;34m,\u001b[0m\u001b[0;34m\u001b[0m\u001b[0;34m\u001b[0m\u001b[0m\n\u001b[0m\u001b[1;32m    230\u001b[0m         )\n\u001b[1;32m    231\u001b[0m \u001b[0;34m\u001b[0m\u001b[0m\n",
            "\u001b[0;32m/usr/local/lib/python3.7/dist-packages/pandas/io/common.py\u001b[0m in \u001b[0;36mget_handle\u001b[0;34m(path_or_buf, mode, encoding, compression, memory_map, is_text, errors, storage_options)\u001b[0m\n\u001b[1;32m    705\u001b[0m                 \u001b[0mencoding\u001b[0m\u001b[0;34m=\u001b[0m\u001b[0mioargs\u001b[0m\u001b[0;34m.\u001b[0m\u001b[0mencoding\u001b[0m\u001b[0;34m,\u001b[0m\u001b[0;34m\u001b[0m\u001b[0;34m\u001b[0m\u001b[0m\n\u001b[1;32m    706\u001b[0m                 \u001b[0merrors\u001b[0m\u001b[0;34m=\u001b[0m\u001b[0merrors\u001b[0m\u001b[0;34m,\u001b[0m\u001b[0;34m\u001b[0m\u001b[0;34m\u001b[0m\u001b[0m\n\u001b[0;32m--> 707\u001b[0;31m                 \u001b[0mnewline\u001b[0m\u001b[0;34m=\u001b[0m\u001b[0;34m\"\"\u001b[0m\u001b[0;34m,\u001b[0m\u001b[0;34m\u001b[0m\u001b[0;34m\u001b[0m\u001b[0m\n\u001b[0m\u001b[1;32m    708\u001b[0m             )\n\u001b[1;32m    709\u001b[0m         \u001b[0;32melse\u001b[0m\u001b[0;34m:\u001b[0m\u001b[0;34m\u001b[0m\u001b[0;34m\u001b[0m\u001b[0m\n",
            "\u001b[0;31mFileNotFoundError\u001b[0m: [Errno 2] No such file or directory: 'abalone/abalone.data.csv'"
          ]
        }
      ]
    },
    {
      "cell_type": "code",
      "source": [
        "df.head()"
      ],
      "metadata": {
        "colab": {
          "base_uri": "https://localhost:8080/",
          "height": 206
        },
        "id": "1c9fZvNNB_Da",
        "outputId": "c4a0ae4f-b5f0-463d-c9ac-9bc36ed0e310"
      },
      "execution_count": null,
      "outputs": [
        {
          "output_type": "execute_result",
          "data": {
            "text/plain": [
              "  sex  length  diameter  height  wh_weight  shuck_weight  visc_weight  \\\n",
              "0   M   0.455     0.365   0.095     0.5140        0.2245       0.1010   \n",
              "1   M   0.350     0.265   0.090     0.2255        0.0995       0.0485   \n",
              "2   F   0.530     0.420   0.135     0.6770        0.2565       0.1415   \n",
              "3   M   0.440     0.365   0.125     0.5160        0.2155       0.1140   \n",
              "4   I   0.330     0.255   0.080     0.2050        0.0895       0.0395   \n",
              "\n",
              "   shell_veight  rings  \n",
              "0         0.150     15  \n",
              "1         0.070      7  \n",
              "2         0.210      9  \n",
              "3         0.155     10  \n",
              "4         0.055      7  "
            ],
            "text/html": [
              "\n",
              "  <div id=\"df-cc86e2cd-dcd9-4843-ad11-10b4ab026c05\">\n",
              "    <div class=\"colab-df-container\">\n",
              "      <div>\n",
              "<style scoped>\n",
              "    .dataframe tbody tr th:only-of-type {\n",
              "        vertical-align: middle;\n",
              "    }\n",
              "\n",
              "    .dataframe tbody tr th {\n",
              "        vertical-align: top;\n",
              "    }\n",
              "\n",
              "    .dataframe thead th {\n",
              "        text-align: right;\n",
              "    }\n",
              "</style>\n",
              "<table border=\"1\" class=\"dataframe\">\n",
              "  <thead>\n",
              "    <tr style=\"text-align: right;\">\n",
              "      <th></th>\n",
              "      <th>sex</th>\n",
              "      <th>length</th>\n",
              "      <th>diameter</th>\n",
              "      <th>height</th>\n",
              "      <th>wh_weight</th>\n",
              "      <th>shuck_weight</th>\n",
              "      <th>visc_weight</th>\n",
              "      <th>shell_veight</th>\n",
              "      <th>rings</th>\n",
              "    </tr>\n",
              "  </thead>\n",
              "  <tbody>\n",
              "    <tr>\n",
              "      <th>0</th>\n",
              "      <td>M</td>\n",
              "      <td>0.455</td>\n",
              "      <td>0.365</td>\n",
              "      <td>0.095</td>\n",
              "      <td>0.5140</td>\n",
              "      <td>0.2245</td>\n",
              "      <td>0.1010</td>\n",
              "      <td>0.150</td>\n",
              "      <td>15</td>\n",
              "    </tr>\n",
              "    <tr>\n",
              "      <th>1</th>\n",
              "      <td>M</td>\n",
              "      <td>0.350</td>\n",
              "      <td>0.265</td>\n",
              "      <td>0.090</td>\n",
              "      <td>0.2255</td>\n",
              "      <td>0.0995</td>\n",
              "      <td>0.0485</td>\n",
              "      <td>0.070</td>\n",
              "      <td>7</td>\n",
              "    </tr>\n",
              "    <tr>\n",
              "      <th>2</th>\n",
              "      <td>F</td>\n",
              "      <td>0.530</td>\n",
              "      <td>0.420</td>\n",
              "      <td>0.135</td>\n",
              "      <td>0.6770</td>\n",
              "      <td>0.2565</td>\n",
              "      <td>0.1415</td>\n",
              "      <td>0.210</td>\n",
              "      <td>9</td>\n",
              "    </tr>\n",
              "    <tr>\n",
              "      <th>3</th>\n",
              "      <td>M</td>\n",
              "      <td>0.440</td>\n",
              "      <td>0.365</td>\n",
              "      <td>0.125</td>\n",
              "      <td>0.5160</td>\n",
              "      <td>0.2155</td>\n",
              "      <td>0.1140</td>\n",
              "      <td>0.155</td>\n",
              "      <td>10</td>\n",
              "    </tr>\n",
              "    <tr>\n",
              "      <th>4</th>\n",
              "      <td>I</td>\n",
              "      <td>0.330</td>\n",
              "      <td>0.255</td>\n",
              "      <td>0.080</td>\n",
              "      <td>0.2050</td>\n",
              "      <td>0.0895</td>\n",
              "      <td>0.0395</td>\n",
              "      <td>0.055</td>\n",
              "      <td>7</td>\n",
              "    </tr>\n",
              "  </tbody>\n",
              "</table>\n",
              "</div>\n",
              "      <button class=\"colab-df-convert\" onclick=\"convertToInteractive('df-cc86e2cd-dcd9-4843-ad11-10b4ab026c05')\"\n",
              "              title=\"Convert this dataframe to an interactive table.\"\n",
              "              style=\"display:none;\">\n",
              "        \n",
              "  <svg xmlns=\"http://www.w3.org/2000/svg\" height=\"24px\"viewBox=\"0 0 24 24\"\n",
              "       width=\"24px\">\n",
              "    <path d=\"M0 0h24v24H0V0z\" fill=\"none\"/>\n",
              "    <path d=\"M18.56 5.44l.94 2.06.94-2.06 2.06-.94-2.06-.94-.94-2.06-.94 2.06-2.06.94zm-11 1L8.5 8.5l.94-2.06 2.06-.94-2.06-.94L8.5 2.5l-.94 2.06-2.06.94zm10 10l.94 2.06.94-2.06 2.06-.94-2.06-.94-.94-2.06-.94 2.06-2.06.94z\"/><path d=\"M17.41 7.96l-1.37-1.37c-.4-.4-.92-.59-1.43-.59-.52 0-1.04.2-1.43.59L10.3 9.45l-7.72 7.72c-.78.78-.78 2.05 0 2.83L4 21.41c.39.39.9.59 1.41.59.51 0 1.02-.2 1.41-.59l7.78-7.78 2.81-2.81c.8-.78.8-2.07 0-2.86zM5.41 20L4 18.59l7.72-7.72 1.47 1.35L5.41 20z\"/>\n",
              "  </svg>\n",
              "      </button>\n",
              "      \n",
              "  <style>\n",
              "    .colab-df-container {\n",
              "      display:flex;\n",
              "      flex-wrap:wrap;\n",
              "      gap: 12px;\n",
              "    }\n",
              "\n",
              "    .colab-df-convert {\n",
              "      background-color: #E8F0FE;\n",
              "      border: none;\n",
              "      border-radius: 50%;\n",
              "      cursor: pointer;\n",
              "      display: none;\n",
              "      fill: #1967D2;\n",
              "      height: 32px;\n",
              "      padding: 0 0 0 0;\n",
              "      width: 32px;\n",
              "    }\n",
              "\n",
              "    .colab-df-convert:hover {\n",
              "      background-color: #E2EBFA;\n",
              "      box-shadow: 0px 1px 2px rgba(60, 64, 67, 0.3), 0px 1px 3px 1px rgba(60, 64, 67, 0.15);\n",
              "      fill: #174EA6;\n",
              "    }\n",
              "\n",
              "    [theme=dark] .colab-df-convert {\n",
              "      background-color: #3B4455;\n",
              "      fill: #D2E3FC;\n",
              "    }\n",
              "\n",
              "    [theme=dark] .colab-df-convert:hover {\n",
              "      background-color: #434B5C;\n",
              "      box-shadow: 0px 1px 3px 1px rgba(0, 0, 0, 0.15);\n",
              "      filter: drop-shadow(0px 1px 2px rgba(0, 0, 0, 0.3));\n",
              "      fill: #FFFFFF;\n",
              "    }\n",
              "  </style>\n",
              "\n",
              "      <script>\n",
              "        const buttonEl =\n",
              "          document.querySelector('#df-cc86e2cd-dcd9-4843-ad11-10b4ab026c05 button.colab-df-convert');\n",
              "        buttonEl.style.display =\n",
              "          google.colab.kernel.accessAllowed ? 'block' : 'none';\n",
              "\n",
              "        async function convertToInteractive(key) {\n",
              "          const element = document.querySelector('#df-cc86e2cd-dcd9-4843-ad11-10b4ab026c05');\n",
              "          const dataTable =\n",
              "            await google.colab.kernel.invokeFunction('convertToInteractive',\n",
              "                                                     [key], {});\n",
              "          if (!dataTable) return;\n",
              "\n",
              "          const docLinkHtml = 'Like what you see? Visit the ' +\n",
              "            '<a target=\"_blank\" href=https://colab.research.google.com/notebooks/data_table.ipynb>data table notebook</a>'\n",
              "            + ' to learn more about interactive tables.';\n",
              "          element.innerHTML = '';\n",
              "          dataTable['output_type'] = 'display_data';\n",
              "          await google.colab.output.renderOutput(dataTable, element);\n",
              "          const docLink = document.createElement('div');\n",
              "          docLink.innerHTML = docLinkHtml;\n",
              "          element.appendChild(docLink);\n",
              "        }\n",
              "      </script>\n",
              "    </div>\n",
              "  </div>\n",
              "  "
            ]
          },
          "metadata": {},
          "execution_count": 30
        }
      ]
    },
    {
      "cell_type": "code",
      "source": [
        "label = LabelEncoder()\n",
        "\n",
        "df['sex_le'] = label.fit_transform(df['sex'])"
      ],
      "metadata": {
        "id": "CEcmNYFCCG0S"
      },
      "execution_count": null,
      "outputs": []
    },
    {
      "cell_type": "code",
      "source": [
        "df.head()"
      ],
      "metadata": {
        "colab": {
          "base_uri": "https://localhost:8080/",
          "height": 206
        },
        "id": "SAJcYiB7DIe1",
        "outputId": "2748e4e0-6503-4c01-e30b-739c045f63ea"
      },
      "execution_count": null,
      "outputs": [
        {
          "output_type": "execute_result",
          "data": {
            "text/plain": [
              "  sex  length  diameter  height  wh_weight  shuck_weight  visc_weight  \\\n",
              "0   M   0.455     0.365   0.095     0.5140        0.2245       0.1010   \n",
              "1   M   0.350     0.265   0.090     0.2255        0.0995       0.0485   \n",
              "2   F   0.530     0.420   0.135     0.6770        0.2565       0.1415   \n",
              "3   M   0.440     0.365   0.125     0.5160        0.2155       0.1140   \n",
              "4   I   0.330     0.255   0.080     0.2050        0.0895       0.0395   \n",
              "\n",
              "   shell_veight  rings  sex_le  \n",
              "0         0.150     15       2  \n",
              "1         0.070      7       2  \n",
              "2         0.210      9       0  \n",
              "3         0.155     10       2  \n",
              "4         0.055      7       1  "
            ],
            "text/html": [
              "\n",
              "  <div id=\"df-97adfe67-10d5-400a-a3bc-6d6013a75f98\">\n",
              "    <div class=\"colab-df-container\">\n",
              "      <div>\n",
              "<style scoped>\n",
              "    .dataframe tbody tr th:only-of-type {\n",
              "        vertical-align: middle;\n",
              "    }\n",
              "\n",
              "    .dataframe tbody tr th {\n",
              "        vertical-align: top;\n",
              "    }\n",
              "\n",
              "    .dataframe thead th {\n",
              "        text-align: right;\n",
              "    }\n",
              "</style>\n",
              "<table border=\"1\" class=\"dataframe\">\n",
              "  <thead>\n",
              "    <tr style=\"text-align: right;\">\n",
              "      <th></th>\n",
              "      <th>sex</th>\n",
              "      <th>length</th>\n",
              "      <th>diameter</th>\n",
              "      <th>height</th>\n",
              "      <th>wh_weight</th>\n",
              "      <th>shuck_weight</th>\n",
              "      <th>visc_weight</th>\n",
              "      <th>shell_veight</th>\n",
              "      <th>rings</th>\n",
              "      <th>sex_le</th>\n",
              "    </tr>\n",
              "  </thead>\n",
              "  <tbody>\n",
              "    <tr>\n",
              "      <th>0</th>\n",
              "      <td>M</td>\n",
              "      <td>0.455</td>\n",
              "      <td>0.365</td>\n",
              "      <td>0.095</td>\n",
              "      <td>0.5140</td>\n",
              "      <td>0.2245</td>\n",
              "      <td>0.1010</td>\n",
              "      <td>0.150</td>\n",
              "      <td>15</td>\n",
              "      <td>2</td>\n",
              "    </tr>\n",
              "    <tr>\n",
              "      <th>1</th>\n",
              "      <td>M</td>\n",
              "      <td>0.350</td>\n",
              "      <td>0.265</td>\n",
              "      <td>0.090</td>\n",
              "      <td>0.2255</td>\n",
              "      <td>0.0995</td>\n",
              "      <td>0.0485</td>\n",
              "      <td>0.070</td>\n",
              "      <td>7</td>\n",
              "      <td>2</td>\n",
              "    </tr>\n",
              "    <tr>\n",
              "      <th>2</th>\n",
              "      <td>F</td>\n",
              "      <td>0.530</td>\n",
              "      <td>0.420</td>\n",
              "      <td>0.135</td>\n",
              "      <td>0.6770</td>\n",
              "      <td>0.2565</td>\n",
              "      <td>0.1415</td>\n",
              "      <td>0.210</td>\n",
              "      <td>9</td>\n",
              "      <td>0</td>\n",
              "    </tr>\n",
              "    <tr>\n",
              "      <th>3</th>\n",
              "      <td>M</td>\n",
              "      <td>0.440</td>\n",
              "      <td>0.365</td>\n",
              "      <td>0.125</td>\n",
              "      <td>0.5160</td>\n",
              "      <td>0.2155</td>\n",
              "      <td>0.1140</td>\n",
              "      <td>0.155</td>\n",
              "      <td>10</td>\n",
              "      <td>2</td>\n",
              "    </tr>\n",
              "    <tr>\n",
              "      <th>4</th>\n",
              "      <td>I</td>\n",
              "      <td>0.330</td>\n",
              "      <td>0.255</td>\n",
              "      <td>0.080</td>\n",
              "      <td>0.2050</td>\n",
              "      <td>0.0895</td>\n",
              "      <td>0.0395</td>\n",
              "      <td>0.055</td>\n",
              "      <td>7</td>\n",
              "      <td>1</td>\n",
              "    </tr>\n",
              "  </tbody>\n",
              "</table>\n",
              "</div>\n",
              "      <button class=\"colab-df-convert\" onclick=\"convertToInteractive('df-97adfe67-10d5-400a-a3bc-6d6013a75f98')\"\n",
              "              title=\"Convert this dataframe to an interactive table.\"\n",
              "              style=\"display:none;\">\n",
              "        \n",
              "  <svg xmlns=\"http://www.w3.org/2000/svg\" height=\"24px\"viewBox=\"0 0 24 24\"\n",
              "       width=\"24px\">\n",
              "    <path d=\"M0 0h24v24H0V0z\" fill=\"none\"/>\n",
              "    <path d=\"M18.56 5.44l.94 2.06.94-2.06 2.06-.94-2.06-.94-.94-2.06-.94 2.06-2.06.94zm-11 1L8.5 8.5l.94-2.06 2.06-.94-2.06-.94L8.5 2.5l-.94 2.06-2.06.94zm10 10l.94 2.06.94-2.06 2.06-.94-2.06-.94-.94-2.06-.94 2.06-2.06.94z\"/><path d=\"M17.41 7.96l-1.37-1.37c-.4-.4-.92-.59-1.43-.59-.52 0-1.04.2-1.43.59L10.3 9.45l-7.72 7.72c-.78.78-.78 2.05 0 2.83L4 21.41c.39.39.9.59 1.41.59.51 0 1.02-.2 1.41-.59l7.78-7.78 2.81-2.81c.8-.78.8-2.07 0-2.86zM5.41 20L4 18.59l7.72-7.72 1.47 1.35L5.41 20z\"/>\n",
              "  </svg>\n",
              "      </button>\n",
              "      \n",
              "  <style>\n",
              "    .colab-df-container {\n",
              "      display:flex;\n",
              "      flex-wrap:wrap;\n",
              "      gap: 12px;\n",
              "    }\n",
              "\n",
              "    .colab-df-convert {\n",
              "      background-color: #E8F0FE;\n",
              "      border: none;\n",
              "      border-radius: 50%;\n",
              "      cursor: pointer;\n",
              "      display: none;\n",
              "      fill: #1967D2;\n",
              "      height: 32px;\n",
              "      padding: 0 0 0 0;\n",
              "      width: 32px;\n",
              "    }\n",
              "\n",
              "    .colab-df-convert:hover {\n",
              "      background-color: #E2EBFA;\n",
              "      box-shadow: 0px 1px 2px rgba(60, 64, 67, 0.3), 0px 1px 3px 1px rgba(60, 64, 67, 0.15);\n",
              "      fill: #174EA6;\n",
              "    }\n",
              "\n",
              "    [theme=dark] .colab-df-convert {\n",
              "      background-color: #3B4455;\n",
              "      fill: #D2E3FC;\n",
              "    }\n",
              "\n",
              "    [theme=dark] .colab-df-convert:hover {\n",
              "      background-color: #434B5C;\n",
              "      box-shadow: 0px 1px 3px 1px rgba(0, 0, 0, 0.15);\n",
              "      filter: drop-shadow(0px 1px 2px rgba(0, 0, 0, 0.3));\n",
              "      fill: #FFFFFF;\n",
              "    }\n",
              "  </style>\n",
              "\n",
              "      <script>\n",
              "        const buttonEl =\n",
              "          document.querySelector('#df-97adfe67-10d5-400a-a3bc-6d6013a75f98 button.colab-df-convert');\n",
              "        buttonEl.style.display =\n",
              "          google.colab.kernel.accessAllowed ? 'block' : 'none';\n",
              "\n",
              "        async function convertToInteractive(key) {\n",
              "          const element = document.querySelector('#df-97adfe67-10d5-400a-a3bc-6d6013a75f98');\n",
              "          const dataTable =\n",
              "            await google.colab.kernel.invokeFunction('convertToInteractive',\n",
              "                                                     [key], {});\n",
              "          if (!dataTable) return;\n",
              "\n",
              "          const docLinkHtml = 'Like what you see? Visit the ' +\n",
              "            '<a target=\"_blank\" href=https://colab.research.google.com/notebooks/data_table.ipynb>data table notebook</a>'\n",
              "            + ' to learn more about interactive tables.';\n",
              "          element.innerHTML = '';\n",
              "          dataTable['output_type'] = 'display_data';\n",
              "          await google.colab.output.renderOutput(dataTable, element);\n",
              "          const docLink = document.createElement('div');\n",
              "          docLink.innerHTML = docLinkHtml;\n",
              "          element.appendChild(docLink);\n",
              "        }\n",
              "      </script>\n",
              "    </div>\n",
              "  </div>\n",
              "  "
            ]
          },
          "metadata": {},
          "execution_count": 32
        }
      ]
    },
    {
      "cell_type": "code",
      "source": [
        "dummies = pd.get_dummies(df, columns=['sex'], drop_first=True, sparse=True)"
      ],
      "metadata": {
        "id": "MGw4bGGYDKVe"
      },
      "execution_count": null,
      "outputs": []
    },
    {
      "cell_type": "code",
      "source": [
        "dummies"
      ],
      "metadata": {
        "colab": {
          "base_uri": "https://localhost:8080/",
          "height": 424
        },
        "id": "gy2IzwCSDfTT",
        "outputId": "36f2d1ea-18d9-491f-fde3-8f3b4c6c2ca7"
      },
      "execution_count": null,
      "outputs": [
        {
          "output_type": "execute_result",
          "data": {
            "text/plain": [
              "      length  diameter  height  wh_weight  shuck_weight  visc_weight  \\\n",
              "0      0.455     0.365   0.095     0.5140        0.2245       0.1010   \n",
              "1      0.350     0.265   0.090     0.2255        0.0995       0.0485   \n",
              "2      0.530     0.420   0.135     0.6770        0.2565       0.1415   \n",
              "3      0.440     0.365   0.125     0.5160        0.2155       0.1140   \n",
              "4      0.330     0.255   0.080     0.2050        0.0895       0.0395   \n",
              "...      ...       ...     ...        ...           ...          ...   \n",
              "4172   0.565     0.450   0.165     0.8870        0.3700       0.2390   \n",
              "4173   0.590     0.440   0.135     0.9660        0.4390       0.2145   \n",
              "4174   0.600     0.475   0.205     1.1760        0.5255       0.2875   \n",
              "4175   0.625     0.485   0.150     1.0945        0.5310       0.2610   \n",
              "4176   0.710     0.555   0.195     1.9485        0.9455       0.3765   \n",
              "\n",
              "      shell_veight  rings  sex_le  sex_I  sex_M  \n",
              "0           0.1500     15       2      0      1  \n",
              "1           0.0700      7       2      0      1  \n",
              "2           0.2100      9       0      0      0  \n",
              "3           0.1550     10       2      0      1  \n",
              "4           0.0550      7       1      1      0  \n",
              "...            ...    ...     ...    ...    ...  \n",
              "4172        0.2490     11       0      0      0  \n",
              "4173        0.2605     10       2      0      1  \n",
              "4174        0.3080      9       2      0      1  \n",
              "4175        0.2960     10       0      0      0  \n",
              "4176        0.4950     12       2      0      1  \n",
              "\n",
              "[4177 rows x 11 columns]"
            ],
            "text/html": [
              "\n",
              "  <div id=\"df-e0a64d83-407c-4d9b-9ade-198b267dee04\">\n",
              "    <div class=\"colab-df-container\">\n",
              "      <div>\n",
              "<style scoped>\n",
              "    .dataframe tbody tr th:only-of-type {\n",
              "        vertical-align: middle;\n",
              "    }\n",
              "\n",
              "    .dataframe tbody tr th {\n",
              "        vertical-align: top;\n",
              "    }\n",
              "\n",
              "    .dataframe thead th {\n",
              "        text-align: right;\n",
              "    }\n",
              "</style>\n",
              "<table border=\"1\" class=\"dataframe\">\n",
              "  <thead>\n",
              "    <tr style=\"text-align: right;\">\n",
              "      <th></th>\n",
              "      <th>length</th>\n",
              "      <th>diameter</th>\n",
              "      <th>height</th>\n",
              "      <th>wh_weight</th>\n",
              "      <th>shuck_weight</th>\n",
              "      <th>visc_weight</th>\n",
              "      <th>shell_veight</th>\n",
              "      <th>rings</th>\n",
              "      <th>sex_le</th>\n",
              "      <th>sex_I</th>\n",
              "      <th>sex_M</th>\n",
              "    </tr>\n",
              "  </thead>\n",
              "  <tbody>\n",
              "    <tr>\n",
              "      <th>0</th>\n",
              "      <td>0.455</td>\n",
              "      <td>0.365</td>\n",
              "      <td>0.095</td>\n",
              "      <td>0.5140</td>\n",
              "      <td>0.2245</td>\n",
              "      <td>0.1010</td>\n",
              "      <td>0.1500</td>\n",
              "      <td>15</td>\n",
              "      <td>2</td>\n",
              "      <td>0</td>\n",
              "      <td>1</td>\n",
              "    </tr>\n",
              "    <tr>\n",
              "      <th>1</th>\n",
              "      <td>0.350</td>\n",
              "      <td>0.265</td>\n",
              "      <td>0.090</td>\n",
              "      <td>0.2255</td>\n",
              "      <td>0.0995</td>\n",
              "      <td>0.0485</td>\n",
              "      <td>0.0700</td>\n",
              "      <td>7</td>\n",
              "      <td>2</td>\n",
              "      <td>0</td>\n",
              "      <td>1</td>\n",
              "    </tr>\n",
              "    <tr>\n",
              "      <th>2</th>\n",
              "      <td>0.530</td>\n",
              "      <td>0.420</td>\n",
              "      <td>0.135</td>\n",
              "      <td>0.6770</td>\n",
              "      <td>0.2565</td>\n",
              "      <td>0.1415</td>\n",
              "      <td>0.2100</td>\n",
              "      <td>9</td>\n",
              "      <td>0</td>\n",
              "      <td>0</td>\n",
              "      <td>0</td>\n",
              "    </tr>\n",
              "    <tr>\n",
              "      <th>3</th>\n",
              "      <td>0.440</td>\n",
              "      <td>0.365</td>\n",
              "      <td>0.125</td>\n",
              "      <td>0.5160</td>\n",
              "      <td>0.2155</td>\n",
              "      <td>0.1140</td>\n",
              "      <td>0.1550</td>\n",
              "      <td>10</td>\n",
              "      <td>2</td>\n",
              "      <td>0</td>\n",
              "      <td>1</td>\n",
              "    </tr>\n",
              "    <tr>\n",
              "      <th>4</th>\n",
              "      <td>0.330</td>\n",
              "      <td>0.255</td>\n",
              "      <td>0.080</td>\n",
              "      <td>0.2050</td>\n",
              "      <td>0.0895</td>\n",
              "      <td>0.0395</td>\n",
              "      <td>0.0550</td>\n",
              "      <td>7</td>\n",
              "      <td>1</td>\n",
              "      <td>1</td>\n",
              "      <td>0</td>\n",
              "    </tr>\n",
              "    <tr>\n",
              "      <th>...</th>\n",
              "      <td>...</td>\n",
              "      <td>...</td>\n",
              "      <td>...</td>\n",
              "      <td>...</td>\n",
              "      <td>...</td>\n",
              "      <td>...</td>\n",
              "      <td>...</td>\n",
              "      <td>...</td>\n",
              "      <td>...</td>\n",
              "      <td>...</td>\n",
              "      <td>...</td>\n",
              "    </tr>\n",
              "    <tr>\n",
              "      <th>4172</th>\n",
              "      <td>0.565</td>\n",
              "      <td>0.450</td>\n",
              "      <td>0.165</td>\n",
              "      <td>0.8870</td>\n",
              "      <td>0.3700</td>\n",
              "      <td>0.2390</td>\n",
              "      <td>0.2490</td>\n",
              "      <td>11</td>\n",
              "      <td>0</td>\n",
              "      <td>0</td>\n",
              "      <td>0</td>\n",
              "    </tr>\n",
              "    <tr>\n",
              "      <th>4173</th>\n",
              "      <td>0.590</td>\n",
              "      <td>0.440</td>\n",
              "      <td>0.135</td>\n",
              "      <td>0.9660</td>\n",
              "      <td>0.4390</td>\n",
              "      <td>0.2145</td>\n",
              "      <td>0.2605</td>\n",
              "      <td>10</td>\n",
              "      <td>2</td>\n",
              "      <td>0</td>\n",
              "      <td>1</td>\n",
              "    </tr>\n",
              "    <tr>\n",
              "      <th>4174</th>\n",
              "      <td>0.600</td>\n",
              "      <td>0.475</td>\n",
              "      <td>0.205</td>\n",
              "      <td>1.1760</td>\n",
              "      <td>0.5255</td>\n",
              "      <td>0.2875</td>\n",
              "      <td>0.3080</td>\n",
              "      <td>9</td>\n",
              "      <td>2</td>\n",
              "      <td>0</td>\n",
              "      <td>1</td>\n",
              "    </tr>\n",
              "    <tr>\n",
              "      <th>4175</th>\n",
              "      <td>0.625</td>\n",
              "      <td>0.485</td>\n",
              "      <td>0.150</td>\n",
              "      <td>1.0945</td>\n",
              "      <td>0.5310</td>\n",
              "      <td>0.2610</td>\n",
              "      <td>0.2960</td>\n",
              "      <td>10</td>\n",
              "      <td>0</td>\n",
              "      <td>0</td>\n",
              "      <td>0</td>\n",
              "    </tr>\n",
              "    <tr>\n",
              "      <th>4176</th>\n",
              "      <td>0.710</td>\n",
              "      <td>0.555</td>\n",
              "      <td>0.195</td>\n",
              "      <td>1.9485</td>\n",
              "      <td>0.9455</td>\n",
              "      <td>0.3765</td>\n",
              "      <td>0.4950</td>\n",
              "      <td>12</td>\n",
              "      <td>2</td>\n",
              "      <td>0</td>\n",
              "      <td>1</td>\n",
              "    </tr>\n",
              "  </tbody>\n",
              "</table>\n",
              "<p>4177 rows × 11 columns</p>\n",
              "</div>\n",
              "      <button class=\"colab-df-convert\" onclick=\"convertToInteractive('df-e0a64d83-407c-4d9b-9ade-198b267dee04')\"\n",
              "              title=\"Convert this dataframe to an interactive table.\"\n",
              "              style=\"display:none;\">\n",
              "        \n",
              "  <svg xmlns=\"http://www.w3.org/2000/svg\" height=\"24px\"viewBox=\"0 0 24 24\"\n",
              "       width=\"24px\">\n",
              "    <path d=\"M0 0h24v24H0V0z\" fill=\"none\"/>\n",
              "    <path d=\"M18.56 5.44l.94 2.06.94-2.06 2.06-.94-2.06-.94-.94-2.06-.94 2.06-2.06.94zm-11 1L8.5 8.5l.94-2.06 2.06-.94-2.06-.94L8.5 2.5l-.94 2.06-2.06.94zm10 10l.94 2.06.94-2.06 2.06-.94-2.06-.94-.94-2.06-.94 2.06-2.06.94z\"/><path d=\"M17.41 7.96l-1.37-1.37c-.4-.4-.92-.59-1.43-.59-.52 0-1.04.2-1.43.59L10.3 9.45l-7.72 7.72c-.78.78-.78 2.05 0 2.83L4 21.41c.39.39.9.59 1.41.59.51 0 1.02-.2 1.41-.59l7.78-7.78 2.81-2.81c.8-.78.8-2.07 0-2.86zM5.41 20L4 18.59l7.72-7.72 1.47 1.35L5.41 20z\"/>\n",
              "  </svg>\n",
              "      </button>\n",
              "      \n",
              "  <style>\n",
              "    .colab-df-container {\n",
              "      display:flex;\n",
              "      flex-wrap:wrap;\n",
              "      gap: 12px;\n",
              "    }\n",
              "\n",
              "    .colab-df-convert {\n",
              "      background-color: #E8F0FE;\n",
              "      border: none;\n",
              "      border-radius: 50%;\n",
              "      cursor: pointer;\n",
              "      display: none;\n",
              "      fill: #1967D2;\n",
              "      height: 32px;\n",
              "      padding: 0 0 0 0;\n",
              "      width: 32px;\n",
              "    }\n",
              "\n",
              "    .colab-df-convert:hover {\n",
              "      background-color: #E2EBFA;\n",
              "      box-shadow: 0px 1px 2px rgba(60, 64, 67, 0.3), 0px 1px 3px 1px rgba(60, 64, 67, 0.15);\n",
              "      fill: #174EA6;\n",
              "    }\n",
              "\n",
              "    [theme=dark] .colab-df-convert {\n",
              "      background-color: #3B4455;\n",
              "      fill: #D2E3FC;\n",
              "    }\n",
              "\n",
              "    [theme=dark] .colab-df-convert:hover {\n",
              "      background-color: #434B5C;\n",
              "      box-shadow: 0px 1px 3px 1px rgba(0, 0, 0, 0.15);\n",
              "      filter: drop-shadow(0px 1px 2px rgba(0, 0, 0, 0.3));\n",
              "      fill: #FFFFFF;\n",
              "    }\n",
              "  </style>\n",
              "\n",
              "      <script>\n",
              "        const buttonEl =\n",
              "          document.querySelector('#df-e0a64d83-407c-4d9b-9ade-198b267dee04 button.colab-df-convert');\n",
              "        buttonEl.style.display =\n",
              "          google.colab.kernel.accessAllowed ? 'block' : 'none';\n",
              "\n",
              "        async function convertToInteractive(key) {\n",
              "          const element = document.querySelector('#df-e0a64d83-407c-4d9b-9ade-198b267dee04');\n",
              "          const dataTable =\n",
              "            await google.colab.kernel.invokeFunction('convertToInteractive',\n",
              "                                                     [key], {});\n",
              "          if (!dataTable) return;\n",
              "\n",
              "          const docLinkHtml = 'Like what you see? Visit the ' +\n",
              "            '<a target=\"_blank\" href=https://colab.research.google.com/notebooks/data_table.ipynb>data table notebook</a>'\n",
              "            + ' to learn more about interactive tables.';\n",
              "          element.innerHTML = '';\n",
              "          dataTable['output_type'] = 'display_data';\n",
              "          await google.colab.output.renderOutput(dataTable, element);\n",
              "          const docLink = document.createElement('div');\n",
              "          docLink.innerHTML = docLinkHtml;\n",
              "          element.appendChild(docLink);\n",
              "        }\n",
              "      </script>\n",
              "    </div>\n",
              "  </div>\n",
              "  "
            ]
          },
          "metadata": {},
          "execution_count": 34
        }
      ]
    },
    {
      "cell_type": "code",
      "source": [
        "SE_encoder =SumEncoder(['sex'])\n",
        "df_se = SE_encoder.fit_transform(df[['sex']], df['rings'])"
      ],
      "metadata": {
        "colab": {
          "base_uri": "https://localhost:8080/"
        },
        "id": "_tMlMRMrDglQ",
        "outputId": "9611bf88-6d5b-4d64-be47-0e8f194cb375"
      },
      "execution_count": null,
      "outputs": [
        {
          "output_type": "stream",
          "name": "stderr",
          "text": [
            "/usr/local/lib/python3.7/dist-packages/category_encoders/base_contrast_encoder.py:127: FutureWarning: Intercept column might not be added anymore in future releases (c.f. issue #370)\n",
            "  category=FutureWarning)\n"
          ]
        }
      ]
    },
    {
      "cell_type": "code",
      "source": [
        "df_se.head()"
      ],
      "metadata": {
        "colab": {
          "base_uri": "https://localhost:8080/",
          "height": 206
        },
        "id": "vupcy8r1D7tJ",
        "outputId": "a88b7b68-7d22-40d6-bfd7-206d89d7ab06"
      },
      "execution_count": null,
      "outputs": [
        {
          "output_type": "execute_result",
          "data": {
            "text/plain": [
              "   intercept  sex_0  sex_1\n",
              "0          1    1.0    0.0\n",
              "1          1    1.0    0.0\n",
              "2          1    0.0    1.0\n",
              "3          1    1.0    0.0\n",
              "4          1   -1.0   -1.0"
            ],
            "text/html": [
              "\n",
              "  <div id=\"df-1c0cee34-b32f-4d06-9914-33b4cf6e2fa7\">\n",
              "    <div class=\"colab-df-container\">\n",
              "      <div>\n",
              "<style scoped>\n",
              "    .dataframe tbody tr th:only-of-type {\n",
              "        vertical-align: middle;\n",
              "    }\n",
              "\n",
              "    .dataframe tbody tr th {\n",
              "        vertical-align: top;\n",
              "    }\n",
              "\n",
              "    .dataframe thead th {\n",
              "        text-align: right;\n",
              "    }\n",
              "</style>\n",
              "<table border=\"1\" class=\"dataframe\">\n",
              "  <thead>\n",
              "    <tr style=\"text-align: right;\">\n",
              "      <th></th>\n",
              "      <th>intercept</th>\n",
              "      <th>sex_0</th>\n",
              "      <th>sex_1</th>\n",
              "    </tr>\n",
              "  </thead>\n",
              "  <tbody>\n",
              "    <tr>\n",
              "      <th>0</th>\n",
              "      <td>1</td>\n",
              "      <td>1.0</td>\n",
              "      <td>0.0</td>\n",
              "    </tr>\n",
              "    <tr>\n",
              "      <th>1</th>\n",
              "      <td>1</td>\n",
              "      <td>1.0</td>\n",
              "      <td>0.0</td>\n",
              "    </tr>\n",
              "    <tr>\n",
              "      <th>2</th>\n",
              "      <td>1</td>\n",
              "      <td>0.0</td>\n",
              "      <td>1.0</td>\n",
              "    </tr>\n",
              "    <tr>\n",
              "      <th>3</th>\n",
              "      <td>1</td>\n",
              "      <td>1.0</td>\n",
              "      <td>0.0</td>\n",
              "    </tr>\n",
              "    <tr>\n",
              "      <th>4</th>\n",
              "      <td>1</td>\n",
              "      <td>-1.0</td>\n",
              "      <td>-1.0</td>\n",
              "    </tr>\n",
              "  </tbody>\n",
              "</table>\n",
              "</div>\n",
              "      <button class=\"colab-df-convert\" onclick=\"convertToInteractive('df-1c0cee34-b32f-4d06-9914-33b4cf6e2fa7')\"\n",
              "              title=\"Convert this dataframe to an interactive table.\"\n",
              "              style=\"display:none;\">\n",
              "        \n",
              "  <svg xmlns=\"http://www.w3.org/2000/svg\" height=\"24px\"viewBox=\"0 0 24 24\"\n",
              "       width=\"24px\">\n",
              "    <path d=\"M0 0h24v24H0V0z\" fill=\"none\"/>\n",
              "    <path d=\"M18.56 5.44l.94 2.06.94-2.06 2.06-.94-2.06-.94-.94-2.06-.94 2.06-2.06.94zm-11 1L8.5 8.5l.94-2.06 2.06-.94-2.06-.94L8.5 2.5l-.94 2.06-2.06.94zm10 10l.94 2.06.94-2.06 2.06-.94-2.06-.94-.94-2.06-.94 2.06-2.06.94z\"/><path d=\"M17.41 7.96l-1.37-1.37c-.4-.4-.92-.59-1.43-.59-.52 0-1.04.2-1.43.59L10.3 9.45l-7.72 7.72c-.78.78-.78 2.05 0 2.83L4 21.41c.39.39.9.59 1.41.59.51 0 1.02-.2 1.41-.59l7.78-7.78 2.81-2.81c.8-.78.8-2.07 0-2.86zM5.41 20L4 18.59l7.72-7.72 1.47 1.35L5.41 20z\"/>\n",
              "  </svg>\n",
              "      </button>\n",
              "      \n",
              "  <style>\n",
              "    .colab-df-container {\n",
              "      display:flex;\n",
              "      flex-wrap:wrap;\n",
              "      gap: 12px;\n",
              "    }\n",
              "\n",
              "    .colab-df-convert {\n",
              "      background-color: #E8F0FE;\n",
              "      border: none;\n",
              "      border-radius: 50%;\n",
              "      cursor: pointer;\n",
              "      display: none;\n",
              "      fill: #1967D2;\n",
              "      height: 32px;\n",
              "      padding: 0 0 0 0;\n",
              "      width: 32px;\n",
              "    }\n",
              "\n",
              "    .colab-df-convert:hover {\n",
              "      background-color: #E2EBFA;\n",
              "      box-shadow: 0px 1px 2px rgba(60, 64, 67, 0.3), 0px 1px 3px 1px rgba(60, 64, 67, 0.15);\n",
              "      fill: #174EA6;\n",
              "    }\n",
              "\n",
              "    [theme=dark] .colab-df-convert {\n",
              "      background-color: #3B4455;\n",
              "      fill: #D2E3FC;\n",
              "    }\n",
              "\n",
              "    [theme=dark] .colab-df-convert:hover {\n",
              "      background-color: #434B5C;\n",
              "      box-shadow: 0px 1px 3px 1px rgba(0, 0, 0, 0.15);\n",
              "      filter: drop-shadow(0px 1px 2px rgba(0, 0, 0, 0.3));\n",
              "      fill: #FFFFFF;\n",
              "    }\n",
              "  </style>\n",
              "\n",
              "      <script>\n",
              "        const buttonEl =\n",
              "          document.querySelector('#df-1c0cee34-b32f-4d06-9914-33b4cf6e2fa7 button.colab-df-convert');\n",
              "        buttonEl.style.display =\n",
              "          google.colab.kernel.accessAllowed ? 'block' : 'none';\n",
              "\n",
              "        async function convertToInteractive(key) {\n",
              "          const element = document.querySelector('#df-1c0cee34-b32f-4d06-9914-33b4cf6e2fa7');\n",
              "          const dataTable =\n",
              "            await google.colab.kernel.invokeFunction('convertToInteractive',\n",
              "                                                     [key], {});\n",
              "          if (!dataTable) return;\n",
              "\n",
              "          const docLinkHtml = 'Like what you see? Visit the ' +\n",
              "            '<a target=\"_blank\" href=https://colab.research.google.com/notebooks/data_table.ipynb>data table notebook</a>'\n",
              "            + ' to learn more about interactive tables.';\n",
              "          element.innerHTML = '';\n",
              "          dataTable['output_type'] = 'display_data';\n",
              "          await google.colab.output.renderOutput(dataTable, element);\n",
              "          const docLink = document.createElement('div');\n",
              "          docLink.innerHTML = docLinkHtml;\n",
              "          element.appendChild(docLink);\n",
              "        }\n",
              "      </script>\n",
              "    </div>\n",
              "  </div>\n",
              "  "
            ]
          },
          "metadata": {},
          "execution_count": 39
        }
      ]
    },
    {
      "cell_type": "code",
      "source": [
        "HE_encoder = HelmertEncoder(['sex'])  # OHE and Sum Encoding.\n",
        "df_he = HE_encoder.fit_transform(df[['sex']], df['rings'])"
      ],
      "metadata": {
        "colab": {
          "base_uri": "https://localhost:8080/"
        },
        "id": "dB_UVOTtEjRI",
        "outputId": "d3822c97-d6f7-45d4-d9dc-d75fed72e2c5"
      },
      "execution_count": null,
      "outputs": [
        {
          "output_type": "stream",
          "name": "stderr",
          "text": [
            "/usr/local/lib/python3.7/dist-packages/category_encoders/base_contrast_encoder.py:127: FutureWarning: Intercept column might not be added anymore in future releases (c.f. issue #370)\n",
            "  category=FutureWarning)\n"
          ]
        }
      ]
    },
    {
      "cell_type": "code",
      "source": [
        "df_he.head()"
      ],
      "metadata": {
        "colab": {
          "base_uri": "https://localhost:8080/",
          "height": 206
        },
        "id": "EjnpSuJTH0RZ",
        "outputId": "d4082aa7-5683-4aa7-b582-7689d47c3a8c"
      },
      "execution_count": null,
      "outputs": [
        {
          "output_type": "execute_result",
          "data": {
            "text/plain": [
              "   intercept  sex_0  sex_1\n",
              "0          1   -1.0   -1.0\n",
              "1          1   -1.0   -1.0\n",
              "2          1    1.0   -1.0\n",
              "3          1   -1.0   -1.0\n",
              "4          1    0.0    2.0"
            ],
            "text/html": [
              "\n",
              "  <div id=\"df-d65ce4c2-1fc2-4b80-a194-12f5ee99dfb0\">\n",
              "    <div class=\"colab-df-container\">\n",
              "      <div>\n",
              "<style scoped>\n",
              "    .dataframe tbody tr th:only-of-type {\n",
              "        vertical-align: middle;\n",
              "    }\n",
              "\n",
              "    .dataframe tbody tr th {\n",
              "        vertical-align: top;\n",
              "    }\n",
              "\n",
              "    .dataframe thead th {\n",
              "        text-align: right;\n",
              "    }\n",
              "</style>\n",
              "<table border=\"1\" class=\"dataframe\">\n",
              "  <thead>\n",
              "    <tr style=\"text-align: right;\">\n",
              "      <th></th>\n",
              "      <th>intercept</th>\n",
              "      <th>sex_0</th>\n",
              "      <th>sex_1</th>\n",
              "    </tr>\n",
              "  </thead>\n",
              "  <tbody>\n",
              "    <tr>\n",
              "      <th>0</th>\n",
              "      <td>1</td>\n",
              "      <td>-1.0</td>\n",
              "      <td>-1.0</td>\n",
              "    </tr>\n",
              "    <tr>\n",
              "      <th>1</th>\n",
              "      <td>1</td>\n",
              "      <td>-1.0</td>\n",
              "      <td>-1.0</td>\n",
              "    </tr>\n",
              "    <tr>\n",
              "      <th>2</th>\n",
              "      <td>1</td>\n",
              "      <td>1.0</td>\n",
              "      <td>-1.0</td>\n",
              "    </tr>\n",
              "    <tr>\n",
              "      <th>3</th>\n",
              "      <td>1</td>\n",
              "      <td>-1.0</td>\n",
              "      <td>-1.0</td>\n",
              "    </tr>\n",
              "    <tr>\n",
              "      <th>4</th>\n",
              "      <td>1</td>\n",
              "      <td>0.0</td>\n",
              "      <td>2.0</td>\n",
              "    </tr>\n",
              "  </tbody>\n",
              "</table>\n",
              "</div>\n",
              "      <button class=\"colab-df-convert\" onclick=\"convertToInteractive('df-d65ce4c2-1fc2-4b80-a194-12f5ee99dfb0')\"\n",
              "              title=\"Convert this dataframe to an interactive table.\"\n",
              "              style=\"display:none;\">\n",
              "        \n",
              "  <svg xmlns=\"http://www.w3.org/2000/svg\" height=\"24px\"viewBox=\"0 0 24 24\"\n",
              "       width=\"24px\">\n",
              "    <path d=\"M0 0h24v24H0V0z\" fill=\"none\"/>\n",
              "    <path d=\"M18.56 5.44l.94 2.06.94-2.06 2.06-.94-2.06-.94-.94-2.06-.94 2.06-2.06.94zm-11 1L8.5 8.5l.94-2.06 2.06-.94-2.06-.94L8.5 2.5l-.94 2.06-2.06.94zm10 10l.94 2.06.94-2.06 2.06-.94-2.06-.94-.94-2.06-.94 2.06-2.06.94z\"/><path d=\"M17.41 7.96l-1.37-1.37c-.4-.4-.92-.59-1.43-.59-.52 0-1.04.2-1.43.59L10.3 9.45l-7.72 7.72c-.78.78-.78 2.05 0 2.83L4 21.41c.39.39.9.59 1.41.59.51 0 1.02-.2 1.41-.59l7.78-7.78 2.81-2.81c.8-.78.8-2.07 0-2.86zM5.41 20L4 18.59l7.72-7.72 1.47 1.35L5.41 20z\"/>\n",
              "  </svg>\n",
              "      </button>\n",
              "      \n",
              "  <style>\n",
              "    .colab-df-container {\n",
              "      display:flex;\n",
              "      flex-wrap:wrap;\n",
              "      gap: 12px;\n",
              "    }\n",
              "\n",
              "    .colab-df-convert {\n",
              "      background-color: #E8F0FE;\n",
              "      border: none;\n",
              "      border-radius: 50%;\n",
              "      cursor: pointer;\n",
              "      display: none;\n",
              "      fill: #1967D2;\n",
              "      height: 32px;\n",
              "      padding: 0 0 0 0;\n",
              "      width: 32px;\n",
              "    }\n",
              "\n",
              "    .colab-df-convert:hover {\n",
              "      background-color: #E2EBFA;\n",
              "      box-shadow: 0px 1px 2px rgba(60, 64, 67, 0.3), 0px 1px 3px 1px rgba(60, 64, 67, 0.15);\n",
              "      fill: #174EA6;\n",
              "    }\n",
              "\n",
              "    [theme=dark] .colab-df-convert {\n",
              "      background-color: #3B4455;\n",
              "      fill: #D2E3FC;\n",
              "    }\n",
              "\n",
              "    [theme=dark] .colab-df-convert:hover {\n",
              "      background-color: #434B5C;\n",
              "      box-shadow: 0px 1px 3px 1px rgba(0, 0, 0, 0.15);\n",
              "      filter: drop-shadow(0px 1px 2px rgba(0, 0, 0, 0.3));\n",
              "      fill: #FFFFFF;\n",
              "    }\n",
              "  </style>\n",
              "\n",
              "      <script>\n",
              "        const buttonEl =\n",
              "          document.querySelector('#df-d65ce4c2-1fc2-4b80-a194-12f5ee99dfb0 button.colab-df-convert');\n",
              "        buttonEl.style.display =\n",
              "          google.colab.kernel.accessAllowed ? 'block' : 'none';\n",
              "\n",
              "        async function convertToInteractive(key) {\n",
              "          const element = document.querySelector('#df-d65ce4c2-1fc2-4b80-a194-12f5ee99dfb0');\n",
              "          const dataTable =\n",
              "            await google.colab.kernel.invokeFunction('convertToInteractive',\n",
              "                                                     [key], {});\n",
              "          if (!dataTable) return;\n",
              "\n",
              "          const docLinkHtml = 'Like what you see? Visit the ' +\n",
              "            '<a target=\"_blank\" href=https://colab.research.google.com/notebooks/data_table.ipynb>data table notebook</a>'\n",
              "            + ' to learn more about interactive tables.';\n",
              "          element.innerHTML = '';\n",
              "          dataTable['output_type'] = 'display_data';\n",
              "          await google.colab.output.renderOutput(dataTable, element);\n",
              "          const docLink = document.createElement('div');\n",
              "          docLink.innerHTML = docLinkHtml;\n",
              "          element.appendChild(docLink);\n",
              "        }\n",
              "      </script>\n",
              "    </div>\n",
              "  </div>\n",
              "  "
            ]
          },
          "metadata": {},
          "execution_count": 43
        }
      ]
    },
    {
      "cell_type": "markdown",
      "source": [
        "Target encoder"
      ],
      "metadata": {
        "id": "UnemsOJhJp5m"
      }
    },
    {
      "cell_type": "markdown",
      "source": [
        "![target_enc.jpg](data:image/jpeg;base64,/9j/4AAQSkZJRgABAQEAeAB4AAD/2wBDAAIBAQIBAQICAgICAgICAwUDAwMDAwYEBAMFBwYHBwcGBwcICQsJCAgKCAcHCg0KCgsMDAwMBwkODw0MDgsMDAz/2wBDAQICAgMDAwYDAwYMCAcIDAwMDAwMDAwMDAwMDAwMDAwMDAwMDAwMDAwMDAwMDAwMDAwMDAwMDAwMDAwMDAwMDAz/wAARCAIuA3gDASIAAhEBAxEB/8QAHwAAAQUBAQEBAQEAAAAAAAAAAAECAwQFBgcICQoL/8QAtRAAAgEDAwIEAwUFBAQAAAF9AQIDAAQRBRIhMUEGE1FhByJxFDKBkaEII0KxwRVS0fAkM2JyggkKFhcYGRolJicoKSo0NTY3ODk6Q0RFRkdISUpTVFVWV1hZWmNkZWZnaGlqc3R1dnd4eXqDhIWGh4iJipKTlJWWl5iZmqKjpKWmp6ipqrKztLW2t7i5usLDxMXGx8jJytLT1NXW19jZ2uHi4+Tl5ufo6erx8vP09fb3+Pn6/8QAHwEAAwEBAQEBAQEBAQAAAAAAAAECAwQFBgcICQoL/8QAtREAAgECBAQDBAcFBAQAAQJ3AAECAxEEBSExBhJBUQdhcRMiMoEIFEKRobHBCSMzUvAVYnLRChYkNOEl8RcYGRomJygpKjU2Nzg5OkNERUZHSElKU1RVVldYWVpjZGVmZ2hpanN0dXZ3eHl6goOEhYaHiImKkpOUlZaXmJmaoqOkpaanqKmqsrO0tba3uLm6wsPExcbHyMnK0tPU1dbX2Nna4uPk5ebn6Onq8vP09fb3+Pn6/9oADAMBAAIRAxEAPwD9/K4L4h/tVfC/4R+I20fxX8SPAXhjV1jWVrHVvEFpZXIRvusY5JFbBxwcc13teB/8FMfDun3X7C/xZvJLGzku08NXW2doFMi4TjDYzQk20kXTjzSUe56B4T/an+GPj7StSv8AQviN4D1qx0YRnULiw1+0uYrESNtj81kkIj3MCF3EZPArvCcV88/8FBdBt9A/YZ8ZvpOnafBdPb2JVUjEKysLuDaGZRnGe+DjJ4pL/wAWfET4FftGfDqw8R+NoPFuh/Ey8utKn09tGgs10W6ispbtHtZI/wB4Yj5DoUnaVvmU7xginvLlRhCbced9r/5/d/wx7f4E+IOh/E/w4mr+HdWsNb0uSWWFLuynWaJnjdo5FDLxlXVlPuDWxXyKP2j/ABvafsf+C/ENvPNp0eseJ7+w8R6/pnh/+0JfD9gl1eqLlLOFCGJeKGMuY3VfMZ2VsGvY/wBkfx5J4/8AA1/cr8StB+KmnQ3nlWWs2MMMF2qhF3Q3iQYiWdX3fdSP5SuUBBJVP34uS6f8D/PqW2lbz/4P+R39n8QdD1Dxxe+GoNWsJfEGnWsV9dackym5t4JGZY5GTqFYowB9q2K8C8WfGHxbo/7Qnxg0vQNOtdcu/DHgDTdY0TTfIRJLy+kk1MCJpQA7KxgiAUtgZbGCxrC/ZB+OGofEfx7b283xksPF17Lp7T614T1fw/Hoer6POAmDb2+yOdYVferCcS9VxJxy4q75etr/AIv/AC1/G1xy93Xzt+EX/wC3ad9bXsfTVFeZ/tWfEC5+Hfw0hurfxx4X+Hgub+G1m1jWohP5cbZyltEWVZLlsAIrbh1OxsYrzz9jf9orVPHvxm8aeB7zxNqPjjTtA0vT9X07XtR8PNot3Otw9xFJE6eTDFMqtAGWWKMKd7KclCaUfebS/qyv+Q5Ky5v61dvz7H0fRXkvxN+L+pfCv9pvwfY6jexReCfFmjalBiREX7NqdqEuVO/G477Vbo7c4H2fPU14R4E/bL+Iutfs7+Kv7UmtrT4g63rGkr4RC2cebew1xojYM8RGHaAG5D5Bz9lYmiPvbf03LlS9ZbrutRStHd/8Na7fotn2flqfaNFfPOn6x8Sv2ivH/jmLw147XwHovgLVf+EfsxFo1tqE2tXkdvFLNPdGZTth3TKixw+W/wC7ZvMG4Acfa/tM/Ef41x/B7TNB1XSPCGs+KrzxBo3ieZLBb2G2udM3wyyWyScn97E5jDNjDrv3hdrC1ipLrZrzT1T9LWffUTaTs+9vRrdeu+3Z2Pqe38U6Zd+I7rR4tRsZdXsoI7q5sUuENzbwyF1jkePO5UcxyBWIwSjY6Gr9fEXjn9oj/hlP9tHxPpd9qI8VeOPEXgzwtoukSah5VjHqd415qcf2i6eNVigiDuhcqoyXVEUsyqfr/wCGeh654d8E2Nr4k1weItcVN15fLapaxySHkiONB8sa5woJZsAbmY5NW46cyem3z/q33g3aXK/L8Un+d18iTwd8RdB+IbaoNC1jTtXOh38ulagLSdZfsV3HjzIJMH5ZF3LlTyMitqvkfxH+0L4/tvDd+vh2/wBItNXuvjSfCEUtxp8ZgWybAIkVQpcgc7twdtoG8ZyPQPhj4q8b/DT9q/8A4V54o8XN450vxD4auPEenXtxplvY3enSW11BBNAfs6ojxMLmMoSu9djAs2c1FH97GLj1X4+zjUf/AJK/0u+pOSjKS7N/+lygvxj+vp7xRXiP7U3xD8b+H/i58J/DHgzUbLTP+E11HULPUri5tUuBbwxWTzCVVPJdWX5VBALEbsqCK5bWfi148+Avifxl4M13xSvi64/4QXUPF3hzW5tNgtb23e0KxzQ3EcKrA4DzQOjLGuQXVgcZrKVVRUm+l368seZ2/wC3U3rZdL3LjFykory/F8q/H59dj6Xor5T074ofFbwz8IPh/qN/4x0/VvFvxmn0vS9NhbR4Y9M8LtJay3U9woXEtw/kxP8AK7hWkCYWNSVrpo/iV40/Zl+LlloHjPxS3xA8O+I9E1PVLHUJ9Nt7HUbK6sUSaS3YW6pFJE8LMUPlqymIhmbcDWta1Jy9o7KN035pXa+75PZO5FJ+0jGUPtJNeabsn99/PTtY+hqK+L/ij8Ufjn4R/Yg1b4323jrSv7RvfD665H4Y/sW3/s/SLeZQ8fkzlTM88SOpYys8chRlCR7gy+lWniP4kfFT9rPxj4Z03xpF4Z8J+EbTRNQKQaVb3N5ePOkzywb5VKpE/l/McF+RsaPBJqcHBqMt72fk1vf/AIF/IXPFxU1qnt57f5o+hqK+EdX/AG+Nb8X6f4l8VaZ8R30C90m+voNE8HJ4Kur+x1CO1leJFvLxbdpPMnMTHdBIixCVQRIVOe5+M37VGvS+MfDz6p4w1L4I+B9Z8L2Ot2OuSeH476K6v5mdprO7uJ4ngtVhQRZVxG7+axEg21nCSnFSj1t+KbXrs9rv70W9G0+l/wAGk/zXlbbZn1rRXzH8fvjv4v8AB/g74atceL7bQ/Dmv2U8niLx94Y0I6va286xx/Z/JRlnjghnLSN50qyIvlhcjcGr1z9mXxfceOPhNaahN408OfEKKSeZbXX9FVFhvoA5CGRY2aMTAfK4TC7gcKv3RdtZLt/X9Xs+otlF9/6/qxo+Kfj74N8FfEnR/B+p+IdOtvFOvjfYaXvL3U65ID7FBKoSGAZsAlTzwa6+vlPwF4a1vQP+Cinxi1u48Z6tJp+k+G9Dv7iyGn2e25tmfVWS13+VvCx7TtZWDsT8zNxVP/hbnxcT9lmL9oD/AIS2wawfSF8Vv4H/ALIg+wDSmUTmAXXFx9rFsc+aX8syDHlBaLWjeXS130V72v8Ac/ue2l6cXz8kddrLq3ZN2+9fevO31xRXztpfjH4hfGf9qvxboWi+NI/DPgzwzZaHqkaQ6Tb3N5eG5SaR4N8qkJE4jG44L8gI0eCT1X7b3xR8S/CL4KWup+Ebm0tdcuvEmiaXE91CJYSl1qVvbyK4x0KSsMjkZyCDSim5KNtXLl+d+X8zNSi05J6JX/C/5Hr9FfLlzqvxZ0z9qNPhS/xPW4tfEfhmfxPHrn/CO2aaho5guI7d7aBMGBkdp42Vpo5GQRspLlgyt0n9ofxZD+zrq6+JPiL4M8Ja74Y8Z3XhO/8AFWo2Cot9DDJ8klva7whvJI2jATlA4chGAC0k04qS63a9FPkf3S0/FXRclyuz72+bi5L74q/5n1LRXxfpP7ZPifRvAvx202y8WX3jCfwB4JXxRoPiTU/DR0m5eV47sGOSJoYoZ0SS2VlkjjCHeynJU12114y+Knwo134W+Jde8aWevaV481az0TV/Dy6RBBb6a11DI0ctpOoExZJFUP5rMrqWKrHwtNauy68q+cm4pfemu3nbUU/cjzS/vP5RUZN/dJPv89D6aqK/v4NLsZrm5mit7a3RpZZZXCJEijLMzHgAAEkmvmDUf2o/GHhj9nXx9pc95Bd/Ffw74qbwVpsrWqAXNzezRnTLkxKAhX7NdQyPgbf3Uvoa9y+L1tPZ/s+eKIbm4N5cxeHrtJZ2QIZ3Fs4ZyqgAZOTgDHNYYmq6eHnXjrZXXn7vN+TV/VGlOHNWVJ7t2/G1/Ru9n1szqdI1i08Q6TbX9hdW99Y3sSz29zbyCSKeNgGV0ZSQykEEEHBBqzXyR+wx+0LeftE+E/BHh7wXrFrpvhj4c+HdJXxHdmNJLzV7hrNClrBHIDsthg77jHzspSM/K7Dzuf8A4KIa54p8A6l8Q9I+IE0GoRG4u9I8BR+Cbq5sL+1jc+XbzXotzL9plRP9ZHKIkaUDY4XJ6q0YwquCeivr5Xsn316d9+1+fDuVWlGdtXb72r2vt9/+dvvuivmyTx/8RfjX+1Zq/hbw94vHgvwrp/hLQ/ETbdIt7vUBNdTXoaJTKpRVZYU3llYjZhdpYsMbTfEvxj+Luk/FnVdJ+Idn4Yj8CeJ9UsNDtU0O2u0v47aNHWO8Z13eVk7R5RSTqxkbIVc6j9m2p6WTk/JRai/xf9aX0i1JpR6tJeblFyX4L+tT6sqh4i8U6Z4QsUutW1Gx0u2lnitUmu7hIEeaV1jijDMQC7uyqq9WZgBkmvkbx5+3zP40T4babF4nn+GUXi7wTaeNNT1Oy0CTW72MXQ2w2tvH5M0SfMsrNJKjcIoC5YkYPjX9oHVPjb+znqFlql22t/8ACKfFDwrZWWvf2RNpQ121k1XT5UlNvKqlJELPE+0bC0W5QA20bxoydZUpfzKL/wDA1B/c++++2pLlaDn/AHb/APkvMvvVtj7mor5M+Pf7RHiXw18fPEujaz8TIPgxpumC2/4RWbUvD8c2jeJd8AZ3ur6ZSigTsYjDFLBIoj3bjvGPqnRZ5brRrSSd7aWeSFGke2JMLsVBJQnnaT09sVjH3o86/r+u266lS92XKy1RRRQAUUUUAFFFFABRRRQAUUUUAFFFFABRRRQAUUUUAFFFFABRRRQAUUUUAFFFFABRRRQAUUUUAFFFFABRRRQAUUUUAFFFFABRRRQAUUUUAFFFFABRRRQAUUUUAFFFFABRRRQAUUUUAFFFFABRRRQAUUUUAFFFFABRRRQAUUUUAFFFFABXD/tK/Br/AIaH+AXi3wP/AGj/AGR/wlOmTad9t+z/AGj7L5i43+XuXdj03D613FFCdndDTad0cL+0L8Ff+F8fBLVPB39pf2V/aSwL9s+z+f5flTRy/c3LnPl4+8MZzzjFQfF34Ff8LV+JXw38Q/2p9g/4V7rM+rfZ/s3m/b/Msp7Xy929fLx5+7dhs7cY5yPQaKFo+ZbkKCSsu1vlseKeHv2X/FHw3+Cvh7w54R+IJ0bWPDuqXeoreTaOLmx1JLieeVre5tfNV2QefwUmRt0atn+Gtz9n74Baj8LPEvi7xN4i1+08R+LPG1xby6jcWOl/2ZYxJbxeVDHFB5krDALZd5XZieoAAHp9FKKUdF/W3+X9XY7J2Xb+v1PL9Y/Zxm1L4ueO/Fdv4n1DSbjxp4ZsfDsRsIFS50lraS8cXMcrFlZibvhTHgeX1bdgYHhL9mbxnq3xc8J+K/iH480bxQ/gRLn+xodJ8NHSHkmnhMDzXUjXM5kPls3yRiNNx3FTtXHt9FVd3v8A11/z/qyG9VZ/1ol+SX9Nnmn7RXwGvvjDceEtW0PXbfw74n8Daq2raTd3enf2jZs728ttJHNAJImdWjmfBWRGVgpB4wcz4M/s46/4G+OPiH4geJ/GcXifWfEuiWWkT29tpH9n2dn9mmuJAYF86RlQ+f8AddnbcGJchgq+vUUlo7/1qrfkNu6s/L8HdfjqeVfthfsvw/tZ/CZPDTa3ceHLmC/ivINSt4PNlgADRzoo3LjzbeWeInPAlJwcYqj41/Y60vxf+074D+Iq6i9lD4IsXtf7HjtwYdQkVJY7SVn3Db9nW4uto2nJm6jbz7HRRH3XePe/zty3+77t1qEpOS5W9LW+V72+/fv1PFfEX7NvjLw58Q/Eut/Dfx7pvhK18azLeazYap4e/teOO7ESQm6tCtxB5UjRxoGEglQsgbaPmDT+Cv2PNN+HerfDCXStWufs3w4XU2dbmESz6zPfofOnkkBUK7Ss8rYQglyAFr2OihaLl9Pw2Xou3p2RMkpO7/rz9f8Ag92eU+Jv2T9F8ffFTx3rfiJ4NZ0Xx74asPDd3o81rhY0tZbuTzPN3ZJb7UMYVShiBDEnjqfgj4E1r4ZfDew0LXfEj+LbrTN0EOpy2n2e4mtwT5KzfOwklVNqtINu8jdtUk11tFO7/r+vNjeru/60S/JL7keID9jfH/Mx/wDNSP8AhYX/ACD/APyU/wBZ/wCRf/HK7TVPgr/aX7Sui/EP+0tn9j+HL7w//Z/2fPnfabm1n87zd3G37Nt27TnfnIxg93RSpfu0lDS23/gCp/8ApCS/HfUTim3J7vf/AMCc/wD0pt/htofPH7Y/w/1Xx/8AtAfA1dG1C70W/wBO1TVrq31OG2+0R2Mo02UIZUJAeNslGUsu5WIDKcMNbTP2T9d8SXPjHWvHHjKz8QeLPE/h2bwvaXOn6IdP0/Q7KQMWENu08sjO8hV3Z5ju8tANoFe40Vm6UWpJ/av+K5X6XWl100KUmpKS6W/B3X46276nlPjP9l6Pxb8C/CHhWPXbrTNa8CiwuNF162t0MlreWkQjWbymJVkdd6PGTykrruBwwp+Cv2bNd1P4kDxd8S/FGl+M9WstLuNG0y00zRG0rTrC3uShuW8p7i4kkllEUalmkwFXCqMkn2KitJtycpS3ldv1as9PNaehNOKhGMIaKKSXotUr77/1qfnD8btHtvGn7L+tfCLwr8T/ABrq/nxpomg+ALvw4bfW7J1mRY4LyfYJPskIw29gilI13SuuQ33H4C+C58F/Gbxj4vOo/aD4utNNtjZ/Z9v2T7HHKmd+479/m5+6uNvfPHd0U22172r3/rrfzbfTsEo3fktl2/qyPBV/ZX8eeChrGieBPihbeF/BWt3txffYp/DgvtT0ZriRpbhbG6+0JHGrO7sgmgm8sscZACjpfiJ8JPiPc+Kft/gv4lWekWlzp8Vhdad4g8P/ANtW4aPdi5h8u4tmSZg2H3F0bavyjHPqtFTb3eX+trf1/mVfW/8AW9zw7w/+yp4o+EHw18F6H8OfiF/YkvhS2ntrlNY0ZdS07WvPfzZJJbeKW3aORZNxj8uVVRXZdrDGOs/Zt+A0nwH8N62t7rA17XfFOsz69rF7HZiyt5bqVUQ+TbhnEUYSNAF3sSQWZmZia9Foqk7Ntdf1advS6Tt5E2VlHov8mvybOA8P/AqPRvj1428azX63cXjPSNM0l9Oa2wLdbM3ZLGTcd/mC6xjaNuzqd3Hl0X7DniZfhxH8Mn+I8cnwejUWn9kNoI/tp9ODZGnNf+f5fkbf3e77N5vl/Lvz89fSFFF3e/8AWm1+/wDwX3Y27/15W/JI4XwN8FU8EfGnxn4ujvxKni21021WxFvsFkLNJUBD7jv3eb02rt2988J+0R8FP+F9+BbHRf7S/sr7Frula1532fz9/wBivobvytu5cb/J2bs/Luzg4we7opR92Skt07/NO/5i5Uk4rZ6ferHnuofAf7f+1RpfxM/tXb/Zvhe68N/2b9mz5nn3UFx53m7+Nvkbduw53Z3DGD5/rv7EV8J/7W0Pxfb6f4n0/wAc33jfSbu70b7XZ273du1tJbTQCZGlXy3fDrJGwbaRjGD9BUUR92yj0TXycud/fLX8NtBy97WXr/5K4f8ApLa/Hc+dNV/Yf1/xu3xPvvE/xBi1PWfif4NTwlPJbaF9ms9J2/asSwQ+ezFP9Jz5byFiysTJhgqej/Er4C/8LD0DwHY/2r9j/wCEJ1zT9Z3/AGXzPtv2VWXy8bxs3bvvZbGOhr0Sikkla3Rp/OMnJf8Akzb8+oT99OMuqa+UoqL/AASXy7nyxpXw+0v48f8ABRgeMtGfWH8PeCNLCav51lNb2F7rsTXFvatG0iqJZIba4uwzJlMSQ8kgY+kvHXhn/hNfBGsaN532b+1rGey87Zv8rzI2TdtyM43ZxkZx1rVoqZ04zo+xnqrNPzve/wCdl2SS6FKTVT2q30t5W2/zfm2+p4rpn7H/APwiknwz1PQNfTSvFHgDS7bw/e6l/Z3mR+I9LjjVJLWeESLgFlEkbb2ML9NwZlbN0n9lPx74C06fwx4P+KUPh74fzXUk0Fm3hxbnWdIhlkMkltaXvnrEkYLMEMttK0anGWwMe+UVrKTlLne92/vd3+Ottrt93fOMFGKhHZJL7tF+Gl97W7K3BeGfgh/wjn7RHiTx7/ajT/8ACQ6DpuifYmt8GD7HLdyeaZd3zb/tWNu0Y2Zyd3Ff4cfAL/hX/hrx7p39rfa/+E31vUNY8z7L5f2L7Wir5eN537Nv3srnPQV6LRUTip35uqcfk2m196RS0akt00/mlyr8HY8B0X9jXWvht4T+Hj+CvG1to3i7wJ4Xt/CU+oX2ifbdP16yiSMAT2onjdSJELoUnBTe4JcMa1fEv7LviL4i/CZNE8VeP5NZ1p/E+m+JJr9dJWC0hFneW9ytpbWwlJiiYQbcvLIwLsxLfdr2mitXVm6ntW9b83z5ub/0rX7+7J5Fy8vS1vlbl176afd2R4t8XPgD8R/GuqeJrXQ/idp+neFvF0Pk3em6x4YGqzaarRCKQWUouIkRXUbts0UwDljyDtrp/ht8FtU+Feu+H7PTPFl2fAfhzwxDoFt4dnso5HeeEqEvXuz+9LeUuwx42nO7rXoVFZx93b+rJpX725nbte61Kl72/wDWz/Gyv326sKKKKACiiigAooooAKKKKACiiigAooooAKKKKACiiigAooooAKKKKACiiigAooooAKKKKACiiigAooooAKKKKACiiigAooooAKKKKACiiigAooooAKKKKACiiigAooooAKKKKACiiigAooooAKKKKACiiigAooooAKKKKACiiigAooooAKKKKACiiigAooooAKKKKACiiigAooooAKKKKACiiigAooooAKKKKACiiigAooooAKKKKACiiigAooooAKKKKACiiigAooooAKKKKACiiigAooooAKKKKACiiigAooooAKKKKACiiigAooooAKKKKACiiigAooooAKKKKACiiigAooooAKKKKACiiigAooooAKKKKACiiigAooooAKKKKACiiigAooooAKKKKACiiigAooooAKKKKACiiigAooooAKKKKACiiigAooooAKKKKACiiigAooooAKKKKACiiigAoor5U/4Knfsv/Dvxj+yz8T/HGq+C/DmoeMNP8NTm21ieyR7yAxofL2yEZG3t6UatpIuEeaXL3Pquivkv9rf9m3wB+zh+w/8AEC68B+B9B8O3Go2+ntdJpFnHbPfmO8hKKxGATlmxk4G413sHxw+I/wAOPjx4M0Lx5ZeCW0D4jTXNnpp0ZrlbvRruG1kuvJneUlLlGjikHmIsRDAfIc0ac3L/AF/X9dUYQnzR5ulr/wBeh7vRXxnrP/BS+/fwfq3xB03XPg9/wh2kvcTReGLvXVXxPqtlC5DTo4l8qKZ1R3jt2iYsCgaRCSB9bnxnYL4I/wCEhMpGlix/tEyleRD5fmbsf7vNJySp+0ey38uuv9d+qZryvn5Ov+W/5mrRXxrY/wDBSrUYfCumePr3Wvg+3hHU5rd38LWuuLJ4osbKaQIs7OJTFJMqOkj2yxAqA6iRmAz6HJ8b/i58TPi18TvDXgbT/Adhb/D/AFG1tYL/AFxLqYaj5tjb3PkbIZFKtmVgZc4UGPEch3Yb934ul7+VrX/NfktdBKzej/p/1+u2p9D0V86aZ+2Xr/xR+Hfwvi8HaBpcHjn4m2tzdG31ad30/QYrPal7LI0YDzBJWSNEUr5hcHcoBNanij9ofx/8DPhlr1z458LaPqWu2uoWGleHrnRLkwaf4nub6VIIE8uRnmtSszgSb/MAUhlZzlQ7a2Xe3q720766eb22YLVJ99fRef8AWnXoe70V4donxl+I3wu+LXhXw/8AEu28GXmm+O5prLTNT8Opc24069jge4FrPHOz+YrxRS7ZlZPmjwYxuBryn43fGn4p/Hn9jf4l+MtD0bwd/wAK81Tw9rNvp2myNcHW7+zEM0IvhMD5KFtpkWDyySmAZQxwMqs+SDn2Tf3dP69dtTShT9pUjB6XaX39bff81bfQ+x6K+TIP2tpvh94O+GPgDQ9c+H/hnWZPAum61fav4xvfKsbSBolihjihEsT3ErtHISBIoRY8kksoOroH7ft54g+FF+NO0/wxr/xAt/FkHgm0i0vVfO0TUr2eNJ4rlLgBmEAt2aV1wXUxSJyQGO9SHLOUI62dvX3uT/0qy/4GpzUKjqUo1GrXSb8rx5v/AEnW59PUV8i6+fiLD/wUF+BFv49h8L3Zh0/xK9tqmgRT29tLutbfMLwzPIyOu3IYSMHBJwmCK90/aT+Nd78HPDWjQ6JpkGs+KvF2rQ6DoVnczmC2e5kR5DJNIAzLFHFFLI21SxCYAyRUPSMX30+fNypfN/1bU1jrfy39Er3+7U9GoryrwL4m+Luh6lrGn+LfD3hfX/K0xr7S9V8PztYW1zcAkfYZobiSSSNzlSsys6EbshCArebeGv2wvFfhT46+C/CPjTVvhJqN348uprCPSvDOoSSan4dnS2kuF88PIxuYv3TRtIscO1mT5SDRu7Lr/wAFW9dPy7q50b7f5Xv9369U7fT1FfJ3wJ+OHjT4SeGvjz4y+Imu6TrPhjwNr2pyywWVrci6jeG2tpBHbmWd0SDaWCx44d87sE0/wl+3pq+leK/CD+J/EPwZ1XTfGep22knSfC+ufatW8Pz3J2wb2MjLeL5pSN2jji279wDAGil+8UHH7ai1/wBvq6X9eV7XFJ8qk3tFyX/gL1f9fK59XUV4DpXx3+J3xX8ReJ9X8D6T4O/4Qrwhq11o/kao1wdT8RzWjFLkwSIwjtVEqvGnmJLvKEnYpBrn/hx+2f4x+Nvwz+E9t4a0fw9bePfiXoVx4huX1ATHS9Cs7d445JGjRvMlcyTQosYkXJZiXAXBUHzpOPWz+TTaf3JvyW9i3FptPpdP1WjX36eb2ufT1FfMnjn9sjxp8Ifhl8VLXxHonh6f4gfDXTbTV4PsBm/szX7S6dkimRHYSRNvimjaMyNtZFO8hhXS+MPjN8TPgx4T0XxH4ys/BZ0rUPE9lYalBpcdyz6Lp12RAjtM74lkjuXh3uI0TYzfKNuS95KK62/8mdl+O/brYna991fT0V/y2730ue7UV5xofxi1LxR+1FrvgyxtLQ6B4V0O2u9UvWVjN9vupHMNuhztAWGJnfIJ/exYwDyePvjDqXgD9ojwN4cubay/4Rjxtb3tpFeEMJ4NTgRZ4oSc7SkkC3BHGd0PU5xQtbed/wAL/nbTvddwel/L/JP8E9e2vY9HorwzT/2hfG/jzS/iJfeFNE8MXVj4e8Rjw7o1zqV89pbusKot9e3Enzbo4pjKgSNQWMDDdzkefN+1XqHxD8PfGH4d69rPw+8T6to3gW61qPVfB9yxtWjdJ4Xt5oGllaGaNlQ8yHesgOFwRWNWryU3UWvu8y8/d5vy1+/qmjSELzUZaa8r8nzcv56W/TU+tKK8F/Zm+L1+dd+H/gL7Naf2Z/wq/Ttf+0Ybz/O3RQbM527NvPTOe9ZPjX9ue48BeCPGt7e2mgJqOm+PG8EaCt5ffYLKWQxRSJNdTuSERFaV3KjlY8Ku4iuiqlGo6ad/it58s1T/APSmkcmHrKrTU9r2v5Xh7T8I6n0hRXzj8Ev2yb7WfjTF4F1/Xfhv4zu9V0i61jTdS8D3hkRTbNGJbWe3aaVkfbKhSQPtk2yfKhABZ+yr+1B48/aP/sTxJbSfDK+8L6uxXUtD069m/t7wnlXIF07OUllVgiSReVCVLNhm28ijfb+tWvzT/PZo3eiu/wCtL/l8+m+h9I0VznxZ13xB4b8Aahd+F9L07WNdjVRa2+oX32K0BLANJLLtYqiKS5wpJC4HJrxH4Qftg6xf/HHUPh54h1z4Z+KtX/4R268Q2t74QuJPLtPIljje2uoHllZG/eoVk8wb9snyLis+Za+Sb+5Nv8E3+G+hXK3b1S+9pL8Wv+GPpGivkzwj+2/8QNO/ZT0X4ueMNK8CWGm+LtO06PQ9Ihu5beT7feNGkcl1eSuYobY72dgEZo0XO52ytdJ8Ff2xNQ1X45aL4I8ReJPhX4vfxVa3U+nX3gq/L/YZoFEj29xA80rYaMsVmDAExsCi5XOjg1Jwe6bT9Vrb1tr811djLnXKp9H+T6/fp8n0Vz6PorzT9pH42an8KrbwzpHhvTbPVvGHjnVho2iwXszQ2cTiGW4lnndQW8uOGGRsKNzEKoxu3Ct4K8V/FnRR4isfFPhrw3rt5YacL7R9T0K5NhZatOd4NnJFO8ktvICqnzN0iFXzwRtM9G/601/rvstdDS2qXf8AV2/P/N6anqlFfMvgr9sDxN4c/aB8HeCfGus/CbWLrx1LcWsVh4Vv5W1Dw/PFbPcbZ0kkczxERuhmCQ4Yp8h3cc/+zz8adX+Gv7KPw70Hwtpljq3jHxx4j1nTtKjv5misbUR319PPc3DIC/lxxRt8qjc7Mi5XJYDumvP87pW7dd9ut7akcyvZ+vy/pevS1z66or58+Inx2+K/wG+DXjvVvFug+E9QvPDNhBfaZrOl+ZFpmqF5BHJBJayStPDJH1zvZGDqQwIZa7v4ufGa/wDh78WvhV4ftrW0mtvHur3enXkkobzLdIdOubtWjwQMl4FU5B4Y96aV3yr+v6sO+/lr9yuekUV8qfsy+KPFfhX9lfVZvCNp4ckvpfiF4mjuL3Xr022n6TB/bd8XuJAvzy4wAI1K5LDLKATR4f8A2sPE/wAVvBHxh8JWXiH4d6j4y8CaJDfx+IPDcs1xpdxFcRTkjylmMlvcx+RINvnPjdE+cErWdeapU51N+VX/AAT/AF3/AMmaQhzTUPO348v4vp/mj6ror5R8OftTeJ/gX+x78KrnxPqvhHU/Fnj2OwsNHvtSuZdO0+BGsBcPcahPNJIzMiRysxUgyuUUBS24avw8/b1g0bXPFmkeMdf+H/iZ/DXhi48XJq/gu7M1tcWluQtxFJAZZXhmQtHj94wkEnGCpFbVo+znKD+zf/yVXf3LXtva7RlRk6kITS+K1vm7L73ofTNFfEH7Yfi/4weK/wBlSw1rxZovgu18PeIdc8PXA03THuDqXh9X1Wzkj8+ZyYrn+FH2JFtZsjeBX2l4ivbvTtAvbjT7IajfwwPJbWhmEIuZApKxlyCE3HA3EHGc4qHeKblum016JP8AXoVG0rcvUu0V8xeFv2wvFXhT48eCvCPjbVvhLqVx48u5rBdJ8MajI+p+HZ0tpLgecJJG+0xfumjaVY4drMnykGtPRvj58Xvi3pWr+MfAXhzwbd+DdMvruz07SdRmmj1nxMtrM0Eskc4ZYLXe8cgiWRJAwClmjB4P6+63+a2vvfYPL+ne/wDk97ban0VRXh3iT41fEL4j/F7WfCPw4sPCumf8IfbWk2vaj4mSa5Vbm5j85LKGG3kQ71i2s8pkKr5qbVk5pvin9onx3YaL4D8Ox+ENM0j4o+OJ7uE2V/fi50zSobQE3F60kRDzQkGIxoNjsbiMP5ZDYOl/6/4b9NdtQ/r8L/156b6HudFfMvj79rvx38CvA/xPsPGGk+F7vxn4I8ITeL9IvdMWePS9ft0DqymCR2lheOVFV081wVkRg3JA1PEfx/8Ain4K8PeHodQ0jwRP4t+Jeqw6d4W0u3kuVg0pTbzXM8l9OSfO8qGFmxCibm+QHkPTs2rx1X/Bt+ad+1newbOz8/lZKV/uafnfQ+hqjtbuK/tkmgkjmikG5HRgysPUEcGvkixufHUf/BRnwlaePrTwzdXVr8OdcaDUNGjlisdSRrvT9yG3mZ3idCMMvmOCroQ2SVVPgp+0X4nT4e/APwt8PfB/gnRI/iF4RvdXMHlzQ6doHkfZWykaNueP/SH+TO5mKfOgLMBaxi1u7/g5r/2y/wA7dNXyu77L/KL/AFPryivm+2/bK8S/DXwB8SovHOiaPqHjP4d39hp8EehPJBY+IX1ARCxKCUu9vvll8twzPs2lssCKd4h+Ovxh+Dfjn4b6V4y0zwDqVr8QfEsWjPd6Il1ENIDW1xM0TLLI3msfKG2YbQcODEMg0k05JLrZfOVrL1117ddbC15XLtd/+A7/ANf8E+jqK8M/4KPa74q8L/sgeLNR8I6tBot/ZwpJLdMJhMkW9QfJeKRCkmSvzEkY3DHORZ8ffGLx14Lm8E+CLOLwtq/xK8Yi8n+1mCe30fTrS22tLcvF5jyuQJYEEYkBd5M7lUHE82tuun4/1qHW3zPaqK8l+B/xj8V3vxS1z4feP7LQ4/FGj6fb6xa6joolSw1myld4i6xSlnhkjkjKvGZJBhkIY7sDif2hda+I9r+3J8KNM8Na/odhoupaRrUrWV3bXUkc7RCz3tMsc6LIwDjyjj5CXzu3cVu4pbO+vpf/ACafZjSbbXVf5X/Fa+h9IUV8meAbr4mT/tJ/tCW3w9i8HWrweJdPuJb3xElxPDcOdGsQLeOOB0ZThSWlZiF3JhH526urf8FBvtnwR+GWqWkfhTw54o+JZuIx/wAJFqyw6TohtMreSSS5RpgjgIiLtaQyLkoNxEqV4KXe2n+Jf1+bsmhyjaXL6/h/X9M+nqo+IfE+m+EtO+16rqFjploGCGe7nWGMMeg3MQMmvGf2WP2q5/i38RPEngnWNU8EeINb8O2Nrqiax4RvPP0zUbadpI/9WZJHgmSSJg0bSP8AK0bBjkgcH+2P4D8Q/Ez9tj4O6Ps8CaloR0/W7+1sPEGjS6hCs8UdqryyJ5qqzBJSIyANm587sjF296K6Pr99/wAmvUUVe66r/K//AAfQ+r0cSIGUhlYZBB4Ipa8Cb40/FP4t+I/Fknw003wNF4e8FapNov8AxP8A7S0/iK7t1H2hIWhYLaxrIfKEjrKSyOfLAAJ43w78X7X49/tR/CDxdaWk+nprPw28SySWc7BpbKZbzS0lhYjgskiuhI67alNNXXZv5ckpr7+X5X16JqzWj3Tt8+ZRa+V/wt3t9X0V8ifsw/GfXPCX7If7PfgrwdY6ZeeMPGXhlZ7ebVGcWGmWlrDGZ7mVY8PJhpYUWNSpZpPvKATXQeM/2ufH/wAGdD8Z6b4r0fwvc+J/A1jYeJJbzTVuF0/WdEkufKu5oonYyQTwIkpKNJIufLO4hsCnbmcfO3rbf7t36Ps7Nxa/ru7L73ovVd0fTdRy3kUE0UbyxpJOSsaswBkIGSAO/AJrw/Uv2try1/bS0n4fRadYy+EL/TFR9a8w+YNWlimuobVedu02lvJIcjOXTB5rk/CHx3k+NHxH+EOtav4W8NTx694m8Rw+Hb6S3d7vT7G2hnSG5icuQHnSIliBgpIoABGaXr/Wtv68tSXJJXv2/FX+7o30em59QUV8mD9rj4w618EvGXxH0zQfAKeH/AGq63Bd6fdNdfbNctNNu54pHgkV9lu/lQ8b1lDuG4RcV33iX9oPxl8TfitF4P8AhfbeGbaWx0Gy8R6vq3iOKeeG2ivGkFtbRW8Lxs8jiGVmcyBUCjhycAs3t5fK6um/VJ/dbfQp6b7a/g0n+LX39j3WqGteKtM8Ny2qajqNhYPfSiC2W5uEiNxIeiIGI3N7DmvLf2T/AI++JfjXqvxG0/xTomnaFqPgXxGNB8mzmaZJsWdtO0odsblZpmKHap2FMqGyK8u8Q+A/EHjn/gqXJNqEfgPU9O8N+D7G/wBPXUtGlubjT4JNQn3tA5l2x3RaEfvQuMLGNvBJdv3kIvaSvfy5eb8v66Cafs5zW8fz5lH83/W59ZUV8yx/tQfFbxf8LtR+K3hjw94Ou/h3Yi6u7TRLl7ga7rWn27srXUdwreRC7rG7xwtE+4FA0iFjjSb9pXx98V/j/c+FPh1aeDl0KPwvo/ilda1pbiQiK9kuh5QhidS7MsClTuUJ85O/5VogubRf8Ne7V+2if3NbqwTfJdv/AIezSdvm196ex9EUV8reLv2t/ipbeC/in4v0nRfAw8N/CXXNRtruC+a5+167aWaLJIIWRisEoQnDurq7cbEA3np9E/aL+IOifFb4cr4n0zwkPB3xXeS10yPT2n/tLRLgWct7Etw7Exzq0UMisUSPY+PvDmlT/eJOPVJ/KSvH71t6BN8t79HJf+Au0vu6+p9BUV89Xn7Xuu2v/BP/AMS/Fv8As3STreiWeqXMVntk+yyG1upoUDDdvwViBOG6k4pPC2pXlr+3l8V7uwshqOoJ8PfD0tvaecIRcyi51crHvOQgJwNxBxnPNOKvHn6Wv+Fw+zdf1ql/7cfQ1FfMXhb9sLxV4U+PHgrwj421b4S6lcePLuawXSfDGoyPqfh2dLaS4HnCSRvtMX7po2lWOHazJ8pBqx8Of2qfHnxl+JOtx+HP+FbfYvDXiG40W/8ACV7eTR+Jlt4bnyWvGffsi3IGmSJoGDoU/egtwRXM0l5/hZP81999tQlorvy/G9vyf3W3PpWiuY8Ma94pv/iP4lstV8P2On+GrEWx0XU4tR86bVC6EziSDYPJ8tgAPmbdnPFdPSDZ2CiiigAooooAKKKKACiiigAooooAKKKKACiiigAooooAKKKKACiiigAooooAKKKKACiiigArzn9rr4Ral8ff2Y/HPgvR5rG21TxNo8+n2st47JbxyOuAXKqzBfXCk+1ejUU07O44ycWpI82/am+D2p/G/wDZ31nwlpU9jb6jqK2yxyXbukC+XcRSNkqrN0Q4wp5xVf47fBLVPih8W/hLr1jPp8Vl4D1651TUEuJHWSaKTT7m2CxBVILb5lJDFRtB5zgH1Gil1uZxgoqy7W+VrfqfKfhj9kXx38JtAfwX4a8N/BjUfDsVzINL8TaxBIdV0y0klZxHLZC2aO6kiViiv9piDhVLKDnP03qfhm11nwpcaNcoGsrq0aylSMeWDGyFCAB93gnp0rRopOKlD2ctU/x6f1+JpdqftFv/AE/67dD5Z+HP7K/xD+H2h6D4Mj8PfBW40LQZILVfF09q8mrXVhCVwr6f9mEX2lo12NJ9qK5JcJn5K9d+DXwd1P4d/Fb4qa5ez2Mlp441u21KwSB3MkMcWnWtqwlBUANvhYgKWG0jnOQPSaKqTctZb6/jb/Jf0xK0VaOiPmPwr+yH43+Fnw5+GN/4evfC9x49+HH9p20lteTzppesWV9OZJbczLEZInBWB1k8p8NGVKkNmug8Y/Af4lfH74Y69B4z1vw14f1xtT0/V/DFlo6PqFjoFxYzJcQvLNJHDLdGSVB5g2xgJgKM5Y++UUo+7t6ryd07r5q/r6gtEl2VvVdn/WuzPC9L+FHxI+MHxY8Ia58SLbwVoWk+AriXUbGw8P6nc6i+qX728lsJ5ZJreARRpHNLtiCyEs4JcbcHin/Zg+Lvhj4BeIfg34evvA6+CryyvtO0jxFc3t1Hq2n2c4kKWz2qwNG7pv8ALE4nGFw3lMw2t9U0VM4KcXB7NNPzv+v6abaFQnKMlJbq1vK3/Dv5676nzTrX7IniPwrqfgzxLoWk/D/xZrmk+EbLwnrWk+I3kis7xLb5o57a6EEzROjvMMGAiRZBnYVFaGufsu+MPF/wfsmkk8B+GfHuh+JYfFWiw6NYuNHspYQUS1mbaklwrxPKjzbEb97lUG0A/Q1FXKTlJy63v6Pm5v8A0rXW/bbQzhFQioLZK3quXls/+3dP+CfPunfBr4p/EX9pb4ffEDxj/wAIZoVh4Mg1O1bRNH1O5v8Af9qgVBP50ltDvbcoGzYoRQTucthe4/ab+DOqfFvw3oV34cvrHTvFng3WYdf0WW+Rns5J40kieGYJ8wjlhlljLLkrvDAErg+lUUnra3TVeqd7/fr+G2hUfdv57+jVrfdp+O+p4F4x+Evxf/aG+HPjvRPF2reFfA9p4i8OT6Lpth4eu5tT8m5lBDXk11LBbycDCiKNANrOSzEjbyvhv9lXx9e+L/hbNL4Y+EPw/wBA+HeujUbnT/DM88x1RBY3NsHUm0gEW1phiIhshmJlBUK/1PRQtGmuln807r8fl22Vi7as/NfJqz/BL+m7/PE/7JniHX5PjP4M1ebQpvhx8WGvL+O/guJU1jTrq5t4IHiMBj8p41MbOsnmg/dUp1aj4Z/BH4j2Pijw5b634W+COlafoc6y32uaRbSz3+siNSF8q1e2jWzZm2szfaJtuMLnO4fQ9FEPcUYraKSX/bukfuWnnZc1wlrfzbf/AIF8X37+XSx8lSatf/AzxB8TtI8KfE/4Xad4Sj1a71fWE115ItW8H3F2n2i4CLvEcyO0hljMmwKZCMyBcVmfsp/ADxrpP7M/wC8ceFF0tPGPhbwjJpV3pHiGSa0t9VsLwwzMjTJHI9vKrwwureU4PzKV5yPqbxP8IfCfjbX7XVdZ8L+HdX1SxAFteXumw3FxbgHI2O6llweeD1rohxSp+5HTfRfJJr8U7emjbvcqUuaTfR3b822n+avfvqrHzJ43/ZG8b/GHwD8UtT8RXXhaz8efEPTLLRrSzsrmeXS9GsrSV5Y4jO0SySuzyzO8nkoMsqhcLk+s/tRQeEbz9nnxVp3jrWNN0Lw1qumTWN3e3tylvHDvjYAqzEDeDyuOcqMV6FVLW/Dmn+JrZIdSsLPUIYpBMiXMCyqjjowDAgEZOD71NSHNFxWl1b+vPVv1FTfLU9o9X/Vv0XoeJ/8ABOXwTr+i/s16f4l8ZMJvG/xBceItblMLRMWkjSOBCrZZdltHAu0nghq639rT4Oax8afhBJaeF7zT9N8ZaLe22teHL2+3fZra/tpA8fmlVZvLcb432gnZIw716ZRWldqo77bW8rbfdZWJpLkVvv7O+/yfY+bfHv7E1/cfsv8Aw78H6b/wj3iK/wDAupW2s3+n68XXSvFdwEmNwLkrG5G+edpwxjfEiIShqpp37Knj7xH438X69q0HgDw5B4h+H9z4SsNE0SeaS30yeSVnV2mNvEZVbdlmEabeFCHBdvp2ioqQVTm5vtc3/k0eR2/7d+7p1Gm0o+Vv/JZc6/8AJtX36nzlffs7/Er4beIvh54m8Cy+CtS1nQPB0Xg7XNO1u6uba0uY08p1nt54opHDJIj/ACtFh1fqpArJj/Ye8V658L/EsOu6v4TvfGE/j8+PNInNjJLpbSiKKP7PcQN8wjZBNEcM5VXVgzMMV9R0Vbbc3Prr8rzVR2/7fV/w20M6dKMIqEdlb52g4a/9uux4r8Gfhh44tfGdxqmveGfhR4GtodPe2tLfwyr6lczXDkfv3uZLa2KIoBAiVG3bslxgCuFh/Za+IfxA+LvgnXfFmh/CfR9U8H6pHqF74z8PyTjXPEEcasv2fyTbRi3jmyPNRriZcAgA8MPqSiltJS7fmnf8+mz2aski2rxcX1/Jq35fPqnfU8r/AGxPgXqH7Qnwb/sPTP7HmurXVLLVPsGsBzpmsLbzrK1ndbAx8mQLgna+DglGAweB8D/s0+O7v4+6N4x1fS/hz4R0fS/CuraBFoHh64mnW3lupbR1l8420AkDC3bcPLTZtQDzNxI+kqKSikmu9/8AyaPI/wDyX5Lda3Ku7p9rfg+Zfj8+mx89W/7Gupaj+wn4E+Gd9qGjR+KPBFjpMlvdmBr3TWv7Dy2XfG4RpIHKFGBCtsckYOK2fgn8MPHFp8R7fVfEnhH4ReDdN0+0kiEPhkyahd6hcPgeZ58lrbfZ41UN8irIW38sAvPtlFaSqOVSVR7ybb9WrN/d+SIUEoqK6K3yXT+u77nl/wC0z8GNa+JsXhPXPCl7ptl4w8Bax/bOkjUg5sbzdBLbTW8xQF0WSGeQB1DFG2ttbBU8l42+D3xa/aG+FXxB0TxfqvhTwjH4l0U6VpGl6HPNqUFpKdxe4uLqSG3lk8z5UMSIqqm7lmbI99orNq8XF7P9Vb+unVa6l8zun1X6O/5/PptofLnhr9lvx9qXxE+Feo3Phn4SfD/QPh5rMl/c6V4YuJ5/7QVtOurUSI5tIAhVplxEVI2sxMmVCm9o/wCyD4w8GfBfwCNG1Lw6PH/w413UdYsRcSTHS9RivJrrzbWVwnmIGhuB+8VGKSIDtcdfpWiqm3Kz7f8AAf6bbdNtCFCN9ulvlr/nvv13PBfGHwU+J37Rvwo+IOheO9U8L+F4vE+lDTtG0zQnk1OHSpl3N9rmuZoYHmZn8v8AdiNEVY8fMWJGXY/Bj4z/ABJ+L3wq8SeOpvhxp1p8PdSu7q6tNDubu4bUPN065tROrywptbfKv7nGApcmRiFWvo6inGXLLmX9b/5v+krNq6s/P8Vb9P6u7/J2q/sOeKrf4ceGYBbeBvFd94Y8d654qOg61PMNH1aC/urySESSeRIUnhW4R1JhkUOrAdQ46r4UfsveLk+J3xF1/wAVf8Ifo9j468KWHh610zw80siaN5LX29NzxRiUYulYSbULEsPLUKC30PRUTipxlCW0lZ/dy/kVdp8y3vf/AMm5vzPl5P2SfHviT9n7wBpGup8Pn8Y/CK+hbQSWuLzSNdtorJrMi7jeJXgaWOST7gl8plRgZMFa6bwx+znr/wARfD/jTTPHHhz4ceDtF8UaHLoKad4S3XVyqzKyzTSXr29ueQVCxCLA25LMTge90VVVurze015r3+as/v8AuT1STFT/AHfL7PTltbySd0vk/n0baPlL4kfs8fHX4v8AwR034faxffDi2s9CvdLnbW7a9uzceIY7K8glAktjbhbRmSLc22SYFwFG1WLL7z+0b8LLr43/AAF8YeD7LVJNEu/Euk3GnQ36Ak2ryRlQ2AQSOeQCMjNdpRSneaal1u35t2T/AC9B037Npw6beVj5Y8N/sq+Pr3xf8LZpfDHwh+H+gfDvXRqNzp/hmeeY6ogsbm2DqTaQCLa0wxEQ2QzEygqFfZ8PfBn4z/BbQ9Z8F+A7vwAfC19qN3eaPr2qXVyNS8Ox3U7zyRmyWBorsxvI/lkzxAjaHHB3fR1FHW763b+dr/8ApK29FpoLSyS6JJeVr/8AyT3366nhev8Awj+JHwr+Mev+LPh4vhDxLD40tLRda0/xHqE+ltHe20XkpeRTQW84YPEEV4jGo/dgqwyRTPFvwG+I2o6V4A8WJ4g8Oaz8UvBEt5JN9rt3stI1S3vBieyBjV5IUULD5c2yRswKWVtzV7vRR0/rT/gfpptoH9fhb+vPXfU+YviV+yj8QPj/AODPijqfimbwjpXi/wAYeDbjwdoOm6fe3F1pukQSb3aSa6eBJJHklZCxWBQixKAGOSfQf2gvgTr3jvQvA+reFr7S7Txp8OdRTVNLXUfM/s++JtpLWe3mZAXRJIZpAJFVijbW2tgqfXKKd2oqMdEtV97f4ttu+93cPtcz1ve/zSX5JI+fPDfwO+JvjD9qTR/iR4xfwdpVrp/hbU/D66JpN/cXotXuJ7WRJRPJbxeaX8l9+UTYFjCh8s1Qfs//ALI3iT4U6h8EJdQvdEmX4aeDL/w7qYtppWM9xObIo0O6Nd0Y+zPkttPK4U5OPoqilorJdP1cn+c2VzPXz/yS/JI+b/jt+zdDc2Hxw8QeJ/Edj4b0DxLDo+qWOqxhppNEm0tBItzNGVClUmRH2hiGVSDtzXnHxG8W+NPiZ8c/2f7PXPFnw31yaHxeuqQ2Hg6SWc3trHp935moTF2YxxLuVQqgqDMMyMSor7WdRIpBAIIwQR1rnvBnwj8KfDi8ubjw94Y8PaDPe/8AHxLp2mw2rz85+cooLc+tKCUZqXRNP5p3/RfL5NT/AMu3BdVJf+BKz/r/AIN8T9p/4QXHx8/Z+8V+D7O9i06912weC2uZoy8cMwIaMuo5K7lGcc4ziuH8Y/CX4leK/wDhAvHkcXgnT/if4MW9tbnS11C5m0XVbO52rJALkwLNEx8m3kWTyH2shXawO6vdaKLa366fhf8Az1D+vvPI/gr8I/Fh+L+u/EXx82g23iHU9Mg0Ow0rRbmW7s9JsopJJjmeWOJpZZZJMs3lIAI4wAcElP2gfhF4s8Q/Fr4feOfBh8P3Gq+DjfWdxYazczW1vd2l6sKysssUcjLKhgQqChVssCRwa9dop6aW6f0/vu7+rDW7fV/5W/BWt6Hm3wa+D2p/Dz4rfFTXb2exltPHOt22pWCQO7SQxx6da2rCUFQA2+FyNpYbSOc5A8c0L9hXxJ4U+Cnw3jh/4QnWPGvw4vdUlSz1VZJtH1a1vp5Xlt2kMRkibBhYSiJ9rxY2spNfVlFTyqyt0t+A223d/wBXPLf2efh74o8N6rrOqeJtC+Hnhf7asUNlpXhaNpxbouS7zXjwwNKzkjCCFVQJ1YkkWvH3we1PxV+0z8O/GdvPYppfhHTtYtLyKR3FxI94LURmMBSpA8h92WGMrgHnHpFFV1T7f5W/UUbxu0eAQ/Cb4r/BLxN4wt/hzH4B1bw94x1WfXIX1+/urK48PXdxg3GI4YJVu4mkBlCl4GBdl3EYYM+Gv7Gl98KfH3w4ubHVLS/0vwb4P1jQr6e4LR3eoX19c2dw1wEClArPDOzDdld6gBhkj6CopRSSS7K3y5XG33N/he9kNu7cn1d/ndSv82vz7nzP4Q/ZG8afCz4SfBm40C98M3Hj/wCE+jyaPPbXc066VrVtPFGtxB56xmSL54YXSXyWwY8FCGOOt+H/AOz94g8aeN/F3i34nJ4fGpeKdCTwvDouj3Et5ZabpoaV5FM8scTTSyvKSx8pFAjjUA4JPtdFEoqV+bW9/wAdHb1Tf3vux88tGn2/B3X3PX5LsfIWk/sEfEDSP2K9Q8Lx+KtDPxcbWIdXsvELNMbVZLURWltvOzeM2EKxvhMbpHxkcn1iP9l+Twz4h+CEehSWMOg/CmC4tZo5ncTTRNp5tY/LAUhjuwW3FeMnk8V7LRVOTd79Wm/WKsvwM3CLtptf7m729L7djwTw3+y34g0f9jf4j/DyS80c614vl8TvZzrLJ9liGp3N3LB5jeXuG1bhA+FbBDY3cE8v4l8Lan8C/jho1z4V8Z/D2w8Zaz4OstL1jQfE000MGpQWDOI7y1mTDBo2nlVl2EMrqTsxk/UdYnjf4beHfiZp8dp4k0DRfEFrC/mRw6lYxXccbYxuCyKQDjvSu+bmXW1/kml/6V/wzs1o3ePK/N/OTi3+MVb9Vo/AP+Cb6X+o33xp1u81mz8Sxa549llg1iyj2WWo+XYWcMht8MwMMcqSQr87H9yQWYgmvUbH4O6lb/tc6r49eaxOjX/hG00BIQ7/AGkTxXlzOzFdu3YVmUA7s5B4AwT6DpOk2ug6bDZ2Ntb2dnbII4YIIxHHEo6KqjAA9hVinKzcf7qS+6HJ+KJTdpp/ad3/AOBc/wCaR8xWP7Onxd8CfCTUPhL4au/Aq+Brpbmw0/xJc3dymr6Np1wzkwiyEDRTzRJIyJIbhFOFLJwQ3oHwh/Zvn+Evx/1rXrOSyXwxN4P0PwzptuJHa6iNhJeli4KhdpS4iAIYkkNkDjPrtFEHy3tu9/O10r+l397e4T97f+rtN/e0vu0PAdT/AGV/EN5+zn8cvCC3mjDUviZf65daXKZZPIgW9gEcQnPl7lII+barYHTNbvjD9n3WfEF78DpIbnTFX4aaot7qm+RwZ0GlXVniHCHcfMnQ/Nt+UMc5wD7DRSp/u0lHoor5QVo/mJq6afeb/wDA9Zflp2Pj3xr+x78Z7z9nTx78HtF1X4cjwfrf9pNpGsXct2NSWK7nkuBaTQLEY12tIyGdXc7AD5W45HoHxa/ZF174m+Lfi5cQ65aaPa/EPwHYeFbG5geQ3NlcQNfl5HUBR5ZF1Hja+ThwQvBP0FRTvaHs+n/At+X+e9yr2lzLvf8AFP8ANL8tj5Y8N/sq+Pr3xf8AC2aXwx8Ifh/oHw710ajc6f4ZnnmOqILG5tg6k2kAi2tMMRENkMxMoKhXT42/srfEf48an/ZmuaR8JZvs+rpd6d4+iM8PiPSLVLgSosFsLchbhUHl+YLsKfvFOSh+qKKL+9zed/npr+C/4YlpOPJ0tb5a6fi/+HOX8Lp4yX4j+Jf7Zfw03hHba/8ACPCzWb+0Qdh+0/ay37v7+3Z5f8Od3NdRRRSGFFFFABRRRQAUUUUAFFFFABRRRQAUUUUAFFFFABRRRQAUUUUAFFFFABRRRQAUUUUAFFFFABRRRQAUUUUAFFFFABRRRQAUUUUAFFFFABRRRQAUUUUAFFFFABRRRQAUUUUAFFFFABRRRQAUUUUAFFFFABRRRQAUUUUAFFFFABRRRQAUUUUAFFFFABRRRQAUUUUAFFFFABRRRQAUUUUAFFFFABRRRQAUUUUAFFFFABRRRQAUUUUAFFFFABRRRQAUUUUAFFFFABRRRQAUUUUAFFFFABRRRQAUUUUAFFFFABRRRQAUUUUAFFFFABRRRQAUUUUAFFFFABRRRQAUUUUAFFFFABRRRQAUUUUAFFFFABRRRQAUUUUAFFFFABRRRQAUUUUAFFFFABRRRQAUUUUAFFFFABRRRQAUUUUAFFFFABRRRQAUUUUAFFFFABRRRQAUUUUAFFFFABRRRQAUUUUAFFFFABRRRQAUUUUAFFFFABRRRQAUUUUAFFFFABRRRQAUUUUAFFFFABRRRQAUUUUAFFFFABRRRQAjNsUnngZ4Ga85+Cn7Rlr8aviB8QfD8Oiaro1z8PNUh0q8+3NCTcySQLOHQRO42FJEIJbd83KqRivR6+b/ANjf/k7H9p7/ALG7Tf8A0zWdENZtP+Vv580V+rFN2imusrf+Syf6I+kKKKKBhRRRQAUUUUAFFFFABRRRQAUUUUAFFFFABRRRQAUUUUAFFFFABRRRQAUUUUAFFFFABRRRQAUUUUAFFFFABRRRQAUUUUAFFFFABRRRQAUUUUAFFFFABRRRQAUUUUAFFFFABRRRQAUUUUAFFFFABRRRQAUUUUAFFFFABRRRQAUUUUAFFFFABRRRQAUUUUAFFFFABRRRQAUUUUAFFFFABRRRQAUUUUAFFFFABRRRQAUUUUAFFFFABRRRQAUUUUAFFcN+0l4M1X4mfA3xR4Y8Pa//AMI14j8QaZcWel36ymN4JzGSpBUhwOOSnzAZI5FcR+w74h0/x74H1HXE0NvCviO3mHh3xJoUbH7Lpeo2JdZRAAdvluZQ4ZQN6shPzZojq2uyv+n4aX9V3CWiT7u34X/HX7me4UV59+09q9nofwhvbi/8TeM/CFss0IOp+FdMbUdTiJcAKkItbosrdGPknAJOV618v/8ACz/Cv/Rwv7Wf/hvZv/mdpJ3bQ2rH3DRXnX7LmsWWu/CS3uNP8UeNvGFubiUDUvFeltpupOQ3KtC1rakKvRT5IyO5610Hxdj8XzfDzUF8BTeG7fxYfL+wya/BPNpy/vU8zzUhdJD+737drD5tpORkVTViU7nS0V82/wBm/tff9Br9m7/wS61/8lUf2b+19/0Gv2bv/BLrX/yVSGfSVFfNv9m/tff9Br9m7/wS61/8lUf2b+19/wBBr9m7/wAEutf/ACVQB9JUV82/2b+19/0Gv2bv/BLrX/yVR/Zv7X3/AEGv2bv/AAS61/8AJVAH0lRXzb/Zv7X3/Qa/Zu/8Eutf/JVH9m/tff8AQa/Zu/8ABLrX/wAlUAfSLDcpGSPcdq8z+Dn7MNl8F/ih448V2nibxTq158QL6LUNTttQazNsksUIgQxCK3jdQI1RcFjnYCeck+df2b+19/0Gv2bv/BLrX/yVR/Zv7X3/AEGv2bv/AAS61/8AJVC0d12t8tP8kD1Vn6/1959JUV82/wBm/tff9Br9m7/wS61/8lUf2b+19/0Gv2bv/BLrX/yVQB9JUV82/wBm/tff9Br9m7/wS61/8lUf2b+19/0Gv2bv/BLrX/yVQB9JUV82/wBm/tff9Br9m7/wS61/8lUf2b+19/0Gv2bv/BLrX/yVQB9JUV82/wBm/tff9Br9m7/wS61/8lUf2b+19/0Gv2bv/BLrX/yVQB9JUV4l8IrH9o6H4h6e3j3U/glceEx5n26PQNL1SHUW/dP5flPNcPGP3mzduU/LuAwcGvbaACiiigAooooAKKKKACiiigAooooAKKKKACiiigAooooAKKKKACiiigAooooAKKKKACiiigAooooAKKKKACiiigAooooAKKKKACiiigAooooAKKKKACiiigAooooAKKKKACiiigAooooAKKKKACiiigAooooAKKKKACiiigAooooAKKKKACiiigAooooAKKKKACiiigAooooAKKKKACiiigAooooAKKKKACiiigDnvG/wv0f4h3+j3WpxXhuvD9015p81tfT2j28rRtGWzE67so7KQ2QQx45qXwF8OtH+GWkT2Wi2n2WG7u5r+4ZpXmlubiZy8kskjks7MT1JPAAGAABuUUbf1/XZB/X9feFFFFABRRRQAUV84fFSe603/gpv8IoItS1b7FqnhXxBNcWTX0ps2khazEcgg3eWrgSyDeFDENyTX0fQtYKXe/4Nr9BX95x7W/FJ/qFFedftYfF3UvgT8Ade8VaRBY3GoaX9n8qO8RnhbzLiKI7grK33XOMMOcfSvRaLhfWwUVk+OPHOk/Dbwrea3rt/Bpul2Cb57iUnC5IAAAyWZiQqqoJYkAAkgVzfgz9oLRvGXxG1fwn9k1jTfEGj6bBrElne2wV5bOdpEjmTYzdWicbG2yAjlBRu7f13/LX0TfQfS/8AXb82l6tdzuqK8pg/bF8JXmkeJ5be28T3WqeEtSOk32h2+izy6s1x5YlQR2yqXdXiPmK4+UqCcjBrX+MX7Sfhr4EeHfDmp+JP7StIfFOp22kWMaWjSTG6uATHE0Y+YNhWyME/KR1wCLW1utv/ACbb7+gd/K/4b/cd/RXz/wDEj9vbQdM+EfjvUdBtdQ/4Snwlqdr4e/sjV7KSymGo3rxR2W5GGTE5mR8jkqG6EYr2bwD4P/4Qnw3DaSXdxqV62Jb2/uDma+nIG+VuwzjhRhUUKqgKoAFqr9NPxV/yafzXyNNv600/P8mbVNkfy42baWwM4GMn8+KdWf4r0u61zwtqVlY3n9nXt3aywW92YvN+yyMhVZNmV3bSQcZGcdRUzbUW4q7Kik5JPY81+Hv7Yvh74kah4ZitNK8QW1t4pj1GW3vblLYW1uLJsSGVlmYgMMMrKGXDLuZWO2ux/wCF5eCv+hw8Lf8Ag1g/+Lrkfhz+yxZ/DHxX4On06+gXQvBnhR/DFpppsfmbzJIXlnMm/Hz+RHuXYSSM7+SD6B/wr/Qf+gJpH/gHH/hVtW2ff82l96s/K9nqiE31/rRfk7r8tDzj4uftoeGfg3rHiWz1DTtevW8K6Raa5ey2KW7xG0uJZI1dWaZfumNywbbkbdu4soOnF+1NoBk8TpNY63av4av7TTESWCPfrE93FHJbpaqHJYv5ijEgjKnJYKo3VleKP2S4PF+reJrm91hXXxT4i0nVrtBYgf6Dp4gaLTs7+YzLE7ljx+/kGznNZWu/sh6zeeNIfEFl4u0+DUrfxzJ4xRbnRGnt5VbT3sFt5VW4RnZImXbIGUAxL8nXKjZuz0/4eP42cl1V4ve8Rvq1/Wj/ADaXykuzOb+I/wAafEJ0744a5ZS6tpJ0KxsfC+h6fczKBFrU0e5ZV8t2UlnvbFPlYj5COpavo3w9p0mj6BZWk1xNeS2tvHC88rbpJ2VQC7HuSRk/WvG9O/ZI1aHwXBpd54yj1Cf/AITo+Mby7m0n5r1RctPDbsolwHjIgVZPu4t0/dYyK9g8T+G7fxZostlcmZFkGUlhcxzQOPuyIw5V1PIIoT9zXfS//gKbt/285Lpsr9Afx26a6/Oyv8oxfzfW99CivN/2XfjFcfGDwDqA1Lb/AG/4U1q98N6xtTYslzaSmPzVXsssflygDgCXHOK9Ip+a2evyeqfzQdWnurr5rRr5MKKKKQBRRRQAUUUUAFFFFABRRRQAUUUUAFFFFABRRRQAUUUUAFFFFABRRRQAUUUUAFFFFABRRRQAUUUUAFFFFABRRRQAUUUUAFFFFABRRRQAUUUUAFFFFABRRRQAUUUUAFFFFABRRRQAUUUUAFFFFABRRRQAUUUUAFFFFABRRRQAUUUUAFFFFABRRRQAUUUUAFFFFABRRRQAUUUUAFFFFABRRRQAUUUUAFFFFABRRRQAUUUUAFFFFAHzT8ZZbw/8FKfhFqMWheKbrSdJ8N69ZX2pW2hXk9jaTXBtGhV7hIjGCwhk/i4IGcZFfS1FFC0godr/AItv9RW99y72/BJfofIX/BQX9kjwto37MfjHWotU+IzXhltpfLm8e65Na5e9hB/0d7sxY+Y4XZheMAYGPevhh+zJ4d+EfiU6rpeo+O7q5MLQbNX8aavq9vtYgk+TdXMke7gYbbuHODya9DopRXLogavJyZ80/wDBRvStfk/4VRq9lpvinV/C/hzxjDqHiK38O6f/AGjfxRiCVbe5W22SeckNw0chURuRtVgMqK7jwRqfhf4aeDfEXxDtPD3ji+n1cW82o39zol3Lr2sKuETFkYxcIke9sQiGNVzIyxgElvXqKcfdjJLq7/gl/wC2r/g6WqVpNN9Fb8W/1f8AV7/LDaf4g+Hv7cWkfE0eEdcu9E+KOiP4fu4LPTGludFmtmWWxmuscw+chmV2baqYgVyNmavftGeMrTXP28vhRoF5DfXWn+BtH1Txtex2mnz3zrOyixtPkhVmz+9uivHJTjmvpmvP/Cv7POn+Ff2gvE3xHXWddvdX8Uafa6XNaXLW5s7O3tjI0awhYVkX5pZGO6RslvYYI6OEVtHm/Hma+ak738kJ6qT6u36J/LkVv+HPlX4wfs4eJtT+BHxO+KGr6ZdWGu+I/G+jeNzogG65stI0ma3EcUgQkGc20UszIM4ZwvJWvr/4jfDPRvjn4UtLa+vtejsDIl5DPoev3ukSyfKQp860lidkIbO0sVPBxkCuqdBKhVgGVhggjIIrJ8E+CbH4e6Eul6WrwaZAx+y2u7Mdkh6RRDqsY52pnCg7VwoVQJJR5OmlvklHX5Rj+Ia35+uv4tvT5t/K3Y8x/wCGFPBf/Qa+LP8A4c/xH/8AJ1dB8U/2T/APxy+Fuk+DPGeg/wDCVeHtEmiuLSDVb24upRLHG8SSvM0hlkfZI4LOzE7iSSea9Fop3drB5nzb/wAOg/2bP+iS+Hv+/tx/8co/4dB/s2f9El8Pf9/bj/45X0lRSA+bf+HQf7Nn/RJfD3/f24/+OUf8Og/2bP8Aokvh7/v7cf8AxyuS1p9W+LGo29t4g8G+L59b1f4mfZby5k0S5EGg6TYXMk1osUxQIbe4S0i3SRsY916/mMuQK+v6FrBSf9aJ/rb5dUEvdm4f1u1+n3NHzb/w6D/Zs/6JL4e/7+3H/wAcr234RfCHw18Bfh3p/hTwhpNvoXh3SvM+yWMBYxweZK8r4LEnl3duT/FXS1Q8S+HofFejS2FzJcJa3A2TrDJ5ZlQ/eQsOQCODtIOO9Dv0D1PD/wBgHwhcadpHxR8Tyo6Wfj74garremhj/rLQGO1ilHbbJ9nMinurqeRg17/UOn2EGk2ENrawxW1tbRrFDDEgRIkUYVVUcAAAAAVNT0SjFbRSivSKSX4INW3J7tt/e2/1CiiikAUUUUAFFFFABRRRQAUUUUAFFFFABRRRQAUUUUAFFFFABRRRQAUUUUAFFFFABRRRQAUUUUAFFFFABRRRQAUUUUAFFFFABRRRQAUUUUAFFFFABRRRQAUUUUAFFFFABRRRQAUUUUAFFFFABRRRQAUUUUAFFFFABRRRQAUUUUAFFFFABRRRQAUUUUAFFFFABRRRQAUUUUAFFFFABRRRQAUUUUAFFFc38YfiBF8J/hP4l8Tz7fJ8PaZcai4ZSwYRRs+MAgnO3GAe9KUuWLk+hUIuUlFbs6Siuf8Ah94zHibRbWG9uNMTxHBZwS6tp9rcCQ2Ezxq7IVzuUZbjcASMGugqpRcXZmcZKUVJdQooopFBRRRQAUUUUAFFFFABRRRQAUUUUAFFFFABRRRQAUUUUAFFFFABRRRQAUUUUAFFFFABWd4p19vDOhzXqafqGqNFtxbWKK88mSB8oZlHGcnnoDXzt+1Zda58Q/21fgv4J8OzXFt/ZkOpeKtauoptq2lvHGttAXTBEn76YsiMCpeJSRhTVv8AYE0v7V4x+NfiC0v9UutC1PxtLp2lx3moT3gC2MEVrPKrSsx+e5WfODg7R6UQ99X8m158slF/i2vl9xP3WvVL705fkk/n9+18Evj9q2v/ABU+I1ld+GfHUtvD4mtra0E1vEY9KibS9PYo3735F3vJIQuf9ZnqSK91rG8M+BbDwnrniDULNZRc+Jr5NQvi77g0q20NsCo7Dy7ePj1BPetmqk01G3RJfNJJ/iVNpyuvIKKKKkkKKKKACiiigAooooAKKKKACiiigAooooAKKKKACiiigAooooAKKKKACiiigAooooAKKKKACiiigAooooAKKKKACiiigAooooAKKKKACiiigAooooAKKKKACiiigAooooAKKKKACiiigAooooAKKKKACiiigAooooAKKKKACiiigAooooAKKKKACiiigAooooAKKKKACiiigDy/4z/AvQvjz4vsbXXfEWowvo8P27StO03UDZT2V0rDGofI26R48qEDAxrubcr7hin8ePCGp/G74NW/hLS9VttVmu9YsbDxDqFi0CfZbeKeOa7JjZmUMyR7PLwxBmHy4zjyX/goreaTojeFfiJ4ekH9ufDvUhd6/qOkyxrcW2gzsbO/SSQAn+MyKp5DWrsMGM4+kvhd4U8JeEvDjR+DNN0DTdKuZfPYaRbxQwTyFVBkPlgBmKhcsck4HPFKCvG/Z/e00/ua91vrZr7KCekrd1926t6r4u2t+rOd/ZpsPFPh7wRLo3izTZI9R0i6mt21d54HPiICRtl7tiJKtJF5ZcOEIfeAu0KT6HcXEdpA8srpHHGpZ3c4VQOpJ7Cn1i/EbSzrngDWrNdF0zxI11ZTRDStScJZ6luQjyJmKSARv91iUfgn5T0pybtf+v69PkOKTl6v+v6fzY//AIWBoP8A0G9I/wDAyP8Axq5pev2OuBzZXtpeeXjf5Eyybc9M4JxXyB/wy5ef9GYfsx/+Du1/+Ule1/smfDOb4b2GtJL8Hfht8I/tUkTCLwjexXKalgN802yytcFM4GQ/3jyO9JXTJbtY9dlkEMbM3CqCTx2rzfw9+2H8MPFeuaPpun+N9Bur3xBdTWOnRLPzdzxFg8SkjG/KOACcsUbGcGr/AO1B8Wo/gP8As5+N/GUv/Mt6JdX8Yz9+RImMa/i+0fjXyt4E+DNrr/gj9mv4WeF2tr+TwFqNh468Y6rZMGgtJoreRyJZF4NxdXM7EKSW2K7H5QMzTtKfK9k439JN3f8A26otv5Dn7sObraVvWKVl824pfM+n/Hn7Wvw2+F8utJ4i8ZaLor+HZbaDUVvJTEbWS4DGBDkctIFZlAySoLdOam8R/ECeX9oDwx4Z0zxLoNqfsF3qmq6JcWUkt/f2oCRxTQShwkaJKwDFlbduCjBrw79iX4Q6R8fLz4p/E7xZpWm+IbPx94zuZNGttRtI7mGCx090s7eVVcEbma0Dg9tqEY5J3PgPrUHxF/4KCfG/W9/m3PhKw0vwfYw7W/dIkRvZ2JxhQ8l0gHPzeScZ2nBF25XLfl5muy5Vp6qTSf8AwLjlpzW6PlXm+az/APJU2vQ9l8X/AB58IeAtVurPVtdtLWfToknv+GkTTInzskunUFbdGwcNKVU4ODxU/jT40eFfh1rGnWGu67YaVc6vFPPZi5fYs8cEZlmcMfl2xxgsxJwowTjIr4n8M6pqGq/8E49a8H2caar8cPjbf6tY6rYbg11b3tzdS29zPcjkx29pAFG5vlVY4lGSyg+l6R8KV+Jv7fegaBdynUvDXwK8AW9ncJOokS/1C/dQokBznbDZJIe+WXPBIIk2+X8el+VyfyTUUn9rm6ailaOvTX1+JRX33ba6W6n0t8MPil4e+NHgey8S+FdXs9d0HUt5tb60ffDPsdkbafZlYfhR4g+Jmj+GPFXh/Rbu4kXUPFFxPa6ckdvJKkskMTzSKzqpWPCIx+cjJGBzxV7wl4Q0nwD4ctNH0PTNP0bSbBPLtrKxt0t7e3XrtREAVRknoO9fM/jD4Ba/p/xEurW20DR9Ht/HGuajLBFov9oXGnAfY52N3qUitF9nkuSQjfZhESWw8lxwtEmrvl2/4bT+vuD7N33/AM9fl93mj6nilWaMOjBlYZDKcgivM/AXxOm+M3xn8WWWn3MsHh34eXsekXHlfK2pamYUnlVm6+VCksIwMbnZw3CAHq/hD4YfwV8LvD+kSaNonh59OsIrdtM0eRpLCxKqAY4GZIyYx0BKKcdq8b/YI0K58FeIvjnoeoeYL+H4lajqfzjBkt7yK3uYHHqpR8Z9UYdqpJe1lHootr1Uor8m3+PQTf7tS6tpfK0m/wAUl8yx8c/H3iXwt+3b8DtCs/EF9F4b8VQ662o6SscQgne1tEaJy2zzSQZWyC+z5VO0EZr3+vlX9qr4g6FoX/BR/wDZutb3WdLtbmKHxIJIpbpEePzLKER7gTxuIIXPUjivqoHNJfwov/F/6Uyp6S+S/UKK8l1z9nLxfq2t3l1B8dPihpsFzO8sdnb2Ph9obVWYkRoZNMZyqg4G9mbAGSTzW38LPg74h+H3iCW81b4o+OPG1vJAYVsdZtdJigiYsp80G0soJNwAI5crhj8ucEKOu+gnodl4j8R2HhDQL3VdVvbXTtM06B7m6urmURw28SAszux4VQASSfSsDTPHmifFq21DS9J1a+tr63ghuJfLhltLuzWQsYZdkqA4YxsQGUq4U5DKSDj/ALS954K1jwD/AMIX46u0tNH+I5m8OAvKIQ7S28rkeYeEbbGwU/3yg71yH7Bet63q3wz1ix8Q3C65f+ENYn8K23iUKAfE1laH9xckgkFh5skbkHBkjkI60R95yi+iv+Nn81ePnrfoEnyqLXV2/VffaX3I7f4B/F0/FLRdatb3yE8Q+EdXn0HWYochBcRbWWVQSSqSwvFKoJOBJtydua7yvnn9jXQ7w/tBftF6+fN/snWfGkFvZFhhJXtdMtYJ3XjkeYChOTzERwQa9D+J3wX8R+PfEv27S/it478G23krH/Z+kWukSW5YZzJm6sZ5NxyM/Pt4GAOcl7xhLvGL++Kb/ES3kn0lJfdJr8i5+zt8ZP8AhfnwmsfFH9nf2T9subu3+zfaPP2eRdS2+d+1c7vK3YxxuxzjJ7evkP8A4J//AAF8U3/7PHh/UYvjL8RbO0TU9RZtMis9ENrIE1K4DAltPMuJCpLYkBy52lRgD6p8Z+LLPwH4P1XXNRcx2GjWct9csoyViiQuxH4KalNezUpPoFPmk+VbmLF8c/Clx4lXSI9YhkvXv20pAkUjRSXiqzPbLKF8tpVVWLIGLKFYsAAa6uSVYU3OwUZAyTgc8Cvlz4DR2fgr9se/0nwlqMHir4efETT7nx/GscgnTwrqZkjikZHBIWK8E8jqjch4pivBIHuP7Q3gSb4m/BrXdCt9C8OeJZ9RhWOPTtemkh0+dg6sDK8aO4243jaudyrgr94VaSpxk1q1+K0a+Uk/lYpcrqOKen6PVP8A8Ba+dzV8JfE3RvG+sa/Y6dcySXPhnUv7Jv1kgkiEdz5EU+xS4Af93MhymRyRnINb9fMvwo+DGuXvxaiur7Q7HWYfBXiH7PJc6+t7btG39l2o/tDTC5lW4wS0IacvLhZP9I42n6aqmkop90vxSf43+W120yE3f+u70+X472Ssc9Z/CrQbD4o33jSOwx4m1HTYdInvWnkbNrFJJIkSoWKIA8rklVBbIyTgYp/CH4G+F/gPoV1pvhXTP7NtLy7nvpla4luGeWaV5pDvlZmCmSSRgoO0F2wBk1yX/DOXjD/ovnxZ/wDBf4Y/+VFH/DOXjD/ovnxZ/wDBf4Y/+VFTtt/Wt/z19Snrq/6srL8NPTQ9aoryX/hnLxh/0Xz4s/8Agv8ADH/yor0PwN4cvPCXha10+/1/VvFF3b7/ADNT1OO1jurnc7MN620MMI2ghRsjXhRnLZYgGvRRRQAUUUUAFFFFABRRRQAUUUUAFFFFABRRRQAUUUUAFFFFABRRRQAUUUUAFFFFABRRRQAUUUUAFFFFABRRRQAUUUUAFFFFABRRRQAUUUUAFFFFABRRRQAUUUUAFFFFABRRRQAUUUUAFFFFABRRRQAUUUUAFFFFABRRRQAUUUUAFFFFABRRRQAUUUUAFFFFABRRRQAUUUUAFFFFAHOaH8HvCXhnRtZ07TvC/h6w0/xFNNcara2+nQxQ6nJMMSvOgUCRnHDFgSe9avhrwzp3gzQLTStIsLLStL0+JYLWztIFhgto1GAiIoCqo7ADFXqKP6+7b7g/r79/vCiiigAooooA8w/a2/Z+vv2m/hOvhO21+20C0n1OyvL95tNa9F7Bb3Ec5t9omi2iQxqrNk/KTxzmvTLeEQRBcIOOdi7QT9KfRQtE0u9/yX6IHq7hSBQpPHXk+9LRQA1YwrEgAFupA606iigAooooAK526+HNsPiJH4nspWstTktlsb7au6PUbdWZo1kX+9GzuUccje4OQcV0VFHW4dLBRRRQAUUUUAIyhxgjIPBBqprdhcX+kS29ndnT5pF2LcJEHaEdyoPy7sZ2kggHBKsBtNyigDL8GeDdO8AeG7bSdKg+z2VqG2qWLs7MxZ3diSWdmZmZiSWZiScmtSiijfUCj4d8M6b4P0lLDSdPstLsYmd0trSBYIkZ2LuQqgAFmZmPHJYk8mr1FFACKgQnAAycnA60tFFABRRRQAV5vr37VHhXw78S9f8ACU51WTW/Dmn2+o3MFvYvOZVuPM8mOIJlpJGEMrbVGQsTM2FGa9Ir4zTwf4r8NeCv2n/jDD4e8UXXjfxFPfaX4X0prGb7QLSytxZ20kMG3e3myB5QwXLIQV4JJzqSklJx6Rb+6yS9bu/omaQim0n1aX36t+lk/nY+ovgl8Y9F/aB+FOieM/Dr3MmieILf7TaNcQNBLtyV+ZG5ByDXVVwv7MngSD4Xfs8+C/DdraXNlb6Do1tYRxXEflykRxqm5l6qWxuw3zDd8wByB3VdNeMY1JRjsmznoycqcZS3aCiiisjQKKKKACiiigAooooAKKKKACiiigAooooAKKKKACiiigAooooAKKKKACiiigAooooAKKKKACiiigAooooAKKKKACiiigAooooAKKKKACiiigAooooAKKKKACiiigAooooAKKKKACiiigAooooAKKKKACiiigAooooAKKKKACiiigAooooAKKKKACiiigAooooAKKKKACiiigAooooAKKKKACiiigAooooAKKKKACiiigAooooAKKKKACiiigAooooAKKKKACiiigAooooAKKKKACiiigAooooAKKKKACiiigAooooAKKKKACiiigAooooAKKKKACiiigAooooAKKKKACiiigAooooAKKKKACiiigAooooAKKKKACiiigAooooAKKKKACiiqet+ILDwzY/atRvbTT7bzEi865mWJN7sERdzEDLMwUDuSAOTQBcorkYvj94En0XWdSTxr4SfTvDkvkatdLrFuYdLkzjZO+/bE2ezkGtqw8caLqvhJdftdX0u50J4DcrqUV1G9o0QBJkEoOzaAD82ccUX0uHWxqUV5A/7Ynh7W/jB4N8N+GLjRvFul+LtO1a+Gs6Xq8VxBbPYC33Rfuw6uW8/n5xt29Dnjqv2cvjB/wANAfAjwn42/s7+yf8AhKNMh1H7F5/n/ZvMXds8zau7HrtH0oWuv9btfox2drna0Vy+pfG7wZousWmn3ni7wxaX9/ePp1rbTarAk1zdJjfAiFstKuRlANwyOKs6L8VfC/iXxhqHh7TvEmg3+v6SN19pltqEUt5ZjOMyxKxdOf7wFC12E9NzfornL34w+EtM8eQeFbnxT4ct/E90nmQ6PJqUKX8y8crAW8wjkche9L4++L/hP4Ui0PijxR4d8NjUJPKtf7V1KGz+0vx8qeYy7jyOB60efcDoqKyta8c6J4bit31HWNLsEu45JYGubuOITJGhkdlLEZCoCxI6KMniovA3xH8PfE/w+NW8Na9o3iHSy7Ri80y9iu7csvUeZGxXIzyM0AbVFc54H+MXhH4m3+oWvhvxT4c8Q3Okv5V9DpmpQ3clk/8AdlWNiUPs2K5P4y/tH/8ACo/jd8LfBv8AY39of8LLv72x+2fa/K/s37PatcbtmxvM3bduNy4znJ6UdUu4d/K9/lqz0+iuOb9ofwApsM+OfB4/tW7awsc6zbf6ZcrjdDH8/wA8gyMouSMjitHS/it4X13xnfeG7HxJoF74i0xPMvNKg1CKS9tV/vSQhi6DpyQKOlw23Ogorxj9m/8AaUv/ABb8LbnWviTd/DzwzeHxBcaPaDSvEkF7ZzAN+5Qzb9vnsuT5eQ2ADtUnaPR/CvxX8LeOte1PS9E8S6BrGp6I/lajZ2OoQ3E9g/8AdmRGLRn2YCjt6X/BP9UD0bT6O34tfpodBRWP45+IWgfDDw++reJdc0jw9pUTBHvdTvI7S3QnoDJIQoJ+teNfCj9um2+LH7cXjX4O2WhQG08J6Faa5D4hg1QTx6mk6W7hViEYCjE/DCRs7enPBH3pci31/BXf4A9Iub2VvxaivxaR77RXLeHvjl4K8W+M7vw5pXjDwtqfiGwybrS7TVYJr22x13wq5deh6ivNPg1/wUN+HPxy/aO8YfDHR9Q2a74QeKPz5rm1+y6yzozkWZWVnmKBTvG0bcULWSit2r/JA9E5PZafee6UVy03xy8FW/xAXwnJ4w8LJ4qcZXRm1WAagw9oN3mf+O1mftN/EHX/AIVfAjxJ4g8L2vh+91/TLYSWUOuakmnWEjl1X97O5VUGCcZZQTgblzkTKSjHnexUYuUuTqd5RXFeG/jZokfhnRm8Ra/4T0rXbzRYtZurSPV4WjSLyw0s0bFgXt1bdiXG0gZzW94I8faF8TPDsOr+HNa0nxBpNwSIr3TbyO7t5cddskZKnHsa0lFpuPb/AIYiMrxUu/8Aw5r0V4j8FP2yP+Fw/tefFr4Vf8I5/Z3/AAq5NPb+1P7Q87+0/tUPmf6ny18rb0+++favR/C3xr8G+OfFF7omieLfDOsa1phIvNPsdUguLq0xjPmRoxZOo6gdamPvRUls1deg3o3F9HZ+p09Fct4s+OPgrwF4ostD1zxh4X0bWtSwLPT7/VYLe6us9PLidgz/AIA18/ft9/8ABRmX9lj4j+BvAXhSy8J6z4z8azyhzrmuJp9hosEaq3mXL8lN+75c4ztONx4pcy0Xd2XqOz18lf5H1VRXj/7Nv7T138cPiR8RPCt/olrpt98OZ9NtLi7tb/7TBqMl1ZJcsyLsGxVLlR8z7gAcjOK9gq5RcXZ+T+9XX4GcJqavHzXzTs/xCiiipLCiiigAooooAKKKKACiiigAooooAKKKKACiiigAooooAKKKKACiiigAooooAKKKKACiiigAooooAKKKKACiiigAooooAKKKKACiiigAooooAKKKKACiiigAooooAKKKKACiiigAooooAKKKKACiiigAooooAKKKKACiiigAooooAKKKKACiiigAooooAKKKKACiiigAooooAK/OX/gth/w1H/wtrwH/AMKV/wCE8/4RL7H++/4RPzfN/tHzn3favJ+byfK8nb5n7vPmZ71+jVFAHOfCD/hI/wDhUvhf/hMPs/8Awlv9kWn9t/Z9vlfbvJT7Rs2/Lt83fjHGOleTf8FKNLh139lx7K5Uvb3nibw7BKoYqWRtZs1IyORwTyK98qh4i8L6b4v00WeradY6paCaK4EF3brPGJI3WSN9rAjcjqrKeoZQRyKTV2vJp/c0yoS5Xc+a/Fvwi8K6d/wUv+Hlvb+G9Dt7c+AtWlaGKxjSJ3gurKOBioGCY0nmVCR8olcDG415Vrek6P4b8PX2gahbWdj8L7T4+vb61ZmNY9OtrR7ZZoo5V+6sDag8BYH5Nz88E190T+EtKuvE9vrcmmafJrNpbyWkF+1shuoIZGVniWTG5UZkQlQcEopI4FVpvhz4euNI1ewfQdGex8QSPNqls1lGYdSd1Cu06bcSMyqoJYEkAA9KI3ThL+VP5t1Y1F+C5SZ+9fz/AAXs5U/zd0fMfxJ0bwZo/wDwUy+HC+H7fS7bXH8G6+dUSwREBj22nkGUJxvx5mCedoHYCvS/+Ccv/JiPwn/7Fmz/APRYrufAv7PXgH4XxWieGvBHhHw+tgZzbDTtHt7X7OZwgm2bEG3zBHGGx94Iuc4FdJ4c8N6d4O0G00vSLCy0vTLCIQWtnZwLBBbRjgIiKAqqOwAxRFcqt/W8n/7cU5XVv62S/T9D4m8VfDLw9qX7If7XOsXWjadd6o2ueJJBdT26yyxtBbq8JRmBKbH+dduMMSw5Oa7TxR4F0fwV4u/ZQ1PR9LsNO1ObVHsJLqCBUmngm0G9lljdwMuHkjR23E5ZQx55r6Zk+HPh+XQ9X0xtC0ZtN195pNUtDZRmDUmlG2Vp027ZC44YsDuHXNS3XgnRr19JabSNMlbQJPN0svaox01/LaLdDkfuz5bumVx8rMOhIp0PcgovpGmv/AIuL++/+ZE1zX83Vf8A4G01/wCA2/yPzz8EfDzxN8QP2L/FB17XPgXon2u8vz4l1jVrO8Ou6RrAuHDTyzecCl1FKEMWAMBYgg27RXt2tanN4y+OfjOzstB+FUOteDvD+mWPiTxZ4wMlzJeQyW5uP3VoAgFqA8hZzMgZ9wK/Jmvftc/Zw+Hvib4iweL9R8CeDr/xXasjw6zc6Nby38TJ9wrOyFwV7HPHapvHHwA8CfE3xTp2ueI/BfhTX9a0jH2G/wBR0mC6ubPDbh5cjqWTDcjB4PNJL3VF/wBaW0/y00sruxbleTl6/i0/03111SR8X/s6+GNO+JXw5/ZIsNZSz1vTLXVfESxR+QUtJo7eK8WACJi37tQkZVGLbdicnGa9A8e+CPDOm/HP9pTw9c6nF4E8K+IPh3pN3q1/ZoIY7KWY6pbyXpUYG8RRxhjxkRjJ4zX1Fpvwz8N6N/Zn2Tw/olr/AGLJNNp3k2MSfYHm3ec0WF/dtJvfcVwW3HOcmrLeDNHbWr7UjpWmnUdTtksry6NqnnXcCFykUj43OimSQhSSB5jYHzGh689/tX/FJfoZ0U4W12t+Dv8A5nzV8E9Tm+GH7QHw+8MeJ/DPwu1HU9V0O8t/DvifwYWtpVs4Y4nkWeyYHyoHCx4dJpU3hRhcg19L6t4V0vW9Tsb+802wu77SWeSxuZrdJJbNnXaxiYjKErwSpGRxXPfDP9nfwB8FtQvLvwf4H8I+FbrUBtuptI0e3spLgZzh2jRSwzzg12VVUk5rXfX82/6272CEeXTp/wAC39bn4k3PwI8Ja7/wSB+NHjy90S1uvGGiePriHTtVlLNcWEf261BSI5+RT5r5C4DFsnJxX0L4r+BPhT4Df8FDv2ONQ8JaPBouoeLNM1J9bu4GbztXkFijGW4ckmSRmlkLO2WbdyTgV+gC/s7/AA/XwJf+Fh4G8HDwzqtwbu90gaLbfYLyYsrGWSDZ5buWVTuYE5UHPFaGo/CbwrrGv6Fqt34Z8P3WqeF0aPRrybToXuNIVlCsLdyu6EFQAQhGQAKmgvZqC/l5P/JYcsv/AAJ6/mVW/eRkur5//JpKS/8AAdV89D8addtvtv8AwS5t4S80Yl/aGdC8UhjkTKSDKspBU+hByK+qfFvwC8Ifssf8FoPgJbfD3Q7TwnaeKvD2rw6tb2AKRXwit52UuueW3KhLdWKKTkivtdv2afhw/hgaIfh/4JOjLqP9sCwOhWv2UXv/AD9eXs2+dyf3mN3vW3q3wy8N69420zxLfeH9EvPEeiJJFp2qz2EUl7YJICrrDMVLxhgSCFIyCc9aqh+79n/d38/3Kp/mub/ghVvPnT6p28m6s6l/ukl8j4S/4Kr/APCPXX/BQH9m+2+Kz2ifBtzqD3v9pPs0tr8Rny/tBPybd3kZ3/LtL5+XdXlXwd8afC/4Qft5/tP+IvAlgNZ+HWk/DNrxbTQbtobW7VVg86OyniPyRbgyh4jhCG2cKK/T/wCI3wr8MfGHw6dI8W+HdD8T6UZBKbPVrCK8g3jo2yRWXIycHGeaqeH/AIGeCfCerS3+l+DvC2m309gmlS3NppMEMslmgAS2ZlQEwqAAIydowOKyhBxhy/8AXz586e/ezdv8KXbWpy5pKX+D/wAkkpadr2+/10/GzxNeaRpFx+zF4l8I6J8DvBCal4x02exsPBt5Pf8Aie2t5ZV3Jqd453PjJQq4J3bhnCsK+lf2OfC/w3+F3/BX39oy1v8ARvCmmatpws7vwpYtbW8N4GNo8t0bBCA29oyzP5XJBJPGTX3Ho/7IHwm8PW8cVj8MPh7ZxQ38eqxpD4ds0WO7jz5dwoEfEq7m2uPmXJwRmt/U/gt4O1r4i2XjC88KeG7rxZpqGK01qbTIX1C2QgrtScr5ijDMMBujH1NabT5o6fH525oxXzs4/Py2IteLjL+7/wCStv7mn8j8R/2k/F/hf4h/sR6l8QPCHhT4LeA01HxN9ss4hqt1rHxD89br55JbqRt8Sk/OQSwwy4wWU1+nP/BUK8k1D/glP8QZ5nMk0/hu3kkc9WYvCSfzr1+f9j74S3T6w0vwv+Hkp8QsG1Tf4cs2/tIhxIDNmP8AeYcB/mz8wB6812PifwJonjbwnPoGs6NpWr6FdRCCfTr20jntJoxjCNE4KFRgcEY4FZVafPhp0I6c1reXu2/y7GkJtYiNd9L/AD965+Z9h8KPD/xr/wCCh/7Mvh7xTpsWs6FdfBG1kubCct9nu9kc7qsqAgSIGCttbK5VSRxXqn/BJzwhYfCP9sn9q7wR4eh/s7wpoPiHTptO02NiYbNpUuS+wHoCFQfRFHavsyz+DXhDTvFGl63b+FPDcGtaHYjS9O1CPTIVutPtACBbwyBd0cWCfkUheTxVnw58MvDfg7xJrGs6R4f0TStX8ROkuq31nYRQXOpumQjTyKoaUrubBcnG44611uovaymtmpr5yqKafySsc6g/Z8j3Xs7eXJTUH97TfzPzI+MN/wCKNL/aA/4KDT+Djcpr0fh/RDG9sWEyQ/Zk+0MhXkMIPNIxzkV538BvAenNd/s56hoXjX9mHwvq0Gr6fNpz+ELHU28Wat8oE9pf7PNJZ1Lq5mRVD8BlBwf170X4ZeG/Dni7V/EGn+HtDsNe8QCMapqVtYRRXepCMbYxPKqh5No4G4nA6Vh+C/2ZPhv8OPGU3iLw98P/AAVoXiC43+bqen6JbW13Jv8Av5lRA/zd+ee9Y4b91yX+yo/+SuT/ABv8vM1rfvFPzcv/ACZRWvpy/j0Pyj/ay8YeDfjf4a/aU1/SPBfwW8M3Ol6teaZfX3i7UrnVfGeqXcHyiXT4nb/RFbbhQh2AI3ykIa6xfhv4d+LPxi/YBn8T6Do3iCXxZ4VuYtbfUbKO5OrpBYReStxvB80Jk7d+cZOOtfpbrH7Lnwz8ReK9R13UPh54Hvtb1iB7W/v7jQrWW5vYnXY8csjIWdWX5SGJBHB4rRt/gX4Js7vw3PF4O8LRT+Domg0CRNJgV9DjZQrJakJmBSoAIj2ggAUqEVDkv9lxb/7dUk/v5vRbBWbnz26qS+9xa+63z3NfQfBej+Fr28udM0nTdOuNRMZu5ba1SJ7oouxDIygF9qgKM5wOBWnRRTu3uCVtgooooAKKKKACiiigAooooAKKKKACiiigAooooAKKKKACiiigAooooAKKKKACiiigAooooAKKKKACiiigAooooAKKKKACiiigAooooAKKKKACiiigAooooAKKKKACiiigAooooAKKKKACiiigAooooAKKKKACiiigAooooAKKKKACiiigAooooAKKKKACiiigAooooAKKKKACiiigAooooAKKKKACiiigAooooAKKKKACiiigAopHcRIWYhVUZJJwAKzfB/jTR/iF4cttY0DVtN1zSL0Fre+0+6S5tpwGKkpIhKthgQcHqCKANOiiigAooooAKKKa0yo4UsoZugJ5NADqKxdM+I/h7W/GepeHLPXtGu/EOjRxzahpcN7FJe2KSAGNpYQ2+MMCCpYAEHitqjpcNnZhRRRQAUUUUAFFFFABRRRQAUU0TKZCm5dw5K55FOoAKKKKACiiigAooooAKKKKACiiigAoqHUNRg0iwnurqeG2tbaNpZppXCRxIoyzMx4AABJJ6Yri/gh+0z4C/aTtdTn8B+KdK8U2+jTi2vJrBzJHDIQSF3YwcgE8EjFC1dkD01Z3VFFFABRRRQAUUZrE8C/Erw78UdLmvvDOv6L4isra4e0muNMvoruKKZMb4maNiA65GVJyMjIo8gNuiiuf+KfxU8PfBLwBqXinxXqtronh/R4xLeXtwT5cKlgo6AkksygAAkkgAc0m0ldjScnZbnQUVS8N+I7Hxf4esdW0y5ivdN1O3ju7W4iOUnidQyOPYqQfxq7VNNOzJTTV1sFFGa5r4q/GHwz8EPh5qPivxXrNnovh7SVVru+nJMcQZgi/dBJJZlAABJJFJtJXZSTbsjpaKq6Hrdp4l0W01GwuI7uxv4EubaeM5SaN1DKynuCCCPrVqm007MlNNXWwUUZrL8IeNtG+IWiLqegavpmuaa8kkS3en3SXMDPG5R1DoSuVZWUjPBBB5FIZqUUUUAFFFFABRRRQAUUUUAFFFFABRRRQAUUUUAFFFFABRRRQAUUUUAFFFFABRRRQAUUUUAFFFFABRRRQAUUUUAFFFFABRRRQAUUUUAFFFFABRRRQAUUUUAFFFFABRRRQAUUUUAFFFFABXx1/wUj/AOCwGhf8E8PiT4b8Kz+D9R8W6rrVkNUufKvlso7K0aV4lZWKP5khaKX5MKAFGW5r7Fryn9o39iD4Vftbajo958RPBmneJbvQSfsU8ss0EkakglGaJ0Lx5Gdj7lyTxyaAO6+GXxB0/wCLXw28P+KtJ87+yvE2mW2rWXnJsk8meJZY9y5OG2uMjPBrI/aD8YXXgL4O65q1n4h8L+E7i0hBXWPERP8AZun5ZVMkoDpuwCdq7ly20Z5rrNN0230bToLOzt4bW0tY1hgghQJHCigBVVRwFAAAA4AFcR+0l8DV/aD+Gg0NdTbRb6z1Gy1jT74W63K213aXEdxCzxMQJI98YDJuXKkgEHkJ66en3de3TzXqio73f9fn+T9GeKfs5ftNape/tP6b4GPj3UfibofiHQL3Vk1S98MHSDY3FtNbqY4ZkhiguIXS4PCh3Qou5yHFd/8Atb/Ebxh4Q8Y/CbRPB+qWWkz+NfFEukX091aLcqluNNvLgsFODuVoVYYIyVAJwTSeDv2avF8v7QPh74i+M/Hun69qWgaRqGjx6dpegHTdPCXT27+YivczSCQeR8xZ3DZXaI9p39h8Wvgp/wALS8efDvW/7S+w/wDCA65JrXk/Z/N+3b7G5tPL3bh5ePtO/dhvuYxzkaRs+VS+f/gT/SxD+049nb15f8zxHwdf/F7xp8aPiJ8Lf+Fq/ZH8D2un6ra+JF8OWTajeC+WUx280RX7Nsja3k3Mkau4kUAoVLNymq/t+63rfw8+Eenajr8HgXV/G2j32p69r1hoU2qtb/YpktXjs7YJKFaWZ9weZWREQghmZcfSPgr4D/8ACH/tF+PPH/8Aav2j/hN9P0qw+wfZtn2L7ELgb/M3nfv+0dNq7dnU544DQv2ItR+H/gnwN/wivjSPSvGngOK/tLXWLjRxc2eoWl5cefNa3Nr5ys0e5YiCkyMGiBDYJU5q90nt177St+Nm+6XV719t22tp90b/APt1u3SyOb+DP7WOt+KPAPxSs/8AhL9Fuj4Jtre60rxv4l0WfRdPliuEf/j8iZYVLwvE+4xbEZXj4Uk1nfB39qXVrb9obw74Vi+I158UdF8XaXqNw1/ceFf7Mi066too5k+zXEcMcE0LoZAULSSKQh3kE16X4n/ZY8RfFX4N+I9A8b/ECTWdZ12+tdRtryy0hLTT9FltZYprdYLRpJS0fmRKziWZzJlvmUEAV9N/Ze8a+JfjJ4T8beNviFpus33hKDULWDT9J8OtpthIl1AIi5V7qZ/NBAJYuVIAVVT5mZVObVx7W/8AJX+N/Jd+Z9Fsl6/hdfha/Xyt38f8L/Gr4y2n7HPgv446p46sLrdb6fd6n4ZTRLdbLULOeeKKRvOCiZLko5kUoyxA4QoQN56v9pP9oDxD4P8Aj3q2i6z8SP8AhTPhqzsbWbw/qlz4ejutM16d1k84XV7OjQxJG4jXyleGQg7g5BGO9/4Y7/4wj0v4Of8ACRf8g3TLPTv7X+wf6z7PLHJv8jzON3l4x5hxnqcVf+KvwY+JHiPxVrM/hb4l6bpGh+IbVLa60vWvDP8Aa62BCGNns2W4gCb1OWWZZl3c4xlS6rfN7m121939b3t2HH4nfbT8/wCu3qej+G5bjX/A1i95c6dc3V5Yxma408lrSZ2jG54ckkxkklck8EcnrXwP+1J4w8df8Ewvgp8Hfhl4Y8Xv4X8DO19Br/xJl8JtrDaKfMaWFfsil0BYysPmznbkYwRX3P8ABf4Vaf8AAz4SeG/BukyXEum+GNOg022kuGDSyJEgQMxAAycZ4AHoAK8//am/Zt8a/GPX/Duu+Avi14h+GWt+HzIjxx2o1PSdUicYK3Nk7pHIw52uTlcnjIUq62lT3Nr6+aV7dn16fjsKj8Fpb2/H8dfv/U+VPiF+3x8SfA//AATP8f8AxA0j4p/Dj4ha34b1mytdI8R+H7PZLNbTXMKMt/Yyx7Lecq5wq5GGHcZNrXv2i/2mvBX7Y3gr4d3XjLwDeL8adBuL7SP+JIRB4PkijaVmGCHumVEIHmMFdmztQDaer1H/AII0W+tfsx/E/wAHXvxDmn8YfFvV7TWNd8Sf2DFFbq9vcCZUhsIpURFPzg/vM5fPYCvYvGn7EH/CX/tbfCP4pf8ACT/Z/wDhVmk3Wl/2Z/Z2/wDtTz4Hh3+d5o8rbvzjY+cYyOtVGzqLn2vr6eyd9rf8vEtUk+qtdsl3UXy9E7evOnHv9m+jbVtGfJMP/BU34sfs9fAf40aX4zl8P+NfiN8P/GFr4Q0PU0sxZ22oS3QlKSTRR7Vwiwu2BtzkKTxuPpdj+0Z8bf2Mf2qfhh4O+L3jPQPiT4b+Li3MUd3ZaCml3OgXkSq3lIIziaHLou5xuIJPy7fm6zxR/wAEk/D/AMQ7L452niLxPd3tr8Y9bttetza2Itp/DlxBvMbI5kcTcvzlUyMjHORY+D3/AATb8TW/x68MfED4wfGDUvi7qXgK2lt/DNq+g2+kW2nmRdjyyLEzedJtx8zYOQCS2BiKLlaLn8Vo37fw0mku/Pd39PetoOolaSjt71u9+Z8rv/Ly209dNU14Rpn7af7Rnxt/Zr8aftJeEvFXhHQfAvhS8u20/wAD3OhJc/2rYWzqJJJ7zd5qS7d3yphSQemRXI/tOeJ/Gv7Tv7eP7JnjPwx4yg8Kt8QdDn1Lw8s+hxXh8Mu1orXAcFwLneSQN23b2zXuWtf8Ec9ctNF8SeBvCnxw8QeFfgp4u1B7/UvB0WhW1xMokZWlhhvnbzI422qANpGBhg+Tn0H9pH/gmknxJu/hLqnw58bXHwv8Q/Bq3aw0C8XSYtWhW2aJIijQysqltqfeJP3myDkEOkkpUpvaMoPXVr3WptvrdtNb7OyWzdS79pFfaUvT4k4K3kk09Oure54Emj/FHxR/wVt/aF0D4ZeJdB8Ka/eeGdElude1Kw+2m2WO1gAEVufkLO7jLPkIFPysSMfQ/wDwSn/ar8W/tW/s76td+O1sH8WeD/Ed54Z1G6sohFDfPAI280KOASJADgAErkAZxXUfC/8AYzf4d/tu+P8A4zSeJhfyeOtHstKfSRpvkizNukKmTzvNbfu8rO3YuN3U45f+wx+xt/wxb4N8YaT/AMJH/wAJL/wlfiq88Teb/Z/2P7L9oWJfI2+ZJv2+X9/Izn7oxToe7BQl/I/lP2itbteDl5fMKzc5uS7wt6Kkk797SVu/bQ+Y/A3x2/aX/ae+I37Q+jeC/H/hfwtZ/CvxRcWmlS3egw3c10kbzeXZcgKiFY/mmYO/3cAcmrml/wDBSTxf8aP+Cffw+8fQeOvhj8ItZ1/UZ9M17VtcjluXj8hyjtptkFb7RK3yvsdsKCRzkEcP+zf+yR8Svi78c/2qR4V+JHiX4Qtq/jq5t55f7CjvrbWrGR7jJjWbYUcZO2aFwcMRzwR7brP/AASFsfCvgP4N2nw38dXfg7xH8GJrufTtVvtJi1aLUHuyGuHmt2dF3MwypDfIDgDIBEU1+7ipbNUvW9k5PdaPRNXTvra++la3tp8nSVX0tdqK6631Ts1bqlovC/BH/BUj4kn4G/tGacnjDTvGWs/CfTLLUvD/AIzHhr+yJNTSaRFYzWMi7Vxu+X5ACMkZBU17NafGb47+DP2OL34m+K/ib8I9Bu/GFhpNzoq69A1np3hiOSNmmYyRoXvLqVWjIjICB1bb8owVv/8AgkLqOvt8brrV/ixdaxq3xs0iz069vrjw9Gr2MsDRs0oSOZUdW2YWMBNi7RucjJ9F/aS/4J6J8f8A9l34e+AofF8+ha18NJ9NvtI1tdNS5ia5s4fKV5bV32ujAk7C/BxywBBevI77tQX3OXO1t05drX+8zV/aWXw++/whyrr15l1S9N/mv9nX/gpJ46l+N3jb4fT/ABJ0z4uadF4Dv/FOkeK08Jnw/La3cKO3kiBgEmiGOH2kEgDccMK5v/hvb9pfw1+zl8D/AIyT+J/Beq6P461iLw5ceGn0lYjfSyyzItzLcqu6MnyiAsQVUG3PmHNfRtj/AMExfEmtftCX3xL8XfFyXxR4h1XwXeeELoHw3FaQp56uqywrHNhI0D58shmZtxMg3YC6p/wSr/tP9j/4R/Cj/hO9n/CrPEVvr/8Aan9iZ/tTypZ5PK8nz/3WfOxu3vjb0OeKj8Scu8Pu5583/kjj+G7VyXfVLtP7+SHL/wCTp+muyevAaF+2v8Xf2Uf2uPiH4J+L3iHQPH2i6P8AD65+IFnNpWkrpr2ghYj7KgGSVJVxmQu33DuHK14h4R/4LD/EOx03w98QLz4kaJ4mbV7+H+1PhnZ+Ab+3TTLF5CGaDVDFiWZEKsQzlCRwW6H7n+IH7AenfE79szUfinrGtLdaTq/gWbwPeeHWsOJoZZHd5ftHmcZVyu3y/fd2rz/4Z/8ABNP4j/DSw0Dwja/tIeM4vhV4ZvVnsdDsdJhsdV+zq25LR9TjcSNEMkEBBlTgAYXCw7tOLqbK33Kcr39Y8utm/NPeqtuSSj1v6/DG1u1pc3ZeTW3inwx8E+Pp/wDgvp41Mfj+1R4fDEWp3ch0CI/a9INxasumgb/kcK0Y+0DLHyydvzccV4o/4LD+OfiHf+M/F3h34n6F4OtvDmo3Fv4d8CSeA73Vv+EmghI2tc6ikZWB5cEAI4C5+bb96vtXxl+wZqVx+3lpvxy8J+P5/DF3Np0Oj+ItIl0eO/i1yzjdWMSyu6tAWEaAsoYgoCCOQeIm/wCCYfjfwDqnizTPhZ8evEHw38AeNNSk1W+0K30KC6urGaY5n+xXpkWS3DYAG1cpgHJNTT5lTpw25VNejc7p+a5X2evNeN3cuTTnKT1b5PmlG0kl0fN6aWSeljgfGn7cPxm+OP7Tvwk8G/DTUtG8HW/xS+G8fiOddX09bn+xLlnmMsoBXfIyLEUWMlVLEFuAQfu/wTp+p6T4N0m11rUE1bWLaziivr5IRCt5OqASShF4QMwJ2jgZxXiMf7CItv2y/AnxaXxjqV2PBHhJ/C32DULc3d3qe4yn7TLdmQHefNyR5ZyQeRnA6D9mjxj4/wDG3xT+Lk/iqK7s/C2m+JF0rwnb3OnfZHe2hgTzp1YqGljkmZtrkkEIdpxW14u8Y7+9L5KbSSfpJfLfayxfNzcz291L19nFyb/7ejL9N2385y/Gz9oP9oL9ub48fCzwJ488OeDtH8Cx6dPp+oXuhRX81mZrZZPJRSAG8xy2ZJN+xV4QluOB0D/grn8SfE/7LvhXSLey8Ow/GfxF8Qm+G76hJAx023lQxBr3ygeTiaMbc7d25sYwlX/C/wCzh8Rfib/wU4/acvvBnjvxD8J9Qlj0ZLPWk0WLULLUoWtFWaMxTgI5UquHRg0ZzzyQfV4v+CN3hLT/ANkrRvh7Y+K9cs/FOg6//wAJdaeMlhRrxdYOM3LRE7WQhVXyy2cIvzkjccaH8GnKeqcY3XVvnV2n09zmW+ra00uaT/izS3UpW7Jcjtddfes9np9xyP8Aw0N8fPgb+0RrPwL8U+M9F8b+IvFHgm98Q+DvFVtoEOnzW97CkrCCe2UtCyZiYZxn7vPPHk3jr/gr/wDEtvgd8B/EXhya2urp9Mm174lBbCF2FlbajBYysEI/dBnMv3ACNwxwtfWn7Nn/AAT91n4eftCT/Fn4n/Ey/wDiz8QU0v8AsXTryTRbfSLXS7QkllS3hLLvOW+bI4duCTmuK+CP/BG7w98Ir/42faPFMus6d8WtPu9JsbRtM8n/AIRi0uJZpWijPnMJcPJGRhY+Ys4+bh3lFqT96yv6uLnyx/7eUoqT293qNKLutldL5SUVOXX4WpOP+Lbtw3xR/wCCofjD4ceIP2mfGdnJZaz4D+Fz6b4e8MWP2ePybnVrjYsryyqPMZY3ySu4cNgYOCOa/Zl/4KZeNl/aL+Hmiar8TtN+L2lfEK7Fhq1ha+Ar3w+/hCeRV8owzyRItzCJDtYv82OcV7x8E/8Agkv4X+H37DXif4KeJvEF74si8YX0upalriWv2O6e4LRmKVVZ5cNH5UeCzMCVORg4rZ+CP7FHxV8GfEHwzf8Ajf8AaJ8U+MvD3g6Ly9P0Sx0eLRI73A2p9ukikZroKAvDAZK5J+Zg2lJRjNJu6XLr3VveXXVyvrba1mrGdVynTbWjfN8tlF+llffe907nm/7Avx0+PP7WPxZ8XX+o+MfD9j4D+HnjzVNGubRdIia+1uBF2xW+8KBCkWUfzBl3LEEgDnsP22/2n/iCn7VHw6+Avws1TSvC3iXxxZXOr6j4kv7Bb/8AseziWTBht2ISSRjFJ97I4HAyWHo37FH7HP8Awx5pvj63/wCEi/4SL/hOPFl54o3f2f8AZPsX2jb+4x5km/bt+/8ALnP3RWV+2N+wxN+0j468H+OvCfjW++G/xL8CGVNJ1630+PUY/JlGJIZbeQhJFILYyeNzZDA4rPRKlF6pKPN3vya6+U9Xrqr23103dRrRu/L2Xvaaf4dFpo7X2Pk/4zftHfFzxd8EP2oPgh4z8V6RL4u+F3h1tWPiWw0VYl8R6TJbF5YJIN2yCV1kQb4/u7jgHblvov8A4I5/DnWfAf7Cngq41XW9O1a313TLW/06G10aLT2063eJSIJHQk3DhixMrYJ3dKp+A/8Agl0dF+FXxjg8SfELUPF3xI+NmmS6Zrfi260qOBYEMLRRiKzjcKqIGyVDjO1QNoAA96/Zm+DH/DOn7Pvg7wJ/aX9sf8InpMGl/bvs/wBn+1eUgXf5e59mcdNxx6mqh7qd/iajd9G1zXt2+z0Wt2t2Zz96at8KcrLqr8v5vm76WT2R8h+Af2m/jj8Vv2nvjZZW3jDQdE+HnwV8TJdX+/SIri/v9OjDyPp8XygLvjikzMxLglNuPmNeAWX/AAWW+JGq+ER8TLf4haDJdvf5j+FEXgS+kSSx8/Z/yFxHt8/ysvw+zj1+Sv0B/Z8/Ypt/gj8VvjP4iu9cTxBafGHVF1CbT30/yF09AkiNCX8xvNDCQ87U6dOa8m8G/wDBLvx/8LtDh8E+Ev2i/GHhn4SWupG9t9CsdIgj1e0iMpla2j1QOJFQuSfudCQQQTnPD80VBS6Rhq9fesue/fy0a3as3d3Oz5nbTml/4Dd8tv11T2WyssnWf2pPjH+1d+3PrPw6+EnibQfh/wCG/h9ollrGq3eqaKupy6tPdRRyx2zIWBSPEgBKMjDYxycgV5DqH/BSv416d+wt8c/Gl9q+lWXjLwH8Rk8N2QgsIJbext/OiR4RujHmgb2Ad13HAPFdj+2npng34A/ty/8ACYJ42+MXwY1jWtBhs9T8R6b4YGu6N4mhQIqwI4WZ0u1VAC0kRxsVupy2H+wl/wAE+m/aN/YT+M3hPxNB4q8J6B8SPG9xrXhu71OJxqi20bRNbXUscmGfcU53EFxuIIyGqqesVKCulq/NqrHS/nG6Sb2vpa7b0jNKfW33ezfT/Fq3r09F7v8AtS/tVeNfhj+2f+zV4N0fUoLfQPiQ16Neha0ika58qOFk2uVLJy7fdI6188/sOfF7Xfgr/wAE3/H+r+HfFfw+8E6g/wATNTtjrHjC4kSzs42aPe0UaKxnuMD5IzgHkk8YPuHg/wD4JZeLB8Y/hL458a/HDWPHetfCyebyhd6DHbxXNs0apHCixzfu2GCXlfzXkJXJG0VmS/8ABG7yv2drTwhafEma11/RfH0vj/R9bGgo8VpctjEMtq8zLKox1LjJx8uMgiSTfnzL5OpTa7bRUtLra19VfK0vdv05X81Con33k49Ot2tGl57+zP8A8FHvHV/8ZPiJ8Pbr4iaf8WLLTfAd74r0XxcvhM+H5ormFf8AVG2YBJIgTw4Ug7ep5Az9L/aJ+PfxD/4JieJvjb4w8T+Dr7RLrwnLFY+Hm8O21ytzcrfRx/bLkyIY2yqzJ5AXYFZCcsCa910P/gmT4hu/2htc+Jfiv4szeKNf8R+B7vwfdhvDkdpFEZsgTxLHNhI0XAERBJO4mTLcdHY/8E7fsX/BNZv2ef8AhMN27TX07/hIP7Kxjdcmff8AZvO99uPN989qzrKbpVOX4uVJet6l+yvyuH4PdXWtJpVoN/De79LU/XqpfitE7Pzf9pn4t/FL4d/si+Dfitpfxj8O/Drw7D4O06W902Xwnb6hNqmoyRBwluCyhS+5EWNQFXaTwAcS+Gvjb8fPht/wTpt/GPxJ8cfDXwj4/wDEOoRzJfeK4PsFtoNhKq7YvJgjPn3mFZ1jIH+swx+Qg2f2l/8AglT4s+PFz8Jv7L+M58M2nwk0mztdNs5fCcWp2819AoX7e0clwI95CoArq+zbw3JrW+Kf/BN/x/8AHn4K6Po3jn46XHiPxr4U8VQ+KPD/AIk/4RC0tYrFoowqwSWSSeXMu7c2SwOWAIIGD01XFyquOzlp/h5unm1ra8bRXKtWZUVJQpqe6jr/AIuXZ9NH1s7yd3ojxj9mr9uD4kfGP41+OvgxB8WdM8eLd+DZtd0Px3/whR0mWznV1V4jZPsSaLaxAYdcD5icgeOfsdeKPG3wU/4IYfEHxpb6/ouqaKlx5Wk6BqHh63uobGU6lFHcPK0u9bgSK/COmE28ZPT7i+En/BPDXvCn7YTfGTxh8T5vG2t3nhaTw3fWp0GPT4n3SBg8JjlIijVQFEZVmJ3MZCTgcL4Y/wCCQWr+FP2SviR8E4Pi5NN4E8XTRTaFb3HhqJpvDbLdrcSFpFmVrnfsVfmKAbdwAyQeeSlaVt3G3zU2/L7L009dVc6KLj7Wm5/DGab9HFX77NO67bKzsZmoftV/Fr9oj4/eDfgp8M/E+h/D6+tfh9Y+LvEXiW40SLUZS8scG2C3tmKwquZUzx/EcY24bgfiD/wU/wDi14S/Yq+MbXlxo1n8Vvgz4vtPDd1qtnYo1nqkMtz5YmEMgZVZgr5A4HykAZxXv3xS/wCCaOr3vjbwd43+GvxRvvhr8RfDHhmDwpd6xHocGp22sWcSKo8y1mfarZXIO5sYUclQ1c/rv/BHbTtW/Y78YfDf/hPdQm8U/EHXofEfiLxfe6Ys8uoXaTLKcW6yoEQ4OF8w7S7HJziumTi6ja25vv8A3qaa7JU7prr2ZzYdNUoKe9l/6baafdudmnr6rYx0/aP+PfwF/bn+FHh34geIvCXiXwb8a1uo4NM0zTBbHw3LHEHCJMf3kwBeMF3J3Df8icV9Pfsm/s6Rfsr/AAYtvB8Gqya1Hb317ffantxAWNzdSXBXaGb7pkK5zziuU+OP7Fn/AAub4/fBfxz/AMJL/Zv/AAqGe5m+xf2d539redHHHjzPNXyseXn7r5z2xXutQrKHneS/7dunH+nr3KSel+0W/wDFqn+Hy10CiiipKCiiigAooooAKKKKACiiigAooooAKKKKACiiigAooooAKKKKACiiigAooooAKKKKACiiigAooooAKKKKACiiigAooooAKKKKACiiigAooooAKKKKACiiigAooooAKKKKACiiigAooooAKKKKACiiigAooooAKKKKACiiigAooooAKKKKACiiigAooooAKKKKACiiigAooooAKKKKACiiigAooooAKKKKACiiigAooooAKKKKACiiigAooooAKKKKACiiigAooooAKKKKACiiigAooooAKKKKACiiigAooooAKKKKACiiigAooooAKKKKACiiigAooooAKKKKACiiigAooooAKKKKACiiigAooooAKKKKACiiigAooooAKKKKACiiigAooooAKKKKACiiigAooooAKKKKACiiigAooooAKKKKACiiigAooooAKKKKACiiigAooooAKKKKACiiigAooooAKKKKACiiigAooooAKKKKACiiigAooooAKKKKACiiigAooooAKKKKACiiigAooooAKKKKACiiigAooooAKKKKACiiigAooooAKKKKACiiigAooooAKKKKACiiigAooooAKKKKACiiigAooooAKKKKACiiigAooooAKKKKACiiigAooooAKKKKACiiigAooooAKKKKACiiigAooooAKKKKACiiigAooooAKKKKACiiigAooooAKKKKACiiigAr5i/4KU/CP7J+zx8RPiHpvi74k6B4h0Pw/LcWS6N4x1LTrKKSJCVb7NDMsRPqSvPevp2vK/23/hxrXxf/AGRPiJ4X8O2f9oa7ruh3FnY23nJF58rrhV3yMqLn1Yge9OKTkrmlJrnV9jJ0/wABS/sq+Epb7wpZfE74l6xr8tvaR2Gq+LbvU44G+Y+a0t7M620QyS7oCThRtY4FZGq/tvX3gLwN8TpvF/gltE8WfDDw+viW60m11db211KzdJjG8F15aHlreVGDxKVKjggg1o/tk/DzxX428MeDBomn65r+iaTq63HiXw/o2sjSb3W7P7NKixpOZYVISdopGjaVFkVCCT0Pgupfse+K9U0X4+yeGvhTaeBrL4gfDiHRdE0sahZNeXt+rX24XbpK0YmIli+YyOm0p+8JDKpdyk0/P5WjdduunXe3pnRilCLlvaN/O8knf0WvTue6ap+174h8N+ErK/1T4bX1rqfi3UYNN8HaKmrwyX+tvJFJKWuBtCWaxxxtI+Xk2oD/ABDZUngz9rvVj8dbH4eeNfA7eENbn8P3viOe6j1Zb/Tlt7eSCPMUwiQyZMzbtyRshi5Uq6MZP2lPhtr17YfDDxL4eGkz+Jvh7rCXltpWpXws4tYEtlNaTWyTYYLMY5mZDggsgB4JI8uuD4t+Mv7fugWni7w/B4Rtb74Z69aRadFqEd/d2yS3dhG800kY8sFzgIilsCMktliquXxuNLV+/ZP+7Tco6+qV/wAkhU/4cXU00i36uaT08lt+bZ3dp+2/rA8Oaf42vvhxqOn/AAo1SeFLfxBJqcZv47eaQRw3s1hs3R2rFo23eaZFRwzRqAcL8NfjZ8SNf/br+IPg++0bTD4O0XTNKuLcjVVL2KTNfgXCqLcNI03kxho2kxHsBDNuNeL/AA2/Ymi8LeHPD/gzUv2b9I1PW9Ke2sbzxbNrluNBvLeIqHvQguDeeayKWEJtwBIcb9o3177pngzxV4B/bl17xDB4an1jwl480HTNOl1S2vbdP7CnsWvmPnwyOsjpILlApiVyCDuAHNaJQT0d1rb7la+1vuWum+grycJX0dl/6Ur27/e9u2/P/wDBTzxg3gz4EeGppPE+qeD9MvPG+h2WrapYavLpMkFhLdqtxuuY3Ro08stubcMAZ7U/9m2f4QQ+LNS1D4ffGHWfiLqum6bLLPpsvxOu/EcUcOVzI1vJcyqp3BQH25G7APNbP7ffw88T/EP4WeFz4T8PT+KdS8PeM9F1+XTYLq2tpbi3tLtZpQr3Ekce7avALDJNa3gj4qeNfiFe3ul6r8GfFPgq2uLGbbqN/q+jXEO/bhY9trdyyZYng7doxyRXJFyjRquPxc0rd7ezhb1V76d79zZpOpBS2sr/APgUr/hbX0OA8If8FBNb8QfDHwT8Q774YX2l/Dfxc1hDLqz61E95pr3jxxRytaeWC1t50ioZPMD4O7ytuDXbeLv2m/EV78S9e8N/D7wC/jd/B5ij168m1mLS7e2nkiWZbSAsjma48p43IISNRIgMgJIHA3H7OnjJ/wDgmL4F+Hg0f/isNHsPDcN5p/2uD9y9peWclwPN3+WdiRSHhjnb8uSRnbttP8ffsz/GD4jXWhfD3UviJoHxB1SPxBZzaXqljaT6befZILWW3uVupov3R+zI6yReYRvYFOBnqrqEas4ReicrNa3+G3ytzO/dJXMqV3SjOXxO1127v1vZW7XZ0XiX9ra4lsfB1h4W8Fa3q/jTxtYS6nbaBqrf2M+l20OwTS30jq5hVJJI4/lSRmZxtDLlhXsv22LDQPAPji/8ZeHtT8MeIvh4YE1bQ45o72S5NxgWhs5V2rOtwx8uMkId4ZWVSKyPFHhb4meFfiH4G+KL+GbDxXr9v4euNA8UeH9CvY4HjE00NwktlJdvHHJ5TxlGEkke9W3LgjYeV8Z/sx+Of2hNJ+JfjC/0y38HeKfEqaGnhvRb+8juPsyaPdtewfbJIC8atPPI4YRNIETbhicisns76PW9tbe9Zcvf3bPrq32sOO6XTS3nor83bW/bZdyH4xfH/wCJMvxW+B+m+IPCGp/D2PX/ABxEhbT/ABCL+C/tvsN2zWt35ax7X3eW3lkSRnZkOStd5rX7Yev3g8Raz4U+G9/4q8DeEru5s9R1iPVora6vHtWKXRsbVlP2hYnWRCXki3NGwTfwTzHxDi+Kn7RPxC+Ed1N8MNQ8G6T4M8XQavrh1PWNPnlkAs7qIvbi3nkDwo0gBLbZG3piLAYr5yf2JY/hpe+KdHuf2f4Pibe6prOoalo/iSPXLW1s5Y7u5kuFjv1lnjmiMJlKEwwzbkRSPmJUJcyi0t7u33U7X8t+q6luzcX5RT/8CqN/P4e++x7l4x/bG1C5+IuieGfh/wCC38d3fiTwvH4q0+7Oqpp1j9meUIDNI0blFIZSCquxLAbMBmHRfti+JbPwv+yz4s1PWbTVZrO3sUe5t9L1WTTro5kQER3MeHQgnqOoBHQ1jfDv4Hal4E/aa0XU7XRrLTfCuk/DqHw5F9jmX7Pa3Ed2ri3jRj5mxYxwxXGABnPFbX7aXw61n4tfsu+MfDvh+z/tDWdVs1itbfzUi81hKjY3OyqOAepFOpb2V473nvvpOSj/AOSpPz36mEJT5nfpy/P3Itv/AMCbXlt0M74iftHa7o/xYl8B+BfBaeMNe0jSLbWtS+3a4ulwW1tNJLFEqSNHK8szGCXjaFGBukUsK9M8C+JZvGPg7TdUuNK1HQ7i/t0ml06/VVubJyOYpApZdynIO0kHHBIrwb9q34Zz+NfiJaz6n8E7z4hWlppypo+veG9dt9J13Srgs3mxPNJc2skcJ+RlaGV+d25OmfUv2X/C/izwX8A/DOmeONQbU/FNpabb6d7j7S+SzFEaYgGVkQqjSYG8oW70Qd4O+9/1fp+T9dSnpJJbW/Rf1+FtDg/ij+114r+Fdtr/AIjvvhXqkXw68LTyJqOsXGrwwai0EbBZLuCx2nzLcfM2WmjkZVysZyM+3X+rJaaHNfJiaOOBp1weJAF3DB96+DPjR+yV45+JHwY+I3hnVvhJqXjj4jaoNVOn+L9Z8S2tzpMiSSSNam0imuTJbSrEY0SMW8UaOmTIB8x+4r61ex+G0sMq7ZIdMZHXOcERYNZ1JOOFdT7SX6fo/I2ik68Y9G3+at99316HgHhL/goNrfiP4H6J8VZvhdqNl8Mb6whv9Q1M6xG1/p0TAeZOLPywZLaMk7pPMVyqM6xMuCe68bftMa7d/EbU/C/w58Fx+OtQ8OwW9xrVxca0mlWVkZ18yKBJTHIZbhosSbNqoFdNzruFfOnwGX4n/Fn/AIJoeCvhdY+AZJI/F3gu00oeLjqdmmkWen3FsqtK8Rl+1m4jiYr5awFGcA+YFJx7JY+FfGf7LXxg8Y6j4d8Dar8RPDXjgWN3GNL1Gxtr7TL23tI7NlmW7mhQwPHBCwdHZlbeCmMGunEwUK0oLRJu3f0fZLv1ehhQblTjJ7ta9ltt3vrfeyVzofAn7Z2l+Pda8AwRaLqGnweN7nVNJkN9Ikdxo+q2AYy2E0a7gXIiuMMrkfucjIYGsjw5+3/oOuaB8ZNSm0m7srX4RG4kZnmB/tu3i8+Pz4fl+VWuLW4hHX5oie9ch4p/Zj8f6b+ylf6jptlp158Xo/GD/ESx06K6QW0N69zvNgs77Fx9kZrdpDtDFmbvWV48/Yf8VwP8G9D0RY7nQjY2mjfES5aeNJJ4LW5i1FZSCwMnm3KXETBQxxeOemTWSTl7svdbsn5OST5lo7qMrx9LSdy21HVapXa7tRbVulnKLUlt7146Hql5+1H4r1/X20Pwf8Ov+Ei17RtPtLzxJFc66mn2mjTXEQlWyWcxOZ7kIQ23YihWQs67wKzdY/bvS50D4fz+GvBeta/qvj6+1DSI9Je5itLnS76ySQzwXBO5FCSRSK7hsAKWXflQ3B/Gj9ka0039o/xl4u1H4NzfF/S/G/2W6hfT9TtbW/0e5ht0t3heO6uLeNoHWKN1dHZgxcFMYNdT4D/Zv1fwpr/wPn0/wTo3hLT/AAzqGs6hrOm6Xfie30k3drMqDe5DSuzuocoCN5Y/d5pX5oX21Xy11Xpa+tn0d+6neFktf103063811Xpx/7U9548+LHx9+DfhDW/BVo2larp2p6tqOi2vje4s4bq7gS3Uq80MCM6QecWTIxIXBKpt5+ifhf8ZYviB478feHo9Nay/wCEA1K30tpTNvF2ZLKC6DAYG0AThcZP3c98VhfEr4a614g/a3+Fvie0svN0Pw5peu22o3PnRr9nkuVsxCNhYO27ypOVBA284yM8Wmi/Er4I/tH/ABEufD/gJfGOgfEq6s9TtdUTWbazj0W5js4rSSO7jkYSmLECOHgSRvmI25AqHKShZbvm+++n/kq0v5a7GrjGyk3sl+f9OxQ+G/7Rt/8AHf47fAzXrQ6joui+MvBuv6ncaOL1nhZ45tPWJpANquyBn2sVyN7Y6nP01Xyl+yr+zb43+HF9+z/JrujLZ/8ACE+CtY0nXCt3BILO7uJrJooxtcl9whkOU3AbeSMjPu37P/xk/wCF8eApvECaVNpVr/auoafarLL5huorW7lthcDgYWQxFgOflI5Na2tounN/6U7fp8grOPNptp+R4N4X+OnxEsP2z/jx4e8M+GtR8drpVzocttbahr39naXo8L6ajOkTukuJJH3NsjjwSCXZMgn0Xw7+2lp3ijRPAFzBoOpW114y8UT+Eb6wvJFiudAvreG6knSULuV9rWrKNrYYOrA4rk9K0z4l/Az9qH4w+K7T4eX/AIz8LeNbrTH06LStSsIL/wAy30+KF5CtzPEnklwyHc4dTGCEdXyOfu/2bPiP4a+FHh3xXBo2naz4+074i3HxCv8Aw1BqCRRulzHPbvYw3Mm2MyxwTKQ7bUZ425AYGpg/gvtaF++8U1bty8zb6WWuoVEto72f/pEmn68/KrabvR2uetfFv9obVdB8ceLvB3h7Qor/AF7RPCEXia3nn1AW0Unm3E8Gz/VPgoIWfJBDcLgdaX9hj4meL/i/+yx4I8ReNLO0h1fVtEsbs3UN2sx1MSW0Tm5dFijWFnZmJjUEL2Ncb4A8C/ED4l/tKeLvGHiTwf8A8IXpGv8AgK38P2EVxqdteXMM63V27LOIXZQ+Jlb5C6bSvzltyr2H7Dei+KPBH7NXhfwl4u8MXPhrVvBOnW3h8s97b3UOqrbQRxi7haF2IjfacLIEcY5UVpQ/hT5/idvwlUT/AA5NOqd9bXU1rc65Nl+sKb/9K5vR6eR5/wDH/wCLup/D6T9onUvBljqB8XeFPCtneG5vNcdrKIG0u5EmgtpEkijeLYWKhcTEKGI617R+zx4r8SeNvhBomp+KtMtNL1a7tIZGS2vvtazq0SMJSwjjCsxJJQLhfU15p41/Z38ReOvGH7QsPkxWNj8R/CtnoukXssqMkkws7uGQsisXUI0yZ3AZzxnFeifs0ah4hu/g1ott4o8LXnhDWNKt49Omsri9t7sS+VGqedHJA7qY3IJXdtfA5UVlQb/eKX9233yvb8Pv9LTUd1B9byv90OW/3O3ppa+viXgf48fEbTPjT8d9P8N+EtQ+IX/CP+K4DHDfeIBp9tYWx0iwf7PamRJAZGcyv5YVI8sSzqX59Nt/2ob7x78FvBfizwB4I1nxbL46hSe0tZriKwh01TGXZr2c7xEFIKfIshLYCgjmnfs9/DLXPA/xS+NGo6pZfZbPxZ4qi1LSpPOjf7VbrpVjbl8KxKfvYZFw4B+XOMEE/P3gn9mb4ieA/wBmz4JaLrnhPxJ4i0nwna6jD4o8IaH4igsbm4uJZt1pM0n2mGG4jjHmbomn2/vVOGK4FyfuRX92n/6T7y+9Wel77tblRScpN95/m7f8DW3kz2KX9uSLwv8ADjxtf+KPCl/o/inwFqFlpV/odvfRXS3Nxe+SLMwXJ8tDDKZ0HmSLHtKvuUbee6+EPxK8Z+Kde1DTPGXgE+Eri2hS5truz1dNV0+8RmZdnm+XE6TLgFkMeMMNrtzj58+E/wCzf4o+H2lfGme0+DHhC30bxlJpEmneDrq9tTBqVrHCUuopmUvF9qILHL/uzIVHmMoMh639kX4ReIfBHxm1LUNM8H+Kvhh8N/7GFqPDWu+IItT+0ah5ystxbQxXVzFaRJEHQhZF8wup2DZkkNZWfb8eW/56bvVpWS1M7v2fN1v+HNbt212WnVnrvxn+JPibwP8A2ZZ+E/A954z1bVXkVd18mn6dYKi5L3NyyuyA5AUJFIxOeAATVb9n/wCOzfGi18RWmoaJN4b8S+D9UOkazpj3K3SQTeTHOjxTKAJInimjZW2qeSCoIIrz39sD4a+JfFvxQ8IamPDXibx/4BsLG9g1TwzoeuR6ZNLeu0Bt7qRZbi3juIkRZ0Mby4BkDBGxwn7B/wACdX+Cms/FOa+8F6X4D0rxP4ig1LR9L0+4hmjjtxp9tExbyjgS+Yj7+OX3EF1IdlT1u5dn8nzJfirvro91sXPpb+tH+tu3o1qUfGXxg8a+Gv27PFOgeGNFvvF7t4G0q9tNKudYOn6VZyfbL9ZZ5JCsgjdwIk+SJ3faONqEr0Phv9tWLW/Avh3Urnwtf6Xq2peNV8C6rpVxdoz6Pe73SRhIgKzINoZSMbldT8pyK3PDnw11qw/bW8V+LpbLb4e1LwfpWlW1350Z8y5hu76SWPZu3jak0ZyVAO7gkg48c1n9mz4g6Z4K8ZalpmgW97run/F7/hPNG0ubUIYRrlknkjYsoLLE7p5u3zNuGUbsA5qKLa5Iy23f/g5Jr5wlJ97K6Fi7++6W+iXr7F2+6aS7Xdme4fED9oiPwH8U73ww2lPcvZ+ELzxZ9oFxsDrbyrGYNu04Lbs7s8Y6VQ8QftSw6B8CfAPjg6NLJH46vdCsktBcgNZnU5oYlYvt+byzMCRgbtvauB0fwH8Qfjh+0Lf+JfEfgt/A3h/Uvh/feG4I7nVLW8vYLia5jb98sDugyoYqEZwAvzMGbYOIHgP40+MPgZ8L/h7qHwxh0t/h74h8NNqmr/2/Zy22p2unXluXns41k8zBji8wrMEYAFVV2PF4RNygq3WUf/Afa1FL09zk+Wq6kTb5pOOyUvv9nBx9fe5/K+j6H0X4D+PcfjnS/iDcrpj23/CBaxd6Q6mfd9tNvBHNvB2jZu8zGOcY6muf+FP7XNv8Utc+F1lHoc1n/wALN8Fy+MYna6D/AGBI/sX7hhtG8n7YPmGP9WeOeOCPhj4qfCfxl8WPD2heAIvE2j/ELVLjW9I18a1bW1rp7XFpFDJDdxOwnykkRKmJHDh1BKYLDG8L/Bn4j/Avwr+z14m03wVL4r1fwF4FPhDxF4ettUtLe8tzNDYkywyyyLbyeXLZ7WHmjIfKk4qsNyuClV7Qv/idOfNp/wBfFG/RejLmnqlveX/gPNHl/wDJL+d/M9L8a/tm2/g7/hPM+H5rj/hBvFOj+GHxdhftj6h9i2zD5DtCfbVyvOfLPIzXZeOfjjb+BfjV4Q8Hz2ZYeK7DU783xnCJZJZLAzBlx827zxzkY2nrmvnnV/2cfif8Rfh78b7q98PaZoniTxR4s0fxR4esH1OOaC7FhDp0iwSTJnYzPaNEzFQAxJG5AGbpx4b+JH7QP7R/gPxJ4i+HVz4F8N6NoWu6Zepda1ZXl7FNdpaqpKwSOnlny2ClWY/KS6x/LuwvPk/vWv8A+Sf/ACd9vysbr2XMr7a/193f8yHxX/wUM13w38D9X+KqfCrU7r4Y21jJfabqY1iJb/UIhnyp3s/LJitpTt2yeY7hZFZolXcR6H45/aT1seOovCngXwWfGPiKHTINX1QXOqrplhpMExYRK9wY5C00myQrGsZ4jJZkBUn5k+P3/Czvhn/wTC8V/D1/Dvhy40Lwx4Rk0aLxhba7HPa6pYwoIY/Ltgvmi5kRVQqSEV2Yh3wFbvfjV+ybFN8dH8cal8J5Pi3pPiLQdPsJrSy1C3tdS0W5tRIAyrczwRSQyJIoOJN6NH91g3y9FRRT/d6xvo3u1Z2bXR7dEYa2V99dOm8dvvfVn0P8CPjTbfHLwVLqUenX2i6hp19PpWq6XebTPpl5A22WFipKsOjK6khkdWHWuL8QftQ+I9U+J3iDQvAnw8uPGdj4Lnjtdf1F9Yh08R3DRLMba0R1b7RMsbxlg7QoPMUeZnIGz+yT8L0+Ffwn+zDwTpHw9l1G+nv5NF0+8+1/Zw5CoZZclWnMapv2EoGGFZgMnh9C0/4h/s4/Fbx/Bo/gG88d6B471o+INM1Cx1SytBpdxLBDFNBercSo4iDRBxJAszbWI2blAaXpOz/l+XN7unp8T36JX7pX5fn/AOS66+b+FbdW7dvNf2UPjOfGvwR+A+oeJZ/F+sap4n8fa/a2VzPrVzby25jk1eSNbpCSZ40hg8sQvwpCdlxXrvhj9rXxJ8QNeur3w38NrzWvAun69P4eudWi1iJdRE0Fz9lmmSxKfNAkgckmZZNiFhGQRnzX4Hfsw/EPwp4B+BNrrukwf2r4P+IOva7r7QXUHlQW90NY8qdRvO5XN1BhFy6iT5gNrYp/E74GeMvE3j/Ubvw38I77wP8AEe71pJV8e+HvEsFnolzbLcAi5vIFuFnunMA2vDLaOC2QHAw41ahGoora/wD8iv8APqvwCp9qUf696f8AwOny1Pcfin8cfHnhnxXqVn4W+Fd74l0zQ4FnvdSvNah0uO7yhcx2SskhnkUAA7/JTJxvPOMjV/20Y/Evh/wD/wAK88M3XjTX/iRpDa9pdhcXi6ZDZ2CrGXnu5yshiAaaOPCpIxdsAEAkeb/E34C+JPEnxr8eHxV8MtU+K9p4guo28LXl34ggXw9olr9liT7Pc2UtwpQrOszs8VtM0gkXkkYEHwY+BnxH/Zs8F/BTxJb+EJPEeqeF/A//AAh/ibw3ZX9pFe24Z4ZlmtpJZVt5CkkTKyGVQVcFWJXBwp9ObZ2+V4ydv/AuWL00u3fqXNb8u/8AwY6/dzNa6vSy2I/BP7VXjDQfjb+0Xrer+G/ERbwB4b0G9PhOXVPNhgYJfPcvaOoaNhJGquGVFMmxVYKwIX33xZ+0TZaT4o+G+laRZ/27N8SJ3e1eK4EaWtjHbG4lvCcHcoBiUAYy0y8iuC/Zz+H/AI51P9pz4q+NPGvhePw9o3jTRtEs9LspLy3upYkt/twlgn8p2XzR5yM23Mf73arvsLVi/sZfsx+Mfhf8Rtam8WQW8OleBtObwd4AlWdJ2k0k3D3H2hgGJRin2OAq3P8AoWejCrdk7Psn+Duvm+VJXulzO+hM7Xbj5L74x1/7dtJ7WbsuuvR+LP2vvFPgAPr+vfCzVNG+HkWqR6ZLq11q8I1OASXK2yXbWAU4ti7Kd3neYEO7y+1O1r9rTxbrHxK8feF/BPwyl8UX3w+vLe3vZ7nXY9NtrlZbSG5AidonJmIlIEeNvyZaRNy5+c/Gn7Ifjrxx8DZvDup/CTUfEfxPtriCa98ba/4ktb+0vmS7jkkmsBJctLCzovyxmGBI1yASVCv9W/Af4a634M+NHxl1bUrL7Np/ivxDaX2lS+dG/wBqhTS7SBmwrEriWKRcOAflzjBBOavy28n/AO22/wDbuiY7r2kl00/N/wDA6s8w+K37YPjHxTpXwH8Q/DfRYZdF+IetCG7ttSv0s55T9ivHaxlBgl8sq8OWkQ5DQ7cEMTXrHxK+LnjzQvENlpHhT4ZyeJbs2KXt/eXetR6ZplqWYqYI5zHI803DHaIguNpZ13V4tp/wA8f+A/2ZPg09r4XbV/E3wy8Uza3faBFqFtHPeQSfb4SsUzyCDzAl2kgDOAQpGQeK0/jf8LPEni34/XOr+I/hr4n+JfhLVdGsotI0m18R21tZeH7tTIblby1luoopN5aI+cgnICMoXAG4Tbv/AI393KrfK916+bdzdRfXkX38zvfztb/hlp1q/tyW3iL4a+EL/wAM+FdV1rxd42v7vSrHw3JcxW0lrc2byR3v2mfLpHDA0TBpFD5ym1WLgU/wh+2fJH8Utf8ACPjnwq/gjUPCnhVvFer3Lakt7ZR2yzMm6GVY18yPartuKowKMDGOCfH/AINfsz+O/gD8P/hvrNr4d8MWni3wf4j8TpH4SXVIrW21HTtSu5phHYzAFFdI4oZI0dV+RWVhGc7ZLzwp4q/aX/bB+I/hvxdplt4STxH8Hf7Kis7e8S+m0tbq+uIw00iAIZGKswVcqFUfMTmnUupNU9X72npTlJJd9Uur6oLLlvJ2ScdfJ1Yxb/8AAX2R6vpP7YniCz/4R/W/E/w21Dwx4D8V3ltZafrE2qxTXlo9ywS2a9swgNukrtGoKySFWkUOqcke818WfCv9kq2stW8J6Vffs1aVpms6PdWz6p4ln163m0YeQysbm0VJ2unkZkDRpLbx7SfmYY5+061kope73f3aW/XovTQzi5X97ey+/X+t36hRRRWZYUUUUAFFFFABRRRQAUUUUAFFFFABRRRQAUUUUAFFFFABRRRQAUUUUAFFFFABRRRQAUUUUAFFFFABRRRQAUUUUAFFFFABRRRQAUUUUAFFFFABRRRQAUUUUAc/8TfhV4d+M3hKXQ/FGkWetaVK6SmC4TOyRDuSRGGGSRTyrqQynkEVlfCn9nfwb8Er3ULvw3oqWeoasEW9vp7ia8vbpUzsR55neVlXc2FLYGTgc12tFC02B67hRRRQAUUUUAFFFFABRRRQAUUUUAFFFFABRRRQAVHc2yXltJDIu+OVSjqf4gRgipKKGk1Zgm07ozPBng7S/h54T07QtEsodN0jSLdLSytIRiO3iQBURR6AAAVp0UU223dgkkrIKKKKQBRRRQAUUUUAFU9B8P2PhXR4NP0yztdPsLVdkNtbRLFFEvXCqoAA+lXKKACiiigAooooAKKKKACiiigAooooAKKKKACiiigAooooAKKKKACiiigDyqD9iL4V23ildXTwbp4mS/8A7US182b+z0u92/7Qtnv+ziXf828R7t3zZzzXqtFFGy5VsG75nuFFFFABRRRQAUUUUAFFFFABRRRQAUUUUAcz8U/g74Z+Nnh6PS/FGj22r2kE63UHmFkltZlyFlikQh4pACQHRg2CRnk1W+FHwH8JfBCG/HhjRodOl1aUTX1y0slxdXzqMKZZ5WaWTAJA3McZOMV19FC0vbqD13CiiigAooooAKKKKACiiigAooooAKKKKACiiigAooooAKKKKACiiigAooooAKKKKACiiigAooooAKKKKACiiigAooooAKKKKACiiigAooooAKKKKACiiigAoorH1nVZ7TxZottG+2C78/zV2g79qArz1HPpQBsUUUUAFFFFABRRRQAUUUUAFFFFABRRRQAUUUUAFFFFABRRRQAUUUUAFFFFABRRRQAUUUUAFFFFABRRRQAUUUUAFFFFABRRRQAUUUUAFFFFABRRRQAUUUUAFFFFABRRRQAUUUUAFFFFABRRRQAUUUUAFFFFABRRRQAUUUUAFFFFABRRRQAUUUUAFFFFABRRRQAUUUUAFFFFABRRRQAUUUUAFFFFABRRRQAUUUUAFFFFABRRRQAUUUUAFFFFABRRRQAUUUUAFFFFABRRRQAUUUUAFFFFABRRRQAUUUUAFc/4i/5Hvw5/28/+ixXQVz/iL/ke/Dn/AG8/+ixQB0FFFFABXg//AAUg/ax1X9jL9lfW/GehaLc6zrMDJBZj+z5LuztXPPm3flujRw4UjfuHzMg717xXh/8AwUk+FeufGz9hj4leGPDVk+pa5qmkMLO0QgPcujpJsXP8RCEAdzgVz4tyjRlKG6Rth1F1YqW1zifhz/wVB8NwfsaeEPiZ480jxNomp+Iza6ZBpUWhzLda9qMkCSEadAWZ5YHLHy3LYIHXpna+Hn/BT34d+PvAfj/VpdO8a+GtW+GWmNq/iHw1r2jGw1qytghcP5LNtbIHGH7rnG4Z+Z/EXxZ+MafsK/AXTvC3hD41+DNF0CS28NeP49L8NY8Uxw2trBGJrKGRXbyHfzCJQoIKDIHKnzXw1+zt48uPin+1Jqtt4L+M9xpXjH4U3Ftod14utbi91bV52iiVYmcBgZmKMVgU70TapRSCo7cVy+2q8my57fKHNHTtLp9yWl3z0v4cHLd8t/nPla+S/wA29Uj7R8J/8FbfhL4s+G/iLxkD4osPCPhrTLbUbjWbzSilncSTkKLOBwx865V2VHRAQrHG7g4h8Bf8FcPhp478X+BPD50b4g6Fr3xDvfsmlafrOhfYpth2GO5bc+DbybvlkjLg7GBwRivGPjh+x945+Mn/AARR+GnhDQtAuI/GXhWw0nVZvD99F9kmungQ+dbyRybcP87NtbBJXHU1x/7SXxr8R/Hn9tz9kLUdY+GPiX4bQWniK4tki19Yory5nxbGURxIzMIEwm132lyx+UbclRS+sey/vqPy7/N+75W8yJSl9XdVfySl80r2/C7fn5H038Rv+Ctfwu+HXj3W9I+wePNe0vwrdGx8Q+JdF8PS3uheH5wQGjublTwVzzsVsYI68VwX7V//AAVb1L4G/tgfDDwd4e8Kav4n8HeKrN76+u7DQp7671eJ4RLA2lMkqrNjcPM+Vto9K+UdH/ZY8Ufs+6N8RPh14r8I/tY+JtR1PWbyTSofA2sSw+FPFFrcnCtdSKrRQswz5pdGwpGV4xXuH7SvwU8Vfs2/FL9kjxppPw38deJPDHwp0y50zVdK0BBr2q6aZLdEjjYoIxLjJBkAVDsPPK5yoe86MpdZRv21i7p+jsvLZ9DeqrOrCPRSt8mrNequ/wAup9B/8FYf2hfFv7N37Bfifxv4H1N9A8R2M2ni2uXtIZ2hWW7hjcGOZHTJR2HKnGeOa1fjJ/wUL8Jfs9zeGfD+o6f4x8beOdc0qLVP7B8JaM2qaituQA9y8alVSPdnqQTg4BxXJ/8ABaDwFr/xd/4JzeL9I8L6DrfiHWL2402SDTtOsJbq8kC3sDtiJFLnaoJPHABz0r50/ag/Zt8UfDT9ttfiPqem/tA3fgzxb4RsNO+1/Cq7lj1bSby3ijQ21xFHh/Iby93OBvf1BAmDd5Re3N93uN2+bSX/AAbEtX5Wtfd+988V+CbfyPsCX/gpL8J4v2aV+Kp1q8Ph1r7+yRaixkOp/wBo52/Yfs2N/wBoz/D0x82dvNc54Y/4KR+GvjZ4P+IekaLp/jTwH8RPCnhq71tND8W6GdO1FIkiYx3KxOXR03bDyT94ZXBr5gt/A3xZ+AH7FZ1f4ZeCvjL4R/4Tb4gLqXimK6u4vEHjR9Kddkt4kTQqYp5NiEowd1bkttJasb4YfA7xjf8A7cHjbxNZ+FPjrd+GtZ+EOp2Vlq3ju2uLnUL25bKrCzbdsTsVOy3+V8YbYN9Ri+b2dS38r23T9nzf+lad+lrps0oW54X7r5rn5fy17db2aR9D/sm/8FKoI/2VfgnN4+u9a8afFD4pLOltp+i6dA17d7LiZDO8SeVFFCqoAXO0cE9mI7v47/8ABUn4e/Aj4j6z4YfRfiB4tvvCkST+JZ/DOgPqNp4YjdN4e8lDKsY2jJ27sc+hr4e/YW/Zl+J37AGpfB74vv4R8c+LLLxdYT+GvGGgyaFPc6z4Ria5dopYIBGZ44QEV2XHOW/56Ljvf2nh8Zfi38V/jh4W8Wab+0HcWtxb3Fr4B0/wZaC08M3tm8L7GvbpVDSH7peJnycugViypXTjJWm5Q7zduis1aP3NPTfWzXKY4KF4xjUenuq/e+8vvTXlpe90fWXxk/4KcfCz4P8Aw58EeIkutb8Wj4kKJPDWmeHdOa81LVk+XcyQkoRtLAEMQd3GCQRUvwf/AOClfww+NPjvxdoOn3OsaZN4F0Zdc1y41ex+ww6dDtUyJIHbeksRYq6sg2lG5PGfh74Ifs+fFH9nnSP2Vvi3/wAKy8WeKIfA2h6loev+GobLy9a0szXF2Y5o7abY24rPn6IM4DBqLT4d+K/2v/2zf2vtCi0CXwb4l8Y/D+xFlpd5cR+fCSlo0MdwyEokkiou8BiELkEnaTUVbxlOMNWva6f4L8q87pJ/OyFSlzU4zlp/D/8AJpRUvS12tfU+xPhX/wAFY/hj8VfH+haNHp3j7QbDxbc/Y/DniHW/Ds1joviKY52x21wx+ZmxxvVcnjqQK928A/FvRviVrfiXT9Ke9a58J6idK1ET2U1uqziNZMIzqBIu1x8yEj3r8u/gn+z7qHj6T4UeCtY+HX7Xd/rvhnUbKXU4PEniJ7Pwf4dktAB9qtpJY5IpEUj93HGAShYK3ADfqH4A+JZ8e674nsT4e8S6L/wjWpf2cLjVLL7PBq37tJPPtW3HzYfn278D5lYY4rWUIr4dd/mk42f4tdnpbZiUpN66bfJvm0/Bee/dHFeIfimfDfx98X2tte+LdcvND8JWepf8I1bWtobTEtzcos8LsUkadjEysrSBAqAjk8J+xF+0JrH7TP7O/hzxVrvh690HUtSsILiZnhSO0vGdNxktgJZG8rPTzCG9qo6R4Q1R/wBurxzqh0+9TSr7wHpNjb3zwOLaWdLzUWeJZMbS6rIhKg5AdSRyKr/8E7ru90f9l3w34Q1fQvEWga74Ds4tD1KHU9NltY5Zol2l7eVlCXERxkSRllwRznisKLbjr/VpzX5cv4eR0VYxjJ2/u/jCL/O56Z4b+LGmeKPid4m8J2yXY1PwpDZz3rOgELLdLI0ew5JJxG2cgY461xcv7Z3hQ/DLTPEttaeIL867rd34d0rSrWzEmo6nfW01xDLHGm/ZgfZZn3u6qETcxWuK1vxrqX7PH7ZXjTVL/wAF+NvEGi/EDSNJXS77w/pEmpRrdWv2iOS2n8v/AFBIkjZZJSsZBbLDaa858CeB/sX7GHhWLx98PviPBPB411zU3l8PJcprnhF5dT1B4ryNLf8A0mRCsoTMKuGSbcVZCaqOsOZ90vxt99v0voyLNaPf/wC1bX42213S1PoTT/2uPDcXwu17xR4gsPEng5PDMyWupadrWnFL+GZwhiijSIyLcNJ5kap5DyB2YKDuyA74ZftU6V4/8bDw3qXh7xd4H16e0k1Cxs/EllHbNqdtGyrJLC8ckiHZvQshYSKHUsgzXzj4j8D/ABI+OfwJ8U28U/xL8Q+G/C/ijR9Y8Mz61aLoPirVra2dJL2OMGOBgV58h5o43dlwSeHPW/AXwZ4e8Y/HTRNY0ux/aC12TwzZXdyL7xy+oWVjYTSxeT9nWK/SNppZFZ8mJWRNmWbkZFd3dvl5cqd/LW6trtZXbTIvorff/wBvWt92vz8men/D79tPQviT4h0iKw8NeOo/D3iOc22j+J5tJA0jVJPnK7GVzMiMEYrJLEkb/LtY7hnc/an8XxeCPhL9tl1/X/DSyatplmt9o1vBPdBp76CFY9s6smx2cI5xkKzEcivm34WTat4K8c+DtM+Fuk/GvwpJJrUUXiHwX4i0q4m8L6LYFibvyb24hMabBkwizuWRmKgR7Sdvuf7d/hfU/F/wDhs9J06+1S7Hifw/cGC0t3nkEcer2kkj7VBO1EVmY9AqkngUfZhJfzJfjHXs1q9dnZq2jLsnUcHtb/P7npt876q0vjf9szR/CvxH8R+ENN8LeOPF3iTwrFbXF/Y6Fp0U7JBOhdZQ8kqJgAEbSwdiCEV9rY8x/at/a3u/GPwn+Fk/w8/4Tj+yfifr9vZTaroNvbRahBbhJ3ltEF0w8q6LQlDuT5QknzBgM+mfBfwtqOlftZ/GjU7nTr22sNV/sMWV3LbskN55do6v5bkYfaxwdpOCea8V+Hvwu8TWPwf+DFrL4d12G40r4y6vql7C9hKr2do93rbJcSKVykTLLEQ7YUiRMH5hlRjzcvN/ND7nJX+Vt/n0dhwd4Sl2jP71CTT+9aeq6o9m1T9prT/hSmkeErPQPiJ478UWmj219f6fY20F3qen27/Is19I0scKyOVf5Vcs5RyisBR4h/bv8B6F8P8Awj4khOvarZeNtTl0XToLHTJJL0X0UU7vayW52ypKGt5IyhXIfAOByObufFNx+y9+078Rdb13w54w1fw78Qk06+07UtA0K61o289tbC2ks5YrVJJY/uLIjsgjPmuNwIweC8J/CTxYfGPwt8R3vhnVtO/t/wCLOr+LbnTzbmR/D9lcaTfQwm62bliZz5bPk4Ek+3JbrdP95L3tE9b9nzJcv3Nu/wDdvs0RP3I+70/+Qbv/AOBJLTvbdM9h1r9tLTNA1jRtFuPBfj//AISzXtHm1m08Ox2Fu+oNHFMIXRsT+UjZIbc0gj2lfn3MFOHN/wAFIPBi+DJPEcXh74gXGgaVO9r4jv00QiPwlNG5SWO+VnDhoiMuIVl2KQxwpBPQ3/hfUZP2+dM1kadenSY/AV1ZtfC3b7Ok7ahbuIjJjaHKqW25zgE44rxzSvhl4kj/AGJP2o9Kbw9ri6p4g8Q+MJ9LszYS/aNSjnVvJeCPbulWT+AqCG7ZrGNT906jWqU5W/w1HFL5x176XNIQ5qip3+3CN/KVPmcvk1btr6HunxL/AGpbHwD4v/sLTfCfjnxrqUVpHqF2nh7S1nisbeQsEd5ZZIo2LbHIjjZ5CFzs5GeG+NP7csnh3QvhHrfgfw9q3i3Q/iPrcVo88FmgfyGguHMKJLNC0d1viHyuu0BJA2GxXG+LdY8S2/xVvNG8ZTfGmz8NrpOmJ4V0/wAE6Xci21Bvs6/aRc3lrEZIJxOCmJp4Y1Tac/eYc34K+H3ib4efsV/BC/u/CHivzvh947k1vWNHjtJ77V7ezM+pRFliwZrhl+0xuSNzOuWG7vpK0ZJN6c618uazv8t+2t90jOnK61WrhJ/Pkuvx0/K7Vz6F0X4v6dbfHbxeNT8Qa9pkGh+E9O1q/wBJ1OK2i07RoZXuyZ/NXL+biBxIGcoojBBOeKfgz9t3w94r8R6Fa3fhzxz4b0zxZMtv4f1rWdI+zafrUrqXjRGDtJEzqCUFxHEXxhckgV5d8a/gr4h/aD8e/Hm10nTdSsYfHnwr0jTtIu9Qs5bWCa6MmqMYGZ1G1182IOh+ZPMG4DNX/iX8RdQ/au8IeD/Auk+BPHnh/XI9e0fU9bl1jw/cWNl4cisbuG6l23ciiC4cmHy4/szybt4bhQTWvIueMX3V12Tk7v5L/wAB66NCb91yT6PX0hFr72369NbnbeJ/29fDuh6h4rt7Dwp8QPEv/CC6hLYeIJNH0lLhNL8tEkMrEyrvXa+Qke+XAJ8sAgn2Hwj4r07x54V03W9Iuo77StYtYr2zuY/uXEMih0cd8FSD+NeQfs6eD9T0K3+N32zS76zbWPGmo3dn51s8Zvoms7ZUkjyBvQlSAwyCVI7VrfsIeHNR8H/sVfCvStVsLzS9U07wrp9vdWd5A0E9tKtugZJEYBlYEYIIBFZUfew6qS35ab+cotyXya/HXpZyfv2W15r5RkkvvX9d87U/26fDekavK0/hvx7H4Vt9SGkzeK30Ypo8Vz5wgwSzicx+adnnCEw55345rl/EH7XGs+Af21vHPg2TTfE/jCysvDWj6jpGgaDpsEtykksl6LqcyuY1VMRwD97MBnaEG5iD4D8ZbHxp8Xv2cPEeleJ7P49eI/iuXb7Zottp15YeHLLbdKQYHt4o7a8gWNVKL5k8j5G5fvFfb7vxfqHwO/bw+InijVvB3jG98Jav4V0GxTWNJ0G61PZcxS35MQit43lkGHG4xq3lkx79ocGiD0jzeevfTT8fl0TbHO/NOMelv/Slf8P87Wdj0+1/bG8E3PwZk8bG41OGyhv/AOx5NOksJV1VNS8wRfYPsuN5uPMIUIAc5DAlfmp3w2/at0jx74lv9B1DQPFngzxLY2D6qNI8QWUcFxeWattM8DxSSQyKGKhgsm5Cy71XIr59h+FnjG/sbn4tL4P1wLJ8VYvHMXhZ4FTVn0tNMXSzIYCRi52g3IhPz4ATG84r0SLVLv8Aao/aU8MeIND0DxRovhnwVomrW9zqev6HdaNJf3N8kMcdtDDdJHM8aCN5JH2BNyxAEnOJlzcraXvW27P2al/6W3HXe3L8RS5eZJv3b7/9vtfP3Upad77I9EP7Vnhn/hnrw58TPL1U+HfFA002SeQv2kfb5oYYN6bsD5pk3fMcDPXFct4A/ar17xX+2X40+HNx4M1yHRdAsdPmttRFvCBG0zXoeaZvtBJgk+zp5W2PfnfvAyK+fbfXPFNx+xH4D+EK/DL4jr4r8Ean4a03WZH0KZdPijstTtPMuobnBjuY2WLePJLlVJZ9gViPetDe/wDh5/wUI8Vz32heIZdK+IPhzR7XS9Vs9NmurCKeybUGnjuZkUrbnbPGVMpUPuwCTxXS1TdSXJrG75fNWTT/ADI1VH3viSV/J8yT/rt5G1+2x+0XrX7NHwqstb0Pw9d69d3etadp7COFJIoI572CF9wM0Z3skjLHgkeYV3fLmuX+Jv7VuseB/wBpL4c6c2leJ00vxT4V1i+fwxFp8E+qXV9BcWCwrlWIRljlnJ/fLGASWPygjpv29fCereLv2bb5dF0y91q90vVtJ1g2NnH5lzcw2mpW1zKsSdXk8uJ9qjliAByRWLvuviX+2b8LPGdjofiKDQW8D66klxqGk3Fm1lLLdaYY4pllRWhlZY5CEcBiEYgYBrDD61LS7y+72bt/5MnbzRVWyp3W+n/pcf0evkdJ4U/bP8Ha78L/ABP4o1NNb8KL4KufsWvaXrViYtR0y4Ko0cJijLiVpBLH5fks4k8xQpJOKtfDP9qjTPH/AI5g8N6h4b8Y+Ctb1C2kvdMtvEWnpbf2rDHt8xoWjkkXcoZS0blZVDZKAA4+c/jr+z34x+JfjT9oY6fpPiTy28T+EPEGmC1ZrKXWY7CG2kuUsp32p5wETKrBsCRUBI7dV8B/A/hzxv8AH7wtqlha/tD6vL4XS5vvt3jd9Rs9P0ieSBoPL8u9RDPK6SyD9yHVcZLdM1TtLWXbb/t1O/8A4E2vlbdpiqLlj7v9a7fd16320aPUP22P2i9a/Zo+FVlreh+HrvXru71rTtPYRwpJFBHPewQvuBmjO9kkZY8EjzCu75c1peN/2oYPBNpoMP8Awhfj7VvEfiG2ku4PD+nadFLfW0UZUO88hlW1iALKPmnG4sAu7nGX+3r4T1bxd+zbfLoumXutXul6tpOsGxs4/MubmG01K2uZViTq8nlxPtUcsQAOSK8/+OPxT1vxX8SPDN9eTfGTw78K9Z8PGeFfC/hm8Opy6mZmDQ3yR20l7aqIdhTCxgsX3NworKLd+V9Zfhy3X3tNLe70W5o0uXm8v1S/C/yWr2PQtV/bj8E6J8ILXxpdJr8OnTa6nhq4tH01xqGn6gZTCYJYPv7lfjCbi25Sm4MMmvftlad4b8PaE914M+IC+JvE8twmleE106Ftau44MeZOUE3kxQhSh3yyoB5iqcMdtfPfw1+EniS1+GckX/CJeN7ISfHWx1qK31gXF9qH2ANbMbqaVy7OuAS0hdlUgjd8te3/AB1g1v4WftPeGfiVa+GNb8WeH08O3nhzUodFgFzf6a0lxBcRTrBkNLGxiZGCZZTsOCM4dKXMlKWib+791Cf/AKW3Dy+RhzPmlGKvb8f3k4/+kpS8+lrmp4R/bn8C+Jm8brdtrHhyT4c6fbah4jj1iyNtJpgn87ZEyAsxk/cMcKCGDxlC4dSbPgX9r3S/F/i600O/8K+OfCWo6xby3OiR69pqWw11Yk3usDLI4WUJ83lTeXJgMdmFYj5a8ceEfE37VXxP/aSg0/w1rOgalNpXgvUNO06WdLTU76Ozurq6CswbbBPKIiE3PlMxF9p3Kvonwd8EeG/iB8bvB1za2n7R+r3Xhu5k1R5vGj6jaaboc4gkiG4XiIlxIwldALcyABi24LgnTedv6838n06Ws90zSdopuLv/AMNFpfNvp8trHpn7G/7UOu/tGxeLBrXhDWNA/sPxDqem29xNBDHbtFb3RijhbbPIxuFUfvMAJkHacYr2+vnP9mnxLqHwVX4v6Hq3hPxlLqGmeJNb8V232TR5ZbfWrO5na4hS0nwIZZ2DbfJ3hwwOQBzXu/gbxQfG3gvSdZOm6po51WziuzYalB5F5Z+Ygbypo8nZIucMuTggipi+anCX92N/Vr/NNP01CpZVqiW3NK3onp+DTXk9DVooooEFFFFABRRRQAUUUUAFFFFABRRRQAUUUUAFFFFABRRRQAUUUUAFFFFABRRRQAUUUUAFFFFABRRRQAUUUUAFFFFABRRRQAUUUUAFFFFABRRRQAUUUUAFFFFABRRRQAUUUUAFFFFABXP+Iv8Ake/Dn/bz/wCixXQUUAFFFFABRRRQAUUUUAcd8evgN4W/aY+Fmp+DPGWmLqugasqieHzGjZWVgyOjqQysrAEEHt6cV5Z8Gv8Agmr4B+EPxT0vxpc6t498c+I/D8L2+i3Xi3xFPqv9iow2sLdXwqZXjocdsV9CUUR9180dwl7y5XsFFFFABRRRQAUUUUAFFFFAHkn7Tf7Fvg39qu80HUNdk8QaP4h8LSSSaPr2gapJpup6d5gAkEcydmAGQQfbGTS/sx/sW+Cv2UZ9cvvD41vVPEHiiRJdZ17XdSk1HVNTKAhPNmc9FycAAe+a9aooj7vw/wBd/v6hL3rc3QKKKKACiiigAooooAKKKKACiiigAooooAKKKKACiiigAooooAKKKKACiiigAooooAKKKKACiiigAooooAKKKKACiiigAri/i78EbP4uyaXctrPiXw7quiSO9lqOiagbWeIOAJEZSGilRgq5WVGHAIwRmu0ooA4j4NfAPRvgmNXnsrnWNX1jxBOlzqur6veG7vtQdECR73ICqiKMKiKqLk4UZOe3oooElbYKKKKBhRRRQAUUUUAFFFFABRRRQAUUUUAFFFFABRRRQAUUUUAFFFFABRRRQAUUUUAFFFFABRRRQAUUUUAFFFFABRRRQAUUUUAFFFFABRRRQAUUUUAFFFFABRRRQAUUUUAFFFFABRRRQAUUUUAFFFFABRRRQAUUUUAFFFFABRRRQAUUUUAFFFFABRRRQAUUUUAFFFFABRRRQAUUUUAFFFFABRRRQAUUUUAFFFFABRRRQAUUUUAFFFFABRRRQAUUUUAFFFFABRRRQAUUUUAFFFFABRRRQAUUUUAFFFFABRRRQAUUUUAFFFFABRRRQAUUUUAFFFFABRRRQAUUUUAFFFFABRRRQAUUUUAFFFFABRRRQAUUUUAFFFFABRRRQAUUUUAFFFFABRRRQAUUUUAFFFFABRRRQAUUUUAFFFFABRRRQAUUUUAFFFFABRRRQAV4X+1z+0l8RP2avC3iLxRpXw38OeKPB/hrTTqNzeT+L3068cKCZFW3FjKOOx8zn0Fe6V4f/wAFKv8Akwb4t/8AYs3f/oFCV5JGlJKU1F9Tq/hX8SPG97pmqX/xH8KeFfAmnWUKTw3Nn4rOqRyL8xkMpe0txEFAXnLZyemOeq8A/Ezw58VdD/tPwv4g0TxJpvmGL7XpV9FeQbx1XfGzLkema8R/bZ+xT6x8E7bxKYP+ECuvGMUevrdY+xSt9huTYpcZ+Uxm9FvgN8pcR55xRp+maNof/BRuxj8HQafbtceCrt/GMenqixArdWw01p1TgTEG8CE/MUD9gMWknK3qv/AY82vm+3TR9bGCb9mpPsn98uX+u+x7n4o8eaH4IRG1rWdK0hZI5ZlN7dx24ZIl3SMN5HyovLHoByayNc+PngXwv4W0rXNS8aeE9P0XXQjabqFzq9vFa6iHwUMMrOFk3ZGNpOcjHWvKP2pfA2kfEH9rj4C2Ot6fa6pYxz63c/ZrmMSQvJHZoyFkPDbWAYAggEA9QK831vwt4p1X9u34j2Wmr8JY5bHRtMi0S08W2FxcSR6S0J837IkciosRuhMJNq5yqbjgJWKlrb1+5fr+STeuxas7+X6tf5/N6abn17q3inTNB8Oy6vfajYWWkwRfaJL2e4SO3jjxneZCQoXHfOK8y0b9r/w94q+POkeFNFudF1rQdW8KXnilfEljq8U9mqW11BbtGNgKMP3xYv5ny7MY5yPm3w74O0vwp4C+Bei+J9f8LeJ/hvJ8QtVZ5NNV/wDhH7eUpdtp9l+9LDyIbrMcSsxTfHEAeFFbnxI8M+FI/wDgop4jtPCNpYprV38Hdaj1WDT0VY3na6sxFuVfl88oRu/iK+VnjbRUlyPmSukpu3floymk/O9tuy3Ui6cVJ8v+HX1qKN18r797WTR9gTeM9Ht9HstRk1XTU0/UnhjtLlrpBDdNMQIhG+cOXLAKATuyMZzWd43+MHhL4Z31ha+JPFHh3w/c6q/l2UOpalDaPeN/djWRgXPsua+RPFfxh8LeI/2Ff2cbOw1/Sru9v/EHgiKC2iuFaZnhvbMTAoDuXYVIbIG04BwSBXoHwe0TwTr/AMav2gH+INvoF3r8GsCK6/ttInaDw/8AYYGtgvmfdtCTOTj5TJ5ueQa6KtNQlNJ6RlNeqiqfXu+f5JNmFKblCEpKzko6dnLm/BctvVpH0L44+Inh/wCGPh19X8S67o/h7SYiA97qd7HaW6E9MySMFH51e0LXrHxRo9vqGmXlpqNhdoJILm1mWaGZT0ZXUkMPcGvirxDp51v9pH4VWnw+u/A03gyPwAZfA/8Awmsd9eQTv5+2drYPIrtOLY22Gky/lM235S1exfsJ+BrnwPN8SUk8QeCtUivPEpnfTfCsUsWm6FdG2hFxCqSM21nYCV1U43yucAk1EVe7f97192XLqvx8tF1uXLR29PTWPNp+X39jsx+1v4GH7Rdz8MH1zTovE1tp8F9skvrdVkeWWSNbVR5nmG4GzcY9mdroec1S8EftfeFdYutcg8R6p4f8HT6d4pvPC9hHqWswxPq8lvs+eISbCWbf/q13EY6nNclb2mk6f/wU51M3cWnw3N/8PLB7MzIivcSpqV3vMZPLOoePOOQGX1Fcn8FPgx4U8YeBP2jLrWPD+latPq3jDXba5e9t1nLxJEmyMbgdqglmAGBuYt1JNc6q8sPaPW0Kkn6xqRj+V189rmtWC9sqcXa8oL/wKk5P8bP5W2Z9MeOfiJ4f+GHh6TV/EuuaP4e0qIgPe6nex2luhPQGSQhR+dXtC16x8UaPb6hpl5aajYXaCSC5tZlmhmU9GV1JDD3Br8/vhNfeMviH4g/Z4lN34Cmmm+Elnc6KfGcFxcwXGofIt48CpIoNz5P2fJOW2M+3AL19HfsJ+BrnwPN8SUk8QeCtUivPEpnfTfCsUsWm6FdG2hFxCqSM21nYCV1U43yucAk11ypcs5QfTm/8lnyfjvfpoutzBTuk+/L/AOTR5vw2+/seveP/AIs+FvhRaW0/inxL4f8ADUF5KILeTVdRhs0nkOAEQyMoZuRwOeRXn37Xn7V9h+zX8O9KvrW68MT634m1G10zSIdW1dLG0fz5URrmSTDN5ESvvcop4wMjcDXjPijRPGHif9vj4lxWr/Cp7230jTV0iHxjZXF1P/ZTQkzNaqkqoIjdCYSkDJKpuOAlY1l8PLbw1+yv8LrCTWPC3iywi+LNmLCfRonbTbK2k1RybO38ws3kxNujUbiAqKBwBXPG8uRbc0oL5Smoteuv5rdJu6rVOM5b2i381By/pej229H8X/txX2l/Ej4f+AtN1r4R3HinxHpjatrF/P4hKaZbRh7dUhtQAZJZZhchogxXcqE85492174weEvC3i+y8P6n4o8O6dr2p82em3WpQw3l32/dxMwd/wAAa8e8UeFtM/4eT+CV/s6xwvw71lwPs6YBTUNLCnp1A4HpXz14K8F+I/HHwq+Mja9ffA2CKXxJrkfiu58U2V1Jq9iq3Mq27TyrMoRUtRA0BUALGIyvPJ1l/CjUtupyfyqOKXktN/8AO5XJ7zj/AIY/Nx5r/wDA/wAj7w8dfEbw98LtBbVPE2u6N4d0xGCNeanex2kCsegLyMFz+NcZ8bP2uPAvwF8I+Htb1rXNOfTvFGpWmnafLBfW+2cXE0cX2hS8iq0MfmK8jqTtTJwa8Z+Heg2sn7WPgPTPiNqemeKbmx+GNk3hm9vkBt9R1ASsmp3UCSf8tmj+yEn74jc9i1Zv7R2k/C/T/gRYy+CE0r/hH9N+L2htqjxb20+xujq9n9rERf8AdRx5++IsR7y+fm31UIJ1YQb0c0vl7RQf+d+mi63Iv7rfaN/m6fOvu2t1s301+utF1uz8SaRbX+nXdtf2F5Gs1vc20qywzowyrI6khlI6EHFYtz8ZPCFl4/i8KTeKvDcXimdPMi0Z9ThXUJFxncsBbzCMdwtbUAjXRl/s8QeV5P8Ao/lY8vGPlxjjHTpXw/4c0j4fah/wSn13UvEkemSeLhY302tXbCM6ynilXkzhz+8F4LsKsYHP+rC/LisZzUW3Z2Wtur9P63aXW60p03Oyurt28v6/S76a+3/Gj9sJvC37S/hz4Y+HNQ+H8eq3tsb/AFa41/XPs5tE86GNLWKFAWe6lEpdFYqMJ33V6H+0Z+0H4d/Ze+EOseNPE9x5Wm6RC0vkpLEk964UsIYRI6K8rBWwu4ZwfSvJPB+iS3/7b3gubxBY2ba83wsafUC0Kki7F7aB2yR1DZAPWug/4KX6dHqX7BHxYDwJOYfDd3KgaPeUKxn5h6EDPP1q4L93Hmet53fTSco/lEjDyVWta2nu6esIy/OR6anxo8IN8P8A/hKz4p8OL4YAJbV21KEWKYO05m3eWMEEH5uoxVjTvil4Z1jwWniS08RaFdeHZAGTVIb+J7JgWCgiYNsOWIHXqcV4d+0B4l0XWPGvwj8NaD4T8C+JdR1j7dq+iahrd35ekaWbeKNZZI0jRxPcMtx8iALwJG3rtr518VRPdfCT9rPR7nUPC99F/augPdp4ZtJLHTYrmUQJcCNTLIfM/dqHdWGXU8KwNJvWSXTb5NL9d+lra30y9py04Tl1/wAm/wBPn5JH3nH8avBs2h6zqaeLfDLab4cna11a7GqQGDS5lALRzvu2xOAykq5BG4etWfCXxQ8NeP47ZtC8RaFrS3lt9tt2sL+K5E8G7Z5qbGO5N3y7hxnjOa+ff2lvBXgv4afGb4HWGs6XoGifDG1v78SQywR2+lpqy2yDTjMMCPOPtOwvxv2Y+bbXjnx31jSB+0P8eJvg9PE2up8GZ5pH0FlMIvjdSZeHyvl+0bFXcV+bKp/EKnm1sv73/ksXLXtdr5Jre+mzi7L1j/5NNQ072vfz12tr9v8Ahr4weEvGfie/0TR/FHh3Vda0o4vbCz1KGe6s+37yNWLJ/wACArl/hT+1t4G+MvxN8VeEtE1zTrjWfCl4tnLCL63c3pMEczSQKkjM8aeZsYkDDo47Zr5q8MfDHUbuz+Cl5ZeI/wBn7w/otnrNhN4auvDdhdR3+oQhSZrS3kMzB/Ot/NV9wI53NyM163+yza6Tpn7Vn7QFqItPt9THiOwuIogiJP5D6PZDeo+9sLK/I4JDVpytTs+nMvmuXXy+J6b6ehMZc0eZeTXzv/luenfEL4yf8IH8WfAPhf8As77V/wAJxc3tv9p+0bPsX2e1a4zs2nfu27cZXGc89K1NZ+MXhHw541s/DeoeKfDlh4i1EbrTSrjUoYr26HrHCzB2/AGvNP2hP+TsvgH/ANhHWv8A01y18u+EPAviHxx+z98VDr2pfA2whn1zWV8WX3iOzvG1rTp1uZRHJPMJhseOIQtAVACosRTtWHO7vS9rv7uX/Pf5ddHFXdn3S++/+W3+R93/ABB+LfhX4S2VvceKvE3h/wAM293IIYJdW1GGySZzgBVMjKGbkcDnmsH4n/HaL4e+MfhtpcFjHqsPxE1p9Jjuo7oKtoq2NzdiYAKwkBFvtxlfv5zxg+D/AG298SfGP+xLTSfhjqfi7wd4H0oa34z8WySzNd286ysTbWgAPklopHkcyx5ZgpB25Hifw6uvFOr/ALN/7Plv4I1LwzNr0HxR8S2Gh3lxbyRaTBGsOuJG8cKs7iFI+Y4txwAiFsfNXTGKu+tn06rmt6/fb8Lkc14c2119z5Obppp5X/Q/RKHxdpVxrV7pqanp76jpsSTXdqtyhmtY3yVeRM7lU4OCQAcGs3wH8YfCXxUkvV8MeKfDviNtNk8q7XS9ShvDav8A3ZPLZtp4PBxXyr4c8f8AhXwB+wj42g8QeEH1fxbbX8Ok+P8ARda1ILPqGq3U8MH2i8uwv/HpJ5iSLKE2C3ACoAuwVL+z8QeEP23/AIYWpf4ZaXr114Z122g0rwhYypJDbi1jkiWed2CyRedEpjBhj5RyP4hWU5KLfVJdOr5XLTunpbyd3bYvontd216apa9t9fuV9z6tvfjt4I03xNqOi3HjLwrBrGj2xvL+wk1a3W5sYAMmWWMvuRAP4mAHvVzx18V/C/wu0aHUfE3iTQPDun3LrFDdanqENpDK7fdVXkYAk5GADX5+/Ee/+En/AA5nvYLubw7/AMJwvhuRr6NXj/tweIihF4ZAP3/ned53nZ/5ZeZu/d5r1PxJo/izxF+3LqMNjJ8NDd2/gnSzoMPjGzuLk/ZWM32xrJUkVQfNWMTEAtgQ5+XFaVIOEuS97O11qno3deWn3e95BdWUtdb77rWK1+/79PM+yLDUINVsYbm1miuba4QSRSxOHSVSMhlYcEEdCKmrwP8AYesrL4S/BTUYb7xd4KvtLuPFV7Fp50SRoNJ055Zwp0+381j92580KisQC+1egA98qWtn6fik7fK4k3qn0b/BtX+dgooopDCiiigAooooAKKKKACiiigAooooAKKKKACiiigAooooAKKKKACiiigAooooAKKKKACiiigAooooAKKKKACiiigAooooAKKKKACiiigAooooAKKKKACiiigAooooAKKKKACiiigAooooAKKKKACiiigAooooAKKKKACiiigAooooAKKKKACiiigAqj4l8M6b400C70rWNPsdW0vUIjBdWd5As9vcxnqjowKsp7gjFXqKAKPiHwxpvi7QLnStV0+x1PS72Iw3FndwLNbzxnqjowKsvsRisn4ZfBzwl8FdFk03wd4X8PeFdPmk86S20jTobKKR+m5ljVQWx3PNdJRR5h0sUb7wzpuqa1Yajc6fY3GoaX5n2K6lgV5rPzF2yeW5G5Ny8NtIyODWF8UvgT4I+ONraweNPB/hfxbDYuZLZNZ0uC+W3Y8EoJVbaSOuOtdXRRZBtsYmq/DXw7rvgZvDF7oGi3fhprcWjaTNYxPYmEYAj8krs2DAwuMDAqh4D+Bfgn4WCz/4Rnwf4X8Pf2fBLbWp03SoLU28UrrJLGhRRtV3RGYDhmRSckCuqop3d79Q6W6HFab+zZ8OtG1m91G08BeC7XUNSvItQu7mLRLZJrq5ikEsUzuEy0iSAOrE5VhuBzzUnxI/Z58A/GPVrK/8XeCPCPii+0wYtLjVtHt72W1Gd2EaRGKjPOB3rsaKXRLtsHVvuc98QvhJ4V+LfhhdF8VeGtA8S6OrrItjqmnxXdurL91hHIpUEdjjirngrwNovw28M2ui+HdH0vQdHslK29jp1qlrbQAnJCxoAq8kngd61aKO/mH6GH4o+GPhvxvrmkanrPh/RNW1Lw/P9p0u7vbGKefTZf78LspaNuBypB4q3pvg/SdHtr+G00vTrWHVZ5Lm9jhtkRbyWQASSSADDswA3M2Scc1o0UWVrf1/WiDrf+v61f3nJ+JfgN4H8Z/D+08J6v4N8K6p4W09Y0tNHu9JgmsLURjEYjgZSibRwMAYHStfwV4G0X4beGbXRfDuj6XoOj2Slbex061S1toATkhY0AVeSTwO9atFF3q+4dvI5T4pfAnwR8cbW1g8aeD/AAv4thsXMlsms6XBfLbseCUEqttJHXHWtSTwBoMui6bpraJpDado0kM2n2ps4zDYvD/qmiTG1GTA2lQCvbFa9FG23r8+4PXcoS+FtMn8Sw60+nWL6xbWz2cN+1uhuYoHZHeJZMbgjNGhKg4JRSRwK5rxl+zj8PfiL4ytPEXiDwL4O1zxBYbfs2p6ho1vc3cG05XbK6FxtPIweD0rtKKO3lsHfzOc+Jfwf8J/GjQk0vxh4Y8P+KtNjkEyWur6fFewo44DBZFYBuTyOeakX4U+F1+Hp8JDw3oI8KG3NodF/s+L+zzCesfkbfL2f7O3Fb9FHRruHVPsUfDXhrTvBnh+y0nSLCz0vS9OhW3tLO0hWGC2iUYVERQFVQAAABgVzl7+zx4A1L4lR+M7jwR4Rn8XwlTHrcmj27aihUYUicp5gIHAO7gV2NFO75ubqHTl6FFvDOmv4jXWDp9kdXjtjZrfGBftKwFg5iEmN2wsAxXOMgHHFWbyzi1G0lt7iKOeCdDHJHIoZJFIwVIPBBHUVLRSsrW6B1ucLffswfDbU/h1b+D7j4feCpvCdpMbiDRX0S2OnwSlixdINnlqxZmOQM5J9a0bH4H+C9M0K60u28IeF7fTL6KCC5tI9KgWC4jgAECOgXayxgDYCMLjjFdTRQJpPc4b4/eDfEvjjwbFaeGn8KzOLgNe6Z4jsDdafrFvtYNbyFctFyVcOFfBQAqQTXGfs9/s16r4H+LOqeOPEUfhLS7+fRYPDel6L4Ytnj07SrGKeW4PzOFMkjySkkiONQFACk5Ne2UUR0fMv60t+V1833HLWPK9v8nf80n8l2OL8Jfs4/D3wD43uvE2heBPB2jeI77f9o1Wx0a3t72fecvulRA53Hk5PPetif4ZeG7nx9D4rk8P6I/ii2tmsodYaxiN/FAxyYln27whP8IOK3KKO3kG92+pR1Dwzpur6tYX93p9lc32lM72NzLAry2bOpRzGxGULKSp2kZBweK5nxZ+zf8ADzx546tfFGueBPB2seJbLYbfVr7Rre4vYdhym2Z0LjaeRg8dq7SihaO6Dpbucj8Q/gD4F+LusadqPivwZ4V8TX+kHNjc6rpMF5LZ8hv3bSKSnIB4I5ArQsvhZ4Y00WIt/DmgwDS76bU7IR6fEv2S7m8zzriPC/JK/my7nXDN5r5J3HO9RQm0rIHruYWo/DHw1q+ralf3fh7Q7q+1mzXTtQuZrCJ5b61XcVglYrmSMbmwjEqNx45rJ8Afs6fD/wCFH2b/AIRfwN4Q8OGylkntzpmj29qYJJECSOpRBtZkAViOSAAeBXZ0UbbA9dz5e+J37Inj/wCMWmeIfD2tf8KnjsvFQfT9U8XWWjyw+IbrTHcFoPKxsWXyx5fmGZl4DeX/AA17t8RfgT4K+MOg2el+L/CXhvxXp+nMGtrfWNNhvo4GA27kEqsFOOMjtXV0UfZUf6/r/h92H2ub+tdzzv4hfs76X4y0/wAB6XYpY6H4e8Ea7bayml2lkqQTC2jlEEKKpVYlSZopOFP+qxjnI9Eooo7+bv8AOyV/uS+4NLp9lb5Xb/NsKKKKACiiigAooooAKKKKACiiigAooooAKKKKACiiigAooooAKKKKACiiigAooooAKKKKACiiigAooooAKKKKACiiigAooooAKKKKACiiigAooooAKKKKACiiigAooooAKKKKACiiigAooooAKKKKACiiigAooooAKKKKACiiigAooooAKKKKACiiigAooooAKKKKACiiigAooooAKKKKACiiigAooooAKKKKACiiigAooooAKKKKACiiigAooooAKKKKACiiigAooooAKKKKACiiigAooooAKKKKACiiigAooooAKKKKACiiigAooooAKKKKACiiigAooooAKKKKACiiigAooooAKKKKACiiigAooooAKKKKACiiigAooooAKKKKACiiigAooooAKKKKACiiigAooooAKKKKACiiigAooooAKKKKACiiigAooooAKKKKACiiigAooooAKKKKACiiigAooooAKKKKACiiigAoor4H/wCCuP8AwVx8W/8ABPz4teEvC3hbwlourf2tpw1e9vdXExikjM0kXkQ+W6bZB5ZZmYsAJE+WgD74rnvip8VdB+Cnge68R+Jr/wDszRrKSGKa48iSbY00qQxjbGrMcySIOBxnJwATTfhB8QP+FsfCXwv4p+wXGlf8JLpFpqv2K4OZbPz4Ul8p+B8y79p4HIrx3/gqd/yZB4o/6/8AR/8A07WdC1lFd2l97SA+haK+avEnhjWvjV+3L448J3XjTxhovhLS/B2i3w0/RNUk093uZrnUUMizRkSR/LEu4RlSxVNxIXB4bwp8XfG3iH4f+Dfhu/i/WI77WPiTrfgi68Ujy/7WbTtNF7OpD7NguZI7aOIy7c8sw+fBDUZSfKt7X+V1Fv5Np+nnoNqycnstH68rn+SfzPs6ivmT9oz4eeKP2ZP2VvjHq+gfETxZe6bb+D7u60qHVryS+1HR7+OKRjPFfO/nFGGz92+7ayZVgCVrnPj3f+Jf2evBvgTSrDxN8T/E+r/FjXIrbWr6yuEvNThihsbi6lTTYJCsFqZPKCHYBtTcwzIA1Fm1deX4v9N35dL6C62fm/kkn+tvXyPr6ivkb4V/EzxH8Mtd8ZC9/wCFseEvhha+FLjU21z4gol9N4ev4nVd0MrSyyzo8bl/LkLYaDC8PtrB8D/ELWvh18dfhM2jXnx01LSfG+sSaTrl/wCOG8vT9VDWFxOkkNpM6zWsvmQKwEMEUe3erDJWhK7S72+9tpemq69011sa2b7X+5JN/g/vunbS/wBr0V8Z+JvEeueAvitrep/FDxH8YfBV3D4jd9F8Qabvu/Ba6Y1wotoJoId8Me6IBJXvI1ZXdmWUDaRF48+Leu/F39oT4kWF3Z/HaXSPBGqRaJo8fw/kjtrWGQWcFxJcXEnnI08zNcACOQNCqInysWY1MbyipLtd+S0/H3krd/LUqUeWTTezt67/AIaNp9vPQ+0aK85/ZM8TeL/Fv7P/AIfu/Hmn32m+KQs1vex3kCQXEwimkjjnkjQlEaWNUkKqcAuQOK8O8E6lrtlYfGv4oav4t8Y6uvwz8Ra++ieH49Tkh07yra23iKWNTmcEkhVclEwpVVbLFVJKnKUZbRi5N+ScV/7ciYJz5Ut5SUUvNqT/APbT63or4Q8F+O/iVHo/hHxVoumftC6z401C70+41g6vDB/wjOpWk0qfakS0FwyW0aRSSNE8KCTMce5n+bPq/wAOPCmvftQeKPH3iu+8e+M/DsnhvxRf6B4f07SNQNrY6alk3lebPABsu2lcNIwnDKEZQoXGTU04tp7q7fy5U7d9ZK23X5pPmiprZ2S9Wm1+EW+vTrt9MVifEb4i6N8JfBOoeIvEF5/Z+jaVGJbq48p5fKUsFztRWY8kdAa+Uv2UfjD4t8W6F+zFLq/iO+1K48T2/iJ9YkW6d4dTaJZDGWyTvVSPk3E4GKT9sPxZqeqaJ+07pNzf3c+maVoPh+SytXlLQ2rSmUyFF6KWKrnHXAqK0uS69fwv/kZxq3jzWPshW3LkdDzS18w/tBa/ZeNPjZf6LB4j+NOtXuhafag+HfAKvYQ6TNLudZrm9BijeR1KFYZptoRcmMh8nhfBvxJ8dfH/AOH/AOzhZ33i/wASeG77xTe65p3iG6sZIoL2+js4LlPn8vMSysYQS6AhWLFMHawfN7t/O342v8uvquuhbkotKXa/4J/rp/lqfXVt8RbC6+JN14VWLU/7Ts9Pj1OSRtPmWzMUkjxqFuCvlNJlDlA24DnGK3q8A+H9jf6Z+1d4r+H3/CReKLnw/pvw80n7MbrVZri6illutRie485yXM5WOMGQksdi5JxXG/Bn4X3vi79qc3XhX4g/FC98B/DuaW21i41TxLcXtr4h1TBU2UaudrRW3WV8HMhWMH5JKqD5rdtfuUmr/gvm13KqJw5r9OX/AMmjF2/F+iT6K59Y1np4r0yTxRJoi6hZNrMNqt9JYidftCQM7IspjzuCFkZQ2MEqR2r4Z+MXxovtE8Da58SvBXij44+MdR0zUzdQ6ysY0/wgLVbxUe2FrO0cM9uI90fnRRyysQXWQmvWNO+FFpf/APBUfW9TOr+KUkj8C6bqYhj1u5W3Z/7QvE8oxh9phwgPlEbMljjLGiHvShF9b/hFy/T8H6jkrKpbeNvxmo/r+V+x9A/D34iWHxM0a4vtOi1KKG2vbiwcX1hNZyGSCRo3ISVVYpuU7WAww5Brdr4z8IfGHxh40+HHgrwovifVrC7+IHxR8TaBd62koe+stOsrrU5xDbu4YIzR2kcKtg7FJK4IBHUeJZ9b/Zl+KupeDNP8W+Kde8P+KPAms65ZLrWpyahf6He2PkqXjuZMzGKRblfld22PENuAxFTXl7Km5z6Jv15Y8z9Nnbz021dRg5T5F3/9vcV/wfL7j6kor4tgs/Fvwx/Z0+DnxYk+InjbV/E+qXnhm21i0u9SaTSdSttRmtraWI2h/dqVW43LKB5pZAWdsmvtKt6lJwun0k4/NWf5Nfj6mFOqpqMls0pfJ3/y/IKKKKyNAooooAKKKKACiiigAooooAKKKKACiiigAooooAKKKKACiiigAooooAKKKKACiiigAooooAKKKKACiiigAooooAKKKKACiiigAooooAKKKKACiiigAooooAKKKKACiiigAooooAKKKKACiiigAooooAKKKKACiiigAooooAKKKKACiiigAooooAKKKKACiiigAooooAKKKKACiiigAooooAKKKKACuc+IHwg8JfFj7B/wlPhfw74l/sqX7RZf2rpsN59jk4+ePzFbY3A5XB4FdHRQAVxvx9+CGlftGfCu/wDCOt3GoWum6jNbTSS2MiJOrQXEdwmC6uuC8Sg/KeCcYPI7KijrcDk9H+DmmaJ8atd8dxT37av4h0qy0e5hd0NskNrJcSRsi7dwcm5k3EsQQFwBg543VP2LfCuqeA9R0P7d4htpLvxRc+MbTVLa7SLUNH1KeZ5TLbSBNqhTI6hXVwUZlfeCc+vUUbu/9bp/mk/VD5na3f8AycfybXozxSf9iHSPEXg3xxpvifxf438Xal4+0ZvD9/rOpXNqt3a2RVx5VtHDbx20PLsxIhJZsFi2AB2vxa+AujfGPwRYaNqE+qWMujXEV7pep6dc/Z7/AEu5iUqk8MmCA+1mUhlKMrsrKysRXbUU221bt+n/AAdfXUS0d/X8dH+CS9NNjyCz/Y60vVvDniuw8Y+K/GnxCbxjpZ0W+m1u7gi8q0IbMcMVpDBDGcsSZBH5hOMsQABS0r9ie1k8ZeEdd8RfEH4ieMb/AMC6j/aGi/2rc2SxWxNvLblGS3tolkBWUku4MuVGHALBvbKKXVPtb8Hf8/17hurPz/FWf4JL5LseG+Kf2FdM8Xzapp9347+IjeCdbv31DUPCLX1tJpl0zyebJEZHt2u1gd8loVuAnJUAKdtbPjz9k638RePdS8SeHPGvjf4e6nrsUcWsf8I9NaeTqvloEjkeK6t50SVUAQSxBHKqoJO1ces0UW0UeiG222+//D/nr6mL8PPAll8MvBOm6Bpz3stnpcAgjkvLp7q4lx1aSVyWdiSSST1NZXw9+Cmj/Dmw8UWtubq+tvF2r3es38V6UkXzLkKJI1AUfu8KAA2Tyck119FD1bk+qafo2m196QraJdndetmr/c2eKeEf2JrLwfd6RaReP/iTc+D/AA/cx3OmeFZtSg/s+08ogwxGZYFvJIYyBtiluHXCgEFQBXnXxl8F6X4e+NPiy5/4Q3452R1qSO4uLfwdcNJo3jVvJRC83lti1l48pyzQF1RSXYHj6woqZLmVm+/42v6vRb328lYVl0/r+m9rbnzJ8FP2Dtn7HPwo8I+INT1vwl4w+H8X22z1Tw7exx3ekXMgk82JGZHikTZK0bKyMjAfQ11UP7BHhY+GfHun3ev+M9Tm+JNtZ2+t6he38U13M1tu2Soxi2qzbsEBdgAUIiAYr3Girm+eUpP7Tu/6/roTyKyT6f1/XqeTeLv2TbfXPibqnifR/GvjfwdN4jjgj16z0W4tVt9Z8lPKR3M0EkkUnlAJ5lu8T7QvOVBB8N/2NvC3ws074fWml3euGD4a3OoXOlLPcRv5hvRKJFmPlgsFEzbcFTwMluc+s0VNla39f0unboNpPVnB67+z9p2s/EDxT4ni1XXtM1jxV4ci8NTT2U8cZsoYnuHSaAmMlZw1y53MWX5U+Xg54T4F/sNv+z9baDYaP8W/itdeH/D5XydFvJNINncICSUlMdgkrbiSWYSB2JJLZJNe70U4pR2/rVv82/vKm3P4v60S/JJHzxqv/BOXQNa8AXvgubxz8RR4BlYvZeGo720Sz0o+b5qiKQW32h0RslY5pZEHHy/KuPRvFv7O9h4l+NWh+PbXW/EOg65pFqNOuRp00Ig1qzEhlW2ukkjfcgcswKFHG9sNg16DRQtGmt1/lb8tH3Wmwpa3v13++/56+uu55FN+xb4Ul+FX/CKreeIIRB4iu/FWn6rDdpFqOk6hcXU1y0sEioFG1p5ECsrAxsVcOCczeD/2S9O0S48Q3+ueKPFnjTxF4j0p9Em1nWZbYXFpZMDmC3jt4IoIlLHcSsWXYKWLbVA9XoqZRUk4y2e/zVn960fdabD5ne/9b3/PX113POdf/Zj0HxH8EvDHgOe71ddI8JzaRPaTJLGLmRtNmhmg8xihUhmgQPhRkFsbeCPRqKK0lOUr3e7b+btd/giIwjFJR6K3yX/DhRRRUlBRRRQAUUUUAFFFFABRRRQAUUUUAFFFFABRRRQAUUUUAFFFFABRRRQAUUUUAFFFFABRRRQAUUUUAFFFFABRRRQAUUUUAFFFFABRRRQAUUUUAFFFFABRRRQAUUUUAFFFFABRRRQAUUUUAFFFFABRRRQAUUUUAFFFFABRRRQAUUUUAFFFFABRRRQAUUUUAFFFFABRRRQAUUUUAFFFFABRRRQAUUUUAFFFeU/tG/tv/Cr9knUdHs/iJ4z07w1d68T9iglimnkkUEAuyxI5SPJxvfauQeeDQB6tRUGm6lb6zp0F5Zzw3VpdRrNBPC4eOZGAKsrDgqQQQRwQaNU1ODRdMuLy6lSC1tImmmlc4WNFBLMT6AAmlKSiuZ7DSbdkT0V8h/sZfFbxi/xvttX8W61q99oHx90268SeGbC8kZoPD/2WY+VaQqT+787T5beYqOrxTGvVvFH7TviK/wDipr3hvwF8P5fGkfg14ovEN9JrMOmx288kSzC1tg6t59wInjYqxijHmIDJkkCrNWvv1Xazs0+1npfbbuhbt21S69H2a9V+vY9mor5D/ZY/a71LR/2UNC1S4svEnjXxf428a65pOgaVd3Wy8nK6jeuscssxPkQwW8R3E52LGFVScKdj4ffGnxv4r/4KL6N4c8T6PqnhD7P8O7+9utHh1c6hpF5L/aNmsdzDIqosjKpkTLxJIuWGNrAs4wbqKmut/wAIOfz0VtO4S91Sb6f/ACXL8te59SUV5Z+0R+0be/BLxR4L0TS/Cd74t1fxxdXVlY29tdpbeXLDbtOC7ONqxkKdzEjaASAxwph8T/GX4k6eui6fpPwoGqa/dWAvtVMviJLXR9MbdtNul4YWknl6kBYFGMFimcVCknovT8L/AJB/X6HrNFfP+o/t62yfDPwPrth4O1vUNR8Y+J5/CEmjLPEt1p2owC6WWNmyY2AltWXfuC7WDkgA1seBv2srq38UeLtC+I3hiPwDqnhLRv8AhJZJI9VXU7C80zMitOkwjjIaMxkOjINu5cFgQaG0k23or/guZ27+676dNR8rulbV2/F8q9PeVteuh7RRXxl+1P8AtYfETWP2crLXI/AviDwHofiLW9D/ALI1i215TqMcMupWvy3lvGFa2WaEsuFkl+/sfbur2jxh+0z4jvviNr/hz4eeAv8AhOJfBzRRa7dXGtR6Vb288kYmFrAWjkM1wInjcghI1EiAyAkgPXW/Rtelknr23S1/VC0aun5/nt326HstFeDX37dFrqmhfDe68MeFNX166+JN1fadb2EkyWlxpl3aRyGaG5zuVPLkikSQ7vl2MV3narZekfto+OvEs3izRdM+EEl141+H8qL4i0xvE0MdnGkkSzwm1ujF/pDyRElVaOLBUh2TK5G0nJP7O/4f5r7wWu39f1+eh9G0Vzfwe+KOm/G74U+HfF+kCddM8S6dBqVss67ZUSVA4VwCQGGcEZPINeCw/wDBQnXbj4STfEaP4W37fD/Rrq5g1vUTrUS3dpFb3TwTXFvbGPM8UYQsxLxnhgquBkuScZ+ze/8ASEnePMv6/wCD5H09RXknxH/aR1e1+JR8G+APCK+N/EVpp0Or6kbjVV0vT9MtpnZYN85jlZpZfLlKRrGeIyWZAQTx/ij9ozRPi34P8D3l/ovijSdUtviLZ+Hb/SU1d7C40fU0L5WdoGK3MGNr7CTHKkiE46BR1ko92l98lH82l2vZNq4Skoxc3sk390XL8lf01SZ9F0V4dqf7V3ibVvGvii28H/Da68V6D4I1P+ydZu01mG2vnnWOOWRbS0ZD52xZV/1kkO4g7d3BOt4//aL1+P4lXnhPwD4IPjPVtEtYLvWprvVV0my04TZMUAlMchkuGQM4jCBQu3c67hlJppSXXb0te/o1s9mPq12/ztb1vo10PW6K474E/Gew+PPw7h16ytL7TZBcXFhfafeqq3Om3lvK0M9vJtJUskiMMqSrDBBIIry/4XfG/wCIms/tj/Enw3rGj6VH4M8PQafLFN/a6l9NikiuWEwQW6tIZjGhZWkxFjgt3JNRdn/wNr77B/w3nf03PoGivnT/AIbu1RfBMfxDb4dX4+D0rCQeJP7Wi+3rZl9i6ibAoCLQgiTd5vmiM7jF2r3Lxzq+paZ4I1C90Ozt9U1KK3aS1t5br7NHO2OMybH2jHOdp6UVHyQc5La/rp5bjirz5F/wPvNmiviS5/aU+I2u/wDBNrwH458R/a7HWrzWfCsjX2jahuu9chm1O0WbMcUcQjMqsyGEZVg5BOCRXvPgX9pfxDN8cLPwP428CN4Pudf0+51PQbuHWYtShvY7YxCeKbaiGCdBMh2jzEIziQ4xWnJo/JtfdFS/J7b6Cejt5X/Fr9Nz2Kivnm8/bk1RPCd148tfh5fXfwjsndpfEa6pGt7Jao+x7+KxKZe0GGfd5okaNdyxkEZ9o+IHjuLwP8Mta8TJEL+DSNMn1NY0k2/aFjiaQANg43AdcHrWU5qNN1ZbL/h9tylBufs1u9DeorwHQP20tauPhNb+M9X+HGp6ZpviKOwj8KWEepxXGq+Ibq7HywmDaqW69GDvJ/q9zOse0rW74K/aY1tPH7+EvHfgv/hD/EN1pVzrOki11ddUsdVgt2VZkWcRxsk0fmRFkaPGJMqzgNi5pwbUul7/ACV2vVLVrdIiD57OGt7W+ez9H3237M9hor5k8Jf8FBtb8R/A/RPirN8LtRsvhjfWEN/qGpnWI2v9OiYDzJxZ+WDJbRkndJ5iuVRnWJlwT2Wp/tS69qn7QGs+AvCngN/EL6BFpt7farNrCWVlDa3Ycl8mNmaUBG2xqDvwdzRjBJOLi+WW97fP+uuwlOLXMtt/6/rqu57TRXz1rH7cGr23hrVfG9h8OdQ1L4UaJJOLrxCuqRx301vA+ya9t7ApmW2TbI24yq7LGWSNgVz0Pj79qDWP+FpP4P8Ah/4Pg8a6xZaNba/fPda2mlWsVpcSSJD5TmOVpZW8mQhdioAF3Ou4Ulqk11/yvr207l2tv/WqX5tfej2SivIvGf7T9/pFl4P03RvBOraj488aWct9beHL25jsW0yGEJ58t5P+8WKON5Y48oJCzSKFVhkjn/E37ch8AfCPx9rHiLwffaZ4p+G5tTq2gJercedFcsohntp0T97E4L7T5atuidSqkUPS9+n+dtO+vYXbz/r5fM99orxXRf2ovE1n8XdE8MeK/h5L4Xh8ZRXLeGr063Fd/a54ITObW6jRB9mmMSuwCNMmI2+fIxXOfsh/tCfEXxr4O+IuqeM/Di3cHhvxDrdtaLpV8l5eSfZrp0SwihEEQfYq7FkZsuQNwGcg628m/kml9+u3+avXLpdd0vvTa+Wn9Wdvo2ivEPDn7U3iyx8f+HNC8b/Dc+Dz44M8Ph6Zdfhv/MuYrdrj7Ndqsa/Z5WjjkI8szJ8hG7OAfMvAn7RHjfxf+y38dNX+I2h50fwxc+JYFk0nxCbe9EdrLKv2KJ4oImj8tFKrcZLHAJXJpSfLe/SLl8k0v1/q6u4QcrW6yUfvvb5aP+k7fXlFeM+Jf2hL7wrd+GvBXgbwtN4w8WXWgxau1pe6ybS302xGI0lurx0lcs7gquI3dykhOApNYWtft7Q+HPh9Jf3vgvW4fE2meLLLwfq/hxbiKS6tLu62GJ4pFzHNG6SRujZQMH+YphsVJWlyrvb1fNy/+lNLsnoZRleHO+1/TTm/LXzR9B0V5F8Lv2kNd1v40yeA/Gvgr/hDdbutKk1vSJINXTU7XU7WOVIphvEcZjmjaWHcm0jEgKu2K6D48/HSP4L2GiwW2kXniPxJ4p1AaXomj2sixPfT7HlctI/yxRRxRvI7nOFXgMxCldFLvt99vz09SurXbf7r/lqd7RXi3hr9pnxRqWqeIPCms+BYfD3xF0zSP7asNOOuLc6ZrFtv8tpIbwQhv3bkK6vApUsmAQwNcb/wSu0LU7j9nDTfFmuaVJDrfjSyttTvNXn8Q3Gqz65I4dzK6SqFtsFyBHHlQCB/CKI638lf721+jv1TW29h6Lzvb8L/AJNW73Ppuivn63+NPxIf/goFqngtNG0ybwZb+GLLUAG1VUeESXlxG94F+zl2chAnkmTaBGGDZYgef/CH9q3x/wCDPhX491qLwTrPj3RfCHjDxH/auoXWvLBdQ2kGoXBEVlFKrG48mEKAheJAAERiVKiYyTSk9E03/wCAyUXftvu/nroaSpuLcd3eK/8AAouSt30X+Wlm/sGivIfGf7Udxc61oOifD7w03jfxDr2jJ4hWGbUBpllp+nycRTXE5SQoZGyqIsbsxRzgBSa6P4D/ABwT406Rq63Gk3fh3xD4Z1FtJ1vSLmVJXsLkIkg2yIdskbxyRyI4xlXGQpBUXyvVdr/g7P7no/PTcy5k0mutvxV1961Xlqd3RXkXxE/aQ163+Kt94N8A+CD421jQrWC81ua51dNKsdMWbcYofNaOQyXDojMI1TaBtLOm4VLeftEeI9V+Gnh/VfDvwx8VX+v6/cS2r6PqbJpY0aSLeJGvJ33BItyEI8Sy+ZuQoGVs0vs839f157D62/ruesUV8pftE/tm+NrD9lL4u3uieG08LfEf4bQmPU4JdTiuYdOWS2+0RXttIYWW5QqVwrxxkkOCBt59Q8V/tGa/4J8P+FdOufBqX/xF8XyTJYeH7HV1kgEcIDS3M120SCOFFaPc3lkhpUVVYkU2rLm9Px1/rt1Dt53/AA3/AK/zV/XaK8RtP20bbwn4Y8bv4+8O3nhLxD4As4L/AFDSra5XUhfQXBZbaSzlUJ5wllR4lDJGwkXBUAgnKv8A9sjxb4D8QeC7Hxv8LLjw0PH+vWui6XLDrsV+sDTK7EXOyJfKmVUJ2LvRsMBLkYIleSgt3ZfNuy19fu6ilJRi5vZXb9Ert23219D6Dorw7X/2sPEura94jPgP4b3Xjfw/4NvZdO1bUBrMVjNcXMIzPDYwujC5eMnY294VLhlDEqaqeJP24jqet/D7T/APhC78cT/Evw7deIdJc36afDBHC1qCLlnVvKXFzyQGYMm0IxYUo+8k49f8m7+jSbT6paDkuW9+n+aVvW7SaPfKK85+HPx7k8T/ABM8UeEdd0dPDuteGNOsNWkX7aLmK5trqN8yI+xOI5opojxzsDcbsC/+zt8Y/wDhoD4Q6X4wTS5NJstcMs9hFJMJXmtBKywTnAG3zYwsgXnAcDJp2/r+vR/c+zFf+vlf8vzXc7eivmTw5+1Npvwf+Ecms6X4Z8Ua1/bnxNv/AAuLGTWXv7t7pr6eAyRNNwsZeL5YtyogblgATXoHwn/aM1zxH8Zb3wF408GL4O8Q/wBlnXNMNvq6apaapZrKIZCJBHGySxu8QdCmB5i4ZhzSp/vEnDr/APIqb9bRafp8xzvBuM+n/wAk4/mrep63RXgv7aXxj+IHwq8U/Cq38F6bYXlv4j8WRabf/aNRW2+1qba5cWp3QS7Fbyw5lUhlMYXBDHFrxJ+1T4qh+Ol18O9A+HDa7r+naJp2uX07a4lrYWcdzJcRujStEWLI1uQgVD5m7kIFJoh76uu9vwT+6z/pWuVP3fxdub5NuP33X9O9vcKK8S+Lf7T3jT4bzeJtTtPhPqmp+DfBqyS6lqk+rw2d3eRRxiWWWxtSreeiqTzJJDuKsFB70fE3xu0HSfjjfeIbO11nUZrP4YS+JoJF1mZNPurQT71T7JzEJmwCJ8Fgp29Kh1Ipc0npq/ujKW3mov7na9rDtrbrol5tyjH85L71e2573RXzz4b/AG3ddu4PAWva38NrzQfAXxCmsrKx1iTWI5bu0ubxR9n+0WnlgpFJIVRXEhfLpvjTJA9h+MXxW0v4H/DHWvFmtfaDpuiWxuJUt4/MmnPAWONcjdI7FVUZ5ZgK0nFwTcujafqt166rTzRMJKbSj1SfyezOlor5C+PX7QvxMfxj8E7PW/BmrfDuHxD8QtOiEth4hW9S8tWguS9neiJY9jn5GMf72Jth+clQK9Q+Lf7T3jT4bzeJtTtPhPqmp+DfBqyS6lqk+rw2d3eRRxiWWWxtSreeiqTzJJDuKsFB7rRR5npq19yi7vt8XUe81COt0n97kkvP4enc9tor5x8f/tE+PZP2t/hnpHhLStM1TwV4r8N3+rYl1Vbc36q1iVnObd2QxLOdqB8Seac7dorpviz+0l438Baj4ju9L+E+p6x4V8IRtLqGp3GswWE98iRCWRrC3ZW88KpxmR4QzKwUnGaTairy0330tZ2d+w0ua3Lre1rdb7W7ntFFeNeNP2rrq58QeFdE+H/hmPxlrfi3QT4mtlvNVXSrOHTwYlEjymOVy7GZQESNu+4qME2PE37T+peH/Bvhdf8AhBNbPjzxddTWVl4WmuYo3jkg3GeaW5G6NbZFXf5oBLB4wELOFptNb97fO7T+5pp9nuTGSls+l/wv+Wvoeu0V4Fq37U3iq78C/EPR5PB8Xhz4neDtFXVv7Nk1dJ7Ge2lWUJeW935P7xVaKUFXhRt0WCoDBj2H7H3j7xX8Tv2dvCmueMbC0s9W1HS7S4Mtvei5+3q9vE/2hgIo1iZ2ZiYwCF7E9iPvOSX2eX/ybm2/8Bd/+A7EnyuKfW/4cv58yt/wVf02ivEl1mb4j/t8T6TKX/sr4aeFYNRjh/gkv9SmnjWUj+9HBaSKp/6eZKi+Hn7WPiX4o6lbarovw1vL34fXWrS6OusxazC2oK0dw1s9y1js4txIjZPneaF+YxdqFryrq7/nbX13Xk0OXut36W/Fc2ny/E9yorxHxJ+1R4n1XxZ4ktfAHw3ufG+k+C7s2GsX7azFpzS3KRiSW3so3RhcyRhkDb3hTeSoclWxW1T9t+LXNQ+HNt4I8LXvi2X4naLe6xpfmXS2C232Y24ZLksreUB55DHkqYyoV2IFJO6TXX9U2n6NJtPqh2d7f1pv812Pd6K+arf9urxfq3hLxTe6d8IL661L4cXMtr4wsG8Q28f2N44xMVspNhF4xgZJQGEIxIoyHyo7PxT+1ZNquoeHdJ+HnhpvG2v+I9Ej8SJDPqC6ZZ6fp8mBFNczlJChkbKoixuzFH6BSad77eX4ptP0aTd9rJvoxbaPz/BpP8Wl6tLqexUVwnwH+OCfGnSNXW40m78O+IfDOotpOt6RcypK9hchEkG2RDtkjeOSORHGMq4yFIKjlPHv7TfiSH4reIPCngbwB/wmV14Ptba61uSfXItM2C4R3iitlZJDNKVTPz+VH8wHmZzgl7tr9fyte/pbqC1/r5Hs1FeSfEP9pjUtK13w94b8J+DL7xF418QaU2tnSb+8XS4tHtF2qXvJ9svlsZHEYREkZmD4G1Sw5nxF+3lF4P8Ag74m13VvBusWfibwVrdhoWteGxcJLPHLeTQRxSwSqCs8TpcK6EBS2CpCMCAf1+PLp31006gtbW/rS+vbTXXofQNFfMX7Tf7RHxg8E/Cnwrqtj4J03wzqWqeNdJ0uW3l8Qw3MjWk97bRrE5Fs6K04kkjfaT5ONys+Rj6P8PXl7eeH7SfVLSHTtQkhV7q2iuPtEdvJj5lEm1d4B/i2jPoKdvc9p0vb8E/ykvTr0uX1S7q/4tfp/kXqK+dr79ujVh4PvPH1h8Ob/UvhFp7SvN4ij1WJb+W1icpJfQ2BTMlqNrvuMqyFF3LGwIzyfxnOv/GT9vnwdok2gRa54L03w42u2MUfiy4sIJ2N3ar9vkhijxK8YLKkTsysGY5G7FKHvThD+b8LRcvyTte3ySbRU9yMpPp/mo/m1e36q/1rRWD8TPGVz4A8D6hq1noWr+Jru0QGDS9MVDdXjlgqou9lQcnJZmAABJ6V5x4I/ad18fEk+EPHXgdPCGu3ujXWu6T9k1pNUtb+C2eNJo2kEUbRzJ50RK7GUhztdtpqXJK9+l/wV3+CuUot7f10/NnstFeM/wDDYNv/AMMleD/iqNCm8jxcNGKad9rG+2/tG4t4FzJtw3lmcE/KM7e2aPE37T3iLUfinr3hvwF8P5vGsXg2SKHxBfyazDpscE8kSzC1tg6t59wInjYqxijXzFBkBJA0lFxm4S3Tafla1/zWu2pMfeiprZns1FfN2if8FDo/FXw48C6/pPgfWL6bx94r1HwpY6d9pWK4iltRe7ZZN6gKG+xncGx5Yckk7cGzpP7YvjzxD4j8TeErD4Ref4/8HLDdappreJ4U077JOpa3khvPJzI8uyULG0KYMTb2QFS0y93f+uv5O/oO2tv63a/NW9T6IorwyD9tiHxp4G8BXPgvwtqHiLxR8RLGXUbDQ7m6Sx/s+CDatzJeT4cRJFK6RHarsXdQqnkjP8V/t3/8K7+G3ijUPEXgzUdP8VeC9T0vT9V0CG8S6MiX9xHDBc20yr++ibe23KIxaJ0KqabTTt8vxtp3100/QW9vP+te3zPoOivF/DH7TfikfF618HeLPh4fC974i0661Dw3OuuR30OotbhGktrgpGPs84EithfNQqGIdtuK539jv9oL4heOfhh431rxp4dF4uga7rcFp/Zd6l3eXP2a9njWyjgWGJSUVBGkhbMmAW25NTzK9vJv5J2++/T/ADV3ytq67pfNpv8AT+rO30VRXiHhz9qbxZY+P/DmheN/hufB58cGeHw9Muvw3/mXMVu1x9mu1WNfs8rRxyEeWZk+QjdnAPmXgT9ojxv4v/Zb+Omr/EbQ86P4YufEsCyaT4hNveiO1llX7FE8UETR+WilVuMljgErk0SfLe/SLl8k0v1/q6vUIOVrdZKP33t8tH/SdvryivFNa/aJ1LRNY0XwR4A8IzeMvEsOgW2r3kV/rf2O20qzfMcJuLt0lkeaUxyBQI2ZvKdmKjBOZrP7eVpovwpi12Twhrn9uW3i628F6t4d86I3un38zqoVWUmOVWEkTo25VdJVJKc4uStLl87f+Tcv/pTS7XZkpe4pvtf8Ob8te7R79RXjvw9/aC1fxd8XLr4c+PvAqeE9T1LR5dW03y9Wj1Wz1azSRIZ0LCOMpLGZot0ZUriTIdgDUf7DviK9m+F+teF9Qne6ufh14jv/AAsk7sXea1gkDWhZiSWYWskCsScllJ71K1+669E+V/c2l9/YqTS372+bXMvwTf3dz2aiiigAooooAK+Ov+Ckf/BIDQv+Ch/xJ8N+Kp/GGo+EtV0WyGl3PlWK3sd7aLK8qqql08uQNLL8+WBDDK8V9i0UAYfwy+H2n/CX4beH/Cuk+d/ZXhnTLbSbLzn3yeTBEsUe5sDLbUGTjk1w37ZngfxN8VfgRfeEPC9s0k3i65t9H1K5W4SH+ztNmlVb2cFmBJFv5iqEy251wODj1Wik4qWktvz8n5PZ+Q1Jxd46P8vP1W6Pl/4w/sFWXgfw34f8R/Db/hNNR8Y+ANUs9T0XT9T8aalqFtNFG4juLZI726a3jMlq80YbC7dw5AzWxo+l/ED9nH4z/EKbRvAF/wCPPD/xG1WLxBZ3VhqllaPpF4bS3tZYLtbiWM+T/o6OskIlbDOCmQN30RRVKUlfXe/48t198Yv1Xm7qytt2/C9vza+fpb44+Gf7N3xR+F/wi8CeIJNCstV8b+BPG3iHW73QoL6GJdZstRubwObaZm8tJDHPHLGsrL02OUJ47zwD4d+InxE/bh0j4h654KufCHhKz8FahocFvfX9nPqENzJe2coMy280iDzFifaI2cKIssys4QfRdFVGfLP2i3V/xg4fk+vUHqmu+/8A4Fzfn+Gh5Z8Y/hzrPir9oX4Ra5YWfn6X4XvdTm1OfzUX7Ms1hJFGdrMGbLsB8oOM5OBzXm/7RXwk8Q+Iv2j7jVda8B+Jfir4Fu9FtbPSdJ07X4LO00e9WWY3El1az3MEcyyq8GJMSsoiYBRnn6borLls7/1tYFpfz/zufHXwN/ZQ8beBPAvwq0648KaZon/CL/FTWPEV7Y6bdwfY9M02dNTEDQ4Zd0f+kQqqhQ4DDKLggej/AB1/Zq1f41/GzxcrobLw54o+GN34T/tMSRsYLqa5Y48vdvOEbdnbt4xnNe/UUnTi4qL2V/xp+z/9J19fuLlOTlzddH91T2i/8m/Dz1PkD4yaT8avjb+zlpngB/hdJpWsaTf6M+rao+tWD6bqMVpf20kjWOJvOO5YjJieOHaoYfM+1T3Nppnjz9mj4vfEW70T4f6l8Q9A+IWqx+ILOTStTsbWfTbz7JBaywXK3c0I8o/ZkdZIjIRvYFOAW+hqK15pXcr6u9/O/Lf8Yp6dURFKMVBbLbyt/wAO1rrr6W+Yvhf+y54t8B+I/g9eX0Frd3em6/4i8R+J5bW4X7Pp8+px3Egij37XkRZJhGCq5O3cQAa7L4P/AAk8Q+Fv2lPjxr9/p/kaR4zn0l9Gn8+Nvtgg01YZflDFk2yAr84XPUZHNe10VnKKaktk1b0Wm3pZBG8Zc+7vf57/AInmH7Ffw81j4SfsmfD3wz4gs/7P1vQ9DtrO+tvNSXyJUQBl3oWRsHupI968ub9nfxif+CYnjP4ef2P/AMVhq2k6/bWmn/a4P3slzc3TwL5u/wAsblkQ5LADdzjBr6goqpe9LnY07SUux8+6j4a8bfAL46an4w0TwXqHj3RvGOh6dYajY6VfWdvqOlXlkJVVwLqaGKSGRJcHEu5WTO1g2Ry1p+zR431C003xHqGkwQ+IvE3xXsfG2sabBfRSJollDAlskZkJVZXSGCIvszl3bbuABr6ropp2nz9bp/dNTt98V52W5k6SdN0ujTX3xcL+tm/K+rR8fftNfBTxT438a+LrjQvg5qFj8QL4+T4c+IXhjxPBpMKpsAgm1Ei4iuXMLZ3RG3uEZVCrkHAT4sfsg/2X8etd8X6/8Jm+NFv4vsbAzzabqFrZ3+mX1tbi3kzFc3FvE1vKqRsCshdWDgqQQR9hUVKilFJf1/l3drXdr6JI2cm23/W6fz20T26HnP7K3wzX4U/Buy07/hEdG8DSzzz3sui6ZdNdQ2bSSFgGlPDyFdu8r8u/dgkYJ5Bfh94o0D9rrxpcN4budT8G/EzRbGzk1q0vbdP7DltYbpHSeGR1lYOJE2NEr8k7goGa91ooqKNT41ddvlb1Jj7u2+9/O97nyFF8OfixJ+yRF+z6/gKSNl0VfCD+NV1WyOjf2aIxb/bFi837X55gH+pMG3zOPM2/NX1fa6Ilj4cj02FiI4bYWyM3JAC7QTV6iqqt1Ob2mrlu+r/q7+9gtGuXZbLtt/kvuR8geHPgX8Rbr9iTwj8Nb3wbPZa18PvEnh2ET/2nZyW2s2djqdtNLewkS7lTyY2bZKEkyCoVjjPrHxo+Eeu+M/2vfg/4ls7Dz/D/AIZsdfg1a6E8afZTdW9ukI2Fg7bijj5VOMc44r2eihyvHlfdv5yiov8ABX9fLQPtc/y/Fv8AU+DPBv7CNv8ADjwXB4Fu/wBnXTvGeq2Tmxg8WTa5bR6Lf2pchLi6Qzi6STyiN8Uds4Lg7WKnI+w/jH4Pudf+AninQNItlku73QLvT7K3VwgZ2t3jjQMxAHJAyTj1NdhRWVWmqlJ0ZbNWf3W9PwLjNxqqst07/jf1/E+bvjn+ypqfxY/ZA+HGgT6Jp+r654CbSNTl0K+u/Jt9TktrbyZ7RpkyFZkklCPyu8ISduTWV8C/gLpmgeNtR8QWHwGj+Ftvp2iXUC6hqmqW1zqc80oAaOGO1uLiMQ7VO5ndWJ2YTAJr6mqO5tkvLaSGRd8cqlHU/wAQIwRV1+ap7RrefM/nJW9e2n/BvnQiqcacOkEkvRO/pvf7/S3wv8Bl+J/xZ/4JoeCvhdY+AZJI/F3gu00oeLjqdmmkWen3FsqtK8Rl+1m4jiYr5awFGcA+YFJx9H/Bz4Rar4F/aM+I2qz2jJoOr6Xodlpl000bG5NrDOkuVB3KV3p95QDnjODXpXgzwdpfw88J6doWiWUOm6RpFulpZWkIxHbxIAqIo9AAAK061xLjVqSn3bfn1tf0u/vZnCm1CEH9n/gX++y+4+DPDP7Cdv8ADLwrL4In/Z20/wAc6lbzy21h4qk1y2h0e9tXlYxy3qNOt1HIkbASJFbyBmU7WIbj1z9pf4QnXPGGmR3fwOuPHmm6VpMVtoeteF9dg0nW9GmG4PA00tzayxwYEZVoZXOQ25M4z9L0Vlb3VH+trf1b8tDZybk5Pr+ru/6Z8Y+M/wBjfxZrXhv4S+JfHnhdPi/rXhPRb3R9f0RtWjW9ZLmaKaKaC4maKKeeAQrE5keMShmcHdgG7e/sp3up/s0fEqz8KfB6w+HeqeKZtPisdMOqQTalfwW9xHJvunWV7eMjdMURJn+U8ncdtfYNFXzaNev4vm+eve+/paJQUo8r7W+5W/r0PJ/jz8NNb8afHX4Lazptl9p03wlr99e6tN50afZYZNJvLdG2swZ8yyxrhASN2SMAkeZ6Z8J/il4b+Gfxv8DaHpdxpGo69qer+IPDHiqHVIIre6a+m85bcbWNxbzrudPMMe0YDK2eK+pKKmWu/Zx+Taf5pGnM7Jdmn93N/wDJNf8ABPi7wp+zPqmqfHz4Q+JtG+Ceo+B4fCetzz6/q3iDXrPUtZmjfTbqEbZUurh5YPNePdukDsxQ+XhSw6K/+Cnj+2+Bf7Q/w4TwjPdf8Jc3iHVvDusRajaC11V9S3vHalGlEkUqNIVJkUR4XO/nFfV9FFRc8XF7NSXylZ/mlb8bjpzlBxcfsuL+cea3/pTufPmu+B/GfwW+NGl+P9C8J3fjW01LwlZ+Gdc0jT761g1GzltZJJYJ4ftEkUEiEzzJIDKpGEK7uRXJ3/7O/j7x1qMvjTU9CTTtb8T/ABF0DXJtEW+glfRNJ08JGPNlDeXJNgSSOImf/WBVL7c19X0UPWam+kuZevOp/wDpS9bNpMxcE4OHdcvy5eT/ANJ/L1PJvF/wz1vVP21fA3i2Cy3+HtH8Ka1pl5d+dGPJuLi5054U2Ft53LBKchSBs5IyMx/tQ/D3xJqmv+A/GvhLTote1j4f6pNdvoz3KWz6ra3FtJbzRxSPhFmAdXTeyoShUsu7cPXaKG7xjD+X/wCScvzf3F6Ntvr/AJJfp954N4I8H+LvjD+0MfiL4i8J33gew0Dw1d+HtG0rUL61uNQvJLuaGWe4m+zSSwxoPs0KIolYnLlgvFdV+xX8PNY+En7Jnw98M+ILP+z9b0PQ7azvrbzUl8iVEAZd6FkbB7qSPevT6KFouVbf8GT/ABcm/wAtAu9b9f8AJL8kjxTxN4O8VeEf23bHxnp3hufxD4b8R+GoPDV/cW15bwyaHJDdzTi4kSV0MkTLOR+63OCn3Tmsr4Z/BLxP4e/ZT+KPhq80zyta8R6r4qudOtvtMTfaI726upLZtwYqu9ZEOGIK5+bBBr6AorKdGMqbpPZqUflKXM/x2/U1VaSn7TreL+cY8q/Df09T4r8Q/sVXOmXHw68TeIfhb/ws0WHgLTfCusaHb6nbQahpNzagus0Blmit5kJllSQecCNkZXdk17x+x98JoPhd4G1R4vh5pnw0Otai12NJtr0Xlx5YRI0e6dGaPzyF5EbuoAUbjg165RXQ5tylLu2/vlzP8e9/yOeMFGMY9kl9y5V+C6W/M8B1vSfG37Pv7Q/jXxPoHgTU/iF4f+IcdldTRaTqNlbX2l31tALYh1u5oUaCSJIiGRyysr5Qgg1z/wAbvA/xP+IenfDrWPFPhS+8Radafb38TeDPCXiAWDNLKUNkzSy3Ful0sCK6yI0qozyblRgoFfT1FZcqsl2/q39a6K2przO9/wCtrf10PirQP2LvFGq/CT9pDQ9O8DaJ8O7f4maVaw+G9NiuoHQOtnJGwuGhZgJjIRvblct8rSBd56n9oD4F6z+0bYfDXx5r/wAJ59Tv/CaX9lqvge/1e0W7kguPLXzreeOY2zyq9vGyq8qKySOCVYAV9WUVT1Vn0tbytp+K0f4WJh7isv73/k2/9ffc+QIP2RrPxF8D/iQunfDfRfgg+pw2Uumz6pqMVzdSvYzi7jkvvIllhjgEyLgJK7bWkJwSBUP7Rfj74meNfGnwKtvEvgnTfB1qvxJ00XAj1qPU5NSkW3upC0ARRtgUIzFn2uflGwcmvrrX9AsfFWiXemanZ2uo6dfwtb3VrcxLLDcRsCGR0YEMpBIIIwc1wPw4/ZD+HXwn8U22taH4big1Swha3sri4u7i8OnRtwyW4mdxApHBEQUY46cURdqkZPaLi/nF3/Gy/wAtNVNXpSh/MpL/AMCjy/h/TPN/CVp8Sv2X7jxl4c0L4cXnjvTtd16/17QNVs9XsrW3tjeytPJDfrPKksflzSSYaCObdHt4DAio/gf+yp4j+DHxX+Dvm+XquneDvA2saTrGqRyIkbahdXVhPhIywfa7R3BGFwoUA4yAfpWiil+7s10VvlyuH5P5tK9x1Pfcm+ru/XmUn+K/yPlT/go14G1y88U+BrnwhdJZ6/49e5+G98RP5co06/TzpbmMfxSWwt3kXjgO/IzX074a8O2fhDw5YaTp8KW1hpltHaW0KD5Yoo1Coo9gABWKfgt4Vb4qf8Ju2h2EnixbX7EmqSJvnhh6FEJzsB77cZyc9a6iiHuw5fP8Oi+9yl6yYS1lzeX49X9yivSKPlbQf2b/ABpZeAPDllJo225sPjNd+LJ0+1wHZpj6jdzJcZ34OY5UbYPn+bG3IIHqOvfDTW739t/wx4wjst3h3TvBWqaRcXfnRjy7qa9sJY49m7ecpBKdwUqNuCQSAfWKKKH7pJR6X/Gmqf8A6Sr+vloFX95OVR7y/wDk3P8ANv5eep47+2P4B8SeKtE8D634W0c+I9S8CeK7XxC+kJdRW02pQpDcQSRxSSssayAT7hvZQdmMjNHw18AeIU/a98YeNdQ0abTNG8QeD9CsYDLcQSSJdQT6hJPAyxuxzGLiLLfcbd8rNg49iop03yJpdXf70l+SQVLztfokvkpcy/Fv5P0PiL4tfsyeL/G9r8TtI1/4Wah8SPE/iC61OXw/4l1fxBbTeH7G1lD/AGONbSW5DwSQoypsjttrOoYygMXXt/8AhnHxn/0Bv+aJ/wDCI/8AH3B/yFOP9H+//wCP/c/2q+pqKwdGLh7N9rf+STh99pt+tvm5vmqKo907/wDk8J/deCVuiuvT59+J/wAEfFHiL9lr4TeHLPTPO1nwzrPhO71K3+0xL9misbq1kum3FgrbFjc4Uktt+XcSK7v9rX4PX/x4/Z+1/wANaTc21prFx9nvNOkuc+R9qtriK5hWTAJCNJCqsQCQCcV6PRXVVqSqKV9Lycvm1FaenKrGdCmqShGP2Uo/JX/zPl34nJ8Wf2jfEPwu834Y33g2x8I+MdP1nXm1DWNPuDcJEsqsbXyZ3LQoX3FnEch+QLEctt4T4tfsyeL/ABva/E7SNf8AhZqHxI8T+ILrU5fD/iXV/EFtN4fsbWUP9jjW0luQ8EkKMqbI7bazqGMoDF1+3aKwnTjKModHf/yZRX5RVvmaRk4zU1uuX/yVya/GTv8ALsfNd38K/G/w88S/ATxNp/hWbxG/g/wxN4Y17TbW/tYbmxNzFYg3CtLIsUiRvasGCvuIYFQ1cD8U/wBm3xX4y1r4mad4j+Fmo/EzWfEN7fTeG9f1TxDbyeHdOs5IyLaE2ctwHgeEEqRHbMJHAYyDcWX7Soqq8fbOTl9rm/8AJnd2+ez31a2FQ/cwhTjtHl/8lTSv9+q20Ttc+UvGXwT1NPhD8KNE8UfBQ/Ee18N+GbW0mk0jVrS017w9qUcMSP5M0lxbqImCkF4bjduUfKwwRy+ufsa+MvFPws+HWs+NPDDfETUvBWqau7eFNS14T366Rev+4txfSOqT3lusdv8ANLIEcCRfMPDn7Voq6knOUpvdu/43/wCBfe2l9WKlH2cIwjtFW89rb/i1s30Pmz4A/s4WltpHj6TTPhJZfCNPEWkHRrM3d/Fd6pdhkk3NcLbyzQpErOuxVlZj85IXIB9B/Y3h8T6L+z54d0Dxd4VuvCmseFbK30R45L62u4r8QQRp9pheF2/dOQcCQI4wcqOK9SopLRu3VJf+A3t/6VLy19BcqbT6q/42v/6SvPQ8M0ayl8B/8FD9eluCRZ/ETwXZGxcj5WuNMubgTRZ9fLvonA6kBz/Ca8m174F+M9X+JEN74a+El98NvHsviSC81TxjofiW3t/Dmo2iXKtNLNax3AlupJrcMhSa0z5j58wBd9fYt1pltfXFvLNbwTS2jmSB3jDNCxBUspP3TgkZHYmp6Itpxk94/wCd/wDgeaWpUtebzt+EeX/g+vkfOXhu1+Iv7L3iDxzpGhfDi+8f6T4n1+88RaJqFhq9jaR2kt4wklgvluZY5EVJi5DwpNmNh8oYYNb4K/sr+JfhF8S/g086wala+FPDGv2+u6jBKqQpqF/c2dxtjRiJCjOs+0hThUG7BIz9LUVMYpKP91WXok42+777K5Tk3Jy6u7fq3dv7/wA2fP8A8Ovgl4n0KP8AaNF1pnlf8J5rlzeaF/pMTfbon0i1t1bhjszLG64k2njOMEGvK/EP7FVzplx8OvE3iH4W/wDCzRYeAtN8K6xodvqdtBqGk3NqC6zQGWaK3mQmWVJB5wI2Rld2TX2pRSUUmmuigvlCMor71J387NWJerbfXm/8mlGT+5xVvxueR/sffCaD4XeBtUeL4eaZ8NDrWotdjSba9F5ceWESNHunRmj88heRG7qAFG44NeeftV/Cu/8AG3xP1C7n+COpeLrtLFIfDvizwr4kt9F1WzYqd0V1O9zbTxosp3KYvOXaSSuflP0/RTmua1+n+Vvv9BwfL/Xnc+ZdD+GnxP8AgZ4q8E+ObrS5vijrv/CE23hTxfb6de21vfy3EMhmju7c3LwwyjfJOsgaSNjuRlB5WsTxx+zx4/8Ait4O8beKL3w6umeJPG3inwzdW/h/7fbyS6ZpmmX1s5M8ofyWnKi4lZY3YAbEVnI5+taKp6u76O68ve5vzv8AJtCWjT66fO0eVfgltbb1PIv21vht4g+JPwesR4X09NY1nw74j0fxFDpzXCW7aitlfQ3LwJI5CK7JGwUuQucZIHNek+G9QufFXg+zudR0u70O6v7VXuNPuZYpJrJmX5onaJnjLLkglGZeOCa1KKX2HTezd/m0k/vSX3eoX1Uuq0/G/wCr+8+SdF8D/FnwH+zBP8CtP8BSXc0emz+GtN8aDVbIaNHYSB4o7uaJpRd+ekLDdCsDK0i8PtOR6f4T+B2p+Cf2n/C+o2ls8nhbw/8AD1vDS3rzJu89bq3ZEKbt5JjjJ3Y28dc17PRSStNVOq/H3ZR19FOTXm+2gqq51yvb8vejL8XGPyXfU8s/bJ8FeLfH/wACrvT/AAbJff2n9usp7m1sdSOmXWpWUdzG91axXIZTDJLAJEV9y4LfeUHI8U+Ef7M1/wD8NXeHfF2l/CJ/hr4bi8MaxpGo3Oo6jZ3es3NxO9oYjOYbicsmI5Nh81znfuEeV3fX1FLlTTT63/Fcv3W6bJ69WXztWt0/zv8A19x8SW/wo+M8v7KfhD4PN8NI4v8AhBNT0G3m186/ZtaavZWGo20nn20e/wA0OYoQ7JMse3DBd7bVPqWkaN4++BPxx+Ix8JeGdG8d6N451aHXWP8Ab8Wn3OgXjWkFu8dyjoxMDLbxyK8e5+XGw4BP0TXnXxL/AGTvh98XvFD63rvh2ObVp7dbS4u7a7nspb2BSSsU7QOnnIMnCybgMnA5NW5z5nO+sr3872v97inpb9BacvL0W3l/Sb3v/l8yfshfDHxT47+FXwX1hbaDUf8AhHPin4o1jW7uB0hhSJ31qDz41dtzI00yABdxw4PQE1758L/hVr/h39tH4teLLyw8nw/4m0fQLXTLrz42+0y2y3onXYGLrt82PllAO7jODj1Twp4U0zwL4asdG0XT7PStJ0yFba0s7SFYoLaJRhURFAAAHYVoVVSXNotv+BYnV3b6/wDyXN+b+4+HP+GGtZtPh/8ACfWfEfw6i8eXHg6w1fSNY8LDU7eG6EV3fC4iubaRpVgeRPLAKPKgKzN825dp35v2UL7UPgr4hXwr8HrD4d3ur+J/DtzDpx1W3m1K7srHUre4klumWV7dCi+eyRxyudvfc22vsSioj7qsun/yXN+ffv6Wa0t5afcrf16HlnxX+HGs+Jf2mfhP4hsrPztI8M/2v/aVx5yL9m8+1WOL5SwZtzAj5Qcd8CvLvDvwn+KXhr4K/GbwBo+l3GiatqGpaxrPhjxRDqkEdvqH2+6kuViXaxuLeZBIULtHhThlY19SUVHIrvzTX3tP9EOLsrLupfNJr8mz4u8Kfsz6pqnx8+EPibRvgnqPgeHwnrc8+v6t4g16z1LWZo3026hG2VLq4eWDzXj3bpA7MUPl4UsOiv8A4KeP7b4F/tD/AA4TwjPdf8Jc3iHVvDusRajaC11V9S3vHalGlEkUqNIVJkUR4XO/nFfV9FXUXPFxezUl8pWf5pW/G5VOcoOLj9lxfzjzW/8ASnc+dp/Bfjb4BfG6Txvovg2+8daZ4o8LaXomrabpl9Zwajpl1YmcxyILmWKGWJ1uXVsShlKKQGDHHON+zb458Q6X/wAJLqOjw23iPxZ8UdI8X6jpMV9FKND0+0WCBUaXKpJIsMAd/LLZZyqbwAT9WUVUpOVRVHumn901O3peK87aJmPIvZul0at/5Lyfl8r62PJfGXw21rUP20/A/i+KzDeHdF8J61pt7eGaNfIuLi5054k2Ft53LBKchSBs5IyM5H7B+nNqHgPxj4w8nyYPiJ4x1PxBZHj99Zl1t7aXI6iSG3jkH+zIK9uubaO8t3hmjSWKVSjo67ldTwQQeCDSWtrHY2scMMaQwwqEjjRQqooGAABwAB2pRdkvJOPylPnf42t5IuXvb90/ujyr8Hr5klFFFIAooooAKKKKACiivLP20fjfq37Of7Oms+LtEt9PutS066sIY4r6N3gZZ76C3fIRkbISViPmHIGcjgi1aXdpffoB6nRXnv7WfxZ1H4D/ALMXj/xppENlcap4V0G81S0ivEZ7eSWGFnUSBWVipIGQGBx3FVfGf7WHg34UaToX/CU6sbXVtasEv1sLDT7rULnyyFDzeTbxySLCGbBkYbR3aldartb8b/5MO3nf8Lf5o9MorivEf7Rngfwp8MdP8ZXniTTv+Eb1cRf2de27G5GomUZjSBIwzzOwBwiKzHB44NWvhJ8bvC/xz0S4v/C+qpqMVlP9mu4nhktrmylwG8uaCVVlifawO11U4IOMGqs7tdt/L1C+iffY6uivAvjl8YfiY37V3h/4beALvwLpceoeFbvxHdXniDSLrUDmG7gtxGiwXUGAfOzk5+771r/Cv42+MtD+M0Xw6+Jlh4dXW9U02bVtD1rQBNHp+sRQPGlxE0Exd7eeMyxtt8yRWV8hsqVCp+/FSXXmt58raf4xf3BL3W0+lvxs1+aPZqK8tsf21fhfqPxATw1F4stTqMt6dNilNtOthPdhiptUvCgtnn3KV8pZC+Rjbniu50T4g6P4j8Xa3oVlerPq3hzyP7RtwjA23noXiySMHcoJ+UnHfFG6utgej5XubNFeB/Gb9t3SPAV98K9U0zU9EfwX4016/wBL1TU72OVPs0VtZ3cjGLJTD+fbBPmVs8gDJBroh+134W8c/CjxxrPgvVIdQ1fwdpVxfTaff2VxZXNu6wvJEZraZYphG5Q4bADAHa3FROahTlUeyTb9FqVGLlOMFu7W+ba/Q9aorywftU+HPBHwV8F+JvGmpQ6be+LdMtrqGzsrSe7nu5nt1mkS3toVknkCgk4VWIGMnvXZ/DP4p+H/AIx+E4tc8M6rbavpksjw+dCSDHIjFXjdSAySKwIZGAZTwQK2nBxlKD3i7Mxp1IzhGpHaSuvmdBRXmXgT4y6rf/tNeN/AGuW9hCum2Flrnh+a3jdHvbCYNFMJNzMGkiuInBKhRtli+XPJw7b9q+20z4p/E59fvtB0P4c/DkWGmSarcsyTT6rKnnTRbt20qsctoioqF2kkYAk4WoTTSflf7tH+Pu+uhrZ3a6q346r8NfQ9poryzSf2svCfxG8BeLr/AMIaot7q3hbTJb+bT7+xubG5gxHI0TyW86RTCJyhw20BsHDcVR+Cvxr1b4l674Ckvda8P2x8SeBIfEV5oUOnTi5aeQwZnjnMhRYFMhTy2BfLA7iKI6zcOqt+Kk1/6Q/+G1JlJKzfW/4OK/8Abkew0V8zftQf8FKfBnwx+Dnjm/8ABuv6PrHivw1aTGyS7s7ptLvbqJsPAlyoSGeRcPujimLjacgYNeo/E79rPwF8GdYtdL8R695GsXFqt61jZWNzqFzBATjz5Y7eORoocgjzJAqfKeeDR0T77eZTTWnr+Fv80ekUV4l8c/25/Cvwctvhzd25k8RaX8RNTitra+02G4u4EtHgll+0o0EUglOUUCMEMwcsOFNdZ4T+Jx8Q/GvW9PXxFpMulWnh+w1WPSTps9vf2InefFxNM5CmNxEQE2BlMbbsd3Z6vs2n5NK/9f8AAdk9LeaTXo3b8/61V/QaK8v+H/7Z3wy+KHjK20HRPFVvdahf7/sBe1ngttW2AlvslxJGsN1gAk+Q74AJ6Cq3jj9uX4WfDm/1K21fxUkE2i3b2epLFp91cf2a6BSzXBjiYQxDcP3r7YzzhuDheXf/AIb82gPWaKh0/UYNX0+C6tZorm1uY1lhmicPHKjDKsrDgggggjrmvI/CX7Qv9oeMfiz4g1fUU034f/DaUaSWaAMDNb24ub66ZlBcqolSIKO8MhwSwwPRtPom35JWX5tL5gtUnHW7SXm32+V38j2Kiuf174paD4Xi8Pvf6gluviq9i0/Si0bn7ZPJG8qIMDglI3PzYHy8muR1r9sr4aeHviG3he78UQx6pFeLp0zi0uHsbW6YqFtpbxYzbRTEugEbyK5LAYyadnzcvXb56afivvQdObpv8tdfwf3M9Oory25+O1l4C8bfEa58T+LtCXw34UXTSbWLTLiO50Tz0PNxNuZZhKxUr5aLsGQ2etXPh3+1n8Pfit4+l8MaF4iju9bSBruKCS0nt1voFIDTW0kiKlzGCy5eFnXkc0lq7Lf+mHS/T+v+GPRqK8p1/wDbd+FvhjxfqWiXvi23jvNHd4b6VbS4ks7WZF3NbvdLGYBPj/ljv8wngLnivSfDniCz8W+HrHVdPmFzYanbx3dtMFIEsUihkbBAIypB5GeaF7y5lt/nsDdpcr3LtFeW6v8Atp/DDQfH7eGrvxZaw6jHeDTpZjbT/wBnwXRIUW0l4E+zJMWIHlNKHycYzWf4g/bL0Lw3+1dafC24stT+03Wl/bPt0en3kiLcNPFGkPywFNhWXcZt+xSNrEHoRfM4qP2r287K/wCX6LdoJe6m5dLX+bt+Z7FRXzx4b/4KC+FPDd34zg8favYaLJ4d8VXujw/Y7C6nW3s4igjuLto1kECsS4MshjjJU4xg16l8UP2ifBnwc0HTdR17W44oNaONNjtIJb+51L5N5+zwW6ySzYT5jsVsDBpRkpQjUWzSf/gSuvnrsH2nHqm1/wCAuz+Wh2tFefn9qf4er8Ko/G58VaavhWS9j05tQYsEguXmWAQyjG6JxKwVg4UoT82K2vhT8X/D/wAbPDDaz4au577TVna3E8tlPaiRlAJKCZELoQwIdQVYHIJqrPXy/wCB/mvvQrpW8/6/RnTUVzHh/wCMvhnxT4Q1fXrLVoJNJ0C4u7XUbh0eIWUtqzLcK4cBgUKNnjtkZBFcj4q/bZ+GXgy30h73xKWfXNOi1e1t7TTbu8uVspBlLmWGGJ5IIT/flVF4PPBxN1+X46r70nbvYqz29fw0f3NpP1PVaK8q8UftDh/iT8I7Pw1c6NrHhv4kSXrNqEbGYSQxWL3ETwOjhcMQMkhsg8YPNM8FftFaP4U/Z9j8Z+NvGvh28sDe3Ft/a1lYTWVvcMLqSGKCOB2eV5QVEe1cl2U7RyKG7Nxelv6/UlNS+E9YorwP4e/tr2Hxf/ax0rwZ4YubG98OXHhK91u9e4srm01SyvIbu1iWKSKbY8KmOcsVkiDH5SDjr1HhX9tj4XeNvHNv4e0vxZa3V9e3LWdnMLWdbC/uF3bobe8aMW08o2N8kcjN8p4qkm1F/wA17d9JOP5pjel/K34q/wCR6pRXiXw0/bW0T4q/GX4g+CLS3v8ATr7wfOtvbXk+mXrQ3f8AoizySSboUWMIzFQpkzIFDKcMK1fDX7THh/wZ+zr4Q8W+MfF+j6gPENpAbfUdM064jTW5pI/MX7JZjzLhiygsI1DNgE444X2ebpp+N7fl/Wo2mny9dfws/wBf8z1iivPdG/aq+H+v/CzVPGlr4ktn8O6G5i1OdoZUm02QFQY54GQTRSDcvyOgbDA4wc1F4B/a2+HnxO+IR8K6J4khu9cMMlzBA9rPAmoRRkB5LaWRFjuUXIy0LOBnrR9rl6k3Vr9D0eivMP2d/ilqfivxF498Ka/N9p13wJrrWhufKWL7bZXEa3VnLtXjPlS+UxAALwOcDOK9Po6J90n96uPq12bX3BRRRQAUUUUAFFFFABRRRQAUUUUAFFFFABRRRQAUUUUAFFFFABRRRQAUUUUAFFFFABRRRQAUUUUAFFFFABRRRQAUUUUAFFFFABRRRQAUUUUAFFFFABRRRQAUUUUAFFFFABRRRQAUUUUAFFFFABRRRQAUUUUAFFFFABX5y/8ABbD9gT45/tefFrwHq3w0m/tPw/pFn9nk07+1o7H+y7zznc3uJHUNuRo1ym5x5PTmv0aooA5z4QeHdY8H/CXwvpPiLU/7b8QaXpFpaanqOSft91HCiTTZPPzuGbnn5q87/wCCg3w31b4r/sg+L9I0Kyn1LVlS11C3s4ADLeG1uobkxICQC7CEqB3JFez0UnfeO/T1Ww1a+p8hftX/ALZ3w6/aU/ZT8WeBvAniGDxN478f6PcaFpvhqzRzq0FxOhiP2m2IElssW4tI0wQKEbJqx+0BrPhj4J/GnTtQf4uW/wAHvG0XhW0sJbzX9Phn8P8AiO1hklKRDzjHvmikZyVgmSQLMuQwIx9ZiJVkLBVDHqccmh41lA3KGwcjIzg0WV7rR/8AAaVv/AnfunYE9LPa36p6/wDgKt2ep8J+PPGXiTxl4d+AXxO13U4/hHotjBrVtf6raaGk2n6XPOyJa3rQXKsLWC4ihlKyS4aP7SqMw3kn1z9iu00jxZ8XvHXjLS/ifd/FKW+srDSbvVoNKtrXSpTAZ3QQzW6iK4kQTMrlS20FFJ7V9IkZFCqEXAAAHQAdKpaNtedvn/T7fgKV3FR9Pwd/8t7nyl8fvjj4P+AX/BSzwhrHjXxLo3hbS7j4b6naRXWpXS28Ukx1KyYRhmONxVGOPRTVnVPFb/tn/HjSta+H5u5vCngXw9rCQ+JHt5Lez1PU76FYIYbR3UeckaLI7yoCgLRgMTkD6lorL2alQVCeyU12+OU3+HPp5pPyK5n7T2kf7v8A5Kor8eX8fmfCGsfGDwX4n/4JyWHwY0eS1j+LA0C18N23g3aV1jTNYjEaiaS3AMkaRTr55uCNm1d+45BPpem/HXwz+zL+2X8SbTx7q/8AYlx4zsNEu9Dknt5CuuGGCSCaO32qfNnWTH7pcufMXAOa+otg37sDdjGcc4pSMke3I9q3qTc588t223bz7dtfXTTzMVTSSito7f8AB76enVn54eGPFul6H8JP2Vdd1qwum0u0+IGv31xG9sZJLICPV3EzoASPJOJGIztEZPavQ/iz8SNA/aI+MvjDxR8PtTsvEfhvw18KNd0rXNc0yUT2Fxc3BhltbVZ1ykskaxXDkKT5YlGcF8V9m0iII1woCgdgMVhOnzU3TXaSX/b0HB+uj9b9baGtJ8koy7cv/ks+f89Op8IeI2vfh547+EPi7U/iN/wq3wxefC6w0ez8QXGlWt1Y214CkstvLNcqY7YzRmIqSVEn2cjJKgV7l+wfomlS2vj3xPpHjbUfH8Pi3XVuZ9Zk0qKwsr6eK2hgaW18pVjmjKxoplQEMyNycV766CRcEAg9QR1oA2jArolUvKUu/N/5NLn/AD7W6fPGnScIRhfZRXryxUfyS3v1+Xzt+3j4nh/Z01Dwf8cXhmktPAc8+ma+sEbPJLpN8FRsKvJKXSWknsFf1rjdWutf/Zd/Yq8HX+oJoFjr3ivxJBrHizXNasGv7HwvcX8sl1PeyRhkJEEhjhRmdVT5GY4U19eUjLuXBGQeCD3rKKaVvNP0V7uPpJ6vzN2729H99mlL1im12a0sfCnh7xpB44/aW8a31l8Rpvibay/CPVE/te3srWDSyVuVPlWz26BZgm87iXk2ltu4HcK6L4K6be6z4x+HNppr+VqN1+z+IbV923ZKz2gQ57YYjmvslVCLgAADoAOlLWPsE1yt6Wa+9Vl/7m/8l89MnFufP5p/c6X/AMq/8m8tfzr+OXx9+Hd1/wAEi9R+GqfZW8b6D4Sg06/8IGP/AImmjXdoI/Onng+9HHHIhk85gEb5SrMXXPsHxP8A2hJdB/aO8T+HNW+IXhr4PWtpY6d/Zkh0aGfXPGKvFvZreScskojkZ4VhjhkcPk/xqD9ZhAHLYG48E45NI0auwJUEr0JHSuurUdR80t223217f8G/5MuCUYKC2Ssr6v7O/wBx8D/D/XoPBX7C/wCz14n1e4vLfQPCXxDkvdX1C/iEZ02187VYBNcBVCxgPLErYUKpboAOOr+Puh6h8Z/iT+0bY+DZP7Sv/Enwe0ZdKa1l/wCP3zZNYKCNh18xTgHPO4V9nEZFLURdoyj3bf3xUduu1/wHGTTg/wCVJfdNz/Vr7j5C+LPx88B/tJfD/wCHPgz4bajY6l4yg8SaHfW2kWiFb7wpDZ3UMlzJdwgb7MR26TRFZQu4v5YzuxXafsx6HZtB+0O5tYGbUPHOppckoD56ixtVAb1GMjB9TX0OsYViQAC3UgdadUVI8/P/AHlJP1k6evy9mvN330SFD3XTttBxf3Kf/wAl6abas8b/AOCeMzz/ALCPwfZ2Z2PhDTMljkn/AEZK8l0HwhqPir9kr9qfwZYWrXPiNvEHiqGO1TmS4e9g+1WwHu0dxEBX19XP6P8ADTTNA+Ims+JrRZoNR8QW9vBqCK/7m5MG4RylP+egVyhYdVVQc7VxeLft6lWb051JenM0/ntb5jw0nRjTiteSUZevKmv/AG6/yPk3xV+1f4G+Ps/7Olh4S1g6xe2PjbT21GGK3kDaRIumXqmG6yo8mbdkCNsMdrEDAJrD8a/GzR/gLqvi22+H3xA03U9RufE9xNcfCDxRoyTanqV9Nd7phYhTHcokzsZo5JFnhAYN8qZ2/doGPx5PvSeWpk3bRuxjOOcU+b946j6tt/Pl09Pd63/AX/LuNPpFJL5Obv6+/wBLde58PftW2keqWH7VcFzCskNwnhSOWJxuVlYRgqR0IwSK9p/actUtP2nP2czCqxMviPVLdSg27Yzod8SnH8OUQ46ZVfQV71RUQSWj/rSxnGDSavun+N/6+R8FP8YPC/wp/wCCcfjb4UeKtL1N/iBpPh7W7bVNBfSp/N1Sci4ka+WQJseCTPnfaN20Akkhhivrr9nFHl/Zl8BrG2x28MaeFb+6fskeDXE/EP8AZW8YfETSvEPhu5+LOsf8IP4nknW9sJNItpdSjtpy3nWkV6cBYSHZV3RNIinAfgEezaFott4a0Sz06yiEFnYQJbW8Q6RxooVV/AAChawnzby5fwUr+nxd3+V9KutSEo/Z5/8AyZwt/wCkvp2Ph7w58YvBPhH/AIJ3aj8G9da3l+Ka6Je+HbjwY4I1nV9Wk81RLHDjzJEmmYTC5AKbX3lhg49Nn8TQfA/9sX4W/wDCcarBYTa18Pm8MwahcnZBqOrC7tCbdX+75r8sqk5bnGcGvp3y18zdtG7GM45xSkbuv1px0qKq976/+Azjp2+Nv7u2pVXPHk6dP/Aoy17/AALt176fNv7OGj2ifDr9oVxbQb77xt4g+0nYMz4giUbvX5QBz2r54+GV7qXgrw/8AvGWs/Ek/DHw5ffCPTtGtfEV1pdpd2UF4pSSWCWe5UpbNNGYSpJXzPs5GSVAP6NUjoJFwQCD1BHWlSXJGKXRQX/gEJQ/FSv5W6oHrzJ9XN/+BTjNfc4pea7HwP4s8LaJrH7OviXX7Dxhe/Eax8afFTwrNd6pcaRDZWGoyx6jptu72wiVYp4mWNFMigqzI3LYr75pANowKWtOb93yed//ACWMbf8Akv426azZ83M+1vxk/wBT4s/aU0a+8NfH7xB8H7GC4GlftJXVnfxyRI5S0WELFruSOE32cMBHIy87Hk5rofin8eP+EQ/aS8U+FL/x94Y+DOn6bZafHpBGjQTa34ujMW4m2knLJKsTloVhjhkcNn++oP1lTWjV2BKglehI6VmlaKh2/LZL0itFv18raN3k3/V92/WVtT4X/ZJZz4X/AGUw73shTV/FSA3kaxz4CXwG9VAVWwOVUAA8AAcUzwDqtt4D+BvwD8a69E//AAhXhHxpr8+tXRQyQ6SZpdSgt7yYAHEaSuAZDxH5gY4AJH3bSEZFTyvn51/W3+RhClZWb6Nfemj4+svjN4Z+Kn/BR+DxL4Ejs/Fkdr8KdXgXVNPZZbTWpYtQsnW2inXKy7C+CVLKDMVzkMB5D45+PI+LPwc+GkrfFPRb/WB4v8Lz3XgbwtoUFpb+GH/tS2DQ3gbzbq38piYwWeHdIANuCUr9H1UIuAAAOgA6UixqjEhQC3Ugda2pSUHTe/I0/uqSqfjzW62tdbs1qXmpeat/5Ko/ha/TfXofNPgHxppfg39sD48eGtVvYdP13xaLDV9Es5zsk1W1i0iOGWWHP3wkkUitjlcc9RXlP7PfibTvg94Q/ZW8eeL549O8D2nwxl0Y6vc8WWi6jcJp7xSTyH5YBJFDNGJGIXJ2kjcAfu3GTmhlDqQRkHgg96VKTprTfT8Izj+U/k1fyTm+d67f/s/rH7nbzPgz9ozWNL+NPgn9pPxt4XeHUvAGs+F9H0f+0oATZa7fwXE5nlhb7sypDNBEZUJViu3J2ce7/tRWcWn/ABx/Zv8AIjSHyfGNzbx7F27Izoeo5QY6Kdq8dPlHpXvirtXAGAOAB2paULRkpLy/Bt/q7dloRJOTk31TX3q35JX7s8J+AQ/tj9tH48apBIXsrf8AsLRmxjaLmGzknkHTqEuoc8+nvXu1c/8ADn4aaZ8L9KvbXTROx1LULjVLyeeTzJrq5ncu7u34hQAAFVVUABQK6CklaKXlr69fle9vIrq7d/w6fhv5hRRRQAUUUUAFFFFABRRRQAUUUUAFFFFABRRRQAUUUUAFFFFABRRRQAUUUUAFFFFABRRRQAUUUUAFFFFABRRRQAUUUUAFFFFABRRRQAUUUUAFFFFABRRRQAUUUUAFFFFABRRRQAUUUUAFFFFABRRRQAUUUUAf/9k=)"
      ],
      "metadata": {
        "id": "VRHAQKGkJRWh"
      }
    },
    {
      "cell_type": "code",
      "source": [
        "TE_encoder = TargetEncoder()\n",
        "df_te = TE_encoder.fit_transform(df[['sex']], df['rings'])"
      ],
      "metadata": {
        "colab": {
          "base_uri": "https://localhost:8080/"
        },
        "id": "FwXxwIdHH3QJ",
        "outputId": "bf01add0-45de-49a7-f115-6f125f05f6ac"
      },
      "execution_count": null,
      "outputs": [
        {
          "output_type": "stream",
          "name": "stderr",
          "text": [
            "/usr/local/lib/python3.7/dist-packages/category_encoders/target_encoder.py:124: FutureWarning: Default parameter min_samples_leaf will change in version 2.6.See https://github.com/scikit-learn-contrib/category_encoders/issues/327\n",
            "  category=FutureWarning)\n",
            "/usr/local/lib/python3.7/dist-packages/category_encoders/target_encoder.py:129: FutureWarning: Default parameter smoothing will change in version 2.6.See https://github.com/scikit-learn-contrib/category_encoders/issues/327\n",
            "  category=FutureWarning)\n"
          ]
        }
      ]
    },
    {
      "cell_type": "code",
      "source": [
        "df_te.head()"
      ],
      "metadata": {
        "colab": {
          "base_uri": "https://localhost:8080/",
          "height": 206
        },
        "id": "j61lBQGpIdav",
        "outputId": "027515bc-c989-4b67-dd52-6dd85b90fe03"
      },
      "execution_count": null,
      "outputs": [
        {
          "output_type": "execute_result",
          "data": {
            "text/plain": [
              "         sex\n",
              "0  10.705497\n",
              "1  10.705497\n",
              "2  11.129304\n",
              "3  10.705497\n",
              "4   7.890462"
            ],
            "text/html": [
              "\n",
              "  <div id=\"df-0b2e87dc-8a03-43c2-8ba7-aebeed277454\">\n",
              "    <div class=\"colab-df-container\">\n",
              "      <div>\n",
              "<style scoped>\n",
              "    .dataframe tbody tr th:only-of-type {\n",
              "        vertical-align: middle;\n",
              "    }\n",
              "\n",
              "    .dataframe tbody tr th {\n",
              "        vertical-align: top;\n",
              "    }\n",
              "\n",
              "    .dataframe thead th {\n",
              "        text-align: right;\n",
              "    }\n",
              "</style>\n",
              "<table border=\"1\" class=\"dataframe\">\n",
              "  <thead>\n",
              "    <tr style=\"text-align: right;\">\n",
              "      <th></th>\n",
              "      <th>sex</th>\n",
              "    </tr>\n",
              "  </thead>\n",
              "  <tbody>\n",
              "    <tr>\n",
              "      <th>0</th>\n",
              "      <td>10.705497</td>\n",
              "    </tr>\n",
              "    <tr>\n",
              "      <th>1</th>\n",
              "      <td>10.705497</td>\n",
              "    </tr>\n",
              "    <tr>\n",
              "      <th>2</th>\n",
              "      <td>11.129304</td>\n",
              "    </tr>\n",
              "    <tr>\n",
              "      <th>3</th>\n",
              "      <td>10.705497</td>\n",
              "    </tr>\n",
              "    <tr>\n",
              "      <th>4</th>\n",
              "      <td>7.890462</td>\n",
              "    </tr>\n",
              "  </tbody>\n",
              "</table>\n",
              "</div>\n",
              "      <button class=\"colab-df-convert\" onclick=\"convertToInteractive('df-0b2e87dc-8a03-43c2-8ba7-aebeed277454')\"\n",
              "              title=\"Convert this dataframe to an interactive table.\"\n",
              "              style=\"display:none;\">\n",
              "        \n",
              "  <svg xmlns=\"http://www.w3.org/2000/svg\" height=\"24px\"viewBox=\"0 0 24 24\"\n",
              "       width=\"24px\">\n",
              "    <path d=\"M0 0h24v24H0V0z\" fill=\"none\"/>\n",
              "    <path d=\"M18.56 5.44l.94 2.06.94-2.06 2.06-.94-2.06-.94-.94-2.06-.94 2.06-2.06.94zm-11 1L8.5 8.5l.94-2.06 2.06-.94-2.06-.94L8.5 2.5l-.94 2.06-2.06.94zm10 10l.94 2.06.94-2.06 2.06-.94-2.06-.94-.94-2.06-.94 2.06-2.06.94z\"/><path d=\"M17.41 7.96l-1.37-1.37c-.4-.4-.92-.59-1.43-.59-.52 0-1.04.2-1.43.59L10.3 9.45l-7.72 7.72c-.78.78-.78 2.05 0 2.83L4 21.41c.39.39.9.59 1.41.59.51 0 1.02-.2 1.41-.59l7.78-7.78 2.81-2.81c.8-.78.8-2.07 0-2.86zM5.41 20L4 18.59l7.72-7.72 1.47 1.35L5.41 20z\"/>\n",
              "  </svg>\n",
              "      </button>\n",
              "      \n",
              "  <style>\n",
              "    .colab-df-container {\n",
              "      display:flex;\n",
              "      flex-wrap:wrap;\n",
              "      gap: 12px;\n",
              "    }\n",
              "\n",
              "    .colab-df-convert {\n",
              "      background-color: #E8F0FE;\n",
              "      border: none;\n",
              "      border-radius: 50%;\n",
              "      cursor: pointer;\n",
              "      display: none;\n",
              "      fill: #1967D2;\n",
              "      height: 32px;\n",
              "      padding: 0 0 0 0;\n",
              "      width: 32px;\n",
              "    }\n",
              "\n",
              "    .colab-df-convert:hover {\n",
              "      background-color: #E2EBFA;\n",
              "      box-shadow: 0px 1px 2px rgba(60, 64, 67, 0.3), 0px 1px 3px 1px rgba(60, 64, 67, 0.15);\n",
              "      fill: #174EA6;\n",
              "    }\n",
              "\n",
              "    [theme=dark] .colab-df-convert {\n",
              "      background-color: #3B4455;\n",
              "      fill: #D2E3FC;\n",
              "    }\n",
              "\n",
              "    [theme=dark] .colab-df-convert:hover {\n",
              "      background-color: #434B5C;\n",
              "      box-shadow: 0px 1px 3px 1px rgba(0, 0, 0, 0.15);\n",
              "      filter: drop-shadow(0px 1px 2px rgba(0, 0, 0, 0.3));\n",
              "      fill: #FFFFFF;\n",
              "    }\n",
              "  </style>\n",
              "\n",
              "      <script>\n",
              "        const buttonEl =\n",
              "          document.querySelector('#df-0b2e87dc-8a03-43c2-8ba7-aebeed277454 button.colab-df-convert');\n",
              "        buttonEl.style.display =\n",
              "          google.colab.kernel.accessAllowed ? 'block' : 'none';\n",
              "\n",
              "        async function convertToInteractive(key) {\n",
              "          const element = document.querySelector('#df-0b2e87dc-8a03-43c2-8ba7-aebeed277454');\n",
              "          const dataTable =\n",
              "            await google.colab.kernel.invokeFunction('convertToInteractive',\n",
              "                                                     [key], {});\n",
              "          if (!dataTable) return;\n",
              "\n",
              "          const docLinkHtml = 'Like what you see? Visit the ' +\n",
              "            '<a target=\"_blank\" href=https://colab.research.google.com/notebooks/data_table.ipynb>data table notebook</a>'\n",
              "            + ' to learn more about interactive tables.';\n",
              "          element.innerHTML = '';\n",
              "          dataTable['output_type'] = 'display_data';\n",
              "          await google.colab.output.renderOutput(dataTable, element);\n",
              "          const docLink = document.createElement('div');\n",
              "          docLink.innerHTML = docLinkHtml;\n",
              "          element.appendChild(docLink);\n",
              "        }\n",
              "      </script>\n",
              "    </div>\n",
              "  </div>\n",
              "  "
            ]
          },
          "metadata": {},
          "execution_count": 45
        }
      ]
    },
    {
      "cell_type": "code",
      "source": [
        "MEE_encoder = MEstimateEncoder()  # Simplified version of Target Encoder\n",
        "df_mee = MEE_encoder.fit_transform(df[['sex']], df['rings'])"
      ],
      "metadata": {
        "id": "0mCCy5PJIgYV"
      },
      "execution_count": null,
      "outputs": []
    },
    {
      "cell_type": "code",
      "source": [
        "df_mee.head()"
      ],
      "metadata": {
        "colab": {
          "base_uri": "https://localhost:8080/",
          "height": 206
        },
        "id": "ToQN46PEKB6e",
        "outputId": "5b4d36d6-c718-432f-9f29-feb094a8ef09"
      },
      "execution_count": null,
      "outputs": [
        {
          "output_type": "execute_result",
          "data": {
            "text/plain": [
              "         sex\n",
              "0  10.704993\n",
              "1  10.704993\n",
              "2  11.128390\n",
              "3  10.704993\n",
              "4   7.891983"
            ],
            "text/html": [
              "\n",
              "  <div id=\"df-ffafbe48-c0d6-43d3-be36-16575172117d\">\n",
              "    <div class=\"colab-df-container\">\n",
              "      <div>\n",
              "<style scoped>\n",
              "    .dataframe tbody tr th:only-of-type {\n",
              "        vertical-align: middle;\n",
              "    }\n",
              "\n",
              "    .dataframe tbody tr th {\n",
              "        vertical-align: top;\n",
              "    }\n",
              "\n",
              "    .dataframe thead th {\n",
              "        text-align: right;\n",
              "    }\n",
              "</style>\n",
              "<table border=\"1\" class=\"dataframe\">\n",
              "  <thead>\n",
              "    <tr style=\"text-align: right;\">\n",
              "      <th></th>\n",
              "      <th>sex</th>\n",
              "    </tr>\n",
              "  </thead>\n",
              "  <tbody>\n",
              "    <tr>\n",
              "      <th>0</th>\n",
              "      <td>10.704993</td>\n",
              "    </tr>\n",
              "    <tr>\n",
              "      <th>1</th>\n",
              "      <td>10.704993</td>\n",
              "    </tr>\n",
              "    <tr>\n",
              "      <th>2</th>\n",
              "      <td>11.128390</td>\n",
              "    </tr>\n",
              "    <tr>\n",
              "      <th>3</th>\n",
              "      <td>10.704993</td>\n",
              "    </tr>\n",
              "    <tr>\n",
              "      <th>4</th>\n",
              "      <td>7.891983</td>\n",
              "    </tr>\n",
              "  </tbody>\n",
              "</table>\n",
              "</div>\n",
              "      <button class=\"colab-df-convert\" onclick=\"convertToInteractive('df-ffafbe48-c0d6-43d3-be36-16575172117d')\"\n",
              "              title=\"Convert this dataframe to an interactive table.\"\n",
              "              style=\"display:none;\">\n",
              "        \n",
              "  <svg xmlns=\"http://www.w3.org/2000/svg\" height=\"24px\"viewBox=\"0 0 24 24\"\n",
              "       width=\"24px\">\n",
              "    <path d=\"M0 0h24v24H0V0z\" fill=\"none\"/>\n",
              "    <path d=\"M18.56 5.44l.94 2.06.94-2.06 2.06-.94-2.06-.94-.94-2.06-.94 2.06-2.06.94zm-11 1L8.5 8.5l.94-2.06 2.06-.94-2.06-.94L8.5 2.5l-.94 2.06-2.06.94zm10 10l.94 2.06.94-2.06 2.06-.94-2.06-.94-.94-2.06-.94 2.06-2.06.94z\"/><path d=\"M17.41 7.96l-1.37-1.37c-.4-.4-.92-.59-1.43-.59-.52 0-1.04.2-1.43.59L10.3 9.45l-7.72 7.72c-.78.78-.78 2.05 0 2.83L4 21.41c.39.39.9.59 1.41.59.51 0 1.02-.2 1.41-.59l7.78-7.78 2.81-2.81c.8-.78.8-2.07 0-2.86zM5.41 20L4 18.59l7.72-7.72 1.47 1.35L5.41 20z\"/>\n",
              "  </svg>\n",
              "      </button>\n",
              "      \n",
              "  <style>\n",
              "    .colab-df-container {\n",
              "      display:flex;\n",
              "      flex-wrap:wrap;\n",
              "      gap: 12px;\n",
              "    }\n",
              "\n",
              "    .colab-df-convert {\n",
              "      background-color: #E8F0FE;\n",
              "      border: none;\n",
              "      border-radius: 50%;\n",
              "      cursor: pointer;\n",
              "      display: none;\n",
              "      fill: #1967D2;\n",
              "      height: 32px;\n",
              "      padding: 0 0 0 0;\n",
              "      width: 32px;\n",
              "    }\n",
              "\n",
              "    .colab-df-convert:hover {\n",
              "      background-color: #E2EBFA;\n",
              "      box-shadow: 0px 1px 2px rgba(60, 64, 67, 0.3), 0px 1px 3px 1px rgba(60, 64, 67, 0.15);\n",
              "      fill: #174EA6;\n",
              "    }\n",
              "\n",
              "    [theme=dark] .colab-df-convert {\n",
              "      background-color: #3B4455;\n",
              "      fill: #D2E3FC;\n",
              "    }\n",
              "\n",
              "    [theme=dark] .colab-df-convert:hover {\n",
              "      background-color: #434B5C;\n",
              "      box-shadow: 0px 1px 3px 1px rgba(0, 0, 0, 0.15);\n",
              "      filter: drop-shadow(0px 1px 2px rgba(0, 0, 0, 0.3));\n",
              "      fill: #FFFFFF;\n",
              "    }\n",
              "  </style>\n",
              "\n",
              "      <script>\n",
              "        const buttonEl =\n",
              "          document.querySelector('#df-ffafbe48-c0d6-43d3-be36-16575172117d button.colab-df-convert');\n",
              "        buttonEl.style.display =\n",
              "          google.colab.kernel.accessAllowed ? 'block' : 'none';\n",
              "\n",
              "        async function convertToInteractive(key) {\n",
              "          const element = document.querySelector('#df-ffafbe48-c0d6-43d3-be36-16575172117d');\n",
              "          const dataTable =\n",
              "            await google.colab.kernel.invokeFunction('convertToInteractive',\n",
              "                                                     [key], {});\n",
              "          if (!dataTable) return;\n",
              "\n",
              "          const docLinkHtml = 'Like what you see? Visit the ' +\n",
              "            '<a target=\"_blank\" href=https://colab.research.google.com/notebooks/data_table.ipynb>data table notebook</a>'\n",
              "            + ' to learn more about interactive tables.';\n",
              "          element.innerHTML = '';\n",
              "          dataTable['output_type'] = 'display_data';\n",
              "          await google.colab.output.renderOutput(dataTable, element);\n",
              "          const docLink = document.createElement('div');\n",
              "          docLink.innerHTML = docLinkHtml;\n",
              "          element.appendChild(docLink);\n",
              "        }\n",
              "      </script>\n",
              "    </div>\n",
              "  </div>\n",
              "  "
            ]
          },
          "metadata": {},
          "execution_count": 47
        }
      ]
    },
    {
      "cell_type": "code",
      "source": [
        "WOE_encoder = WOEEncoder()   # Weight Of Evidence is a commonly used target-based encoder in credit scoring.\n",
        "#df_woe = WOE_encoder.fit_transform(df[['sex']], df['rings']) # for binary classification only"
      ],
      "metadata": {
        "id": "TUidHW4jKECD"
      },
      "execution_count": null,
      "outputs": []
    },
    {
      "cell_type": "code",
      "source": [
        "JSE_encoder = JamesSteinEncoder()\n",
        "df_jse = JSE_encoder.fit_transform(df[['sex']], df['rings'])"
      ],
      "metadata": {
        "id": "3HM0dLvuKZrr"
      },
      "execution_count": null,
      "outputs": []
    },
    {
      "cell_type": "code",
      "source": [
        "df_jse.head()"
      ],
      "metadata": {
        "colab": {
          "base_uri": "https://localhost:8080/",
          "height": 206
        },
        "id": "1hNuDKWyK1up",
        "outputId": "2ac28ef9-192e-450a-9280-4f2b4f2786bb"
      },
      "execution_count": null,
      "outputs": [
        {
          "output_type": "execute_result",
          "data": {
            "text/plain": [
              "         sex\n",
              "0  10.705497\n",
              "1  10.705497\n",
              "2  11.129304\n",
              "3  10.705497\n",
              "4   7.890462"
            ],
            "text/html": [
              "\n",
              "  <div id=\"df-4025c30e-4287-426c-a99c-583d36ad7fcd\">\n",
              "    <div class=\"colab-df-container\">\n",
              "      <div>\n",
              "<style scoped>\n",
              "    .dataframe tbody tr th:only-of-type {\n",
              "        vertical-align: middle;\n",
              "    }\n",
              "\n",
              "    .dataframe tbody tr th {\n",
              "        vertical-align: top;\n",
              "    }\n",
              "\n",
              "    .dataframe thead th {\n",
              "        text-align: right;\n",
              "    }\n",
              "</style>\n",
              "<table border=\"1\" class=\"dataframe\">\n",
              "  <thead>\n",
              "    <tr style=\"text-align: right;\">\n",
              "      <th></th>\n",
              "      <th>sex</th>\n",
              "    </tr>\n",
              "  </thead>\n",
              "  <tbody>\n",
              "    <tr>\n",
              "      <th>0</th>\n",
              "      <td>10.705497</td>\n",
              "    </tr>\n",
              "    <tr>\n",
              "      <th>1</th>\n",
              "      <td>10.705497</td>\n",
              "    </tr>\n",
              "    <tr>\n",
              "      <th>2</th>\n",
              "      <td>11.129304</td>\n",
              "    </tr>\n",
              "    <tr>\n",
              "      <th>3</th>\n",
              "      <td>10.705497</td>\n",
              "    </tr>\n",
              "    <tr>\n",
              "      <th>4</th>\n",
              "      <td>7.890462</td>\n",
              "    </tr>\n",
              "  </tbody>\n",
              "</table>\n",
              "</div>\n",
              "      <button class=\"colab-df-convert\" onclick=\"convertToInteractive('df-4025c30e-4287-426c-a99c-583d36ad7fcd')\"\n",
              "              title=\"Convert this dataframe to an interactive table.\"\n",
              "              style=\"display:none;\">\n",
              "        \n",
              "  <svg xmlns=\"http://www.w3.org/2000/svg\" height=\"24px\"viewBox=\"0 0 24 24\"\n",
              "       width=\"24px\">\n",
              "    <path d=\"M0 0h24v24H0V0z\" fill=\"none\"/>\n",
              "    <path d=\"M18.56 5.44l.94 2.06.94-2.06 2.06-.94-2.06-.94-.94-2.06-.94 2.06-2.06.94zm-11 1L8.5 8.5l.94-2.06 2.06-.94-2.06-.94L8.5 2.5l-.94 2.06-2.06.94zm10 10l.94 2.06.94-2.06 2.06-.94-2.06-.94-.94-2.06-.94 2.06-2.06.94z\"/><path d=\"M17.41 7.96l-1.37-1.37c-.4-.4-.92-.59-1.43-.59-.52 0-1.04.2-1.43.59L10.3 9.45l-7.72 7.72c-.78.78-.78 2.05 0 2.83L4 21.41c.39.39.9.59 1.41.59.51 0 1.02-.2 1.41-.59l7.78-7.78 2.81-2.81c.8-.78.8-2.07 0-2.86zM5.41 20L4 18.59l7.72-7.72 1.47 1.35L5.41 20z\"/>\n",
              "  </svg>\n",
              "      </button>\n",
              "      \n",
              "  <style>\n",
              "    .colab-df-container {\n",
              "      display:flex;\n",
              "      flex-wrap:wrap;\n",
              "      gap: 12px;\n",
              "    }\n",
              "\n",
              "    .colab-df-convert {\n",
              "      background-color: #E8F0FE;\n",
              "      border: none;\n",
              "      border-radius: 50%;\n",
              "      cursor: pointer;\n",
              "      display: none;\n",
              "      fill: #1967D2;\n",
              "      height: 32px;\n",
              "      padding: 0 0 0 0;\n",
              "      width: 32px;\n",
              "    }\n",
              "\n",
              "    .colab-df-convert:hover {\n",
              "      background-color: #E2EBFA;\n",
              "      box-shadow: 0px 1px 2px rgba(60, 64, 67, 0.3), 0px 1px 3px 1px rgba(60, 64, 67, 0.15);\n",
              "      fill: #174EA6;\n",
              "    }\n",
              "\n",
              "    [theme=dark] .colab-df-convert {\n",
              "      background-color: #3B4455;\n",
              "      fill: #D2E3FC;\n",
              "    }\n",
              "\n",
              "    [theme=dark] .colab-df-convert:hover {\n",
              "      background-color: #434B5C;\n",
              "      box-shadow: 0px 1px 3px 1px rgba(0, 0, 0, 0.15);\n",
              "      filter: drop-shadow(0px 1px 2px rgba(0, 0, 0, 0.3));\n",
              "      fill: #FFFFFF;\n",
              "    }\n",
              "  </style>\n",
              "\n",
              "      <script>\n",
              "        const buttonEl =\n",
              "          document.querySelector('#df-4025c30e-4287-426c-a99c-583d36ad7fcd button.colab-df-convert');\n",
              "        buttonEl.style.display =\n",
              "          google.colab.kernel.accessAllowed ? 'block' : 'none';\n",
              "\n",
              "        async function convertToInteractive(key) {\n",
              "          const element = document.querySelector('#df-4025c30e-4287-426c-a99c-583d36ad7fcd');\n",
              "          const dataTable =\n",
              "            await google.colab.kernel.invokeFunction('convertToInteractive',\n",
              "                                                     [key], {});\n",
              "          if (!dataTable) return;\n",
              "\n",
              "          const docLinkHtml = 'Like what you see? Visit the ' +\n",
              "            '<a target=\"_blank\" href=https://colab.research.google.com/notebooks/data_table.ipynb>data table notebook</a>'\n",
              "            + ' to learn more about interactive tables.';\n",
              "          element.innerHTML = '';\n",
              "          dataTable['output_type'] = 'display_data';\n",
              "          await google.colab.output.renderOutput(dataTable, element);\n",
              "          const docLink = document.createElement('div');\n",
              "          docLink.innerHTML = docLinkHtml;\n",
              "          element.appendChild(docLink);\n",
              "        }\n",
              "      </script>\n",
              "    </div>\n",
              "  </div>\n",
              "  "
            ]
          },
          "metadata": {},
          "execution_count": 53
        }
      ]
    },
    {
      "cell_type": "code",
      "source": [
        "LOOE_encoder = LeaveOneOutEncoder()\n",
        "df_looe = LOOE_encoder.fit_transform(df[['sex']], df['rings'])"
      ],
      "metadata": {
        "id": "4Nq-rtPSK-nr"
      },
      "execution_count": null,
      "outputs": []
    },
    {
      "cell_type": "code",
      "source": [
        "df_looe.head()"
      ],
      "metadata": {
        "colab": {
          "base_uri": "https://localhost:8080/",
          "height": 206
        },
        "id": "HozqLSViLQyT",
        "outputId": "cf9e424d-bfb4-4b43-a9a5-0a32c4670372"
      },
      "execution_count": null,
      "outputs": [
        {
          "output_type": "execute_result",
          "data": {
            "text/plain": [
              "         sex\n",
              "0  10.702685\n",
              "1  10.707924\n",
              "2  11.130934\n",
              "3  10.705959\n",
              "4   7.891126"
            ],
            "text/html": [
              "\n",
              "  <div id=\"df-b41411e1-4d83-41b6-bb0b-459218c130aa\">\n",
              "    <div class=\"colab-df-container\">\n",
              "      <div>\n",
              "<style scoped>\n",
              "    .dataframe tbody tr th:only-of-type {\n",
              "        vertical-align: middle;\n",
              "    }\n",
              "\n",
              "    .dataframe tbody tr th {\n",
              "        vertical-align: top;\n",
              "    }\n",
              "\n",
              "    .dataframe thead th {\n",
              "        text-align: right;\n",
              "    }\n",
              "</style>\n",
              "<table border=\"1\" class=\"dataframe\">\n",
              "  <thead>\n",
              "    <tr style=\"text-align: right;\">\n",
              "      <th></th>\n",
              "      <th>sex</th>\n",
              "    </tr>\n",
              "  </thead>\n",
              "  <tbody>\n",
              "    <tr>\n",
              "      <th>0</th>\n",
              "      <td>10.702685</td>\n",
              "    </tr>\n",
              "    <tr>\n",
              "      <th>1</th>\n",
              "      <td>10.707924</td>\n",
              "    </tr>\n",
              "    <tr>\n",
              "      <th>2</th>\n",
              "      <td>11.130934</td>\n",
              "    </tr>\n",
              "    <tr>\n",
              "      <th>3</th>\n",
              "      <td>10.705959</td>\n",
              "    </tr>\n",
              "    <tr>\n",
              "      <th>4</th>\n",
              "      <td>7.891126</td>\n",
              "    </tr>\n",
              "  </tbody>\n",
              "</table>\n",
              "</div>\n",
              "      <button class=\"colab-df-convert\" onclick=\"convertToInteractive('df-b41411e1-4d83-41b6-bb0b-459218c130aa')\"\n",
              "              title=\"Convert this dataframe to an interactive table.\"\n",
              "              style=\"display:none;\">\n",
              "        \n",
              "  <svg xmlns=\"http://www.w3.org/2000/svg\" height=\"24px\"viewBox=\"0 0 24 24\"\n",
              "       width=\"24px\">\n",
              "    <path d=\"M0 0h24v24H0V0z\" fill=\"none\"/>\n",
              "    <path d=\"M18.56 5.44l.94 2.06.94-2.06 2.06-.94-2.06-.94-.94-2.06-.94 2.06-2.06.94zm-11 1L8.5 8.5l.94-2.06 2.06-.94-2.06-.94L8.5 2.5l-.94 2.06-2.06.94zm10 10l.94 2.06.94-2.06 2.06-.94-2.06-.94-.94-2.06-.94 2.06-2.06.94z\"/><path d=\"M17.41 7.96l-1.37-1.37c-.4-.4-.92-.59-1.43-.59-.52 0-1.04.2-1.43.59L10.3 9.45l-7.72 7.72c-.78.78-.78 2.05 0 2.83L4 21.41c.39.39.9.59 1.41.59.51 0 1.02-.2 1.41-.59l7.78-7.78 2.81-2.81c.8-.78.8-2.07 0-2.86zM5.41 20L4 18.59l7.72-7.72 1.47 1.35L5.41 20z\"/>\n",
              "  </svg>\n",
              "      </button>\n",
              "      \n",
              "  <style>\n",
              "    .colab-df-container {\n",
              "      display:flex;\n",
              "      flex-wrap:wrap;\n",
              "      gap: 12px;\n",
              "    }\n",
              "\n",
              "    .colab-df-convert {\n",
              "      background-color: #E8F0FE;\n",
              "      border: none;\n",
              "      border-radius: 50%;\n",
              "      cursor: pointer;\n",
              "      display: none;\n",
              "      fill: #1967D2;\n",
              "      height: 32px;\n",
              "      padding: 0 0 0 0;\n",
              "      width: 32px;\n",
              "    }\n",
              "\n",
              "    .colab-df-convert:hover {\n",
              "      background-color: #E2EBFA;\n",
              "      box-shadow: 0px 1px 2px rgba(60, 64, 67, 0.3), 0px 1px 3px 1px rgba(60, 64, 67, 0.15);\n",
              "      fill: #174EA6;\n",
              "    }\n",
              "\n",
              "    [theme=dark] .colab-df-convert {\n",
              "      background-color: #3B4455;\n",
              "      fill: #D2E3FC;\n",
              "    }\n",
              "\n",
              "    [theme=dark] .colab-df-convert:hover {\n",
              "      background-color: #434B5C;\n",
              "      box-shadow: 0px 1px 3px 1px rgba(0, 0, 0, 0.15);\n",
              "      filter: drop-shadow(0px 1px 2px rgba(0, 0, 0, 0.3));\n",
              "      fill: #FFFFFF;\n",
              "    }\n",
              "  </style>\n",
              "\n",
              "      <script>\n",
              "        const buttonEl =\n",
              "          document.querySelector('#df-b41411e1-4d83-41b6-bb0b-459218c130aa button.colab-df-convert');\n",
              "        buttonEl.style.display =\n",
              "          google.colab.kernel.accessAllowed ? 'block' : 'none';\n",
              "\n",
              "        async function convertToInteractive(key) {\n",
              "          const element = document.querySelector('#df-b41411e1-4d83-41b6-bb0b-459218c130aa');\n",
              "          const dataTable =\n",
              "            await google.colab.kernel.invokeFunction('convertToInteractive',\n",
              "                                                     [key], {});\n",
              "          if (!dataTable) return;\n",
              "\n",
              "          const docLinkHtml = 'Like what you see? Visit the ' +\n",
              "            '<a target=\"_blank\" href=https://colab.research.google.com/notebooks/data_table.ipynb>data table notebook</a>'\n",
              "            + ' to learn more about interactive tables.';\n",
              "          element.innerHTML = '';\n",
              "          dataTable['output_type'] = 'display_data';\n",
              "          await google.colab.output.renderOutput(dataTable, element);\n",
              "          const docLink = document.createElement('div');\n",
              "          docLink.innerHTML = docLinkHtml;\n",
              "          element.appendChild(docLink);\n",
              "        }\n",
              "      </script>\n",
              "    </div>\n",
              "  </div>\n",
              "  "
            ]
          },
          "metadata": {},
          "execution_count": 55
        }
      ]
    },
    {
      "cell_type": "code",
      "source": [
        "CBE_encoder = CatBoostEncoder()\n",
        "df_cbe = CBE_encoder.fit_transform(df[['sex']], df['rings'])"
      ],
      "metadata": {
        "colab": {
          "base_uri": "https://localhost:8080/",
          "height": 182
        },
        "id": "kctox9diLTEj",
        "outputId": "5302eb1a-2308-4fa1-8edb-4d939e990a98"
      },
      "execution_count": null,
      "outputs": [
        {
          "output_type": "error",
          "ename": "NameError",
          "evalue": "ignored",
          "traceback": [
            "\u001b[0;31m---------------------------------------------------------------------------\u001b[0m",
            "\u001b[0;31mNameError\u001b[0m                                 Traceback (most recent call last)",
            "\u001b[0;32m<ipython-input-4-3d6c5e9b1355>\u001b[0m in \u001b[0;36m<module>\u001b[0;34m\u001b[0m\n\u001b[0;32m----> 1\u001b[0;31m \u001b[0mCBE_encoder\u001b[0m \u001b[0;34m=\u001b[0m \u001b[0mCatBoostEncoder\u001b[0m\u001b[0;34m(\u001b[0m\u001b[0;34m)\u001b[0m\u001b[0;34m\u001b[0m\u001b[0;34m\u001b[0m\u001b[0m\n\u001b[0m\u001b[1;32m      2\u001b[0m \u001b[0mdf_cbe\u001b[0m \u001b[0;34m=\u001b[0m \u001b[0mCBE_encoder\u001b[0m\u001b[0;34m.\u001b[0m\u001b[0mfit_transform\u001b[0m\u001b[0;34m(\u001b[0m\u001b[0mdf\u001b[0m\u001b[0;34m[\u001b[0m\u001b[0;34m[\u001b[0m\u001b[0;34m'sex'\u001b[0m\u001b[0;34m]\u001b[0m\u001b[0;34m]\u001b[0m\u001b[0;34m,\u001b[0m \u001b[0mdf\u001b[0m\u001b[0;34m[\u001b[0m\u001b[0;34m'rings'\u001b[0m\u001b[0;34m]\u001b[0m\u001b[0;34m)\u001b[0m\u001b[0;34m\u001b[0m\u001b[0;34m\u001b[0m\u001b[0m\n",
            "\u001b[0;31mNameError\u001b[0m: name 'CatBoostEncoder' is not defined"
          ]
        }
      ]
    },
    {
      "cell_type": "code",
      "source": [
        "df_cbe.head(100)"
      ],
      "metadata": {
        "colab": {
          "base_uri": "https://localhost:8080/",
          "height": 165
        },
        "id": "ft1ZUqXmLd7M",
        "outputId": "f4e7ca70-8503-464f-e096-c1fead720663"
      },
      "execution_count": null,
      "outputs": [
        {
          "output_type": "error",
          "ename": "NameError",
          "evalue": "ignored",
          "traceback": [
            "\u001b[0;31m---------------------------------------------------------------------------\u001b[0m",
            "\u001b[0;31mNameError\u001b[0m                                 Traceback (most recent call last)",
            "\u001b[0;32m<ipython-input-3-5f42937f4645>\u001b[0m in \u001b[0;36m<module>\u001b[0;34m\u001b[0m\n\u001b[0;32m----> 1\u001b[0;31m \u001b[0mdf_cbe\u001b[0m\u001b[0;34m.\u001b[0m\u001b[0mhead\u001b[0m\u001b[0;34m(\u001b[0m\u001b[0;36m100\u001b[0m\u001b[0;34m)\u001b[0m\u001b[0;34m\u001b[0m\u001b[0;34m\u001b[0m\u001b[0m\n\u001b[0m",
            "\u001b[0;31mNameError\u001b[0m: name 'df_cbe' is not defined"
          ]
        }
      ]
    },
    {
      "cell_type": "code",
      "source": [
        "# IMBALANCED"
      ],
      "metadata": {
        "id": "M-lrGO1ULf7_"
      },
      "execution_count": null,
      "outputs": []
    },
    {
      "cell_type": "code",
      "source": [
        "from sklearn.datasets import make_classification\n",
        "X, y = make_classification(n_samples=5000, n_features=2, n_informative=2,\n",
        "                           n_redundant=0, n_repeated=0, n_classes=3,\n",
        "                           n_clusters_per_class=1,\n",
        "                           weights=[0.01, 0.05, 0.94],\n",
        "                           class_sep=0.8, random_state=0)\n",
        "from imblearn.over_sampling import RandomOverSampler\n",
        "from sklearn.model_selection import train_test_split\n",
        "X_train, X_test, y_train, y_test = train_test_split(X, y, test_size=0.33, random_state=42)\n",
        "ros = RandomOverSampler(random_state=0)\n",
        "X_resampled, y_resampled = ros.fit_resample(X_train, y_train)\n",
        "from collections import Counter\n",
        "print(sorted(Counter(y).items()))\n",
        "print(sorted(Counter(y_resampled).items()))"
      ],
      "metadata": {
        "colab": {
          "base_uri": "https://localhost:8080/"
        },
        "id": "po6GKoHlNnDY",
        "outputId": "fba6ec2e-f6f0-4455-e6fc-7e7a4bdd7838"
      },
      "execution_count": null,
      "outputs": [
        {
          "output_type": "stream",
          "name": "stdout",
          "text": [
            "[(0, 64), (1, 262), (2, 4674)]\n",
            "[(0, 3148), (1, 3148), (2, 3148)]\n"
          ]
        }
      ]
    },
    {
      "cell_type": "code",
      "source": [
        "from imblearn.under_sampling import ClusterCentroids\n",
        "cc = ClusterCentroids(random_state=0)\n",
        "X_resampled, y_resampled = cc.fit_resample(X_train, y_train)\n",
        "print(sorted(Counter(y_resampled).items()))"
      ],
      "metadata": {
        "id": "AnrT4C-RNpvM"
      },
      "execution_count": null,
      "outputs": []
    },
    {
      "cell_type": "code",
      "source": [
        "from imblearn.combine import SMOTEENN\n",
        "smote_enn = SMOTEENN(random_state=0)\n",
        "X_resampled, y_resampled = smote_enn.fit_resample(X_train, y_train)\n",
        "print(sorted(Counter(y_resampled).items()))"
      ],
      "metadata": {
        "colab": {
          "base_uri": "https://localhost:8080/"
        },
        "id": "2igrtcswN-QY",
        "outputId": "b70da8ff-aee9-450c-ab39-e5660d6e6a15"
      },
      "execution_count": null,
      "outputs": [
        {
          "output_type": "stream",
          "name": "stdout",
          "text": [
            "[(0, 4060), (1, 4381), (2, 3502)]\n"
          ]
        }
      ]
    },
    {
      "cell_type": "code",
      "source": [
        "from imblearn.combine import SMOTETomek\n",
        "smote_tomek = SMOTETomek(random_state=0)\n",
        "X_resampled, y_resampled = smote_tomek.fit_resample(X_train, y_train)\n",
        "print(sorted(Counter(y_resampled).items()))"
      ],
      "metadata": {
        "colab": {
          "base_uri": "https://localhost:8080/"
        },
        "id": "uelu6k2HOQRq",
        "outputId": "e96171eb-05b3-4fda-cc8b-c5bdfbb8c4f3"
      },
      "execution_count": null,
      "outputs": [
        {
          "output_type": "stream",
          "name": "stdout",
          "text": [
            "[(0, 4499), (1, 4566), (2, 4413)]\n"
          ]
        }
      ]
    },
    {
      "cell_type": "code",
      "source": [
        "from sklearn.neighbors import KNeighborsClassifier\n",
        "neigh = KNeighborsClassifier(n_neighbors=3)\n",
        "neigh.fit(X_resampled, y_resampled)"
      ],
      "metadata": {
        "colab": {
          "base_uri": "https://localhost:8080/"
        },
        "id": "FhVAyOpJORiL",
        "outputId": "c737cdea-a528-456a-fd3e-e7e8d7de472c"
      },
      "execution_count": null,
      "outputs": [
        {
          "output_type": "execute_result",
          "data": {
            "text/plain": [
              "KNeighborsClassifier(n_neighbors=3)"
            ]
          },
          "metadata": {},
          "execution_count": 64
        }
      ]
    },
    {
      "cell_type": "code",
      "source": [
        "y_pred = neigh.predict(X_test)"
      ],
      "metadata": {
        "id": "U9xvOGXEPc5J"
      },
      "execution_count": null,
      "outputs": []
    },
    {
      "cell_type": "code",
      "source": [
        "from sklearn.metrics import accuracy_score\n",
        "accuracy_score(y_test, y_pred)"
      ],
      "metadata": {
        "colab": {
          "base_uri": "https://localhost:8080/"
        },
        "id": "Y6AFpiJPQk4m",
        "outputId": "fb2bd422-8289-4d82-a3bc-d692a7fb4a30"
      },
      "execution_count": null,
      "outputs": [
        {
          "output_type": "execute_result",
          "data": {
            "text/plain": [
              "0.946060606060606"
            ]
          },
          "metadata": {},
          "execution_count": 72
        }
      ]
    },
    {
      "cell_type": "code",
      "source": [],
      "metadata": {
        "id": "z4Whxx5QRDNh"
      },
      "execution_count": null,
      "outputs": []
    }
  ]
}
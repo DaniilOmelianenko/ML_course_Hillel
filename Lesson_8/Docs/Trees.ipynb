{
  "nbformat": 4,
  "nbformat_minor": 0,
  "metadata": {
    "colab": {
      "provenance": []
    },
    "kernelspec": {
      "name": "python3",
      "display_name": "Python 3"
    },
    "language_info": {
      "name": "python"
    }
  },
  "cells": [
    {
      "cell_type": "code",
      "execution_count": null,
      "metadata": {
        "id": "_CxrninI9ThF"
      },
      "outputs": [],
      "source": [
        "from sklearn.model_selection import cross_val_score, train_test_split\n",
        "from sklearn.datasets import make_classification\n",
        "from sklearn.tree import DecisionTreeClassifier\n",
        "from sklearn.ensemble import RandomForestClassifier\n",
        "from sklearn.metrics import classification_report\n",
        "from sklearn.pipeline import make_pipeline\n",
        "from sklearn.svm import LinearSVC\n",
        "from sklearn.linear_model import LogisticRegression\n",
        "from sklearn.preprocessing import StandardScaler\n",
        "from sklearn.ensemble import StackingClassifier\n",
        "from sklearn.ensemble import GradientBoostingClassifier\n",
        "from lightgbm import LGBMClassifier"
      ]
    },
    {
      "cell_type": "code",
      "source": [
        "#!pip install lightgbm"
      ],
      "metadata": {
        "id": "VrNQNwMzRJ6Z",
        "colab": {
          "base_uri": "https://localhost:8080/"
        },
        "outputId": "6574ad5d-cb7d-4401-e2d4-06fdde44d393"
      },
      "execution_count": null,
      "outputs": [
        {
          "output_type": "stream",
          "name": "stdout",
          "text": [
            "Requirement already satisfied: lightgbm in /usr/local/lib/python3.10/dist-packages (3.3.5)\n",
            "Requirement already satisfied: wheel in /usr/local/lib/python3.10/dist-packages (from lightgbm) (0.40.0)\n",
            "Requirement already satisfied: numpy in /usr/local/lib/python3.10/dist-packages (from lightgbm) (1.22.4)\n",
            "Requirement already satisfied: scipy in /usr/local/lib/python3.10/dist-packages (from lightgbm) (1.10.1)\n",
            "Requirement already satisfied: scikit-learn!=0.22.0 in /usr/local/lib/python3.10/dist-packages (from lightgbm) (1.2.2)\n",
            "Requirement already satisfied: joblib>=1.1.1 in /usr/local/lib/python3.10/dist-packages (from scikit-learn!=0.22.0->lightgbm) (1.2.0)\n",
            "Requirement already satisfied: threadpoolctl>=2.0.0 in /usr/local/lib/python3.10/dist-packages (from scikit-learn!=0.22.0->lightgbm) (3.1.0)\n"
          ]
        }
      ]
    },
    {
      "cell_type": "code",
      "source": [
        "X, y = make_classification(n_features=4, random_state=0)\n",
        "X_train, X_test, y_train, y_test = train_test_split(X, y, test_size=0.33, random_state=42)"
      ],
      "metadata": {
        "id": "IsEWOMa5--GC"
      },
      "execution_count": null,
      "outputs": []
    },
    {
      "cell_type": "code",
      "source": [
        "clf = DecisionTreeClassifier(random_state=0).fit(X_train,y_train)"
      ],
      "metadata": {
        "id": "ZleD1CoH-_WL"
      },
      "execution_count": null,
      "outputs": []
    },
    {
      "cell_type": "code",
      "source": [
        "y_pred = clf.predict(X_test)"
      ],
      "metadata": {
        "id": "rmU8TGRb_HKd"
      },
      "execution_count": null,
      "outputs": []
    },
    {
      "cell_type": "code",
      "source": [
        "list(zip(X_test, y_pred, y_test))"
      ],
      "metadata": {
        "colab": {
          "base_uri": "https://localhost:8080/"
        },
        "id": "fbTZwzFF_n70",
        "outputId": "0a920077-d69f-4cbd-e45a-ad7184334e17"
      },
      "execution_count": null,
      "outputs": [
        {
          "output_type": "execute_result",
          "data": {
            "text/plain": [
              "[(array([-0.86953695,  1.99896877,  1.73590335,  0.25737491]), 1, 1),\n",
              " (array([-2.5215955 ,  2.47822554,  1.27458364, -1.5032832 ]), 0, 1),\n",
              " (array([-0.04378433, -1.10110026, -1.27395967, -0.8016903 ]), 0, 0),\n",
              " (array([-0.00247553,  0.39979927,  0.45139447,  0.26789218]), 1, 1),\n",
              " (array([-0.42276158, -0.7692135 , -1.12836011, -1.055126  ]), 0, 0),\n",
              " (array([ 0.68766176, -1.36592018, -1.12933108, -0.05783881]), 0, 0),\n",
              " (array([-0.48661246, -1.9216172 , -2.47263494, -1.91692582]), 0, 0),\n",
              " (array([-0.10017113,  2.17784212,  2.40620516,  1.34986807]), 1, 1),\n",
              " (array([-0.0723168 , -0.77366833, -0.92038325, -0.6157487 ]), 0, 0),\n",
              " (array([-0.07156026,  0.2295539 ,  0.21654345,  0.06527398]), 1, 1),\n",
              " (array([ 0.55626974, -0.58426423, -0.32372692,  0.30616507]), 1, 1),\n",
              " (array([ 0.54481881, -1.33330476, -1.17921312, -0.21605254]), 0, 1),\n",
              " (array([ 0.35117341, -0.97896912, -0.89552621, -0.22030987]), 0, 0),\n",
              " (array([ 1.12073484, -0.32474419,  0.31338067,  1.19466313]), 1, 1),\n",
              " (array([-0.76288442, -0.87174583, -1.45125944, -1.55399781]), 0, 0),\n",
              " (array([-0.28692   , -0.71695298, -0.98658509, -0.84821473]), 0, 0),\n",
              " (array([-0.82718247,  1.52088679,  1.22006997, -0.01324112]), 1, 1),\n",
              " (array([-3.697436  ,  1.57688756, -0.46122013, -3.59865169]), 0, 0),\n",
              " (array([0.39390608, 0.39024735, 0.68152068, 0.76180433]), 1, 1),\n",
              " (array([1.5552506 , 0.25625327, 1.23567148, 2.13703895]), 1, 1),\n",
              " (array([1.47049892, 1.27779762, 2.34137626, 2.72253736]), 1, 1),\n",
              " (array([-0.32110537,  0.41328803,  0.27299061, -0.12519838]), 1, 1),\n",
              " (array([ 1.34057624, -0.81459336, -0.10789457,  1.14012761]), 1, 1),\n",
              " (array([-1.24378126,  0.28082111, -0.43793316, -1.37977014]), 1, 0),\n",
              " (array([ 1.79445113, -1.7603284 , -0.90334395,  1.07199564]), 0, 0),\n",
              " (array([ 0.37343616, -1.07382634, -0.98944929, -0.25650778]), 0, 0),\n",
              " (array([-1.10453952,  2.10141172,  1.70910242,  0.03015494]), 1, 1),\n",
              " (array([-1.05286598, -0.64151511, -1.36672011, -1.76399739]), 0, 0),\n",
              " (array([-0.98613257,  1.71053103,  1.3382818 , -0.08534109]), 1, 1),\n",
              " (array([ 1.78037474, -1.74994864, -0.90014214,  1.06126205]), 0, 0),\n",
              " (array([ 0.4559465 , -0.45786876, -0.2415271 ,  0.26519962]), 1, 1),\n",
              " (array([-0.6054158 , -0.2959706 , -0.70329192, -0.96490295]), 0, 0),\n",
              " (array([-0.80022106, -0.1735695 , -0.68304936, -1.12784904]), 0, 1)]"
            ]
          },
          "metadata": {},
          "execution_count": 7
        }
      ]
    },
    {
      "cell_type": "code",
      "source": [
        "print(classification_report(y_test, y_pred, target_names=[f'class_{i}' for i in range(2)]))"
      ],
      "metadata": {
        "colab": {
          "base_uri": "https://localhost:8080/"
        },
        "id": "kdpLvfcrAlqz",
        "outputId": "e8dd852f-de2c-4078-efd5-c89c5909a70d"
      },
      "execution_count": null,
      "outputs": [
        {
          "output_type": "stream",
          "name": "stdout",
          "text": [
            "              precision    recall  f1-score   support\n",
            "\n",
            "     class_0       0.82      0.93      0.87        15\n",
            "     class_1       0.94      0.83      0.88        18\n",
            "\n",
            "    accuracy                           0.88        33\n",
            "   macro avg       0.88      0.88      0.88        33\n",
            "weighted avg       0.89      0.88      0.88        33\n",
            "\n"
          ]
        }
      ]
    },
    {
      "cell_type": "markdown",
      "source": [
        "##Bagging"
      ],
      "metadata": {
        "id": "qjaUYu5UAq4W"
      }
    },
    {
      "cell_type": "code",
      "source": [
        "clf_rf = RandomForestClassifier(max_depth=2, random_state=0).fit(X_test, y_test)"
      ],
      "metadata": {
        "id": "6CXxKef6_pW1"
      },
      "execution_count": null,
      "outputs": []
    },
    {
      "cell_type": "code",
      "source": [
        "y_pred_rf = clf_rf.predict(X_test)"
      ],
      "metadata": {
        "id": "7_kdx4-4ASyl"
      },
      "execution_count": null,
      "outputs": []
    },
    {
      "cell_type": "code",
      "source": [
        "list(zip(X_test, y_pred_rf, y_test))"
      ],
      "metadata": {
        "colab": {
          "base_uri": "https://localhost:8080/"
        },
        "id": "GnJxIfK2Aamz",
        "outputId": "92d89aaf-a21f-498a-e834-d5a28715ab26"
      },
      "execution_count": null,
      "outputs": [
        {
          "output_type": "execute_result",
          "data": {
            "text/plain": [
              "[(array([-0.86953695,  1.99896877,  1.73590335,  0.25737491]), 1, 1),\n",
              " (array([-2.5215955 ,  2.47822554,  1.27458364, -1.5032832 ]), 1, 1),\n",
              " (array([-0.04378433, -1.10110026, -1.27395967, -0.8016903 ]), 0, 0),\n",
              " (array([-0.00247553,  0.39979927,  0.45139447,  0.26789218]), 1, 1),\n",
              " (array([-0.42276158, -0.7692135 , -1.12836011, -1.055126  ]), 0, 0),\n",
              " (array([ 0.68766176, -1.36592018, -1.12933108, -0.05783881]), 0, 0),\n",
              " (array([-0.48661246, -1.9216172 , -2.47263494, -1.91692582]), 0, 0),\n",
              " (array([-0.10017113,  2.17784212,  2.40620516,  1.34986807]), 1, 1),\n",
              " (array([-0.0723168 , -0.77366833, -0.92038325, -0.6157487 ]), 0, 0),\n",
              " (array([-0.07156026,  0.2295539 ,  0.21654345,  0.06527398]), 1, 1),\n",
              " (array([ 0.55626974, -0.58426423, -0.32372692,  0.30616507]), 1, 1),\n",
              " (array([ 0.54481881, -1.33330476, -1.17921312, -0.21605254]), 0, 1),\n",
              " (array([ 0.35117341, -0.97896912, -0.89552621, -0.22030987]), 0, 0),\n",
              " (array([ 1.12073484, -0.32474419,  0.31338067,  1.19466313]), 1, 1),\n",
              " (array([-0.76288442, -0.87174583, -1.45125944, -1.55399781]), 0, 0),\n",
              " (array([-0.28692   , -0.71695298, -0.98658509, -0.84821473]), 0, 0),\n",
              " (array([-0.82718247,  1.52088679,  1.22006997, -0.01324112]), 1, 1),\n",
              " (array([-3.697436  ,  1.57688756, -0.46122013, -3.59865169]), 0, 0),\n",
              " (array([0.39390608, 0.39024735, 0.68152068, 0.76180433]), 1, 1),\n",
              " (array([1.5552506 , 0.25625327, 1.23567148, 2.13703895]), 1, 1),\n",
              " (array([1.47049892, 1.27779762, 2.34137626, 2.72253736]), 1, 1),\n",
              " (array([-0.32110537,  0.41328803,  0.27299061, -0.12519838]), 1, 1),\n",
              " (array([ 1.34057624, -0.81459336, -0.10789457,  1.14012761]), 1, 1),\n",
              " (array([-1.24378126,  0.28082111, -0.43793316, -1.37977014]), 0, 0),\n",
              " (array([ 1.79445113, -1.7603284 , -0.90334395,  1.07199564]), 0, 0),\n",
              " (array([ 0.37343616, -1.07382634, -0.98944929, -0.25650778]), 0, 0),\n",
              " (array([-1.10453952,  2.10141172,  1.70910242,  0.03015494]), 1, 1),\n",
              " (array([-1.05286598, -0.64151511, -1.36672011, -1.76399739]), 0, 0),\n",
              " (array([-0.98613257,  1.71053103,  1.3382818 , -0.08534109]), 1, 1),\n",
              " (array([ 1.78037474, -1.74994864, -0.90014214,  1.06126205]), 0, 0),\n",
              " (array([ 0.4559465 , -0.45786876, -0.2415271 ,  0.26519962]), 1, 1),\n",
              " (array([-0.6054158 , -0.2959706 , -0.70329192, -0.96490295]), 0, 0),\n",
              " (array([-0.80022106, -0.1735695 , -0.68304936, -1.12784904]), 0, 1)]"
            ]
          },
          "metadata": {},
          "execution_count": 9
        }
      ]
    },
    {
      "cell_type": "code",
      "source": [
        "print(classification_report(y_test, y_pred_rf, target_names=[f'class_{i}' for i in range(2)]))"
      ],
      "metadata": {
        "colab": {
          "base_uri": "https://localhost:8080/"
        },
        "id": "zEQ5OV2gAizz",
        "outputId": "41c1f7f8-33a3-4d8c-db58-75bb3a578a2a"
      },
      "execution_count": null,
      "outputs": [
        {
          "output_type": "stream",
          "name": "stdout",
          "text": [
            "              precision    recall  f1-score   support\n",
            "\n",
            "     class_0       0.88      1.00      0.94        15\n",
            "     class_1       1.00      0.89      0.94        18\n",
            "\n",
            "    accuracy                           0.94        33\n",
            "   macro avg       0.94      0.94      0.94        33\n",
            "weighted avg       0.95      0.94      0.94        33\n",
            "\n"
          ]
        }
      ]
    },
    {
      "cell_type": "markdown",
      "source": [
        "##Stacking"
      ],
      "metadata": {
        "id": "QRhkqiSNBiYA"
      }
    },
    {
      "cell_type": "code",
      "source": [
        "estimators = [\n",
        "  ('rf', RandomForestClassifier(n_estimators=10, random_state=42)),\n",
        "  ('svr', make_pipeline(StandardScaler(), LinearSVC(random_state=42)))\n",
        "  ]\n",
        "clf_stck = StackingClassifier(estimators=estimators, final_estimator=LogisticRegression())"
      ],
      "metadata": {
        "id": "1mOkMD0sBdMj"
      },
      "execution_count": null,
      "outputs": []
    },
    {
      "cell_type": "code",
      "source": [
        "clf_stck = clf_stck.fit(X_train, y_train)\n"
      ],
      "metadata": {
        "id": "o12pr5KcCfYZ"
      },
      "execution_count": null,
      "outputs": []
    },
    {
      "cell_type": "code",
      "source": [
        "y_pred_stck = clf_stck.predict(X_test)"
      ],
      "metadata": {
        "id": "eHUp7H7-Cmrh"
      },
      "execution_count": null,
      "outputs": []
    },
    {
      "cell_type": "code",
      "source": [
        "print(classification_report(y_test, y_pred_stck, target_names=[f'class_{i}' for i in range(2)]))"
      ],
      "metadata": {
        "colab": {
          "base_uri": "https://localhost:8080/"
        },
        "id": "o-5215UACsTZ",
        "outputId": "ff0329dc-3d7e-459b-b472-316d012d1be0"
      },
      "execution_count": null,
      "outputs": [
        {
          "output_type": "stream",
          "name": "stdout",
          "text": [
            "              precision    recall  f1-score   support\n",
            "\n",
            "     class_0       0.88      1.00      0.94        15\n",
            "     class_1       1.00      0.89      0.94        18\n",
            "\n",
            "    accuracy                           0.94        33\n",
            "   macro avg       0.94      0.94      0.94        33\n",
            "weighted avg       0.95      0.94      0.94        33\n",
            "\n"
          ]
        }
      ]
    },
    {
      "cell_type": "markdown",
      "source": [
        "##Boosting"
      ],
      "metadata": {
        "id": "JrpzpWuRC1gt"
      }
    },
    {
      "cell_type": "code",
      "source": [
        "clf_gb = GradientBoostingClassifier(n_estimators=100, learning_rate=1.0, max_depth=1, random_state=0).fit(X_train, y_train)"
      ],
      "metadata": {
        "id": "1XQ5WK20CvSh"
      },
      "execution_count": null,
      "outputs": []
    },
    {
      "cell_type": "code",
      "source": [
        "y_pred_gb = clf_gb.predict(X_test)"
      ],
      "metadata": {
        "id": "7SrCID8rDVzB"
      },
      "execution_count": null,
      "outputs": []
    },
    {
      "cell_type": "code",
      "source": [
        "print(classification_report(y_test, y_pred_gb, target_names=[f'class_{i}' for i in range(2)]))"
      ],
      "metadata": {
        "colab": {
          "base_uri": "https://localhost:8080/"
        },
        "id": "4FDAfQmYEZoo",
        "outputId": "f578ba7a-96e3-417b-c5d9-4ed1d8bbe67a"
      },
      "execution_count": null,
      "outputs": [
        {
          "output_type": "stream",
          "name": "stdout",
          "text": [
            "              precision    recall  f1-score   support\n",
            "\n",
            "     class_0       0.83      1.00      0.91        15\n",
            "     class_1       1.00      0.83      0.91        18\n",
            "\n",
            "    accuracy                           0.91        33\n",
            "   macro avg       0.92      0.92      0.91        33\n",
            "weighted avg       0.92      0.91      0.91        33\n",
            "\n"
          ]
        }
      ]
    },
    {
      "cell_type": "code",
      "source": [
        "clf_lgbm = LGBMClassifier().fit(X_train, y_train)"
      ],
      "metadata": {
        "id": "CiPh3a_7EhD3"
      },
      "execution_count": null,
      "outputs": []
    },
    {
      "cell_type": "code",
      "source": [
        "y_pred_lgbm = clf_lgbm.predict(X_test)"
      ],
      "metadata": {
        "id": "RxoqS3q4R5Cq"
      },
      "execution_count": null,
      "outputs": []
    },
    {
      "cell_type": "code",
      "source": [
        "print(classification_report(y_test, y_pred_lgbm, target_names=[f'class_{i}' for i in range(2)]))"
      ],
      "metadata": {
        "colab": {
          "base_uri": "https://localhost:8080/"
        },
        "id": "tM83d9L6R9i6",
        "outputId": "03a6fa8f-0302-4d65-add2-63560974aef3"
      },
      "execution_count": null,
      "outputs": [
        {
          "output_type": "stream",
          "name": "stdout",
          "text": [
            "              precision    recall  f1-score   support\n",
            "\n",
            "     class_0       0.88      1.00      0.94        15\n",
            "     class_1       1.00      0.89      0.94        18\n",
            "\n",
            "    accuracy                           0.94        33\n",
            "   macro avg       0.94      0.94      0.94        33\n",
            "weighted avg       0.95      0.94      0.94        33\n",
            "\n"
          ]
        }
      ]
    },
    {
      "cell_type": "code",
      "source": [],
      "metadata": {
        "id": "bvBK1c1iSAgq"
      },
      "execution_count": null,
      "outputs": []
    }
  ]
}
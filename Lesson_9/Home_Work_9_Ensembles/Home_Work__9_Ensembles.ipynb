{
  "nbformat": 4,
  "nbformat_minor": 0,
  "metadata": {
    "colab": {
      "provenance": []
    },
    "kernelspec": {
      "name": "python3",
      "display_name": "Python 3"
    },
    "language_info": {
      "name": "python"
    }
  },
  "cells": [
    {
      "cell_type": "markdown",
      "source": [
        "Натренувати класифікатори на датасеті\n",
        "https://archive.ics.uci.edu/dataset/713/auction+verification\n",
        "Мають бути 3 варіанти класифікаторів (стекінг, бустінг, беггінг)\n",
        "\n",
        "*   первинний аналіз даних (відстуність пропусків, наявність категоріальних фіч, duplicated, Nan) (+)\n",
        "*   фича інжиніринг (побудувати 1-2 нові фічі) (+)\n",
        "*   Убрать кореляцію в фічах (+)\n",
        "*   поділ датасету на train, validate, test (+ random_state) (+)\n",
        "*   GridSearchCV (+)\n",
        "*   Scaling (+)\n",
        "*   тренування базової моделі із дефолтними гіперпараметрами (кожну модель) (+)\n",
        "*   підбір гіперпараметрів (кожну модель) (+)\n",
        "*   побудувати модель різними способами (+)\n",
        "*   Metrics (+)\n",
        "*   оцінка результатів (порівняння всіх на тестовій частині, описати яка краще) (+)\n",
        "*  Графічний аналіз, (якщо встигну)"
      ],
      "metadata": {
        "id": "nskRZCwldXIo"
      }
    },
    {
      "cell_type": "markdown",
      "source": [
        "## INIT BLOCK"
      ],
      "metadata": {
        "id": "FF_YuxTIdLZZ"
      }
    },
    {
      "cell_type": "markdown",
      "source": [
        "### Import Requirements"
      ],
      "metadata": {
        "id": "CE3NH-enOzwx"
      }
    },
    {
      "cell_type": "code",
      "source": [
        "import matplotlib.pyplot as plt\n",
        "import numpy as np\n",
        "import pandas as pd\n",
        "import plotly.express as px\n",
        "import seaborn as sns\n",
        "from matplotlib.axes import Axes\n",
        "from matplotlib.container import BarContainer\n",
        "from pandas.core.arrays.sparse.array import NaT\n",
        "from pandas.core.groupby import DataFrameGroupBy\n",
        "from sklearn.linear_model import (LinearRegression, SGDRegressor, ElasticNet, Lasso, LogisticRegression, Perceptron, RidgeClassifier, SGDClassifier,\n",
        "                                  Ridge,)\n",
        "from sklearn.metrics import (r2_score, mean_squared_error, mean_absolute_error, accuracy_score, classification_report, precision_recall_curve,\n",
        "                             precision_score, recall_score, f1_score, roc_auc_score)\n",
        "from sklearn.model_selection import train_test_split, GridSearchCV\n",
        "from sklearn.pipeline import make_pipeline, Pipeline\n",
        "from sklearn.decomposition import PCA\n",
        "from sklearn.preprocessing import StandardScaler, RobustScaler, PowerTransformer\n",
        "from sklearn.manifold import TSNE\n",
        "from sklearn.feature_selection import SelectKBest, chi2, VarianceThreshold, SelectFromModel\n",
        "from sklearn.ensemble import (RandomForestClassifier, GradientBoostingClassifier, RandomForestRegressor, AdaBoostClassifier, VotingClassifier, AdaBoostRegressor,\n",
        "                              StackingClassifier, StackingRegressor)\n",
        "from sklearn.neighbors import KNeighborsClassifier, NearestCentroid\n",
        "from sklearn.tree import DecisionTreeClassifier, ExtraTreeClassifier, plot_tree, DecisionTreeRegressor\n",
        "from sklearn.preprocessing import OneHotEncoder\n",
        "from imblearn.over_sampling import ADASYN, BorderlineSMOTE, KMeansSMOTE, SMOTENC, SVMSMOTE\n"
      ],
      "metadata": {
        "id": "q_DtSfAf71NW"
      },
      "execution_count": null,
      "outputs": []
    },
    {
      "cell_type": "markdown",
      "source": [
        "### Init"
      ],
      "metadata": {
        "id": "-nEn7Kpi3Tta"
      }
    },
    {
      "cell_type": "code",
      "execution_count": null,
      "metadata": {
        "id": "6Bwem-C8CxBF",
        "colab": {
          "base_uri": "https://localhost:8080/"
        },
        "outputId": "a652279a-d57f-4b8c-9c00-041380f2a9bd"
      },
      "outputs": [
        {
          "output_type": "stream",
          "name": "stdout",
          "text": [
            "Drive already mounted at /content/drive; to attempt to forcibly remount, call drive.mount(\"/content/drive\", force_remount=True).\n"
          ]
        }
      ],
      "source": [
        "RANDOM_STATE: int = 1729\n",
        "\n",
        "\n",
        "def mount_google_drive() -> bool | None:\n",
        "    \"\"\"\n",
        "    Function to mount Google Drive.\n",
        "    :return: True if mounting is successful, None otherwise.\n",
        "    \"\"\"\n",
        "    try:\n",
        "        from google.colab.drive import mount\n",
        "\n",
        "        mount(mountpoint=\"/content/drive\")\n",
        "        return True\n",
        "\n",
        "    except Exception as error:\n",
        "        print(f\"Error while mounting Google Drive: {error}\")\n",
        "        raise\n",
        "\n",
        "\n",
        "def get_data_frame(dataset_path: str, *args, sep: str = \",\", **kwargs) -> pd.DataFrame | None:\n",
        "    \"\"\"\n",
        "    Function to convert the dataset into a pd.DataFrame.\n",
        "    :param sep: Separator for csv data, default - \",\".\n",
        "    :param dataset_path: Path or URL of the dataset.\n",
        "    :return: pd.DataFrame containing the dataset, or None if errors occur.\n",
        "    \"\"\"\n",
        "    try:\n",
        "        return pd.read_csv(filepath_or_buffer=dataset_path, sep=sep, **kwargs)\n",
        "\n",
        "    except Exception as error:\n",
        "        print(f\"Error while converting dataset to NumPy array: {error}\")\n",
        "        raise\n",
        "\n",
        "\n",
        "def main(dataset_path: str, *args, **kwargs) -> pd.DataFrame | None:\n",
        "    \"\"\"\n",
        "    Main function to start the app.\n",
        "    :return: pd.DataFrame containing the dataset, or None if errors occur.\n",
        "    \"\"\"\n",
        "    if mount_google_drive():\n",
        "        import os\n",
        "\n",
        "        if os.path.exists(path=dataset_path):\n",
        "            return get_data_frame(dataset_path=dataset_path, *args, **kwargs)\n",
        "\n",
        "        else:\n",
        "            print(\"Dataset path doesn't exists.\")\n",
        "            raise FileNotFoundError\n",
        "\n",
        "\n",
        "if __name__ == \"__main__\":\n",
        "    auction_verification_dataframe: pd.DataFrame | None = main(dataset_path=\"/content/drive/MyDrive/Hillel/Machine_Learning_Course/HW9/data.csv\")\n",
        "\n",
        "    if isinstance(auction_verification_dataframe, pd.DataFrame):\n",
        "        working_dataframe: pd.DataFrame = auction_verification_dataframe.copy()  # TODO rename this variable according to dataset name\n",
        "\n",
        "        target: list = [\"verification.result\", \"verification.time\"]\n",
        "        features: list = [\"process.b1.capacity\", \"process.b2.capacity\", \"process.b3.capacity\", \"process.b4.capacity\", \"property.price\", \"property.product\", \"property.winner\"]\n",
        "\n",
        "        # headers: list = features_names + target_column_name\n"
      ]
    },
    {
      "cell_type": "markdown",
      "source": [
        "# Data analysis, clining and optomization"
      ],
      "metadata": {
        "id": "UCU6z3sW3gPo"
      }
    },
    {
      "cell_type": "markdown",
      "source": [
        "### Перевіряємо на дублікати"
      ],
      "metadata": {
        "id": "w1LP7DghAxIX"
      }
    },
    {
      "cell_type": "code",
      "source": [
        "print(f\"{'Є дублікати, потрібна обробка датасету.' if working_dataframe.duplicated().sum() else 'Дублікатів немає.'}\", end=\"\\n\\n\")"
      ],
      "metadata": {
        "id": "P3q0-dcq2xtW",
        "colab": {
          "base_uri": "https://localhost:8080/"
        },
        "outputId": "7bb7869d-fe0e-4f6d-a2c9-9ae40a42536c"
      },
      "execution_count": null,
      "outputs": [
        {
          "output_type": "stream",
          "name": "stdout",
          "text": [
            "Дублікатів немає.\n",
            "\n"
          ]
        }
      ]
    },
    {
      "cell_type": "markdown",
      "source": [
        "### Обробка відсутніх значеннь"
      ],
      "metadata": {
        "id": "CYZNcxKyrH_F"
      }
    },
    {
      "cell_type": "code",
      "source": [
        "print(f\"{'Є пропущені значення, потрібна обробка датасету.' if working_dataframe.isna().any().any() else 'Пропущених значень немає.'}\", end=\"\\n\\n\")\n",
        "working_dataframe.info()\n",
        "working_dataframe.head()"
      ],
      "metadata": {
        "id": "3xNCaAntrY-x",
        "colab": {
          "base_uri": "https://localhost:8080/",
          "height": 571
        },
        "outputId": "15324515-04a6-4850-e7c3-e6987eed3a03"
      },
      "execution_count": null,
      "outputs": [
        {
          "output_type": "stream",
          "name": "stdout",
          "text": [
            "Пропущених значень немає.\n",
            "\n",
            "<class 'pandas.core.frame.DataFrame'>\n",
            "RangeIndex: 2043 entries, 0 to 2042\n",
            "Data columns (total 9 columns):\n",
            " #   Column               Non-Null Count  Dtype  \n",
            "---  ------               --------------  -----  \n",
            " 0   process.b1.capacity  2043 non-null   int64  \n",
            " 1   process.b2.capacity  2043 non-null   int64  \n",
            " 2   process.b3.capacity  2043 non-null   int64  \n",
            " 3   process.b4.capacity  2043 non-null   int64  \n",
            " 4   property.price       2043 non-null   int64  \n",
            " 5   property.product     2043 non-null   int64  \n",
            " 6   property.winner      2043 non-null   int64  \n",
            " 7   verification.result  2043 non-null   bool   \n",
            " 8   verification.time    2043 non-null   float64\n",
            "dtypes: bool(1), float64(1), int64(7)\n",
            "memory usage: 129.8 KB\n"
          ]
        },
        {
          "output_type": "execute_result",
          "data": {
            "text/plain": [
              "   process.b1.capacity  process.b2.capacity  process.b3.capacity  \\\n",
              "0                    0                    0                    2   \n",
              "1                    0                    0                    2   \n",
              "2                    0                    0                    2   \n",
              "3                    0                    0                    2   \n",
              "4                    0                    0                    2   \n",
              "\n",
              "   process.b4.capacity  property.price  property.product  property.winner  \\\n",
              "0                    1              59                 1                0   \n",
              "1                    1              59                 2                0   \n",
              "2                    1              59                 4                0   \n",
              "3                    1              59                 6                0   \n",
              "4                    1              60                 1                0   \n",
              "\n",
              "   verification.result  verification.time  \n",
              "0                False         163.316667  \n",
              "1                False         200.860000  \n",
              "2                False         154.888889  \n",
              "3                False         108.640000  \n",
              "4                 True          85.466667  "
            ],
            "text/html": [
              "\n",
              "\n",
              "  <div id=\"df-3c84d9d9-ae41-4b46-be4a-71b5b012c7d9\">\n",
              "    <div class=\"colab-df-container\">\n",
              "      <div>\n",
              "<style scoped>\n",
              "    .dataframe tbody tr th:only-of-type {\n",
              "        vertical-align: middle;\n",
              "    }\n",
              "\n",
              "    .dataframe tbody tr th {\n",
              "        vertical-align: top;\n",
              "    }\n",
              "\n",
              "    .dataframe thead th {\n",
              "        text-align: right;\n",
              "    }\n",
              "</style>\n",
              "<table border=\"1\" class=\"dataframe\">\n",
              "  <thead>\n",
              "    <tr style=\"text-align: right;\">\n",
              "      <th></th>\n",
              "      <th>process.b1.capacity</th>\n",
              "      <th>process.b2.capacity</th>\n",
              "      <th>process.b3.capacity</th>\n",
              "      <th>process.b4.capacity</th>\n",
              "      <th>property.price</th>\n",
              "      <th>property.product</th>\n",
              "      <th>property.winner</th>\n",
              "      <th>verification.result</th>\n",
              "      <th>verification.time</th>\n",
              "    </tr>\n",
              "  </thead>\n",
              "  <tbody>\n",
              "    <tr>\n",
              "      <th>0</th>\n",
              "      <td>0</td>\n",
              "      <td>0</td>\n",
              "      <td>2</td>\n",
              "      <td>1</td>\n",
              "      <td>59</td>\n",
              "      <td>1</td>\n",
              "      <td>0</td>\n",
              "      <td>False</td>\n",
              "      <td>163.316667</td>\n",
              "    </tr>\n",
              "    <tr>\n",
              "      <th>1</th>\n",
              "      <td>0</td>\n",
              "      <td>0</td>\n",
              "      <td>2</td>\n",
              "      <td>1</td>\n",
              "      <td>59</td>\n",
              "      <td>2</td>\n",
              "      <td>0</td>\n",
              "      <td>False</td>\n",
              "      <td>200.860000</td>\n",
              "    </tr>\n",
              "    <tr>\n",
              "      <th>2</th>\n",
              "      <td>0</td>\n",
              "      <td>0</td>\n",
              "      <td>2</td>\n",
              "      <td>1</td>\n",
              "      <td>59</td>\n",
              "      <td>4</td>\n",
              "      <td>0</td>\n",
              "      <td>False</td>\n",
              "      <td>154.888889</td>\n",
              "    </tr>\n",
              "    <tr>\n",
              "      <th>3</th>\n",
              "      <td>0</td>\n",
              "      <td>0</td>\n",
              "      <td>2</td>\n",
              "      <td>1</td>\n",
              "      <td>59</td>\n",
              "      <td>6</td>\n",
              "      <td>0</td>\n",
              "      <td>False</td>\n",
              "      <td>108.640000</td>\n",
              "    </tr>\n",
              "    <tr>\n",
              "      <th>4</th>\n",
              "      <td>0</td>\n",
              "      <td>0</td>\n",
              "      <td>2</td>\n",
              "      <td>1</td>\n",
              "      <td>60</td>\n",
              "      <td>1</td>\n",
              "      <td>0</td>\n",
              "      <td>True</td>\n",
              "      <td>85.466667</td>\n",
              "    </tr>\n",
              "  </tbody>\n",
              "</table>\n",
              "</div>\n",
              "      <button class=\"colab-df-convert\" onclick=\"convertToInteractive('df-3c84d9d9-ae41-4b46-be4a-71b5b012c7d9')\"\n",
              "              title=\"Convert this dataframe to an interactive table.\"\n",
              "              style=\"display:none;\">\n",
              "\n",
              "  <svg xmlns=\"http://www.w3.org/2000/svg\" height=\"24px\"viewBox=\"0 0 24 24\"\n",
              "       width=\"24px\">\n",
              "    <path d=\"M0 0h24v24H0V0z\" fill=\"none\"/>\n",
              "    <path d=\"M18.56 5.44l.94 2.06.94-2.06 2.06-.94-2.06-.94-.94-2.06-.94 2.06-2.06.94zm-11 1L8.5 8.5l.94-2.06 2.06-.94-2.06-.94L8.5 2.5l-.94 2.06-2.06.94zm10 10l.94 2.06.94-2.06 2.06-.94-2.06-.94-.94-2.06-.94 2.06-2.06.94z\"/><path d=\"M17.41 7.96l-1.37-1.37c-.4-.4-.92-.59-1.43-.59-.52 0-1.04.2-1.43.59L10.3 9.45l-7.72 7.72c-.78.78-.78 2.05 0 2.83L4 21.41c.39.39.9.59 1.41.59.51 0 1.02-.2 1.41-.59l7.78-7.78 2.81-2.81c.8-.78.8-2.07 0-2.86zM5.41 20L4 18.59l7.72-7.72 1.47 1.35L5.41 20z\"/>\n",
              "  </svg>\n",
              "      </button>\n",
              "\n",
              "\n",
              "\n",
              "    <div id=\"df-b8551abc-4607-4bfb-943c-d6bab4b06d9d\">\n",
              "      <button class=\"colab-df-quickchart\" onclick=\"quickchart('df-b8551abc-4607-4bfb-943c-d6bab4b06d9d')\"\n",
              "              title=\"Suggest charts.\"\n",
              "              style=\"display:none;\">\n",
              "\n",
              "<svg xmlns=\"http://www.w3.org/2000/svg\" height=\"24px\"viewBox=\"0 0 24 24\"\n",
              "     width=\"24px\">\n",
              "    <g>\n",
              "        <path d=\"M19 3H5c-1.1 0-2 .9-2 2v14c0 1.1.9 2 2 2h14c1.1 0 2-.9 2-2V5c0-1.1-.9-2-2-2zM9 17H7v-7h2v7zm4 0h-2V7h2v10zm4 0h-2v-4h2v4z\"/>\n",
              "    </g>\n",
              "</svg>\n",
              "      </button>\n",
              "    </div>\n",
              "\n",
              "<style>\n",
              "  .colab-df-quickchart {\n",
              "    background-color: #E8F0FE;\n",
              "    border: none;\n",
              "    border-radius: 50%;\n",
              "    cursor: pointer;\n",
              "    display: none;\n",
              "    fill: #1967D2;\n",
              "    height: 32px;\n",
              "    padding: 0 0 0 0;\n",
              "    width: 32px;\n",
              "  }\n",
              "\n",
              "  .colab-df-quickchart:hover {\n",
              "    background-color: #E2EBFA;\n",
              "    box-shadow: 0px 1px 2px rgba(60, 64, 67, 0.3), 0px 1px 3px 1px rgba(60, 64, 67, 0.15);\n",
              "    fill: #174EA6;\n",
              "  }\n",
              "\n",
              "  [theme=dark] .colab-df-quickchart {\n",
              "    background-color: #3B4455;\n",
              "    fill: #D2E3FC;\n",
              "  }\n",
              "\n",
              "  [theme=dark] .colab-df-quickchart:hover {\n",
              "    background-color: #434B5C;\n",
              "    box-shadow: 0px 1px 3px 1px rgba(0, 0, 0, 0.15);\n",
              "    filter: drop-shadow(0px 1px 2px rgba(0, 0, 0, 0.3));\n",
              "    fill: #FFFFFF;\n",
              "  }\n",
              "</style>\n",
              "\n",
              "    <script>\n",
              "      async function quickchart(key) {\n",
              "        const containerElement = document.querySelector('#' + key);\n",
              "        const charts = await google.colab.kernel.invokeFunction(\n",
              "            'suggestCharts', [key], {});\n",
              "      }\n",
              "    </script>\n",
              "\n",
              "      <script>\n",
              "\n",
              "function displayQuickchartButton(domScope) {\n",
              "  let quickchartButtonEl =\n",
              "    domScope.querySelector('#df-b8551abc-4607-4bfb-943c-d6bab4b06d9d button.colab-df-quickchart');\n",
              "  quickchartButtonEl.style.display =\n",
              "    google.colab.kernel.accessAllowed ? 'block' : 'none';\n",
              "}\n",
              "\n",
              "        displayQuickchartButton(document);\n",
              "      </script>\n",
              "      <style>\n",
              "    .colab-df-container {\n",
              "      display:flex;\n",
              "      flex-wrap:wrap;\n",
              "      gap: 12px;\n",
              "    }\n",
              "\n",
              "    .colab-df-convert {\n",
              "      background-color: #E8F0FE;\n",
              "      border: none;\n",
              "      border-radius: 50%;\n",
              "      cursor: pointer;\n",
              "      display: none;\n",
              "      fill: #1967D2;\n",
              "      height: 32px;\n",
              "      padding: 0 0 0 0;\n",
              "      width: 32px;\n",
              "    }\n",
              "\n",
              "    .colab-df-convert:hover {\n",
              "      background-color: #E2EBFA;\n",
              "      box-shadow: 0px 1px 2px rgba(60, 64, 67, 0.3), 0px 1px 3px 1px rgba(60, 64, 67, 0.15);\n",
              "      fill: #174EA6;\n",
              "    }\n",
              "\n",
              "    [theme=dark] .colab-df-convert {\n",
              "      background-color: #3B4455;\n",
              "      fill: #D2E3FC;\n",
              "    }\n",
              "\n",
              "    [theme=dark] .colab-df-convert:hover {\n",
              "      background-color: #434B5C;\n",
              "      box-shadow: 0px 1px 3px 1px rgba(0, 0, 0, 0.15);\n",
              "      filter: drop-shadow(0px 1px 2px rgba(0, 0, 0, 0.3));\n",
              "      fill: #FFFFFF;\n",
              "    }\n",
              "  </style>\n",
              "\n",
              "      <script>\n",
              "        const buttonEl =\n",
              "          document.querySelector('#df-3c84d9d9-ae41-4b46-be4a-71b5b012c7d9 button.colab-df-convert');\n",
              "        buttonEl.style.display =\n",
              "          google.colab.kernel.accessAllowed ? 'block' : 'none';\n",
              "\n",
              "        async function convertToInteractive(key) {\n",
              "          const element = document.querySelector('#df-3c84d9d9-ae41-4b46-be4a-71b5b012c7d9');\n",
              "          const dataTable =\n",
              "            await google.colab.kernel.invokeFunction('convertToInteractive',\n",
              "                                                     [key], {});\n",
              "          if (!dataTable) return;\n",
              "\n",
              "          const docLinkHtml = 'Like what you see? Visit the ' +\n",
              "            '<a target=\"_blank\" href=https://colab.research.google.com/notebooks/data_table.ipynb>data table notebook</a>'\n",
              "            + ' to learn more about interactive tables.';\n",
              "          element.innerHTML = '';\n",
              "          dataTable['output_type'] = 'display_data';\n",
              "          await google.colab.output.renderOutput(dataTable, element);\n",
              "          const docLink = document.createElement('div');\n",
              "          docLink.innerHTML = docLinkHtml;\n",
              "          element.appendChild(docLink);\n",
              "        }\n",
              "      </script>\n",
              "    </div>\n",
              "  </div>\n"
            ]
          },
          "metadata": {},
          "execution_count": 4
        }
      ]
    },
    {
      "cell_type": "markdown",
      "source": [
        "### Замінемо категорії таргета на числа, де \"True\" == 1, \"False\" == 0:"
      ],
      "metadata": {
        "id": "yV_zg8IAp84Q"
      }
    },
    {
      "cell_type": "code",
      "source": [
        "bool_target_column: str = target[0]\n",
        "working_dataframe[bool_target_column]: pd.Series = working_dataframe[bool_target_column].replace(to_replace={False: 0, True: 1})\n",
        "\n",
        "working_dataframe.info()\n",
        "working_dataframe.head(10)"
      ],
      "metadata": {
        "colab": {
          "base_uri": "https://localhost:8080/",
          "height": 692
        },
        "id": "p2A_Wl02qKcu",
        "outputId": "d21c6914-6018-4560-8be8-6ab114396672"
      },
      "execution_count": null,
      "outputs": [
        {
          "output_type": "stream",
          "name": "stdout",
          "text": [
            "<class 'pandas.core.frame.DataFrame'>\n",
            "RangeIndex: 2043 entries, 0 to 2042\n",
            "Data columns (total 9 columns):\n",
            " #   Column               Non-Null Count  Dtype  \n",
            "---  ------               --------------  -----  \n",
            " 0   process.b1.capacity  2043 non-null   int64  \n",
            " 1   process.b2.capacity  2043 non-null   int64  \n",
            " 2   process.b3.capacity  2043 non-null   int64  \n",
            " 3   process.b4.capacity  2043 non-null   int64  \n",
            " 4   property.price       2043 non-null   int64  \n",
            " 5   property.product     2043 non-null   int64  \n",
            " 6   property.winner      2043 non-null   int64  \n",
            " 7   verification.result  2043 non-null   int64  \n",
            " 8   verification.time    2043 non-null   float64\n",
            "dtypes: float64(1), int64(8)\n",
            "memory usage: 143.8 KB\n"
          ]
        },
        {
          "output_type": "execute_result",
          "data": {
            "text/plain": [
              "   process.b1.capacity  process.b2.capacity  process.b3.capacity  \\\n",
              "0                    0                    0                    2   \n",
              "1                    0                    0                    2   \n",
              "2                    0                    0                    2   \n",
              "3                    0                    0                    2   \n",
              "4                    0                    0                    2   \n",
              "5                    0                    0                    2   \n",
              "6                    0                    0                    2   \n",
              "7                    0                    0                    2   \n",
              "8                    0                    0                    2   \n",
              "9                    0                    0                    2   \n",
              "\n",
              "   process.b4.capacity  property.price  property.product  property.winner  \\\n",
              "0                    1              59                 1                0   \n",
              "1                    1              59                 2                0   \n",
              "2                    1              59                 4                0   \n",
              "3                    1              59                 6                0   \n",
              "4                    1              60                 1                0   \n",
              "5                    1              60                 1                3   \n",
              "6                    1              60                 1                4   \n",
              "7                    1              60                 2                0   \n",
              "8                    1              60                 2                3   \n",
              "9                    1              60                 2                4   \n",
              "\n",
              "   verification.result  verification.time  \n",
              "0                    0         163.316667  \n",
              "1                    0         200.860000  \n",
              "2                    0         154.888889  \n",
              "3                    0         108.640000  \n",
              "4                    1          85.466667  \n",
              "5                    1          82.000000  \n",
              "6                    0         154.250000  \n",
              "7                    1          80.950000  \n",
              "8                    1          78.000000  \n",
              "9                    0         197.010000  "
            ],
            "text/html": [
              "\n",
              "\n",
              "  <div id=\"df-fb822ace-6b28-4e22-acc7-86f981292709\">\n",
              "    <div class=\"colab-df-container\">\n",
              "      <div>\n",
              "<style scoped>\n",
              "    .dataframe tbody tr th:only-of-type {\n",
              "        vertical-align: middle;\n",
              "    }\n",
              "\n",
              "    .dataframe tbody tr th {\n",
              "        vertical-align: top;\n",
              "    }\n",
              "\n",
              "    .dataframe thead th {\n",
              "        text-align: right;\n",
              "    }\n",
              "</style>\n",
              "<table border=\"1\" class=\"dataframe\">\n",
              "  <thead>\n",
              "    <tr style=\"text-align: right;\">\n",
              "      <th></th>\n",
              "      <th>process.b1.capacity</th>\n",
              "      <th>process.b2.capacity</th>\n",
              "      <th>process.b3.capacity</th>\n",
              "      <th>process.b4.capacity</th>\n",
              "      <th>property.price</th>\n",
              "      <th>property.product</th>\n",
              "      <th>property.winner</th>\n",
              "      <th>verification.result</th>\n",
              "      <th>verification.time</th>\n",
              "    </tr>\n",
              "  </thead>\n",
              "  <tbody>\n",
              "    <tr>\n",
              "      <th>0</th>\n",
              "      <td>0</td>\n",
              "      <td>0</td>\n",
              "      <td>2</td>\n",
              "      <td>1</td>\n",
              "      <td>59</td>\n",
              "      <td>1</td>\n",
              "      <td>0</td>\n",
              "      <td>0</td>\n",
              "      <td>163.316667</td>\n",
              "    </tr>\n",
              "    <tr>\n",
              "      <th>1</th>\n",
              "      <td>0</td>\n",
              "      <td>0</td>\n",
              "      <td>2</td>\n",
              "      <td>1</td>\n",
              "      <td>59</td>\n",
              "      <td>2</td>\n",
              "      <td>0</td>\n",
              "      <td>0</td>\n",
              "      <td>200.860000</td>\n",
              "    </tr>\n",
              "    <tr>\n",
              "      <th>2</th>\n",
              "      <td>0</td>\n",
              "      <td>0</td>\n",
              "      <td>2</td>\n",
              "      <td>1</td>\n",
              "      <td>59</td>\n",
              "      <td>4</td>\n",
              "      <td>0</td>\n",
              "      <td>0</td>\n",
              "      <td>154.888889</td>\n",
              "    </tr>\n",
              "    <tr>\n",
              "      <th>3</th>\n",
              "      <td>0</td>\n",
              "      <td>0</td>\n",
              "      <td>2</td>\n",
              "      <td>1</td>\n",
              "      <td>59</td>\n",
              "      <td>6</td>\n",
              "      <td>0</td>\n",
              "      <td>0</td>\n",
              "      <td>108.640000</td>\n",
              "    </tr>\n",
              "    <tr>\n",
              "      <th>4</th>\n",
              "      <td>0</td>\n",
              "      <td>0</td>\n",
              "      <td>2</td>\n",
              "      <td>1</td>\n",
              "      <td>60</td>\n",
              "      <td>1</td>\n",
              "      <td>0</td>\n",
              "      <td>1</td>\n",
              "      <td>85.466667</td>\n",
              "    </tr>\n",
              "    <tr>\n",
              "      <th>5</th>\n",
              "      <td>0</td>\n",
              "      <td>0</td>\n",
              "      <td>2</td>\n",
              "      <td>1</td>\n",
              "      <td>60</td>\n",
              "      <td>1</td>\n",
              "      <td>3</td>\n",
              "      <td>1</td>\n",
              "      <td>82.000000</td>\n",
              "    </tr>\n",
              "    <tr>\n",
              "      <th>6</th>\n",
              "      <td>0</td>\n",
              "      <td>0</td>\n",
              "      <td>2</td>\n",
              "      <td>1</td>\n",
              "      <td>60</td>\n",
              "      <td>1</td>\n",
              "      <td>4</td>\n",
              "      <td>0</td>\n",
              "      <td>154.250000</td>\n",
              "    </tr>\n",
              "    <tr>\n",
              "      <th>7</th>\n",
              "      <td>0</td>\n",
              "      <td>0</td>\n",
              "      <td>2</td>\n",
              "      <td>1</td>\n",
              "      <td>60</td>\n",
              "      <td>2</td>\n",
              "      <td>0</td>\n",
              "      <td>1</td>\n",
              "      <td>80.950000</td>\n",
              "    </tr>\n",
              "    <tr>\n",
              "      <th>8</th>\n",
              "      <td>0</td>\n",
              "      <td>0</td>\n",
              "      <td>2</td>\n",
              "      <td>1</td>\n",
              "      <td>60</td>\n",
              "      <td>2</td>\n",
              "      <td>3</td>\n",
              "      <td>1</td>\n",
              "      <td>78.000000</td>\n",
              "    </tr>\n",
              "    <tr>\n",
              "      <th>9</th>\n",
              "      <td>0</td>\n",
              "      <td>0</td>\n",
              "      <td>2</td>\n",
              "      <td>1</td>\n",
              "      <td>60</td>\n",
              "      <td>2</td>\n",
              "      <td>4</td>\n",
              "      <td>0</td>\n",
              "      <td>197.010000</td>\n",
              "    </tr>\n",
              "  </tbody>\n",
              "</table>\n",
              "</div>\n",
              "      <button class=\"colab-df-convert\" onclick=\"convertToInteractive('df-fb822ace-6b28-4e22-acc7-86f981292709')\"\n",
              "              title=\"Convert this dataframe to an interactive table.\"\n",
              "              style=\"display:none;\">\n",
              "\n",
              "  <svg xmlns=\"http://www.w3.org/2000/svg\" height=\"24px\"viewBox=\"0 0 24 24\"\n",
              "       width=\"24px\">\n",
              "    <path d=\"M0 0h24v24H0V0z\" fill=\"none\"/>\n",
              "    <path d=\"M18.56 5.44l.94 2.06.94-2.06 2.06-.94-2.06-.94-.94-2.06-.94 2.06-2.06.94zm-11 1L8.5 8.5l.94-2.06 2.06-.94-2.06-.94L8.5 2.5l-.94 2.06-2.06.94zm10 10l.94 2.06.94-2.06 2.06-.94-2.06-.94-.94-2.06-.94 2.06-2.06.94z\"/><path d=\"M17.41 7.96l-1.37-1.37c-.4-.4-.92-.59-1.43-.59-.52 0-1.04.2-1.43.59L10.3 9.45l-7.72 7.72c-.78.78-.78 2.05 0 2.83L4 21.41c.39.39.9.59 1.41.59.51 0 1.02-.2 1.41-.59l7.78-7.78 2.81-2.81c.8-.78.8-2.07 0-2.86zM5.41 20L4 18.59l7.72-7.72 1.47 1.35L5.41 20z\"/>\n",
              "  </svg>\n",
              "      </button>\n",
              "\n",
              "\n",
              "\n",
              "    <div id=\"df-eb7d7453-6fae-4c12-ba8d-0c646800bc41\">\n",
              "      <button class=\"colab-df-quickchart\" onclick=\"quickchart('df-eb7d7453-6fae-4c12-ba8d-0c646800bc41')\"\n",
              "              title=\"Suggest charts.\"\n",
              "              style=\"display:none;\">\n",
              "\n",
              "<svg xmlns=\"http://www.w3.org/2000/svg\" height=\"24px\"viewBox=\"0 0 24 24\"\n",
              "     width=\"24px\">\n",
              "    <g>\n",
              "        <path d=\"M19 3H5c-1.1 0-2 .9-2 2v14c0 1.1.9 2 2 2h14c1.1 0 2-.9 2-2V5c0-1.1-.9-2-2-2zM9 17H7v-7h2v7zm4 0h-2V7h2v10zm4 0h-2v-4h2v4z\"/>\n",
              "    </g>\n",
              "</svg>\n",
              "      </button>\n",
              "    </div>\n",
              "\n",
              "<style>\n",
              "  .colab-df-quickchart {\n",
              "    background-color: #E8F0FE;\n",
              "    border: none;\n",
              "    border-radius: 50%;\n",
              "    cursor: pointer;\n",
              "    display: none;\n",
              "    fill: #1967D2;\n",
              "    height: 32px;\n",
              "    padding: 0 0 0 0;\n",
              "    width: 32px;\n",
              "  }\n",
              "\n",
              "  .colab-df-quickchart:hover {\n",
              "    background-color: #E2EBFA;\n",
              "    box-shadow: 0px 1px 2px rgba(60, 64, 67, 0.3), 0px 1px 3px 1px rgba(60, 64, 67, 0.15);\n",
              "    fill: #174EA6;\n",
              "  }\n",
              "\n",
              "  [theme=dark] .colab-df-quickchart {\n",
              "    background-color: #3B4455;\n",
              "    fill: #D2E3FC;\n",
              "  }\n",
              "\n",
              "  [theme=dark] .colab-df-quickchart:hover {\n",
              "    background-color: #434B5C;\n",
              "    box-shadow: 0px 1px 3px 1px rgba(0, 0, 0, 0.15);\n",
              "    filter: drop-shadow(0px 1px 2px rgba(0, 0, 0, 0.3));\n",
              "    fill: #FFFFFF;\n",
              "  }\n",
              "</style>\n",
              "\n",
              "    <script>\n",
              "      async function quickchart(key) {\n",
              "        const containerElement = document.querySelector('#' + key);\n",
              "        const charts = await google.colab.kernel.invokeFunction(\n",
              "            'suggestCharts', [key], {});\n",
              "      }\n",
              "    </script>\n",
              "\n",
              "      <script>\n",
              "\n",
              "function displayQuickchartButton(domScope) {\n",
              "  let quickchartButtonEl =\n",
              "    domScope.querySelector('#df-eb7d7453-6fae-4c12-ba8d-0c646800bc41 button.colab-df-quickchart');\n",
              "  quickchartButtonEl.style.display =\n",
              "    google.colab.kernel.accessAllowed ? 'block' : 'none';\n",
              "}\n",
              "\n",
              "        displayQuickchartButton(document);\n",
              "      </script>\n",
              "      <style>\n",
              "    .colab-df-container {\n",
              "      display:flex;\n",
              "      flex-wrap:wrap;\n",
              "      gap: 12px;\n",
              "    }\n",
              "\n",
              "    .colab-df-convert {\n",
              "      background-color: #E8F0FE;\n",
              "      border: none;\n",
              "      border-radius: 50%;\n",
              "      cursor: pointer;\n",
              "      display: none;\n",
              "      fill: #1967D2;\n",
              "      height: 32px;\n",
              "      padding: 0 0 0 0;\n",
              "      width: 32px;\n",
              "    }\n",
              "\n",
              "    .colab-df-convert:hover {\n",
              "      background-color: #E2EBFA;\n",
              "      box-shadow: 0px 1px 2px rgba(60, 64, 67, 0.3), 0px 1px 3px 1px rgba(60, 64, 67, 0.15);\n",
              "      fill: #174EA6;\n",
              "    }\n",
              "\n",
              "    [theme=dark] .colab-df-convert {\n",
              "      background-color: #3B4455;\n",
              "      fill: #D2E3FC;\n",
              "    }\n",
              "\n",
              "    [theme=dark] .colab-df-convert:hover {\n",
              "      background-color: #434B5C;\n",
              "      box-shadow: 0px 1px 3px 1px rgba(0, 0, 0, 0.15);\n",
              "      filter: drop-shadow(0px 1px 2px rgba(0, 0, 0, 0.3));\n",
              "      fill: #FFFFFF;\n",
              "    }\n",
              "  </style>\n",
              "\n",
              "      <script>\n",
              "        const buttonEl =\n",
              "          document.querySelector('#df-fb822ace-6b28-4e22-acc7-86f981292709 button.colab-df-convert');\n",
              "        buttonEl.style.display =\n",
              "          google.colab.kernel.accessAllowed ? 'block' : 'none';\n",
              "\n",
              "        async function convertToInteractive(key) {\n",
              "          const element = document.querySelector('#df-fb822ace-6b28-4e22-acc7-86f981292709');\n",
              "          const dataTable =\n",
              "            await google.colab.kernel.invokeFunction('convertToInteractive',\n",
              "                                                     [key], {});\n",
              "          if (!dataTable) return;\n",
              "\n",
              "          const docLinkHtml = 'Like what you see? Visit the ' +\n",
              "            '<a target=\"_blank\" href=https://colab.research.google.com/notebooks/data_table.ipynb>data table notebook</a>'\n",
              "            + ' to learn more about interactive tables.';\n",
              "          element.innerHTML = '';\n",
              "          dataTable['output_type'] = 'display_data';\n",
              "          await google.colab.output.renderOutput(dataTable, element);\n",
              "          const docLink = document.createElement('div');\n",
              "          docLink.innerHTML = docLinkHtml;\n",
              "          element.appendChild(docLink);\n",
              "        }\n",
              "      </script>\n",
              "    </div>\n",
              "  </div>\n"
            ]
          },
          "metadata": {},
          "execution_count": 5
        }
      ]
    },
    {
      "cell_type": "markdown",
      "source": [
        "### Генеруємо статистику"
      ],
      "metadata": {
        "id": "dASGudXuw-iM"
      }
    },
    {
      "cell_type": "code",
      "source": [
        "working_dataframe.describe(include=\"all\", percentiles=[.25, .5, .75])"
      ],
      "metadata": {
        "id": "c5QfB9d54Ag_",
        "colab": {
          "base_uri": "https://localhost:8080/",
          "height": 344
        },
        "outputId": "a4a4bfdc-fa3a-4b24-b31f-62255d4032cf"
      },
      "execution_count": null,
      "outputs": [
        {
          "output_type": "execute_result",
          "data": {
            "text/plain": [
              "       process.b1.capacity  process.b2.capacity  process.b3.capacity  \\\n",
              "count          2043.000000          2043.000000          2043.000000   \n",
              "mean              1.000000             2.093979             1.883994   \n",
              "std               0.816696             0.811269             0.320310   \n",
              "min               0.000000             0.000000             1.000000   \n",
              "25%               0.000000             1.000000             2.000000   \n",
              "50%               1.000000             2.000000             2.000000   \n",
              "75%               2.000000             3.000000             2.000000   \n",
              "max               2.000000             3.000000             2.000000   \n",
              "\n",
              "       process.b4.capacity  property.price  property.product  property.winner  \\\n",
              "count          2043.000000     2043.000000       2043.000000      2043.000000   \n",
              "mean              0.587861       71.473324          3.252080         0.455213   \n",
              "std               0.492340        8.048740          1.804225         1.062828   \n",
              "min               0.000000       59.000000          1.000000         0.000000   \n",
              "25%               0.000000       65.000000          2.000000         0.000000   \n",
              "50%               1.000000       70.000000          3.000000         0.000000   \n",
              "75%               1.000000       78.000000          5.000000         0.000000   \n",
              "max               1.000000       90.000000          6.000000         4.000000   \n",
              "\n",
              "       verification.result  verification.time  \n",
              "count          2043.000000        2043.000000  \n",
              "mean              0.128243        7336.944574  \n",
              "std               0.334442       10375.393650  \n",
              "min               0.000000          77.916667  \n",
              "25%               0.000000         546.818910  \n",
              "50%               0.000000        1316.983333  \n",
              "75%               0.000000       10876.638889  \n",
              "max               1.000000       44130.520833  "
            ],
            "text/html": [
              "\n",
              "\n",
              "  <div id=\"df-3e78fdbc-dcaa-414c-9df2-425c9b987a6c\">\n",
              "    <div class=\"colab-df-container\">\n",
              "      <div>\n",
              "<style scoped>\n",
              "    .dataframe tbody tr th:only-of-type {\n",
              "        vertical-align: middle;\n",
              "    }\n",
              "\n",
              "    .dataframe tbody tr th {\n",
              "        vertical-align: top;\n",
              "    }\n",
              "\n",
              "    .dataframe thead th {\n",
              "        text-align: right;\n",
              "    }\n",
              "</style>\n",
              "<table border=\"1\" class=\"dataframe\">\n",
              "  <thead>\n",
              "    <tr style=\"text-align: right;\">\n",
              "      <th></th>\n",
              "      <th>process.b1.capacity</th>\n",
              "      <th>process.b2.capacity</th>\n",
              "      <th>process.b3.capacity</th>\n",
              "      <th>process.b4.capacity</th>\n",
              "      <th>property.price</th>\n",
              "      <th>property.product</th>\n",
              "      <th>property.winner</th>\n",
              "      <th>verification.result</th>\n",
              "      <th>verification.time</th>\n",
              "    </tr>\n",
              "  </thead>\n",
              "  <tbody>\n",
              "    <tr>\n",
              "      <th>count</th>\n",
              "      <td>2043.000000</td>\n",
              "      <td>2043.000000</td>\n",
              "      <td>2043.000000</td>\n",
              "      <td>2043.000000</td>\n",
              "      <td>2043.000000</td>\n",
              "      <td>2043.000000</td>\n",
              "      <td>2043.000000</td>\n",
              "      <td>2043.000000</td>\n",
              "      <td>2043.000000</td>\n",
              "    </tr>\n",
              "    <tr>\n",
              "      <th>mean</th>\n",
              "      <td>1.000000</td>\n",
              "      <td>2.093979</td>\n",
              "      <td>1.883994</td>\n",
              "      <td>0.587861</td>\n",
              "      <td>71.473324</td>\n",
              "      <td>3.252080</td>\n",
              "      <td>0.455213</td>\n",
              "      <td>0.128243</td>\n",
              "      <td>7336.944574</td>\n",
              "    </tr>\n",
              "    <tr>\n",
              "      <th>std</th>\n",
              "      <td>0.816696</td>\n",
              "      <td>0.811269</td>\n",
              "      <td>0.320310</td>\n",
              "      <td>0.492340</td>\n",
              "      <td>8.048740</td>\n",
              "      <td>1.804225</td>\n",
              "      <td>1.062828</td>\n",
              "      <td>0.334442</td>\n",
              "      <td>10375.393650</td>\n",
              "    </tr>\n",
              "    <tr>\n",
              "      <th>min</th>\n",
              "      <td>0.000000</td>\n",
              "      <td>0.000000</td>\n",
              "      <td>1.000000</td>\n",
              "      <td>0.000000</td>\n",
              "      <td>59.000000</td>\n",
              "      <td>1.000000</td>\n",
              "      <td>0.000000</td>\n",
              "      <td>0.000000</td>\n",
              "      <td>77.916667</td>\n",
              "    </tr>\n",
              "    <tr>\n",
              "      <th>25%</th>\n",
              "      <td>0.000000</td>\n",
              "      <td>1.000000</td>\n",
              "      <td>2.000000</td>\n",
              "      <td>0.000000</td>\n",
              "      <td>65.000000</td>\n",
              "      <td>2.000000</td>\n",
              "      <td>0.000000</td>\n",
              "      <td>0.000000</td>\n",
              "      <td>546.818910</td>\n",
              "    </tr>\n",
              "    <tr>\n",
              "      <th>50%</th>\n",
              "      <td>1.000000</td>\n",
              "      <td>2.000000</td>\n",
              "      <td>2.000000</td>\n",
              "      <td>1.000000</td>\n",
              "      <td>70.000000</td>\n",
              "      <td>3.000000</td>\n",
              "      <td>0.000000</td>\n",
              "      <td>0.000000</td>\n",
              "      <td>1316.983333</td>\n",
              "    </tr>\n",
              "    <tr>\n",
              "      <th>75%</th>\n",
              "      <td>2.000000</td>\n",
              "      <td>3.000000</td>\n",
              "      <td>2.000000</td>\n",
              "      <td>1.000000</td>\n",
              "      <td>78.000000</td>\n",
              "      <td>5.000000</td>\n",
              "      <td>0.000000</td>\n",
              "      <td>0.000000</td>\n",
              "      <td>10876.638889</td>\n",
              "    </tr>\n",
              "    <tr>\n",
              "      <th>max</th>\n",
              "      <td>2.000000</td>\n",
              "      <td>3.000000</td>\n",
              "      <td>2.000000</td>\n",
              "      <td>1.000000</td>\n",
              "      <td>90.000000</td>\n",
              "      <td>6.000000</td>\n",
              "      <td>4.000000</td>\n",
              "      <td>1.000000</td>\n",
              "      <td>44130.520833</td>\n",
              "    </tr>\n",
              "  </tbody>\n",
              "</table>\n",
              "</div>\n",
              "      <button class=\"colab-df-convert\" onclick=\"convertToInteractive('df-3e78fdbc-dcaa-414c-9df2-425c9b987a6c')\"\n",
              "              title=\"Convert this dataframe to an interactive table.\"\n",
              "              style=\"display:none;\">\n",
              "\n",
              "  <svg xmlns=\"http://www.w3.org/2000/svg\" height=\"24px\"viewBox=\"0 0 24 24\"\n",
              "       width=\"24px\">\n",
              "    <path d=\"M0 0h24v24H0V0z\" fill=\"none\"/>\n",
              "    <path d=\"M18.56 5.44l.94 2.06.94-2.06 2.06-.94-2.06-.94-.94-2.06-.94 2.06-2.06.94zm-11 1L8.5 8.5l.94-2.06 2.06-.94-2.06-.94L8.5 2.5l-.94 2.06-2.06.94zm10 10l.94 2.06.94-2.06 2.06-.94-2.06-.94-.94-2.06-.94 2.06-2.06.94z\"/><path d=\"M17.41 7.96l-1.37-1.37c-.4-.4-.92-.59-1.43-.59-.52 0-1.04.2-1.43.59L10.3 9.45l-7.72 7.72c-.78.78-.78 2.05 0 2.83L4 21.41c.39.39.9.59 1.41.59.51 0 1.02-.2 1.41-.59l7.78-7.78 2.81-2.81c.8-.78.8-2.07 0-2.86zM5.41 20L4 18.59l7.72-7.72 1.47 1.35L5.41 20z\"/>\n",
              "  </svg>\n",
              "      </button>\n",
              "\n",
              "\n",
              "\n",
              "    <div id=\"df-d19e34d1-77bb-40cd-962a-560674afd92c\">\n",
              "      <button class=\"colab-df-quickchart\" onclick=\"quickchart('df-d19e34d1-77bb-40cd-962a-560674afd92c')\"\n",
              "              title=\"Suggest charts.\"\n",
              "              style=\"display:none;\">\n",
              "\n",
              "<svg xmlns=\"http://www.w3.org/2000/svg\" height=\"24px\"viewBox=\"0 0 24 24\"\n",
              "     width=\"24px\">\n",
              "    <g>\n",
              "        <path d=\"M19 3H5c-1.1 0-2 .9-2 2v14c0 1.1.9 2 2 2h14c1.1 0 2-.9 2-2V5c0-1.1-.9-2-2-2zM9 17H7v-7h2v7zm4 0h-2V7h2v10zm4 0h-2v-4h2v4z\"/>\n",
              "    </g>\n",
              "</svg>\n",
              "      </button>\n",
              "    </div>\n",
              "\n",
              "<style>\n",
              "  .colab-df-quickchart {\n",
              "    background-color: #E8F0FE;\n",
              "    border: none;\n",
              "    border-radius: 50%;\n",
              "    cursor: pointer;\n",
              "    display: none;\n",
              "    fill: #1967D2;\n",
              "    height: 32px;\n",
              "    padding: 0 0 0 0;\n",
              "    width: 32px;\n",
              "  }\n",
              "\n",
              "  .colab-df-quickchart:hover {\n",
              "    background-color: #E2EBFA;\n",
              "    box-shadow: 0px 1px 2px rgba(60, 64, 67, 0.3), 0px 1px 3px 1px rgba(60, 64, 67, 0.15);\n",
              "    fill: #174EA6;\n",
              "  }\n",
              "\n",
              "  [theme=dark] .colab-df-quickchart {\n",
              "    background-color: #3B4455;\n",
              "    fill: #D2E3FC;\n",
              "  }\n",
              "\n",
              "  [theme=dark] .colab-df-quickchart:hover {\n",
              "    background-color: #434B5C;\n",
              "    box-shadow: 0px 1px 3px 1px rgba(0, 0, 0, 0.15);\n",
              "    filter: drop-shadow(0px 1px 2px rgba(0, 0, 0, 0.3));\n",
              "    fill: #FFFFFF;\n",
              "  }\n",
              "</style>\n",
              "\n",
              "    <script>\n",
              "      async function quickchart(key) {\n",
              "        const containerElement = document.querySelector('#' + key);\n",
              "        const charts = await google.colab.kernel.invokeFunction(\n",
              "            'suggestCharts', [key], {});\n",
              "      }\n",
              "    </script>\n",
              "\n",
              "      <script>\n",
              "\n",
              "function displayQuickchartButton(domScope) {\n",
              "  let quickchartButtonEl =\n",
              "    domScope.querySelector('#df-d19e34d1-77bb-40cd-962a-560674afd92c button.colab-df-quickchart');\n",
              "  quickchartButtonEl.style.display =\n",
              "    google.colab.kernel.accessAllowed ? 'block' : 'none';\n",
              "}\n",
              "\n",
              "        displayQuickchartButton(document);\n",
              "      </script>\n",
              "      <style>\n",
              "    .colab-df-container {\n",
              "      display:flex;\n",
              "      flex-wrap:wrap;\n",
              "      gap: 12px;\n",
              "    }\n",
              "\n",
              "    .colab-df-convert {\n",
              "      background-color: #E8F0FE;\n",
              "      border: none;\n",
              "      border-radius: 50%;\n",
              "      cursor: pointer;\n",
              "      display: none;\n",
              "      fill: #1967D2;\n",
              "      height: 32px;\n",
              "      padding: 0 0 0 0;\n",
              "      width: 32px;\n",
              "    }\n",
              "\n",
              "    .colab-df-convert:hover {\n",
              "      background-color: #E2EBFA;\n",
              "      box-shadow: 0px 1px 2px rgba(60, 64, 67, 0.3), 0px 1px 3px 1px rgba(60, 64, 67, 0.15);\n",
              "      fill: #174EA6;\n",
              "    }\n",
              "\n",
              "    [theme=dark] .colab-df-convert {\n",
              "      background-color: #3B4455;\n",
              "      fill: #D2E3FC;\n",
              "    }\n",
              "\n",
              "    [theme=dark] .colab-df-convert:hover {\n",
              "      background-color: #434B5C;\n",
              "      box-shadow: 0px 1px 3px 1px rgba(0, 0, 0, 0.15);\n",
              "      filter: drop-shadow(0px 1px 2px rgba(0, 0, 0, 0.3));\n",
              "      fill: #FFFFFF;\n",
              "    }\n",
              "  </style>\n",
              "\n",
              "      <script>\n",
              "        const buttonEl =\n",
              "          document.querySelector('#df-3e78fdbc-dcaa-414c-9df2-425c9b987a6c button.colab-df-convert');\n",
              "        buttonEl.style.display =\n",
              "          google.colab.kernel.accessAllowed ? 'block' : 'none';\n",
              "\n",
              "        async function convertToInteractive(key) {\n",
              "          const element = document.querySelector('#df-3e78fdbc-dcaa-414c-9df2-425c9b987a6c');\n",
              "          const dataTable =\n",
              "            await google.colab.kernel.invokeFunction('convertToInteractive',\n",
              "                                                     [key], {});\n",
              "          if (!dataTable) return;\n",
              "\n",
              "          const docLinkHtml = 'Like what you see? Visit the ' +\n",
              "            '<a target=\"_blank\" href=https://colab.research.google.com/notebooks/data_table.ipynb>data table notebook</a>'\n",
              "            + ' to learn more about interactive tables.';\n",
              "          element.innerHTML = '';\n",
              "          dataTable['output_type'] = 'display_data';\n",
              "          await google.colab.output.renderOutput(dataTable, element);\n",
              "          const docLink = document.createElement('div');\n",
              "          docLink.innerHTML = docLinkHtml;\n",
              "          element.appendChild(docLink);\n",
              "        }\n",
              "      </script>\n",
              "    </div>\n",
              "  </div>\n"
            ]
          },
          "metadata": {},
          "execution_count": 6
        }
      ]
    },
    {
      "cell_type": "markdown",
      "source": [
        "# Feature Engineering"
      ],
      "metadata": {
        "id": "XX8jEqNtmbp8"
      }
    },
    {
      "cell_type": "markdown",
      "source": [
        "### Візуалізація даних"
      ],
      "metadata": {
        "id": "jVRh-__iVgX8"
      }
    },
    {
      "cell_type": "code",
      "source": [
        "working_dataframe_corr_matrix = working_dataframe.corr()  # full heatmap\n",
        "sns.heatmap(data=working_dataframe_corr_matrix, annot=True)"
      ],
      "metadata": {
        "id": "6Z1MuRRL3FSM",
        "colab": {
          "base_uri": "https://localhost:8080/",
          "height": 578
        },
        "outputId": "002f10b0-a680-4a0e-ae4a-30fdf40202a0"
      },
      "execution_count": null,
      "outputs": [
        {
          "output_type": "execute_result",
          "data": {
            "text/plain": [
              "<Axes: >"
            ]
          },
          "metadata": {},
          "execution_count": 7
        },
        {
          "output_type": "display_data",
          "data": {
            "text/plain": [
              "<Figure size 640x480 with 2 Axes>"
            ],
            "image/png": "[encoded data removed]"
          },
          "metadata": {}
        }
      ]
    },
    {
      "cell_type": "markdown",
      "source": [
        "Кореляції між фічами немає, також немає кореляції фіч до таргетів."
      ],
      "metadata": {
        "id": "eGskk5EITB2d"
      }
    },
    {
      "cell_type": "markdown",
      "source": [
        "### Додаємо нові фічі"
      ],
      "metadata": {
        "id": "60agQshXMb01"
      }
    },
    {
      "cell_type": "code",
      "source": [
        "working_dataframe[\"capacity_sum\"]: pd.Series = working_dataframe[\"process.b1.capacity\"] + working_dataframe[\"process.b2.capacity\"] + working_dataframe[\"process.b3.capacity\"] + working_dataframe[\"process.b4.capacity\"]\n",
        "\n",
        "working_dataframe_corr_matrix = working_dataframe.corr()  # full heatmap\n",
        "sns.heatmap(data=working_dataframe_corr_matrix, annot=True)"
      ],
      "metadata": {
        "colab": {
          "base_uri": "https://localhost:8080/",
          "height": 578
        },
        "id": "xS0Qbm-5Evut",
        "outputId": "642dab67-da98-4569-e5f6-76dda05699fc"
      },
      "execution_count": null,
      "outputs": [
        {
          "output_type": "execute_result",
          "data": {
            "text/plain": [
              "<Axes: >"
            ]
          },
          "metadata": {},
          "execution_count": 8
        },
        {
          "output_type": "display_data",
          "data": {
            "text/plain": [
              "<Figure size 640x480 with 2 Axes>"
            ],
            "image/png": "[encoded data removed]"
          },
          "metadata": {}
        }
      ]
    },
    {
      "cell_type": "markdown",
      "source": [
        "# Preparing data for training"
      ],
      "metadata": {
        "id": "KkFMC172FSnf"
      }
    },
    {
      "cell_type": "markdown",
      "source": [
        "### Розбиваємо датасет на фічі та таргет"
      ],
      "metadata": {
        "id": "o7E3wDQnE8zi"
      }
    },
    {
      "cell_type": "code",
      "source": [
        "x_features: pd.DataFrame = working_dataframe.copy().drop(target, axis=1)\n",
        "y_target: pd.DataFrame = working_dataframe[target]"
      ],
      "metadata": {
        "id": "Yu8zcQwnFGd6"
      },
      "execution_count": null,
      "outputs": []
    },
    {
      "cell_type": "markdown",
      "source": [
        "### Масштабування фічів"
      ],
      "metadata": {
        "id": "poi2GV5buRtZ"
      }
    },
    {
      "cell_type": "code",
      "source": [
        "x_scaled: np.ndarray = x_features"
      ],
      "metadata": {
        "id": "d-VzEUEWuUQ3"
      },
      "execution_count": null,
      "outputs": []
    },
    {
      "cell_type": "markdown",
      "source": [
        "### Розбиваємо дані на тренувальну, валідаційну та тестову частину"
      ],
      "metadata": {
        "id": "NTKL2pZxrMMC"
      }
    },
    {
      "cell_type": "code",
      "source": [
        "x_train, x_test, y_train, y_test = train_test_split(x_scaled, y_target, test_size=0.33, random_state=RANDOM_STATE, stratify=y_target[\"verification.result\"])\n",
        "x_validate, x_test, y_validate, y_test = train_test_split(x_test, y_test, test_size=0.33, random_state=RANDOM_STATE, stratify=y_test[\"verification.result\"])\n",
        "\n",
        "y_validate_cls, y_validate_regres = y_validate[\"verification.result\"], y_validate[\"verification.time\"]\n",
        "y_test_cls, y_test_regres = y_test[\"verification.result\"], y_test[\"verification.time\"]\n",
        "\n",
        "print(x_train.shape)\n",
        "print(x_validate.shape)\n",
        "print(x_test.shape)"
      ],
      "metadata": {
        "id": "mmZlxOPajaCS",
        "colab": {
          "base_uri": "https://localhost:8080/"
        },
        "outputId": "9d5576aa-4998-44fa-d645-85a4f19b7e8a"
      },
      "execution_count": null,
      "outputs": [
        {
          "output_type": "stream",
          "name": "stdout",
          "text": [
            "(1368, 8)\n",
            "(452, 8)\n",
            "(223, 8)\n"
          ]
        }
      ]
    },
    {
      "cell_type": "markdown",
      "source": [
        "### Балансування классів"
      ],
      "metadata": {
        "id": "JJtiOuZsZHE3"
      }
    },
    {
      "cell_type": "code",
      "source": [
        "# x_resampled, y_resampled = x_train, y_train\n",
        "x_resampled, y_resampled_cls, y_resampled_regres = x_train, y_train[\"verification.result\"], y_train[\"verification.time\"]"
      ],
      "metadata": {
        "id": "AptPu12QYxL4"
      },
      "execution_count": null,
      "outputs": []
    },
    {
      "cell_type": "markdown",
      "source": [
        "# FIT PREDICT"
      ],
      "metadata": {
        "id": "Y44tC1kdOjsg"
      }
    },
    {
      "cell_type": "markdown",
      "source": [
        "## Functions for fit models, make predict and generate metrics"
      ],
      "metadata": {
        "id": "JyVluZzE2tfC"
      }
    },
    {
      "cell_type": "code",
      "source": [
        "def print_model_name(name: str) -> None:\n",
        "    print(\"'\" * 60)\n",
        "    print(f\"MODEL: {name}\")"
      ],
      "metadata": {
        "id": "31Nfoa2T4YAy"
      },
      "execution_count": null,
      "outputs": []
    },
    {
      "cell_type": "code",
      "source": [
        "def value_results_main(predict, y_test):\n",
        "    accuracy = accuracy_score(y_true=y_test, y_pred=predict)\n",
        "    precision = precision_score(y_true=y_test, y_pred=predict, average=\"micro\")\n",
        "    recall = recall_score(y_true=y_test, y_pred=predict, average=\"micro\")\n",
        "    f1 = f1_score(y_true=y_test, y_pred=predict, average=\"micro\")\n",
        "\n",
        "    print(\"Accuracy:\", accuracy)\n",
        "    print(\"Precision:\", precision)\n",
        "    print(\"Recall:\", recall)\n",
        "    print(\"F1 Score:\", f1)"
      ],
      "metadata": {
        "id": "dpg5pE_a-p-S"
      },
      "execution_count": null,
      "outputs": []
    },
    {
      "cell_type": "code",
      "source": [
        "def value_regression(predict, y_test):\n",
        "    model_r2: np.float64 = r2_score(y_true=y_test, y_pred=predict)\n",
        "    model_mean_squared_error: np.float64 = mean_squared_error(y_true=y_test, y_pred=predict)\n",
        "    model_mean_absolute_error: np.float64 = mean_absolute_error(y_true=y_test, y_pred=predict)\n",
        "\n",
        "    print(f\"R2:                         {model_r2}\")\n",
        "    print(f\"Mean_squared_error (MSE):   {model_mean_squared_error}\")\n",
        "    print(f\"Mean_absolute_error (MAE):  {model_mean_absolute_error}\")"
      ],
      "metadata": {
        "id": "ndnpWxC9NYhC"
      },
      "execution_count": null,
      "outputs": []
    },
    {
      "cell_type": "code",
      "source": [
        "def value_results(name:str, predict, y_test):\n",
        "    print_model_name(name=name)\n",
        "    try:\n",
        "      value_results_main(predict=predict, y_test=y_test)\n",
        "    except ValueError:\n",
        "      value_regression(predict=predict, y_test=y_test)\n",
        "\n",
        "    print(\"'\" * 60)"
      ],
      "metadata": {
        "id": "E-XbZhr26e_n"
      },
      "execution_count": null,
      "outputs": []
    },
    {
      "cell_type": "code",
      "source": [
        "# def train_model(model_class, name: str, grid_params=None, y_train=y_resampled): default\n",
        "def train_model(model_class, name: str, y_train, y_validate, grid_params=None):\n",
        "    print_model_name(name=name)\n",
        "\n",
        "    if grid_params:\n",
        "        model: GridSearchCV = GridSearchCV(estimator=model_class, param_grid=grid_params).fit(X=x_resampled, y=y_train)\n",
        "\n",
        "        print(\"Best params: \", model.best_params_)\n",
        "        print(\"Best score: \", model.best_score_)\n",
        "\n",
        "    else:\n",
        "        model = model_class.fit(X=x_resampled, y=y_train)\n",
        "\n",
        "    y_pred = model.predict(X=x_validate)\n",
        "\n",
        "    try:\n",
        "        print(f\"Classification report:\\n{classification_report(y_true=y_validate, y_pred=y_pred)}\")\n",
        "        value_results_main(predict=y_pred, y_test=y_validate)\n",
        "\n",
        "    except ValueError:\n",
        "        value_regression(predict=y_pred, y_test=y_validate)\n",
        "\n",
        "    return model\n"
      ],
      "metadata": {
        "id": "tirIJ_hojHc4"
      },
      "execution_count": null,
      "outputs": []
    },
    {
      "cell_type": "markdown",
      "source": [
        "## Тренуємо моделі"
      ],
      "metadata": {
        "id": "QxDl8_MG3IG9"
      }
    },
    {
      "cell_type": "markdown",
      "source": [
        "### Bagging"
      ],
      "metadata": {
        "id": "ikJfrs7AqJ6w"
      }
    },
    {
      "cell_type": "code",
      "source": [
        "## RandomForestClassifier() with default hyperparams\n",
        "model_random_forest_classifier: RandomForestClassifier = train_model(model_class=RandomForestClassifier(), y_train=y_resampled_cls,\n",
        "                                                                     y_validate=y_validate_cls, name=\"RandomForestClassifier with default hyperparameters\")"
      ],
      "metadata": {
        "id": "0ysKOvyBANIb",
        "colab": {
          "base_uri": "https://localhost:8080/"
        },
        "outputId": "cb014b0e-5804-4a1f-c0e2-117fa281dc90"
      },
      "execution_count": null,
      "outputs": [
        {
          "output_type": "stream",
          "name": "stdout",
          "text": [
            "''''''''''''''''''''''''''''''''''''''''''''''''''''''''''''\n",
            "MODEL: RandomForestClassifier with default hyperparameters\n",
            "Classification report:\n",
            "              precision    recall  f1-score   support\n",
            "\n",
            "           0       0.96      0.99      0.98       394\n",
            "           1       0.96      0.74      0.83        58\n",
            "\n",
            "    accuracy                           0.96       452\n",
            "   macro avg       0.96      0.87      0.91       452\n",
            "weighted avg       0.96      0.96      0.96       452\n",
            "\n",
            "Accuracy: 0.9623893805309734\n",
            "Precision: 0.9623893805309734\n",
            "Recall: 0.9623893805309734\n",
            "F1 Score: 0.9623893805309734\n"
          ]
        }
      ]
    },
    {
      "cell_type": "code",
      "source": [
        "## RandomForestClassifier() з підбіром параметрів через GridSearchCV\n",
        "grid_random_forest_clasifier_params = {\n",
        "        \"n_estimators\": [100],  # default=100\n",
        "        \"criterion\": [\"entropy\"],  # [\"gini\", \"entropy\", \"log_loss\"], default=”gini”\n",
        "        \"max_depth\": [None],  # int, default=None\n",
        "        \"min_samples_split\": [2],  # int or float, default=2\n",
        "        \"min_samples_leaf\": [1],  # int or float, default=1\n",
        "        \"min_weight_fraction_leaf\": [0.0,],  # loat, default=0.0\n",
        "        \"max_features\": [None],  # {“sqrt”, “log2”, None}, int or float, default=”sqrt”\n",
        "        \"max_leaf_nodes\": [None],  # int, default=None\n",
        "        \"min_impurity_decrease\": [0.0],  # float, default=0.0\n",
        "        \"bootstrap\": [True],  # bool, default=True\n",
        "        \"oob_score\": [True],  # bool or callable, default=False\n",
        "        \"n_jobs\": [None],  # int, default=None\n",
        "        \"random_state\": [RANDOM_STATE],  # int, RandomState instance or None, default=None\n",
        "        \"verbose\": [0],  # int, default=0\n",
        "        \"warm_start\": [False],  # bool, default=False\n",
        "        \"class_weight\": [None],  # [\"balanced_subsample\", \"balanced\", None], dict or list of dicts, default=None\n",
        "        \"ccp_alpha\": [0.0],  # non-negative float, default=0.0\n",
        "        \"max_samples\": [None]  # int or float, default=None (number of rows)\n",
        "}\n",
        "model_random_forest_classifier_grid = train_model(model_class=RandomForestClassifier(), y_train=y_resampled_cls, y_validate=y_validate_cls,\n",
        "                                                  name=\"RandomForestClassifier with Grid hyperparameters\", grid_params=grid_random_forest_clasifier_params)"
      ],
      "metadata": {
        "id": "1WellVdaAWZb",
        "colab": {
          "base_uri": "https://localhost:8080/"
        },
        "outputId": "4a54c344-ae4c-46fe-9e67-b3ee729e5e96"
      },
      "execution_count": null,
      "outputs": [
        {
          "output_type": "stream",
          "name": "stdout",
          "text": [
            "''''''''''''''''''''''''''''''''''''''''''''''''''''''''''''\n",
            "MODEL: RandomForestClassifier with Grid hyperparameters\n",
            "Best params:  {'bootstrap': True, 'ccp_alpha': 0.0, 'class_weight': None, 'criterion': 'entropy', 'max_depth': None, 'max_features': None, 'max_leaf_nodes': None, 'max_samples': None, 'min_impurity_decrease': 0.0, 'min_samples_leaf': 1, 'min_samples_split': 2, 'min_weight_fraction_leaf': 0.0, 'n_estimators': 100, 'n_jobs': None, 'oob_score': True, 'random_state': 1729, 'verbose': 0, 'warm_start': False}\n",
            "Best score:  0.9839202160370043\n",
            "Classification report:\n",
            "              precision    recall  f1-score   support\n",
            "\n",
            "           0       1.00      1.00      1.00       394\n",
            "           1       1.00      0.98      0.99        58\n",
            "\n",
            "    accuracy                           1.00       452\n",
            "   macro avg       1.00      0.99      1.00       452\n",
            "weighted avg       1.00      1.00      1.00       452\n",
            "\n",
            "Accuracy: 0.9977876106194691\n",
            "Precision: 0.9977876106194691\n",
            "Recall: 0.9977876106194691\n",
            "F1 Score: 0.9977876106194691\n"
          ]
        }
      ]
    },
    {
      "cell_type": "code",
      "source": [
        "## RandomForestRegressor() with default hyperparams\n",
        "model_random_forest_regressor: RandomForestRegressor = train_model(model_class=RandomForestRegressor(), y_train=y_resampled_cls,\n",
        "                                                                     y_validate=y_validate_cls, name=\"RandomForestRegressor with default hyperparameters\")"
      ],
      "metadata": {
        "colab": {
          "base_uri": "https://localhost:8080/"
        },
        "id": "TxRqE6KGHN_r",
        "outputId": "3bf31cc3-707e-425b-a724-4e31280822d1"
      },
      "execution_count": null,
      "outputs": [
        {
          "output_type": "stream",
          "name": "stdout",
          "text": [
            "''''''''''''''''''''''''''''''''''''''''''''''''''''''''''''\n",
            "MODEL: RandomForestRegressor with default hyperparameters\n",
            "R2:                         0.9456520042009452\n",
            "Mean_squared_error (MSE):   0.006078982300884956\n",
            "Mean_absolute_error (MAE):  0.017411504424778762\n"
          ]
        }
      ]
    },
    {
      "cell_type": "code",
      "source": [
        "## RandomForestRegressor() з підбіром параметрів через GridSearchCV\n",
        "grid_g_boost_clasifier_params = {\n",
        "        \"n_estimators\": [100],  # default=100\n",
        "        \"criterion\": [\"squared_error\"],  # [\"squared_error\", \"absolute_error\", \"friedman_mse\", \"poisson\"], default=”squared_error”\n",
        "        \"max_depth\": [None],  # int, default=None\n",
        "        \"min_samples_split\": [2],  # int or float, default=2\n",
        "        \"min_samples_leaf\": [1],  # int or float, default=1\n",
        "        \"min_weight_fraction_leaf\": [0.0,],  # loat, default=0.0\n",
        "        \"max_features\": [None],  # {“sqrt”, “log2”, None}, int or float, default=1.0\n",
        "        \"max_leaf_nodes\": [None],  # int, default=None\n",
        "        \"min_impurity_decrease\": [0.0],  # float, default=0.0\n",
        "        \"bootstrap\": [True],  # bool, default=True\n",
        "        \"oob_score\": [True],  # bool or callable, default=False\n",
        "        \"n_jobs\": [None],  # int, default=None\n",
        "        \"random_state\": [RANDOM_STATE,],  # int, RandomState instance or None, default=None\n",
        "        \"verbose\": [0],  # int, default=0\n",
        "        \"warm_start\": [False],  # bool, default=False\n",
        "        \"ccp_alpha\": [0.0],  # non-negative float, default=0.0\n",
        "        \"max_samples\": [None]  # int or float, default=None (number of rows)\n",
        "}\n",
        "model_random_forest_regressor_grid = train_model(model_class=RandomForestRegressor(), y_train=y_resampled_cls, y_validate=y_validate_cls,\n",
        "                                                  name=\"RandomForestRegressor with Grid hyperparameters\", grid_params=grid_g_boost_clasifier_params)"
      ],
      "metadata": {
        "id": "K5-a1tohS4jB",
        "colab": {
          "base_uri": "https://localhost:8080/"
        },
        "outputId": "8305e29d-260e-408a-eec8-9721d62dd4dc"
      },
      "execution_count": null,
      "outputs": [
        {
          "output_type": "stream",
          "name": "stdout",
          "text": [
            "''''''''''''''''''''''''''''''''''''''''''''''''''''''''''''\n",
            "MODEL: RandomForestRegressor with Grid hyperparameters\n",
            "Best params:  {'bootstrap': True, 'ccp_alpha': 0.0, 'criterion': 'squared_error', 'max_depth': None, 'max_features': None, 'max_leaf_nodes': None, 'max_samples': None, 'min_impurity_decrease': 0.0, 'min_samples_leaf': 1, 'min_samples_split': 2, 'min_weight_fraction_leaf': 0.0, 'n_estimators': 100, 'n_jobs': None, 'oob_score': True, 'random_state': 1729, 'verbose': 0, 'warm_start': False}\n",
            "Best score:  0.876778992233399\n",
            "R2:                         0.9597982671100997\n",
            "Mean_squared_error (MSE):   0.004496681415929203\n",
            "Mean_absolute_error (MAE):  0.016039823008849558\n"
          ]
        }
      ]
    },
    {
      "cell_type": "markdown",
      "source": [
        "### Boosting"
      ],
      "metadata": {
        "id": "ILJGaDgNXaMF"
      }
    },
    {
      "cell_type": "code",
      "source": [
        "## AdaBoostClassifier() with default hyperparams\n",
        "model_ada_boost_classifier: AdaBoostClassifier = train_model(model_class=AdaBoostClassifier(), y_train=y_resampled_cls,\n",
        "                                                                     y_validate=y_validate_cls, name=\"AdaBoostClassifier with default hyperparameters\")"
      ],
      "metadata": {
        "id": "dtSRTjPAXeGQ",
        "colab": {
          "base_uri": "https://localhost:8080/"
        },
        "outputId": "60fc2f82-bbd7-4d11-a882-69194ecbb06b"
      },
      "execution_count": null,
      "outputs": [
        {
          "output_type": "stream",
          "name": "stdout",
          "text": [
            "''''''''''''''''''''''''''''''''''''''''''''''''''''''''''''\n",
            "MODEL: AdaBoostClassifier with default hyperparameters\n",
            "Classification report:\n",
            "              precision    recall  f1-score   support\n",
            "\n",
            "           0       0.95      0.99      0.97       394\n",
            "           1       0.88      0.62      0.73        58\n",
            "\n",
            "    accuracy                           0.94       452\n",
            "   macro avg       0.91      0.80      0.85       452\n",
            "weighted avg       0.94      0.94      0.94       452\n",
            "\n",
            "Accuracy: 0.9402654867256637\n",
            "Precision: 0.9402654867256637\n",
            "Recall: 0.9402654867256637\n",
            "F1 Score: 0.9402654867256637\n"
          ]
        }
      ]
    },
    {
      "cell_type": "code",
      "source": [
        "## AdaBoostClassifier() з підбіром параметрів через GridSearchCV\n",
        "grid_ada_boost_clasifier_params = {\n",
        "        # \"estimator\": [DecisionTreeClassifier(), RandomForestClassifier(), model_random_forest_classifier_grid],  # object, default=None\n",
        "        \"estimator\": [DecisionTreeClassifier()],  # object, default=None\n",
        "        \"n_estimators\": [100],  # int default=50\n",
        "        \"learning_rate\": [1.0],  # float, default=1.0\n",
        "        \"algorithm\": [\"SAMME\"],  # {‘SAMME’, ‘SAMME.R’}, default=’SAMME.R’\n",
        "        \"random_state\": [RANDOM_STATE],  # int, RandomState instance or None, default=None\n",
        "}\n",
        "model_ada_boost_classifier_grid = train_model(model_class=AdaBoostClassifier(), y_train=y_resampled_cls, y_validate=y_validate_cls,\n",
        "                                                  name=\"AdaBoostClassifier with Grid hyperparameters\", grid_params=grid_ada_boost_clasifier_params)"
      ],
      "metadata": {
        "id": "DCrWgR-TZGlg",
        "colab": {
          "base_uri": "https://localhost:8080/"
        },
        "outputId": "ae9bbab7-3111-4057-91c9-264729180a74"
      },
      "execution_count": null,
      "outputs": [
        {
          "output_type": "stream",
          "name": "stdout",
          "text": [
            "''''''''''''''''''''''''''''''''''''''''''''''''''''''''''''\n",
            "MODEL: AdaBoostClassifier with Grid hyperparameters\n",
            "Best params:  {'algorithm': 'SAMME', 'estimator': DecisionTreeClassifier(), 'learning_rate': 1.0, 'n_estimators': 100, 'random_state': 1729}\n",
            "Best score:  0.9773321568942007\n",
            "Classification report:\n",
            "              precision    recall  f1-score   support\n",
            "\n",
            "           0       1.00      1.00      1.00       394\n",
            "           1       1.00      0.98      0.99        58\n",
            "\n",
            "    accuracy                           1.00       452\n",
            "   macro avg       1.00      0.99      1.00       452\n",
            "weighted avg       1.00      1.00      1.00       452\n",
            "\n",
            "Accuracy: 0.9977876106194691\n",
            "Precision: 0.9977876106194691\n",
            "Recall: 0.9977876106194691\n",
            "F1 Score: 0.9977876106194691\n"
          ]
        }
      ]
    },
    {
      "cell_type": "code",
      "source": [
        "## AdaBoostRegressor() with default hyperparams\n",
        "model_ada_boost_regressor: AdaBoostRegressor = train_model(model_class=AdaBoostRegressor(), y_train=y_resampled_cls,\n",
        "                                                           y_validate=y_validate_cls, name=\"AdaBoostRegressor with default hyperparameters\")"
      ],
      "metadata": {
        "id": "BvXBMEZxdRCA",
        "colab": {
          "base_uri": "https://localhost:8080/"
        },
        "outputId": "0ab7330f-0bb2-47ec-9e34-e75b42354c17"
      },
      "execution_count": null,
      "outputs": [
        {
          "output_type": "stream",
          "name": "stdout",
          "text": [
            "''''''''''''''''''''''''''''''''''''''''''''''''''''''''''''\n",
            "MODEL: AdaBoostRegressor with default hyperparameters\n",
            "R2:                         0.4624744277865591\n",
            "Mean_squared_error (MSE):   0.060123807542786976\n",
            "Mean_absolute_error (MAE):  0.17440987225739016\n"
          ]
        }
      ]
    },
    {
      "cell_type": "code",
      "source": [
        "## AdaBoostRegressor() з підбіром параметрів через GridSearchCV\n",
        "grid_ada_boost_regressor_params = {\n",
        "        # \"estimator\": [DecisionTreeClassifier(),  RandomForestRegressor(),],  # object, default=None\n",
        "        \"estimator\": [DecisionTreeRegressor()],  # object, default=None\n",
        "        \"n_estimators\": [94],  # int default=50\n",
        "        \"learning_rate\": [1.5,],  # float, default=1.0\n",
        "        \"loss\": [\"exponential\"],  # \"linear\", \"square\", \"exponential\", default=’linear’\n",
        "        \"random_state\": [RANDOM_STATE],  # int, RandomState instance or None, default=None\n",
        "}\n",
        "model_ada_boost_regressor_grid = train_model(model_class=AdaBoostRegressor(), y_train=y_resampled_cls, y_validate=y_validate_cls,\n",
        "                                             name=\"AdaBoostRegressor with Grid hyperparameters\", grid_params=grid_ada_boost_regressor_params)"
      ],
      "metadata": {
        "id": "ZpBsEkQjd6wd",
        "colab": {
          "base_uri": "https://localhost:8080/"
        },
        "outputId": "8b253ff2-411f-4a5d-a033-550bacce5d9d"
      },
      "execution_count": null,
      "outputs": [
        {
          "output_type": "stream",
          "name": "stdout",
          "text": [
            "''''''''''''''''''''''''''''''''''''''''''''''''''''''''''''\n",
            "MODEL: AdaBoostRegressor with Grid hyperparameters\n",
            "Best params:  {'estimator': DecisionTreeRegressor(), 'learning_rate': 1.5, 'loss': 'exponential', 'n_estimators': 94, 'random_state': 1729}\n",
            "Best score:  0.8966869654209806\n",
            "Classification report:\n",
            "              precision    recall  f1-score   support\n",
            "\n",
            "           0       0.99      1.00      1.00       394\n",
            "           1       1.00      0.97      0.98        58\n",
            "\n",
            "    accuracy                           1.00       452\n",
            "   macro avg       1.00      0.98      0.99       452\n",
            "weighted avg       1.00      1.00      1.00       452\n",
            "\n",
            "Accuracy: 0.995575221238938\n",
            "Precision: 0.995575221238938\n",
            "Recall: 0.995575221238938\n",
            "F1 Score: 0.995575221238938\n"
          ]
        }
      ]
    },
    {
      "cell_type": "markdown",
      "source": [
        "### Stacking"
      ],
      "metadata": {
        "id": "6gm6SjAoiuVF"
      }
    },
    {
      "cell_type": "code",
      "source": [
        "stacking_regressor_estimators: list = [\n",
        "    (\"model_random_forest_regressor\", model_random_forest_regressor),\n",
        "    (\"model_random_forest_regressor_grid\", model_random_forest_regressor_grid.best_estimator_),\n",
        "    (\"model_ada_boost_regressor\", model_ada_boost_regressor),\n",
        "    (\"model_ada_boost_regressor_grid\", model_ada_boost_regressor_grid.best_estimator_)\n",
        "]"
      ],
      "metadata": {
        "id": "5Uyw-2R3oFXS"
      },
      "execution_count": null,
      "outputs": []
    },
    {
      "cell_type": "code",
      "source": [
        "stacking_classifier_estimators: list = [\n",
        "    (\"model_random_forest_classifier\", model_random_forest_classifier),\n",
        "    (\"model_random_forest_classifier_grid\", model_random_forest_classifier_grid.best_estimator_),\n",
        "    (\"model_ada_boost_classifier\", model_ada_boost_classifier),\n",
        "    (\"model_ada_boost_classifier_grid\", model_ada_boost_classifier_grid.best_estimator_),\n",
        "] + stacking_regressor_estimators"
      ],
      "metadata": {
        "id": "8iWFhwXGpZsF"
      },
      "execution_count": null,
      "outputs": []
    },
    {
      "cell_type": "code",
      "source": [
        "## StackingClassifier() with default hyperparams\n",
        "model_stacking_clasifier: StackingClassifier = train_model(model_class=StackingClassifier(estimators=stacking_classifier_estimators), y_train=y_resampled_cls,\n",
        "                                                           y_validate=y_validate_cls, name=\"StackingClassifier with default hyperparameters\")"
      ],
      "metadata": {
        "id": "1AmFeEH4kIrI",
        "colab": {
          "base_uri": "https://localhost:8080/"
        },
        "outputId": "8d22777a-edf0-4829-9de2-506d29646eaf"
      },
      "execution_count": null,
      "outputs": [
        {
          "output_type": "stream",
          "name": "stdout",
          "text": [
            "''''''''''''''''''''''''''''''''''''''''''''''''''''''''''''\n",
            "MODEL: StackingClassifier with default hyperparameters\n",
            "Classification report:\n",
            "              precision    recall  f1-score   support\n",
            "\n",
            "           0       0.99      1.00      1.00       394\n",
            "           1       1.00      0.97      0.98        58\n",
            "\n",
            "    accuracy                           1.00       452\n",
            "   macro avg       1.00      0.98      0.99       452\n",
            "weighted avg       1.00      1.00      1.00       452\n",
            "\n",
            "Accuracy: 0.995575221238938\n",
            "Precision: 0.995575221238938\n",
            "Recall: 0.995575221238938\n",
            "F1 Score: 0.995575221238938\n"
          ]
        }
      ]
    },
    {
      "cell_type": "code",
      "source": [
        "## StackingClassifier() з підбіром параметрів через GridSearchCV\n",
        "grid_model_stacking_clasifier_params = {\n",
        "        \"estimators\": [stacking_classifier_estimators],  # list of (str, estimator)\n",
        "        # \"final_estimator\": [None, Perceptron, RidgeClassifier, SGDClassifier],  # estimator, default=None,  BEST None\n",
        "        \"final_estimator\": [None],\n",
        "        \"cv\": [None],  # int, cross-validation generator, iterable, or “prefit”, default=None\n",
        "        \"stack_method\": [\"predict\"],  # [\"auto\", \"predict_proba\", \"decision_function\", \"predict\"] default=’auto’\n",
        "        \"n_jobs\": [None, ],  # int, default=None\n",
        "        \"passthrough\": [True],  # bool, default=False\n",
        "        \"verbose\": [0] # int, default=0\n",
        "}\n",
        "model_stacking_clasifier_grid = train_model(model_class=StackingClassifier(estimators=stacking_classifier_estimators), y_train=y_resampled_cls, y_validate=y_validate_cls,\n",
        "                                             name=\"StackingClassifier with Grid hyperparameters\", grid_params=grid_model_stacking_clasifier_params)"
      ],
      "metadata": {
        "colab": {
          "base_uri": "https://localhost:8080/"
        },
        "id": "l5MiYGTUqaHa",
        "outputId": "316dbaad-704e-4464-8b88-8f94a187f16b"
      },
      "execution_count": null,
      "outputs": [
        {
          "output_type": "stream",
          "name": "stdout",
          "text": [
            "''''''''''''''''''''''''''''''''''''''''''''''''''''''''''''\n",
            "MODEL: StackingClassifier with Grid hyperparameters\n"
          ]
        },
        {
          "output_type": "stream",
          "name": "stderr",
          "text": [
            "/usr/local/lib/python3.10/dist-packages/sklearn/linear_model/_logistic.py:458: ConvergenceWarning: lbfgs failed to converge (status=1):\n",
            "STOP: TOTAL NO. of ITERATIONS REACHED LIMIT.\n",
            "\n",
            "Increase the number of iterations (max_iter) or scale the data as shown in:\n",
            "    https://scikit-learn.org/stable/modules/preprocessing.html\n",
            "Please also refer to the documentation for alternative solver options:\n",
            "    https://scikit-learn.org/stable/modules/linear_model.html#logistic-regression\n",
            "  n_iter_i = _check_optimize_result(\n",
            "/usr/local/lib/python3.10/dist-packages/sklearn/linear_model/_logistic.py:458: ConvergenceWarning: lbfgs failed to converge (status=1):\n",
            "STOP: TOTAL NO. of ITERATIONS REACHED LIMIT.\n",
            "\n",
            "Increase the number of iterations (max_iter) or scale the data as shown in:\n",
            "    https://scikit-learn.org/stable/modules/preprocessing.html\n",
            "Please also refer to the documentation for alternative solver options:\n",
            "    https://scikit-learn.org/stable/modules/linear_model.html#logistic-regression\n",
            "  n_iter_i = _check_optimize_result(\n",
            "/usr/local/lib/python3.10/dist-packages/sklearn/linear_model/_logistic.py:458: ConvergenceWarning: lbfgs failed to converge (status=1):\n",
            "STOP: TOTAL NO. of ITERATIONS REACHED LIMIT.\n",
            "\n",
            "Increase the number of iterations (max_iter) or scale the data as shown in:\n",
            "    https://scikit-learn.org/stable/modules/preprocessing.html\n",
            "Please also refer to the documentation for alternative solver options:\n",
            "    https://scikit-learn.org/stable/modules/linear_model.html#logistic-regression\n",
            "  n_iter_i = _check_optimize_result(\n",
            "/usr/local/lib/python3.10/dist-packages/sklearn/linear_model/_logistic.py:458: ConvergenceWarning: lbfgs failed to converge (status=1):\n",
            "STOP: TOTAL NO. of ITERATIONS REACHED LIMIT.\n",
            "\n",
            "Increase the number of iterations (max_iter) or scale the data as shown in:\n",
            "    https://scikit-learn.org/stable/modules/preprocessing.html\n",
            "Please also refer to the documentation for alternative solver options:\n",
            "    https://scikit-learn.org/stable/modules/linear_model.html#logistic-regression\n",
            "  n_iter_i = _check_optimize_result(\n",
            "/usr/local/lib/python3.10/dist-packages/sklearn/linear_model/_logistic.py:458: ConvergenceWarning: lbfgs failed to converge (status=1):\n",
            "STOP: TOTAL NO. of ITERATIONS REACHED LIMIT.\n",
            "\n",
            "Increase the number of iterations (max_iter) or scale the data as shown in:\n",
            "    https://scikit-learn.org/stable/modules/preprocessing.html\n",
            "Please also refer to the documentation for alternative solver options:\n",
            "    https://scikit-learn.org/stable/modules/linear_model.html#logistic-regression\n",
            "  n_iter_i = _check_optimize_result(\n"
          ]
        },
        {
          "output_type": "stream",
          "name": "stdout",
          "text": [
            "Best params:  {'cv': None, 'estimators': [('model_random_forest_classifier', RandomForestClassifier()), ('model_random_forest_classifier_grid', RandomForestClassifier(criterion='entropy', max_features=None, oob_score=True,\n",
            "                       random_state=1729)), ('model_ada_boost_classifier', AdaBoostClassifier()), ('model_ada_boost_classifier_grid', AdaBoostClassifier(algorithm='SAMME', estimator=DecisionTreeClassifier(),\n",
            "                   n_estimators=100, random_state=1729)), ('model_random_forest_regressor', RandomForestRegressor()), ('model_random_forest_regressor_grid', RandomForestRegressor(max_features=None, oob_score=True, random_state=1729)), ('model_ada_boost_regressor', AdaBoostRegressor()), ('model_ada_boost_regressor_grid', AdaBoostRegressor(estimator=DecisionTreeRegressor(), learning_rate=1.5,\n",
            "                  loss='exponential', n_estimators=94, random_state=1729))], 'final_estimator': None, 'n_jobs': None, 'passthrough': True, 'stack_method': 'predict', 'verbose': 0}\n",
            "Best score:  0.9839175423117028\n",
            "Classification report:\n",
            "              precision    recall  f1-score   support\n",
            "\n",
            "           0       1.00      1.00      1.00       394\n",
            "           1       1.00      0.98      0.99        58\n",
            "\n",
            "    accuracy                           1.00       452\n",
            "   macro avg       1.00      0.99      1.00       452\n",
            "weighted avg       1.00      1.00      1.00       452\n",
            "\n",
            "Accuracy: 0.9977876106194691\n",
            "Precision: 0.9977876106194691\n",
            "Recall: 0.9977876106194691\n",
            "F1 Score: 0.9977876106194691\n"
          ]
        },
        {
          "output_type": "stream",
          "name": "stderr",
          "text": [
            "/usr/local/lib/python3.10/dist-packages/sklearn/linear_model/_logistic.py:458: ConvergenceWarning: lbfgs failed to converge (status=1):\n",
            "STOP: TOTAL NO. of ITERATIONS REACHED LIMIT.\n",
            "\n",
            "Increase the number of iterations (max_iter) or scale the data as shown in:\n",
            "    https://scikit-learn.org/stable/modules/preprocessing.html\n",
            "Please also refer to the documentation for alternative solver options:\n",
            "    https://scikit-learn.org/stable/modules/linear_model.html#logistic-regression\n",
            "  n_iter_i = _check_optimize_result(\n"
          ]
        }
      ]
    },
    {
      "cell_type": "code",
      "source": [
        "## StackingRegressor() with default hyperparams\n",
        "model_stacking_regressor: StackingRegressor = train_model(model_class=StackingRegressor(stacking_regressor_estimators), y_train=y_resampled_cls,\n",
        "                                                           y_validate=y_validate_cls, name=\"StackingRegressor with default hyperparameters\")"
      ],
      "metadata": {
        "id": "onsTTjIOkKCL",
        "colab": {
          "base_uri": "https://localhost:8080/"
        },
        "outputId": "475b14fe-6d30-4903-b83d-dcb4e1d4d0a7"
      },
      "execution_count": null,
      "outputs": [
        {
          "output_type": "stream",
          "name": "stdout",
          "text": [
            "''''''''''''''''''''''''''''''''''''''''''''''''''''''''''''\n",
            "MODEL: StackingRegressor with default hyperparameters\n",
            "R2:                         0.9681260816766399\n",
            "Mean_squared_error (MSE):   0.0035651909973638445\n",
            "Mean_absolute_error (MAE):  0.011021278457759189\n"
          ]
        }
      ]
    },
    {
      "cell_type": "code",
      "source": [
        "## StackingRegressor() з підбіром параметрів через GridSearchCV\n",
        "grid_model_stacking_regressor_params = {\n",
        "        \"estimators\": [stacking_regressor_estimators],  # list of (str, estimator)\n",
        "        # \"final_estimator\": [None, LinearRegression, SGDRegressor, ElasticNet, Lasso, LogisticRegression, Ridge],  # estimator, default=None, BEST: None\n",
        "        \"final_estimator\": [None],\n",
        "        \"cv\": [None,],  # int, cross-validation generator, iterable, or \"prefit\", default=None\n",
        "        \"n_jobs\": [None],  # int, default=None\n",
        "        \"passthrough\": [False],  # bool, default=False\n",
        "        \"verbose\": [0] # int, default=0\n",
        "}\n",
        "model_stacking_regressor_grid = train_model(model_class=StackingRegressor(estimators=stacking_regressor_estimators), y_train=y_resampled_cls, y_validate=y_validate_cls,\n",
        "                                             name=\"StackingRegressor with Grid hyperparameters\", grid_params=grid_model_stacking_regressor_params)"
      ],
      "metadata": {
        "colab": {
          "base_uri": "https://localhost:8080/"
        },
        "id": "extmU7RGtnrt",
        "outputId": "1ea98a46-da6e-43c9-ac5e-09927e455722"
      },
      "execution_count": null,
      "outputs": [
        {
          "output_type": "stream",
          "name": "stdout",
          "text": [
            "''''''''''''''''''''''''''''''''''''''''''''''''''''''''''''\n",
            "MODEL: StackingRegressor with Grid hyperparameters\n",
            "Best params:  {'cv': None, 'estimators': [('model_random_forest_regressor', RandomForestRegressor()), ('model_random_forest_regressor_grid', RandomForestRegressor(max_features=None, oob_score=True, random_state=1729)), ('model_ada_boost_regressor', AdaBoostRegressor()), ('model_ada_boost_regressor_grid', AdaBoostRegressor(estimator=DecisionTreeRegressor(), learning_rate=1.5,\n",
            "                  loss='exponential', n_estimators=94, random_state=1729))], 'final_estimator': None, 'n_jobs': None, 'passthrough': False, 'verbose': 0}\n",
            "Best score:  0.8972427265254952\n",
            "R2:                         0.9704539626769841\n",
            "Mean_squared_error (MSE):   0.003304810698300363\n",
            "Mean_absolute_error (MAE):  0.010314190355175256\n"
          ]
        }
      ]
    },
    {
      "cell_type": "markdown",
      "source": [
        "## Порівняння результатів"
      ],
      "metadata": {
        "id": "1y7hwESz_KnA"
      }
    },
    {
      "cell_type": "code",
      "source": [
        "value_results(name=\"RandomForestClassifier with default hyperparameters\",\n",
        "              predict=model_random_forest_classifier.predict(X=x_test), y_test=y_test_cls)\n",
        "\n",
        "value_results(name=\"RandomForestClassifier with Grid hyperparameters\",\n",
        "              predict=model_random_forest_classifier_grid.predict(X=x_test), y_test=y_test_cls)\n",
        "\n",
        "value_results(name=\"RandomForestRegressor with default hyperparameters\",\n",
        "              predict=model_random_forest_regressor.predict(X=x_test), y_test=y_test_cls)\n",
        "\n",
        "value_results(name=\"RandomForestRegressor with Grid hyperparameters\",\n",
        "              predict=model_random_forest_regressor_grid.predict(X=x_test), y_test=y_test_cls)\n",
        "\n",
        "value_results(name=\"AdaBoostClassifier with default hyperparameters\",\n",
        "              predict=model_ada_boost_classifier.predict(X=x_test), y_test=y_test_cls)\n",
        "\n",
        "value_results(name=\"AdaBoostClassifier with Grid hyperparameters\",\n",
        "              predict=model_ada_boost_classifier_grid.predict(X=x_test), y_test=y_test_cls)\n",
        "\n",
        "value_results(name=\"AdaBoostRegressor with default hyperparameters\",\n",
        "              predict=model_ada_boost_regressor.predict(X=x_test), y_test=y_test_cls)\n",
        "\n",
        "value_results(name=\"AdaBoostRegressor with Grid hyperparameters\",\n",
        "              predict=model_ada_boost_regressor_grid.predict(X=x_test), y_test=y_test_cls)\n",
        "\n",
        "value_results(name=\"StackingClassifier with default hyperparameters\",\n",
        "              predict=model_stacking_clasifier.predict(X=x_test), y_test=y_test_cls)\n",
        "\n",
        "value_results(name=\"StackingClassifier with Grid hyperparameters\",\n",
        "              predict=model_stacking_clasifier_grid.predict(X=x_test), y_test=y_test_cls)\n",
        "\n",
        "value_results(name=\"StackingRegressor with default hyperparameters\",\n",
        "              predict=model_stacking_regressor.predict(X=x_test), y_test=y_test_cls)\n",
        "\n",
        "value_results(name=\"StackingRegressor with Grid hyperparameters\",\n",
        "              predict=model_stacking_regressor_grid.predict(X=x_test), y_test=y_test_cls)"
      ],
      "metadata": {
        "id": "KFhiZLT0_Oyt",
        "colab": {
          "base_uri": "https://localhost:8080/"
        },
        "outputId": "ab58e5ff-b198-4e26-9f90-0edf972921cc"
      },
      "execution_count": null,
      "outputs": [
        {
          "output_type": "stream",
          "name": "stdout",
          "text": [
            "''''''''''''''''''''''''''''''''''''''''''''''''''''''''''''\n",
            "MODEL: RandomForestClassifier with default hyperparameters\n",
            "Accuracy: 0.9551569506726457\n",
            "Precision: 0.9551569506726457\n",
            "Recall: 0.9551569506726457\n",
            "F1 Score: 0.9551569506726457\n",
            "''''''''''''''''''''''''''''''''''''''''''''''''''''''''''''\n",
            "''''''''''''''''''''''''''''''''''''''''''''''''''''''''''''\n",
            "MODEL: RandomForestClassifier with Grid hyperparameters\n",
            "Accuracy: 1.0\n",
            "Precision: 1.0\n",
            "Recall: 1.0\n",
            "F1 Score: 1.0\n",
            "''''''''''''''''''''''''''''''''''''''''''''''''''''''''''''\n",
            "''''''''''''''''''''''''''''''''''''''''''''''''''''''''''''\n",
            "MODEL: RandomForestRegressor with default hyperparameters\n",
            "R2:                         0.9652578208318521\n",
            "Mean_squared_error (MSE):   0.003930493273542601\n",
            "Mean_absolute_error (MAE):  0.017623318385650226\n",
            "''''''''''''''''''''''''''''''''''''''''''''''''''''''''''''\n",
            "''''''''''''''''''''''''''''''''''''''''''''''''''''''''''''\n",
            "MODEL: RandomForestRegressor with Grid hyperparameters\n",
            "R2:                         0.9696654994667615\n",
            "Mean_squared_error (MSE):   0.003431838565022422\n",
            "Mean_absolute_error (MAE):  0.01663677130044843\n",
            "''''''''''''''''''''''''''''''''''''''''''''''''''''''''''''\n",
            "''''''''''''''''''''''''''''''''''''''''''''''''''''''''''''\n",
            "MODEL: AdaBoostClassifier with default hyperparameters\n",
            "Accuracy: 0.9282511210762332\n",
            "Precision: 0.9282511210762332\n",
            "Recall: 0.9282511210762332\n",
            "F1 Score: 0.9282511210762332\n",
            "''''''''''''''''''''''''''''''''''''''''''''''''''''''''''''\n",
            "''''''''''''''''''''''''''''''''''''''''''''''''''''''''''''\n",
            "MODEL: AdaBoostClassifier with Grid hyperparameters\n",
            "Accuracy: 1.0\n",
            "Precision: 1.0\n",
            "Recall: 1.0\n",
            "F1 Score: 1.0\n",
            "''''''''''''''''''''''''''''''''''''''''''''''''''''''''''''\n",
            "''''''''''''''''''''''''''''''''''''''''''''''''''''''''''''\n",
            "MODEL: AdaBoostRegressor with default hyperparameters\n",
            "R2:                         0.3971726264393104\n",
            "Mean_squared_error (MSE):   0.06819977887454884\n",
            "Mean_absolute_error (MAE):  0.19538060967838766\n",
            "''''''''''''''''''''''''''''''''''''''''''''''''''''''''''''\n",
            "''''''''''''''''''''''''''''''''''''''''''''''''''''''''''''\n",
            "MODEL: AdaBoostRegressor with Grid hyperparameters\n",
            "Accuracy: 1.0\n",
            "Precision: 1.0\n",
            "Recall: 1.0\n",
            "F1 Score: 1.0\n",
            "''''''''''''''''''''''''''''''''''''''''''''''''''''''''''''\n",
            "''''''''''''''''''''''''''''''''''''''''''''''''''''''''''''\n",
            "MODEL: StackingClassifier with default hyperparameters\n",
            "Accuracy: 1.0\n",
            "Precision: 1.0\n",
            "Recall: 1.0\n",
            "F1 Score: 1.0\n",
            "''''''''''''''''''''''''''''''''''''''''''''''''''''''''''''\n",
            "''''''''''''''''''''''''''''''''''''''''''''''''''''''''''''\n",
            "MODEL: StackingClassifier with Grid hyperparameters\n",
            "Accuracy: 1.0\n",
            "Precision: 1.0\n",
            "Recall: 1.0\n",
            "F1 Score: 1.0\n",
            "''''''''''''''''''''''''''''''''''''''''''''''''''''''''''''\n",
            "''''''''''''''''''''''''''''''''''''''''''''''''''''''''''''\n",
            "MODEL: StackingRegressor with default hyperparameters\n",
            "R2:                         0.9959334790868483\n",
            "Mean_squared_error (MSE):   0.0004600584499465389\n",
            "Mean_absolute_error (MAE):  0.008066532264418332\n",
            "''''''''''''''''''''''''''''''''''''''''''''''''''''''''''''\n",
            "''''''''''''''''''''''''''''''''''''''''''''''''''''''''''''\n",
            "MODEL: StackingRegressor with Grid hyperparameters\n",
            "R2:                         0.995961335871806\n",
            "Mean_squared_error (MSE):   0.0004569069232282836\n",
            "Mean_absolute_error (MAE):  0.007275605340159738\n",
            "''''''''''''''''''''''''''''''''''''''''''''''''''''''''''''\n"
          ]
        }
      ]
    },
    {
      "cell_type": "markdown",
      "source": [
        "# Висновок"
      ],
      "metadata": {
        "id": "MogzR3xSeC69"
      }
    },
    {
      "cell_type": "markdown",
      "source": [
        "Провів тести на 6 різних моделях з дефолтними гіперпараметрами + ті самі 6 з підібраними гіперпараметрами через GridSearch. З них 3 класифікатора та 3 регресора.\n",
        "\n",
        "**Балансування** класів не робив, тому що в цьому не було критичної необхідності, моделі і без того показують максимальний результат.\n",
        "\n",
        "**Масштабування** також не проводив, тому що в датасеті немає великого розбігу в фічах. Всі дані знаходяться в диапазоні від 0 до 100\n",
        "\n",
        "З класифікаторів, найкращі, стабільні, та МАКСИМАЛЬНІ (f1 score = 1) результати показали 4 з 6 моделей:\n",
        "1. RandomForestClassifier with Grid hyperparameters\n",
        "2. AdaBoostClassifier with Grid hyperparameters\n",
        "3. StackingClassifier with default hyperparameters\n",
        "4. StackingClassifier with Grid hyperparameters\n",
        "\n",
        "З регресорів найбільшого результату (R2 = 0.995, MSE та MAE ~ 0) досягли такі моделі, з різницею в тисячних долях:\n",
        "1. StackingRegressor with default hyperparameters\n",
        "2. StackingRegressor with Grid hyperparameters\n",
        "\n",
        "Варто відмітити що всі моделі \"StackingClassifier\" та \"StackingRegressor\" базуються на попередньо навчених вище моделях RandomForest та AdaBoost.\n",
        "\n",
        "Також, як можна побачити з тестів, майже завжди кращий результат показують моделі з \"підігнаними\" гіперпараметрами, так як дефолтні не можуть завжди підходити до будь-якого датасету. Варто завжди приділяти цьому увагу."
      ],
      "metadata": {
        "id": "PsCHS9u7eINn"
      }
    }
  ]
}